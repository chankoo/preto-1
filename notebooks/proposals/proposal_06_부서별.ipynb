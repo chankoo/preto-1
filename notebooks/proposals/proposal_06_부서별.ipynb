{
 "cells": [
  {
   "cell_type": "code",
   "execution_count": 2,
   "id": "9175108d",
   "metadata": {},
   "outputs": [
    {
     "data": {
      "application/vnd.plotly.v1+json": {
       "config": {
        "plotlyServerURL": "https://plot.ly"
       },
       "data": [
        {
         "colorscale": [
          [
           0,
           "rgb(247,251,255)"
          ],
          [
           0.125,
           "rgb(222,235,247)"
          ],
          [
           0.25,
           "rgb(198,219,239)"
          ],
          [
           0.375,
           "rgb(158,202,225)"
          ],
          [
           0.5,
           "rgb(107,174,214)"
          ],
          [
           0.625,
           "rgb(66,146,198)"
          ],
          [
           0.75,
           "rgb(33,113,181)"
          ],
          [
           0.875,
           "rgb(8,81,156)"
          ],
          [
           1,
           "rgb(8,48,107)"
          ]
         ],
         "connectgaps": false,
         "showscale": false,
         "text": [
          [
           "100%",
           "93%",
           "90%",
           "86%",
           "83%",
           "76%",
           "66%",
           "55%",
           "48%",
           "38%",
           "31%",
           "24%",
           "24%",
           "24%",
           "17%"
          ],
          [
           "100%",
           "85%",
           "80%",
           "78%",
           "75%",
           "68%",
           "60%",
           "55%",
           "48%",
           "47%",
           "42%",
           "38%",
           "35%",
           "28%",
           ""
          ],
          [
           "100%",
           "97%",
           "88%",
           "85%",
           "67%",
           "62%",
           "56%",
           "47%",
           "44%",
           "31%",
           "27%",
           "23%",
           "17%",
           "",
           ""
          ],
          [
           "100%",
           "92%",
           "88%",
           "77%",
           "65%",
           "60%",
           "53%",
           "48%",
           "47%",
           "38%",
           "38%",
           "30%",
           "",
           "",
           ""
          ],
          [
           "100%",
           "92%",
           "85%",
           "82%",
           "74%",
           "62%",
           "49%",
           "41%",
           "36%",
           "28%",
           "25%",
           "",
           "",
           "",
           ""
          ],
          [
           "100%",
           "91%",
           "88%",
           "80%",
           "79%",
           "74%",
           "65%",
           "58%",
           "44%",
           "38%",
           "",
           "",
           "",
           "",
           ""
          ],
          [
           "100%",
           "97%",
           "91%",
           "79%",
           "72%",
           "68%",
           "66%",
           "62%",
           "51%",
           "",
           "",
           "",
           "",
           "",
           ""
          ],
          [
           "100%",
           "98%",
           "95%",
           "91%",
           "83%",
           "75%",
           "63%",
           "57%",
           "",
           "",
           "",
           "",
           "",
           "",
           ""
          ],
          [
           "100%",
           "93%",
           "91%",
           "86%",
           "82%",
           "81%",
           "72%",
           "",
           "",
           "",
           "",
           "",
           "",
           "",
           ""
          ],
          [
           "100%",
           "99%",
           "86%",
           "75%",
           "68%",
           "64%",
           "",
           "",
           "",
           "",
           "",
           "",
           "",
           "",
           ""
          ],
          [
           "100%",
           "96%",
           "93%",
           "79%",
           "70%",
           "",
           "",
           "",
           "",
           "",
           "",
           "",
           "",
           "",
           ""
          ],
          [
           "100%",
           "94%",
           "90%",
           "85%",
           "",
           "",
           "",
           "",
           "",
           "",
           "",
           "",
           "",
           "",
           ""
          ],
          [
           "100%",
           "87%",
           "81%",
           "",
           "",
           "",
           "",
           "",
           "",
           "",
           "",
           "",
           "",
           "",
           ""
          ],
          [
           "100%",
           "90%",
           "",
           "",
           "",
           "",
           "",
           "",
           "",
           "",
           "",
           "",
           "",
           "",
           ""
          ],
          [
           "100%",
           "",
           "",
           "",
           "",
           "",
           "",
           "",
           "",
           "",
           "",
           "",
           "",
           "",
           ""
          ],
          [
           "",
           "",
           "",
           "",
           "",
           "",
           "",
           "",
           "",
           "",
           "",
           "",
           "",
           "",
           ""
          ]
         ],
         "texttemplate": "%{text}",
         "type": "heatmap",
         "visible": true,
         "x": [
          "0년차",
          "1년차",
          "2년차",
          "3년차",
          "4년차",
          "5년차",
          "6년차",
          "7년차",
          "8년차",
          "9년차",
          "10년차",
          "11년차",
          "12년차",
          "13년차",
          "14년차"
         ],
         "y": {
          "bdata": "2gfbB9wH3QfeB98H4AfhB+IH4wfkB+UH5gfnB+gH6Qc=",
          "dtype": "i2"
         },
         "z": {
          "bdata": "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",
          "dtype": "f8",
          "shape": "16, 15"
         }
        },
        {
         "colorscale": [
          [
           0,
           "rgb(247,251,255)"
          ],
          [
           0.125,
           "rgb(222,235,247)"
          ],
          [
           0.25,
           "rgb(198,219,239)"
          ],
          [
           0.375,
           "rgb(158,202,225)"
          ],
          [
           0.5,
           "rgb(107,174,214)"
          ],
          [
           0.625,
           "rgb(66,146,198)"
          ],
          [
           0.75,
           "rgb(33,113,181)"
          ],
          [
           0.875,
           "rgb(8,81,156)"
          ],
          [
           1,
           "rgb(8,48,107)"
          ]
         ],
         "connectgaps": false,
         "showscale": false,
         "text": [
          [
           "100%",
           "100%",
           "100%",
           "100%",
           "100%",
           "100%",
           "67%",
           "67%",
           "67%",
           "67%",
           "67%",
           "67%",
           "67%",
           "67%",
           "33%"
          ],
          [
           "100%",
           "77%",
           "62%",
           "62%",
           "62%",
           "54%",
           "46%",
           "38%",
           "31%",
           "31%",
           "23%",
           "23%",
           "23%",
           "23%",
           ""
          ],
          [
           "100%",
           "100%",
           "100%",
           "100%",
           "83%",
           "78%",
           "78%",
           "67%",
           "61%",
           "50%",
           "50%",
           "33%",
           "22%",
           "",
           ""
          ],
          [
           "100%",
           "85%",
           "85%",
           "69%",
           "62%",
           "54%",
           "38%",
           "31%",
           "31%",
           "31%",
           "31%",
           "15%",
           "",
           "",
           ""
          ],
          [
           "100%",
           "93%",
           "80%",
           "73%",
           "67%",
           "60%",
           "47%",
           "40%",
           "27%",
           "27%",
           "20%",
           "",
           "",
           "",
           ""
          ],
          [
           "100%",
           "94%",
           "82%",
           "82%",
           "82%",
           "82%",
           "76%",
           "59%",
           "41%",
           "41%",
           "",
           "",
           "",
           "",
           ""
          ],
          [
           "100%",
           "100%",
           "100%",
           "94%",
           "89%",
           "89%",
           "89%",
           "89%",
           "78%",
           "",
           "",
           "",
           "",
           "",
           ""
          ],
          [
           "100%",
           "100%",
           "100%",
           "100%",
           "100%",
           "100%",
           "100%",
           "88%",
           "",
           "",
           "",
           "",
           "",
           "",
           ""
          ],
          [
           "100%",
           "86%",
           "86%",
           "86%",
           "86%",
           "86%",
           "79%",
           "",
           "",
           "",
           "",
           "",
           "",
           "",
           ""
          ],
          [
           "100%",
           "100%",
           "100%",
           "80%",
           "80%",
           "73%",
           "",
           "",
           "",
           "",
           "",
           "",
           "",
           "",
           ""
          ],
          [
           "100%",
           "100%",
           "93%",
           "80%",
           "80%",
           "",
           "",
           "",
           "",
           "",
           "",
           "",
           "",
           "",
           ""
          ],
          [
           "100%",
           "83%",
           "83%",
           "83%",
           "",
           "",
           "",
           "",
           "",
           "",
           "",
           "",
           "",
           "",
           ""
          ],
          [
           "100%",
           "93%",
           "80%",
           "",
           "",
           "",
           "",
           "",
           "",
           "",
           "",
           "",
           "",
           "",
           ""
          ],
          [
           "100%",
           "94%",
           "",
           "",
           "",
           "",
           "",
           "",
           "",
           "",
           "",
           "",
           "",
           "",
           ""
          ],
          [
           "100%",
           "",
           "",
           "",
           "",
           "",
           "",
           "",
           "",
           "",
           "",
           "",
           "",
           "",
           ""
          ],
          [
           "",
           "",
           "",
           "",
           "",
           "",
           "",
           "",
           "",
           "",
           "",
           "",
           "",
           "",
           ""
          ]
         ],
         "texttemplate": "%{text}",
         "type": "heatmap",
         "visible": false,
         "x": [
          "0년차",
          "1년차",
          "2년차",
          "3년차",
          "4년차",
          "5년차",
          "6년차",
          "7년차",
          "8년차",
          "9년차",
          "10년차",
          "11년차",
          "12년차",
          "13년차",
          "14년차"
         ],
         "y": {
          "bdata": "2gfbB9wH3QfeB98H4AfhB+IH4wfkB+UH5gfnB+gH6Qc=",
          "dtype": "i2"
         },
         "z": {
          "bdata": "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",
          "dtype": "f8",
          "shape": "16, 15"
         }
        },
        {
         "colorscale": [
          [
           0,
           "rgb(247,251,255)"
          ],
          [
           0.125,
           "rgb(222,235,247)"
          ],
          [
           0.25,
           "rgb(198,219,239)"
          ],
          [
           0.375,
           "rgb(158,202,225)"
          ],
          [
           0.5,
           "rgb(107,174,214)"
          ],
          [
           0.625,
           "rgb(66,146,198)"
          ],
          [
           0.75,
           "rgb(33,113,181)"
          ],
          [
           0.875,
           "rgb(8,81,156)"
          ],
          [
           1,
           "rgb(8,48,107)"
          ]
         ],
         "connectgaps": false,
         "showscale": false,
         "text": [
          [
           "100%",
           "78%",
           "78%",
           "78%",
           "67%",
           "44%",
           "44%",
           "33%",
           "33%",
           "22%",
           "22%",
           "22%",
           "22%",
           "22%",
           "22%"
          ],
          [
           "100%",
           "79%",
           "79%",
           "71%",
           "71%",
           "64%",
           "57%",
           "57%",
           "50%",
           "50%",
           "43%",
           "43%",
           "36%",
           "21%",
           ""
          ],
          [
           "100%",
           "100%",
           "92%",
           "92%",
           "67%",
           "62%",
           "54%",
           "46%",
           "42%",
           "25%",
           "25%",
           "25%",
           "21%",
           "",
           ""
          ],
          [
           "100%",
           "89%",
           "84%",
           "74%",
           "63%",
           "58%",
           "53%",
           "53%",
           "47%",
           "32%",
           "32%",
           "26%",
           "",
           "",
           ""
          ],
          [
           "100%",
           "90%",
           "81%",
           "76%",
           "67%",
           "57%",
           "48%",
           "38%",
           "33%",
           "29%",
           "29%",
           "",
           "",
           "",
           ""
          ],
          [
           "100%",
           "88%",
           "88%",
           "71%",
           "71%",
           "59%",
           "47%",
           "47%",
           "41%",
           "41%",
           "",
           "",
           "",
           "",
           ""
          ],
          [
           "100%",
           "100%",
           "87%",
           "80%",
           "67%",
           "67%",
           "67%",
           "53%",
           "40%",
           "",
           "",
           "",
           "",
           "",
           ""
          ],
          [
           "100%",
           "100%",
           "95%",
           "95%",
           "84%",
           "74%",
           "53%",
           "53%",
           "",
           "",
           "",
           "",
           "",
           "",
           ""
          ],
          [
           "100%",
           "94%",
           "94%",
           "94%",
           "88%",
           "88%",
           "75%",
           "",
           "",
           "",
           "",
           "",
           "",
           "",
           ""
          ],
          [
           "100%",
           "100%",
           "83%",
           "71%",
           "67%",
           "62%",
           "",
           "",
           "",
           "",
           "",
           "",
           "",
           "",
           ""
          ],
          [
           "100%",
           "93%",
           "93%",
           "64%",
           "43%",
           "",
           "",
           "",
           "",
           "",
           "",
           "",
           "",
           "",
           ""
          ],
          [
           "100%",
           "94%",
           "82%",
           "82%",
           "",
           "",
           "",
           "",
           "",
           "",
           "",
           "",
           "",
           "",
           ""
          ],
          [
           "100%",
           "95%",
           "85%",
           "",
           "",
           "",
           "",
           "",
           "",
           "",
           "",
           "",
           "",
           "",
           ""
          ],
          [
           "100%",
           "82%",
           "",
           "",
           "",
           "",
           "",
           "",
           "",
           "",
           "",
           "",
           "",
           "",
           ""
          ],
          [
           "100%",
           "",
           "",
           "",
           "",
           "",
           "",
           "",
           "",
           "",
           "",
           "",
           "",
           "",
           ""
          ],
          [
           "",
           "",
           "",
           "",
           "",
           "",
           "",
           "",
           "",
           "",
           "",
           "",
           "",
           "",
           ""
          ]
         ],
         "texttemplate": "%{text}",
         "type": "heatmap",
         "visible": false,
         "x": [
          "0년차",
          "1년차",
          "2년차",
          "3년차",
          "4년차",
          "5년차",
          "6년차",
          "7년차",
          "8년차",
          "9년차",
          "10년차",
          "11년차",
          "12년차",
          "13년차",
          "14년차"
         ],
         "y": {
          "bdata": "2gfbB9wH3QfeB98H4AfhB+IH4wfkB+UH5gfnB+gH6Qc=",
          "dtype": "i2"
         },
         "z": {
          "bdata": "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",
          "dtype": "f8",
          "shape": "16, 15"
         }
        },
        {
         "colorscale": [
          [
           0,
           "rgb(247,251,255)"
          ],
          [
           0.125,
           "rgb(222,235,247)"
          ],
          [
           0.25,
           "rgb(198,219,239)"
          ],
          [
           0.375,
           "rgb(158,202,225)"
          ],
          [
           0.5,
           "rgb(107,174,214)"
          ],
          [
           0.625,
           "rgb(66,146,198)"
          ],
          [
           0.75,
           "rgb(33,113,181)"
          ],
          [
           0.875,
           "rgb(8,81,156)"
          ],
          [
           1,
           "rgb(8,48,107)"
          ]
         ],
         "connectgaps": false,
         "showscale": false,
         "text": [
          [
           "100%",
           "100%",
           "89%",
           "78%",
           "78%",
           "78%",
           "78%",
           "67%",
           "56%",
           "33%",
           "22%",
           "11%",
           "11%",
           "11%",
           "11%"
          ],
          [
           "100%",
           "81%",
           "81%",
           "81%",
           "69%",
           "69%",
           "69%",
           "62%",
           "50%",
           "50%",
           "44%",
           "31%",
           "31%",
           "25%",
           ""
          ],
          [
           "100%",
           "93%",
           "73%",
           "73%",
           "60%",
           "60%",
           "53%",
           "47%",
           "40%",
           "33%",
           "27%",
           "27%",
           "13%",
           "",
           ""
          ],
          [
           "100%",
           "100%",
           "90%",
           "90%",
           "70%",
           "70%",
           "60%",
           "60%",
           "60%",
           "50%",
           "50%",
           "40%",
           "",
           "",
           ""
          ],
          [
           "100%",
           "93%",
           "93%",
           "93%",
           "79%",
           "71%",
           "57%",
           "50%",
           "50%",
           "29%",
           "21%",
           "",
           "",
           "",
           ""
          ],
          [
           "100%",
           "84%",
           "84%",
           "79%",
           "79%",
           "79%",
           "74%",
           "68%",
           "53%",
           "37%",
           "",
           "",
           "",
           "",
           ""
          ],
          [
           "100%",
           "88%",
           "76%",
           "59%",
           "53%",
           "47%",
           "41%",
           "35%",
           "29%",
           "",
           "",
           "",
           "",
           "",
           ""
          ],
          [
           "100%",
           "90%",
           "90%",
           "90%",
           "80%",
           "70%",
           "60%",
           "60%",
           "",
           "",
           "",
           "",
           "",
           "",
           ""
          ],
          [
           "100%",
           "100%",
           "100%",
           "88%",
           "82%",
           "82%",
           "71%",
           "",
           "",
           "",
           "",
           "",
           "",
           "",
           ""
          ],
          [
           "100%",
           "100%",
           "81%",
           "75%",
           "56%",
           "56%",
           "",
           "",
           "",
           "",
           "",
           "",
           "",
           "",
           ""
          ],
          [
           "100%",
           "92%",
           "92%",
           "77%",
           "69%",
           "",
           "",
           "",
           "",
           "",
           "",
           "",
           "",
           "",
           ""
          ],
          [
           "100%",
           "100%",
           "100%",
           "91%",
           "",
           "",
           "",
           "",
           "",
           "",
           "",
           "",
           "",
           "",
           ""
          ],
          [
           "100%",
           "88%",
           "88%",
           "",
           "",
           "",
           "",
           "",
           "",
           "",
           "",
           "",
           "",
           "",
           ""
          ],
          [
           "100%",
           "90%",
           "",
           "",
           "",
           "",
           "",
           "",
           "",
           "",
           "",
           "",
           "",
           "",
           ""
          ],
          [
           "100%",
           "",
           "",
           "",
           "",
           "",
           "",
           "",
           "",
           "",
           "",
           "",
           "",
           "",
           ""
          ],
          [
           "",
           "",
           "",
           "",
           "",
           "",
           "",
           "",
           "",
           "",
           "",
           "",
           "",
           "",
           ""
          ]
         ],
         "texttemplate": "%{text}",
         "type": "heatmap",
         "visible": false,
         "x": [
          "0년차",
          "1년차",
          "2년차",
          "3년차",
          "4년차",
          "5년차",
          "6년차",
          "7년차",
          "8년차",
          "9년차",
          "10년차",
          "11년차",
          "12년차",
          "13년차",
          "14년차"
         ],
         "y": {
          "bdata": "2gfbB9wH3QfeB98H4AfhB+IH4wfkB+UH5gfnB+gH6Qc=",
          "dtype": "i2"
         },
         "z": {
          "bdata": "AAAAAAAAWUAAAAAAAABZQI7jOI7jOFZAHcdxHMdxU0Adx3Ecx3FTQB3HcRzHcVNAHcdxHMdxU0CqqqqqqqpQQHIcx3Ecx0tAqqqqqqqqQECO4ziO4zg2QI7jOI7jOCZAjuM4juM4JkCO4ziO4zgmQI7jOI7jOCZAAAAAAAAAWUAAAAAAAFBUQAAAAAAAUFRAAAAAAABQVEAAAAAAADBRQAAAAAAAMFFAAAAAAAAwUUAAAAAAAEBPQAAAAAAAAElAAAAAAAAASUAAAAAAAOBFQAAAAAAAQD9AAAAAAABAP0AAAAAAAAA5QAAAAAAAAPh/AAAAAAAAWUBVVVVVVVVXQFVVVVVVVVJAVVVVVVVVUkAAAAAAAABOQAAAAAAAAE5Aq6qqqqqqSkBVVVVVVVVHQAAAAAAAAERAqqqqqqqqQECrqqqqqqo6QKuqqqqqqjpAq6qqqqqqKkAAAAAAAAD4fwAAAAAAAPh/AAAAAAAAWUAAAAAAAABZQAAAAAAAgFZAAAAAAACAVkAAAAAAAIBRQAAAAAAAgFFAAAAAAAAATkAAAAAAAABOQAAAAAAAAE5AAAAAAAAASUAAAAAAAABJQAAAAAAAAERAAAAAAAAA+H8AAAAAAAD4fwAAAAAAAPh/AAAAAAAAWUBu27Zt2zZXQG7btm3bNldAbtu2bds2V0BJkiRJkqRTQLdt27Zt21FAJEmSJEmSTEAAAAAAAABJQAAAAAAAAElAJEmSJEmSPEDbtm3btm01QAAAAAAAAPh/AAAAAAAA+H8AAAAAAAD4fwAAAAAAAPh/AAAAAAAAWUDXUF5DeQ1VQNdQXkN5DVVAymsor6G8U0DKayivobxTQMprKK+hvFNAvIbyGsprUkCvobyG8hpRQA3lNZTXUEpAvIbyGsprQkAAAAAAAAD4fwAAAAAAAPh/AAAAAAAA+H8AAAAAAAD4fwAAAAAAAPh/AAAAAAAAWUAPDw8PDw9WQB4eHh4eHlNAamlpaWlpTUB5eHh4eHhKQIeHh4eHh0dAlpaWlpaWRECmpaWlpaVBQGppaWlpaT1AAAAAAAAA+H8AAAAAAAD4fwAAAAAAAPh/AAAAAAAA+H8AAAAAAAD4fwAAAAAAAPh/AAAAAAAAWUAAAAAAAIBWQAAAAAAAgFZAAAAAAACAVkAAAAAAAABUQAAAAAAAgFFAAAAAAAAATkAAAAAAAABOQAAAAAAAAPh/AAAAAAAA+H8AAAAAAAD4fwAAAAAAAPh/AAAAAAAA+H8AAAAAAAD4fwAAAAAAAPh/AAAAAAAAWUAAAAAAAABZQAAAAAAAAFlADw8PDw8PVkCWlpaWlpZUQJaWlpaWllRApqWlpaWlUUAAAAAAAAD4fwAAAAAAAPh/AAAAAAAA+H8AAAAAAAD4fwAAAAAAAPh/AAAAAAAA+H8AAAAAAAD4fwAAAAAAAPh/AAAAAAAAWUAAAAAAAABZQAAAAAAAUFRAAAAAAADAUkAAAAAAACBMQAAAAAAAIExAAAAAAAAA+H8AAAAAAAD4fwAAAAAAAPh/AAAAAAAA+H8AAAAAAAD4fwAAAAAAAPh/AAAAAAAA+H8AAAAAAAD4fwAAAAAAAPh/AAAAAAAAWUA7sRM7sRNXQDuxEzuxE1dAshM7sRM7U0DsxE7sxE5RQAAAAAAAAPh/AAAAAAAA+H8AAAAAAAD4fwAAAAAAAPh/AAAAAAAA+H8AAAAAAAD4fwAAAAAAAPh/AAAAAAAA+H8AAAAAAAD4fwAAAAAAAPh/AAAAAAAAWUAAAAAAAABZQAAAAAAAAFlAuuiiiy66VkAAAAAAAAD4fwAAAAAAAPh/AAAAAAAA+H8AAAAAAAD4fwAAAAAAAPh/AAAAAAAA+H8AAAAAAAD4fwAAAAAAAPh/AAAAAAAA+H8AAAAAAAD4fwAAAAAAAPh/AAAAAAAAWUAAAAAAAOBVQAAAAAAA4FVAAAAAAAAA+H8AAAAAAAD4fwAAAAAAAPh/AAAAAAAA+H8AAAAAAAD4fwAAAAAAAPh/AAAAAAAA+H8AAAAAAAD4fwAAAAAAAPh/AAAAAAAA+H8AAAAAAAD4fwAAAAAAAPh/AAAAAAAAWUAAAAAAAIBWQAAAAAAAAPh/AAAAAAAA+H8AAAAAAAD4fwAAAAAAAPh/AAAAAAAA+H8AAAAAAAD4fwAAAAAAAPh/AAAAAAAA+H8AAAAAAAD4fwAAAAAAAPh/AAAAAAAA+H8AAAAAAAD4fwAAAAAAAPh/AAAAAAAAWUAAAAAAAAD4fwAAAAAAAPh/AAAAAAAA+H8AAAAAAAD4fwAAAAAAAPh/AAAAAAAA+H8AAAAAAAD4fwAAAAAAAPh/AAAAAAAA+H8AAAAAAAD4fwAAAAAAAPh/AAAAAAAA+H8AAAAAAAD4fwAAAAAAAPh/AAAAAAAA+H8AAAAAAAD4fwAAAAAAAPh/AAAAAAAA+H8AAAAAAAD4fwAAAAAAAPh/AAAAAAAA+H8AAAAAAAD4fwAAAAAAAPh/AAAAAAAA+H8AAAAAAAD4fwAAAAAAAPh/AAAAAAAA+H8AAAAAAAD4fwAAAAAAAPh/",
          "dtype": "f8",
          "shape": "16, 15"
         }
        },
        {
         "colorscale": [
          [
           0,
           "rgb(247,251,255)"
          ],
          [
           0.125,
           "rgb(222,235,247)"
          ],
          [
           0.25,
           "rgb(198,219,239)"
          ],
          [
           0.375,
           "rgb(158,202,225)"
          ],
          [
           0.5,
           "rgb(107,174,214)"
          ],
          [
           0.625,
           "rgb(66,146,198)"
          ],
          [
           0.75,
           "rgb(33,113,181)"
          ],
          [
           0.875,
           "rgb(8,81,156)"
          ],
          [
           1,
           "rgb(8,48,107)"
          ]
         ],
         "connectgaps": false,
         "showscale": false,
         "text": [
          [
           "100%",
           "100%",
           "100%",
           "100%",
           "100%",
           "100%",
           "75%",
           "62%",
           "50%",
           "50%",
           "38%",
           "25%",
           "25%",
           "25%",
           "12%"
          ],
          [
           "100%",
           "100%",
           "94%",
           "94%",
           "94%",
           "82%",
           "65%",
           "59%",
           "59%",
           "53%",
           "53%",
           "53%",
           "47%",
           "41%",
           ""
          ],
          [
           "100%",
           "95%",
           "86%",
           "71%",
           "57%",
           "48%",
           "43%",
           "33%",
           "33%",
           "19%",
           "10%",
           "10%",
           "10%",
           "",
           ""
          ],
          [
           "100%",
           "94%",
           "94%",
           "78%",
           "67%",
           "61%",
           "61%",
           "50%",
           "50%",
           "44%",
           "44%",
           "39%",
           "",
           "",
           ""
          ],
          [
           "100%",
           "91%",
           "91%",
           "91%",
           "91%",
           "64%",
           "45%",
           "36%",
           "36%",
           "27%",
           "27%",
           "",
           "",
           "",
           ""
          ],
          [
           "100%",
           "100%",
           "100%",
           "92%",
           "85%",
           "77%",
           "62%",
           "54%",
           "38%",
           "31%",
           "",
           "",
           "",
           "",
           ""
          ],
          [
           "100%",
           "100%",
           "100%",
           "83%",
           "78%",
           "67%",
           "67%",
           "67%",
           "56%",
           "",
           "",
           "",
           "",
           "",
           ""
          ],
          [
           "100%",
           "100%",
           "95%",
           "80%",
           "70%",
           "60%",
           "45%",
           "35%",
           "",
           "",
           "",
           "",
           "",
           "",
           ""
          ],
          [
           "100%",
           "90%",
           "80%",
           "70%",
           "70%",
           "60%",
           "60%",
           "",
           "",
           "",
           "",
           "",
           "",
           "",
           ""
          ],
          [
           "100%",
           "94%",
           "83%",
           "78%",
           "72%",
           "67%",
           "",
           "",
           "",
           "",
           "",
           "",
           "",
           "",
           ""
          ],
          [
           "100%",
           "100%",
           "93%",
           "93%",
           "87%",
           "",
           "",
           "",
           "",
           "",
           "",
           "",
           "",
           "",
           ""
          ],
          [
           "100%",
           "94%",
           "88%",
           "81%",
           "",
           "",
           "",
           "",
           "",
           "",
           "",
           "",
           "",
           "",
           ""
          ],
          [
           "100%",
           "74%",
           "74%",
           "",
           "",
           "",
           "",
           "",
           "",
           "",
           "",
           "",
           "",
           "",
           ""
          ],
          [
           "100%",
           "94%",
           "",
           "",
           "",
           "",
           "",
           "",
           "",
           "",
           "",
           "",
           "",
           "",
           ""
          ],
          [
           "100%",
           "",
           "",
           "",
           "",
           "",
           "",
           "",
           "",
           "",
           "",
           "",
           "",
           "",
           ""
          ],
          [
           "",
           "",
           "",
           "",
           "",
           "",
           "",
           "",
           "",
           "",
           "",
           "",
           "",
           "",
           ""
          ]
         ],
         "texttemplate": "%{text}",
         "type": "heatmap",
         "visible": false,
         "x": [
          "0년차",
          "1년차",
          "2년차",
          "3년차",
          "4년차",
          "5년차",
          "6년차",
          "7년차",
          "8년차",
          "9년차",
          "10년차",
          "11년차",
          "12년차",
          "13년차",
          "14년차"
         ],
         "y": {
          "bdata": "2gfbB9wH3QfeB98H4AfhB+IH4wfkB+UH5gfnB+gH6Qc=",
          "dtype": "i2"
         },
         "z": {
          "bdata": "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",
          "dtype": "f8",
          "shape": "16, 15"
         }
        }
       ],
       "layout": {
        "annotations": [
         {
          "align": "left",
          "showarrow": false,
          "text": "조직 선택:",
          "x": 0,
          "y": 1.08,
          "yref": "paper"
         }
        ],
        "font": {
         "size": 14
        },
        "height": 700,
        "template": {
         "data": {
          "bar": [
           {
            "error_x": {
             "color": "#2a3f5f"
            },
            "error_y": {
             "color": "#2a3f5f"
            },
            "marker": {
             "line": {
              "color": "#E5ECF6",
              "width": 0.5
             },
             "pattern": {
              "fillmode": "overlay",
              "size": 10,
              "solidity": 0.2
             }
            },
            "type": "bar"
           }
          ],
          "barpolar": [
           {
            "marker": {
             "line": {
              "color": "#E5ECF6",
              "width": 0.5
             },
             "pattern": {
              "fillmode": "overlay",
              "size": 10,
              "solidity": 0.2
             }
            },
            "type": "barpolar"
           }
          ],
          "carpet": [
           {
            "aaxis": {
             "endlinecolor": "#2a3f5f",
             "gridcolor": "white",
             "linecolor": "white",
             "minorgridcolor": "white",
             "startlinecolor": "#2a3f5f"
            },
            "baxis": {
             "endlinecolor": "#2a3f5f",
             "gridcolor": "white",
             "linecolor": "white",
             "minorgridcolor": "white",
             "startlinecolor": "#2a3f5f"
            },
            "type": "carpet"
           }
          ],
          "choropleth": [
           {
            "colorbar": {
             "outlinewidth": 0,
             "ticks": ""
            },
            "type": "choropleth"
           }
          ],
          "contour": [
           {
            "colorbar": {
             "outlinewidth": 0,
             "ticks": ""
            },
            "colorscale": [
             [
              0,
              "#0d0887"
             ],
             [
              0.1111111111111111,
              "#46039f"
             ],
             [
              0.2222222222222222,
              "#7201a8"
             ],
             [
              0.3333333333333333,
              "#9c179e"
             ],
             [
              0.4444444444444444,
              "#bd3786"
             ],
             [
              0.5555555555555556,
              "#d8576b"
             ],
             [
              0.6666666666666666,
              "#ed7953"
             ],
             [
              0.7777777777777778,
              "#fb9f3a"
             ],
             [
              0.8888888888888888,
              "#fdca26"
             ],
             [
              1,
              "#f0f921"
             ]
            ],
            "type": "contour"
           }
          ],
          "contourcarpet": [
           {
            "colorbar": {
             "outlinewidth": 0,
             "ticks": ""
            },
            "type": "contourcarpet"
           }
          ],
          "heatmap": [
           {
            "colorbar": {
             "outlinewidth": 0,
             "ticks": ""
            },
            "colorscale": [
             [
              0,
              "#0d0887"
             ],
             [
              0.1111111111111111,
              "#46039f"
             ],
             [
              0.2222222222222222,
              "#7201a8"
             ],
             [
              0.3333333333333333,
              "#9c179e"
             ],
             [
              0.4444444444444444,
              "#bd3786"
             ],
             [
              0.5555555555555556,
              "#d8576b"
             ],
             [
              0.6666666666666666,
              "#ed7953"
             ],
             [
              0.7777777777777778,
              "#fb9f3a"
             ],
             [
              0.8888888888888888,
              "#fdca26"
             ],
             [
              1,
              "#f0f921"
             ]
            ],
            "type": "heatmap"
           }
          ],
          "histogram": [
           {
            "marker": {
             "pattern": {
              "fillmode": "overlay",
              "size": 10,
              "solidity": 0.2
             }
            },
            "type": "histogram"
           }
          ],
          "histogram2d": [
           {
            "colorbar": {
             "outlinewidth": 0,
             "ticks": ""
            },
            "colorscale": [
             [
              0,
              "#0d0887"
             ],
             [
              0.1111111111111111,
              "#46039f"
             ],
             [
              0.2222222222222222,
              "#7201a8"
             ],
             [
              0.3333333333333333,
              "#9c179e"
             ],
             [
              0.4444444444444444,
              "#bd3786"
             ],
             [
              0.5555555555555556,
              "#d8576b"
             ],
             [
              0.6666666666666666,
              "#ed7953"
             ],
             [
              0.7777777777777778,
              "#fb9f3a"
             ],
             [
              0.8888888888888888,
              "#fdca26"
             ],
             [
              1,
              "#f0f921"
             ]
            ],
            "type": "histogram2d"
           }
          ],
          "histogram2dcontour": [
           {
            "colorbar": {
             "outlinewidth": 0,
             "ticks": ""
            },
            "colorscale": [
             [
              0,
              "#0d0887"
             ],
             [
              0.1111111111111111,
              "#46039f"
             ],
             [
              0.2222222222222222,
              "#7201a8"
             ],
             [
              0.3333333333333333,
              "#9c179e"
             ],
             [
              0.4444444444444444,
              "#bd3786"
             ],
             [
              0.5555555555555556,
              "#d8576b"
             ],
             [
              0.6666666666666666,
              "#ed7953"
             ],
             [
              0.7777777777777778,
              "#fb9f3a"
             ],
             [
              0.8888888888888888,
              "#fdca26"
             ],
             [
              1,
              "#f0f921"
             ]
            ],
            "type": "histogram2dcontour"
           }
          ],
          "mesh3d": [
           {
            "colorbar": {
             "outlinewidth": 0,
             "ticks": ""
            },
            "type": "mesh3d"
           }
          ],
          "parcoords": [
           {
            "line": {
             "colorbar": {
              "outlinewidth": 0,
              "ticks": ""
             }
            },
            "type": "parcoords"
           }
          ],
          "pie": [
           {
            "automargin": true,
            "type": "pie"
           }
          ],
          "scatter": [
           {
            "fillpattern": {
             "fillmode": "overlay",
             "size": 10,
             "solidity": 0.2
            },
            "type": "scatter"
           }
          ],
          "scatter3d": [
           {
            "line": {
             "colorbar": {
              "outlinewidth": 0,
              "ticks": ""
             }
            },
            "marker": {
             "colorbar": {
              "outlinewidth": 0,
              "ticks": ""
             }
            },
            "type": "scatter3d"
           }
          ],
          "scattercarpet": [
           {
            "marker": {
             "colorbar": {
              "outlinewidth": 0,
              "ticks": ""
             }
            },
            "type": "scattercarpet"
           }
          ],
          "scattergeo": [
           {
            "marker": {
             "colorbar": {
              "outlinewidth": 0,
              "ticks": ""
             }
            },
            "type": "scattergeo"
           }
          ],
          "scattergl": [
           {
            "marker": {
             "colorbar": {
              "outlinewidth": 0,
              "ticks": ""
             }
            },
            "type": "scattergl"
           }
          ],
          "scattermap": [
           {
            "marker": {
             "colorbar": {
              "outlinewidth": 0,
              "ticks": ""
             }
            },
            "type": "scattermap"
           }
          ],
          "scattermapbox": [
           {
            "marker": {
             "colorbar": {
              "outlinewidth": 0,
              "ticks": ""
             }
            },
            "type": "scattermapbox"
           }
          ],
          "scatterpolar": [
           {
            "marker": {
             "colorbar": {
              "outlinewidth": 0,
              "ticks": ""
             }
            },
            "type": "scatterpolar"
           }
          ],
          "scatterpolargl": [
           {
            "marker": {
             "colorbar": {
              "outlinewidth": 0,
              "ticks": ""
             }
            },
            "type": "scatterpolargl"
           }
          ],
          "scatterternary": [
           {
            "marker": {
             "colorbar": {
              "outlinewidth": 0,
              "ticks": ""
             }
            },
            "type": "scatterternary"
           }
          ],
          "surface": [
           {
            "colorbar": {
             "outlinewidth": 0,
             "ticks": ""
            },
            "colorscale": [
             [
              0,
              "#0d0887"
             ],
             [
              0.1111111111111111,
              "#46039f"
             ],
             [
              0.2222222222222222,
              "#7201a8"
             ],
             [
              0.3333333333333333,
              "#9c179e"
             ],
             [
              0.4444444444444444,
              "#bd3786"
             ],
             [
              0.5555555555555556,
              "#d8576b"
             ],
             [
              0.6666666666666666,
              "#ed7953"
             ],
             [
              0.7777777777777778,
              "#fb9f3a"
             ],
             [
              0.8888888888888888,
              "#fdca26"
             ],
             [
              1,
              "#f0f921"
             ]
            ],
            "type": "surface"
           }
          ],
          "table": [
           {
            "cells": {
             "fill": {
              "color": "#EBF0F8"
             },
             "line": {
              "color": "white"
             }
            },
            "header": {
             "fill": {
              "color": "#C8D4E3"
             },
             "line": {
              "color": "white"
             }
            },
            "type": "table"
           }
          ]
         },
         "layout": {
          "annotationdefaults": {
           "arrowcolor": "#2a3f5f",
           "arrowhead": 0,
           "arrowwidth": 1
          },
          "autotypenumbers": "strict",
          "coloraxis": {
           "colorbar": {
            "outlinewidth": 0,
            "ticks": ""
           }
          },
          "colorscale": {
           "diverging": [
            [
             0,
             "#8e0152"
            ],
            [
             0.1,
             "#c51b7d"
            ],
            [
             0.2,
             "#de77ae"
            ],
            [
             0.3,
             "#f1b6da"
            ],
            [
             0.4,
             "#fde0ef"
            ],
            [
             0.5,
             "#f7f7f7"
            ],
            [
             0.6,
             "#e6f5d0"
            ],
            [
             0.7,
             "#b8e186"
            ],
            [
             0.8,
             "#7fbc41"
            ],
            [
             0.9,
             "#4d9221"
            ],
            [
             1,
             "#276419"
            ]
           ],
           "sequential": [
            [
             0,
             "#0d0887"
            ],
            [
             0.1111111111111111,
             "#46039f"
            ],
            [
             0.2222222222222222,
             "#7201a8"
            ],
            [
             0.3333333333333333,
             "#9c179e"
            ],
            [
             0.4444444444444444,
             "#bd3786"
            ],
            [
             0.5555555555555556,
             "#d8576b"
            ],
            [
             0.6666666666666666,
             "#ed7953"
            ],
            [
             0.7777777777777778,
             "#fb9f3a"
            ],
            [
             0.8888888888888888,
             "#fdca26"
            ],
            [
             1,
             "#f0f921"
            ]
           ],
           "sequentialminus": [
            [
             0,
             "#0d0887"
            ],
            [
             0.1111111111111111,
             "#46039f"
            ],
            [
             0.2222222222222222,
             "#7201a8"
            ],
            [
             0.3333333333333333,
             "#9c179e"
            ],
            [
             0.4444444444444444,
             "#bd3786"
            ],
            [
             0.5555555555555556,
             "#d8576b"
            ],
            [
             0.6666666666666666,
             "#ed7953"
            ],
            [
             0.7777777777777778,
             "#fb9f3a"
            ],
            [
             0.8888888888888888,
             "#fdca26"
            ],
            [
             1,
             "#f0f921"
            ]
           ]
          },
          "colorway": [
           "#636efa",
           "#EF553B",
           "#00cc96",
           "#ab63fa",
           "#FFA15A",
           "#19d3f3",
           "#FF6692",
           "#B6E880",
           "#FF97FF",
           "#FECB52"
          ],
          "font": {
           "color": "#2a3f5f"
          },
          "geo": {
           "bgcolor": "white",
           "lakecolor": "white",
           "landcolor": "#E5ECF6",
           "showlakes": true,
           "showland": true,
           "subunitcolor": "white"
          },
          "hoverlabel": {
           "align": "left"
          },
          "hovermode": "closest",
          "mapbox": {
           "style": "light"
          },
          "paper_bgcolor": "white",
          "plot_bgcolor": "#E5ECF6",
          "polar": {
           "angularaxis": {
            "gridcolor": "white",
            "linecolor": "white",
            "ticks": ""
           },
           "bgcolor": "#E5ECF6",
           "radialaxis": {
            "gridcolor": "white",
            "linecolor": "white",
            "ticks": ""
           }
          },
          "scene": {
           "xaxis": {
            "backgroundcolor": "#E5ECF6",
            "gridcolor": "white",
            "gridwidth": 2,
            "linecolor": "white",
            "showbackground": true,
            "ticks": "",
            "zerolinecolor": "white"
           },
           "yaxis": {
            "backgroundcolor": "#E5ECF6",
            "gridcolor": "white",
            "gridwidth": 2,
            "linecolor": "white",
            "showbackground": true,
            "ticks": "",
            "zerolinecolor": "white"
           },
           "zaxis": {
            "backgroundcolor": "#E5ECF6",
            "gridcolor": "white",
            "gridwidth": 2,
            "linecolor": "white",
            "showbackground": true,
            "ticks": "",
            "zerolinecolor": "white"
           }
          },
          "shapedefaults": {
           "line": {
            "color": "#2a3f5f"
           }
          },
          "ternary": {
           "aaxis": {
            "gridcolor": "white",
            "linecolor": "white",
            "ticks": ""
           },
           "baxis": {
            "gridcolor": "white",
            "linecolor": "white",
            "ticks": ""
           },
           "bgcolor": "#E5ECF6",
           "caxis": {
            "gridcolor": "white",
            "linecolor": "white",
            "ticks": ""
           }
          },
          "title": {
           "x": 0.05
          },
          "xaxis": {
           "automargin": true,
           "gridcolor": "white",
           "linecolor": "white",
           "ticks": "",
           "title": {
            "standoff": 15
           },
           "zerolinecolor": "white",
           "zerolinewidth": 2
          },
          "yaxis": {
           "automargin": true,
           "gridcolor": "white",
           "linecolor": "white",
           "ticks": "",
           "title": {
            "standoff": 15
           },
           "zerolinecolor": "white",
           "zerolinewidth": 2
          }
         }
        },
        "title": {
         "text": "입사 연도별 잔존율 코호트 분석"
        },
        "updatemenus": [
         {
          "active": 0,
          "buttons": [
           {
            "args": [
             {
              "visible": [
               true,
               false,
               false,
               false,
               false
              ]
             }
            ],
            "label": "전체",
            "method": "update"
           },
           {
            "args": [
             {
              "visible": [
               false,
               true,
               false,
               false,
               false
              ]
             }
            ],
            "label": "Planning Division",
            "method": "update"
           },
           {
            "args": [
             {
              "visible": [
               false,
               false,
               true,
               false,
               false
              ]
             }
            ],
            "label": "Sales Division",
            "method": "update"
           },
           {
            "args": [
             {
              "visible": [
               false,
               false,
               false,
               true,
               false
              ]
             }
            ],
            "label": "Development Division",
            "method": "update"
           },
           {
            "args": [
             {
              "visible": [
               false,
               false,
               false,
               false,
               true
              ]
             }
            ],
            "label": "Operating Division",
            "method": "update"
           }
          ],
          "direction": "down",
          "pad": {
           "r": 10,
           "t": 10
          },
          "showactive": true,
          "x": 0.01,
          "xanchor": "left",
          "y": 1.1,
          "yanchor": "top"
         }
        ],
        "xaxis": {
         "title": {
          "text": "근속년수"
         }
        },
        "yaxis": {
         "title": {
          "text": "입사 연도 (코호트)"
         }
        }
       }
      }
     },
     "metadata": {},
     "output_type": "display_data"
    }
   ],
   "source": [
    "import pandas as pd\n",
    "import numpy as np\n",
    "import plotly.graph_objects as go\n",
    "import plotly.io as pio\n",
    "import datetime\n",
    "\n",
    "# --- 1. 데이터 임포트 ---\n",
    "from services.tables.HR_Core.basic_info_table import emp_df\n",
    "from services.tables.HR_Core.department_info_table import department_info_df\n",
    "from services.tables.HR_Core.department_table import division_order, dept_level_map, parent_map_dept, dept_name_map\n",
    "from services.helpers.utils import find_division_name_for_dept\n",
    "\n",
    "def create_cohort_data(df):\n",
    "    \"\"\"\n",
    "    주어진 데이터프레임에 대한 코호트 데이터를 생성합니다.\n",
    "    \"\"\"\n",
    "    df = df.copy()\n",
    "    if df.empty:\n",
    "        return pd.DataFrame()\n",
    "\n",
    "    today = datetime.datetime.now()\n",
    "\n",
    "    df['HIRE_YEAR'] = df['IN_DATE'].dt.year\n",
    "    df['TENURE_YEAR_INDEX'] = np.floor(\n",
    "        (df['OUT_DATE'].fillna(pd.to_datetime(today)) - df['IN_DATE']).dt.days / 365.25\n",
    "    ).astype(int)\n",
    "\n",
    "    cohort_data_list = []\n",
    "    for _, row in df.iterrows():\n",
    "        if pd.isna(row['HIRE_YEAR']) or pd.isna(row['TENURE_YEAR_INDEX']): continue\n",
    "        for i in range(row['TENURE_YEAR_INDEX'] + 1):\n",
    "            cohort_data_list.append({\n",
    "                'HIRE_YEAR': int(row['HIRE_YEAR']), 'TENURE_YEAR': i, 'EMP_ID': row['EMP_ID']\n",
    "            })\n",
    "\n",
    "    if not cohort_data_list: return pd.DataFrame()\n",
    "\n",
    "    cohort_df = pd.DataFrame(cohort_data_list)\n",
    "    cohort_counts = cohort_df.groupby(['HIRE_YEAR', 'TENURE_YEAR'])['EMP_ID'].nunique().unstack()\n",
    "\n",
    "    cohort_sizes = cohort_counts.iloc[:, 0]\n",
    "    cohort_retention = cohort_counts.divide(cohort_sizes, axis=0) * 100\n",
    "\n",
    "    current_year = today.year\n",
    "    for hire_year in cohort_retention.index:\n",
    "        max_completed_tenure = current_year - hire_year - 1\n",
    "        cohort_retention.loc[hire_year, cohort_retention.columns > max_completed_tenure] = np.nan\n",
    "\n",
    "    return cohort_retention\n",
    "\n",
    "def create_figure():\n",
    "    \"\"\"\n",
    "    제안 6: 입사 연도별 잔존율 코호트 분석 그래프를 생성합니다.\n",
    "    \"\"\"\n",
    "    # --- 2. 데이터 준비 및 가공 ---\n",
    "    first_dept = department_info_df.sort_values('DEP_APP_START_DATE').groupby('EMP_ID').first().reset_index()\n",
    "    first_dept['DIVISION_NAME'] = first_dept['DEP_ID'].apply(lambda x: find_division_name_for_dept(x, dept_level_map, parent_map_dept, dept_name_map))\n",
    "    \n",
    "    analysis_df = emp_df[['EMP_ID', 'IN_DATE', 'OUT_DATE']].copy()\n",
    "    analysis_df = pd.merge(analysis_df, first_dept[['EMP_ID', 'DIVISION_NAME']], on='EMP_ID', how='left')\n",
    "    analysis_df = analysis_df.dropna(subset=['DIVISION_NAME'])\n",
    "\n",
    "    # --- 3. Plotly 인터랙티브 그래프 생성 ---\n",
    "    fig = go.Figure()\n",
    "    division_list = ['전체'] + division_order\n",
    "\n",
    "    cohort_data_map = {}\n",
    "    for div_name in division_list:\n",
    "        df_filtered = analysis_df if div_name == '전체' else analysis_df[analysis_df['DIVISION_NAME'] == div_name]\n",
    "        cohort_data_map[div_name] = create_cohort_data(df_filtered)\n",
    "\n",
    "    for div_name in division_list:\n",
    "        cohort_pivot = cohort_data_map[div_name]\n",
    "        if not cohort_pivot.empty:\n",
    "            text_labels = cohort_pivot.map(lambda x: f'{x:.0f}%' if pd.notna(x) else '')\n",
    "\n",
    "            fig.add_trace(\n",
    "                go.Heatmap(\n",
    "                    z=cohort_pivot.values,\n",
    "                    x=[f\"{int(c)}년차\" for c in cohort_pivot.columns],\n",
    "                    y=cohort_pivot.index,\n",
    "                    colorscale='Blues',\n",
    "                    text=text_labels,\n",
    "                    texttemplate=\"%{text}\",\n",
    "                    showscale=False,\n",
    "                    visible=(div_name == '전체'),\n",
    "                    connectgaps=False\n",
    "                )\n",
    "            )\n",
    "\n",
    "    # --- 4. 드롭다운 메뉴 및 레이아웃 업데이트 ---\n",
    "    buttons = []\n",
    "    for i, div_name in enumerate(division_list):\n",
    "        visibility_mask = [False] * len(division_list)\n",
    "        visibility_mask[i] = True\n",
    "        buttons.append(\n",
    "            dict(label=div_name, method='update', args=[{'visible': visibility_mask}])\n",
    "        )\n",
    "\n",
    "    fig.update_layout(\n",
    "        updatemenus=[dict(\n",
    "            active=0, buttons=buttons, direction=\"down\",\n",
    "            pad={\"r\": 10, \"t\": 10}, showactive=True,\n",
    "            x=0.01, xanchor=\"left\", y=1.1, yanchor=\"top\"\n",
    "        )],\n",
    "        title_text='입사 연도별 잔존율 코호트 분석',\n",
    "        xaxis_title='근속년수',\n",
    "        yaxis_title='입사 연도 (코호트)',\n",
    "        font_size=14, height=700,\n",
    "        annotations=[dict(text=\"조직 선택:\", showarrow=False, x=0, y=1.08, yref=\"paper\", align=\"left\")]\n",
    "    )\n",
    "    \n",
    "    return fig\n",
    "\n",
    "\n",
    "\n",
    "pio.renderers.default = 'vscode'\n",
    "fig = create_figure()\n",
    "fig.show()"
   ]
  },
  {
   "cell_type": "code",
   "execution_count": null,
   "id": "d6e8d4fb",
   "metadata": {},
   "outputs": [],
   "source": []
  }
 ],
 "metadata": {
  "kernelspec": {
   "display_name": "Python 3 (ipykernel)",
   "language": "python",
   "name": "python3"
  }
 },
 "nbformat": 4,
 "nbformat_minor": 5
}
