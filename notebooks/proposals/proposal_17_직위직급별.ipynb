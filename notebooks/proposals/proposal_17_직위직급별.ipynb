{
 "cells": [
  {
   "cell_type": "code",
   "execution_count": 1,
   "id": "f9d57359",
   "metadata": {},
   "outputs": [
    {
     "name": "stderr",
     "output_type": "stream",
     "text": [
      "/app/src/services/tables/Time_Attendance/detailed_working_info_table.py:79: FutureWarning: Downcasting object dtype arrays on .fillna, .ffill, .bfill is deprecated and will change in a future version. Call result.infer_objects(copy=False) instead. To opt-in to the future behavior, set `pd.set_option('future.no_silent_downcasting', True)`\n",
      "  df['IS_VACATION'] = df['IS_VACATION'].fillna(False).astype(bool)\n"
     ]
    },
    {
     "data": {
      "application/vnd.plotly.v1+json": {
       "config": {
        "plotlyServerURL": "https://plot.ly"
       },
       "data": [
        {
         "name": "평균 초과근무(분)",
         "type": "bar",
         "visible": true,
         "x": [
          "Monday",
          "Tuesday",
          "Wednesday",
          "Thursday",
          "Friday"
         ],
         "xaxis": "x",
         "y": {
          "bdata": "vjcuIytvMkC7FJHAXO81QI4HICJZNTZAbchq4foTMkCCtxp9BN82QA==",
          "dtype": "f8"
         },
         "yaxis": "y"
        },
        {
         "mode": "lines+markers",
         "name": "연차 사용률(%)",
         "type": "scatter",
         "visible": true,
         "x": [
          "Monday",
          "Tuesday",
          "Wednesday",
          "Thursday",
          "Friday",
          null,
          null
         ],
         "xaxis": "x",
         "y": {
          "bdata": "gjMnuic3G0DaTy4wlqcaQNNWyk+QrRpAwLAm3lYiG0C/F2hQa2kbQKBeU1OS6/k/pFz92zrw+z8=",
          "dtype": "f8"
         },
         "yaxis": "y2"
        },
        {
         "name": "평균 초과근무(분)",
         "type": "bar",
         "visible": false,
         "x": [
          "Monday",
          "Tuesday",
          "Wednesday",
          "Thursday",
          "Friday"
         ],
         "xaxis": "x",
         "y": {
          "bdata": "yvcV1PU6MEDmER8UO1MwQI2fVbHu8S9ABYm8tfO0L0BaVBGwoLcwQA==",
          "dtype": "f8"
         },
         "yaxis": "y"
        },
        {
         "mode": "lines+markers",
         "name": "연차 사용률(%)",
         "type": "scatter",
         "visible": false,
         "x": [
          "Monday",
          "Tuesday",
          "Wednesday",
          "Thursday",
          "Friday",
          null,
          null
         ],
         "xaxis": "x",
         "y": {
          "bdata": "/MuqjHbQGkCWpVA9erIaQFRWCwmXRxpAhH5iyPgCG0CLDLO4NX4aQNAbPPVsLfU/g5AZOMJN9T8=",
          "dtype": "f8"
         },
         "yaxis": "y2"
        },
        {
         "name": "평균 초과근무(분)",
         "type": "bar",
         "visible": false,
         "x": [
          "Monday",
          "Tuesday",
          "Wednesday",
          "Thursday",
          "Friday"
         ],
         "xaxis": "x",
         "y": {
          "bdata": "6QddqrSVMkDghDUafEMyQAKREKsciTJAX/PSlFWbMkDk5IACB7oyQA==",
          "dtype": "f8"
         },
         "yaxis": "y"
        },
        {
         "mode": "lines+markers",
         "name": "연차 사용률(%)",
         "type": "scatter",
         "visible": false,
         "x": [
          "Monday",
          "Tuesday",
          "Wednesday",
          "Thursday",
          "Friday",
          null,
          null
         ],
         "xaxis": "x",
         "y": {
          "bdata": "DKnmBcp8G0ArUCxFKN0aQBZBJInVFxtAa2oA3JMuG0D40t5Ley8cQOXIIL/ynPk/RKRfEWjG/D8=",
          "dtype": "f8"
         },
         "yaxis": "y2"
        },
        {
         "name": "평균 초과근무(분)",
         "type": "bar",
         "visible": false,
         "x": [
          "Monday",
          "Tuesday",
          "Wednesday",
          "Thursday",
          "Friday"
         ],
         "xaxis": "x",
         "y": {
          "bdata": "ke9En5w0LUCnAbo9IKsrQP/9fDvZxStAEWT6lMi6LEDhBMQ4AGYtQA==",
          "dtype": "f8"
         },
         "yaxis": "y"
        },
        {
         "mode": "lines+markers",
         "name": "연차 사용률(%)",
         "type": "scatter",
         "visible": false,
         "x": [
          "Monday",
          "Tuesday",
          "Wednesday",
          "Thursday",
          "Friday",
          null,
          null
         ],
         "xaxis": "x",
         "y": {
          "bdata": "2WWmwpGDG0CTTodd4DcZQLXWWmutNRpAsDIUMz1nG0BU274EnzsbQAyFaftCYQpA18fSgXJ9DEA=",
          "dtype": "f8"
         },
         "yaxis": "y2"
        }
       ],
       "layout": {
        "annotations": [
         {
          "align": "left",
          "showarrow": false,
          "text": "직무(L1) 선택:",
          "x": 0,
          "y": 1.08,
          "yref": "paper"
         }
        ],
        "font": {
         "size": 14
        },
        "height": 700,
        "legend": {
         "orientation": "h",
         "x": 1,
         "xanchor": "right",
         "y": 1.02,
         "yanchor": "bottom"
        },
        "template": {
         "data": {
          "bar": [
           {
            "error_x": {
             "color": "#2a3f5f"
            },
            "error_y": {
             "color": "#2a3f5f"
            },
            "marker": {
             "line": {
              "color": "#E5ECF6",
              "width": 0.5
             },
             "pattern": {
              "fillmode": "overlay",
              "size": 10,
              "solidity": 0.2
             }
            },
            "type": "bar"
           }
          ],
          "barpolar": [
           {
            "marker": {
             "line": {
              "color": "#E5ECF6",
              "width": 0.5
             },
             "pattern": {
              "fillmode": "overlay",
              "size": 10,
              "solidity": 0.2
             }
            },
            "type": "barpolar"
           }
          ],
          "carpet": [
           {
            "aaxis": {
             "endlinecolor": "#2a3f5f",
             "gridcolor": "white",
             "linecolor": "white",
             "minorgridcolor": "white",
             "startlinecolor": "#2a3f5f"
            },
            "baxis": {
             "endlinecolor": "#2a3f5f",
             "gridcolor": "white",
             "linecolor": "white",
             "minorgridcolor": "white",
             "startlinecolor": "#2a3f5f"
            },
            "type": "carpet"
           }
          ],
          "choropleth": [
           {
            "colorbar": {
             "outlinewidth": 0,
             "ticks": ""
            },
            "type": "choropleth"
           }
          ],
          "contour": [
           {
            "colorbar": {
             "outlinewidth": 0,
             "ticks": ""
            },
            "colorscale": [
             [
              0,
              "#0d0887"
             ],
             [
              0.1111111111111111,
              "#46039f"
             ],
             [
              0.2222222222222222,
              "#7201a8"
             ],
             [
              0.3333333333333333,
              "#9c179e"
             ],
             [
              0.4444444444444444,
              "#bd3786"
             ],
             [
              0.5555555555555556,
              "#d8576b"
             ],
             [
              0.6666666666666666,
              "#ed7953"
             ],
             [
              0.7777777777777778,
              "#fb9f3a"
             ],
             [
              0.8888888888888888,
              "#fdca26"
             ],
             [
              1,
              "#f0f921"
             ]
            ],
            "type": "contour"
           }
          ],
          "contourcarpet": [
           {
            "colorbar": {
             "outlinewidth": 0,
             "ticks": ""
            },
            "type": "contourcarpet"
           }
          ],
          "heatmap": [
           {
            "colorbar": {
             "outlinewidth": 0,
             "ticks": ""
            },
            "colorscale": [
             [
              0,
              "#0d0887"
             ],
             [
              0.1111111111111111,
              "#46039f"
             ],
             [
              0.2222222222222222,
              "#7201a8"
             ],
             [
              0.3333333333333333,
              "#9c179e"
             ],
             [
              0.4444444444444444,
              "#bd3786"
             ],
             [
              0.5555555555555556,
              "#d8576b"
             ],
             [
              0.6666666666666666,
              "#ed7953"
             ],
             [
              0.7777777777777778,
              "#fb9f3a"
             ],
             [
              0.8888888888888888,
              "#fdca26"
             ],
             [
              1,
              "#f0f921"
             ]
            ],
            "type": "heatmap"
           }
          ],
          "histogram": [
           {
            "marker": {
             "pattern": {
              "fillmode": "overlay",
              "size": 10,
              "solidity": 0.2
             }
            },
            "type": "histogram"
           }
          ],
          "histogram2d": [
           {
            "colorbar": {
             "outlinewidth": 0,
             "ticks": ""
            },
            "colorscale": [
             [
              0,
              "#0d0887"
             ],
             [
              0.1111111111111111,
              "#46039f"
             ],
             [
              0.2222222222222222,
              "#7201a8"
             ],
             [
              0.3333333333333333,
              "#9c179e"
             ],
             [
              0.4444444444444444,
              "#bd3786"
             ],
             [
              0.5555555555555556,
              "#d8576b"
             ],
             [
              0.6666666666666666,
              "#ed7953"
             ],
             [
              0.7777777777777778,
              "#fb9f3a"
             ],
             [
              0.8888888888888888,
              "#fdca26"
             ],
             [
              1,
              "#f0f921"
             ]
            ],
            "type": "histogram2d"
           }
          ],
          "histogram2dcontour": [
           {
            "colorbar": {
             "outlinewidth": 0,
             "ticks": ""
            },
            "colorscale": [
             [
              0,
              "#0d0887"
             ],
             [
              0.1111111111111111,
              "#46039f"
             ],
             [
              0.2222222222222222,
              "#7201a8"
             ],
             [
              0.3333333333333333,
              "#9c179e"
             ],
             [
              0.4444444444444444,
              "#bd3786"
             ],
             [
              0.5555555555555556,
              "#d8576b"
             ],
             [
              0.6666666666666666,
              "#ed7953"
             ],
             [
              0.7777777777777778,
              "#fb9f3a"
             ],
             [
              0.8888888888888888,
              "#fdca26"
             ],
             [
              1,
              "#f0f921"
             ]
            ],
            "type": "histogram2dcontour"
           }
          ],
          "mesh3d": [
           {
            "colorbar": {
             "outlinewidth": 0,
             "ticks": ""
            },
            "type": "mesh3d"
           }
          ],
          "parcoords": [
           {
            "line": {
             "colorbar": {
              "outlinewidth": 0,
              "ticks": ""
             }
            },
            "type": "parcoords"
           }
          ],
          "pie": [
           {
            "automargin": true,
            "type": "pie"
           }
          ],
          "scatter": [
           {
            "fillpattern": {
             "fillmode": "overlay",
             "size": 10,
             "solidity": 0.2
            },
            "type": "scatter"
           }
          ],
          "scatter3d": [
           {
            "line": {
             "colorbar": {
              "outlinewidth": 0,
              "ticks": ""
             }
            },
            "marker": {
             "colorbar": {
              "outlinewidth": 0,
              "ticks": ""
             }
            },
            "type": "scatter3d"
           }
          ],
          "scattercarpet": [
           {
            "marker": {
             "colorbar": {
              "outlinewidth": 0,
              "ticks": ""
             }
            },
            "type": "scattercarpet"
           }
          ],
          "scattergeo": [
           {
            "marker": {
             "colorbar": {
              "outlinewidth": 0,
              "ticks": ""
             }
            },
            "type": "scattergeo"
           }
          ],
          "scattergl": [
           {
            "marker": {
             "colorbar": {
              "outlinewidth": 0,
              "ticks": ""
             }
            },
            "type": "scattergl"
           }
          ],
          "scattermap": [
           {
            "marker": {
             "colorbar": {
              "outlinewidth": 0,
              "ticks": ""
             }
            },
            "type": "scattermap"
           }
          ],
          "scattermapbox": [
           {
            "marker": {
             "colorbar": {
              "outlinewidth": 0,
              "ticks": ""
             }
            },
            "type": "scattermapbox"
           }
          ],
          "scatterpolar": [
           {
            "marker": {
             "colorbar": {
              "outlinewidth": 0,
              "ticks": ""
             }
            },
            "type": "scatterpolar"
           }
          ],
          "scatterpolargl": [
           {
            "marker": {
             "colorbar": {
              "outlinewidth": 0,
              "ticks": ""
             }
            },
            "type": "scatterpolargl"
           }
          ],
          "scatterternary": [
           {
            "marker": {
             "colorbar": {
              "outlinewidth": 0,
              "ticks": ""
             }
            },
            "type": "scatterternary"
           }
          ],
          "surface": [
           {
            "colorbar": {
             "outlinewidth": 0,
             "ticks": ""
            },
            "colorscale": [
             [
              0,
              "#0d0887"
             ],
             [
              0.1111111111111111,
              "#46039f"
             ],
             [
              0.2222222222222222,
              "#7201a8"
             ],
             [
              0.3333333333333333,
              "#9c179e"
             ],
             [
              0.4444444444444444,
              "#bd3786"
             ],
             [
              0.5555555555555556,
              "#d8576b"
             ],
             [
              0.6666666666666666,
              "#ed7953"
             ],
             [
              0.7777777777777778,
              "#fb9f3a"
             ],
             [
              0.8888888888888888,
              "#fdca26"
             ],
             [
              1,
              "#f0f921"
             ]
            ],
            "type": "surface"
           }
          ],
          "table": [
           {
            "cells": {
             "fill": {
              "color": "#EBF0F8"
             },
             "line": {
              "color": "white"
             }
            },
            "header": {
             "fill": {
              "color": "#C8D4E3"
             },
             "line": {
              "color": "white"
             }
            },
            "type": "table"
           }
          ]
         },
         "layout": {
          "annotationdefaults": {
           "arrowcolor": "#2a3f5f",
           "arrowhead": 0,
           "arrowwidth": 1
          },
          "autotypenumbers": "strict",
          "coloraxis": {
           "colorbar": {
            "outlinewidth": 0,
            "ticks": ""
           }
          },
          "colorscale": {
           "diverging": [
            [
             0,
             "#8e0152"
            ],
            [
             0.1,
             "#c51b7d"
            ],
            [
             0.2,
             "#de77ae"
            ],
            [
             0.3,
             "#f1b6da"
            ],
            [
             0.4,
             "#fde0ef"
            ],
            [
             0.5,
             "#f7f7f7"
            ],
            [
             0.6,
             "#e6f5d0"
            ],
            [
             0.7,
             "#b8e186"
            ],
            [
             0.8,
             "#7fbc41"
            ],
            [
             0.9,
             "#4d9221"
            ],
            [
             1,
             "#276419"
            ]
           ],
           "sequential": [
            [
             0,
             "#0d0887"
            ],
            [
             0.1111111111111111,
             "#46039f"
            ],
            [
             0.2222222222222222,
             "#7201a8"
            ],
            [
             0.3333333333333333,
             "#9c179e"
            ],
            [
             0.4444444444444444,
             "#bd3786"
            ],
            [
             0.5555555555555556,
             "#d8576b"
            ],
            [
             0.6666666666666666,
             "#ed7953"
            ],
            [
             0.7777777777777778,
             "#fb9f3a"
            ],
            [
             0.8888888888888888,
             "#fdca26"
            ],
            [
             1,
             "#f0f921"
            ]
           ],
           "sequentialminus": [
            [
             0,
             "#0d0887"
            ],
            [
             0.1111111111111111,
             "#46039f"
            ],
            [
             0.2222222222222222,
             "#7201a8"
            ],
            [
             0.3333333333333333,
             "#9c179e"
            ],
            [
             0.4444444444444444,
             "#bd3786"
            ],
            [
             0.5555555555555556,
             "#d8576b"
            ],
            [
             0.6666666666666666,
             "#ed7953"
            ],
            [
             0.7777777777777778,
             "#fb9f3a"
            ],
            [
             0.8888888888888888,
             "#fdca26"
            ],
            [
             1,
             "#f0f921"
            ]
           ]
          },
          "colorway": [
           "#636efa",
           "#EF553B",
           "#00cc96",
           "#ab63fa",
           "#FFA15A",
           "#19d3f3",
           "#FF6692",
           "#B6E880",
           "#FF97FF",
           "#FECB52"
          ],
          "font": {
           "color": "#2a3f5f"
          },
          "geo": {
           "bgcolor": "white",
           "lakecolor": "white",
           "landcolor": "#E5ECF6",
           "showlakes": true,
           "showland": true,
           "subunitcolor": "white"
          },
          "hoverlabel": {
           "align": "left"
          },
          "hovermode": "closest",
          "mapbox": {
           "style": "light"
          },
          "paper_bgcolor": "white",
          "plot_bgcolor": "#E5ECF6",
          "polar": {
           "angularaxis": {
            "gridcolor": "white",
            "linecolor": "white",
            "ticks": ""
           },
           "bgcolor": "#E5ECF6",
           "radialaxis": {
            "gridcolor": "white",
            "linecolor": "white",
            "ticks": ""
           }
          },
          "scene": {
           "xaxis": {
            "backgroundcolor": "#E5ECF6",
            "gridcolor": "white",
            "gridwidth": 2,
            "linecolor": "white",
            "showbackground": true,
            "ticks": "",
            "zerolinecolor": "white"
           },
           "yaxis": {
            "backgroundcolor": "#E5ECF6",
            "gridcolor": "white",
            "gridwidth": 2,
            "linecolor": "white",
            "showbackground": true,
            "ticks": "",
            "zerolinecolor": "white"
           },
           "zaxis": {
            "backgroundcolor": "#E5ECF6",
            "gridcolor": "white",
            "gridwidth": 2,
            "linecolor": "white",
            "showbackground": true,
            "ticks": "",
            "zerolinecolor": "white"
           }
          },
          "shapedefaults": {
           "line": {
            "color": "#2a3f5f"
           }
          },
          "ternary": {
           "aaxis": {
            "gridcolor": "white",
            "linecolor": "white",
            "ticks": ""
           },
           "baxis": {
            "gridcolor": "white",
            "linecolor": "white",
            "ticks": ""
           },
           "bgcolor": "#E5ECF6",
           "caxis": {
            "gridcolor": "white",
            "linecolor": "white",
            "ticks": ""
           }
          },
          "title": {
           "x": 0.05
          },
          "xaxis": {
           "automargin": true,
           "gridcolor": "white",
           "linecolor": "white",
           "ticks": "",
           "title": {
            "standoff": 15
           },
           "zerolinecolor": "white",
           "zerolinewidth": 2
          },
          "yaxis": {
           "automargin": true,
           "gridcolor": "white",
           "linecolor": "white",
           "ticks": "",
           "title": {
            "standoff": 15
           },
           "zerolinecolor": "white",
           "zerolinewidth": 2
          }
         }
        },
        "title": {
         "text": "직무별 주간 리듬 분석"
        },
        "updatemenus": [
         {
          "active": 0,
          "buttons": [
           {
            "args": [
             {
              "visible": [
               true,
               true,
               false,
               false,
               false,
               false,
               false,
               false
              ]
             }
            ],
            "label": "전체",
            "method": "update"
           },
           {
            "args": [
             {
              "visible": [
               false,
               false,
               true,
               true,
               false,
               false,
               false,
               false
              ]
             }
            ],
            "label": "Staff",
            "method": "update"
           },
           {
            "args": [
             {
              "visible": [
               false,
               false,
               false,
               false,
               true,
               true,
               false,
               false
              ]
             }
            ],
            "label": "Manager",
            "method": "update"
           },
           {
            "args": [
             {
              "visible": [
               false,
               false,
               false,
               false,
               false,
               false,
               true,
               true
              ]
             }
            ],
            "label": "Director",
            "method": "update"
           }
          ],
          "direction": "down",
          "pad": {
           "r": 10,
           "t": 10
          },
          "showactive": true,
          "x": 0.01,
          "xanchor": "left",
          "y": 1.1,
          "yanchor": "top"
         }
        ],
        "xaxis": {
         "anchor": "y",
         "domain": [
          0,
          0.94
         ],
         "title": {
          "text": "요일"
         }
        },
        "yaxis": {
         "anchor": "x",
         "domain": [
          0,
          1
         ],
         "range": [
          11.08350704927932,
          44.0921867205755
         ],
         "title": {
          "text": "평균 초과근무 시간 (분)"
         }
        },
        "yaxis2": {
         "anchor": "x",
         "overlaying": "y",
         "range": [
          0,
          9.58333333333333
         ],
         "side": "right",
         "ticksuffix": "%",
         "title": {
          "text": "요일별 연차 사용률 (%)"
         }
        }
       }
      }
     },
     "metadata": {},
     "output_type": "display_data"
    },
    {
     "name": "stdout",
     "output_type": "stream",
     "text": [
      "\n",
      "--- Aggregate DataFrame ---\n"
     ]
    },
    {
     "data": {
      "text/html": [
       "<div>\n",
       "<style scoped>\n",
       "    .dataframe tbody tr th:only-of-type {\n",
       "        vertical-align: middle;\n",
       "    }\n",
       "\n",
       "    .dataframe tbody tr th {\n",
       "        vertical-align: top;\n",
       "    }\n",
       "\n",
       "    .dataframe thead th {\n",
       "        text-align: right;\n",
       "    }\n",
       "</style>\n",
       "<table border=\"1\" class=\"dataframe\">\n",
       "  <thead>\n",
       "    <tr style=\"text-align: right;\">\n",
       "      <th></th>\n",
       "      <th></th>\n",
       "      <th>전체 평균</th>\n",
       "      <th>Staff</th>\n",
       "      <th>Manager</th>\n",
       "      <th>Director</th>\n",
       "      <th>C-Level</th>\n",
       "    </tr>\n",
       "    <tr>\n",
       "      <th>METRIC</th>\n",
       "      <th>DAY_OF_WEEK</th>\n",
       "      <th></th>\n",
       "      <th></th>\n",
       "      <th></th>\n",
       "      <th></th>\n",
       "      <th></th>\n",
       "    </tr>\n",
       "  </thead>\n",
       "  <tbody>\n",
       "    <tr>\n",
       "      <th rowspan=\"5\" valign=\"top\">평균 초과근무시간(분)</th>\n",
       "      <th>Monday</th>\n",
       "      <td>17.29</td>\n",
       "      <td>16.23</td>\n",
       "      <td>18.58</td>\n",
       "      <td>14.60</td>\n",
       "      <td>24.32</td>\n",
       "    </tr>\n",
       "    <tr>\n",
       "      <th>Tuesday</th>\n",
       "      <td>17.12</td>\n",
       "      <td>16.33</td>\n",
       "      <td>18.26</td>\n",
       "      <td>13.83</td>\n",
       "      <td>39.32</td>\n",
       "    </tr>\n",
       "    <tr>\n",
       "      <th>Wednesday</th>\n",
       "      <td>17.12</td>\n",
       "      <td>15.97</td>\n",
       "      <td>18.54</td>\n",
       "      <td>13.89</td>\n",
       "      <td>40.44</td>\n",
       "    </tr>\n",
       "    <tr>\n",
       "      <th>Thursday</th>\n",
       "      <td>17.14</td>\n",
       "      <td>15.85</td>\n",
       "      <td>18.61</td>\n",
       "      <td>14.36</td>\n",
       "      <td>23.49</td>\n",
       "    </tr>\n",
       "    <tr>\n",
       "      <th>Friday</th>\n",
       "      <td>17.58</td>\n",
       "      <td>16.72</td>\n",
       "      <td>18.73</td>\n",
       "      <td>14.70</td>\n",
       "      <td>41.34</td>\n",
       "    </tr>\n",
       "    <tr>\n",
       "      <th rowspan=\"5\" valign=\"top\">요일별 연차사용률(%)</th>\n",
       "      <th>Monday</th>\n",
       "      <td>6.80%</td>\n",
       "      <td>6.70%</td>\n",
       "      <td>6.87%</td>\n",
       "      <td>6.88%</td>\n",
       "      <td>8.18%</td>\n",
       "    </tr>\n",
       "    <tr>\n",
       "      <th>Tuesday</th>\n",
       "      <td>6.66%</td>\n",
       "      <td>6.67%</td>\n",
       "      <td>6.72%</td>\n",
       "      <td>6.30%</td>\n",
       "      <td>4.55%</td>\n",
       "    </tr>\n",
       "    <tr>\n",
       "      <th>Wednesday</th>\n",
       "      <td>6.67%</td>\n",
       "      <td>6.57%</td>\n",
       "      <td>6.77%</td>\n",
       "      <td>6.55%</td>\n",
       "      <td>4.39%</td>\n",
       "    </tr>\n",
       "    <tr>\n",
       "      <th>Thursday</th>\n",
       "      <td>6.78%</td>\n",
       "      <td>6.75%</td>\n",
       "      <td>6.80%</td>\n",
       "      <td>6.85%</td>\n",
       "      <td>8.33%</td>\n",
       "    </tr>\n",
       "    <tr>\n",
       "      <th>Friday</th>\n",
       "      <td>6.85%</td>\n",
       "      <td>6.62%</td>\n",
       "      <td>7.05%</td>\n",
       "      <td>6.81%</td>\n",
       "      <td>8.33%</td>\n",
       "    </tr>\n",
       "  </tbody>\n",
       "</table>\n",
       "</div>"
      ],
      "text/plain": [
       "                          전체 평균  Staff Manager Director C-Level\n",
       "METRIC       DAY_OF_WEEK                                       \n",
       "평균 초과근무시간(분) Monday       17.29  16.23   18.58    14.60   24.32\n",
       "             Tuesday      17.12  16.33   18.26    13.83   39.32\n",
       "             Wednesday    17.12  15.97   18.54    13.89   40.44\n",
       "             Thursday     17.14  15.85   18.61    14.36   23.49\n",
       "             Friday       17.58  16.72   18.73    14.70   41.34\n",
       "요일별 연차사용률(%) Monday       6.80%  6.70%   6.87%    6.88%   8.18%\n",
       "             Tuesday      6.66%  6.67%   6.72%    6.30%   4.55%\n",
       "             Wednesday    6.67%  6.57%   6.77%    6.55%   4.39%\n",
       "             Thursday     6.78%  6.75%   6.80%    6.85%   8.33%\n",
       "             Friday       6.85%  6.62%   7.05%    6.81%   8.33%"
      ]
     },
     "execution_count": 1,
     "metadata": {},
     "output_type": "execute_result"
    }
   ],
   "source": [
    "import pandas as pd\n",
    "import numpy as np\n",
    "import plotly.graph_objects as go\n",
    "from plotly.subplots import make_subplots\n",
    "import plotly.io as pio\n",
    "import datetime\n",
    "\n",
    "# --- 1. 데이터 임포트 ---\n",
    "from services.tables.Time_Attendance.daily_working_info_table import daily_work_info_df\n",
    "from services.tables.Time_Attendance.detailed_working_info_table import detailed_work_info_df\n",
    "from services.tables.Time_Attendance.leave_type_table import leave_type_df\n",
    "from services.tables.Time_Attendance.detailed_leave_info_table import detailed_leave_info_df\n",
    "from services.tables.Time_Attendance.working_info_table import work_info_df\n",
    "from services.tables.HR_Core.position_info_table import position_info_df\n",
    "from services.tables.HR_Core.position_table import position_df, position_order, grade_order\n",
    "\n",
    "def create_figure_and_df():\n",
    "    \"\"\"\n",
    "    제안 17-3: 직위별 주간 리듬 분석 그래프 및 피벗 테이블을 생성합니다.\n",
    "    \"\"\"\n",
    "    # --- 2. 데이터 준비 및 가공 ---\n",
    "    start_date_filter = pd.to_datetime('2022-01-01')\n",
    "    normal_work_emp_ids = work_info_df[work_info_df['WORK_SYS_ID'] == 'WS001']['EMP_ID'].unique()\n",
    "\n",
    "    pos_info_with_name = pd.merge(position_info_df, position_df[['POSITION_ID', 'POSITION_NAME']].drop_duplicates(), on='POSITION_ID')\n",
    "    pos_info_sorted = pos_info_with_name.sort_values(['GRADE_START_DATE', 'EMP_ID'])\n",
    "    \n",
    "    def add_position_categories(df):\n",
    "        df_sorted = df.sort_values(['DATE', 'EMP_ID'])\n",
    "        df_merged = pd.merge_asof(df_sorted, pos_info_sorted[['EMP_ID', 'GRADE_START_DATE', 'POSITION_NAME', 'GRADE_ID']], left_on='DATE', right_on='GRADE_START_DATE', by='EMP_ID', direction='backward')\n",
    "        return df_merged.dropna(subset=['POSITION_NAME', 'GRADE_ID'])\n",
    "\n",
    "    overtime_df = daily_work_info_df[(daily_work_info_df['EMP_ID'].isin(normal_work_emp_ids)) & (pd.to_datetime(daily_work_info_df['DATE']) >= start_date_filter)].copy()\n",
    "    overtime_df['DAY_OF_WEEK'] = overtime_df['DATE'].dt.day_name()\n",
    "    overtime_df = add_position_categories(overtime_df)\n",
    "\n",
    "    annual_leave_id = leave_type_df[leave_type_df['LEAVE_TYPE_NAME'] == '연차휴가']['LEAVE_TYPE_ID'].iloc[0]\n",
    "    leave_df = detailed_leave_info_df[(detailed_leave_info_df['LEAVE_TYPE_ID'] == annual_leave_id) & (detailed_leave_info_df['EMP_ID'].isin(normal_work_emp_ids)) & (pd.to_datetime(detailed_leave_info_df['DATE']) >= start_date_filter)].copy()\n",
    "    leave_df['DAY_OF_WEEK'] = leave_df['DATE'].dt.day_name()\n",
    "    leave_df = add_position_categories(leave_df)\n",
    "\n",
    "    workable_days = detailed_work_info_df[(~detailed_work_info_df['WORK_ETC'].isin(['휴가', '주말 휴무', '비번', '휴무'])) & (detailed_work_info_df['EMP_ID'].isin(normal_work_emp_ids)) & (pd.to_datetime(detailed_work_info_df['DATE']) >= start_date_filter)].copy()\n",
    "    workable_days['DAY_OF_WEEK'] = workable_days['DATE'].dt.day_name()\n",
    "    workable_days = add_position_categories(workable_days)\n",
    "\n",
    "    weekday_order = ['Monday', 'Tuesday', 'Wednesday', 'Thursday', 'Friday']\n",
    "    ot_pos_summary = overtime_df.groupby(['POSITION_NAME', 'DAY_OF_WEEK'], observed=False)['OVERTIME_MINUTES'].mean().reset_index()\n",
    "    \n",
    "    workday_headcount_pos = workable_days.groupby(['POSITION_NAME', 'DAY_OF_WEEK'], observed=False).size().reset_index(name='WORK_DAY_COUNT')\n",
    "    leave_days_sum_pos = leave_df.groupby(['POSITION_NAME', 'DAY_OF_WEEK'], observed=False)['LEAVE_LENGTH'].sum().reset_index()\n",
    "    leave_pos_summary = pd.merge(leave_days_sum_pos, workday_headcount_pos, on=['POSITION_NAME', 'DAY_OF_WEEK'], how='left').fillna(0)\n",
    "    leave_pos_summary['LEAVE_USAGE_RATE'] = (leave_pos_summary['LEAVE_LENGTH'] / leave_pos_summary['WORK_DAY_COUNT']) * 100\n",
    "\n",
    "    ot_min, ot_max = (ot_pos_summary['OVERTIME_MINUTES'].min(), ot_pos_summary['OVERTIME_MINUTES'].max()) if not ot_pos_summary.empty else (0, 0)\n",
    "    leave_rate_max = leave_pos_summary['LEAVE_USAGE_RATE'].max() if not leave_pos_summary.empty else 0\n",
    "    y_padding = (ot_max - ot_min) * 0.1 if (ot_max - ot_min) > 0 else 10\n",
    "    fixed_y1_range = [ot_min - y_padding, ot_max + y_padding]\n",
    "    fixed_y2_range = [0, leave_rate_max * 1.2]\n",
    "    \n",
    "     # --- 3. Plotly 인터랙티브 그래프 생성 ---\n",
    "    ot_min, ot_max = (ot_pos_summary['OVERTIME_MINUTES'].min(), ot_pos_summary['OVERTIME_MINUTES'].max()) if not ot_pos_summary.empty else (0, 0)\n",
    "    leave_rate_max = leave_pos_summary['LEAVE_USAGE_RATE'].max() if not leave_pos_summary.empty else 0\n",
    "    y_padding = (ot_max - ot_min) * 0.1 if (ot_max - ot_min) > 0 else 10\n",
    "    fixed_y1_range = [ot_min - y_padding, ot_max + y_padding]\n",
    "    fixed_y2_range = [0, leave_rate_max * 1.15]\n",
    "    \n",
    "    fig = make_subplots(specs=[[{\"secondary_y\": True}]])\n",
    "    position_filter_list = ['전체'] + [p for p in position_order if p != 'C-Level']\n",
    "    \n",
    "    for i, job_name in enumerate(position_filter_list):\n",
    "        is_visible = (i == 0)\n",
    "        ot_filtered = (ot_pos_summary if job_name == '전체' else ot_pos_summary[ot_pos_summary['POSITION_NAME'] == job_name]).copy()\n",
    "        leave_filtered = (leave_pos_summary if job_name == '전체' else leave_pos_summary[leave_pos_summary['POSITION_NAME'] == job_name]).copy()\n",
    "        \n",
    "        ot_grouped = ot_filtered.groupby('DAY_OF_WEEK', observed=False)['OVERTIME_MINUTES'].mean().reset_index()\n",
    "        if job_name == '전체':\n",
    "            total_leave = leave_pos_summary.groupby('DAY_OF_WEEK', observed=False)['LEAVE_LENGTH'].sum()\n",
    "            total_workdays = workday_headcount_pos.groupby('DAY_OF_WEEK', observed=False)['WORK_DAY_COUNT'].sum()\n",
    "            leave_grouped = (total_leave / total_workdays * 100).reset_index(name='LEAVE_USAGE_RATE')\n",
    "        else:\n",
    "            leave_grouped = leave_filtered\n",
    "        \n",
    "        for df in [ot_grouped, leave_grouped]:\n",
    "            if not df.empty:\n",
    "                df['DAY_OF_WEEK'] = pd.Categorical(df['DAY_OF_WEEK'], categories=weekday_order, ordered=True)\n",
    "                df.sort_values('DAY_OF_WEEK', inplace=True)\n",
    "        \n",
    "        fig.add_trace(go.Bar(x=ot_grouped['DAY_OF_WEEK'], y=ot_grouped['OVERTIME_MINUTES'], name='평균 초과근무(분)', visible=is_visible), secondary_y=False)\n",
    "        fig.add_trace(go.Scatter(x=leave_grouped['DAY_OF_WEEK'], y=leave_grouped['LEAVE_USAGE_RATE'], name='연차 사용률(%)', visible=is_visible, mode='lines+markers'), secondary_y=True)\n",
    "        \n",
    "    # --- 4. 드롭다운 메뉴 및 레이아웃 업데이트 ---\n",
    "    buttons = []\n",
    "    for i, job_name in enumerate(position_filter_list):\n",
    "        visibility_mask = [False] * (len(position_filter_list) * 2)\n",
    "        visibility_mask[i*2] = True; visibility_mask[i*2 + 1] = True\n",
    "        buttons.append(dict(label=job_name, method='update', args=[{'visible': visibility_mask}]))\n",
    "        \n",
    "    fig.update_layout(\n",
    "        updatemenus=[dict(active=0, buttons=buttons, direction=\"down\", pad={\"r\": 10, \"t\": 10}, showactive=True, x=0.01, xanchor=\"left\", y=1.1, yanchor=\"top\")],\n",
    "        title_text='직무별 주간 리듬 분석',\n",
    "        font_size=14, height=700, legend=dict(orientation=\"h\", yanchor=\"bottom\", y=1.02, xanchor=\"right\", x=1),\n",
    "        annotations=[dict(text=\"직무(L1) 선택:\", showarrow=False, x=0, y=1.08, yref=\"paper\", align=\"left\")],\n",
    "        yaxis_range=fixed_y1_range,\n",
    "        yaxis2_range=fixed_y2_range\n",
    "    )\n",
    "    fig.update_xaxes(title_text=\"요일\")\n",
    "    fig.update_yaxes(title_text=\"평균 초과근무 시간 (분)\", secondary_y=False)\n",
    "    fig.update_yaxes(title_text=\"요일별 연차 사용률 (%)\", secondary_y=True, ticksuffix=\"%\")\n",
    "    \n",
    "    # --- 수정된 부분: aggregate_df 생성 ---\n",
    "    ot_pivot = ot_pos_summary.pivot_table(index='DAY_OF_WEEK', columns='POSITION_NAME', values='OVERTIME_MINUTES', observed=False)\n",
    "    ot_pivot['METRIC'] = '평균 초과근무시간(분)'\n",
    "    leave_pivot = leave_pos_summary.pivot_table(index='DAY_OF_WEEK', columns='POSITION_NAME', values='LEAVE_USAGE_RATE', observed=False)\n",
    "    leave_pivot['METRIC'] = '요일별 연차사용률(%)'\n",
    "    combined_df = pd.concat([ot_pivot, leave_pivot]).reset_index().set_index(['METRIC', 'DAY_OF_WEEK'])\n",
    "    \n",
    "    overall_ot = overtime_df.groupby('DAY_OF_WEEK', observed=False)['OVERTIME_MINUTES'].mean()\n",
    "    overall_total_leave = leave_df.groupby('DAY_OF_WEEK', observed=False)['LEAVE_LENGTH'].sum()\n",
    "    overall_total_workdays = workable_days.groupby('DAY_OF_WEEK', observed=False).size()\n",
    "    overall_leave_rate = (overall_total_leave / overall_total_workdays) * 100\n",
    "    overall_df = pd.DataFrame({'평균 초과근무시간(분)': overall_ot, '요일별 연차사용률(%)': overall_leave_rate}).T\n",
    "    overall_df.index.name = 'METRIC'\n",
    "    overall_df = overall_df.reset_index().melt(id_vars='METRIC', var_name='DAY_OF_WEEK', value_name='전체 평균').set_index(['METRIC', 'DAY_OF_WEEK'])\n",
    "    \n",
    "    aggregate_df = pd.merge(combined_df, overall_df, left_index=True, right_index=True, how='outer')\n",
    "    \n",
    "    cols_ordered = ['전체 평균'] + [p for p in position_order if p in aggregate_df.columns]\n",
    "    aggregate_df = aggregate_df[cols_ordered]\n",
    "    \n",
    "    metric_order = ['평균 초과근무시간(분)', '요일별 연차사용률(%)']\n",
    "    aggregate_df = aggregate_df.reindex(index=pd.MultiIndex.from_product([metric_order, weekday_order], names=['METRIC', 'DAY_OF_WEEK']))\n",
    "    \n",
    "    for col in aggregate_df.columns:\n",
    "        aggregate_df[col] = aggregate_df.apply(\n",
    "            lambda row: f\"{row[col]:.2f}%\" if row.name[0] == '요일별 연차사용률(%)' and pd.notna(row[col]) else (f\"{row[col]:.2f}\" if pd.notna(row[col]) else '-'),\n",
    "            axis=1\n",
    "        )\n",
    "    # --- 수정 완료 ---\n",
    "        \n",
    "    return fig, aggregate_df\n",
    "\n",
    "# --- 실행 코드 ---\n",
    "pio.renderers.default = 'vscode'\n",
    "fig, aggregate_df = create_figure_and_df()\n",
    "fig.show()\n",
    "\n",
    "print(\"\\n--- Aggregate DataFrame ---\")\n",
    "aggregate_df"
   ]
  },
  {
   "cell_type": "code",
   "execution_count": null,
   "id": "3fe1fd1c",
   "metadata": {},
   "outputs": [],
   "source": []
  }
 ],
 "metadata": {
  "kernelspec": {
   "display_name": "Python 3 (ipykernel)",
   "language": "python",
   "name": "python3"
  },
  "language_info": {
   "codemirror_mode": {
    "name": "ipython",
    "version": 3
   },
   "file_extension": ".py",
   "mimetype": "text/x-python",
   "name": "python",
   "nbconvert_exporter": "python",
   "pygments_lexer": "ipython3",
   "version": "3.12.11"
  }
 },
 "nbformat": 4,
 "nbformat_minor": 5
}
