{
 "cells": [
  {
   "cell_type": "code",
   "execution_count": 1,
   "id": "5fe73f57",
   "metadata": {},
   "outputs": [
    {
     "data": {
      "application/vnd.plotly.v1+json": {
       "config": {
        "plotlyServerURL": "https://plot.ly"
       },
       "data": [
        {
         "colorscale": [
          [
           0,
           "rgb(247,251,255)"
          ],
          [
           0.125,
           "rgb(222,235,247)"
          ],
          [
           0.25,
           "rgb(198,219,239)"
          ],
          [
           0.375,
           "rgb(158,202,225)"
          ],
          [
           0.5,
           "rgb(107,174,214)"
          ],
          [
           0.625,
           "rgb(66,146,198)"
          ],
          [
           0.75,
           "rgb(33,113,181)"
          ],
          [
           0.875,
           "rgb(8,81,156)"
          ],
          [
           1,
           "rgb(8,48,107)"
          ]
         ],
         "connectgaps": false,
         "showscale": false,
         "text": [
          [
           "100%",
           "93%",
           "89%",
           "85%",
           "81%",
           "74%",
           "67%",
           "56%",
           "48%",
           "37%",
           "30%",
           "26%",
           "26%",
           "26%",
           "19%"
          ],
          [
           "100%",
           "85%",
           "80%",
           "79%",
           "75%",
           "69%",
           "61%",
           "56%",
           "51%",
           "49%",
           "44%",
           "38%",
           "34%",
           "28%",
           ""
          ],
          [
           "100%",
           "98%",
           "89%",
           "85%",
           "66%",
           "61%",
           "55%",
           "46%",
           "41%",
           "28%",
           "24%",
           "20%",
           "14%",
           "",
           ""
          ],
          [
           "100%",
           "92%",
           "89%",
           "79%",
           "68%",
           "62%",
           "56%",
           "52%",
           "50%",
           "42%",
           "42%",
           "33%",
           "",
           "",
           ""
          ],
          [
           "100%",
           "93%",
           "86%",
           "83%",
           "75%",
           "63%",
           "49%",
           "41%",
           "36%",
           "27%",
           "24%",
           "",
           "",
           "",
           ""
          ],
          [
           "100%",
           "90%",
           "86%",
           "79%",
           "77%",
           "73%",
           "64%",
           "56%",
           "43%",
           "37%",
           "",
           "",
           "",
           "",
           ""
          ],
          [
           "100%",
           "97%",
           "90%",
           "79%",
           "70%",
           "66%",
           "64%",
           "57%",
           "47%",
           "",
           "",
           "",
           "",
           "",
           ""
          ],
          [
           "100%",
           "99%",
           "94%",
           "90%",
           "81%",
           "74%",
           "63%",
           "57%",
           "",
           "",
           "",
           "",
           "",
           "",
           ""
          ],
          [
           "100%",
           "93%",
           "91%",
           "85%",
           "82%",
           "80%",
           "69%",
           "",
           "",
           "",
           "",
           "",
           "",
           "",
           ""
          ],
          [
           "100%",
           "99%",
           "87%",
           "77%",
           "71%",
           "65%",
           "",
           "",
           "",
           "",
           "",
           "",
           "",
           "",
           ""
          ],
          [
           "100%",
           "96%",
           "93%",
           "79%",
           "71%",
           "",
           "",
           "",
           "",
           "",
           "",
           "",
           "",
           "",
           ""
          ],
          [
           "100%",
           "95%",
           "92%",
           "88%",
           "",
           "",
           "",
           "",
           "",
           "",
           "",
           "",
           "",
           "",
           ""
          ],
          [
           "100%",
           "86%",
           "79%",
           "",
           "",
           "",
           "",
           "",
           "",
           "",
           "",
           "",
           "",
           "",
           ""
          ],
          [
           "100%",
           "91%",
           "",
           "",
           "",
           "",
           "",
           "",
           "",
           "",
           "",
           "",
           "",
           "",
           ""
          ],
          [
           "100%",
           "",
           "",
           "",
           "",
           "",
           "",
           "",
           "",
           "",
           "",
           "",
           "",
           "",
           ""
          ],
          [
           "",
           "",
           "",
           "",
           "",
           "",
           "",
           "",
           "",
           "",
           "",
           "",
           "",
           "",
           ""
          ]
         ],
         "texttemplate": "%{text}",
         "type": "heatmap",
         "visible": true,
         "x": [
          "0년차",
          "1년차",
          "2년차",
          "3년차",
          "4년차",
          "5년차",
          "6년차",
          "7년차",
          "8년차",
          "9년차",
          "10년차",
          "11년차",
          "12년차",
          "13년차",
          "14년차"
         ],
         "y": {
          "bdata": "2gfbB9wH3QfeB98H4AfhB+IH4wfkB+UH5gfnB+gH6Qc=",
          "dtype": "i2"
         },
         "z": {
          "bdata": "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",
          "dtype": "f8",
          "shape": "16, 15"
         }
        },
        {
         "colorscale": [
          [
           0,
           "rgb(247,251,255)"
          ],
          [
           0.125,
           "rgb(222,235,247)"
          ],
          [
           0.25,
           "rgb(198,219,239)"
          ],
          [
           0.375,
           "rgb(158,202,225)"
          ],
          [
           0.5,
           "rgb(107,174,214)"
          ],
          [
           0.625,
           "rgb(66,146,198)"
          ],
          [
           0.75,
           "rgb(33,113,181)"
          ],
          [
           0.875,
           "rgb(8,81,156)"
          ],
          [
           1,
           "rgb(8,48,107)"
          ]
         ],
         "connectgaps": false,
         "showscale": false,
         "text": [
          [
           "100%",
           "100%",
           "100%",
           "100%",
           "100%",
           "80%",
           "80%",
           "60%",
           "60%",
           "40%",
           "",
           "",
           "",
           "",
           ""
          ],
          [
           "100%",
           "90%",
           "90%",
           "90%",
           "80%",
           "75%",
           "65%",
           "60%",
           "60%",
           "55%",
           "45%",
           "35%",
           "30%",
           "30%",
           ""
          ],
          [
           "100%",
           "100%",
           "92%",
           "83%",
           "50%",
           "50%",
           "33%",
           "33%",
           "33%",
           "17%",
           "17%",
           "8%",
           "8%",
           "",
           ""
          ],
          [
           "100%",
           "100%",
           "100%",
           "80%",
           "70%",
           "60%",
           "60%",
           "60%",
           "60%",
           "50%",
           "50%",
           "50%",
           "",
           "",
           ""
          ],
          [
           "100%",
           "93%",
           "87%",
           "80%",
           "73%",
           "47%",
           "40%",
           "33%",
           "27%",
           "13%",
           "13%",
           "",
           "",
           "",
           ""
          ],
          [
           "100%",
           "83%",
           "83%",
           "74%",
           "74%",
           "70%",
           "61%",
           "57%",
           "39%",
           "35%",
           "",
           "",
           "",
           "",
           ""
          ],
          [
           "100%",
           "100%",
           "75%",
           "67%",
           "42%",
           "42%",
           "42%",
           "42%",
           "33%",
           "",
           "",
           "",
           "",
           "",
           ""
          ],
          [
           "100%",
           "92%",
           "92%",
           "92%",
           "92%",
           "83%",
           "83%",
           "83%",
           "",
           "",
           "",
           "",
           "",
           "",
           ""
          ],
          [
           "100%",
           "92%",
           "92%",
           "77%",
           "77%",
           "77%",
           "69%",
           "",
           "",
           "",
           "",
           "",
           "",
           "",
           ""
          ],
          [
           "100%",
           "100%",
           "81%",
           "69%",
           "69%",
           "56%",
           "",
           "",
           "",
           "",
           "",
           "",
           "",
           "",
           ""
          ],
          [
           "100%",
           "100%",
           "89%",
           "89%",
           "78%",
           "",
           "",
           "",
           "",
           "",
           "",
           "",
           "",
           "",
           ""
          ],
          [
           "100%",
           "94%",
           "88%",
           "81%",
           "",
           "",
           "",
           "",
           "",
           "",
           "",
           "",
           "",
           "",
           ""
          ],
          [
           "100%",
           "94%",
           "88%",
           "",
           "",
           "",
           "",
           "",
           "",
           "",
           "",
           "",
           "",
           "",
           ""
          ],
          [
           "100%",
           "89%",
           "",
           "",
           "",
           "",
           "",
           "",
           "",
           "",
           "",
           "",
           "",
           "",
           ""
          ],
          [
           "100%",
           "",
           "",
           "",
           "",
           "",
           "",
           "",
           "",
           "",
           "",
           "",
           "",
           "",
           ""
          ],
          [
           "",
           "",
           "",
           "",
           "",
           "",
           "",
           "",
           "",
           "",
           "",
           "",
           "",
           "",
           ""
          ]
         ],
         "texttemplate": "%{text}",
         "type": "heatmap",
         "visible": false,
         "x": [
          "0년차",
          "1년차",
          "2년차",
          "3년차",
          "4년차",
          "5년차",
          "6년차",
          "7년차",
          "8년차",
          "9년차",
          "10년차",
          "11년차",
          "12년차",
          "13년차",
          "14년차"
         ],
         "y": {
          "bdata": "2gfbB9wH3QfeB98H4AfhB+IH4wfkB+UH5gfnB+gH6Qc=",
          "dtype": "i2"
         },
         "z": {
          "bdata": "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",
          "dtype": "f8",
          "shape": "16, 15"
         }
        },
        {
         "colorscale": [
          [
           0,
           "rgb(247,251,255)"
          ],
          [
           0.125,
           "rgb(222,235,247)"
          ],
          [
           0.25,
           "rgb(198,219,239)"
          ],
          [
           0.375,
           "rgb(158,202,225)"
          ],
          [
           0.5,
           "rgb(107,174,214)"
          ],
          [
           0.625,
           "rgb(66,146,198)"
          ],
          [
           0.75,
           "rgb(33,113,181)"
          ],
          [
           0.875,
           "rgb(8,81,156)"
          ],
          [
           1,
           "rgb(8,48,107)"
          ]
         ],
         "connectgaps": false,
         "showscale": false,
         "text": [
          [
           "100%",
           "67%",
           "67%",
           "33%",
           "33%",
           "33%",
           "33%",
           "33%",
           "33%",
           "",
           "",
           "",
           "",
           ""
          ],
          [
           "100%",
           "50%",
           "50%",
           "50%",
           "50%",
           "50%",
           "50%",
           "50%",
           "25%",
           "25%",
           "25%",
           "25%",
           "25%",
           "25%"
          ],
          [
           "100%",
           "80%",
           "80%",
           "80%",
           "80%",
           "80%",
           "80%",
           "60%",
           "40%",
           "20%",
           "",
           "",
           "",
           ""
          ],
          [
           "100%",
           "100%",
           "100%",
           "100%",
           "83%",
           "67%",
           "67%",
           "67%",
           "67%",
           "50%",
           "50%",
           "33%",
           "",
           ""
          ],
          [
           "100%",
           "100%",
           "100%",
           "100%",
           "100%",
           "100%",
           "100%",
           "75%",
           "75%",
           "25%",
           "",
           "",
           "",
           ""
          ],
          [
           "100%",
           "80%",
           "80%",
           "60%",
           "60%",
           "60%",
           "60%",
           "20%",
           "20%",
           "20%",
           "",
           "",
           "",
           ""
          ],
          [
           "100%",
           "100%",
           "100%",
           "83%",
           "67%",
           "67%",
           "67%",
           "50%",
           "50%",
           "",
           "",
           "",
           "",
           ""
          ],
          [
           "100%",
           "100%",
           "100%",
           "80%",
           "60%",
           "60%",
           "20%",
           "20%",
           "",
           "",
           "",
           "",
           "",
           ""
          ],
          [
           "100%",
           "100%",
           "100%",
           "100%",
           "100%",
           "100%",
           "83%",
           "",
           "",
           "",
           "",
           "",
           "",
           ""
          ],
          [
           "100%",
           "100%",
           "100%",
           "88%",
           "75%",
           "75%",
           "",
           "",
           "",
           "",
           "",
           "",
           "",
           ""
          ],
          [
           "100%",
           "83%",
           "83%",
           "83%",
           "83%",
           "",
           "",
           "",
           "",
           "",
           "",
           "",
           "",
           ""
          ],
          [
           "100%",
           "100%",
           "100%",
           "100%",
           "",
           "",
           "",
           "",
           "",
           "",
           "",
           "",
           "",
           ""
          ],
          [
           "100%",
           "60%",
           "60%",
           "",
           "",
           "",
           "",
           "",
           "",
           "",
           "",
           "",
           "",
           ""
          ],
          [
           "100%",
           "89%",
           "",
           "",
           "",
           "",
           "",
           "",
           "",
           "",
           "",
           "",
           "",
           ""
          ],
          [
           "100%",
           "",
           "",
           "",
           "",
           "",
           "",
           "",
           "",
           "",
           "",
           "",
           "",
           ""
          ],
          [
           "",
           "",
           "",
           "",
           "",
           "",
           "",
           "",
           "",
           "",
           "",
           "",
           "",
           ""
          ]
         ],
         "texttemplate": "%{text}",
         "type": "heatmap",
         "visible": false,
         "x": [
          "0년차",
          "1년차",
          "2년차",
          "3년차",
          "4년차",
          "5년차",
          "6년차",
          "7년차",
          "8년차",
          "9년차",
          "10년차",
          "11년차",
          "12년차",
          "13년차"
         ],
         "y": {
          "bdata": "2gfbB9wH3QfeB98H4AfhB+IH4wfkB+UH5gfnB+gH6Qc=",
          "dtype": "i2"
         },
         "z": {
          "bdata": "AAAAAAAAWUCqqqqqqqpQQKqqqqqqqlBAqqqqqqqqQECqqqqqqqpAQKqqqqqqqkBAqqqqqqqqQECqqqqqqqpAQKqqqqqqqkBAAAAAAAAA+H8AAAAAAAD4fwAAAAAAAPh/AAAAAAAA+H8AAAAAAAD4fwAAAAAAAFlAAAAAAAAASUAAAAAAAABJQAAAAAAAAElAAAAAAAAASUAAAAAAAABJQAAAAAAAAElAAAAAAAAASUAAAAAAAAA5QAAAAAAAADlAAAAAAAAAOUAAAAAAAAA5QAAAAAAAADlAAAAAAAAAOUAAAAAAAABZQAAAAAAAAFRAAAAAAAAAVEAAAAAAAABUQAAAAAAAAFRAAAAAAAAAVEAAAAAAAABUQAAAAAAAAE5AAAAAAAAAREAAAAAAAAA0QAAAAAAAAPh/AAAAAAAA+H8AAAAAAAD4fwAAAAAAAPh/AAAAAAAAWUAAAAAAAABZQAAAAAAAAFlAAAAAAAAAWUBWVVVVVdVUQKqqqqqqqlBAqqqqqqqqUECqqqqqqqpQQKqqqqqqqlBAAAAAAAAASUAAAAAAAABJQKqqqqqqqkBAAAAAAAAA+H8AAAAAAAD4fwAAAAAAAFlAAAAAAAAAWUAAAAAAAABZQAAAAAAAAFlAAAAAAAAAWUAAAAAAAABZQAAAAAAAAFlAAAAAAADAUkAAAAAAAMBSQAAAAAAAADlAAAAAAAAA+H8AAAAAAAD4fwAAAAAAAPh/AAAAAAAA+H8AAAAAAABZQAAAAAAAAFRAAAAAAAAAVEAAAAAAAABOQAAAAAAAAE5AAAAAAAAATkAAAAAAAABOQAAAAAAAADRAAAAAAAAANEAAAAAAAAA0QAAAAAAAAPh/AAAAAAAA+H8AAAAAAAD4fwAAAAAAAPh/AAAAAAAAWUAAAAAAAABZQAAAAAAAAFlAVlVVVVXVVECqqqqqqqpQQKqqqqqqqlBAqqqqqqqqUEAAAAAAAABJQAAAAAAAAElAAAAAAAAA+H8AAAAAAAD4fwAAAAAAAPh/AAAAAAAA+H8AAAAAAAD4fwAAAAAAAFlAAAAAAAAAWUAAAAAAAABZQAAAAAAAAFRAAAAAAAAATkAAAAAAAABOQAAAAAAAADRAAAAAAAAANEAAAAAAAAD4fwAAAAAAAPh/AAAAAAAA+H8AAAAAAAD4fwAAAAAAAPh/AAAAAAAA+H8AAAAAAABZQAAAAAAAAFlAAAAAAAAAWUAAAAAAAABZQAAAAAAAAFlAAAAAAAAAWUBWVVVVVdVUQAAAAAAAAPh/AAAAAAAA+H8AAAAAAAD4fwAAAAAAAPh/AAAAAAAA+H8AAAAAAAD4fwAAAAAAAPh/AAAAAAAAWUAAAAAAAABZQAAAAAAAAFlAAAAAAADgVUAAAAAAAMBSQAAAAAAAwFJAAAAAAAAA+H8AAAAAAAD4fwAAAAAAAPh/AAAAAAAA+H8AAAAAAAD4fwAAAAAAAPh/AAAAAAAA+H8AAAAAAAD4fwAAAAAAAFlAVlVVVVXVVEBWVVVVVdVUQFZVVVVV1VRAVlVVVVXVVEAAAAAAAAD4fwAAAAAAAPh/AAAAAAAA+H8AAAAAAAD4fwAAAAAAAPh/AAAAAAAA+H8AAAAAAAD4fwAAAAAAAPh/AAAAAAAA+H8AAAAAAABZQAAAAAAAAFlAAAAAAAAAWUAAAAAAAABZQAAAAAAAAPh/AAAAAAAA+H8AAAAAAAD4fwAAAAAAAPh/AAAAAAAA+H8AAAAAAAD4fwAAAAAAAPh/AAAAAAAA+H8AAAAAAAD4fwAAAAAAAPh/AAAAAAAAWUAAAAAAAABOQAAAAAAAAE5AAAAAAAAA+H8AAAAAAAD4fwAAAAAAAPh/AAAAAAAA+H8AAAAAAAD4fwAAAAAAAPh/AAAAAAAA+H8AAAAAAAD4fwAAAAAAAPh/AAAAAAAA+H8AAAAAAAD4fwAAAAAAAFlAjuM4juM4VkAAAAAAAAD4fwAAAAAAAPh/AAAAAAAA+H8AAAAAAAD4fwAAAAAAAPh/AAAAAAAA+H8AAAAAAAD4fwAAAAAAAPh/AAAAAAAA+H8AAAAAAAD4fwAAAAAAAPh/AAAAAAAA+H8AAAAAAABZQAAAAAAAAPh/AAAAAAAA+H8AAAAAAAD4fwAAAAAAAPh/AAAAAAAA+H8AAAAAAAD4fwAAAAAAAPh/AAAAAAAA+H8AAAAAAAD4fwAAAAAAAPh/AAAAAAAA+H8AAAAAAAD4fwAAAAAAAPh/AAAAAAAA+H8AAAAAAAD4fwAAAAAAAPh/AAAAAAAA+H8AAAAAAAD4fwAAAAAAAPh/AAAAAAAA+H8AAAAAAAD4fwAAAAAAAPh/AAAAAAAA+H8AAAAAAAD4fwAAAAAAAPh/AAAAAAAA+H8AAAAAAAD4fw==",
          "dtype": "f8",
          "shape": "16, 14"
         }
        },
        {
         "colorscale": [
          [
           0,
           "rgb(247,251,255)"
          ],
          [
           0.125,
           "rgb(222,235,247)"
          ],
          [
           0.25,
           "rgb(198,219,239)"
          ],
          [
           0.375,
           "rgb(158,202,225)"
          ],
          [
           0.5,
           "rgb(107,174,214)"
          ],
          [
           0.625,
           "rgb(66,146,198)"
          ],
          [
           0.75,
           "rgb(33,113,181)"
          ],
          [
           0.875,
           "rgb(8,81,156)"
          ],
          [
           1,
           "rgb(8,48,107)"
          ]
         ],
         "connectgaps": false,
         "showscale": false,
         "text": [
          [
           "100%",
           "90%",
           "90%",
           "90%",
           "80%",
           "80%",
           "80%",
           "60%",
           "50%",
           "50%",
           "50%",
           "40%",
           "40%",
           "40%",
           "30%"
          ],
          [
           "100%",
           "85%",
           "77%",
           "69%",
           "69%",
           "54%",
           "54%",
           "46%",
           "46%",
           "46%",
           "46%",
           "38%",
           "38%",
           "23%",
           ""
          ],
          [
           "100%",
           "100%",
           "86%",
           "86%",
           "71%",
           "62%",
           "57%",
           "52%",
           "43%",
           "29%",
           "24%",
           "19%",
           "14%",
           "",
           ""
          ],
          [
           "100%",
           "100%",
           "100%",
           "89%",
           "79%",
           "74%",
           "53%",
           "42%",
           "42%",
           "42%",
           "42%",
           "37%",
           "",
           "",
           ""
          ],
          [
           "100%",
           "94%",
           "76%",
           "76%",
           "65%",
           "53%",
           "41%",
           "35%",
           "29%",
           "29%",
           "29%",
           "",
           "",
           "",
           ""
          ],
          [
           "100%",
           "92%",
           "83%",
           "83%",
           "83%",
           "67%",
           "58%",
           "58%",
           "50%",
           "50%",
           "",
           "",
           "",
           "",
           ""
          ],
          [
           "100%",
           "100%",
           "95%",
           "90%",
           "81%",
           "76%",
           "71%",
           "67%",
           "52%",
           "",
           "",
           "",
           "",
           "",
           ""
          ],
          [
           "100%",
           "100%",
           "88%",
           "88%",
           "69%",
           "62%",
           "62%",
           "50%",
           "",
           "",
           "",
           "",
           "",
           "",
           ""
          ],
          [
           "100%",
           "100%",
           "100%",
           "100%",
           "83%",
           "83%",
           "75%",
           "",
           "",
           "",
           "",
           "",
           "",
           "",
           ""
          ],
          [
           "100%",
           "100%",
           "100%",
           "82%",
           "82%",
           "82%",
           "",
           "",
           "",
           "",
           "",
           "",
           "",
           "",
           ""
          ],
          [
           "100%",
           "100%",
           "100%",
           "82%",
           "64%",
           "",
           "",
           "",
           "",
           "",
           "",
           "",
           "",
           "",
           ""
          ],
          [
           "100%",
           "100%",
           "100%",
           "100%",
           "",
           "",
           "",
           "",
           "",
           "",
           "",
           "",
           "",
           "",
           ""
          ],
          [
           "100%",
           "85%",
           "77%",
           "",
           "",
           "",
           "",
           "",
           "",
           "",
           "",
           "",
           "",
           "",
           ""
          ],
          [
           "100%",
           "80%",
           "",
           "",
           "",
           "",
           "",
           "",
           "",
           "",
           "",
           "",
           "",
           "",
           ""
          ],
          [
           "100%",
           "",
           "",
           "",
           "",
           "",
           "",
           "",
           "",
           "",
           "",
           "",
           "",
           "",
           ""
          ],
          [
           "",
           "",
           "",
           "",
           "",
           "",
           "",
           "",
           "",
           "",
           "",
           "",
           "",
           "",
           ""
          ]
         ],
         "texttemplate": "%{text}",
         "type": "heatmap",
         "visible": false,
         "x": [
          "0년차",
          "1년차",
          "2년차",
          "3년차",
          "4년차",
          "5년차",
          "6년차",
          "7년차",
          "8년차",
          "9년차",
          "10년차",
          "11년차",
          "12년차",
          "13년차",
          "14년차"
         ],
         "y": {
          "bdata": "2gfbB9wH3QfeB98H4AfhB+IH4wfkB+UH5gfnB+gH6Qc=",
          "dtype": "i2"
         },
         "z": {
          "bdata": "AAAAAAAAWUAAAAAAAIBWQAAAAAAAgFZAAAAAAACAVkAAAAAAAABUQAAAAAAAAFRAAAAAAAAAVEAAAAAAAABOQAAAAAAAAElAAAAAAAAASUAAAAAAAABJQAAAAAAAAERAAAAAAAAAREAAAAAAAABEQAAAAAAAAD5AAAAAAAAAWUB2Yid2YidVQLITO7ETO1NA7MRO7MROUUDsxE7sxE5RQMVO7MRO7EpAxU7sxE7sSkA7sRM7sRNHQDuxEzuxE0dAO7ETO7ETR0A7sRM7sRNHQLITO7ETO0NAshM7sRM7Q0A7sRM7sRM3QAAAAAAAAPh/AAAAAAAAWUAAAAAAAABZQNu2bdu2bVVA27Zt27ZtVUC3bdu2bdtRQD3P8zzP805AJEmSJEmSTEANwzAMwzBKQNu2bdu2bUVAJEmSJEmSPEDzPM/zPM83QMMwDMMwDDNAJEmSJEmSLEAAAAAAAAD4fwAAAAAAAPh/AAAAAAAAWUAAAAAAAABZQAAAAAAAAFlA5TWU11BeVkDKayivobxTQLyG8hrKa1JADeU1lNdQSkDXUF5DeQ1FQNdQXkN5DUVA11BeQ3kNRUDXUF5DeQ1FQLyG8hrKa0JAAAAAAAAA+H8AAAAAAAD4fwAAAAAAAPh/AAAAAAAAWUCHh4eHh4dXQB4eHh4eHlNAHh4eHh4eU0AtLS0tLS1QQHl4eHh4eEpAlpaWlpaWRECmpaWlpaVBQGppaWlpaT1AamlpaWlpPUBqaWlpaWk9QAAAAAAAAPh/AAAAAAAA+H8AAAAAAAD4fwAAAAAAAPh/AAAAAAAAWUCqqqqqqupWQFZVVVVV1VRAVlVVVVXVVEBWVVVVVdVUQKqqqqqqqlBAq6qqqqoqTUCrqqqqqipNQAAAAAAAAElAAAAAAAAASUAAAAAAAAD4fwAAAAAAAPh/AAAAAAAA+H8AAAAAAAD4fwAAAAAAAPh/AAAAAAAAWUAAAAAAAABZQPM8z/M8z1dA6Hme53meVkDP8zzP8zxUQMMwDMMwDFNAt23btm3bUUCqqqqqqqpQQA3DMAzDMEpAAAAAAAAA+H8AAAAAAAD4fwAAAAAAAPh/AAAAAAAA+H8AAAAAAAD4fwAAAAAAAPh/AAAAAAAAWUAAAAAAAABZQAAAAAAA4FVAAAAAAADgVUAAAAAAADBRQAAAAAAAQE9AAAAAAABAT0AAAAAAAABJQAAAAAAAAPh/AAAAAAAA+H8AAAAAAAD4fwAAAAAAAPh/AAAAAAAA+H8AAAAAAAD4fwAAAAAAAPh/AAAAAAAAWUAAAAAAAABZQAAAAAAAAFlAAAAAAAAAWUBWVVVVVdVUQFZVVVVV1VRAAAAAAADAUkAAAAAAAAD4fwAAAAAAAPh/AAAAAAAA+H8AAAAAAAD4fwAAAAAAAPh/AAAAAAAA+H8AAAAAAAD4fwAAAAAAAPh/AAAAAAAAWUAAAAAAAABZQAAAAAAAAFlAddFFF110VEB10UUXXXRUQHXRRRdddFRAAAAAAAAA+H8AAAAAAAD4fwAAAAAAAPh/AAAAAAAA+H8AAAAAAAD4fwAAAAAAAPh/AAAAAAAA+H8AAAAAAAD4fwAAAAAAAPh/AAAAAAAAWUAAAAAAAABZQAAAAAAAAFlAddFFF110VEDRRRdddNFPQAAAAAAAAPh/AAAAAAAA+H8AAAAAAAD4fwAAAAAAAPh/AAAAAAAA+H8AAAAAAAD4fwAAAAAAAPh/AAAAAAAA+H8AAAAAAAD4fwAAAAAAAPh/AAAAAAAAWUAAAAAAAABZQAAAAAAAAFlAAAAAAAAAWUAAAAAAAAD4fwAAAAAAAPh/AAAAAAAA+H8AAAAAAAD4fwAAAAAAAPh/AAAAAAAA+H8AAAAAAAD4fwAAAAAAAPh/AAAAAAAA+H8AAAAAAAD4fwAAAAAAAPh/AAAAAAAAWUB2Yid2YidVQLITO7ETO1NAAAAAAAAA+H8AAAAAAAD4fwAAAAAAAPh/AAAAAAAA+H8AAAAAAAD4fwAAAAAAAPh/AAAAAAAA+H8AAAAAAAD4fwAAAAAAAPh/AAAAAAAA+H8AAAAAAAD4fwAAAAAAAPh/AAAAAAAAWUAAAAAAAABUQAAAAAAAAPh/AAAAAAAA+H8AAAAAAAD4fwAAAAAAAPh/AAAAAAAA+H8AAAAAAAD4fwAAAAAAAPh/AAAAAAAA+H8AAAAAAAD4fwAAAAAAAPh/AAAAAAAA+H8AAAAAAAD4fwAAAAAAAPh/AAAAAAAAWUAAAAAAAAD4fwAAAAAAAPh/AAAAAAAA+H8AAAAAAAD4fwAAAAAAAPh/AAAAAAAA+H8AAAAAAAD4fwAAAAAAAPh/AAAAAAAA+H8AAAAAAAD4fwAAAAAAAPh/AAAAAAAA+H8AAAAAAAD4fwAAAAAAAPh/AAAAAAAA+H8AAAAAAAD4fwAAAAAAAPh/AAAAAAAA+H8AAAAAAAD4fwAAAAAAAPh/AAAAAAAA+H8AAAAAAAD4fwAAAAAAAPh/AAAAAAAA+H8AAAAAAAD4fwAAAAAAAPh/AAAAAAAA+H8AAAAAAAD4fwAAAAAAAPh/",
          "dtype": "f8",
          "shape": "16, 15"
         }
        },
        {
         "colorscale": [
          [
           0,
           "rgb(247,251,255)"
          ],
          [
           0.125,
           "rgb(222,235,247)"
          ],
          [
           0.25,
           "rgb(198,219,239)"
          ],
          [
           0.375,
           "rgb(158,202,225)"
          ],
          [
           0.5,
           "rgb(107,174,214)"
          ],
          [
           0.625,
           "rgb(66,146,198)"
          ],
          [
           0.75,
           "rgb(33,113,181)"
          ],
          [
           0.875,
           "rgb(8,81,156)"
          ],
          [
           1,
           "rgb(8,48,107)"
          ]
         ],
         "connectgaps": false,
         "showscale": false,
         "text": [
          [
           "100%",
           "100%",
           "100%",
           "100%",
           "100%",
           "75%",
           "50%",
           "50%",
           "25%",
           "25%",
           "25%",
           "25%",
           "25%",
           "25%",
           "25%"
          ],
          [
           "100%",
           "92%",
           "77%",
           "77%",
           "77%",
           "69%",
           "62%",
           "62%",
           "54%",
           "54%",
           "54%",
           "54%",
           "46%",
           "38%",
           ""
          ],
          [
           "100%",
           "94%",
           "94%",
           "88%",
           "82%",
           "82%",
           "82%",
           "65%",
           "59%",
           "47%",
           "47%",
           "41%",
           "18%",
           "",
           ""
          ],
          [
           "100%",
           "92%",
           "85%",
           "77%",
           "69%",
           "69%",
           "69%",
           "69%",
           "69%",
           "54%",
           "54%",
           "38%",
           "",
           "",
           ""
          ],
          [
           "100%",
           "88%",
           "88%",
           "88%",
           "62%",
           "62%",
           "25%",
           "25%",
           "12%",
           "12%",
           "",
           "",
           "",
           "",
           ""
          ],
          [
           "100%",
           "100%",
           "100%",
           "95%",
           "90%",
           "90%",
           "75%",
           "70%",
           "55%",
           "45%",
           "",
           "",
           "",
           "",
           ""
          ],
          [
           "100%",
           "94%",
           "94%",
           "76%",
           "76%",
           "76%",
           "76%",
           "65%",
           "53%",
           "",
           "",
           "",
           "",
           "",
           ""
          ],
          [
           "100%",
           "100%",
           "100%",
           "92%",
           "77%",
           "77%",
           "46%",
           "38%",
           "",
           "",
           "",
           "",
           "",
           "",
           ""
          ],
          [
           "100%",
           "87%",
           "80%",
           "80%",
           "80%",
           "73%",
           "60%",
           "",
           "",
           "",
           "",
           "",
           "",
           "",
           ""
          ],
          [
           "100%",
           "95%",
           "90%",
           "85%",
           "80%",
           "80%",
           "",
           "",
           "",
           "",
           "",
           "",
           "",
           "",
           ""
          ],
          [
           "100%",
           "94%",
           "88%",
           "65%",
           "65%",
           "",
           "",
           "",
           "",
           "",
           "",
           "",
           "",
           "",
           ""
          ],
          [
           "100%",
           "87%",
           "80%",
           "73%",
           "",
           "",
           "",
           "",
           "",
           "",
           "",
           "",
           "",
           "",
           ""
          ],
          [
           "100%",
           "91%",
           "82%",
           "",
           "",
           "",
           "",
           "",
           "",
           "",
           "",
           "",
           "",
           "",
           ""
          ],
          [
           "100%",
           "93%",
           "",
           "",
           "",
           "",
           "",
           "",
           "",
           "",
           "",
           "",
           "",
           "",
           ""
          ],
          [
           "100%",
           "",
           "",
           "",
           "",
           "",
           "",
           "",
           "",
           "",
           "",
           "",
           "",
           "",
           ""
          ],
          [
           "",
           "",
           "",
           "",
           "",
           "",
           "",
           "",
           "",
           "",
           "",
           "",
           "",
           "",
           ""
          ]
         ],
         "texttemplate": "%{text}",
         "type": "heatmap",
         "visible": false,
         "x": [
          "0년차",
          "1년차",
          "2년차",
          "3년차",
          "4년차",
          "5년차",
          "6년차",
          "7년차",
          "8년차",
          "9년차",
          "10년차",
          "11년차",
          "12년차",
          "13년차",
          "14년차"
         ],
         "y": {
          "bdata": "2gfbB9wH3QfeB98H4AfhB+IH4wfkB+UH5gfnB+gH6Qc=",
          "dtype": "i2"
         },
         "z": {
          "bdata": "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",
          "dtype": "f8",
          "shape": "16, 15"
         }
        },
        {
         "colorscale": [
          [
           0,
           "rgb(247,251,255)"
          ],
          [
           0.125,
           "rgb(222,235,247)"
          ],
          [
           0.25,
           "rgb(198,219,239)"
          ],
          [
           0.375,
           "rgb(158,202,225)"
          ],
          [
           0.5,
           "rgb(107,174,214)"
          ],
          [
           0.625,
           "rgb(66,146,198)"
          ],
          [
           0.75,
           "rgb(33,113,181)"
          ],
          [
           0.875,
           "rgb(8,81,156)"
          ],
          [
           1,
           "rgb(8,48,107)"
          ]
         ],
         "connectgaps": false,
         "showscale": false,
         "text": [
          [
           "100%",
           "100%",
           "80%",
           "80%",
           "80%",
           "80%",
           "60%",
           "60%",
           "60%",
           "40%",
           "40%",
           "40%",
           "40%",
           "40%",
           "20%"
          ],
          [
           "100%",
           "82%",
           "82%",
           "82%",
           "82%",
           "82%",
           "64%",
           "55%",
           "45%",
           "45%",
           "36%",
           "27%",
           "27%",
           "18%",
           ""
          ],
          [
           "100%",
           "100%",
           "88%",
           "84%",
           "56%",
           "48%",
           "40%",
           "32%",
           "32%",
           "20%",
           "16%",
           "16%",
           "16%",
           "",
           ""
          ],
          [
           "100%",
           "78%",
           "72%",
           "61%",
           "50%",
           "44%",
           "44%",
           "39%",
           "33%",
           "28%",
           "28%",
           "17%",
           "",
           "",
           ""
          ],
          [
           "100%",
           "93%",
           "93%",
           "87%",
           "87%",
           "80%",
           "67%",
           "53%",
           "53%",
           "47%",
           "47%",
           "",
           "",
           "",
           ""
          ],
          [
           "100%",
           "90%",
           "70%",
           "60%",
           "60%",
           "60%",
           "60%",
           "40%",
           "30%",
           "20%",
           "",
           "",
           "",
           "",
           ""
          ],
          [
           "100%",
           "93%",
           "86%",
           "71%",
           "71%",
           "57%",
           "57%",
           "50%",
           "43%",
           "",
           "",
           "",
           "",
           "",
           ""
          ],
          [
           "100%",
           "100%",
           "95%",
           "91%",
           "91%",
           "77%",
           "73%",
           "68%",
           "",
           "",
           "",
           "",
           "",
           "",
           ""
          ],
          [
           "100%",
           "89%",
           "89%",
           "78%",
           "78%",
           "78%",
           "67%",
           "",
           "",
           "",
           "",
           "",
           "",
           "",
           ""
          ],
          [
           "100%",
           "100%",
           "78%",
           "70%",
           "57%",
           "48%",
           "",
           "",
           "",
           "",
           "",
           "",
           "",
           "",
           ""
          ],
          [
           "100%",
           "100%",
           "100%",
           "85%",
           "77%",
           "",
           "",
           "",
           "",
           "",
           "",
           "",
           "",
           "",
           ""
          ],
          [
           "100%",
           "100%",
           "100%",
           "91%",
           "",
           "",
           "",
           "",
           "",
           "",
           "",
           "",
           "",
           "",
           ""
          ],
          [
           "100%",
           "86%",
           "76%",
           "",
           "",
           "",
           "",
           "",
           "",
           "",
           "",
           "",
           "",
           "",
           ""
          ],
          [
           "100%",
           "100%",
           "",
           "",
           "",
           "",
           "",
           "",
           "",
           "",
           "",
           "",
           "",
           "",
           ""
          ],
          [
           "100%",
           "",
           "",
           "",
           "",
           "",
           "",
           "",
           "",
           "",
           "",
           "",
           "",
           "",
           ""
          ],
          [
           "",
           "",
           "",
           "",
           "",
           "",
           "",
           "",
           "",
           "",
           "",
           "",
           "",
           "",
           ""
          ]
         ],
         "texttemplate": "%{text}",
         "type": "heatmap",
         "visible": false,
         "x": [
          "0년차",
          "1년차",
          "2년차",
          "3년차",
          "4년차",
          "5년차",
          "6년차",
          "7년차",
          "8년차",
          "9년차",
          "10년차",
          "11년차",
          "12년차",
          "13년차",
          "14년차"
         ],
         "y": {
          "bdata": "2gfbB9wH3QfeB98H4AfhB+IH4wfkB+UH5gfnB+gH6Qc=",
          "dtype": "i2"
         },
         "z": {
          "bdata": "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",
          "dtype": "f8",
          "shape": "16, 15"
         }
        }
       ],
       "layout": {
        "annotations": [
         {
          "align": "left",
          "showarrow": false,
          "text": "직무 선택:",
          "x": 0,
          "y": 1.08,
          "yref": "paper"
         }
        ],
        "font": {
         "size": 14
        },
        "height": 700,
        "template": {
         "data": {
          "bar": [
           {
            "error_x": {
             "color": "#2a3f5f"
            },
            "error_y": {
             "color": "#2a3f5f"
            },
            "marker": {
             "line": {
              "color": "#E5ECF6",
              "width": 0.5
             },
             "pattern": {
              "fillmode": "overlay",
              "size": 10,
              "solidity": 0.2
             }
            },
            "type": "bar"
           }
          ],
          "barpolar": [
           {
            "marker": {
             "line": {
              "color": "#E5ECF6",
              "width": 0.5
             },
             "pattern": {
              "fillmode": "overlay",
              "size": 10,
              "solidity": 0.2
             }
            },
            "type": "barpolar"
           }
          ],
          "carpet": [
           {
            "aaxis": {
             "endlinecolor": "#2a3f5f",
             "gridcolor": "white",
             "linecolor": "white",
             "minorgridcolor": "white",
             "startlinecolor": "#2a3f5f"
            },
            "baxis": {
             "endlinecolor": "#2a3f5f",
             "gridcolor": "white",
             "linecolor": "white",
             "minorgridcolor": "white",
             "startlinecolor": "#2a3f5f"
            },
            "type": "carpet"
           }
          ],
          "choropleth": [
           {
            "colorbar": {
             "outlinewidth": 0,
             "ticks": ""
            },
            "type": "choropleth"
           }
          ],
          "contour": [
           {
            "colorbar": {
             "outlinewidth": 0,
             "ticks": ""
            },
            "colorscale": [
             [
              0,
              "#0d0887"
             ],
             [
              0.1111111111111111,
              "#46039f"
             ],
             [
              0.2222222222222222,
              "#7201a8"
             ],
             [
              0.3333333333333333,
              "#9c179e"
             ],
             [
              0.4444444444444444,
              "#bd3786"
             ],
             [
              0.5555555555555556,
              "#d8576b"
             ],
             [
              0.6666666666666666,
              "#ed7953"
             ],
             [
              0.7777777777777778,
              "#fb9f3a"
             ],
             [
              0.8888888888888888,
              "#fdca26"
             ],
             [
              1,
              "#f0f921"
             ]
            ],
            "type": "contour"
           }
          ],
          "contourcarpet": [
           {
            "colorbar": {
             "outlinewidth": 0,
             "ticks": ""
            },
            "type": "contourcarpet"
           }
          ],
          "heatmap": [
           {
            "colorbar": {
             "outlinewidth": 0,
             "ticks": ""
            },
            "colorscale": [
             [
              0,
              "#0d0887"
             ],
             [
              0.1111111111111111,
              "#46039f"
             ],
             [
              0.2222222222222222,
              "#7201a8"
             ],
             [
              0.3333333333333333,
              "#9c179e"
             ],
             [
              0.4444444444444444,
              "#bd3786"
             ],
             [
              0.5555555555555556,
              "#d8576b"
             ],
             [
              0.6666666666666666,
              "#ed7953"
             ],
             [
              0.7777777777777778,
              "#fb9f3a"
             ],
             [
              0.8888888888888888,
              "#fdca26"
             ],
             [
              1,
              "#f0f921"
             ]
            ],
            "type": "heatmap"
           }
          ],
          "histogram": [
           {
            "marker": {
             "pattern": {
              "fillmode": "overlay",
              "size": 10,
              "solidity": 0.2
             }
            },
            "type": "histogram"
           }
          ],
          "histogram2d": [
           {
            "colorbar": {
             "outlinewidth": 0,
             "ticks": ""
            },
            "colorscale": [
             [
              0,
              "#0d0887"
             ],
             [
              0.1111111111111111,
              "#46039f"
             ],
             [
              0.2222222222222222,
              "#7201a8"
             ],
             [
              0.3333333333333333,
              "#9c179e"
             ],
             [
              0.4444444444444444,
              "#bd3786"
             ],
             [
              0.5555555555555556,
              "#d8576b"
             ],
             [
              0.6666666666666666,
              "#ed7953"
             ],
             [
              0.7777777777777778,
              "#fb9f3a"
             ],
             [
              0.8888888888888888,
              "#fdca26"
             ],
             [
              1,
              "#f0f921"
             ]
            ],
            "type": "histogram2d"
           }
          ],
          "histogram2dcontour": [
           {
            "colorbar": {
             "outlinewidth": 0,
             "ticks": ""
            },
            "colorscale": [
             [
              0,
              "#0d0887"
             ],
             [
              0.1111111111111111,
              "#46039f"
             ],
             [
              0.2222222222222222,
              "#7201a8"
             ],
             [
              0.3333333333333333,
              "#9c179e"
             ],
             [
              0.4444444444444444,
              "#bd3786"
             ],
             [
              0.5555555555555556,
              "#d8576b"
             ],
             [
              0.6666666666666666,
              "#ed7953"
             ],
             [
              0.7777777777777778,
              "#fb9f3a"
             ],
             [
              0.8888888888888888,
              "#fdca26"
             ],
             [
              1,
              "#f0f921"
             ]
            ],
            "type": "histogram2dcontour"
           }
          ],
          "mesh3d": [
           {
            "colorbar": {
             "outlinewidth": 0,
             "ticks": ""
            },
            "type": "mesh3d"
           }
          ],
          "parcoords": [
           {
            "line": {
             "colorbar": {
              "outlinewidth": 0,
              "ticks": ""
             }
            },
            "type": "parcoords"
           }
          ],
          "pie": [
           {
            "automargin": true,
            "type": "pie"
           }
          ],
          "scatter": [
           {
            "fillpattern": {
             "fillmode": "overlay",
             "size": 10,
             "solidity": 0.2
            },
            "type": "scatter"
           }
          ],
          "scatter3d": [
           {
            "line": {
             "colorbar": {
              "outlinewidth": 0,
              "ticks": ""
             }
            },
            "marker": {
             "colorbar": {
              "outlinewidth": 0,
              "ticks": ""
             }
            },
            "type": "scatter3d"
           }
          ],
          "scattercarpet": [
           {
            "marker": {
             "colorbar": {
              "outlinewidth": 0,
              "ticks": ""
             }
            },
            "type": "scattercarpet"
           }
          ],
          "scattergeo": [
           {
            "marker": {
             "colorbar": {
              "outlinewidth": 0,
              "ticks": ""
             }
            },
            "type": "scattergeo"
           }
          ],
          "scattergl": [
           {
            "marker": {
             "colorbar": {
              "outlinewidth": 0,
              "ticks": ""
             }
            },
            "type": "scattergl"
           }
          ],
          "scattermap": [
           {
            "marker": {
             "colorbar": {
              "outlinewidth": 0,
              "ticks": ""
             }
            },
            "type": "scattermap"
           }
          ],
          "scattermapbox": [
           {
            "marker": {
             "colorbar": {
              "outlinewidth": 0,
              "ticks": ""
             }
            },
            "type": "scattermapbox"
           }
          ],
          "scatterpolar": [
           {
            "marker": {
             "colorbar": {
              "outlinewidth": 0,
              "ticks": ""
             }
            },
            "type": "scatterpolar"
           }
          ],
          "scatterpolargl": [
           {
            "marker": {
             "colorbar": {
              "outlinewidth": 0,
              "ticks": ""
             }
            },
            "type": "scatterpolargl"
           }
          ],
          "scatterternary": [
           {
            "marker": {
             "colorbar": {
              "outlinewidth": 0,
              "ticks": ""
             }
            },
            "type": "scatterternary"
           }
          ],
          "surface": [
           {
            "colorbar": {
             "outlinewidth": 0,
             "ticks": ""
            },
            "colorscale": [
             [
              0,
              "#0d0887"
             ],
             [
              0.1111111111111111,
              "#46039f"
             ],
             [
              0.2222222222222222,
              "#7201a8"
             ],
             [
              0.3333333333333333,
              "#9c179e"
             ],
             [
              0.4444444444444444,
              "#bd3786"
             ],
             [
              0.5555555555555556,
              "#d8576b"
             ],
             [
              0.6666666666666666,
              "#ed7953"
             ],
             [
              0.7777777777777778,
              "#fb9f3a"
             ],
             [
              0.8888888888888888,
              "#fdca26"
             ],
             [
              1,
              "#f0f921"
             ]
            ],
            "type": "surface"
           }
          ],
          "table": [
           {
            "cells": {
             "fill": {
              "color": "#EBF0F8"
             },
             "line": {
              "color": "white"
             }
            },
            "header": {
             "fill": {
              "color": "#C8D4E3"
             },
             "line": {
              "color": "white"
             }
            },
            "type": "table"
           }
          ]
         },
         "layout": {
          "annotationdefaults": {
           "arrowcolor": "#2a3f5f",
           "arrowhead": 0,
           "arrowwidth": 1
          },
          "autotypenumbers": "strict",
          "coloraxis": {
           "colorbar": {
            "outlinewidth": 0,
            "ticks": ""
           }
          },
          "colorscale": {
           "diverging": [
            [
             0,
             "#8e0152"
            ],
            [
             0.1,
             "#c51b7d"
            ],
            [
             0.2,
             "#de77ae"
            ],
            [
             0.3,
             "#f1b6da"
            ],
            [
             0.4,
             "#fde0ef"
            ],
            [
             0.5,
             "#f7f7f7"
            ],
            [
             0.6,
             "#e6f5d0"
            ],
            [
             0.7,
             "#b8e186"
            ],
            [
             0.8,
             "#7fbc41"
            ],
            [
             0.9,
             "#4d9221"
            ],
            [
             1,
             "#276419"
            ]
           ],
           "sequential": [
            [
             0,
             "#0d0887"
            ],
            [
             0.1111111111111111,
             "#46039f"
            ],
            [
             0.2222222222222222,
             "#7201a8"
            ],
            [
             0.3333333333333333,
             "#9c179e"
            ],
            [
             0.4444444444444444,
             "#bd3786"
            ],
            [
             0.5555555555555556,
             "#d8576b"
            ],
            [
             0.6666666666666666,
             "#ed7953"
            ],
            [
             0.7777777777777778,
             "#fb9f3a"
            ],
            [
             0.8888888888888888,
             "#fdca26"
            ],
            [
             1,
             "#f0f921"
            ]
           ],
           "sequentialminus": [
            [
             0,
             "#0d0887"
            ],
            [
             0.1111111111111111,
             "#46039f"
            ],
            [
             0.2222222222222222,
             "#7201a8"
            ],
            [
             0.3333333333333333,
             "#9c179e"
            ],
            [
             0.4444444444444444,
             "#bd3786"
            ],
            [
             0.5555555555555556,
             "#d8576b"
            ],
            [
             0.6666666666666666,
             "#ed7953"
            ],
            [
             0.7777777777777778,
             "#fb9f3a"
            ],
            [
             0.8888888888888888,
             "#fdca26"
            ],
            [
             1,
             "#f0f921"
            ]
           ]
          },
          "colorway": [
           "#636efa",
           "#EF553B",
           "#00cc96",
           "#ab63fa",
           "#FFA15A",
           "#19d3f3",
           "#FF6692",
           "#B6E880",
           "#FF97FF",
           "#FECB52"
          ],
          "font": {
           "color": "#2a3f5f"
          },
          "geo": {
           "bgcolor": "white",
           "lakecolor": "white",
           "landcolor": "#E5ECF6",
           "showlakes": true,
           "showland": true,
           "subunitcolor": "white"
          },
          "hoverlabel": {
           "align": "left"
          },
          "hovermode": "closest",
          "mapbox": {
           "style": "light"
          },
          "paper_bgcolor": "white",
          "plot_bgcolor": "#E5ECF6",
          "polar": {
           "angularaxis": {
            "gridcolor": "white",
            "linecolor": "white",
            "ticks": ""
           },
           "bgcolor": "#E5ECF6",
           "radialaxis": {
            "gridcolor": "white",
            "linecolor": "white",
            "ticks": ""
           }
          },
          "scene": {
           "xaxis": {
            "backgroundcolor": "#E5ECF6",
            "gridcolor": "white",
            "gridwidth": 2,
            "linecolor": "white",
            "showbackground": true,
            "ticks": "",
            "zerolinecolor": "white"
           },
           "yaxis": {
            "backgroundcolor": "#E5ECF6",
            "gridcolor": "white",
            "gridwidth": 2,
            "linecolor": "white",
            "showbackground": true,
            "ticks": "",
            "zerolinecolor": "white"
           },
           "zaxis": {
            "backgroundcolor": "#E5ECF6",
            "gridcolor": "white",
            "gridwidth": 2,
            "linecolor": "white",
            "showbackground": true,
            "ticks": "",
            "zerolinecolor": "white"
           }
          },
          "shapedefaults": {
           "line": {
            "color": "#2a3f5f"
           }
          },
          "ternary": {
           "aaxis": {
            "gridcolor": "white",
            "linecolor": "white",
            "ticks": ""
           },
           "baxis": {
            "gridcolor": "white",
            "linecolor": "white",
            "ticks": ""
           },
           "bgcolor": "#E5ECF6",
           "caxis": {
            "gridcolor": "white",
            "linecolor": "white",
            "ticks": ""
           }
          },
          "title": {
           "x": 0.05
          },
          "xaxis": {
           "automargin": true,
           "gridcolor": "white",
           "linecolor": "white",
           "ticks": "",
           "title": {
            "standoff": 15
           },
           "zerolinecolor": "white",
           "zerolinewidth": 2
          },
          "yaxis": {
           "automargin": true,
           "gridcolor": "white",
           "linecolor": "white",
           "ticks": "",
           "title": {
            "standoff": 15
           },
           "zerolinecolor": "white",
           "zerolinewidth": 2
          }
         }
        },
        "title": {
         "text": "직무별 입사 연도 잔존율 코호트 분석"
        },
        "updatemenus": [
         {
          "active": 0,
          "buttons": [
           {
            "args": [
             {
              "visible": [
               true,
               false,
               false,
               false,
               false,
               false
              ]
             }
            ],
            "label": "전체",
            "method": "update"
           },
           {
            "args": [
             {
              "visible": [
               false,
               true,
               false,
               false,
               false,
               false
              ]
             }
            ],
            "label": "IT",
            "method": "update"
           },
           {
            "args": [
             {
              "visible": [
               false,
               false,
               true,
               false,
               false,
               false
              ]
             }
            ],
            "label": "Management Support",
            "method": "update"
           },
           {
            "args": [
             {
              "visible": [
               false,
               false,
               false,
               true,
               false,
               false
              ]
             }
            ],
            "label": "Planning",
            "method": "update"
           },
           {
            "args": [
             {
              "visible": [
               false,
               false,
               false,
               false,
               true,
               false
              ]
             }
            ],
            "label": "Production & Engineering",
            "method": "update"
           },
           {
            "args": [
             {
              "visible": [
               false,
               false,
               false,
               false,
               false,
               true
              ]
             }
            ],
            "label": "Sales & Marketing",
            "method": "update"
           }
          ],
          "direction": "down",
          "pad": {
           "r": 10,
           "t": 10
          },
          "showactive": true,
          "x": 0.01,
          "xanchor": "left",
          "y": 1.1,
          "yanchor": "top"
         }
        ],
        "xaxis": {
         "title": {
          "text": "근속년수"
         }
        },
        "yaxis": {
         "title": {
          "text": "입사 연도 (코호트)"
         }
        }
       }
      }
     },
     "metadata": {},
     "output_type": "display_data"
    }
   ],
   "source": [
    "import pandas as pd\n",
    "import numpy as np\n",
    "import plotly.graph_objects as go\n",
    "import plotly.io as pio\n",
    "import datetime\n",
    "\n",
    "# --- 1. 데이터 임포트 ---\n",
    "from services.tables.HR_Core.basic_info_table import emp_df\n",
    "from services.tables.HR_Core.department_info_table import department_info_df\n",
    "from services.tables.HR_Core.job_info_table import job_info_df\n",
    "from services.tables.HR_Core.job_table import job_df, job_df_indexed, parent_map_job, job_l1_order\n",
    "from services.helpers.utils import get_level1_ancestor\n",
    "\n",
    "def create_cohort_data(df):\n",
    "    \"\"\"\n",
    "    주어진 데이터프레임에 대한 코호트 데이터를 생성합니다.\n",
    "    \"\"\"\n",
    "    df = df.copy()\n",
    "    if df.empty:\n",
    "        return pd.DataFrame()\n",
    "\n",
    "    today = datetime.datetime.now()\n",
    "    df['HIRE_YEAR'] = df['IN_DATE'].dt.year\n",
    "    df['TENURE_YEAR_INDEX'] = np.floor(\n",
    "        (df['OUT_DATE'].fillna(pd.to_datetime(today)) - df['IN_DATE']).dt.days / 365.25\n",
    "    ).astype(int)\n",
    "\n",
    "    cohort_data_list = []\n",
    "    for _, row in df.iterrows():\n",
    "        if pd.isna(row['HIRE_YEAR']) or pd.isna(row['TENURE_YEAR_INDEX']): continue\n",
    "        for i in range(row['TENURE_YEAR_INDEX'] + 1):\n",
    "            cohort_data_list.append({\n",
    "                'HIRE_YEAR': int(row['HIRE_YEAR']), 'TENURE_YEAR': i, 'EMP_ID': row['EMP_ID']\n",
    "            })\n",
    "\n",
    "    if not cohort_data_list: return pd.DataFrame()\n",
    "\n",
    "    cohort_df = pd.DataFrame(cohort_data_list)\n",
    "    cohort_counts = cohort_df.groupby(['HIRE_YEAR', 'TENURE_YEAR'])['EMP_ID'].nunique().unstack()\n",
    "    \n",
    "    if cohort_counts.empty: return pd.DataFrame()\n",
    "\n",
    "    cohort_sizes = cohort_counts.iloc[:, 0]\n",
    "    cohort_retention = cohort_counts.divide(cohort_sizes, axis=0) * 100\n",
    "\n",
    "    current_year = today.year\n",
    "    for hire_year in cohort_retention.index:\n",
    "        max_completed_tenure = current_year - hire_year - 1\n",
    "        cohort_retention.loc[hire_year, cohort_retention.columns > max_completed_tenure] = np.nan\n",
    "\n",
    "    return cohort_retention\n",
    "\n",
    "def create_figure():\n",
    "    \"\"\"\n",
    "    제안 6-2: 직무별 입사 연도 잔존율 코호트 분석 그래프를 생성합니다.\n",
    "    \"\"\"\n",
    "    # --- 2. 데이터 준비 및 가공 ---\n",
    "    first_job = job_info_df.sort_values('JOB_APP_START_DATE').groupby('EMP_ID').first().reset_index()\n",
    "    job_name_map = job_df.set_index('JOB_ID')['JOB_NAME'].to_dict()\n",
    "    first_job['JOB_L1_NAME'] = first_job['JOB_ID'].apply(lambda x: job_name_map.get(get_level1_ancestor(x, job_df_indexed, parent_map_job)))\n",
    "    \n",
    "    analysis_df = emp_df[['EMP_ID', 'IN_DATE', 'OUT_DATE']].copy()\n",
    "    analysis_df = pd.merge(analysis_df, first_job[['EMP_ID', 'JOB_L1_NAME']], on='EMP_ID', how='left')\n",
    "    analysis_df = analysis_df.dropna(subset=['JOB_L1_NAME'])\n",
    "\n",
    "    # --- 3. Plotly 인터랙티브 그래프 생성 ---\n",
    "    fig = go.Figure()\n",
    "    job_list = ['전체'] + job_l1_order\n",
    "\n",
    "    cohort_data_map = {}\n",
    "    for job_name in job_list:\n",
    "        df_filtered = analysis_df if job_name == '전체' else analysis_df[analysis_df['JOB_L1_NAME'] == job_name]\n",
    "        cohort_data_map[job_name] = create_cohort_data(df_filtered)\n",
    "\n",
    "    for job_name in job_list:\n",
    "        cohort_pivot = cohort_data_map[job_name]\n",
    "        if not cohort_pivot.empty:\n",
    "            text_labels = cohort_pivot.map(lambda x: f'{x:.0f}%' if pd.notna(x) else '')\n",
    "            fig.add_trace(\n",
    "                go.Heatmap(\n",
    "                    z=cohort_pivot.values,\n",
    "                    x=[f\"{int(c)}년차\" for c in cohort_pivot.columns],\n",
    "                    y=cohort_pivot.index,\n",
    "                    colorscale='Blues',\n",
    "                    text=text_labels,\n",
    "                    texttemplate=\"%{text}\",\n",
    "                    showscale=False,\n",
    "                    visible=(job_name == '전체'),\n",
    "                    connectgaps=False\n",
    "                )\n",
    "            )\n",
    "        else: # 데이터가 없는 경우 빈 히트맵 트레이스 추가\n",
    "             fig.add_trace(go.Heatmap(visible=(job_name == '전체')))\n",
    "\n",
    "    # --- 4. 드롭다운 메뉴 및 레이아웃 업데이트 ---\n",
    "    buttons = []\n",
    "    for i, job_name in enumerate(job_list):\n",
    "        visibility_mask = [False] * len(job_list)\n",
    "        visibility_mask[i] = True\n",
    "        buttons.append(\n",
    "            dict(label=job_name, method='update', args=[{'visible': visibility_mask}])\n",
    "        )\n",
    "\n",
    "    fig.update_layout(\n",
    "        updatemenus=[dict(\n",
    "            active=0, buttons=buttons, direction=\"down\",\n",
    "            pad={\"r\": 10, \"t\": 10}, showactive=True,\n",
    "            x=0.01, xanchor=\"left\", y=1.1, yanchor=\"top\"\n",
    "        )],\n",
    "        title_text='직무별 입사 연도 잔존율 코호트 분석',\n",
    "        xaxis_title='근속년수',\n",
    "        yaxis_title='입사 연도 (코호트)',\n",
    "        font_size=14, height=700,\n",
    "        annotations=[dict(text=\"직무 선택:\", showarrow=False, x=0, y=1.08, yref=\"paper\", align=\"left\")]\n",
    "    )\n",
    "    \n",
    "    return fig\n",
    "\n",
    "# 이 파일을 직접 실행할 경우 그래프를 생성하여 보여줍니다.\n",
    "pio.renderers.default = 'vscode'\n",
    "fig = create_figure()\n",
    "fig.show()"
   ]
  },
  {
   "cell_type": "code",
   "execution_count": null,
   "id": "4ca5e9c5",
   "metadata": {},
   "outputs": [],
   "source": []
  }
 ],
 "metadata": {
  "kernelspec": {
   "display_name": "Python 3 (ipykernel)",
   "language": "python",
   "name": "python3"
  }
 },
 "nbformat": 4,
 "nbformat_minor": 5
}
