{
 "cells": [
  {
   "cell_type": "code",
   "execution_count": 1,
   "id": "105631ee",
   "metadata": {},
   "outputs": [
    {
     "data": {
      "application/vnd.plotly.v1+json": {
       "config": {
        "plotlyServerURL": "https://plot.ly"
       },
       "data": [
        {
         "marker": {
          "color": "blue"
         },
         "name": "입사자",
         "type": "bar",
         "visible": true,
         "x": [
          "2014년",
          "2015년",
          "2016년",
          "2017년",
          "2018년",
          "2019년",
          "2020년",
          "2021년",
          "2022년",
          "2023년",
          "2024년",
          "2025년"
         ],
         "xaxis": "x",
         "y": {
          "bdata": "PEVFRDdNOkBDSkYk",
          "dtype": "i1"
         },
         "yaxis": "y"
        },
        {
         "marker": {
          "color": "red"
         },
         "name": "퇴사자",
         "type": "bar",
         "visible": true,
         "x": [
          "2014년",
          "2015년",
          "2016년",
          "2017년",
          "2018년",
          "2019년",
          "2020년",
          "2021년",
          "2022년",
          "2023년",
          "2024년",
          "2025년"
         ],
         "xaxis": "x",
         "y": {
          "bdata": "DBoeHyInJTUtPD9C",
          "dtype": "i1"
         },
         "yaxis": "y"
        },
        {
         "line": {
          "color": "black"
         },
         "mode": "lines+markers+text",
         "name": "총원",
         "text": {
          "bdata": "AAAAAAAQcEAAAAAAAMByQAAAAAAAMHVAAAAAAACAd0AAAAAAANB4QAAAAAAAMHtAAAAAAACAfEAAAAAAADB9QAAAAAAAkH5AAAAAAABwf0AAAAAAAOB/QAAAAAAAAH5A",
          "dtype": "f8"
         },
         "textposition": "top center",
         "type": "scatter",
         "visible": true,
         "x": [
          "2014년",
          "2015년",
          "2016년",
          "2017년",
          "2018년",
          "2019년",
          "2020년",
          "2021년",
          "2022년",
          "2023년",
          "2024년",
          "2025년"
         ],
         "xaxis": "x",
         "y": {
          "bdata": "AQEsAVMBeAGNAbMByAHTAekB9wH+AeAB",
          "dtype": "i2"
         },
         "yaxis": "y2"
        },
        {
         "marker": {
          "color": "blue"
         },
         "name": "입사자",
         "type": "bar",
         "visible": false,
         "x": [
          "2020년 상반기",
          "2020년 하반기",
          "2021년 상반기",
          "2021년 하반기",
          "2022년 상반기",
          "2022년 하반기",
          "2023년 상반기",
          "2023년 하반기",
          "2024년 상반기",
          "2024년 하반기",
          "2025년 상반기",
          "2025년 하반기"
         ],
         "xaxis": "x",
         "y": {
          "bdata": "HB4oGCQfHysnHx8F",
          "dtype": "i1"
         },
         "yaxis": "y"
        },
        {
         "marker": {
          "color": "red"
         },
         "name": "퇴사자",
         "type": "bar",
         "visible": false,
         "x": [
          "2020년 상반기",
          "2020년 하반기",
          "2021년 상반기",
          "2021년 하반기",
          "2022년 상반기",
          "2022년 하반기",
          "2023년 상반기",
          "2023년 하반기",
          "2024년 상반기",
          "2024년 하반기",
          "2025년 상반기",
          "2025년 하반기"
         ],
         "xaxis": "x",
         "y": {
          "bdata": "EhMZHBEcHx0dIjAS",
          "dtype": "i1"
         },
         "yaxis": "y"
        },
        {
         "line": {
          "color": "black"
         },
         "mode": "lines+markers+text",
         "name": "총원",
         "text": {
          "bdata": "AAAAAADQe0AAAAAAAIB8QAAAAAAAcH1AAAAAAAAwfUAAAAAAAGB+QAAAAAAAkH5AAAAAAACQfkAAAAAAAHB/QAAAAAAACIBAAAAAAADgf0AAAAAAANB+QAAAAAAAAH5A",
          "dtype": "f8"
         },
         "textposition": "top center",
         "type": "scatter",
         "visible": false,
         "x": [
          "2020년 상반기",
          "2020년 하반기",
          "2021년 상반기",
          "2021년 하반기",
          "2022년 상반기",
          "2022년 하반기",
          "2023년 상반기",
          "2023년 하반기",
          "2024년 상반기",
          "2024년 하반기",
          "2025년 상반기",
          "2025년 하반기"
         ],
         "xaxis": "x",
         "y": {
          "bdata": "vQHIAdcB0wHmAekB6QH3AQEC/gHtAeAB",
          "dtype": "i2"
         },
         "yaxis": "y2"
        },
        {
         "marker": {
          "color": "blue"
         },
         "name": "입사자",
         "type": "bar",
         "visible": false,
         "x": [
          "2022년 4분기",
          "2023년 1분기",
          "2023년 2분기",
          "2023년 3분기",
          "2023년 4분기",
          "2024년 1분기",
          "2024년 2분기",
          "2024년 3분기",
          "2024년 4분기",
          "2025년 1분기",
          "2025년 2분기",
          "2025년 3분기"
         ],
         "xaxis": "x",
         "y": {
          "bdata": "EhMMFxQQFxMMDxAF",
          "dtype": "i1"
         },
         "yaxis": "y"
        },
        {
         "marker": {
          "color": "red"
         },
         "name": "퇴사자",
         "type": "bar",
         "visible": false,
         "x": [
          "2022년 4분기",
          "2023년 1분기",
          "2023년 2분기",
          "2023년 3분기",
          "2023년 4분기",
          "2024년 1분기",
          "2024년 2분기",
          "2024년 3분기",
          "2024년 4분기",
          "2025년 1분기",
          "2025년 2분기",
          "2025년 3분기"
         ],
         "xaxis": "x",
         "y": {
          "bdata": "DQ4RDw4QDRERFBwS",
          "dtype": "i1"
         },
         "yaxis": "y"
        },
        {
         "line": {
          "color": "black"
         },
         "mode": "lines+markers+text",
         "name": "총원",
         "text": {
          "bdata": "AAAAAACQfkAAAAAAAOB+QAAAAAAAkH5AAAAAAAAQf0AAAAAAAHB/QAAAAAAAcH9AAAAAAAAIgEAAAAAAABiAQAAAAAAA4H9AAAAAAACQf0AAAAAAANB+QAAAAAAAAH5A",
          "dtype": "f8"
         },
         "textposition": "top center",
         "type": "scatter",
         "visible": false,
         "x": [
          "2022년 4분기",
          "2023년 1분기",
          "2023년 2분기",
          "2023년 3분기",
          "2023년 4분기",
          "2024년 1분기",
          "2024년 2분기",
          "2024년 3분기",
          "2024년 4분기",
          "2025년 1분기",
          "2025년 2분기",
          "2025년 3분기"
         ],
         "xaxis": "x",
         "y": {
          "bdata": "6QHuAekB8QH3AfcBAQIDAv4B+QHtAeAB",
          "dtype": "i2"
         },
         "yaxis": "y2"
        },
        {
         "marker": {
          "color": "blue"
         },
         "name": "입사자",
         "type": "bar",
         "visible": false,
         "x": [
          "2024년 10월",
          "2024년 11월",
          "2024년 12월",
          "2025년 01월",
          "2025년 02월",
          "2025년 03월",
          "2025년 04월",
          "2025년 05월",
          "2025년 06월",
          "2025년 07월",
          "2025년 08월",
          "2025년 09월"
         ],
         "xaxis": "x",
         "y": {
          "bdata": "BQQDBgQFBwIHBQAA",
          "dtype": "i1"
         },
         "yaxis": "y"
        },
        {
         "marker": {
          "color": "red"
         },
         "name": "퇴사자",
         "type": "bar",
         "visible": false,
         "x": [
          "2024년 10월",
          "2024년 11월",
          "2024년 12월",
          "2025년 01월",
          "2025년 02월",
          "2025년 03월",
          "2025년 04월",
          "2025년 05월",
          "2025년 06월",
          "2025년 07월",
          "2025년 08월",
          "2025년 09월"
         ],
         "xaxis": "x",
         "y": {
          "bdata": "BQgECAYGBwoLCggA",
          "dtype": "i1"
         },
         "yaxis": "y"
        },
        {
         "line": {
          "color": "black"
         },
         "mode": "lines+markers+text",
         "name": "총원",
         "text": {
          "bdata": "AAAAAAAYgEAAAAAAAPB/QAAAAAAA4H9AAAAAAADAf0AAAAAAAKB/QAAAAAAAkH9AAAAAAACQf0AAAAAAABB/QAAAAAAA0H5AAAAAAACAfkAAAAAAAAB+QAAAAAAAAH5A",
          "dtype": "f8"
         },
         "textposition": "top center",
         "type": "scatter",
         "visible": false,
         "x": [
          "2024년 10월",
          "2024년 11월",
          "2024년 12월",
          "2025년 01월",
          "2025년 02월",
          "2025년 03월",
          "2025년 04월",
          "2025년 05월",
          "2025년 06월",
          "2025년 07월",
          "2025년 08월",
          "2025년 09월"
         ],
         "xaxis": "x",
         "y": {
          "bdata": "AwL/Af4B/AH6AfkB+QHxAe0B6AHgAeAB",
          "dtype": "i2"
         },
         "yaxis": "y2"
        }
       ],
       "layout": {
        "annotations": [
         {
          "align": "left",
          "showarrow": false,
          "text": "조회 기간:",
          "x": 0,
          "y": 1.08,
          "yref": "paper"
         }
        ],
        "barmode": "group",
        "font": {
         "size": 14
        },
        "height": 700,
        "legend": {
         "orientation": "h",
         "x": 1,
         "xanchor": "right",
         "y": 1.02,
         "yanchor": "bottom"
        },
        "template": {
         "data": {
          "bar": [
           {
            "error_x": {
             "color": "#2a3f5f"
            },
            "error_y": {
             "color": "#2a3f5f"
            },
            "marker": {
             "line": {
              "color": "#E5ECF6",
              "width": 0.5
             },
             "pattern": {
              "fillmode": "overlay",
              "size": 10,
              "solidity": 0.2
             }
            },
            "type": "bar"
           }
          ],
          "barpolar": [
           {
            "marker": {
             "line": {
              "color": "#E5ECF6",
              "width": 0.5
             },
             "pattern": {
              "fillmode": "overlay",
              "size": 10,
              "solidity": 0.2
             }
            },
            "type": "barpolar"
           }
          ],
          "carpet": [
           {
            "aaxis": {
             "endlinecolor": "#2a3f5f",
             "gridcolor": "white",
             "linecolor": "white",
             "minorgridcolor": "white",
             "startlinecolor": "#2a3f5f"
            },
            "baxis": {
             "endlinecolor": "#2a3f5f",
             "gridcolor": "white",
             "linecolor": "white",
             "minorgridcolor": "white",
             "startlinecolor": "#2a3f5f"
            },
            "type": "carpet"
           }
          ],
          "choropleth": [
           {
            "colorbar": {
             "outlinewidth": 0,
             "ticks": ""
            },
            "type": "choropleth"
           }
          ],
          "contour": [
           {
            "colorbar": {
             "outlinewidth": 0,
             "ticks": ""
            },
            "colorscale": [
             [
              0,
              "#0d0887"
             ],
             [
              0.1111111111111111,
              "#46039f"
             ],
             [
              0.2222222222222222,
              "#7201a8"
             ],
             [
              0.3333333333333333,
              "#9c179e"
             ],
             [
              0.4444444444444444,
              "#bd3786"
             ],
             [
              0.5555555555555556,
              "#d8576b"
             ],
             [
              0.6666666666666666,
              "#ed7953"
             ],
             [
              0.7777777777777778,
              "#fb9f3a"
             ],
             [
              0.8888888888888888,
              "#fdca26"
             ],
             [
              1,
              "#f0f921"
             ]
            ],
            "type": "contour"
           }
          ],
          "contourcarpet": [
           {
            "colorbar": {
             "outlinewidth": 0,
             "ticks": ""
            },
            "type": "contourcarpet"
           }
          ],
          "heatmap": [
           {
            "colorbar": {
             "outlinewidth": 0,
             "ticks": ""
            },
            "colorscale": [
             [
              0,
              "#0d0887"
             ],
             [
              0.1111111111111111,
              "#46039f"
             ],
             [
              0.2222222222222222,
              "#7201a8"
             ],
             [
              0.3333333333333333,
              "#9c179e"
             ],
             [
              0.4444444444444444,
              "#bd3786"
             ],
             [
              0.5555555555555556,
              "#d8576b"
             ],
             [
              0.6666666666666666,
              "#ed7953"
             ],
             [
              0.7777777777777778,
              "#fb9f3a"
             ],
             [
              0.8888888888888888,
              "#fdca26"
             ],
             [
              1,
              "#f0f921"
             ]
            ],
            "type": "heatmap"
           }
          ],
          "histogram": [
           {
            "marker": {
             "pattern": {
              "fillmode": "overlay",
              "size": 10,
              "solidity": 0.2
             }
            },
            "type": "histogram"
           }
          ],
          "histogram2d": [
           {
            "colorbar": {
             "outlinewidth": 0,
             "ticks": ""
            },
            "colorscale": [
             [
              0,
              "#0d0887"
             ],
             [
              0.1111111111111111,
              "#46039f"
             ],
             [
              0.2222222222222222,
              "#7201a8"
             ],
             [
              0.3333333333333333,
              "#9c179e"
             ],
             [
              0.4444444444444444,
              "#bd3786"
             ],
             [
              0.5555555555555556,
              "#d8576b"
             ],
             [
              0.6666666666666666,
              "#ed7953"
             ],
             [
              0.7777777777777778,
              "#fb9f3a"
             ],
             [
              0.8888888888888888,
              "#fdca26"
             ],
             [
              1,
              "#f0f921"
             ]
            ],
            "type": "histogram2d"
           }
          ],
          "histogram2dcontour": [
           {
            "colorbar": {
             "outlinewidth": 0,
             "ticks": ""
            },
            "colorscale": [
             [
              0,
              "#0d0887"
             ],
             [
              0.1111111111111111,
              "#46039f"
             ],
             [
              0.2222222222222222,
              "#7201a8"
             ],
             [
              0.3333333333333333,
              "#9c179e"
             ],
             [
              0.4444444444444444,
              "#bd3786"
             ],
             [
              0.5555555555555556,
              "#d8576b"
             ],
             [
              0.6666666666666666,
              "#ed7953"
             ],
             [
              0.7777777777777778,
              "#fb9f3a"
             ],
             [
              0.8888888888888888,
              "#fdca26"
             ],
             [
              1,
              "#f0f921"
             ]
            ],
            "type": "histogram2dcontour"
           }
          ],
          "mesh3d": [
           {
            "colorbar": {
             "outlinewidth": 0,
             "ticks": ""
            },
            "type": "mesh3d"
           }
          ],
          "parcoords": [
           {
            "line": {
             "colorbar": {
              "outlinewidth": 0,
              "ticks": ""
             }
            },
            "type": "parcoords"
           }
          ],
          "pie": [
           {
            "automargin": true,
            "type": "pie"
           }
          ],
          "scatter": [
           {
            "fillpattern": {
             "fillmode": "overlay",
             "size": 10,
             "solidity": 0.2
            },
            "type": "scatter"
           }
          ],
          "scatter3d": [
           {
            "line": {
             "colorbar": {
              "outlinewidth": 0,
              "ticks": ""
             }
            },
            "marker": {
             "colorbar": {
              "outlinewidth": 0,
              "ticks": ""
             }
            },
            "type": "scatter3d"
           }
          ],
          "scattercarpet": [
           {
            "marker": {
             "colorbar": {
              "outlinewidth": 0,
              "ticks": ""
             }
            },
            "type": "scattercarpet"
           }
          ],
          "scattergeo": [
           {
            "marker": {
             "colorbar": {
              "outlinewidth": 0,
              "ticks": ""
             }
            },
            "type": "scattergeo"
           }
          ],
          "scattergl": [
           {
            "marker": {
             "colorbar": {
              "outlinewidth": 0,
              "ticks": ""
             }
            },
            "type": "scattergl"
           }
          ],
          "scattermap": [
           {
            "marker": {
             "colorbar": {
              "outlinewidth": 0,
              "ticks": ""
             }
            },
            "type": "scattermap"
           }
          ],
          "scattermapbox": [
           {
            "marker": {
             "colorbar": {
              "outlinewidth": 0,
              "ticks": ""
             }
            },
            "type": "scattermapbox"
           }
          ],
          "scatterpolar": [
           {
            "marker": {
             "colorbar": {
              "outlinewidth": 0,
              "ticks": ""
             }
            },
            "type": "scatterpolar"
           }
          ],
          "scatterpolargl": [
           {
            "marker": {
             "colorbar": {
              "outlinewidth": 0,
              "ticks": ""
             }
            },
            "type": "scatterpolargl"
           }
          ],
          "scatterternary": [
           {
            "marker": {
             "colorbar": {
              "outlinewidth": 0,
              "ticks": ""
             }
            },
            "type": "scatterternary"
           }
          ],
          "surface": [
           {
            "colorbar": {
             "outlinewidth": 0,
             "ticks": ""
            },
            "colorscale": [
             [
              0,
              "#0d0887"
             ],
             [
              0.1111111111111111,
              "#46039f"
             ],
             [
              0.2222222222222222,
              "#7201a8"
             ],
             [
              0.3333333333333333,
              "#9c179e"
             ],
             [
              0.4444444444444444,
              "#bd3786"
             ],
             [
              0.5555555555555556,
              "#d8576b"
             ],
             [
              0.6666666666666666,
              "#ed7953"
             ],
             [
              0.7777777777777778,
              "#fb9f3a"
             ],
             [
              0.8888888888888888,
              "#fdca26"
             ],
             [
              1,
              "#f0f921"
             ]
            ],
            "type": "surface"
           }
          ],
          "table": [
           {
            "cells": {
             "fill": {
              "color": "#EBF0F8"
             },
             "line": {
              "color": "white"
             }
            },
            "header": {
             "fill": {
              "color": "#C8D4E3"
             },
             "line": {
              "color": "white"
             }
            },
            "type": "table"
           }
          ]
         },
         "layout": {
          "annotationdefaults": {
           "arrowcolor": "#2a3f5f",
           "arrowhead": 0,
           "arrowwidth": 1
          },
          "autotypenumbers": "strict",
          "coloraxis": {
           "colorbar": {
            "outlinewidth": 0,
            "ticks": ""
           }
          },
          "colorscale": {
           "diverging": [
            [
             0,
             "#8e0152"
            ],
            [
             0.1,
             "#c51b7d"
            ],
            [
             0.2,
             "#de77ae"
            ],
            [
             0.3,
             "#f1b6da"
            ],
            [
             0.4,
             "#fde0ef"
            ],
            [
             0.5,
             "#f7f7f7"
            ],
            [
             0.6,
             "#e6f5d0"
            ],
            [
             0.7,
             "#b8e186"
            ],
            [
             0.8,
             "#7fbc41"
            ],
            [
             0.9,
             "#4d9221"
            ],
            [
             1,
             "#276419"
            ]
           ],
           "sequential": [
            [
             0,
             "#0d0887"
            ],
            [
             0.1111111111111111,
             "#46039f"
            ],
            [
             0.2222222222222222,
             "#7201a8"
            ],
            [
             0.3333333333333333,
             "#9c179e"
            ],
            [
             0.4444444444444444,
             "#bd3786"
            ],
            [
             0.5555555555555556,
             "#d8576b"
            ],
            [
             0.6666666666666666,
             "#ed7953"
            ],
            [
             0.7777777777777778,
             "#fb9f3a"
            ],
            [
             0.8888888888888888,
             "#fdca26"
            ],
            [
             1,
             "#f0f921"
            ]
           ],
           "sequentialminus": [
            [
             0,
             "#0d0887"
            ],
            [
             0.1111111111111111,
             "#46039f"
            ],
            [
             0.2222222222222222,
             "#7201a8"
            ],
            [
             0.3333333333333333,
             "#9c179e"
            ],
            [
             0.4444444444444444,
             "#bd3786"
            ],
            [
             0.5555555555555556,
             "#d8576b"
            ],
            [
             0.6666666666666666,
             "#ed7953"
            ],
            [
             0.7777777777777778,
             "#fb9f3a"
            ],
            [
             0.8888888888888888,
             "#fdca26"
            ],
            [
             1,
             "#f0f921"
            ]
           ]
          },
          "colorway": [
           "#636efa",
           "#EF553B",
           "#00cc96",
           "#ab63fa",
           "#FFA15A",
           "#19d3f3",
           "#FF6692",
           "#B6E880",
           "#FF97FF",
           "#FECB52"
          ],
          "font": {
           "color": "#2a3f5f"
          },
          "geo": {
           "bgcolor": "white",
           "lakecolor": "white",
           "landcolor": "#E5ECF6",
           "showlakes": true,
           "showland": true,
           "subunitcolor": "white"
          },
          "hoverlabel": {
           "align": "left"
          },
          "hovermode": "closest",
          "mapbox": {
           "style": "light"
          },
          "paper_bgcolor": "white",
          "plot_bgcolor": "#E5ECF6",
          "polar": {
           "angularaxis": {
            "gridcolor": "white",
            "linecolor": "white",
            "ticks": ""
           },
           "bgcolor": "#E5ECF6",
           "radialaxis": {
            "gridcolor": "white",
            "linecolor": "white",
            "ticks": ""
           }
          },
          "scene": {
           "xaxis": {
            "backgroundcolor": "#E5ECF6",
            "gridcolor": "white",
            "gridwidth": 2,
            "linecolor": "white",
            "showbackground": true,
            "ticks": "",
            "zerolinecolor": "white"
           },
           "yaxis": {
            "backgroundcolor": "#E5ECF6",
            "gridcolor": "white",
            "gridwidth": 2,
            "linecolor": "white",
            "showbackground": true,
            "ticks": "",
            "zerolinecolor": "white"
           },
           "zaxis": {
            "backgroundcolor": "#E5ECF6",
            "gridcolor": "white",
            "gridwidth": 2,
            "linecolor": "white",
            "showbackground": true,
            "ticks": "",
            "zerolinecolor": "white"
           }
          },
          "shapedefaults": {
           "line": {
            "color": "#2a3f5f"
           }
          },
          "ternary": {
           "aaxis": {
            "gridcolor": "white",
            "linecolor": "white",
            "ticks": ""
           },
           "baxis": {
            "gridcolor": "white",
            "linecolor": "white",
            "ticks": ""
           },
           "bgcolor": "#E5ECF6",
           "caxis": {
            "gridcolor": "white",
            "linecolor": "white",
            "ticks": ""
           }
          },
          "title": {
           "x": 0.05
          },
          "xaxis": {
           "automargin": true,
           "gridcolor": "white",
           "linecolor": "white",
           "ticks": "",
           "title": {
            "standoff": 15
           },
           "zerolinecolor": "white",
           "zerolinewidth": 2
          },
          "yaxis": {
           "automargin": true,
           "gridcolor": "white",
           "linecolor": "white",
           "ticks": "",
           "title": {
            "standoff": 15
           },
           "zerolinecolor": "white",
           "zerolinewidth": 2
          }
         }
        },
        "title": {
         "text": "기간별 인원 변동 현황"
        },
        "updatemenus": [
         {
          "active": 0,
          "buttons": [
           {
            "args": [
             {
              "visible": [
               true,
               true,
               true,
               false,
               false,
               false,
               false,
               false,
               false,
               false,
               false,
               false
              ]
             },
             {
              "xaxis.title": "기간 (연간)",
              "yaxis.range": [
               0,
               169.4
              ]
             }
            ],
            "label": "연간",
            "method": "update"
           },
           {
            "args": [
             {
              "visible": [
               false,
               false,
               false,
               true,
               true,
               true,
               false,
               false,
               false,
               false,
               false,
               false
              ]
             },
             {
              "xaxis.title": "기간 (반기간)",
              "yaxis.range": [
               0,
               105.60000000000001
              ]
             }
            ],
            "label": "반기간",
            "method": "update"
           },
           {
            "args": [
             {
              "visible": [
               false,
               false,
               false,
               false,
               false,
               false,
               true,
               true,
               true,
               false,
               false,
               false
              ]
             },
             {
              "xaxis.title": "기간 (분기간)",
              "yaxis.range": [
               0,
               61.60000000000001
              ]
             }
            ],
            "label": "분기간",
            "method": "update"
           },
           {
            "args": [
             {
              "visible": [
               false,
               false,
               false,
               false,
               false,
               false,
               false,
               false,
               false,
               true,
               true,
               true
              ]
             },
             {
              "xaxis.title": "기간 (월간)",
              "yaxis.range": [
               0,
               24.200000000000003
              ]
             }
            ],
            "label": "월간",
            "method": "update"
           }
          ],
          "direction": "down",
          "pad": {
           "r": 10,
           "t": 10
          },
          "showactive": true,
          "x": 0.01,
          "xanchor": "left",
          "y": 1.1,
          "yanchor": "top"
         }
        ],
        "xaxis": {
         "anchor": "y",
         "domain": [
          0,
          0.94
         ]
        },
        "yaxis": {
         "anchor": "x",
         "domain": [
          0,
          1
         ],
         "range": [
          0,
          169.4
         ],
         "title": {
          "text": "입사/퇴사자 수"
         }
        },
        "yaxis2": {
         "anchor": "x",
         "overlaying": "y",
         "rangemode": "tozero",
         "side": "right",
         "title": {
          "text": "총원"
         }
        }
       }
      }
     },
     "metadata": {},
     "output_type": "display_data"
    }
   ],
   "source": [
    "import pandas as pd\n",
    "import numpy as np\n",
    "import plotly.graph_objects as go\n",
    "from plotly.subplots import make_subplots\n",
    "import plotly.io as pio\n",
    "import datetime\n",
    "\n",
    "# --- 1. 데이터 임포트 ---\n",
    "from services.tables.HR_Core.basic_info_table import emp_df\n",
    "\n",
    "def create_figure():\n",
    "    \"\"\"\n",
    "    제안 0-1: 기간별 인원 변동 현황 그래프를 생성합니다.\n",
    "    \"\"\"\n",
    "    # --- 2. 데이터 준비 및 가공 ---\n",
    "    emp_dates_df = emp_df[['EMP_ID', 'IN_DATE', 'OUT_DATE']].copy()\n",
    "    emp_dates_df['IN_DATE'] = pd.to_datetime(emp_dates_df['IN_DATE'])\n",
    "    emp_dates_df['OUT_DATE'] = pd.to_datetime(emp_dates_df['OUT_DATE'])\n",
    "\n",
    "    start_month = emp_dates_df['IN_DATE'].min().to_period('M').to_timestamp()\n",
    "    end_month = pd.to_datetime(datetime.datetime.now()).to_period('M').to_timestamp()\n",
    "    monthly_periods = pd.date_range(start=start_month, end=end_month, freq='MS')\n",
    "\n",
    "    monthly_summary_records = []\n",
    "    for period_start in monthly_periods:\n",
    "        period_end = period_start + pd.offsets.MonthEnd(0)\n",
    "        hires = emp_dates_df[emp_dates_df['IN_DATE'].between(period_start, period_end)].shape[0]\n",
    "        leavers = emp_dates_df[emp_dates_df['OUT_DATE'].between(period_start, period_end)].shape[0]\n",
    "        headcount = emp_dates_df[\n",
    "            (emp_dates_df['IN_DATE'] <= period_end) & \n",
    "            (emp_dates_df['OUT_DATE'].isnull() | (emp_dates_df['OUT_DATE'] > period_end))\n",
    "        ].shape[0]\n",
    "        monthly_summary_records.append({\n",
    "            'PERIOD_DT': period_start,\n",
    "            'HEADCOUNT': headcount, 'NEW_HIRES': hires, 'LEAVERS': leavers\n",
    "        })\n",
    "    monthly_df = pd.DataFrame(monthly_summary_records)\n",
    "\n",
    "    monthly_df['YEAR'] = monthly_df['PERIOD_DT'].dt.year\n",
    "    yearly_df = monthly_df.groupby('YEAR').agg(NEW_HIRES=('NEW_HIRES', 'sum'), LEAVERS=('LEAVERS', 'sum'), HEADCOUNT=('HEADCOUNT', 'last')).reset_index()\n",
    "    yearly_df['PERIOD'] = yearly_df['YEAR'].astype(str) + '년'\n",
    "    \n",
    "    monthly_df['HALF'] = monthly_df['PERIOD_DT'].apply(lambda d: f\"{d.year}-H{1 if d.month <= 6 else 2}\")\n",
    "    half_yearly_df = monthly_df.groupby('HALF').agg(NEW_HIRES=('NEW_HIRES', 'sum'), LEAVERS=('LEAVERS', 'sum'), HEADCOUNT=('HEADCOUNT', 'last')).reset_index()\n",
    "    half_yearly_df['PERIOD'] = half_yearly_df['HALF'].apply(lambda h: f\"{h.split('-')[0]}년 {'상반기' if h.split('-')[1] == 'H1' else '하반기'}\")\n",
    "    \n",
    "    monthly_df['QUARTER'] = monthly_df['PERIOD_DT'].dt.to_period('Q')\n",
    "    quarterly_df = monthly_df.groupby('QUARTER').agg(NEW_HIRES=('NEW_HIRES', 'sum'), LEAVERS=('LEAVERS', 'sum'), HEADCOUNT=('HEADCOUNT', 'last')).reset_index()\n",
    "    quarterly_df['PERIOD'] = quarterly_df['QUARTER'].apply(lambda q: f\"{q.year}년 {q.quarter}분기\")\n",
    "    \n",
    "    monthly_df['PERIOD'] = monthly_df['PERIOD_DT'].dt.strftime('%Y년 %m월')\n",
    "\n",
    "    # --- 3. Plotly 인터랙티브 그래프 생성 ---\n",
    "    fig = make_subplots(specs=[[{\"secondary_y\": True}]])\n",
    "    data_map = {\n",
    "        '연간': yearly_df.tail(12),\n",
    "        '반기간': half_yearly_df.tail(12),\n",
    "        '분기간': quarterly_df.tail(12),\n",
    "        '월간': monthly_df.tail(12)\n",
    "    }\n",
    "\n",
    "    for period_name, df in data_map.items():\n",
    "        is_visible = (period_name == '연간')\n",
    "        fig.add_trace(go.Bar(x=df['PERIOD'], y=df['NEW_HIRES'], name='입사자', marker_color='blue', visible=is_visible), secondary_y=False)\n",
    "        fig.add_trace(go.Bar(x=df['PERIOD'], y=df['LEAVERS'], name='퇴사자', marker_color='red', visible=is_visible), secondary_y=False)\n",
    "        fig.add_trace(go.Scatter(\n",
    "            x=df['PERIOD'], y=df['HEADCOUNT'], name='총원', \n",
    "            mode='lines+markers+text', text=df['HEADCOUNT'], textposition='top center',\n",
    "            line=dict(color='black'), visible=is_visible\n",
    "        ), secondary_y=True)\n",
    "\n",
    "    # --- 4. 드롭다운 메뉴 및 레이아웃 업데이트 ---\n",
    "    buttons = []\n",
    "    num_traces_per_period = 3\n",
    "    for i, (period_name, df) in enumerate(data_map.items()):\n",
    "        visibility_mask = [False] * (len(data_map) * num_traces_per_period)\n",
    "        for j in range(num_traces_per_period):\n",
    "            visibility_mask[i * num_traces_per_period + j] = True\n",
    "        \n",
    "        max_hires_leavers = max(df['NEW_HIRES'].max(), df['LEAVERS'].max()) if not df.empty else 0\n",
    "        y1_range = [0, max_hires_leavers * 2.2]\n",
    "\n",
    "        buttons.append(dict(\n",
    "            label=period_name, \n",
    "            method='update', \n",
    "            args=[\n",
    "                {'visible': visibility_mask},\n",
    "                {'xaxis.title': f'기간 ({period_name})', 'yaxis.range': y1_range}\n",
    "            ]\n",
    "        ))\n",
    "\n",
    "    initial_df = data_map['연간']\n",
    "    initial_max = max(initial_df['NEW_HIRES'].max(), initial_df['LEAVERS'].max()) if not initial_df.empty else 0\n",
    "    initial_y1_range = [0, initial_max * 2.2]\n",
    "\n",
    "    fig.update_layout(\n",
    "        updatemenus=[dict(\n",
    "            active=0, buttons=buttons, direction=\"down\",\n",
    "            pad={\"r\": 10, \"t\": 10}, showactive=True,\n",
    "            x=0.01, xanchor=\"left\", y=1.1, yanchor=\"top\"\n",
    "        )],\n",
    "        title_text='기간별 인원 변동 현황',\n",
    "        font_size=14, height=700,\n",
    "        barmode='group',\n",
    "        legend=dict(orientation=\"h\", yanchor=\"bottom\", y=1.02, xanchor=\"right\", x=1),\n",
    "        annotations=[dict(text=\"조회 기간:\", showarrow=False, x=0, y=1.08, yref=\"paper\", align=\"left\")]\n",
    "    )\n",
    "\n",
    "    fig.update_yaxes(title_text=\"입사/퇴사자 수\", secondary_y=False, range=initial_y1_range)\n",
    "    fig.update_yaxes(title_text=\"총원\", secondary_y=True, rangemode='tozero')\n",
    "    \n",
    "    return fig\n",
    "\n",
    "# --- 실행 코드 ---\n",
    "pio.renderers.default = 'vscode'\n",
    "fig = create_figure()\n",
    "fig.show()"
   ]
  },
  {
   "cell_type": "code",
   "execution_count": null,
   "id": "6cbec921",
   "metadata": {},
   "outputs": [],
   "source": []
  }
 ],
 "metadata": {
  "kernelspec": {
   "display_name": "Python 3 (ipykernel)",
   "language": "python",
   "name": "python3"
  },
  "language_info": {
   "codemirror_mode": {
    "name": "ipython",
    "version": 3
   },
   "file_extension": ".py",
   "mimetype": "text/x-python",
   "name": "python",
   "nbconvert_exporter": "python",
   "pygments_lexer": "ipython3",
   "version": "3.12.11"
  }
 },
 "nbformat": 4,
 "nbformat_minor": 5
}
