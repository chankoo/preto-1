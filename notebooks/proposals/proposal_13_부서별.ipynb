{
 "cells": [
  {
   "cell_type": "code",
   "execution_count": 6,
   "id": "84fbe5c9",
   "metadata": {},
   "outputs": [
    {
     "data": {
      "application/vnd.plotly.v1+json": {
       "config": {
        "plotlyServerURL": "https://plot.ly"
       },
       "data": [
        {
         "legendgroup": "divisions",
         "line": {
          "color": "#636EFA"
         },
         "mode": "lines+markers",
         "name": "Planning Division",
         "type": "scatter",
         "x": [
          "2020-01",
          "2020-02",
          "2020-03",
          "2020-04",
          "2020-05",
          "2020-06",
          "2020-07",
          "2020-08",
          "2020-09",
          "2020-10",
          "2020-11",
          "2020-12",
          "2021-01",
          "2021-02",
          "2021-03",
          "2021-04",
          "2021-05",
          "2021-06",
          "2021-07",
          "2021-08",
          "2021-09",
          "2021-10",
          "2021-11",
          "2021-12",
          "2022-01",
          "2022-02",
          "2022-03",
          "2022-04",
          "2022-05",
          "2022-06",
          "2022-07",
          "2022-08",
          "2022-09",
          "2022-10",
          "2022-11",
          "2022-12",
          "2023-01",
          "2023-02",
          "2023-03",
          "2023-04",
          "2023-05",
          "2023-06",
          "2023-07",
          "2023-08",
          "2023-09",
          "2023-10",
          "2023-11",
          "2023-12",
          "2024-01",
          "2024-02",
          "2024-03",
          "2024-04",
          "2024-05",
          "2024-06",
          "2024-07",
          "2024-08",
          "2024-09",
          "2024-10",
          "2024-11",
          "2024-12",
          "2025-01",
          "2025-02",
          "2025-03",
          "2025-04",
          "2025-05",
          "2025-06",
          "2025-07",
          "2025-08"
         ],
         "y": {
          "bdata": "3t3d3d2NL0CSJEmSJEkqQKTtf6Ttfy1AD+7gDu5gK0D08/Pz83MrQHkKL3gKryhAdqReR+p1LkAK9fKlhDQqQIG1AtYKGCpAx3Ecx3EcLUA1g+X1TQcqQMzuycNCLS5Aohu6oRt6KkCmaAe430sqQLvVjiA8NS9A9KwJOM8aIEB3d3d3d08WQDFbwnlqFhhA0M/Pz8/PFkAhtuYcKNIWQJGugsThNRhAn+d5nue5FEBjyS+W/CIWQGNjY2NjIxhAXW5/kKGyFEC2roqfQskUQHXEvmOzrRlAXT4Ok9LlFECFOdGhAEMXQO5nCHvxfBNAlRbw81lpFkCwMr/K/CoXQAqTMAmTMBdA1uLoay2OFUDw9/v9fr8VQK611lpr7RhA1Qyj5I2+FUD33nvvvfcSQCsSryLxKhdAwWfRaxL8E0CNl24Sg8AYQCAs+sGiHxlA2ZaObemYGECJiIiIiOgZQJJz5Bw5RxhAnMuzv7k8GUCPxZ4Dl6QYQBPV3Pt36BRAgvXa3KXgF0AcHBwcHDwWQOLDG3+h3hVAE7JiinaAFkCGK1nCDegUQIlZZSLzfhJAu+bQWxa5FkB7D0Wq91AXQKESVZ89oxZAiz+SvXLFF0Bvw4fa6zYWQBRPRRyjDBlAd3d3d3eLGEBrdjMEEM0UQJqZmZmZsRVAwWMSu+bQFkCamZmZmUsWQGZmZmZmgBZA/L7v+75vF0CbbLLJJpsVQA==",
          "dtype": "f8"
         }
        },
        {
         "legendgroup": "divisions",
         "line": {
          "color": "#EF553B"
         },
         "mode": "lines+markers",
         "name": "Sales Division",
         "type": "scatter",
         "x": [
          "2020-01",
          "2020-02",
          "2020-03",
          "2020-04",
          "2020-05",
          "2020-06",
          "2020-07",
          "2020-08",
          "2020-09",
          "2020-10",
          "2020-11",
          "2020-12",
          "2021-01",
          "2021-02",
          "2021-03",
          "2021-04",
          "2021-05",
          "2021-06",
          "2021-07",
          "2021-08",
          "2021-09",
          "2021-10",
          "2021-11",
          "2021-12",
          "2022-01",
          "2022-02",
          "2022-03",
          "2022-04",
          "2022-05",
          "2022-06",
          "2022-07",
          "2022-08",
          "2022-09",
          "2022-10",
          "2022-11",
          "2022-12",
          "2023-01",
          "2023-02",
          "2023-03",
          "2023-04",
          "2023-05",
          "2023-06",
          "2023-07",
          "2023-08",
          "2023-09",
          "2023-10",
          "2023-11",
          "2023-12",
          "2024-01",
          "2024-02",
          "2024-03",
          "2024-04",
          "2024-05",
          "2024-06",
          "2024-07",
          "2024-08",
          "2024-09",
          "2024-10",
          "2024-11",
          "2024-12",
          "2025-01",
          "2025-02",
          "2025-03",
          "2025-04",
          "2025-05",
          "2025-06",
          "2025-07",
          "2025-08"
         ],
         "y": {
          "bdata": "i/49NaloJUB7FK5H4foiQC3nz3L+rCVALLDAAguMJEBqcZIWJ+kiQMrylyx/SSJAueWwY5BbJEDLfBoKsvgkQH89LSnoFyNAE4nmvTMRJ0Ca5gygac4iQFy91Vu9FSdA7+7u7u6rI0Cx2kUQq10kQLmSJdyALiZALox81EWIFEBDL/RCL/QHQHB7dfi2VwVAK6/sTZ11B0AUDI6tpScNQDKr7sxdlQdAJFbvO2L1BkBJ156CdO0FQA1+ttLgZwdAh4s1mQh2AkDFmkwEO4cCQPsDg6mlPwhAS0pKSkpKA0Ds2Jn2MWIGQFTEaNFZmQVAGhZcKtu7AkA/u4DYVBoFQE8R+Djb8ARAx3Ecx3GcBEARiHZTDYEFQJXyjbaPRQdATjFq+Nu0CUAbXyjXJLkFQMdxHMdx/AlA2Y771IftBECf9Emf9EkFQFD6pE/6hAhAqy4ZTbpHBUDzgGSdK48FQPxtilHDfwZAjmL258NpA0BknSsPSNYEQM5ZexjQ6ABAteY1VQIpAkD1Mgk8sHABQKrGliSemAVAVE0RE6LhA0C6bBEuPlcFQI8/HPD4wwNAREREREREB0DgbVGKGPwIQNNNYhBYOQhAe+7ICbG+CkDalmFE0UcFQJ9f4eTr+QdAtylGDX87B0DuG9a+Ye0DQJMBkUZTcAZAF0t+seQXBkDjoYSwbtEIQIsYLTor8wRApV+R4P+sBUBgOrx17EwCQA==",
          "dtype": "f8"
         }
        },
        {
         "legendgroup": "divisions",
         "line": {
          "color": "#00CC96"
         },
         "mode": "lines+markers",
         "name": "Development Division",
         "type": "scatter",
         "x": [
          "2020-01",
          "2020-02",
          "2020-03",
          "2020-04",
          "2020-05",
          "2020-06",
          "2020-07",
          "2020-08",
          "2020-09",
          "2020-10",
          "2020-11",
          "2020-12",
          "2021-01",
          "2021-02",
          "2021-03",
          "2021-04",
          "2021-05",
          "2021-06",
          "2021-07",
          "2021-08",
          "2021-09",
          "2021-10",
          "2021-11",
          "2021-12",
          "2022-01",
          "2022-02",
          "2022-03",
          "2022-04",
          "2022-05",
          "2022-06",
          "2022-07",
          "2022-08",
          "2022-09",
          "2022-10",
          "2022-11",
          "2022-12",
          "2023-01",
          "2023-02",
          "2023-03",
          "2023-04",
          "2023-05",
          "2023-06",
          "2023-07",
          "2023-08",
          "2023-09",
          "2023-10",
          "2023-11",
          "2023-12",
          "2024-01",
          "2024-02",
          "2024-03",
          "2024-04",
          "2024-05",
          "2024-06",
          "2024-07",
          "2024-08",
          "2024-09",
          "2024-10",
          "2024-11",
          "2024-12",
          "2025-01",
          "2025-02",
          "2025-03",
          "2025-04",
          "2025-05",
          "2025-06",
          "2025-07",
          "2025-08"
         ],
         "y": {
          "bdata": "tem/Rw7JL0BxpXsDyoQnQLpW2XDE9CxAjigw6dQ8KEApKCgoKCgpQEHrlUDrFSpAjGzn+6kRKkDExnv6n2ApQIpgECXNwidA8tJNYhB4KkAzJObtDAkpQD0qN8A59StA/tiP/dgPKUDsUbgehQsoQOB8Fx/YwyhA3FBYUwE4HkD6lm/5lu8VQKCV8V5ruBRAjliXHvP3GEBbDm72C7EVQKAeQJYq8RRAbp58R4aNE0B8Ce0ltFcVQHX80NW4ZhRAep7neZ53FEBQEOz7BMESQKYxYBoDphVAi6/4iq9YFkB3d3d3d7cZQNIardEazRJAa3ON28UEE0B/o+x+o+wWQCcj3Xx4MhZAvplQvplQEkCRtf6Qtf4WQN8j9GS3LhdAcdK0snvlGEDdbn2YgTIUQMAzAjwjQBpA5bqMc/H7FkBpXI7G5WgXQOQXS36xhBpAIiIiIiJCGUBr/SFr/SEaQHZ+VCYNixdATFA7pJfWG0BCMcm+PZcaQKV/oRF1jhVAhsoOU5fbF0CUPumTPmkXQF6nOV6nORVAsK+vr6+vF0Bihs9hhs8WQLujVOb0DxVAtVM7tVO7FkAsZRniWBcXQIEmwoanVxRAPvtKvIWWE0C8u7u7u3sTQFcTz4pGYhJAUCpMvB85FEBbsAVbsAUTQCehQCO21xBApdutDzNQEkCvJp4VjYQVQHFko2iO0RRATU1NTU1NEkBJC1UyyhERQA==",
          "dtype": "f8"
         }
        },
        {
         "legendgroup": "divisions",
         "line": {
          "color": "#AB63FA"
         },
         "mode": "lines+markers",
         "name": "Operating Division",
         "type": "scatter",
         "x": [
          "2020-01",
          "2020-02",
          "2020-03",
          "2020-04",
          "2020-05",
          "2020-06",
          "2020-07",
          "2020-08",
          "2020-09",
          "2020-10",
          "2020-11",
          "2020-12",
          "2021-01",
          "2021-02",
          "2021-03",
          "2021-04",
          "2021-05",
          "2021-06",
          "2021-07",
          "2021-08",
          "2021-09",
          "2021-10",
          "2021-11",
          "2021-12",
          "2022-01",
          "2022-02",
          "2022-03",
          "2022-04",
          "2022-05",
          "2022-06",
          "2022-07",
          "2022-08",
          "2022-09",
          "2022-10",
          "2022-11",
          "2022-12",
          "2023-01",
          "2023-02",
          "2023-03",
          "2023-04",
          "2023-05",
          "2023-06",
          "2023-07",
          "2023-08",
          "2023-09",
          "2023-10",
          "2023-11",
          "2023-12",
          "2024-01",
          "2024-02",
          "2024-03",
          "2024-04",
          "2024-05",
          "2024-06",
          "2024-07",
          "2024-08",
          "2024-09",
          "2024-10",
          "2024-11",
          "2024-12",
          "2025-01",
          "2025-02",
          "2025-03",
          "2025-04",
          "2025-05",
          "2025-06",
          "2025-07",
          "2025-08"
         ],
         "y": {
          "bdata": "47AvUad7Q8CX0F5Ce0FBwEez7KR+DkPAdwSU4IB4Q8Dib1OMGvZCwDpg0NL5iUTARm7kRm4URcCJiIiIiOhDwGESJmES4kTA5VNKVgfKQ8CzlkQxpT1DwMdsXvD5DUbAH/P32oj1Q8Bp9KteLjBCwHawVHuTUkbARtSqE6G3RcAW4R+ne4BFwBS0KxZxX0fALFXsXoifRsC3iTOtPVlGwCRNqTj7mEbAGjgcy2qYRcCBDKKDnzBHwAB6CsZEu0fAgtcsgtcsBUBvRAvcUFgJQItq1TihWwdAhxbZzvfTCEDg39/f398IQImIiIiISAdAwiRMwiRMBUBDKOUR9AcKQK0A9BSMiQhArcVfTq9uBkCWQOuVQOsGQDp+/0jw1gRAf/VXf/WXCECgAiqgAioFQKAdLNXepAtAXbOp44euBkAMwzAMwzAKQKNylMmKAwFA+cfpHuBYB0AiIiIiIiIEQDED/MTJQwNA+dsUo4Y/B0Ctc+UByboIQBlrnFOOsQRAb3PsNsduBEAK6ZmQngkAQBLcR3AfwQVAVu68H1rlAEC/X0Hm1KAAQDdSjtV13gVA6cgHioWOBEBUkh4akNkEQEnDLY803ARAKl4gk+IFB0BvetOb3vQEQNfS9HUtTQdAaUBm+wruBED0m61Dv1kBQKfMH1J3ygRAcHBwcHBwBEBn1bBn1bADQIQoG31ZCQNA4yu+4iteA0C9sXxV1BsBQA==",
          "dtype": "f8"
         }
        },
        {
         "legendgroup": "Planning Division",
         "line": {
          "color": "#636EFA"
         },
         "mode": "lines+markers",
         "name": "Strategy Office",
         "type": "scatter",
         "visible": false,
         "x": [
          "2020-01",
          "2020-02",
          "2020-03",
          "2020-04",
          "2020-05",
          "2020-06",
          "2020-07",
          "2020-08",
          "2020-09",
          "2020-10",
          "2020-11",
          "2020-12",
          "2021-01",
          "2021-02",
          "2021-03",
          "2021-04",
          "2021-05",
          "2021-06",
          "2021-07",
          "2021-08",
          "2021-09",
          "2021-10",
          "2021-11",
          "2021-12",
          "2022-01",
          "2022-02",
          "2022-03",
          "2022-04",
          "2022-05",
          "2022-06",
          "2022-07",
          "2022-08",
          "2022-09",
          "2022-10",
          "2022-11",
          "2022-12",
          "2023-01",
          "2023-02",
          "2023-03",
          "2023-04",
          "2023-05",
          "2023-06",
          "2023-07",
          "2023-08",
          "2023-09",
          "2023-10",
          "2023-11",
          "2023-12",
          "2024-01",
          "2024-02",
          "2024-03",
          "2024-04",
          "2024-05",
          "2024-06",
          "2024-07",
          "2024-08",
          "2024-09",
          "2024-10",
          "2024-11",
          "2024-12",
          "2025-01",
          "2025-02",
          "2025-03",
          "2025-04",
          "2025-05",
          "2025-06",
          "2025-07",
          "2025-08"
         ],
         "y": {
          "bdata": "D1TObuFXMECT2+o+DXwtQJqZmZmZWTFA3Cw0qfngMECLr/iKr7guQMcIJvo72SxAMMjqif/CLkCQ4D6C+8gtQKYxYBoDJi9A1AY6baAnMEBPG+i0gQYvQOQXS36xKDFAAjZG22lWLkCOcJdjU74uQIwXs+OizjBAQEq7EZDSI0DLevI+TDgeQI502EiHjR9Aa53QAzdqHUCjbzwJ1qIdQBzWvmHtOx5AtJw/y/lTGkDWvmHtG5YdQOwJe8KesB1ArKurq6urG0AREREREREcQCZZjL/yJSJA7N9LWxTBHEBAUjCZg4AgQFKPcyaJKRtARmu0Rmu0HkCCswPG4S4gQHu/rPfLeh5ANIVAUwi0G0BELisGSngdQKJ2JWpXIiBAXOLU77nlHUBl56QIc9MZQPUP6CPK0B5ArkfhehReGEAnaxA0r7UfQJIbuZEbuR9AJhNeMuGlHkC1ugR9IEogQBpFllFkmR9AMQzDMAyDIECt3xJGeawfQAzDMAzDsBtA/DOPFpVIH0CMLrrookscQIGMhgnIaBtA3Nvb29vbG0BzQA3apnMaQLU+elzroxdAE5DRMAGZG0Ch4kESKh4bQITXrUJ43RpA0NtvYKf6HUA8tVM7tRMbQEf0DDUWJCBAm53so4oSIEDlaFyOxuUaQA9t9tBmjxtAURRFURRFHEDmbM7mbI4bQMqYjMmYjBxAyyiyjCLLHkBaweELKQIdQA==",
          "dtype": "f8"
         }
        },
        {
         "legendgroup": "Planning Division",
         "line": {
          "color": "#EF553B"
         },
         "mode": "lines+markers",
         "name": "Finance Office",
         "type": "scatter",
         "visible": false,
         "x": [
          "2020-01",
          "2020-02",
          "2020-03",
          "2020-04",
          "2020-05",
          "2020-06",
          "2020-07",
          "2020-08",
          "2020-09",
          "2020-10",
          "2020-11",
          "2020-12",
          "2021-01",
          "2021-02",
          "2021-03",
          "2021-04",
          "2021-05",
          "2021-06",
          "2021-07",
          "2021-08",
          "2021-09",
          "2021-10",
          "2021-11",
          "2021-12",
          "2022-01",
          "2022-02",
          "2022-03",
          "2022-04",
          "2022-05",
          "2022-06",
          "2022-07",
          "2022-08",
          "2022-09",
          "2022-10",
          "2022-11",
          "2022-12",
          "2023-01",
          "2023-02",
          "2023-03",
          "2023-04",
          "2023-05",
          "2023-06",
          "2023-07",
          "2023-08",
          "2023-09",
          "2023-10",
          "2023-11",
          "2023-12",
          "2024-01",
          "2024-02",
          "2024-03",
          "2024-04",
          "2024-05",
          "2024-06",
          "2024-07",
          "2024-08",
          "2024-09",
          "2024-10",
          "2024-11",
          "2024-12",
          "2025-01",
          "2025-02",
          "2025-03",
          "2025-04",
          "2025-05",
          "2025-06",
          "2025-07",
          "2025-08"
         ],
         "y": {
          "bdata": "pCYYb2UfLkCgAiqgAiomQDzmkDvmkCZA8WificXgIUBlwxHTnsgmQHUxzlDouyJA2ioK5Iz8LUBSnkxtk2okQP0WAkapJiJAzAo/FZ3jJ0DtOzbbKiUhQArtJbSX0CZAPFyC2en8I0CF61G4HkUjQPv6+vr6eitAD+aJ+jfCFEC9vLy8vLwEQBd6oRd6oQhAR/KcR/KcB0DJjdzIjVwHQImIiIiICAxA4Ad+4Ad+BkDxGI/xGA8DQPs3Qhm9LQ1A46WbxCCwAUCeqH8jlNEAQFCNl24Sg/4/BoGVQ4ts/z+KndiJndj+P1Sp/lOp/vs/zAo/FZ1jAEDMWh0TPJj/P47jOI7jeAVAfP4rBIe0BEC76KKLLrr8PwzDMAzDMAVAyiTV2jXm/z9lKQ4Ze+3+P/WdjfrORgVAbAfm2oG5CEB6vNKEFZsJQLSikYBvXgtAF3mRF3mRCUCLRgK+eTULQDXxrGgk4AVAEvDNq4lnBUDLUhwy9toHQD/pkz7pEwJAiYiIiIjoBED0SZ/0ST8GQDmO4ziO4wdAzp/l/FlOCEBjwDQGTGMEQGLtG9a+4QBAFiifY4HyCUBc0pa0JW0PQKx+piP2HQ1ANuo7G/WdCUDWSVSyAMILQGELtmALFglALIjJFcTkBkBbsAVbsMUEQFeasGLzeAZA8M2riWdFCUCBaQyYxoAIQGoMmMaA6QVA82c5f5ZzA0Cv67qu67r+Pw==",
          "dtype": "f8"
         }
        },
        {
         "legendgroup": "Sales Division",
         "line": {
          "color": "#636EFA"
         },
         "mode": "lines+markers",
         "name": "Marketing Office",
         "type": "scatter",
         "visible": false,
         "x": [
          "2020-01",
          "2020-02",
          "2020-03",
          "2020-04",
          "2020-05",
          "2020-06",
          "2020-07",
          "2020-08",
          "2020-09",
          "2020-10",
          "2020-11",
          "2020-12",
          "2021-01",
          "2021-02",
          "2021-03",
          "2021-04",
          "2021-05",
          "2021-06",
          "2021-07",
          "2021-08",
          "2021-09",
          "2021-10",
          "2021-11",
          "2021-12",
          "2022-01",
          "2022-02",
          "2022-03",
          "2022-04",
          "2022-05",
          "2022-06",
          "2022-07",
          "2022-08",
          "2022-09",
          "2022-10",
          "2022-11",
          "2022-12",
          "2023-01",
          "2023-02",
          "2023-03",
          "2023-04",
          "2023-05",
          "2023-06",
          "2023-07",
          "2023-08",
          "2023-09",
          "2023-10",
          "2023-11",
          "2023-12",
          "2024-01",
          "2024-02",
          "2024-03",
          "2024-04",
          "2024-05",
          "2024-06",
          "2024-07",
          "2024-08",
          "2024-09",
          "2024-10",
          "2024-11",
          "2024-12",
          "2025-01",
          "2025-02",
          "2025-03",
          "2025-04",
          "2025-05",
          "2025-06",
          "2025-07",
          "2025-08"
         ],
         "y": {
          "bdata": "3MkzuJ28JUAzMzMzMxciQDMzMzMz5yRAExMTExPTIEChoKCgoKAnQMrJycnJSSBAbGtra2trI0BNRSaqufcmQH3SJ33SJyFAREREREToKUCx9g1r37AjQBERERERDStA7+7u7u5uJkBEx/DiPHQnQFLqDKwhJSZAIiIiIiIiEUCbmpqampoGQC7Ygi3YAgVAq6qqqqqqCEB3d3d3d/cMQNMGOm2g0wZAZND4p0kGAkDRw96oFD36P9NZTGcxnQNABcJIO1Yg+j82lNdQXkMEQFmN1ViN1QpAW5OyNSlbBUCDOqiDOqgHQDRAAzRAAwJAOn+W82c59z8+9FRgFncAQH4vwEVy1gRATUHoH93GB0AdMvba5UcKQFtFgZyRLwlAsQVbsAVrEEClT/qkT5oLQK6y4YhpTxFAr7mQNKXiCkBEREREREQMQHGlewPKxBFAgtnpfKgwDkCt480JJRoMQMlCFrKQhQpALsHsdD5UAkDyZGqbVNcBQIHdHmsZOgJAh54KzOJOAkBKtXaN+boBQLZVSpQzKABA0m1MQegf/z/Niz+RcEoBQLIUh4y9dgNAN43iN43iDUBLrdRKrdQOQHEO53AO5w1AixbOgFByD0C6r8Kc6FAKQLqRG7mRmwdAhTDbhTDbCUBWAaxWAawEQH4o030o0wtAX0J7Ce0lBEDyYdyvSyoBQIpyBkUuwgJAP+mTPunTAUA+6ZM+6dMAQA==",
          "dtype": "f8"
         }
        },
        {
         "legendgroup": "Sales Division",
         "line": {
          "color": "#EF553B"
         },
         "mode": "lines+markers",
         "name": "Domestic Sales Office",
         "type": "scatter",
         "visible": false,
         "x": [
          "2020-01",
          "2020-02",
          "2020-03",
          "2020-04",
          "2020-05",
          "2020-06",
          "2020-07",
          "2020-08",
          "2020-09",
          "2020-10",
          "2020-11",
          "2020-12",
          "2021-01",
          "2021-02",
          "2021-03",
          "2021-04",
          "2021-05",
          "2021-06",
          "2021-07",
          "2021-08",
          "2021-09",
          "2021-10",
          "2021-11",
          "2021-12",
          "2022-01",
          "2022-02",
          "2022-03",
          "2022-04",
          "2022-05",
          "2022-06",
          "2022-07",
          "2022-08",
          "2022-09",
          "2022-10",
          "2022-11",
          "2022-12",
          "2023-01",
          "2023-02",
          "2023-03",
          "2023-04",
          "2023-05",
          "2023-06",
          "2023-07",
          "2023-08",
          "2023-09",
          "2023-10",
          "2023-11",
          "2023-12",
          "2024-01",
          "2024-02",
          "2024-03",
          "2024-04",
          "2024-05",
          "2024-06",
          "2024-07",
          "2024-08",
          "2024-09",
          "2024-10",
          "2024-11",
          "2024-12",
          "2025-01",
          "2025-02",
          "2025-03",
          "2025-04",
          "2025-05",
          "2025-06",
          "2025-07",
          "2025-08"
         ],
         "y": {
          "bdata": "x3Ecx3FsKEDjOI7jOO4eQNZojdZoDSdArePNCSUaIkAxO50PFUYgQDnrewEukiBAMzMzMzNTJUD5lSMe7bMjQIMt2IItMCFAaeAWAT1YJEBNbZPq+o0gQH2oMPoPVCZA3V/4VJZiI0CO4ziO46ghQF/xFV/xFSRAvLu7u7u7E0Du2Z7t2Z4HQOQXS36x5AFAhRWbxytNBEBjCkL/6DYLQNa58oBknQdAA1wkZ30vC0Cqk+FQy54NQOkf3cYUhA1Au+iiiy46BkDxtylGDX8BQAvBIS3jQwtAvLD6mY7YB0C90oQVm8cIQKyUKGdQ5AZAiYiIiIiICEBxJ4iTSaoNQBAyVHaYughAMe7XJZUPBUDK1Daprt8GQFJdvzE3aAdAH8b9uqTyBUBMKh/G/boBQGLtG9a+YQFAXx2+7dXhAUDHAuVzLFACQHzbq8O3vQJAm2yyySabAEBi3K9LKh/6P6U4ZOy1ywFA6pM+6ZNeAkCgis4xrxcGQDJ6W9bqmPQ//3vkkKAtAUDNzMzMzMz6P6HTBjptoABAgNxrLiRN+T+k9+daZcP5P8HAwMDAwPA/3LM927M98T9vGcRuGcT2P+QXS36x5PM/F+MMhb7D9j/Zgi3Ygm30PzVsVpKtovw/ZTjUsqdO9D+jhr9NMWr4PxS3QnErFPw/AS6Ss74XA0A7TF1uf5AJQCFPCfKUIARAchzHcRyHA0D9iYRTmhcHQA==",
          "dtype": "f8"
         }
        },
        {
         "legendgroup": "Sales Division",
         "line": {
          "color": "#00CC96"
         },
         "mode": "lines+markers",
         "name": "Global Sales Office",
         "type": "scatter",
         "visible": false,
         "x": [
          "2020-01",
          "2020-02",
          "2020-03",
          "2020-04",
          "2020-05",
          "2020-06",
          "2020-07",
          "2020-08",
          "2020-09",
          "2020-10",
          "2020-11",
          "2020-12",
          "2021-01",
          "2021-02",
          "2021-03",
          "2021-04",
          "2021-05",
          "2021-06",
          "2021-07",
          "2021-08",
          "2021-09",
          "2021-10",
          "2021-11",
          "2021-12",
          "2022-01",
          "2022-02",
          "2022-03",
          "2022-04",
          "2022-05",
          "2022-06",
          "2022-07",
          "2022-08",
          "2022-09",
          "2022-10",
          "2022-11",
          "2022-12",
          "2023-01",
          "2023-02",
          "2023-03",
          "2023-04",
          "2023-05",
          "2023-06",
          "2023-07",
          "2023-08",
          "2023-09",
          "2023-10",
          "2023-11",
          "2023-12",
          "2024-01",
          "2024-02",
          "2024-03",
          "2024-04",
          "2024-05",
          "2024-06",
          "2024-07",
          "2024-08",
          "2024-09",
          "2024-10",
          "2024-11",
          "2024-12",
          "2025-01",
          "2025-02",
          "2025-03",
          "2025-04",
          "2025-05",
          "2025-06",
          "2025-07",
          "2025-08"
         ],
         "y": {
          "bdata": "DnTaQKeNIUBZ8oslv+gnQOxRuB6FmyRAy5qypqwpKkBeBLHaRRAiQGAaA6YxoCVAh7VvWPsGJEC5E8TJJNUkQIwlv1jyiyZAfGvYrCTbJ0BlaptU128kQL8xN2ghJCVABx988MGnIUC5FYpbobgkQPOfyTT/mShAyoGlkxxYGEDkKUGeEmQJQJwYWrmJoQlAsfYNa9+wCUDbN6x9w1oPQL2O1OtIPQhAGsBslgHMBkD5tleHb3sFQMGFoxRcOARA0VgfGutDA0D0SZ/0SR8CQCcykN6fawNAy6FFtvP9+j+CB/NE/RsDQKabxCCwcgdA/PAZdgXIA0AsQO41F5IBQFwGsVsGsQFAm67pmq5pAUBcvuVbvuX/P7cMYrcMYgVAUrgehetRBkAgdcofdcoDQB0dHR0dHQlA0dW4ZlPHAUDLoizKoiwBQKVWaqVW6gJA6pqu6ZouAUCH3DGH3DEHQN+JNN+JNAdAm5VkqyiQBUDSJ33SJ30GQBZswRZsgQZATjFq+NsUA0C5X5dUPowFQOfPcv4sZxBAB3VQB3VQD0ByRr703hoRQKnvbNR3NhBA4aeic8zrD0DK6G1Zq2MQQI7jOI7jeBBA4ziO4zieEkAHatzhEswKQMTkCmJyBRFAraJAzsiXEEBicgUxuYIKQLlIzvpegAhAk+bWSVSyCkDuS5pbJ1EPQCIiIiIiwgdAZOelRnZeDECOnxbb+Gn9Pw==",
          "dtype": "f8"
         }
        },
        {
         "legendgroup": "Development Division",
         "line": {
          "color": "#636EFA"
         },
         "mode": "lines+markers",
         "name": "R&D Office",
         "type": "scatter",
         "visible": false,
         "x": [
          "2020-01",
          "2020-02",
          "2020-03",
          "2020-04",
          "2020-05",
          "2020-06",
          "2020-07",
          "2020-08",
          "2020-09",
          "2020-10",
          "2020-11",
          "2020-12",
          "2021-01",
          "2021-02",
          "2021-03",
          "2021-04",
          "2021-05",
          "2021-06",
          "2021-07",
          "2021-08",
          "2021-09",
          "2021-10",
          "2021-11",
          "2021-12",
          "2022-01",
          "2022-02",
          "2022-03",
          "2022-04",
          "2022-05",
          "2022-06",
          "2022-07",
          "2022-08",
          "2022-09",
          "2022-10",
          "2022-11",
          "2022-12",
          "2023-01",
          "2023-02",
          "2023-03",
          "2023-04",
          "2023-05",
          "2023-06",
          "2023-07",
          "2023-08",
          "2023-09",
          "2023-10",
          "2023-11",
          "2023-12",
          "2024-01",
          "2024-02",
          "2024-03",
          "2024-04",
          "2024-05",
          "2024-06",
          "2024-07",
          "2024-08",
          "2024-09",
          "2024-10",
          "2024-11",
          "2024-12",
          "2025-01",
          "2025-02",
          "2025-03",
          "2025-04",
          "2025-05",
          "2025-06",
          "2025-07",
          "2025-08"
         ],
         "y": {
          "bdata": "1yZKdm1CMkD94YDHH44qQODxhwMe3zBAFR44hnCvLEDqkz7pk74qQOfVxLOi0S1AbEryqg+YLkBXE8+KRqIsQGkk4JtX8ypAr6G8hvIaMED2Yz/2Yx8sQCVJkiRJOjBAmpmZmZn5KkDh+1wWvo8uQB1mQ9ui+SxAjKkW9ZxVJEBsfL7G52seQPFbCb+V8BxA3S5DiNltIEB0lJweP0cdQE/t1E7t1BpAbXk6dU8MG0A271NcMgQeQGesfO0/NxxABhcbXGxwHkATiea9M5EdQJ3wTH+DbiBAn762OFhQH0AREREREe8iQDMzMzMzGxpAlJuBXN6XGkCQOLz2niIfQMLBwcHBwR5AXlL5MO7XGkDkCYjOV/cfQKMKn5ex1h9AEpTYA3B+IEBORzkd5XQYQMnkMMKRTCBAf6L8XdHxHkAP2dG/EmIeQH52AbGp9CFA90grkycgIEDm2oG5dmAfQNpLaC+hnR1Aa7RGa7QGIECCThvotAEhQG9ubm5ubhlAS0pKSkrKH0DV1NTU1BQeQKObcQpTYhpA1x8vg1HAHUBBG0lFsPwdQFC01eA5AhtA397e3t6eHkDeI61MnoAeQLOnToZDLRpAxZ4Dl+QaGkBz/iznz/IYQEm9jtTryBZA4N/f398fHEABF8lZ3wsaQNDPz8/PzxZAX8ZaU22SGUAGPRZ7DtwfQFOg1q8UqB5AbkKNOg9aGUDHSWlh4wIZQA==",
          "dtype": "f8"
         }
        },
        {
         "legendgroup": "Development Division",
         "line": {
          "color": "#EF553B"
         },
         "mode": "lines+markers",
         "name": "QA Office",
         "type": "scatter",
         "visible": false,
         "x": [
          "2020-01",
          "2020-02",
          "2020-03",
          "2020-04",
          "2020-05",
          "2020-06",
          "2020-07",
          "2020-08",
          "2020-09",
          "2020-10",
          "2020-11",
          "2020-12",
          "2021-01",
          "2021-02",
          "2021-03",
          "2021-04",
          "2021-05",
          "2021-06",
          "2021-07",
          "2021-08",
          "2021-09",
          "2021-10",
          "2021-11",
          "2021-12",
          "2022-01",
          "2022-02",
          "2022-03",
          "2022-04",
          "2022-05",
          "2022-06",
          "2022-07",
          "2022-08",
          "2022-09",
          "2022-10",
          "2022-11",
          "2022-12",
          "2023-01",
          "2023-02",
          "2023-03",
          "2023-04",
          "2023-05",
          "2023-06",
          "2023-07",
          "2023-08",
          "2023-09",
          "2023-10",
          "2023-11",
          "2023-12",
          "2024-01",
          "2024-02",
          "2024-03",
          "2024-04",
          "2024-05",
          "2024-06",
          "2024-07",
          "2024-08",
          "2024-09",
          "2024-10",
          "2024-11",
          "2024-12",
          "2025-01",
          "2025-02",
          "2025-03",
          "2025-04",
          "2025-05",
          "2025-06",
          "2025-07",
          "2025-08"
         ],
         "y": {
          "bdata": "jCW/WPLrKEAOdNpApx0jQKRwPQrXAyZA1Vu91Vv9IUA5juM4juMmQAqcwAmcwCRA3c/93M/9IkDhFV7hFV4kQKqVWqmV2iJA8LpVCK/bIkBUPEhCxQMlQMacMWfMGSZALtiCLdiCJkB6kRd5kRceQJ3N2ZzN2SJAUiEVUiEVDkAbrdEardECQJVWUGkFlQBAARkNE5DRCkApboXiVqgFQAR5SpCnBAlAkKxz5QHJAkAhJlcQkysEQJbikLHXLgVApXsDysSV/j8ezBP1b4T0P7DZUYuQv/4/BPRgNa3jA0B90id90gcDQPRJn/RJHwJAR2u0Rmu0AEDMCj8VnWMGQMJufgsBowRAYleA3Gsu+j+hjN6WtToFQH/NjlqE/AVA0GkDnTbQCkCPCR7ME/ULQEJg5dAi2xBAzs3Nzc3NB0Bu5EZu5MYLQCPb+X5qvApA7kKY7UKYD0BMN4lBYOUSQDJ6W9bqmA1ApVZqpVYqFkA58KJylMkQQOiQmmC8lRBAgh/4gR/4CkAHfuAHfmANQIEKqIAKKA1A5Vu+5Vu+D0AN0iAN0iALQDDke0yr7QpAwnJPIyz3CkC0Rmu0RusLQOqgDuqgTgpAB3VQB3XQB0C3KUYNf5sJQH4V5kSHAgpA37efMMsrBEArzIkOBRgEQG6KUcPfpgJAjyb3VZgTAkAWbMEWbMEBQCqXcimXcgJAcl+FOdGhA0CjTFYceFH9Pw==",
          "dtype": "f8"
         }
        },
        {
         "legendgroup": "Operating Division",
         "line": {
          "color": "#636EFA"
         },
         "mode": "lines+markers",
         "name": "Engineering Office",
         "type": "scatter",
         "visible": false,
         "x": [
          "2020-01",
          "2020-02",
          "2020-03",
          "2020-04",
          "2020-05",
          "2020-06",
          "2020-07",
          "2020-08",
          "2020-09",
          "2020-10",
          "2020-11",
          "2020-12",
          "2021-01",
          "2021-02",
          "2021-03",
          "2021-04",
          "2021-05",
          "2021-06",
          "2021-07",
          "2021-08",
          "2021-09",
          "2021-10",
          "2021-11",
          "2021-12",
          "2022-01",
          "2022-02",
          "2022-03",
          "2022-04",
          "2022-05",
          "2022-06",
          "2022-07",
          "2022-08",
          "2022-09",
          "2022-10",
          "2022-11",
          "2022-12",
          "2023-01",
          "2023-02",
          "2023-03",
          "2023-04",
          "2023-05",
          "2023-06",
          "2023-07",
          "2023-08",
          "2023-09",
          "2023-10",
          "2023-11",
          "2023-12",
          "2024-01",
          "2024-02",
          "2024-03",
          "2024-04",
          "2024-05",
          "2024-06",
          "2024-07",
          "2024-08",
          "2024-09",
          "2024-10",
          "2024-11",
          "2024-12",
          "2025-01",
          "2025-02",
          "2025-03",
          "2025-04",
          "2025-05",
          "2025-06",
          "2025-07",
          "2025-08"
         ],
         "y": {
          "bdata": "WpRFWZQFQ8AalmEZlsFBwK/wCq/wCkLApHA9Cte/QsBSuB6F6zFDwMABHMAB/EPABjptoNPGQ8B3cAd3cCdEwEREREREYETAyVOCPCWwQ8Aqa8qasgZDwIpU76FINUbA7pzhzhnOQ8BmD2320AZCwD25xZNbPEbA8oslv1geRcBZ8oslv0RFwFK4HoXrfUfAdyB+B+L3RsAREREREfVFwFVVVVVVRUbAD8TvQPyuRcADSDWAVCNGwNRXS321VEfAidUugljtCECJiIiIiIgNQIXiVihuhQtAn/RJn/RJDUAjiNUuglgLQIsHSah4kARAX0fqdaTeCUDr8G2vDt8OQCRJkiRJkgVAq6qqqqqqAkAhTwnylCAFQHErFLdCcQNA7FG4HoXrCUCwEBzSMj4GQI9A0VaD5wpAhAHU+3hLBUADpjFgGgMOQPNSIzsvNf4/Z39zefY3BUDKJptsssn/P1w4SsGFowJApHA9CtfjCEAlv1jyi+UGQGoDnTbQaf0/wLLNlwMs+T9bF56Qq3X1P6QaQKoBpARAKQmGkmAo8T9CHdRBHdT3P6DTBjptoARAgRiIgRiI/T902kCnDfT4P3E9CtejcP0/20CnDXSaAUDrr/7qr/72PysQRtqxAgNAlNdQXkN5/z87i+ksprP+PwEO4AAO4ABAAAAAAABAAkDQaQOdNtD4P5U0qi1XSf8/yUQ19/4dBECrqqqqqor8Pw==",
          "dtype": "f8"
         }
        },
        {
         "legendgroup": "Operating Division",
         "line": {
          "color": "#EF553B"
         },
         "mode": "lines+markers",
         "name": "Production Office",
         "type": "scatter",
         "visible": false,
         "x": [
          "2020-01",
          "2020-02",
          "2020-03",
          "2020-04",
          "2020-05",
          "2020-06",
          "2020-07",
          "2020-08",
          "2020-09",
          "2020-10",
          "2020-11",
          "2020-12",
          "2021-01",
          "2021-02",
          "2021-03",
          "2021-04",
          "2021-05",
          "2021-06",
          "2021-07",
          "2021-08",
          "2021-09",
          "2021-10",
          "2021-11",
          "2021-12",
          "2022-01",
          "2022-02",
          "2022-03",
          "2022-04",
          "2022-05",
          "2022-06",
          "2022-07",
          "2022-08",
          "2022-09",
          "2022-10",
          "2022-11",
          "2022-12",
          "2023-01",
          "2023-02",
          "2023-03",
          "2023-04",
          "2023-05",
          "2023-06",
          "2023-07",
          "2023-08",
          "2023-09",
          "2023-10",
          "2023-11",
          "2023-12",
          "2024-01",
          "2024-02",
          "2024-03",
          "2024-04",
          "2024-05",
          "2024-06",
          "2024-07",
          "2024-08",
          "2024-09",
          "2024-10",
          "2024-11",
          "2024-12",
          "2025-01",
          "2025-02",
          "2025-03",
          "2025-04",
          "2025-05",
          "2025-06",
          "2025-07",
          "2025-08"
         ],
         "y": {
          "bdata": "X19fX1+/Q8DqB6ALE/lAwFxbW1tbo0PA029NEMDmQ8Dr6urq6tJCwN7d3d3d3UTA7+7u7u7kRcAzMzMzM8JDwDMzMzMzM0XAwsUGFxvcQ8AyJmMyJmNDwBERERGR80XAs5shgGgORMA+rJDXRUpCwKP9pjyXYEbALCjp+PQVRsC/UqDWr6RFwPuS2+o+TUfA7+7u7u5mRsCe6W/Q7ZpGwFnyiyW/0EbAdpi63P6IRcBxPQrXo+hHwHzzauJZAUjAfnlsRdBwAkDVoAQwsjgGQD2Tl6TLQARAL5BJ8QKZBUCVaedgzRIHQDMzMzMzMwlAHcdxHMfxAUBlh6nL7Y8GQEtpxNUJpgpAFKolQKFaCUBZc9SNNUcIQLGewnoK6wVAOlizxPiUB0DvEXqyW1cEQGELtmALNgxAKi4ZgnW0B0ALmc++Em8HQBRFURRFUQJAzczMzMzMCEBERERERAwHQHd3d3d3rwNASUhISEhIBkDPzs7Ozs4JQM2G/V0MKghAL6G9hPaSCEBswRZswdYCQBQG6rFBYQZAE1nl/S6RBUC8u7u7uzsDQEQeXwYUiAZAxCCwcmiRB0CmLrc/yFAJQJlj+ieDOQhAApZtvhzgCUD33BKnfs8JQM+KRgK+eQlAEJJPsx1+B0AyJVMyJVMCQPurv/qrvwZABx5VtjSMBUAGA7LI/2AHQFZqpVZqpQRAxmg7zQoOA0DrgmI4G0ICQA==",
          "dtype": "f8"
         }
        }
       ],
       "layout": {
        "annotations": [
         {
          "align": "left",
          "showarrow": false,
          "text": "조직 선택:",
          "x": 0,
          "y": 1.08,
          "yref": "paper"
         }
        ],
        "font": {
         "size": 14
        },
        "height": 700,
        "legend": {
         "title": {
          "text": "조직"
         }
        },
        "template": {
         "data": {
          "bar": [
           {
            "error_x": {
             "color": "#2a3f5f"
            },
            "error_y": {
             "color": "#2a3f5f"
            },
            "marker": {
             "line": {
              "color": "#E5ECF6",
              "width": 0.5
             },
             "pattern": {
              "fillmode": "overlay",
              "size": 10,
              "solidity": 0.2
             }
            },
            "type": "bar"
           }
          ],
          "barpolar": [
           {
            "marker": {
             "line": {
              "color": "#E5ECF6",
              "width": 0.5
             },
             "pattern": {
              "fillmode": "overlay",
              "size": 10,
              "solidity": 0.2
             }
            },
            "type": "barpolar"
           }
          ],
          "carpet": [
           {
            "aaxis": {
             "endlinecolor": "#2a3f5f",
             "gridcolor": "white",
             "linecolor": "white",
             "minorgridcolor": "white",
             "startlinecolor": "#2a3f5f"
            },
            "baxis": {
             "endlinecolor": "#2a3f5f",
             "gridcolor": "white",
             "linecolor": "white",
             "minorgridcolor": "white",
             "startlinecolor": "#2a3f5f"
            },
            "type": "carpet"
           }
          ],
          "choropleth": [
           {
            "colorbar": {
             "outlinewidth": 0,
             "ticks": ""
            },
            "type": "choropleth"
           }
          ],
          "contour": [
           {
            "colorbar": {
             "outlinewidth": 0,
             "ticks": ""
            },
            "colorscale": [
             [
              0,
              "#0d0887"
             ],
             [
              0.1111111111111111,
              "#46039f"
             ],
             [
              0.2222222222222222,
              "#7201a8"
             ],
             [
              0.3333333333333333,
              "#9c179e"
             ],
             [
              0.4444444444444444,
              "#bd3786"
             ],
             [
              0.5555555555555556,
              "#d8576b"
             ],
             [
              0.6666666666666666,
              "#ed7953"
             ],
             [
              0.7777777777777778,
              "#fb9f3a"
             ],
             [
              0.8888888888888888,
              "#fdca26"
             ],
             [
              1,
              "#f0f921"
             ]
            ],
            "type": "contour"
           }
          ],
          "contourcarpet": [
           {
            "colorbar": {
             "outlinewidth": 0,
             "ticks": ""
            },
            "type": "contourcarpet"
           }
          ],
          "heatmap": [
           {
            "colorbar": {
             "outlinewidth": 0,
             "ticks": ""
            },
            "colorscale": [
             [
              0,
              "#0d0887"
             ],
             [
              0.1111111111111111,
              "#46039f"
             ],
             [
              0.2222222222222222,
              "#7201a8"
             ],
             [
              0.3333333333333333,
              "#9c179e"
             ],
             [
              0.4444444444444444,
              "#bd3786"
             ],
             [
              0.5555555555555556,
              "#d8576b"
             ],
             [
              0.6666666666666666,
              "#ed7953"
             ],
             [
              0.7777777777777778,
              "#fb9f3a"
             ],
             [
              0.8888888888888888,
              "#fdca26"
             ],
             [
              1,
              "#f0f921"
             ]
            ],
            "type": "heatmap"
           }
          ],
          "histogram": [
           {
            "marker": {
             "pattern": {
              "fillmode": "overlay",
              "size": 10,
              "solidity": 0.2
             }
            },
            "type": "histogram"
           }
          ],
          "histogram2d": [
           {
            "colorbar": {
             "outlinewidth": 0,
             "ticks": ""
            },
            "colorscale": [
             [
              0,
              "#0d0887"
             ],
             [
              0.1111111111111111,
              "#46039f"
             ],
             [
              0.2222222222222222,
              "#7201a8"
             ],
             [
              0.3333333333333333,
              "#9c179e"
             ],
             [
              0.4444444444444444,
              "#bd3786"
             ],
             [
              0.5555555555555556,
              "#d8576b"
             ],
             [
              0.6666666666666666,
              "#ed7953"
             ],
             [
              0.7777777777777778,
              "#fb9f3a"
             ],
             [
              0.8888888888888888,
              "#fdca26"
             ],
             [
              1,
              "#f0f921"
             ]
            ],
            "type": "histogram2d"
           }
          ],
          "histogram2dcontour": [
           {
            "colorbar": {
             "outlinewidth": 0,
             "ticks": ""
            },
            "colorscale": [
             [
              0,
              "#0d0887"
             ],
             [
              0.1111111111111111,
              "#46039f"
             ],
             [
              0.2222222222222222,
              "#7201a8"
             ],
             [
              0.3333333333333333,
              "#9c179e"
             ],
             [
              0.4444444444444444,
              "#bd3786"
             ],
             [
              0.5555555555555556,
              "#d8576b"
             ],
             [
              0.6666666666666666,
              "#ed7953"
             ],
             [
              0.7777777777777778,
              "#fb9f3a"
             ],
             [
              0.8888888888888888,
              "#fdca26"
             ],
             [
              1,
              "#f0f921"
             ]
            ],
            "type": "histogram2dcontour"
           }
          ],
          "mesh3d": [
           {
            "colorbar": {
             "outlinewidth": 0,
             "ticks": ""
            },
            "type": "mesh3d"
           }
          ],
          "parcoords": [
           {
            "line": {
             "colorbar": {
              "outlinewidth": 0,
              "ticks": ""
             }
            },
            "type": "parcoords"
           }
          ],
          "pie": [
           {
            "automargin": true,
            "type": "pie"
           }
          ],
          "scatter": [
           {
            "fillpattern": {
             "fillmode": "overlay",
             "size": 10,
             "solidity": 0.2
            },
            "type": "scatter"
           }
          ],
          "scatter3d": [
           {
            "line": {
             "colorbar": {
              "outlinewidth": 0,
              "ticks": ""
             }
            },
            "marker": {
             "colorbar": {
              "outlinewidth": 0,
              "ticks": ""
             }
            },
            "type": "scatter3d"
           }
          ],
          "scattercarpet": [
           {
            "marker": {
             "colorbar": {
              "outlinewidth": 0,
              "ticks": ""
             }
            },
            "type": "scattercarpet"
           }
          ],
          "scattergeo": [
           {
            "marker": {
             "colorbar": {
              "outlinewidth": 0,
              "ticks": ""
             }
            },
            "type": "scattergeo"
           }
          ],
          "scattergl": [
           {
            "marker": {
             "colorbar": {
              "outlinewidth": 0,
              "ticks": ""
             }
            },
            "type": "scattergl"
           }
          ],
          "scattermap": [
           {
            "marker": {
             "colorbar": {
              "outlinewidth": 0,
              "ticks": ""
             }
            },
            "type": "scattermap"
           }
          ],
          "scattermapbox": [
           {
            "marker": {
             "colorbar": {
              "outlinewidth": 0,
              "ticks": ""
             }
            },
            "type": "scattermapbox"
           }
          ],
          "scatterpolar": [
           {
            "marker": {
             "colorbar": {
              "outlinewidth": 0,
              "ticks": ""
             }
            },
            "type": "scatterpolar"
           }
          ],
          "scatterpolargl": [
           {
            "marker": {
             "colorbar": {
              "outlinewidth": 0,
              "ticks": ""
             }
            },
            "type": "scatterpolargl"
           }
          ],
          "scatterternary": [
           {
            "marker": {
             "colorbar": {
              "outlinewidth": 0,
              "ticks": ""
             }
            },
            "type": "scatterternary"
           }
          ],
          "surface": [
           {
            "colorbar": {
             "outlinewidth": 0,
             "ticks": ""
            },
            "colorscale": [
             [
              0,
              "#0d0887"
             ],
             [
              0.1111111111111111,
              "#46039f"
             ],
             [
              0.2222222222222222,
              "#7201a8"
             ],
             [
              0.3333333333333333,
              "#9c179e"
             ],
             [
              0.4444444444444444,
              "#bd3786"
             ],
             [
              0.5555555555555556,
              "#d8576b"
             ],
             [
              0.6666666666666666,
              "#ed7953"
             ],
             [
              0.7777777777777778,
              "#fb9f3a"
             ],
             [
              0.8888888888888888,
              "#fdca26"
             ],
             [
              1,
              "#f0f921"
             ]
            ],
            "type": "surface"
           }
          ],
          "table": [
           {
            "cells": {
             "fill": {
              "color": "#EBF0F8"
             },
             "line": {
              "color": "white"
             }
            },
            "header": {
             "fill": {
              "color": "#C8D4E3"
             },
             "line": {
              "color": "white"
             }
            },
            "type": "table"
           }
          ]
         },
         "layout": {
          "annotationdefaults": {
           "arrowcolor": "#2a3f5f",
           "arrowhead": 0,
           "arrowwidth": 1
          },
          "autotypenumbers": "strict",
          "coloraxis": {
           "colorbar": {
            "outlinewidth": 0,
            "ticks": ""
           }
          },
          "colorscale": {
           "diverging": [
            [
             0,
             "#8e0152"
            ],
            [
             0.1,
             "#c51b7d"
            ],
            [
             0.2,
             "#de77ae"
            ],
            [
             0.3,
             "#f1b6da"
            ],
            [
             0.4,
             "#fde0ef"
            ],
            [
             0.5,
             "#f7f7f7"
            ],
            [
             0.6,
             "#e6f5d0"
            ],
            [
             0.7,
             "#b8e186"
            ],
            [
             0.8,
             "#7fbc41"
            ],
            [
             0.9,
             "#4d9221"
            ],
            [
             1,
             "#276419"
            ]
           ],
           "sequential": [
            [
             0,
             "#0d0887"
            ],
            [
             0.1111111111111111,
             "#46039f"
            ],
            [
             0.2222222222222222,
             "#7201a8"
            ],
            [
             0.3333333333333333,
             "#9c179e"
            ],
            [
             0.4444444444444444,
             "#bd3786"
            ],
            [
             0.5555555555555556,
             "#d8576b"
            ],
            [
             0.6666666666666666,
             "#ed7953"
            ],
            [
             0.7777777777777778,
             "#fb9f3a"
            ],
            [
             0.8888888888888888,
             "#fdca26"
            ],
            [
             1,
             "#f0f921"
            ]
           ],
           "sequentialminus": [
            [
             0,
             "#0d0887"
            ],
            [
             0.1111111111111111,
             "#46039f"
            ],
            [
             0.2222222222222222,
             "#7201a8"
            ],
            [
             0.3333333333333333,
             "#9c179e"
            ],
            [
             0.4444444444444444,
             "#bd3786"
            ],
            [
             0.5555555555555556,
             "#d8576b"
            ],
            [
             0.6666666666666666,
             "#ed7953"
            ],
            [
             0.7777777777777778,
             "#fb9f3a"
            ],
            [
             0.8888888888888888,
             "#fdca26"
            ],
            [
             1,
             "#f0f921"
            ]
           ]
          },
          "colorway": [
           "#636efa",
           "#EF553B",
           "#00cc96",
           "#ab63fa",
           "#FFA15A",
           "#19d3f3",
           "#FF6692",
           "#B6E880",
           "#FF97FF",
           "#FECB52"
          ],
          "font": {
           "color": "#2a3f5f"
          },
          "geo": {
           "bgcolor": "white",
           "lakecolor": "white",
           "landcolor": "#E5ECF6",
           "showlakes": true,
           "showland": true,
           "subunitcolor": "white"
          },
          "hoverlabel": {
           "align": "left"
          },
          "hovermode": "closest",
          "mapbox": {
           "style": "light"
          },
          "paper_bgcolor": "white",
          "plot_bgcolor": "#E5ECF6",
          "polar": {
           "angularaxis": {
            "gridcolor": "white",
            "linecolor": "white",
            "ticks": ""
           },
           "bgcolor": "#E5ECF6",
           "radialaxis": {
            "gridcolor": "white",
            "linecolor": "white",
            "ticks": ""
           }
          },
          "scene": {
           "xaxis": {
            "backgroundcolor": "#E5ECF6",
            "gridcolor": "white",
            "gridwidth": 2,
            "linecolor": "white",
            "showbackground": true,
            "ticks": "",
            "zerolinecolor": "white"
           },
           "yaxis": {
            "backgroundcolor": "#E5ECF6",
            "gridcolor": "white",
            "gridwidth": 2,
            "linecolor": "white",
            "showbackground": true,
            "ticks": "",
            "zerolinecolor": "white"
           },
           "zaxis": {
            "backgroundcolor": "#E5ECF6",
            "gridcolor": "white",
            "gridwidth": 2,
            "linecolor": "white",
            "showbackground": true,
            "ticks": "",
            "zerolinecolor": "white"
           }
          },
          "shapedefaults": {
           "line": {
            "color": "#2a3f5f"
           }
          },
          "ternary": {
           "aaxis": {
            "gridcolor": "white",
            "linecolor": "white",
            "ticks": ""
           },
           "baxis": {
            "gridcolor": "white",
            "linecolor": "white",
            "ticks": ""
           },
           "bgcolor": "#E5ECF6",
           "caxis": {
            "gridcolor": "white",
            "linecolor": "white",
            "ticks": ""
           }
          },
          "title": {
           "x": 0.05
          },
          "xaxis": {
           "automargin": true,
           "gridcolor": "white",
           "linecolor": "white",
           "ticks": "",
           "title": {
            "standoff": 15
           },
           "zerolinecolor": "white",
           "zerolinewidth": 2
          },
          "yaxis": {
           "automargin": true,
           "gridcolor": "white",
           "linecolor": "white",
           "ticks": "",
           "title": {
            "standoff": 15
           },
           "zerolinecolor": "white",
           "zerolinewidth": 2
          }
         }
        },
        "title": {
         "text": "조직별 월 평균 1인당 초과근무 시간 드릴다운 분석"
        },
        "updatemenus": [
         {
          "active": 0,
          "buttons": [
           {
            "args": [
             {
              "visible": [
               true,
               true,
               true,
               true,
               false,
               false,
               false,
               false,
               false,
               false,
               false,
               false,
               false
              ]
             },
             {
              "title": "전체 Division별 월 평균 초과근무 시간 추이"
             }
            ],
            "label": "전체",
            "method": "update"
           },
           {
            "args": [
             {
              "visible": [
               false,
               false,
               false,
               false,
               true,
               true,
               false,
               false,
               false,
               false,
               false,
               false,
               false
              ]
             },
             {
              "title": "Planning Division 내 Office별 월 평균 초과근무 시간 추이"
             }
            ],
            "label": "Planning Division",
            "method": "update"
           },
           {
            "args": [
             {
              "visible": [
               false,
               false,
               false,
               false,
               false,
               false,
               true,
               true,
               true,
               false,
               false,
               false,
               false
              ]
             },
             {
              "title": "Sales Division 내 Office별 월 평균 초과근무 시간 추이"
             }
            ],
            "label": "Sales Division",
            "method": "update"
           },
           {
            "args": [
             {
              "visible": [
               false,
               false,
               false,
               false,
               false,
               false,
               false,
               false,
               false,
               true,
               true,
               false,
               false
              ]
             },
             {
              "title": "Development Division 내 Office별 월 평균 초과근무 시간 추이"
             }
            ],
            "label": "Development Division",
            "method": "update"
           },
           {
            "args": [
             {
              "visible": [
               false,
               false,
               false,
               false,
               false,
               false,
               false,
               false,
               false,
               false,
               false,
               true,
               true
              ]
             },
             {
              "title": "Operating Division 내 Office별 월 평균 초과근무 시간 추이"
             }
            ],
            "label": "Operating Division",
            "method": "update"
           }
          ],
          "direction": "down",
          "pad": {
           "r": 10,
           "t": 10
          },
          "showactive": true,
          "x": 0.01,
          "xanchor": "left",
          "y": 1.1,
          "yanchor": "top"
         }
        ],
        "xaxis": {
         "range": [
          "2019-12",
          "2026-01"
         ],
         "title": {
          "text": "월(YYYY-MM)"
         }
        },
        "yaxis": {
         "range": [
          -54.63755938697318,
          24.886486590038313
         ],
         "title": {
          "text": "1인당 평균 초과근무 (시간)"
         }
        }
       }
      }
     },
     "metadata": {},
     "output_type": "display_data"
    },
    {
     "name": "stdout",
     "output_type": "stream",
     "text": [
      "\n",
      "--- Aggregate DataFrame ---\n"
     ]
    },
    {
     "data": {
      "text/html": [
       "<div>\n",
       "<style scoped>\n",
       "    .dataframe tbody tr th:only-of-type {\n",
       "        vertical-align: middle;\n",
       "    }\n",
       "\n",
       "    .dataframe tbody tr th {\n",
       "        vertical-align: top;\n",
       "    }\n",
       "\n",
       "    .dataframe thead th {\n",
       "        text-align: right;\n",
       "    }\n",
       "</style>\n",
       "<table border=\"1\" class=\"dataframe\">\n",
       "  <thead>\n",
       "    <tr style=\"text-align: right;\">\n",
       "      <th>DIVISION_NAME</th>\n",
       "      <th>전체 평균</th>\n",
       "      <th>Planning Division</th>\n",
       "      <th>Sales Division</th>\n",
       "      <th>Development Division</th>\n",
       "      <th>Operating Division</th>\n",
       "    </tr>\n",
       "    <tr>\n",
       "      <th>YEAR</th>\n",
       "      <th></th>\n",
       "      <th></th>\n",
       "      <th></th>\n",
       "      <th></th>\n",
       "      <th></th>\n",
       "    </tr>\n",
       "  </thead>\n",
       "  <tbody>\n",
       "    <tr>\n",
       "      <th>2020</th>\n",
       "      <td>0.15</td>\n",
       "      <td>13.96</td>\n",
       "      <td>10.22</td>\n",
       "      <td>13.10</td>\n",
       "      <td>-39.62</td>\n",
       "    </tr>\n",
       "    <tr>\n",
       "      <th>2021</th>\n",
       "      <td>-4.44</td>\n",
       "      <td>7.99</td>\n",
       "      <td>5.00</td>\n",
       "      <td>7.28</td>\n",
       "      <td>-43.86</td>\n",
       "    </tr>\n",
       "    <tr>\n",
       "      <th>2022</th>\n",
       "      <td>4.12</td>\n",
       "      <td>5.58</td>\n",
       "      <td>2.61</td>\n",
       "      <td>5.34</td>\n",
       "      <td>2.93</td>\n",
       "    </tr>\n",
       "    <tr>\n",
       "      <th>2023</th>\n",
       "      <td>4.37</td>\n",
       "      <td>5.82</td>\n",
       "      <td>2.74</td>\n",
       "      <td>6.15</td>\n",
       "      <td>2.82</td>\n",
       "    </tr>\n",
       "    <tr>\n",
       "      <th>2024</th>\n",
       "      <td>4.06</td>\n",
       "      <td>5.62</td>\n",
       "      <td>2.74</td>\n",
       "      <td>5.41</td>\n",
       "      <td>2.53</td>\n",
       "    </tr>\n",
       "    <tr>\n",
       "      <th>2025</th>\n",
       "      <td>3.87</td>\n",
       "      <td>5.62</td>\n",
       "      <td>2.71</td>\n",
       "      <td>4.75</td>\n",
       "      <td>2.42</td>\n",
       "    </tr>\n",
       "  </tbody>\n",
       "</table>\n",
       "</div>"
      ],
      "text/plain": [
       "DIVISION_NAME  전체 평균  Planning Division  Sales Division  Development Division  \\\n",
       "YEAR                                                                            \n",
       "2020            0.15              13.96           10.22                 13.10   \n",
       "2021           -4.44               7.99            5.00                  7.28   \n",
       "2022            4.12               5.58            2.61                  5.34   \n",
       "2023            4.37               5.82            2.74                  6.15   \n",
       "2024            4.06               5.62            2.74                  5.41   \n",
       "2025            3.87               5.62            2.71                  4.75   \n",
       "\n",
       "DIVISION_NAME  Operating Division  \n",
       "YEAR                               \n",
       "2020                       -39.62  \n",
       "2021                       -43.86  \n",
       "2022                         2.93  \n",
       "2023                         2.82  \n",
       "2024                         2.53  \n",
       "2025                         2.42  "
      ]
     },
     "execution_count": 6,
     "metadata": {},
     "output_type": "execute_result"
    }
   ],
   "source": [
    "import pandas as pd\n",
    "import numpy as np\n",
    "import plotly.graph_objects as go\n",
    "import plotly.io as pio\n",
    "import plotly.express as px\n",
    "import datetime\n",
    "\n",
    "# --- 1. 데이터 임포트 ---\n",
    "from services.tables.Time_Attendance.daily_working_info_table import daily_work_info_df\n",
    "from services.tables.HR_Core.department_info_table import department_info_df\n",
    "from services.tables.HR_Core.department_table import (\n",
    "    dept_level_map, parent_map_dept, dept_name_map,\n",
    "    division_order, office_order\n",
    ")\n",
    "from services.helpers.utils import find_parents\n",
    "\n",
    "def create_figure_and_df():\n",
    "    \"\"\"\n",
    "    제안 13: 조직 워라밸 변화 추이 그래프 및 피벗 테이블을 생성합니다.\n",
    "    \"\"\"\n",
    "    # --- 2. 데이터 준비 및 가공 ---\n",
    "    daily_work_df = daily_work_info_df.copy()\n",
    "    daily_work_df['DATE'] = pd.to_datetime(daily_work_df['DATE'])\n",
    "    daily_work_df['PAY_PERIOD'] = daily_work_df['DATE'].dt.strftime('%Y-%m')\n",
    "    dept_info_sorted = department_info_df.sort_values(['DEP_APP_START_DATE', 'EMP_ID'])\n",
    "    analysis_df = daily_work_df.sort_values(['DATE', 'EMP_ID'])\n",
    "    analysis_df = pd.merge_asof(\n",
    "        analysis_df, dept_info_sorted[['EMP_ID', 'DEP_APP_START_DATE', 'DEP_ID']],\n",
    "        left_on='DATE', right_on='DEP_APP_START_DATE', by='EMP_ID', direction='backward'\n",
    "    )\n",
    "    parent_info = analysis_df['DEP_ID'].apply(lambda x: find_parents(x, dept_level_map, parent_map_dept, dept_name_map))\n",
    "    analysis_df = pd.concat([analysis_df, parent_info], axis=1)\n",
    "    analysis_df['OFFICE_NAME'] = analysis_df['OFFICE_NAME'].fillna('(Division 직속)')\n",
    "    analysis_df = analysis_df.dropna(subset=['DIVISION_NAME', 'OFFICE_NAME'])\n",
    "    analysis_df['DIVISION_NAME'] = pd.Categorical(analysis_df['DIVISION_NAME'], categories=division_order, ordered=True)\n",
    "    analysis_df = analysis_df.sort_values('DIVISION_NAME')\n",
    "\n",
    "    # --- 3. 계층별 데이터 집계 ---\n",
    "    div_monthly_summary = analysis_df.groupby(['DIVISION_NAME', 'PAY_PERIOD'], observed=True).agg(\n",
    "        TOTAL_OVERTIME_MINUTES=('OVERTIME_MINUTES', 'sum'), HEADCOUNT=('EMP_ID', 'nunique')\n",
    "    ).reset_index()\n",
    "    div_monthly_summary['AVG_OVERTIME_PER_PERSON'] = (div_monthly_summary['TOTAL_OVERTIME_MINUTES'] / div_monthly_summary['HEADCOUNT']) / 60\n",
    "    office_monthly_summary = analysis_df.groupby(['DIVISION_NAME', 'OFFICE_NAME', 'PAY_PERIOD'], observed=True).agg(\n",
    "        TOTAL_OVERTIME_MINUTES=('OVERTIME_MINUTES', 'sum'), HEADCOUNT=('EMP_ID', 'nunique')\n",
    "    ).reset_index()\n",
    "    office_monthly_summary['AVG_OVERTIME_PER_PERSON'] = (office_monthly_summary['TOTAL_OVERTIME_MINUTES'] / office_monthly_summary['HEADCOUNT']) / 60\n",
    "    \n",
    "    all_overtime_values = pd.concat([div_monthly_summary['AVG_OVERTIME_PER_PERSON'], office_monthly_summary['AVG_OVERTIME_PER_PERSON']])\n",
    "    y_min, y_max = (all_overtime_values.min(), all_overtime_values.max()) if not all_overtime_values.empty else (0, 0)\n",
    "    y_padding = (y_max - y_min) * 0.1 if (y_max - y_min) > 0 else 10\n",
    "    fixed_y_range = [y_min - y_padding, y_max + y_padding]\n",
    "\n",
    "    # --- 4. Plotly 인터랙티브 그래프 생성 ---\n",
    "    fig = go.Figure()\n",
    "    colors = px.colors.qualitative.Plotly\n",
    "\n",
    "    for i, div_name in enumerate(division_order):\n",
    "        df_filtered = div_monthly_summary[div_monthly_summary['DIVISION_NAME'] == div_name]\n",
    "        if not df_filtered.empty:\n",
    "            fig.add_trace(go.Scatter(x=df_filtered['PAY_PERIOD'], y=df_filtered['AVG_OVERTIME_PER_PERSON'], mode='lines+markers', name=div_name, line=dict(color=colors[i]), legendgroup='divisions'))\n",
    "\n",
    "    office_traces_map = {}\n",
    "    for i, div_name in enumerate(division_order):\n",
    "        office_df = office_monthly_summary[office_monthly_summary['DIVISION_NAME'] == div_name]\n",
    "        sorted_offices = [o for o in office_order if o in office_df['OFFICE_NAME'].unique()]\n",
    "        office_traces_map[div_name] = []\n",
    "        for j, office_name in enumerate(sorted_offices):\n",
    "            df_filtered = office_df[office_df['OFFICE_NAME'] == office_name]\n",
    "            if not df_filtered.empty:\n",
    "                fig.add_trace(go.Scatter(x=df_filtered['PAY_PERIOD'], y=df_filtered['AVG_OVERTIME_PER_PERSON'], mode='lines+markers', name=office_name, visible=False, line=dict(color=colors[j % len(colors)]), legendgroup=div_name))\n",
    "    \n",
    "    buttons = []\n",
    "    visible_div = [True]*len(division_order) + [False]*(len(fig.data)-len(division_order))\n",
    "    buttons.append(dict(label='전체', method='update', args=[{'visible': visible_div}, {'title': '전체 Division별 월 평균 초과근무 시간 추이'}]))\n",
    "\n",
    "    trace_idx_counter = len(division_order)\n",
    "    for div_name in division_order:\n",
    "        visibility_mask = [False] * len(fig.data)\n",
    "        # --- 수정된 부분: office_summary -> office_monthly_summary ---\n",
    "        offices_in_div = [o for o in office_order if o in office_monthly_summary[office_monthly_summary['DIVISION_NAME'] == div_name]['OFFICE_NAME'].unique()]\n",
    "        # --- 수정 완료 ---\n",
    "        num_offices = len(offices_in_div)\n",
    "        for i in range(num_offices):\n",
    "            visibility_mask[trace_idx_counter + i] = True\n",
    "        \n",
    "        buttons.append(dict(label=f'{div_name}', method='update', args=[{'visible': visibility_mask}, {'title': f'{div_name} 내 Office별 월 평균 초과근무 시간 추이'}]))\n",
    "        trace_idx_counter += num_offices\n",
    "\n",
    "    fig.update_layout(\n",
    "        updatemenus=[dict(active=0, buttons=buttons, direction=\"down\", pad={\"r\": 10, \"t\": 10}, showactive=True, x=0.01, xanchor=\"left\", y=1.1, yanchor=\"top\")],\n",
    "        title_text='조직별 월 평균 1인당 초과근무 시간 드릴다운 분석',\n",
    "        xaxis_title='월(YYYY-MM)', yaxis_title='1인당 평균 초과근무 (시간)',\n",
    "        font_size=14, height=700,\n",
    "        legend_title_text='조직',\n",
    "        annotations=[dict(text=\"조직 선택:\", showarrow=False, x=0, y=1.08, yref=\"paper\", align=\"left\")],\n",
    "        xaxis_range=['2019-12', '2026-01'],\n",
    "        yaxis_range=fixed_y_range\n",
    "    )\n",
    "    \n",
    "    # --- 수정된 부분: aggregate_df 생성 ---\n",
    "    # 1. '전체 평균' 계산을 위한 데이터 준비\n",
    "    overall_monthly_summary = analysis_df.groupby('PAY_PERIOD', observed=False).agg(\n",
    "        TOTAL_OVERTIME_MINUTES=('OVERTIME_MINUTES', 'sum'),\n",
    "        HEADCOUNT=('EMP_ID', 'nunique')\n",
    "    ).reset_index()\n",
    "    overall_monthly_summary['AVG_OVERTIME_PER_PERSON'] = (overall_monthly_summary['TOTAL_OVERTIME_MINUTES'] / overall_monthly_summary['HEADCOUNT']) / 60\n",
    "\n",
    "    # 2. 연도별로 데이터 집계\n",
    "    div_monthly_summary['YEAR'] = pd.to_datetime(div_monthly_summary['PAY_PERIOD']).dt.year\n",
    "    yearly_summary = div_monthly_summary.groupby(['YEAR', 'DIVISION_NAME'], observed=False)['AVG_OVERTIME_PER_PERSON'].mean().reset_index()\n",
    "\n",
    "    overall_monthly_summary['YEAR'] = pd.to_datetime(overall_monthly_summary['PAY_PERIOD']).dt.year\n",
    "    overall_yearly_summary = overall_monthly_summary.groupby('YEAR')['AVG_OVERTIME_PER_PERSON'].mean()\n",
    "\n",
    "    # 3. 피벗 테이블 생성 및 '전체 평균' 추가\n",
    "    aggregate_df = yearly_summary.pivot_table(\n",
    "        index='YEAR',\n",
    "        columns='DIVISION_NAME',\n",
    "        values='AVG_OVERTIME_PER_PERSON',\n",
    "        observed=False\n",
    "    )\n",
    "    aggregate_df['전체 평균'] = overall_yearly_summary\n",
    "    \n",
    "    # 4. 연도 필터링 및 정렬\n",
    "    aggregate_df = aggregate_df.reindex(range(2020, 2026)).sort_index()\n",
    "    \n",
    "    # 5. 컬럼 순서 재배치 및 포맷팅\n",
    "    cols = ['전체 평균'] + [col for col in division_order if col in aggregate_df.columns]\n",
    "    aggregate_df = aggregate_df[cols].round(2)\n",
    "    # --- 수정 완료 ---\n",
    "    \n",
    "    return fig, aggregate_df\n",
    "\n",
    "# --- 실행 코드 ---\n",
    "pio.renderers.default = 'vscode'\n",
    "fig, aggregate_df = create_figure_and_df()\n",
    "fig.show()\n",
    "\n",
    "print(\"\\n--- Aggregate DataFrame ---\")\n",
    "aggregate_df"
   ]
  },
  {
   "cell_type": "code",
   "execution_count": null,
   "id": "cb319344",
   "metadata": {},
   "outputs": [],
   "source": []
  }
 ],
 "metadata": {
  "kernelspec": {
   "display_name": "Python 3 (ipykernel)",
   "language": "python",
   "name": "python3"
  },
  "language_info": {
   "codemirror_mode": {
    "name": "ipython",
    "version": 3
   },
   "file_extension": ".py",
   "mimetype": "text/x-python",
   "name": "python",
   "nbconvert_exporter": "python",
   "pygments_lexer": "ipython3",
   "version": "3.12.11"
  }
 },
 "nbformat": 4,
 "nbformat_minor": 5
}
