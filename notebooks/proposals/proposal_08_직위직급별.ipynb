{
 "cells": [
  {
   "cell_type": "code",
   "execution_count": 4,
   "id": "8dc8ece5",
   "metadata": {},
   "outputs": [
    {
     "data": {
      "application/vnd.plotly.v1+json": {
       "config": {
        "plotlyServerURL": "https://plot.ly"
       },
       "data": [
        {
         "customdata": {
          "bdata": "cS9YcXc=",
          "dtype": "i1"
         },
         "hovertemplate": "평균 재직기간: %{x:.2f}년<br>인원: %{customdata}명<extra></extra>",
         "name": "재직자",
         "orientation": "h",
         "text": {
          "bdata": "4XoUrkfhFUAUrkfhehQUQM3MzMzMzBNA9ihcj8L1FkDsUbgehesVQA==",
          "dtype": "f8"
         },
         "textposition": "outside",
         "type": "bar",
         "visible": true,
         "x": {
          "bdata": "tPtD5kPkFUD2dBydBhYUQGV4trd1zhNABShwKxf6FkAG3FqSn+8VQA==",
          "dtype": "f8"
         },
         "y": [
          "IT",
          "Management Support",
          "Planning",
          "Production & Engineering",
          "Sales & Marketing"
         ]
        },
        {
         "customdata": {
          "bdata": "ZgAqAHsAdQCIAA==",
          "dtype": "i2"
         },
         "hovertemplate": "평균 재직기간: %{x:.2f}년<br>인원: %{customdata}명<extra></extra>",
         "name": "퇴사자",
         "orientation": "h",
         "text": {
          "bdata": "4XoUrkfhEUCkcD0K16MSQBSuR+F6FBNAKVyPwvUoFUCPwvUoXI8SQA==",
          "dtype": "f8"
         },
         "textposition": "outside",
         "type": "bar",
         "visible": true,
         "x": {
          "bdata": "2JmK5ZrcEUDIkPhydaQSQBLdd0y+FxNAP8IYzOgsFUBNlFxiJZESQA==",
          "dtype": "f8"
         },
         "y": [
          "IT",
          "Management Support",
          "Planning",
          "Production & Engineering",
          "Sales & Marketing"
         ]
        },
        {
         "customdata": {
          "bdata": "AAAAAACATUAAAAAAAAA8QAAAAAAAAElAAAAAAAAAUkAAAAAAAABTQA==",
          "dtype": "f8"
         },
         "hovertemplate": "평균 재직기간: %{x:.2f}년<br>인원: %{customdata}명<extra></extra>",
         "name": "재직자",
         "orientation": "h",
         "text": {
          "bdata": "7FG4HoXrGUBcj8L1KFwYQNejcD0K1xhAFK5H4XoUG0CF61G4HoUYQA==",
          "dtype": "f8"
         },
         "textposition": "outside",
         "type": "bar",
         "visible": false,
         "x": {
          "bdata": "5LpJKqfnGUA+hG9DHl0YQEU72BEG1hhAyP0ZXXoPG0CTJUroJIIYQA==",
          "dtype": "f8"
         },
         "y": [
          "IT",
          "Management Support",
          "Planning",
          "Production & Engineering",
          "Sales & Marketing"
         ]
        },
        {
         "customdata": {
          "bdata": "AAAAAADAU0AAAAAAAAA/QAAAAAAAAFdAAAAAAACAVUAAAAAAAIBaQA==",
          "dtype": "f8"
         },
         "hovertemplate": "평균 재직기간: %{x:.2f}년<br>인원: %{customdata}명<extra></extra>",
         "name": "퇴사자",
         "orientation": "h",
         "text": {
          "bdata": "UrgehetRE0C4HoXrUbgSQOxRuB6F6xNAmpmZmZmZF0DsUbgehesSQA==",
          "dtype": "f8"
         },
         "textposition": "outside",
         "type": "bar",
         "visible": false,
         "x": {
          "bdata": "Oyc4wQJSE0DRvfaxSbYSQGhdSfbo7xNAh591adiUF0CK36kat+gSQA==",
          "dtype": "f8"
         },
         "y": [
          "IT",
          "Management Support",
          "Planning",
          "Production & Engineering",
          "Sales & Marketing"
         ]
        },
        {
         "customdata": {
          "bdata": "AAAAAAAASkAAAAAAAAAxQAAAAAAAAEJAAAAAAACAQkAAAAAAAABFQA==",
          "dtype": "f8"
         },
         "hovertemplate": "평균 재직기간: %{x:.2f}년<br>인원: %{customdata}명<extra></extra>",
         "name": "재직자",
         "orientation": "h",
         "text": {
          "bdata": "ZmZmZmZmEUD2KFyPwvUKQHsUrkfhegpAexSuR+F6EECamZmZmZkRQA==",
          "dtype": "f8"
         },
         "textposition": "outside",
         "type": "bar",
         "visible": false,
         "x": {
          "bdata": "yoA9vahpEUByJ2luCPYKQPPoH23XcwpA7naPmst3EEAfrtwwIJ4RQA==",
          "dtype": "f8"
         },
         "y": [
          "IT",
          "Management Support",
          "Planning",
          "Production & Engineering",
          "Sales & Marketing"
         ]
        },
        {
         "customdata": {
          "bdata": "AAAAAAAANkAAAAAAAAAmQAAAAAAAAD5AAAAAAAAAPUAAAAAAAAA9QA==",
          "dtype": "f8"
         },
         "hovertemplate": "평균 재직기간: %{x:.2f}년<br>인원: %{customdata}명<extra></extra>",
         "name": "퇴사자",
         "orientation": "h",
         "text": {
          "bdata": "j8L1KFyPCkBxPQrXo3ASQKRwPQrXoxBA7FG4HoXrDUDNzMzMzMwRQA==",
          "dtype": "f8"
         },
         "textposition": "outside",
         "type": "bar",
         "visible": false,
         "x": {
          "bdata": "9MXjswWWCkD3buaSNnISQLOY0C3qoxBAb6Qx6GPpDUDL8+Mhl8sRQA==",
          "dtype": "f8"
         },
         "y": [
          "IT",
          "Management Support",
          "Planning",
          "Production & Engineering",
          "Sales & Marketing"
         ]
        },
        {
         "customdata": {
          "bdata": "AAAAAAAAAEAAAAAAAAAAQAAAAAAAAABAAAAAAAAAEEAAAAAAAADwPw==",
          "dtype": "f8"
         },
         "hovertemplate": "평균 재직기간: %{x:.2f}년<br>인원: %{customdata}명<extra></extra>",
         "name": "재직자",
         "orientation": "h",
         "text": {
          "bdata": "9ihcj8L1E0Bcj8L1KFwQQArXo3A9CglAXI/C9ShcA0AzMzMzMzP/Pw==",
          "dtype": "f8"
         },
         "textposition": "outside",
         "type": "bar",
         "visible": false,
         "x": {
          "bdata": "Wu9CuhX0E0B+mcTmT1gQQDduP/4hBglAygw7U7FcA0AfORI4wDv/Pw==",
          "dtype": "f8"
         },
         "y": [
          "IT",
          "Management Support",
          "Planning",
          "Production & Engineering",
          "Sales & Marketing"
         ]
        },
        {
         "customdata": {
          "bdata": "AAAAAAAA8D8AAAAAAAAAAAAAAAAAAPA/AAAAAAAAAEAAAAAAAADwPw==",
          "dtype": "f8"
         },
         "hovertemplate": "평균 재직기간: %{x:.2f}년<br>인원: %{customdata}명<extra></extra>",
         "name": "퇴사자",
         "orientation": "h",
         "text": {
          "bdata": "SOF6FK5H6T8AAAAAAAAAAAAAAAAAAA5ArkfhehSu/z+4HoXrUbjyPw==",
          "dtype": "f8"
         },
         "textposition": "outside",
         "type": "bar",
         "visible": false,
         "x": {
          "bdata": "Lnvd0Pgk6T8AAAAAAAAAANeBj7mJ9g1ASr76ZRKb/z+wbRaAsb/yPw==",
          "dtype": "f8"
         },
         "y": [
          "IT",
          "Management Support",
          "Planning",
          "Production & Engineering",
          "Sales & Marketing"
         ]
        }
       ],
       "layout": {
        "annotations": [
         {
          "align": "left",
          "showarrow": false,
          "text": "입사 시점 직위 선택:",
          "x": 0,
          "y": 1.08,
          "yref": "paper"
         }
        ],
        "barmode": "group",
        "font": {
         "size": 14
        },
        "height": 700,
        "legend": {
         "title": {
          "text": "상태"
         }
        },
        "template": {
         "data": {
          "bar": [
           {
            "error_x": {
             "color": "#2a3f5f"
            },
            "error_y": {
             "color": "#2a3f5f"
            },
            "marker": {
             "line": {
              "color": "#E5ECF6",
              "width": 0.5
             },
             "pattern": {
              "fillmode": "overlay",
              "size": 10,
              "solidity": 0.2
             }
            },
            "type": "bar"
           }
          ],
          "barpolar": [
           {
            "marker": {
             "line": {
              "color": "#E5ECF6",
              "width": 0.5
             },
             "pattern": {
              "fillmode": "overlay",
              "size": 10,
              "solidity": 0.2
             }
            },
            "type": "barpolar"
           }
          ],
          "carpet": [
           {
            "aaxis": {
             "endlinecolor": "#2a3f5f",
             "gridcolor": "white",
             "linecolor": "white",
             "minorgridcolor": "white",
             "startlinecolor": "#2a3f5f"
            },
            "baxis": {
             "endlinecolor": "#2a3f5f",
             "gridcolor": "white",
             "linecolor": "white",
             "minorgridcolor": "white",
             "startlinecolor": "#2a3f5f"
            },
            "type": "carpet"
           }
          ],
          "choropleth": [
           {
            "colorbar": {
             "outlinewidth": 0,
             "ticks": ""
            },
            "type": "choropleth"
           }
          ],
          "contour": [
           {
            "colorbar": {
             "outlinewidth": 0,
             "ticks": ""
            },
            "colorscale": [
             [
              0,
              "#0d0887"
             ],
             [
              0.1111111111111111,
              "#46039f"
             ],
             [
              0.2222222222222222,
              "#7201a8"
             ],
             [
              0.3333333333333333,
              "#9c179e"
             ],
             [
              0.4444444444444444,
              "#bd3786"
             ],
             [
              0.5555555555555556,
              "#d8576b"
             ],
             [
              0.6666666666666666,
              "#ed7953"
             ],
             [
              0.7777777777777778,
              "#fb9f3a"
             ],
             [
              0.8888888888888888,
              "#fdca26"
             ],
             [
              1,
              "#f0f921"
             ]
            ],
            "type": "contour"
           }
          ],
          "contourcarpet": [
           {
            "colorbar": {
             "outlinewidth": 0,
             "ticks": ""
            },
            "type": "contourcarpet"
           }
          ],
          "heatmap": [
           {
            "colorbar": {
             "outlinewidth": 0,
             "ticks": ""
            },
            "colorscale": [
             [
              0,
              "#0d0887"
             ],
             [
              0.1111111111111111,
              "#46039f"
             ],
             [
              0.2222222222222222,
              "#7201a8"
             ],
             [
              0.3333333333333333,
              "#9c179e"
             ],
             [
              0.4444444444444444,
              "#bd3786"
             ],
             [
              0.5555555555555556,
              "#d8576b"
             ],
             [
              0.6666666666666666,
              "#ed7953"
             ],
             [
              0.7777777777777778,
              "#fb9f3a"
             ],
             [
              0.8888888888888888,
              "#fdca26"
             ],
             [
              1,
              "#f0f921"
             ]
            ],
            "type": "heatmap"
           }
          ],
          "histogram": [
           {
            "marker": {
             "pattern": {
              "fillmode": "overlay",
              "size": 10,
              "solidity": 0.2
             }
            },
            "type": "histogram"
           }
          ],
          "histogram2d": [
           {
            "colorbar": {
             "outlinewidth": 0,
             "ticks": ""
            },
            "colorscale": [
             [
              0,
              "#0d0887"
             ],
             [
              0.1111111111111111,
              "#46039f"
             ],
             [
              0.2222222222222222,
              "#7201a8"
             ],
             [
              0.3333333333333333,
              "#9c179e"
             ],
             [
              0.4444444444444444,
              "#bd3786"
             ],
             [
              0.5555555555555556,
              "#d8576b"
             ],
             [
              0.6666666666666666,
              "#ed7953"
             ],
             [
              0.7777777777777778,
              "#fb9f3a"
             ],
             [
              0.8888888888888888,
              "#fdca26"
             ],
             [
              1,
              "#f0f921"
             ]
            ],
            "type": "histogram2d"
           }
          ],
          "histogram2dcontour": [
           {
            "colorbar": {
             "outlinewidth": 0,
             "ticks": ""
            },
            "colorscale": [
             [
              0,
              "#0d0887"
             ],
             [
              0.1111111111111111,
              "#46039f"
             ],
             [
              0.2222222222222222,
              "#7201a8"
             ],
             [
              0.3333333333333333,
              "#9c179e"
             ],
             [
              0.4444444444444444,
              "#bd3786"
             ],
             [
              0.5555555555555556,
              "#d8576b"
             ],
             [
              0.6666666666666666,
              "#ed7953"
             ],
             [
              0.7777777777777778,
              "#fb9f3a"
             ],
             [
              0.8888888888888888,
              "#fdca26"
             ],
             [
              1,
              "#f0f921"
             ]
            ],
            "type": "histogram2dcontour"
           }
          ],
          "mesh3d": [
           {
            "colorbar": {
             "outlinewidth": 0,
             "ticks": ""
            },
            "type": "mesh3d"
           }
          ],
          "parcoords": [
           {
            "line": {
             "colorbar": {
              "outlinewidth": 0,
              "ticks": ""
             }
            },
            "type": "parcoords"
           }
          ],
          "pie": [
           {
            "automargin": true,
            "type": "pie"
           }
          ],
          "scatter": [
           {
            "fillpattern": {
             "fillmode": "overlay",
             "size": 10,
             "solidity": 0.2
            },
            "type": "scatter"
           }
          ],
          "scatter3d": [
           {
            "line": {
             "colorbar": {
              "outlinewidth": 0,
              "ticks": ""
             }
            },
            "marker": {
             "colorbar": {
              "outlinewidth": 0,
              "ticks": ""
             }
            },
            "type": "scatter3d"
           }
          ],
          "scattercarpet": [
           {
            "marker": {
             "colorbar": {
              "outlinewidth": 0,
              "ticks": ""
             }
            },
            "type": "scattercarpet"
           }
          ],
          "scattergeo": [
           {
            "marker": {
             "colorbar": {
              "outlinewidth": 0,
              "ticks": ""
             }
            },
            "type": "scattergeo"
           }
          ],
          "scattergl": [
           {
            "marker": {
             "colorbar": {
              "outlinewidth": 0,
              "ticks": ""
             }
            },
            "type": "scattergl"
           }
          ],
          "scattermap": [
           {
            "marker": {
             "colorbar": {
              "outlinewidth": 0,
              "ticks": ""
             }
            },
            "type": "scattermap"
           }
          ],
          "scattermapbox": [
           {
            "marker": {
             "colorbar": {
              "outlinewidth": 0,
              "ticks": ""
             }
            },
            "type": "scattermapbox"
           }
          ],
          "scatterpolar": [
           {
            "marker": {
             "colorbar": {
              "outlinewidth": 0,
              "ticks": ""
             }
            },
            "type": "scatterpolar"
           }
          ],
          "scatterpolargl": [
           {
            "marker": {
             "colorbar": {
              "outlinewidth": 0,
              "ticks": ""
             }
            },
            "type": "scatterpolargl"
           }
          ],
          "scatterternary": [
           {
            "marker": {
             "colorbar": {
              "outlinewidth": 0,
              "ticks": ""
             }
            },
            "type": "scatterternary"
           }
          ],
          "surface": [
           {
            "colorbar": {
             "outlinewidth": 0,
             "ticks": ""
            },
            "colorscale": [
             [
              0,
              "#0d0887"
             ],
             [
              0.1111111111111111,
              "#46039f"
             ],
             [
              0.2222222222222222,
              "#7201a8"
             ],
             [
              0.3333333333333333,
              "#9c179e"
             ],
             [
              0.4444444444444444,
              "#bd3786"
             ],
             [
              0.5555555555555556,
              "#d8576b"
             ],
             [
              0.6666666666666666,
              "#ed7953"
             ],
             [
              0.7777777777777778,
              "#fb9f3a"
             ],
             [
              0.8888888888888888,
              "#fdca26"
             ],
             [
              1,
              "#f0f921"
             ]
            ],
            "type": "surface"
           }
          ],
          "table": [
           {
            "cells": {
             "fill": {
              "color": "#EBF0F8"
             },
             "line": {
              "color": "white"
             }
            },
            "header": {
             "fill": {
              "color": "#C8D4E3"
             },
             "line": {
              "color": "white"
             }
            },
            "type": "table"
           }
          ]
         },
         "layout": {
          "annotationdefaults": {
           "arrowcolor": "#2a3f5f",
           "arrowhead": 0,
           "arrowwidth": 1
          },
          "autotypenumbers": "strict",
          "coloraxis": {
           "colorbar": {
            "outlinewidth": 0,
            "ticks": ""
           }
          },
          "colorscale": {
           "diverging": [
            [
             0,
             "#8e0152"
            ],
            [
             0.1,
             "#c51b7d"
            ],
            [
             0.2,
             "#de77ae"
            ],
            [
             0.3,
             "#f1b6da"
            ],
            [
             0.4,
             "#fde0ef"
            ],
            [
             0.5,
             "#f7f7f7"
            ],
            [
             0.6,
             "#e6f5d0"
            ],
            [
             0.7,
             "#b8e186"
            ],
            [
             0.8,
             "#7fbc41"
            ],
            [
             0.9,
             "#4d9221"
            ],
            [
             1,
             "#276419"
            ]
           ],
           "sequential": [
            [
             0,
             "#0d0887"
            ],
            [
             0.1111111111111111,
             "#46039f"
            ],
            [
             0.2222222222222222,
             "#7201a8"
            ],
            [
             0.3333333333333333,
             "#9c179e"
            ],
            [
             0.4444444444444444,
             "#bd3786"
            ],
            [
             0.5555555555555556,
             "#d8576b"
            ],
            [
             0.6666666666666666,
             "#ed7953"
            ],
            [
             0.7777777777777778,
             "#fb9f3a"
            ],
            [
             0.8888888888888888,
             "#fdca26"
            ],
            [
             1,
             "#f0f921"
            ]
           ],
           "sequentialminus": [
            [
             0,
             "#0d0887"
            ],
            [
             0.1111111111111111,
             "#46039f"
            ],
            [
             0.2222222222222222,
             "#7201a8"
            ],
            [
             0.3333333333333333,
             "#9c179e"
            ],
            [
             0.4444444444444444,
             "#bd3786"
            ],
            [
             0.5555555555555556,
             "#d8576b"
            ],
            [
             0.6666666666666666,
             "#ed7953"
            ],
            [
             0.7777777777777778,
             "#fb9f3a"
            ],
            [
             0.8888888888888888,
             "#fdca26"
            ],
            [
             1,
             "#f0f921"
            ]
           ]
          },
          "colorway": [
           "#636efa",
           "#EF553B",
           "#00cc96",
           "#ab63fa",
           "#FFA15A",
           "#19d3f3",
           "#FF6692",
           "#B6E880",
           "#FF97FF",
           "#FECB52"
          ],
          "font": {
           "color": "#2a3f5f"
          },
          "geo": {
           "bgcolor": "white",
           "lakecolor": "white",
           "landcolor": "#E5ECF6",
           "showlakes": true,
           "showland": true,
           "subunitcolor": "white"
          },
          "hoverlabel": {
           "align": "left"
          },
          "hovermode": "closest",
          "mapbox": {
           "style": "light"
          },
          "paper_bgcolor": "white",
          "plot_bgcolor": "#E5ECF6",
          "polar": {
           "angularaxis": {
            "gridcolor": "white",
            "linecolor": "white",
            "ticks": ""
           },
           "bgcolor": "#E5ECF6",
           "radialaxis": {
            "gridcolor": "white",
            "linecolor": "white",
            "ticks": ""
           }
          },
          "scene": {
           "xaxis": {
            "backgroundcolor": "#E5ECF6",
            "gridcolor": "white",
            "gridwidth": 2,
            "linecolor": "white",
            "showbackground": true,
            "ticks": "",
            "zerolinecolor": "white"
           },
           "yaxis": {
            "backgroundcolor": "#E5ECF6",
            "gridcolor": "white",
            "gridwidth": 2,
            "linecolor": "white",
            "showbackground": true,
            "ticks": "",
            "zerolinecolor": "white"
           },
           "zaxis": {
            "backgroundcolor": "#E5ECF6",
            "gridcolor": "white",
            "gridwidth": 2,
            "linecolor": "white",
            "showbackground": true,
            "ticks": "",
            "zerolinecolor": "white"
           }
          },
          "shapedefaults": {
           "line": {
            "color": "#2a3f5f"
           }
          },
          "ternary": {
           "aaxis": {
            "gridcolor": "white",
            "linecolor": "white",
            "ticks": ""
           },
           "baxis": {
            "gridcolor": "white",
            "linecolor": "white",
            "ticks": ""
           },
           "bgcolor": "#E5ECF6",
           "caxis": {
            "gridcolor": "white",
            "linecolor": "white",
            "ticks": ""
           }
          },
          "title": {
           "x": 0.05
          },
          "xaxis": {
           "automargin": true,
           "gridcolor": "white",
           "linecolor": "white",
           "ticks": "",
           "title": {
            "standoff": 15
           },
           "zerolinecolor": "white",
           "zerolinewidth": 2
          },
          "yaxis": {
           "automargin": true,
           "gridcolor": "white",
           "linecolor": "white",
           "ticks": "",
           "title": {
            "standoff": 15
           },
           "zerolinecolor": "white",
           "zerolinewidth": 2
          }
         }
        },
        "title": {
         "text": "직무별 평균 재직기간 비교 (재직자 vs 퇴사자)"
        },
        "updatemenus": [
         {
          "active": 0,
          "buttons": [
           {
            "args": [
             {
              "visible": [
               true,
               true,
               false,
               false,
               false,
               false,
               false,
               false
              ]
             }
            ],
            "label": "전체",
            "method": "update"
           },
           {
            "args": [
             {
              "visible": [
               false,
               false,
               true,
               true,
               false,
               false,
               false,
               false
              ]
             }
            ],
            "label": "Staff",
            "method": "update"
           },
           {
            "args": [
             {
              "visible": [
               false,
               false,
               false,
               false,
               true,
               true,
               false,
               false
              ]
             }
            ],
            "label": "Manager",
            "method": "update"
           },
           {
            "args": [
             {
              "visible": [
               false,
               false,
               false,
               false,
               false,
               false,
               true,
               true
              ]
             }
            ],
            "label": "Director",
            "method": "update"
           }
          ],
          "direction": "down",
          "pad": {
           "r": 10,
           "t": 10
          },
          "showactive": true,
          "x": 0.01,
          "xanchor": "left",
          "y": 1.1,
          "yanchor": "top"
         }
        ],
        "xaxis": {
         "range": [
          0,
          7.779882500570385
         ],
         "title": {
          "text": "평균 재직 기간 (년)"
         }
        },
        "yaxis": {
         "categoryarray": [
          "Management Support",
          "Planning",
          "IT",
          "Production & Engineering",
          "Sales & Marketing"
         ],
         "categoryorder": "array",
         "title": {
          "text": "마지막 직무 대분류"
         }
        }
       }
      }
     },
     "metadata": {},
     "output_type": "display_data"
    }
   ],
   "source": [
    "import pandas as pd\n",
    "import numpy as np\n",
    "import plotly.graph_objects as go\n",
    "import plotly.io as pio\n",
    "import plotly.express as px\n",
    "\n",
    "# --- 1. 데이터 임포트 ---\n",
    "from services.tables.HR_Core.basic_info_table import emp_df\n",
    "from services.tables.HR_Core.job_info_table import job_info_df\n",
    "from services.tables.HR_Core.department_info_table import department_info_df\n",
    "from services.tables.HR_Core.job_table import job_df, job_df_indexed, parent_map_job\n",
    "from services.tables.HR_Core.department_table import division_order, dept_level_map, parent_map_dept, dept_name_map\n",
    "from services.tables.HR_Core.position_info_table import position_info_df\n",
    "from services.tables.HR_Core.position_table import position_df, position_order\n",
    "from services.helpers.utils import get_level1_ancestor, find_division_name_for_dept\n",
    "\n",
    "def create_figure():\n",
    "    \"\"\"\n",
    "    제안 8-3: 직무별 인력 유지 현황 분석 (입사 시점 직위별 필터) 그래프를 생성합니다.\n",
    "    \"\"\"\n",
    "    # --- 2. 데이터 준비 및 가공 ---\n",
    "    emp_base_df = emp_df[['EMP_ID', 'CURRENT_EMP_YN', 'DURATION']].copy()\n",
    "    emp_base_df['TENURE_YEARS'] = emp_base_df['DURATION'] / 365.25\n",
    "\n",
    "    last_job = job_info_df.sort_values('JOB_APP_START_DATE').groupby('EMP_ID').last()\n",
    "    job_l1_map = job_df[job_df['JOB_LEVEL'] == 1].set_index('JOB_ID')['JOB_NAME'].to_dict()\n",
    "    last_job['JOB_CATEGORY'] = last_job['JOB_ID'].apply(lambda x: job_l1_map.get(get_level1_ancestor(x, job_df_indexed, parent_map_job)))\n",
    "    \n",
    "    first_pos = position_info_df.sort_values('GRADE_START_DATE').groupby('EMP_ID').first().reset_index()\n",
    "    first_pos = pd.merge(first_pos, position_df[['POSITION_ID', 'POSITION_NAME']].drop_duplicates(), on='POSITION_ID')\n",
    "\n",
    "    analysis_df = pd.merge(emp_base_df, last_job[['JOB_CATEGORY']], on='EMP_ID', how='left')\n",
    "    analysis_df = pd.merge(analysis_df, first_pos[['EMP_ID', 'POSITION_NAME']], on='EMP_ID', how='left')\n",
    "    analysis_df['STATUS'] = np.where(analysis_df['CURRENT_EMP_YN'] == 'Y', '재직자', '퇴사자')\n",
    "\n",
    "    # --- 수정된 부분 1: Y축 순서 및 '전체' 뷰 계산을 위한 기준 데이터 생성 ---\n",
    "    # 1-1. '조직별' 코드를 기준으로 y축 순서 통일\n",
    "    temp_last_dept = department_info_df.sort_values('DEP_APP_START_DATE').groupby('EMP_ID').last()\n",
    "    temp_last_dept['DIVISION_NAME'] = temp_last_dept['DEP_ID'].apply(lambda x: find_division_name_for_dept(x, dept_level_map, parent_map_dept, dept_name_map))\n",
    "    temp_analysis_df = pd.merge(analysis_df, temp_last_dept[['DIVISION_NAME']], on='EMP_ID', how='left').dropna(subset=['DIVISION_NAME', 'JOB_CATEGORY'])\n",
    "    temp_summary_df = temp_analysis_df.groupby(['DIVISION_NAME', 'JOB_CATEGORY', 'STATUS'], observed=False).agg(AVG_TENURE=('TENURE_YEARS', 'mean')).unstack(level='STATUS').fillna(0)\n",
    "    temp_summary_df.columns = [f'{val}_{stat}' for val, stat in temp_summary_df.columns]\n",
    "    global_job_order = temp_summary_df.reset_index().groupby('JOB_CATEGORY')['AVG_TENURE_재직자'].mean().sort_values(ascending=True).index.tolist()\n",
    "\n",
    "    # 1-2. '전체' 뷰 계산을 위한 순수 데이터 (필터링 전)\n",
    "    overall_analysis_df = analysis_df.dropna(subset=['JOB_CATEGORY'])\n",
    "    overall_summary = overall_analysis_df.groupby(['JOB_CATEGORY', 'STATUS'], observed=False).agg(\n",
    "        AVG_TENURE=('TENURE_YEARS', 'mean'),\n",
    "        HEADCOUNT=('EMP_ID', 'nunique')\n",
    "    ).unstack(level='STATUS').fillna(0)\n",
    "    overall_summary.columns = [f'{val}_{stat}' for val, stat in overall_summary.columns]\n",
    "    overall_summary = overall_summary.reset_index()\n",
    "    # --- 수정 완료 ---\n",
    "\n",
    "    # 직위별 데이터 집계\n",
    "    analysis_df_pos = analysis_df.dropna(subset=['POSITION_NAME'])\n",
    "    summary_df = analysis_df_pos.groupby(['POSITION_NAME', 'JOB_CATEGORY', 'STATUS'], observed=False).agg(\n",
    "        AVG_TENURE=('TENURE_YEARS', 'mean'),\n",
    "        HEADCOUNT=('EMP_ID', 'nunique')\n",
    "    ).unstack(level='STATUS').fillna(0)\n",
    "    summary_df.columns = [f'{val}_{stat}' for val, stat in summary_df.columns]\n",
    "    summary_df = summary_df.reset_index()\n",
    "    \n",
    "    x_max = pd.concat([summary_df['AVG_TENURE_재직자'], summary_df['AVG_TENURE_퇴사자'], overall_summary['AVG_TENURE_재직자'], overall_summary['AVG_TENURE_퇴사자']]).max()\n",
    "    fixed_x_range = [0, x_max * 1.15]\n",
    "\n",
    "    # --- 3. Plotly 인터랙티브 그래프 생성 ---\n",
    "    fig = go.Figure()\n",
    "    position_filter_list = ['전체'] + [p for p in position_order if p != 'C-Level']\n",
    "\n",
    "    for i, pos_name in enumerate(position_filter_list):\n",
    "        is_visible = (i == 0)\n",
    "        if pos_name == '전체':\n",
    "            df_grouped = overall_summary\n",
    "        else:\n",
    "            df_grouped = summary_df[summary_df['POSITION_NAME'] == pos_name]\n",
    "\n",
    "        fig.add_trace(go.Bar(\n",
    "            y=df_grouped['JOB_CATEGORY'], x=df_grouped['AVG_TENURE_재직자'],\n",
    "            name='재직자', orientation='h', visible=is_visible,\n",
    "            customdata=df_grouped['HEADCOUNT_재직자'], text=df_grouped['AVG_TENURE_재직자'].round(2),\n",
    "            textposition='outside', hovertemplate='평균 재직기간: %{x:.2f}년<br>인원: %{customdata}명<extra></extra>'\n",
    "        ))\n",
    "        fig.add_trace(go.Bar(\n",
    "            y=df_grouped['JOB_CATEGORY'], x=df_grouped['AVG_TENURE_퇴사자'],\n",
    "            name='퇴사자', orientation='h', visible=is_visible,\n",
    "            customdata=df_grouped['HEADCOUNT_퇴사자'], text=df_grouped['AVG_TENURE_퇴사자'].round(2),\n",
    "            textposition='outside', hovertemplate='평균 재직기간: %{x:.2f}년<br>인원: %{customdata}명<extra></extra>'\n",
    "        ))\n",
    "\n",
    "    # --- 4. 드롭다운 메뉴 및 레이아웃 업데이트 ---\n",
    "    buttons = []\n",
    "    for i, pos_name in enumerate(position_filter_list):\n",
    "        visibility_mask = [False] * (len(position_filter_list) * 2)\n",
    "        visibility_mask[i*2], visibility_mask[i*2 + 1] = True, True\n",
    "        buttons.append(dict(label=pos_name, method='update', args=[{'visible': visibility_mask}]))\n",
    "\n",
    "    fig.update_layout(\n",
    "        updatemenus=[dict(\n",
    "            active=0, buttons=buttons, direction=\"down\",\n",
    "            pad={\"r\": 10, \"t\": 10}, showactive=True,\n",
    "            x=0.01, xanchor=\"left\", y=1.1, yanchor=\"top\"\n",
    "        )],\n",
    "        title_text='직무별 평균 재직기간 비교 (재직자 vs 퇴사자)',\n",
    "        xaxis_title='평균 재직 기간 (년)',\n",
    "        font_size=14, height=700,\n",
    "        barmode='group',\n",
    "        legend_title_text='상태',\n",
    "        annotations=[dict(text=\"입사 시점 직위 선택:\", showarrow=False, x=0, y=1.08, yref=\"paper\", align=\"left\")],\n",
    "        xaxis_range=fixed_x_range,\n",
    "        yaxis=dict(\n",
    "            title='마지막 직무 대분류',\n",
    "            categoryorder='array',\n",
    "            categoryarray=global_job_order\n",
    "        )\n",
    "    )\n",
    "    \n",
    "    return fig\n",
    "\n",
    "# 이 파일을 직접 실행할 경우 그래프를 생성하여 보여줍니다.\n",
    "pio.renderers.default = 'vscode'\n",
    "fig = create_figure()\n",
    "fig.show()"
   ]
  },
  {
   "cell_type": "code",
   "execution_count": 1,
   "id": "16056e31",
   "metadata": {},
   "outputs": [
    {
     "data": {
      "application/vnd.plotly.v1+json": {
       "config": {
        "plotlyServerURL": "https://plot.ly"
       },
       "data": [
        {
         "customdata": {
          "bdata": "aSdtaHs=",
          "dtype": "i1"
         },
         "hovertemplate": "평균 재직기간: %{x:.2f}년<br>인원: %{customdata}명<extra></extra>",
         "name": "재직자",
         "orientation": "h",
         "text": {
          "bdata": "pHA9CtejFUDNzMzMzMwVQI/C9ShcjxZAKVyPwvUoFUAAAAAAAAAVQA==",
          "dtype": "f8"
         },
         "textposition": "outside",
         "type": "bar",
         "visible": true,
         "x": {
          "bdata": "M9CeVTmnFUBxVc3ezswVQJPE58GykRZA8fGCnXonFUCC2ZqDbgEVQA==",
          "dtype": "f8"
         },
         "y": [
          "IT",
          "Management Support",
          "Planning",
          "Production & Engineering",
          "Sales & Marketing"
         ]
        },
        {
         "customdata": {
          "bdata": "aQAqAIEAZwCNAA==",
          "dtype": "i2"
         },
         "hovertemplate": "평균 재직기간: %{x:.2f}년<br>인원: %{customdata}명<extra></extra>",
         "name": "퇴사자",
         "orientation": "h",
         "text": {
          "bdata": "uB6F61G4EkAUrkfhehQUQD0K16NwPRRAcT0K16NwEkCuR+F6FK4SQA==",
          "dtype": "f8"
         },
         "textposition": "outside",
         "type": "bar",
         "visible": true,
         "x": {
          "bdata": "DheoUum4EkByoeOHMhgUQHQOsCrpQRRAag183RpwEkB9sPzn6q0SQA==",
          "dtype": "f8"
         },
         "y": [
          "IT",
          "Management Support",
          "Planning",
          "Production & Engineering",
          "Sales & Marketing"
         ]
        },
        {
         "customdata": {
          "bdata": "AAAAAAAAS0AAAAAAAAA4QAAAAAAAgE9AAAAAAAAATUAAAAAAAMBUQA==",
          "dtype": "f8"
         },
         "hovertemplate": "평균 재직기간: %{x:.2f}년<br>인원: %{customdata}명<extra></extra>",
         "name": "재직자",
         "orientation": "h",
         "text": {
          "bdata": "PQrXo3A9GkDhehSuR+EWQDMzMzMzMxtA7FG4HoXrGUAzMzMzMzMXQA==",
          "dtype": "f8"
         },
         "textposition": "outside",
         "type": "bar",
         "visible": false,
         "x": {
          "bdata": "zIYru8E8GkDDzlQs1+QWQLsiy5yeNBtAb7ytrhLsGUAIsDikzTEXQA==",
          "dtype": "f8"
         },
         "y": [
          "IT",
          "Management Support",
          "Planning",
          "Production & Engineering",
          "Sales & Marketing"
         ]
        },
        {
         "customdata": {
          "bdata": "AAAAAAAAVkAAAAAAAABAQAAAAAAAQFZAAAAAAABAVEAAAAAAAEBbQA==",
          "dtype": "f8"
         },
         "hovertemplate": "평균 재직기간: %{x:.2f}년<br>인원: %{customdata}명<extra></extra>",
         "name": "퇴사자",
         "orientation": "h",
         "text": {
          "bdata": "zczMzMzME0AzMzMzMzMUQIXrUbgehRVAzczMzMzME0CamZmZmZkTQA==",
          "dtype": "f8"
         },
         "textposition": "outside",
         "type": "bar",
         "visible": false,
         "x": {
          "bdata": "+kVx/8THE0ASOMA73y4UQLStZxfQhRVAI+Yjyc/PE0B//cQjxZYTQA==",
          "dtype": "f8"
         },
         "y": [
          "IT",
          "Management Support",
          "Planning",
          "Production & Engineering",
          "Sales & Marketing"
         ]
        },
        {
         "customdata": {
          "bdata": "AAAAAACAR0AAAAAAAAAsQAAAAAAAgEZAAAAAAACARUAAAAAAAABDQA==",
          "dtype": "f8"
         },
         "hovertemplate": "평균 재직기간: %{x:.2f}년<br>인원: %{customdata}명<extra></extra>",
         "name": "재직자",
         "orientation": "h",
         "text": {
          "bdata": "4XoUrkfhEEAK16NwPQoUQBSuR+F6FBBArkfhehSuD0DD9Shcj8IQQA==",
          "dtype": "f8"
         },
         "textposition": "outside",
         "type": "bar",
         "visible": false,
         "x": {
          "bdata": "AbKaHt3jEEDD9goOtQUUQB9RbxSAExBArXu+AYymD0DUkqFw5b8QQA==",
          "dtype": "f8"
         },
         "y": [
          "IT",
          "Management Support",
          "Planning",
          "Production & Engineering",
          "Sales & Marketing"
         ]
        },
        {
         "customdata": {
          "bdata": "AAAAAAAAMEAAAAAAAAAkQAAAAAAAgENAAAAAAAAANEAAAAAAAAA/QA==",
          "dtype": "f8"
         },
         "hovertemplate": "평균 재직기간: %{x:.2f}년<br>인원: %{customdata}명<extra></extra>",
         "name": "퇴사자",
         "orientation": "h",
         "text": {
          "bdata": "7FG4HoXrC0DNzMzMzMwTQIXrUbgehRFAmpmZmZmZC0DXo3A9CtcPQA==",
          "dtype": "f8"
         },
         "textposition": "outside",
         "type": "bar",
         "visible": false,
         "x": {
          "bdata": "morlmtzhC0DZJYh7o88TQLUkUjfdiRFAzjbE2WqfC0ApsEbyc90PQA==",
          "dtype": "f8"
         },
         "y": [
          "IT",
          "Management Support",
          "Planning",
          "Production & Engineering",
          "Sales & Marketing"
         ]
        },
        {
         "customdata": {
          "bdata": "AAAAAAAAEEAAAAAAAADwPwAAAAAAAPA/AAAAAAAACEAAAAAAAAAAQA==",
          "dtype": "f8"
         },
         "hovertemplate": "평균 재직기간: %{x:.2f}년<br>인원: %{customdata}명<extra></extra>",
         "name": "재직자",
         "orientation": "h",
         "text": {
          "bdata": "cT0K16NwD0BxPQrXo3AUQKRwPQrXoxZAcT0K16Nw9T8UrkfhehQGQA==",
          "dtype": "f8"
         },
         "textposition": "outside",
         "type": "bar",
         "visible": false,
         "x": {
          "bdata": "7CNHAgd4D0A4I7sEcW8UQPfjH2KQqBZAfUfIBcNr9T8iowlFXg4GQA==",
          "dtype": "f8"
         },
         "y": [
          "IT",
          "Management Support",
          "Planning",
          "Production & Engineering",
          "Sales & Marketing"
         ]
        },
        {
         "customdata": {
          "bdata": "AAAAAAAA8D8AAAAAAAAAAAAAAAAAAPA/AAAAAAAAAEAAAAAAAADwPw==",
          "dtype": "f8"
         },
         "hovertemplate": "평균 재직기간: %{x:.2f}년<br>인원: %{customdata}명<extra></extra>",
         "name": "퇴사자",
         "orientation": "h",
         "text": {
          "bdata": "9ihcj8L14D8AAAAAAAAAAFyPwvUoXAtAKVyPwvUoAkC4HoXrUbjyPw==",
          "dtype": "f8"
         },
         "textposition": "outside",
         "type": "bar",
         "visible": false,
         "x": {
          "bdata": "YpCoBrLo4D8AAAAAAAAAADKaUOTlYAtAUXDj9uMfAkCwbRaAsb/yPw==",
          "dtype": "f8"
         },
         "y": [
          "IT",
          "Management Support",
          "Planning",
          "Production & Engineering",
          "Sales & Marketing"
         ]
        }
       ],
       "layout": {
        "annotations": [
         {
          "align": "left",
          "showarrow": false,
          "text": "입사 시점 직위 선택:",
          "x": 0,
          "y": 1.08,
          "yref": "paper"
         }
        ],
        "barmode": "group",
        "font": {
         "size": 14
        },
        "height": 700,
        "legend": {
         "title": {
          "text": "상태"
         }
        },
        "template": {
         "data": {
          "bar": [
           {
            "error_x": {
             "color": "#2a3f5f"
            },
            "error_y": {
             "color": "#2a3f5f"
            },
            "marker": {
             "line": {
              "color": "#E5ECF6",
              "width": 0.5
             },
             "pattern": {
              "fillmode": "overlay",
              "size": 10,
              "solidity": 0.2
             }
            },
            "type": "bar"
           }
          ],
          "barpolar": [
           {
            "marker": {
             "line": {
              "color": "#E5ECF6",
              "width": 0.5
             },
             "pattern": {
              "fillmode": "overlay",
              "size": 10,
              "solidity": 0.2
             }
            },
            "type": "barpolar"
           }
          ],
          "carpet": [
           {
            "aaxis": {
             "endlinecolor": "#2a3f5f",
             "gridcolor": "white",
             "linecolor": "white",
             "minorgridcolor": "white",
             "startlinecolor": "#2a3f5f"
            },
            "baxis": {
             "endlinecolor": "#2a3f5f",
             "gridcolor": "white",
             "linecolor": "white",
             "minorgridcolor": "white",
             "startlinecolor": "#2a3f5f"
            },
            "type": "carpet"
           }
          ],
          "choropleth": [
           {
            "colorbar": {
             "outlinewidth": 0,
             "ticks": ""
            },
            "type": "choropleth"
           }
          ],
          "contour": [
           {
            "colorbar": {
             "outlinewidth": 0,
             "ticks": ""
            },
            "colorscale": [
             [
              0,
              "#0d0887"
             ],
             [
              0.1111111111111111,
              "#46039f"
             ],
             [
              0.2222222222222222,
              "#7201a8"
             ],
             [
              0.3333333333333333,
              "#9c179e"
             ],
             [
              0.4444444444444444,
              "#bd3786"
             ],
             [
              0.5555555555555556,
              "#d8576b"
             ],
             [
              0.6666666666666666,
              "#ed7953"
             ],
             [
              0.7777777777777778,
              "#fb9f3a"
             ],
             [
              0.8888888888888888,
              "#fdca26"
             ],
             [
              1,
              "#f0f921"
             ]
            ],
            "type": "contour"
           }
          ],
          "contourcarpet": [
           {
            "colorbar": {
             "outlinewidth": 0,
             "ticks": ""
            },
            "type": "contourcarpet"
           }
          ],
          "heatmap": [
           {
            "colorbar": {
             "outlinewidth": 0,
             "ticks": ""
            },
            "colorscale": [
             [
              0,
              "#0d0887"
             ],
             [
              0.1111111111111111,
              "#46039f"
             ],
             [
              0.2222222222222222,
              "#7201a8"
             ],
             [
              0.3333333333333333,
              "#9c179e"
             ],
             [
              0.4444444444444444,
              "#bd3786"
             ],
             [
              0.5555555555555556,
              "#d8576b"
             ],
             [
              0.6666666666666666,
              "#ed7953"
             ],
             [
              0.7777777777777778,
              "#fb9f3a"
             ],
             [
              0.8888888888888888,
              "#fdca26"
             ],
             [
              1,
              "#f0f921"
             ]
            ],
            "type": "heatmap"
           }
          ],
          "histogram": [
           {
            "marker": {
             "pattern": {
              "fillmode": "overlay",
              "size": 10,
              "solidity": 0.2
             }
            },
            "type": "histogram"
           }
          ],
          "histogram2d": [
           {
            "colorbar": {
             "outlinewidth": 0,
             "ticks": ""
            },
            "colorscale": [
             [
              0,
              "#0d0887"
             ],
             [
              0.1111111111111111,
              "#46039f"
             ],
             [
              0.2222222222222222,
              "#7201a8"
             ],
             [
              0.3333333333333333,
              "#9c179e"
             ],
             [
              0.4444444444444444,
              "#bd3786"
             ],
             [
              0.5555555555555556,
              "#d8576b"
             ],
             [
              0.6666666666666666,
              "#ed7953"
             ],
             [
              0.7777777777777778,
              "#fb9f3a"
             ],
             [
              0.8888888888888888,
              "#fdca26"
             ],
             [
              1,
              "#f0f921"
             ]
            ],
            "type": "histogram2d"
           }
          ],
          "histogram2dcontour": [
           {
            "colorbar": {
             "outlinewidth": 0,
             "ticks": ""
            },
            "colorscale": [
             [
              0,
              "#0d0887"
             ],
             [
              0.1111111111111111,
              "#46039f"
             ],
             [
              0.2222222222222222,
              "#7201a8"
             ],
             [
              0.3333333333333333,
              "#9c179e"
             ],
             [
              0.4444444444444444,
              "#bd3786"
             ],
             [
              0.5555555555555556,
              "#d8576b"
             ],
             [
              0.6666666666666666,
              "#ed7953"
             ],
             [
              0.7777777777777778,
              "#fb9f3a"
             ],
             [
              0.8888888888888888,
              "#fdca26"
             ],
             [
              1,
              "#f0f921"
             ]
            ],
            "type": "histogram2dcontour"
           }
          ],
          "mesh3d": [
           {
            "colorbar": {
             "outlinewidth": 0,
             "ticks": ""
            },
            "type": "mesh3d"
           }
          ],
          "parcoords": [
           {
            "line": {
             "colorbar": {
              "outlinewidth": 0,
              "ticks": ""
             }
            },
            "type": "parcoords"
           }
          ],
          "pie": [
           {
            "automargin": true,
            "type": "pie"
           }
          ],
          "scatter": [
           {
            "fillpattern": {
             "fillmode": "overlay",
             "size": 10,
             "solidity": 0.2
            },
            "type": "scatter"
           }
          ],
          "scatter3d": [
           {
            "line": {
             "colorbar": {
              "outlinewidth": 0,
              "ticks": ""
             }
            },
            "marker": {
             "colorbar": {
              "outlinewidth": 0,
              "ticks": ""
             }
            },
            "type": "scatter3d"
           }
          ],
          "scattercarpet": [
           {
            "marker": {
             "colorbar": {
              "outlinewidth": 0,
              "ticks": ""
             }
            },
            "type": "scattercarpet"
           }
          ],
          "scattergeo": [
           {
            "marker": {
             "colorbar": {
              "outlinewidth": 0,
              "ticks": ""
             }
            },
            "type": "scattergeo"
           }
          ],
          "scattergl": [
           {
            "marker": {
             "colorbar": {
              "outlinewidth": 0,
              "ticks": ""
             }
            },
            "type": "scattergl"
           }
          ],
          "scattermap": [
           {
            "marker": {
             "colorbar": {
              "outlinewidth": 0,
              "ticks": ""
             }
            },
            "type": "scattermap"
           }
          ],
          "scattermapbox": [
           {
            "marker": {
             "colorbar": {
              "outlinewidth": 0,
              "ticks": ""
             }
            },
            "type": "scattermapbox"
           }
          ],
          "scatterpolar": [
           {
            "marker": {
             "colorbar": {
              "outlinewidth": 0,
              "ticks": ""
             }
            },
            "type": "scatterpolar"
           }
          ],
          "scatterpolargl": [
           {
            "marker": {
             "colorbar": {
              "outlinewidth": 0,
              "ticks": ""
             }
            },
            "type": "scatterpolargl"
           }
          ],
          "scatterternary": [
           {
            "marker": {
             "colorbar": {
              "outlinewidth": 0,
              "ticks": ""
             }
            },
            "type": "scatterternary"
           }
          ],
          "surface": [
           {
            "colorbar": {
             "outlinewidth": 0,
             "ticks": ""
            },
            "colorscale": [
             [
              0,
              "#0d0887"
             ],
             [
              0.1111111111111111,
              "#46039f"
             ],
             [
              0.2222222222222222,
              "#7201a8"
             ],
             [
              0.3333333333333333,
              "#9c179e"
             ],
             [
              0.4444444444444444,
              "#bd3786"
             ],
             [
              0.5555555555555556,
              "#d8576b"
             ],
             [
              0.6666666666666666,
              "#ed7953"
             ],
             [
              0.7777777777777778,
              "#fb9f3a"
             ],
             [
              0.8888888888888888,
              "#fdca26"
             ],
             [
              1,
              "#f0f921"
             ]
            ],
            "type": "surface"
           }
          ],
          "table": [
           {
            "cells": {
             "fill": {
              "color": "#EBF0F8"
             },
             "line": {
              "color": "white"
             }
            },
            "header": {
             "fill": {
              "color": "#C8D4E3"
             },
             "line": {
              "color": "white"
             }
            },
            "type": "table"
           }
          ]
         },
         "layout": {
          "annotationdefaults": {
           "arrowcolor": "#2a3f5f",
           "arrowhead": 0,
           "arrowwidth": 1
          },
          "autotypenumbers": "strict",
          "coloraxis": {
           "colorbar": {
            "outlinewidth": 0,
            "ticks": ""
           }
          },
          "colorscale": {
           "diverging": [
            [
             0,
             "#8e0152"
            ],
            [
             0.1,
             "#c51b7d"
            ],
            [
             0.2,
             "#de77ae"
            ],
            [
             0.3,
             "#f1b6da"
            ],
            [
             0.4,
             "#fde0ef"
            ],
            [
             0.5,
             "#f7f7f7"
            ],
            [
             0.6,
             "#e6f5d0"
            ],
            [
             0.7,
             "#b8e186"
            ],
            [
             0.8,
             "#7fbc41"
            ],
            [
             0.9,
             "#4d9221"
            ],
            [
             1,
             "#276419"
            ]
           ],
           "sequential": [
            [
             0,
             "#0d0887"
            ],
            [
             0.1111111111111111,
             "#46039f"
            ],
            [
             0.2222222222222222,
             "#7201a8"
            ],
            [
             0.3333333333333333,
             "#9c179e"
            ],
            [
             0.4444444444444444,
             "#bd3786"
            ],
            [
             0.5555555555555556,
             "#d8576b"
            ],
            [
             0.6666666666666666,
             "#ed7953"
            ],
            [
             0.7777777777777778,
             "#fb9f3a"
            ],
            [
             0.8888888888888888,
             "#fdca26"
            ],
            [
             1,
             "#f0f921"
            ]
           ],
           "sequentialminus": [
            [
             0,
             "#0d0887"
            ],
            [
             0.1111111111111111,
             "#46039f"
            ],
            [
             0.2222222222222222,
             "#7201a8"
            ],
            [
             0.3333333333333333,
             "#9c179e"
            ],
            [
             0.4444444444444444,
             "#bd3786"
            ],
            [
             0.5555555555555556,
             "#d8576b"
            ],
            [
             0.6666666666666666,
             "#ed7953"
            ],
            [
             0.7777777777777778,
             "#fb9f3a"
            ],
            [
             0.8888888888888888,
             "#fdca26"
            ],
            [
             1,
             "#f0f921"
            ]
           ]
          },
          "colorway": [
           "#636efa",
           "#EF553B",
           "#00cc96",
           "#ab63fa",
           "#FFA15A",
           "#19d3f3",
           "#FF6692",
           "#B6E880",
           "#FF97FF",
           "#FECB52"
          ],
          "font": {
           "color": "#2a3f5f"
          },
          "geo": {
           "bgcolor": "white",
           "lakecolor": "white",
           "landcolor": "#E5ECF6",
           "showlakes": true,
           "showland": true,
           "subunitcolor": "white"
          },
          "hoverlabel": {
           "align": "left"
          },
          "hovermode": "closest",
          "mapbox": {
           "style": "light"
          },
          "paper_bgcolor": "white",
          "plot_bgcolor": "#E5ECF6",
          "polar": {
           "angularaxis": {
            "gridcolor": "white",
            "linecolor": "white",
            "ticks": ""
           },
           "bgcolor": "#E5ECF6",
           "radialaxis": {
            "gridcolor": "white",
            "linecolor": "white",
            "ticks": ""
           }
          },
          "scene": {
           "xaxis": {
            "backgroundcolor": "#E5ECF6",
            "gridcolor": "white",
            "gridwidth": 2,
            "linecolor": "white",
            "showbackground": true,
            "ticks": "",
            "zerolinecolor": "white"
           },
           "yaxis": {
            "backgroundcolor": "#E5ECF6",
            "gridcolor": "white",
            "gridwidth": 2,
            "linecolor": "white",
            "showbackground": true,
            "ticks": "",
            "zerolinecolor": "white"
           },
           "zaxis": {
            "backgroundcolor": "#E5ECF6",
            "gridcolor": "white",
            "gridwidth": 2,
            "linecolor": "white",
            "showbackground": true,
            "ticks": "",
            "zerolinecolor": "white"
           }
          },
          "shapedefaults": {
           "line": {
            "color": "#2a3f5f"
           }
          },
          "ternary": {
           "aaxis": {
            "gridcolor": "white",
            "linecolor": "white",
            "ticks": ""
           },
           "baxis": {
            "gridcolor": "white",
            "linecolor": "white",
            "ticks": ""
           },
           "bgcolor": "#E5ECF6",
           "caxis": {
            "gridcolor": "white",
            "linecolor": "white",
            "ticks": ""
           }
          },
          "title": {
           "x": 0.05
          },
          "xaxis": {
           "automargin": true,
           "gridcolor": "white",
           "linecolor": "white",
           "ticks": "",
           "title": {
            "standoff": 15
           },
           "zerolinecolor": "white",
           "zerolinewidth": 2
          },
          "yaxis": {
           "automargin": true,
           "gridcolor": "white",
           "linecolor": "white",
           "ticks": "",
           "title": {
            "standoff": 15
           },
           "zerolinecolor": "white",
           "zerolinewidth": 2
          }
         }
        },
        "title": {
         "text": "직무별 평균 재직기간 비교 (재직자 vs 퇴사자)"
        },
        "updatemenus": [
         {
          "active": 0,
          "buttons": [
           {
            "args": [
             {
              "visible": [
               true,
               true,
               false,
               false,
               false,
               false,
               false,
               false
              ]
             }
            ],
            "label": "전체",
            "method": "update"
           },
           {
            "args": [
             {
              "visible": [
               false,
               false,
               true,
               true,
               false,
               false,
               false,
               false
              ]
             }
            ],
            "label": "Staff",
            "method": "update"
           },
           {
            "args": [
             {
              "visible": [
               false,
               false,
               false,
               false,
               true,
               true,
               false,
               false
              ]
             }
            ],
            "label": "Manager",
            "method": "update"
           },
           {
            "args": [
             {
              "visible": [
               false,
               false,
               false,
               false,
               false,
               false,
               true,
               true
              ]
             }
            ],
            "label": "Director",
            "method": "update"
           }
          ],
          "direction": "down",
          "pad": {
           "r": 10,
           "t": 10
          },
          "showactive": true,
          "x": 0.01,
          "xanchor": "left",
          "y": 1.1,
          "yanchor": "top"
         }
        ],
        "xaxis": {
         "range": [
          0,
          7.821594254859141
         ],
         "title": {
          "text": "평균 재직 기간 (년)"
         }
        },
        "yaxis": {
         "categoryarray": [
          "Sales & Marketing",
          "Production & Engineering",
          "Planning",
          "Management Support",
          "IT"
         ],
         "categoryorder": "array",
         "title": {
          "text": "마지막 직무 대분류"
         }
        }
       }
      }
     },
     "metadata": {},
     "output_type": "display_data"
    },
    {
     "name": "stdout",
     "output_type": "stream",
     "text": [
      "\n",
      "--- Aggregate DataFrame ---\n"
     ]
    },
    {
     "data": {
      "text/html": [
       "<div>\n",
       "<style scoped>\n",
       "    .dataframe tbody tr th:only-of-type {\n",
       "        vertical-align: middle;\n",
       "    }\n",
       "\n",
       "    .dataframe tbody tr th {\n",
       "        vertical-align: top;\n",
       "    }\n",
       "\n",
       "    .dataframe thead th {\n",
       "        text-align: right;\n",
       "    }\n",
       "</style>\n",
       "<table border=\"1\" class=\"dataframe\">\n",
       "  <thead>\n",
       "    <tr style=\"text-align: right;\">\n",
       "      <th></th>\n",
       "      <th>POSITION_NAME</th>\n",
       "      <th>전체 평균</th>\n",
       "      <th>Staff</th>\n",
       "      <th>Manager</th>\n",
       "      <th>Director</th>\n",
       "    </tr>\n",
       "    <tr>\n",
       "      <th>JOB_CATEGORY</th>\n",
       "      <th>STATUS</th>\n",
       "      <th></th>\n",
       "      <th></th>\n",
       "      <th></th>\n",
       "      <th></th>\n",
       "    </tr>\n",
       "  </thead>\n",
       "  <tbody>\n",
       "    <tr>\n",
       "      <th rowspan=\"2\" valign=\"top\">IT</th>\n",
       "      <th>퇴사자</th>\n",
       "      <td>4.68</td>\n",
       "      <td>4.95</td>\n",
       "      <td>3.49</td>\n",
       "      <td>0.53</td>\n",
       "    </tr>\n",
       "    <tr>\n",
       "      <th>재직자</th>\n",
       "      <td>5.41</td>\n",
       "      <td>6.56</td>\n",
       "      <td>4.22</td>\n",
       "      <td>3.93</td>\n",
       "    </tr>\n",
       "    <tr>\n",
       "      <th rowspan=\"2\" valign=\"top\">Management Support</th>\n",
       "      <th>퇴사자</th>\n",
       "      <td>5.02</td>\n",
       "      <td>5.05</td>\n",
       "      <td>4.95</td>\n",
       "      <td>NaN</td>\n",
       "    </tr>\n",
       "    <tr>\n",
       "      <th>재직자</th>\n",
       "      <td>5.45</td>\n",
       "      <td>5.72</td>\n",
       "      <td>5.01</td>\n",
       "      <td>5.11</td>\n",
       "    </tr>\n",
       "    <tr>\n",
       "      <th rowspan=\"2\" valign=\"top\">Planning</th>\n",
       "      <th>퇴사자</th>\n",
       "      <td>5.06</td>\n",
       "      <td>5.38</td>\n",
       "      <td>4.38</td>\n",
       "      <td>3.42</td>\n",
       "    </tr>\n",
       "    <tr>\n",
       "      <th>재직자</th>\n",
       "      <td>5.64</td>\n",
       "      <td>6.80</td>\n",
       "      <td>4.02</td>\n",
       "      <td>5.66</td>\n",
       "    </tr>\n",
       "    <tr>\n",
       "      <th rowspan=\"2\" valign=\"top\">Production &amp; Engineering</th>\n",
       "      <th>퇴사자</th>\n",
       "      <td>4.61</td>\n",
       "      <td>4.95</td>\n",
       "      <td>3.45</td>\n",
       "      <td>2.27</td>\n",
       "    </tr>\n",
       "    <tr>\n",
       "      <th>재직자</th>\n",
       "      <td>5.29</td>\n",
       "      <td>6.48</td>\n",
       "      <td>3.96</td>\n",
       "      <td>1.34</td>\n",
       "    </tr>\n",
       "    <tr>\n",
       "      <th rowspan=\"2\" valign=\"top\">Sales &amp; Marketing</th>\n",
       "      <th>퇴사자</th>\n",
       "      <td>4.67</td>\n",
       "      <td>4.90</td>\n",
       "      <td>3.98</td>\n",
       "      <td>1.17</td>\n",
       "    </tr>\n",
       "    <tr>\n",
       "      <th>재직자</th>\n",
       "      <td>5.25</td>\n",
       "      <td>5.80</td>\n",
       "      <td>4.19</td>\n",
       "      <td>2.76</td>\n",
       "    </tr>\n",
       "  </tbody>\n",
       "</table>\n",
       "</div>"
      ],
      "text/plain": [
       "POSITION_NAME                    전체 평균  Staff  Manager  Director\n",
       "JOB_CATEGORY             STATUS                                 \n",
       "IT                       퇴사자      4.68   4.95     3.49      0.53\n",
       "                         재직자      5.41   6.56     4.22      3.93\n",
       "Management Support       퇴사자      5.02   5.05     4.95       NaN\n",
       "                         재직자      5.45   5.72     5.01      5.11\n",
       "Planning                 퇴사자      5.06   5.38     4.38      3.42\n",
       "                         재직자      5.64   6.80     4.02      5.66\n",
       "Production & Engineering 퇴사자      4.61   4.95     3.45      2.27\n",
       "                         재직자      5.29   6.48     3.96      1.34\n",
       "Sales & Marketing        퇴사자      4.67   4.90     3.98      1.17\n",
       "                         재직자      5.25   5.80     4.19      2.76"
      ]
     },
     "execution_count": 1,
     "metadata": {},
     "output_type": "execute_result"
    }
   ],
   "source": [
    "import pandas as pd\n",
    "import numpy as np\n",
    "import plotly.graph_objects as go\n",
    "import plotly.io as pio\n",
    "import plotly.express as px\n",
    "\n",
    "# --- 1. 데이터 임포트 ---\n",
    "from services.tables.HR_Core.basic_info_table import emp_df\n",
    "from services.tables.HR_Core.job_info_table import job_info_df\n",
    "from services.tables.HR_Core.department_info_table import department_info_df\n",
    "from services.tables.HR_Core.job_table import job_df, job_df_indexed, parent_map_job, job_l1_order\n",
    "from services.tables.HR_Core.department_table import division_order, dept_level_map, parent_map_dept, dept_name_map\n",
    "from services.tables.HR_Core.position_info_table import position_info_df\n",
    "from services.tables.HR_Core.position_table import position_df, position_order\n",
    "from services.helpers.utils import get_level1_ancestor, find_division_name_for_dept\n",
    "\n",
    "def create_figure_and_df():\n",
    "    \"\"\"\n",
    "    제안 8-3: 직무별 인력 유지 현황 분석 (입사 시점 직위별 필터) 그래프 및 피벗 테이블을 생성합니다.\n",
    "    \"\"\"\n",
    "    # --- 2. 데이터 준비 및 가공 ---\n",
    "    emp_base_df = emp_df[['EMP_ID', 'CURRENT_EMP_YN', 'DURATION']].copy()\n",
    "    emp_base_df['TENURE_YEARS'] = emp_base_df['DURATION'] / 365.25\n",
    "\n",
    "    last_job = job_info_df.sort_values('JOB_APP_START_DATE').groupby('EMP_ID').last()\n",
    "    job_l1_map = job_df[job_df['JOB_LEVEL'] == 1].set_index('JOB_ID')['JOB_NAME'].to_dict()\n",
    "    last_job['JOB_CATEGORY'] = last_job['JOB_ID'].apply(lambda x: job_l1_map.get(get_level1_ancestor(x, job_df_indexed, parent_map_job)))\n",
    "    \n",
    "    first_pos = position_info_df.sort_values('GRADE_START_DATE').groupby('EMP_ID').first().reset_index()\n",
    "    first_pos = pd.merge(first_pos, position_df[['POSITION_ID', 'POSITION_NAME']].drop_duplicates(), on='POSITION_ID')\n",
    "\n",
    "    analysis_df = pd.merge(emp_base_df, last_job[['JOB_CATEGORY']], on='EMP_ID', how='left')\n",
    "    analysis_df = pd.merge(analysis_df, first_pos[['EMP_ID', 'POSITION_NAME']], on='EMP_ID', how='left')\n",
    "    analysis_df['STATUS'] = np.where(analysis_df['CURRENT_EMP_YN'] == 'Y', '재직자', '퇴사자')\n",
    "    \n",
    "    overall_analysis_df = analysis_df.dropna(subset=['JOB_CATEGORY'])\n",
    "    overall_summary = overall_analysis_df.groupby(['JOB_CATEGORY', 'STATUS'], observed=False).agg(\n",
    "        AVG_TENURE=('TENURE_YEARS', 'mean'), HEADCOUNT=('EMP_ID', 'nunique')\n",
    "    ).unstack(level='STATUS').fillna(0)\n",
    "    overall_summary.columns = [f'{val}_{stat}' for val, stat in overall_summary.columns]\n",
    "    overall_summary = overall_summary.reset_index()\n",
    "\n",
    "    analysis_df_pos = analysis_df.dropna(subset=['POSITION_NAME'])\n",
    "    summary_df = analysis_df_pos.groupby(['POSITION_NAME', 'JOB_CATEGORY', 'STATUS'], observed=False).agg(\n",
    "        AVG_TENURE=('TENURE_YEARS', 'mean'), HEADCOUNT=('EMP_ID', 'nunique')\n",
    "    ).unstack(level='STATUS').fillna(0)\n",
    "    summary_df.columns = [f'{val}_{stat}' for val, stat in summary_df.columns]\n",
    "    summary_df = summary_df.reset_index()\n",
    "    \n",
    "    x_max_values = pd.concat([summary_df['AVG_TENURE_재직자'], summary_df['AVG_TENURE_퇴사자'], overall_summary['AVG_TENURE_재직자'], overall_summary['AVG_TENURE_퇴사자']])\n",
    "    x_max = x_max_values.max() if not x_max_values.empty else 10\n",
    "    fixed_x_range = [0, x_max * 1.15]\n",
    "\n",
    "    # --- 3. Plotly 인터랙티브 그래프 생성 ---\n",
    "    # (그래프 생성 코드는 이전과 동일)\n",
    "    fig = go.Figure()\n",
    "    position_filter_list = ['전체'] + [p for p in position_order if p != 'C-Level']\n",
    "    for i, pos_name in enumerate(position_filter_list):\n",
    "        is_visible = (i == 0)\n",
    "        if pos_name == '전체':\n",
    "            df_grouped = overall_summary\n",
    "        else:\n",
    "            df_grouped = summary_df[summary_df['POSITION_NAME'] == pos_name]\n",
    "        fig.add_trace(go.Bar(y=df_grouped['JOB_CATEGORY'], x=df_grouped['AVG_TENURE_재직자'], name='재직자', orientation='h', visible=is_visible, customdata=df_grouped['HEADCOUNT_재직자'], text=df_grouped['AVG_TENURE_재직자'].round(2), textposition='outside', hovertemplate='평균 재직기간: %{x:.2f}년<br>인원: %{customdata}명<extra></extra>'))\n",
    "        fig.add_trace(go.Bar(y=df_grouped['JOB_CATEGORY'], x=df_grouped['AVG_TENURE_퇴사자'], name='퇴사자', orientation='h', visible=is_visible, customdata=df_grouped['HEADCOUNT_퇴사자'], text=df_grouped['AVG_TENURE_퇴사자'].round(2), textposition='outside', hovertemplate='평균 재직기간: %{x:.2f}년<br>인원: %{customdata}명<extra></extra>'))\n",
    "    buttons = []\n",
    "    for i, pos_name in enumerate(position_filter_list):\n",
    "        visibility_mask = [False] * (len(position_filter_list) * 2)\n",
    "        visibility_mask[i*2], visibility_mask[i*2 + 1] = True, True\n",
    "        buttons.append(dict(label=pos_name, method='update', args=[{'visible': visibility_mask}]))\n",
    "    fig.update_layout(\n",
    "        updatemenus=[dict(active=0, buttons=buttons, direction=\"down\", pad={\"r\": 10, \"t\": 10}, showactive=True, x=0.01, xanchor=\"left\", y=1.1, yanchor=\"top\")],\n",
    "        title_text='직무별 평균 재직기간 비교 (재직자 vs 퇴사자)', xaxis_title='평균 재직 기간 (년)', font_size=14, height=700,\n",
    "        barmode='group', legend_title_text='상태',\n",
    "        annotations=[dict(text=\"입사 시점 직위 선택:\", showarrow=False, x=0, y=1.08, yref=\"paper\", align=\"left\")],\n",
    "        xaxis_range=fixed_x_range,\n",
    "        yaxis=dict(title='마지막 직무 대분류', categoryorder='array', categoryarray=job_l1_order[::-1])\n",
    "    )\n",
    "    \n",
    "    # --- 수정된 부분: aggregate_df 생성 ---\n",
    "    # 1. 피벗 테이블 생성\n",
    "    analysis_df['STATUS'] = pd.Categorical(analysis_df['STATUS'], categories=['퇴사자', '재직자'], ordered=True)\n",
    "    aggregate_df = analysis_df.pivot_table(\n",
    "        index=['JOB_CATEGORY', 'STATUS'],\n",
    "        columns='POSITION_NAME',\n",
    "        values='TENURE_YEARS',\n",
    "        aggfunc='mean',\n",
    "        observed=False\n",
    "    )\n",
    "    \n",
    "    # 2. '전체 평균' 컬럼 추가\n",
    "    aggregate_df['전체 평균'] = analysis_df.groupby(['JOB_CATEGORY', 'STATUS'], observed=False)['TENURE_YEARS'].mean()\n",
    "    \n",
    "    # 3. 컬럼 순서 재배치 및 포맷팅\n",
    "    cols = ['전체 평균'] + [col for col in position_order if col in aggregate_df.columns]\n",
    "    aggregate_df = aggregate_df[cols].round(2)\n",
    "    # --- 수정 완료 ---\n",
    "    \n",
    "    return fig, aggregate_df\n",
    "\n",
    "# --- 실행 코드 ---\n",
    "pio.renderers.default = 'vscode'\n",
    "fig, aggregate_df = create_figure_and_df()\n",
    "fig.show()\n",
    "\n",
    "print(\"\\n--- Aggregate DataFrame ---\")\n",
    "aggregate_df"
   ]
  },
  {
   "cell_type": "code",
   "execution_count": null,
   "id": "8d9679c9",
   "metadata": {},
   "outputs": [],
   "source": []
  }
 ],
 "metadata": {
  "kernelspec": {
   "display_name": "Python 3 (ipykernel)",
   "language": "python",
   "name": "python3"
  },
  "language_info": {
   "codemirror_mode": {
    "name": "ipython",
    "version": 3
   },
   "file_extension": ".py",
   "mimetype": "text/x-python",
   "name": "python",
   "nbconvert_exporter": "python",
   "pygments_lexer": "ipython3",
   "version": "3.12.11"
  }
 },
 "nbformat": 4,
 "nbformat_minor": 5
}
