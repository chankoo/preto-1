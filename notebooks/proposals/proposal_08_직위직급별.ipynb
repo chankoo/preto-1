{
 "cells": [
  {
   "cell_type": "code",
   "execution_count": 1,
   "id": "16056e31",
   "metadata": {},
   "outputs": [
    {
     "data": {
      "application/vnd.plotly.v1+json": {
       "config": {
        "plotlyServerURL": "https://plot.ly"
       },
       "data": [
        {
         "customdata": {
          "bdata": "aAAtAGUAZgCAAA==",
          "dtype": "i2"
         },
         "hovertemplate": "평균 재직기간: %{x:.2f}년<br>인원: %{customdata}명<extra></extra>",
         "name": "재직자",
         "orientation": "h",
         "text": {
          "bdata": "pHA9CtejFUCF61G4HoUWQLgehetRuBVAuB6F61G4FkA9CtejcD0UQA==",
          "dtype": "f8"
         },
         "textposition": "outside",
         "type": "bar",
         "visible": true,
         "x": {
          "bdata": "tpSXsp6iFUCc/lT8TYQWQOx/EbHQvBVAz6MeNgi2FkD+IQaJakAUQA==",
          "dtype": "f8"
         },
         "y": [
          "IT",
          "Management Support",
          "Planning",
          "Production & Engineering",
          "Sales & Marketing"
         ]
        },
        {
         "customdata": {
          "bdata": "YgArAH8AawCRAA==",
          "dtype": "i2"
         },
         "hovertemplate": "평균 재직기간: %{x:.2f}년<br>인원: %{customdata}명<extra></extra>",
         "name": "퇴사자",
         "orientation": "h",
         "text": {
          "bdata": "cT0K16NwE0AUrkfhehQTQClcj8L1KBNApHA9CtejEkBSuB6F61ETQA==",
          "dtype": "f8"
         },
         "textposition": "outside",
         "type": "bar",
         "visible": true,
         "x": {
          "bdata": "pDjNFwBuE0Ck+X540hITQL6bTRLKLBNABOIJy6KiEkAPNKV/x1MTQA==",
          "dtype": "f8"
         },
         "y": [
          "IT",
          "Management Support",
          "Planning",
          "Production & Engineering",
          "Sales & Marketing"
         ]
        },
        {
         "customdata": {
          "bdata": "AAAAAAAAS0AAAAAAAAA9QAAAAAAAAE9AAAAAAAAATUAAAAAAAMBVQA==",
          "dtype": "f8"
         },
         "hovertemplate": "평균 재직기간: %{x:.2f}년<br>인원: %{customdata}명<extra></extra>",
         "name": "재직자",
         "orientation": "h",
         "text": {
          "bdata": "AAAAAAAAG0BxPQrXo3AYQMP1KFyPwhlAzczMzMzMGkBcj8L1KFwXQA==",
          "dtype": "f8"
         },
         "textposition": "outside",
         "type": "bar",
         "visible": false,
         "x": {
          "bdata": "mOTYBT0DG0BhbclHF3MYQO2EqUuixRlAh6sc9z7LGkBjR4QmxFsXQA==",
          "dtype": "f8"
         },
         "y": [
          "IT",
          "Management Support",
          "Planning",
          "Production & Engineering",
          "Sales & Marketing"
         ]
        },
        {
         "customdata": {
          "bdata": "AAAAAACAU0AAAAAAAABBQAAAAAAAwFZAAAAAAABAVEAAAAAAAMBcQA==",
          "dtype": "f8"
         },
         "hovertemplate": "평균 재직기간: %{x:.2f}년<br>인원: %{customdata}명<extra></extra>",
         "name": "퇴사자",
         "orientation": "h",
         "text": {
          "bdata": "XI/C9ShcFEBcj8L1KFwUQJqZmZmZmRRAzczMzMzME0DXo3A9CtcTQA==",
          "dtype": "f8"
         },
         "textposition": "outside",
         "type": "bar",
         "visible": false,
         "x": {
          "bdata": "5aCPYERfFEDbkNLXcV8UQLWXvQeUnhRA2WUebPTHE0D10TP6EtcTQA==",
          "dtype": "f8"
         },
         "y": [
          "IT",
          "Management Support",
          "Planning",
          "Production & Engineering",
          "Sales & Marketing"
         ]
        },
        {
         "customdata": {
          "bdata": "AAAAAAAARkAAAAAAAAAuQAAAAAAAgENAAAAAAACAREAAAAAAAABDQA==",
          "dtype": "f8"
         },
         "hovertemplate": "평균 재직기간: %{x:.2f}년<br>인원: %{customdata}명<extra></extra>",
         "name": "재직자",
         "orientation": "h",
         "text": {
          "bdata": "7FG4HoXrD0DsUbgehesSQKRwPQrXow5ApHA9CtejEUAUrkfhehQMQA==",
          "dtype": "f8"
         },
         "textposition": "outside",
         "type": "bar",
         "visible": false,
         "x": {
          "bdata": "09dVdfbwD0DyFG3yPesSQOEdot/LpQ5Ac1VeEzyjEUB5Gkc+0REMQA==",
          "dtype": "f8"
         },
         "y": [
          "IT",
          "Management Support",
          "Planning",
          "Production & Engineering",
          "Sales & Marketing"
         ]
        },
        {
         "customdata": {
          "bdata": "AAAAAAAAMkAAAAAAAAAiQAAAAAAAgEFAAAAAAAAAOkAAAAAAAAA9QA==",
          "dtype": "f8"
         },
         "hovertemplate": "평균 재직기간: %{x:.2f}년<br>인원: %{customdata}명<extra></extra>",
         "name": "퇴사자",
         "orientation": "h",
         "text": {
          "bdata": "j8L1KFyPEEBSuB6F61EMQB+F61G4Hg9AKVyPwvUoDkDNzMzMzMwRQA==",
          "dtype": "f8"
         },
         "textposition": "outside",
         "type": "bar",
         "visible": false,
         "x": {
          "bdata": "/1ItCAyOEEC9fE0Ef1QMQI3qgqbsJg9AYN1Yb6shDkCHtSUfXcwRQA==",
          "dtype": "f8"
         },
         "y": [
          "IT",
          "Management Support",
          "Planning",
          "Production & Engineering",
          "Sales & Marketing"
         ]
        },
        {
         "customdata": {
          "bdata": "AAAAAAAAGEAAAAAAAADwPwAAAAAAAAAAAAAAAAAACEAAAAAAAAAIQA==",
          "dtype": "f8"
         },
         "hovertemplate": "평균 재직기간: %{x:.2f}년<br>인원: %{customdata}명<extra></extra>",
         "name": "재직자",
         "orientation": "h",
         "text": {
          "bdata": "hetRuB6FDUBxPQrXo3AUQAAAAAAAAAAAPQrXo3A9CkDD9Shcj8IBQA==",
          "dtype": "f8"
         },
         "textposition": "outside",
         "type": "bar",
         "visible": false,
         "x": {
          "bdata": "3OF7ac6ODUA4I7sEcW8UQAAAAAAAAAAAIHu8+5Y5CkD82OPdt8wBQA==",
          "dtype": "f8"
         },
         "y": [
          "IT",
          "Management Support",
          "Planning",
          "Production & Engineering",
          "Sales & Marketing"
         ]
        },
        {
         "customdata": {
          "bdata": "AAAAAAAAAEAAAAAAAAAAAAAAAAAAAPA/AAAAAAAAAAAAAAAAAADwPw==",
          "dtype": "f8"
         },
         "hovertemplate": "평균 재직기간: %{x:.2f}년<br>인원: %{customdata}명<extra></extra>",
         "name": "퇴사자",
         "orientation": "h",
         "text": {
          "bdata": "H4XrUbgeAUAAAAAAAAAAAFyPwvUoXAtAAAAAAAAAAAC4HoXrUbjyPw==",
          "dtype": "f8"
         },
         "textposition": "outside",
         "type": "bar",
         "visible": false,
         "x": {
          "bdata": "+NKcHVsYAUAAAAAAAAAAADKaUOTlYAtAAAAAAAAAAACwbRaAsb/yPw==",
          "dtype": "f8"
         },
         "y": [
          "IT",
          "Management Support",
          "Planning",
          "Production & Engineering",
          "Sales & Marketing"
         ]
        }
       ],
       "layout": {
        "annotations": [
         {
          "align": "left",
          "showarrow": false,
          "text": "입사 시점 직위 선택:",
          "x": 0,
          "y": 1.08,
          "yref": "paper"
         }
        ],
        "barmode": "group",
        "font": {
         "size": 14
        },
        "height": 700,
        "legend": {
         "title": {
          "text": "상태"
         }
        },
        "template": {
         "data": {
          "bar": [
           {
            "error_x": {
             "color": "#2a3f5f"
            },
            "error_y": {
             "color": "#2a3f5f"
            },
            "marker": {
             "line": {
              "color": "#E5ECF6",
              "width": 0.5
             },
             "pattern": {
              "fillmode": "overlay",
              "size": 10,
              "solidity": 0.2
             }
            },
            "type": "bar"
           }
          ],
          "barpolar": [
           {
            "marker": {
             "line": {
              "color": "#E5ECF6",
              "width": 0.5
             },
             "pattern": {
              "fillmode": "overlay",
              "size": 10,
              "solidity": 0.2
             }
            },
            "type": "barpolar"
           }
          ],
          "carpet": [
           {
            "aaxis": {
             "endlinecolor": "#2a3f5f",
             "gridcolor": "white",
             "linecolor": "white",
             "minorgridcolor": "white",
             "startlinecolor": "#2a3f5f"
            },
            "baxis": {
             "endlinecolor": "#2a3f5f",
             "gridcolor": "white",
             "linecolor": "white",
             "minorgridcolor": "white",
             "startlinecolor": "#2a3f5f"
            },
            "type": "carpet"
           }
          ],
          "choropleth": [
           {
            "colorbar": {
             "outlinewidth": 0,
             "ticks": ""
            },
            "type": "choropleth"
           }
          ],
          "contour": [
           {
            "colorbar": {
             "outlinewidth": 0,
             "ticks": ""
            },
            "colorscale": [
             [
              0,
              "#0d0887"
             ],
             [
              0.1111111111111111,
              "#46039f"
             ],
             [
              0.2222222222222222,
              "#7201a8"
             ],
             [
              0.3333333333333333,
              "#9c179e"
             ],
             [
              0.4444444444444444,
              "#bd3786"
             ],
             [
              0.5555555555555556,
              "#d8576b"
             ],
             [
              0.6666666666666666,
              "#ed7953"
             ],
             [
              0.7777777777777778,
              "#fb9f3a"
             ],
             [
              0.8888888888888888,
              "#fdca26"
             ],
             [
              1,
              "#f0f921"
             ]
            ],
            "type": "contour"
           }
          ],
          "contourcarpet": [
           {
            "colorbar": {
             "outlinewidth": 0,
             "ticks": ""
            },
            "type": "contourcarpet"
           }
          ],
          "heatmap": [
           {
            "colorbar": {
             "outlinewidth": 0,
             "ticks": ""
            },
            "colorscale": [
             [
              0,
              "#0d0887"
             ],
             [
              0.1111111111111111,
              "#46039f"
             ],
             [
              0.2222222222222222,
              "#7201a8"
             ],
             [
              0.3333333333333333,
              "#9c179e"
             ],
             [
              0.4444444444444444,
              "#bd3786"
             ],
             [
              0.5555555555555556,
              "#d8576b"
             ],
             [
              0.6666666666666666,
              "#ed7953"
             ],
             [
              0.7777777777777778,
              "#fb9f3a"
             ],
             [
              0.8888888888888888,
              "#fdca26"
             ],
             [
              1,
              "#f0f921"
             ]
            ],
            "type": "heatmap"
           }
          ],
          "histogram": [
           {
            "marker": {
             "pattern": {
              "fillmode": "overlay",
              "size": 10,
              "solidity": 0.2
             }
            },
            "type": "histogram"
           }
          ],
          "histogram2d": [
           {
            "colorbar": {
             "outlinewidth": 0,
             "ticks": ""
            },
            "colorscale": [
             [
              0,
              "#0d0887"
             ],
             [
              0.1111111111111111,
              "#46039f"
             ],
             [
              0.2222222222222222,
              "#7201a8"
             ],
             [
              0.3333333333333333,
              "#9c179e"
             ],
             [
              0.4444444444444444,
              "#bd3786"
             ],
             [
              0.5555555555555556,
              "#d8576b"
             ],
             [
              0.6666666666666666,
              "#ed7953"
             ],
             [
              0.7777777777777778,
              "#fb9f3a"
             ],
             [
              0.8888888888888888,
              "#fdca26"
             ],
             [
              1,
              "#f0f921"
             ]
            ],
            "type": "histogram2d"
           }
          ],
          "histogram2dcontour": [
           {
            "colorbar": {
             "outlinewidth": 0,
             "ticks": ""
            },
            "colorscale": [
             [
              0,
              "#0d0887"
             ],
             [
              0.1111111111111111,
              "#46039f"
             ],
             [
              0.2222222222222222,
              "#7201a8"
             ],
             [
              0.3333333333333333,
              "#9c179e"
             ],
             [
              0.4444444444444444,
              "#bd3786"
             ],
             [
              0.5555555555555556,
              "#d8576b"
             ],
             [
              0.6666666666666666,
              "#ed7953"
             ],
             [
              0.7777777777777778,
              "#fb9f3a"
             ],
             [
              0.8888888888888888,
              "#fdca26"
             ],
             [
              1,
              "#f0f921"
             ]
            ],
            "type": "histogram2dcontour"
           }
          ],
          "mesh3d": [
           {
            "colorbar": {
             "outlinewidth": 0,
             "ticks": ""
            },
            "type": "mesh3d"
           }
          ],
          "parcoords": [
           {
            "line": {
             "colorbar": {
              "outlinewidth": 0,
              "ticks": ""
             }
            },
            "type": "parcoords"
           }
          ],
          "pie": [
           {
            "automargin": true,
            "type": "pie"
           }
          ],
          "scatter": [
           {
            "fillpattern": {
             "fillmode": "overlay",
             "size": 10,
             "solidity": 0.2
            },
            "type": "scatter"
           }
          ],
          "scatter3d": [
           {
            "line": {
             "colorbar": {
              "outlinewidth": 0,
              "ticks": ""
             }
            },
            "marker": {
             "colorbar": {
              "outlinewidth": 0,
              "ticks": ""
             }
            },
            "type": "scatter3d"
           }
          ],
          "scattercarpet": [
           {
            "marker": {
             "colorbar": {
              "outlinewidth": 0,
              "ticks": ""
             }
            },
            "type": "scattercarpet"
           }
          ],
          "scattergeo": [
           {
            "marker": {
             "colorbar": {
              "outlinewidth": 0,
              "ticks": ""
             }
            },
            "type": "scattergeo"
           }
          ],
          "scattergl": [
           {
            "marker": {
             "colorbar": {
              "outlinewidth": 0,
              "ticks": ""
             }
            },
            "type": "scattergl"
           }
          ],
          "scattermap": [
           {
            "marker": {
             "colorbar": {
              "outlinewidth": 0,
              "ticks": ""
             }
            },
            "type": "scattermap"
           }
          ],
          "scattermapbox": [
           {
            "marker": {
             "colorbar": {
              "outlinewidth": 0,
              "ticks": ""
             }
            },
            "type": "scattermapbox"
           }
          ],
          "scatterpolar": [
           {
            "marker": {
             "colorbar": {
              "outlinewidth": 0,
              "ticks": ""
             }
            },
            "type": "scatterpolar"
           }
          ],
          "scatterpolargl": [
           {
            "marker": {
             "colorbar": {
              "outlinewidth": 0,
              "ticks": ""
             }
            },
            "type": "scatterpolargl"
           }
          ],
          "scatterternary": [
           {
            "marker": {
             "colorbar": {
              "outlinewidth": 0,
              "ticks": ""
             }
            },
            "type": "scatterternary"
           }
          ],
          "surface": [
           {
            "colorbar": {
             "outlinewidth": 0,
             "ticks": ""
            },
            "colorscale": [
             [
              0,
              "#0d0887"
             ],
             [
              0.1111111111111111,
              "#46039f"
             ],
             [
              0.2222222222222222,
              "#7201a8"
             ],
             [
              0.3333333333333333,
              "#9c179e"
             ],
             [
              0.4444444444444444,
              "#bd3786"
             ],
             [
              0.5555555555555556,
              "#d8576b"
             ],
             [
              0.6666666666666666,
              "#ed7953"
             ],
             [
              0.7777777777777778,
              "#fb9f3a"
             ],
             [
              0.8888888888888888,
              "#fdca26"
             ],
             [
              1,
              "#f0f921"
             ]
            ],
            "type": "surface"
           }
          ],
          "table": [
           {
            "cells": {
             "fill": {
              "color": "#EBF0F8"
             },
             "line": {
              "color": "white"
             }
            },
            "header": {
             "fill": {
              "color": "#C8D4E3"
             },
             "line": {
              "color": "white"
             }
            },
            "type": "table"
           }
          ]
         },
         "layout": {
          "annotationdefaults": {
           "arrowcolor": "#2a3f5f",
           "arrowhead": 0,
           "arrowwidth": 1
          },
          "autotypenumbers": "strict",
          "coloraxis": {
           "colorbar": {
            "outlinewidth": 0,
            "ticks": ""
           }
          },
          "colorscale": {
           "diverging": [
            [
             0,
             "#8e0152"
            ],
            [
             0.1,
             "#c51b7d"
            ],
            [
             0.2,
             "#de77ae"
            ],
            [
             0.3,
             "#f1b6da"
            ],
            [
             0.4,
             "#fde0ef"
            ],
            [
             0.5,
             "#f7f7f7"
            ],
            [
             0.6,
             "#e6f5d0"
            ],
            [
             0.7,
             "#b8e186"
            ],
            [
             0.8,
             "#7fbc41"
            ],
            [
             0.9,
             "#4d9221"
            ],
            [
             1,
             "#276419"
            ]
           ],
           "sequential": [
            [
             0,
             "#0d0887"
            ],
            [
             0.1111111111111111,
             "#46039f"
            ],
            [
             0.2222222222222222,
             "#7201a8"
            ],
            [
             0.3333333333333333,
             "#9c179e"
            ],
            [
             0.4444444444444444,
             "#bd3786"
            ],
            [
             0.5555555555555556,
             "#d8576b"
            ],
            [
             0.6666666666666666,
             "#ed7953"
            ],
            [
             0.7777777777777778,
             "#fb9f3a"
            ],
            [
             0.8888888888888888,
             "#fdca26"
            ],
            [
             1,
             "#f0f921"
            ]
           ],
           "sequentialminus": [
            [
             0,
             "#0d0887"
            ],
            [
             0.1111111111111111,
             "#46039f"
            ],
            [
             0.2222222222222222,
             "#7201a8"
            ],
            [
             0.3333333333333333,
             "#9c179e"
            ],
            [
             0.4444444444444444,
             "#bd3786"
            ],
            [
             0.5555555555555556,
             "#d8576b"
            ],
            [
             0.6666666666666666,
             "#ed7953"
            ],
            [
             0.7777777777777778,
             "#fb9f3a"
            ],
            [
             0.8888888888888888,
             "#fdca26"
            ],
            [
             1,
             "#f0f921"
            ]
           ]
          },
          "colorway": [
           "#636efa",
           "#EF553B",
           "#00cc96",
           "#ab63fa",
           "#FFA15A",
           "#19d3f3",
           "#FF6692",
           "#B6E880",
           "#FF97FF",
           "#FECB52"
          ],
          "font": {
           "color": "#2a3f5f"
          },
          "geo": {
           "bgcolor": "white",
           "lakecolor": "white",
           "landcolor": "#E5ECF6",
           "showlakes": true,
           "showland": true,
           "subunitcolor": "white"
          },
          "hoverlabel": {
           "align": "left"
          },
          "hovermode": "closest",
          "mapbox": {
           "style": "light"
          },
          "paper_bgcolor": "white",
          "plot_bgcolor": "#E5ECF6",
          "polar": {
           "angularaxis": {
            "gridcolor": "white",
            "linecolor": "white",
            "ticks": ""
           },
           "bgcolor": "#E5ECF6",
           "radialaxis": {
            "gridcolor": "white",
            "linecolor": "white",
            "ticks": ""
           }
          },
          "scene": {
           "xaxis": {
            "backgroundcolor": "#E5ECF6",
            "gridcolor": "white",
            "gridwidth": 2,
            "linecolor": "white",
            "showbackground": true,
            "ticks": "",
            "zerolinecolor": "white"
           },
           "yaxis": {
            "backgroundcolor": "#E5ECF6",
            "gridcolor": "white",
            "gridwidth": 2,
            "linecolor": "white",
            "showbackground": true,
            "ticks": "",
            "zerolinecolor": "white"
           },
           "zaxis": {
            "backgroundcolor": "#E5ECF6",
            "gridcolor": "white",
            "gridwidth": 2,
            "linecolor": "white",
            "showbackground": true,
            "ticks": "",
            "zerolinecolor": "white"
           }
          },
          "shapedefaults": {
           "line": {
            "color": "#2a3f5f"
           }
          },
          "ternary": {
           "aaxis": {
            "gridcolor": "white",
            "linecolor": "white",
            "ticks": ""
           },
           "baxis": {
            "gridcolor": "white",
            "linecolor": "white",
            "ticks": ""
           },
           "bgcolor": "#E5ECF6",
           "caxis": {
            "gridcolor": "white",
            "linecolor": "white",
            "ticks": ""
           }
          },
          "title": {
           "x": 0.05
          },
          "xaxis": {
           "automargin": true,
           "gridcolor": "white",
           "linecolor": "white",
           "ticks": "",
           "title": {
            "standoff": 15
           },
           "zerolinecolor": "white",
           "zerolinewidth": 2
          },
          "yaxis": {
           "automargin": true,
           "gridcolor": "white",
           "linecolor": "white",
           "ticks": "",
           "title": {
            "standoff": 15
           },
           "zerolinecolor": "white",
           "zerolinewidth": 2
          }
         }
        },
        "title": {
         "text": "직무별 평균 재직기간 비교 (재직자 vs 퇴사자)"
        },
        "updatemenus": [
         {
          "active": 0,
          "buttons": [
           {
            "args": [
             {
              "visible": [
               true,
               true,
               false,
               false,
               false,
               false,
               false,
               false
              ]
             }
            ],
            "label": "전체",
            "method": "update"
           },
           {
            "args": [
             {
              "visible": [
               false,
               false,
               true,
               true,
               false,
               false,
               false,
               false
              ]
             }
            ],
            "label": "Staff",
            "method": "update"
           },
           {
            "args": [
             {
              "visible": [
               false,
               false,
               false,
               false,
               true,
               true,
               false,
               false
              ]
             }
            ],
            "label": "Manager",
            "method": "update"
           },
           {
            "args": [
             {
              "visible": [
               false,
               false,
               false,
               false,
               false,
               false,
               true,
               true
              ]
             }
            ],
            "label": "Director",
            "method": "update"
           }
          ],
          "direction": "down",
          "pad": {
           "r": 10,
           "t": 10
          },
          "showactive": true,
          "x": 0.01,
          "xanchor": "left",
          "y": 1.1,
          "yanchor": "top"
         }
        ],
        "xaxis": {
         "range": [
          0,
          7.766136841838415
         ],
         "title": {
          "text": "평균 재직 기간 (년)"
         }
        },
        "yaxis": {
         "categoryarray": [
          "Sales & Marketing",
          "Production & Engineering",
          "Planning",
          "Management Support",
          "IT"
         ],
         "categoryorder": "array",
         "title": {
          "text": "마지막 직무 대분류"
         }
        }
       }
      }
     },
     "metadata": {},
     "output_type": "display_data"
    },
    {
     "name": "stdout",
     "output_type": "stream",
     "text": [
      "\n",
      "--- Aggregate DataFrame ---\n"
     ]
    },
    {
     "data": {
      "text/html": [
       "<div>\n",
       "<style scoped>\n",
       "    .dataframe tbody tr th:only-of-type {\n",
       "        vertical-align: middle;\n",
       "    }\n",
       "\n",
       "    .dataframe tbody tr th {\n",
       "        vertical-align: top;\n",
       "    }\n",
       "\n",
       "    .dataframe thead th {\n",
       "        text-align: right;\n",
       "    }\n",
       "</style>\n",
       "<table border=\"1\" class=\"dataframe\">\n",
       "  <thead>\n",
       "    <tr style=\"text-align: right;\">\n",
       "      <th></th>\n",
       "      <th>POSITION_NAME</th>\n",
       "      <th>전체 평균</th>\n",
       "      <th>Staff</th>\n",
       "      <th>Manager</th>\n",
       "      <th>Director</th>\n",
       "    </tr>\n",
       "    <tr>\n",
       "      <th>JOB_CATEGORY</th>\n",
       "      <th>STATUS</th>\n",
       "      <th></th>\n",
       "      <th></th>\n",
       "      <th></th>\n",
       "      <th></th>\n",
       "    </tr>\n",
       "  </thead>\n",
       "  <tbody>\n",
       "    <tr>\n",
       "      <th rowspan=\"2\" valign=\"top\">IT</th>\n",
       "      <th>퇴사자</th>\n",
       "      <td>4.86</td>\n",
       "      <td>5.09</td>\n",
       "      <td>4.14</td>\n",
       "      <td>2.14</td>\n",
       "    </tr>\n",
       "    <tr>\n",
       "      <th>재직자</th>\n",
       "      <td>5.41</td>\n",
       "      <td>6.75</td>\n",
       "      <td>3.99</td>\n",
       "      <td>3.69</td>\n",
       "    </tr>\n",
       "    <tr>\n",
       "      <th rowspan=\"2\" valign=\"top\">Management Support</th>\n",
       "      <th>퇴사자</th>\n",
       "      <td>4.77</td>\n",
       "      <td>5.09</td>\n",
       "      <td>3.54</td>\n",
       "      <td>-</td>\n",
       "    </tr>\n",
       "    <tr>\n",
       "      <th>재직자</th>\n",
       "      <td>5.63</td>\n",
       "      <td>6.11</td>\n",
       "      <td>4.73</td>\n",
       "      <td>5.11</td>\n",
       "    </tr>\n",
       "    <tr>\n",
       "      <th rowspan=\"2\" valign=\"top\">Planning</th>\n",
       "      <th>퇴사자</th>\n",
       "      <td>4.79</td>\n",
       "      <td>5.15</td>\n",
       "      <td>3.89</td>\n",
       "      <td>3.42</td>\n",
       "    </tr>\n",
       "    <tr>\n",
       "      <th>재직자</th>\n",
       "      <td>5.43</td>\n",
       "      <td>6.44</td>\n",
       "      <td>3.83</td>\n",
       "      <td>-</td>\n",
       "    </tr>\n",
       "    <tr>\n",
       "      <th rowspan=\"2\" valign=\"top\">Production &amp; Engineering</th>\n",
       "      <th>퇴사자</th>\n",
       "      <td>4.66</td>\n",
       "      <td>4.95</td>\n",
       "      <td>3.77</td>\n",
       "      <td>-</td>\n",
       "    </tr>\n",
       "    <tr>\n",
       "      <th>재직자</th>\n",
       "      <td>5.68</td>\n",
       "      <td>6.70</td>\n",
       "      <td>4.41</td>\n",
       "      <td>3.28</td>\n",
       "    </tr>\n",
       "    <tr>\n",
       "      <th rowspan=\"2\" valign=\"top\">Sales &amp; Marketing</th>\n",
       "      <th>퇴사자</th>\n",
       "      <td>4.83</td>\n",
       "      <td>4.96</td>\n",
       "      <td>4.45</td>\n",
       "      <td>1.17</td>\n",
       "    </tr>\n",
       "    <tr>\n",
       "      <th>재직자</th>\n",
       "      <td>5.06</td>\n",
       "      <td>5.84</td>\n",
       "      <td>3.51</td>\n",
       "      <td>2.22</td>\n",
       "    </tr>\n",
       "  </tbody>\n",
       "</table>\n",
       "</div>"
      ],
      "text/plain": [
       "POSITION_NAME                    전체 평균  Staff  Manager Director\n",
       "JOB_CATEGORY             STATUS                                \n",
       "IT                       퇴사자      4.86   5.09     4.14     2.14\n",
       "                         재직자      5.41   6.75     3.99     3.69\n",
       "Management Support       퇴사자      4.77   5.09     3.54        -\n",
       "                         재직자      5.63   6.11     4.73     5.11\n",
       "Planning                 퇴사자      4.79   5.15     3.89     3.42\n",
       "                         재직자      5.43   6.44     3.83        -\n",
       "Production & Engineering 퇴사자      4.66   4.95     3.77        -\n",
       "                         재직자      5.68   6.70     4.41     3.28\n",
       "Sales & Marketing        퇴사자      4.83   4.96     4.45     1.17\n",
       "                         재직자      5.06   5.84     3.51     2.22"
      ]
     },
     "execution_count": 1,
     "metadata": {},
     "output_type": "execute_result"
    }
   ],
   "source": [
    "import pandas as pd\n",
    "import numpy as np\n",
    "import plotly.graph_objects as go\n",
    "import plotly.io as pio\n",
    "import plotly.express as px\n",
    "\n",
    "# --- 1. 데이터 임포트 ---\n",
    "from services.tables.HR_Core.basic_info_table import emp_df\n",
    "from services.tables.HR_Core.job_info_table import job_info_df\n",
    "from services.tables.HR_Core.department_info_table import department_info_df\n",
    "from services.tables.HR_Core.job_table import job_df, job_df_indexed, parent_map_job, job_l1_order\n",
    "from services.tables.HR_Core.department_table import division_order, dept_level_map, parent_map_dept, dept_name_map\n",
    "from services.tables.HR_Core.position_info_table import position_info_df\n",
    "from services.tables.HR_Core.position_table import position_df, position_order\n",
    "from services.helpers.utils import get_level1_ancestor, find_division_name_for_dept\n",
    "\n",
    "def create_figure_and_df():\n",
    "    \"\"\"\n",
    "    제안 8-3: 직무별 인력 유지 현황 분석 (입사 시점 직위별 필터) 그래프 및 피벗 테이블을 생성합니다.\n",
    "    \"\"\"\n",
    "    # --- 2. 데이터 준비 및 가공 ---\n",
    "    emp_base_df = emp_df[['EMP_ID', 'CURRENT_EMP_YN', 'DURATION']].copy()\n",
    "    emp_base_df['TENURE_YEARS'] = emp_base_df['DURATION'] / 365.25\n",
    "\n",
    "    last_job = job_info_df.sort_values('JOB_APP_START_DATE').groupby('EMP_ID').last()\n",
    "    job_l1_map = job_df[job_df['JOB_LEVEL'] == 1].set_index('JOB_ID')['JOB_NAME'].to_dict()\n",
    "    last_job['JOB_CATEGORY'] = last_job['JOB_ID'].apply(lambda x: job_l1_map.get(get_level1_ancestor(x, job_df_indexed, parent_map_job)))\n",
    "    \n",
    "    first_pos = position_info_df.sort_values('GRADE_START_DATE').groupby('EMP_ID').first().reset_index()\n",
    "    first_pos = pd.merge(first_pos, position_df[['POSITION_ID', 'POSITION_NAME']].drop_duplicates(), on='POSITION_ID')\n",
    "\n",
    "    analysis_df = pd.merge(emp_base_df, last_job[['JOB_CATEGORY']], on='EMP_ID', how='left')\n",
    "    analysis_df = pd.merge(analysis_df, first_pos[['EMP_ID', 'POSITION_NAME']], on='EMP_ID', how='left')\n",
    "    analysis_df['STATUS'] = np.where(analysis_df['CURRENT_EMP_YN'] == 'Y', '재직자', '퇴사자')\n",
    "    \n",
    "    overall_analysis_df = analysis_df.dropna(subset=['JOB_CATEGORY'])\n",
    "    overall_summary = overall_analysis_df.groupby(['JOB_CATEGORY', 'STATUS'], observed=False).agg(\n",
    "        AVG_TENURE=('TENURE_YEARS', 'mean'), HEADCOUNT=('EMP_ID', 'nunique')\n",
    "    ).unstack(level='STATUS').fillna(0)\n",
    "    overall_summary.columns = [f'{val}_{stat}' for val, stat in overall_summary.columns]\n",
    "    overall_summary = overall_summary.reset_index()\n",
    "\n",
    "    analysis_df_pos = analysis_df.dropna(subset=['POSITION_NAME'])\n",
    "    summary_df = analysis_df_pos.groupby(['POSITION_NAME', 'JOB_CATEGORY', 'STATUS'], observed=False).agg(\n",
    "        AVG_TENURE=('TENURE_YEARS', 'mean'), HEADCOUNT=('EMP_ID', 'nunique')\n",
    "    ).unstack(level='STATUS').fillna(0)\n",
    "    summary_df.columns = [f'{val}_{stat}' for val, stat in summary_df.columns]\n",
    "    summary_df = summary_df.reset_index()\n",
    "    \n",
    "    x_max_values = pd.concat([summary_df['AVG_TENURE_재직자'], summary_df['AVG_TENURE_퇴사자'], overall_summary['AVG_TENURE_재직자'], overall_summary['AVG_TENURE_퇴사자']])\n",
    "    x_max = x_max_values.max() if not x_max_values.empty else 10\n",
    "    fixed_x_range = [0, x_max * 1.15]\n",
    "\n",
    "    # --- 3. Plotly 인터랙티브 그래프 생성 ---\n",
    "    # (그래프 생성 코드는 이전과 동일)\n",
    "    fig = go.Figure()\n",
    "    position_filter_list = ['전체'] + [p for p in position_order if p != 'C-Level']\n",
    "    for i, pos_name in enumerate(position_filter_list):\n",
    "        is_visible = (i == 0)\n",
    "        if pos_name == '전체':\n",
    "            df_grouped = overall_summary\n",
    "        else:\n",
    "            df_grouped = summary_df[summary_df['POSITION_NAME'] == pos_name]\n",
    "        fig.add_trace(go.Bar(y=df_grouped['JOB_CATEGORY'], x=df_grouped['AVG_TENURE_재직자'], name='재직자', orientation='h', visible=is_visible, customdata=df_grouped['HEADCOUNT_재직자'], text=df_grouped['AVG_TENURE_재직자'].round(2), textposition='outside', hovertemplate='평균 재직기간: %{x:.2f}년<br>인원: %{customdata}명<extra></extra>'))\n",
    "        fig.add_trace(go.Bar(y=df_grouped['JOB_CATEGORY'], x=df_grouped['AVG_TENURE_퇴사자'], name='퇴사자', orientation='h', visible=is_visible, customdata=df_grouped['HEADCOUNT_퇴사자'], text=df_grouped['AVG_TENURE_퇴사자'].round(2), textposition='outside', hovertemplate='평균 재직기간: %{x:.2f}년<br>인원: %{customdata}명<extra></extra>'))\n",
    "    buttons = []\n",
    "    for i, pos_name in enumerate(position_filter_list):\n",
    "        visibility_mask = [False] * (len(position_filter_list) * 2)\n",
    "        visibility_mask[i*2], visibility_mask[i*2 + 1] = True, True\n",
    "        buttons.append(dict(label=pos_name, method='update', args=[{'visible': visibility_mask}]))\n",
    "    fig.update_layout(\n",
    "        updatemenus=[dict(active=0, buttons=buttons, direction=\"down\", pad={\"r\": 10, \"t\": 10}, showactive=True, x=0.01, xanchor=\"left\", y=1.1, yanchor=\"top\")],\n",
    "        title_text='직무별 평균 재직기간 비교 (재직자 vs 퇴사자)', xaxis_title='평균 재직 기간 (년)', font_size=14, height=700,\n",
    "        barmode='group', legend_title_text='상태',\n",
    "        annotations=[dict(text=\"입사 시점 직위 선택:\", showarrow=False, x=0, y=1.08, yref=\"paper\", align=\"left\")],\n",
    "        xaxis_range=fixed_x_range,\n",
    "        yaxis=dict(title='마지막 직무 대분류', categoryorder='array', categoryarray=job_l1_order[::-1])\n",
    "    )\n",
    "    \n",
    "    # --- 수정된 부분: aggregate_df 생성 ---\n",
    "    # 1. 피벗 테이블 생성\n",
    "    analysis_df['STATUS'] = pd.Categorical(analysis_df['STATUS'], categories=['퇴사자', '재직자'], ordered=True)\n",
    "    aggregate_df = analysis_df.pivot_table(\n",
    "        index=['JOB_CATEGORY', 'STATUS'],\n",
    "        columns='POSITION_NAME',\n",
    "        values='TENURE_YEARS',\n",
    "        aggfunc='mean',\n",
    "        observed=False\n",
    "    )\n",
    "    \n",
    "    # 2. '전체 평균' 컬럼 추가\n",
    "    aggregate_df['전체 평균'] = analysis_df.groupby(['JOB_CATEGORY', 'STATUS'], observed=False)['TENURE_YEARS'].mean()\n",
    "    \n",
    "    # 3. 컬럼 순서 재배치 및 포맷팅\n",
    "    cols = ['전체 평균'] + [col for col in position_order if col in aggregate_df.columns]\n",
    "    aggregate_df = aggregate_df[cols].round(2).fillna('-')\n",
    "    # --- 수정 완료 ---\n",
    "    \n",
    "    return fig, aggregate_df\n",
    "\n",
    "# --- 실행 코드 ---\n",
    "pio.renderers.default = 'vscode'\n",
    "fig, aggregate_df = create_figure_and_df()\n",
    "fig.show()\n",
    "\n",
    "print(\"\\n--- Aggregate DataFrame ---\")\n",
    "aggregate_df"
   ]
  },
  {
   "cell_type": "code",
   "execution_count": null,
   "id": "8d9679c9",
   "metadata": {},
   "outputs": [],
   "source": []
  }
 ],
 "metadata": {
  "kernelspec": {
   "display_name": "Python 3 (ipykernel)",
   "language": "python",
   "name": "python3"
  },
  "language_info": {
   "codemirror_mode": {
    "name": "ipython",
    "version": 3
   },
   "file_extension": ".py",
   "mimetype": "text/x-python",
   "name": "python",
   "nbconvert_exporter": "python",
   "pygments_lexer": "ipython3",
   "version": "3.12.11"
  }
 },
 "nbformat": 4,
 "nbformat_minor": 5
}
