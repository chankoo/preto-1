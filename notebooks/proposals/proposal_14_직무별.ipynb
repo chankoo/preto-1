{
 "cells": [
  {
   "cell_type": "code",
   "execution_count": 1,
   "id": "347806cb",
   "metadata": {},
   "outputs": [
    {
     "name": "stderr",
     "output_type": "stream",
     "text": [
      "/app/src/services/tables/Time_Attendance/detailed_working_info_table.py:79: FutureWarning: Downcasting object dtype arrays on .fillna, .ffill, .bfill is deprecated and will change in a future version. Call result.infer_objects(copy=False) instead. To opt-in to the future behavior, set `pd.set_option('future.no_silent_downcasting', True)`\n",
      "  df['IS_VACATION'] = df['IS_VACATION'].fillna(False).astype(bool)\n"
     ]
    },
    {
     "data": {
      "application/vnd.plotly.v1+json": {
       "config": {
        "plotlyServerURL": "https://plot.ly"
       },
       "data": [
        {
         "marker": {
          "color": "#636EFA"
         },
         "name": "Staff",
         "text": [
          "0.66%",
          "0.64%",
          "0.65%",
          "0.8%",
          "0.6%"
         ],
         "textposition": "outside",
         "type": "bar",
         "x": [
          "IT",
          "Management Support",
          "Planning",
          "Production & Engineering",
          "Sales & Marketing"
         ],
         "y": {
          "bdata": "5oHb0XRF5T+WlELm31zkP5fs34wcqeQ/p6Z9GMe26T+JVlRQkxjjPw==",
          "dtype": "f8"
         }
        },
        {
         "marker": {
          "color": "#EF553B"
         },
         "name": "Manager",
         "text": [
          "0.41%",
          "0.29%",
          "0.51%",
          "0.43%",
          "0.43%"
         ],
         "textposition": "outside",
         "type": "bar",
         "x": [
          "IT",
          "Management Support",
          "Planning",
          "Production & Engineering",
          "Sales & Marketing"
         ],
         "y": {
          "bdata": "7AO9LST/2T9eEj6PSl3SP15Uh6VFKeA/so2Zt8pn2z9zofP4Hz7bPw==",
          "dtype": "f8"
         }
        },
        {
         "marker": {
          "color": "#00CC96"
         },
         "name": "Director",
         "text": [
          "0.32%",
          "0.14%",
          "0.35%",
          "0.23%",
          "0.13%"
         ],
         "textposition": "outside",
         "type": "bar",
         "x": [
          "IT",
          "Management Support",
          "Planning",
          "Production & Engineering",
          "Sales & Marketing"
         ],
         "y": {
          "bdata": "7wMoN5Gl1D/yLBRfKx/CP+vIaQGdZ9Y/xINc64KpzT9h0qf/6DjBPw==",
          "dtype": "f8"
         }
        },
        {
         "marker": {
          "color": "#AB63FA"
         },
         "name": "C-Level",
         "text": [
          "0.0%"
         ],
         "textposition": "outside",
         "type": "bar",
         "x": [
          "IT"
         ],
         "y": {
          "bdata": "AAAAAAAAAAA=",
          "dtype": "f8"
         }
        },
        {
         "marker": {
          "color": "#636EFA"
         },
         "name": "Staff",
         "text": [
          "0.65%",
          "0.53%",
          "0.9%"
         ],
         "textposition": "outside",
         "type": "bar",
         "visible": false,
         "x": [
          "Data Scientist",
          "Infrastructure",
          "SW Developer"
         ],
         "y": {
          "bdata": "sotXBCqy5D8FvC2xTfDgP+aK0On87+w/",
          "dtype": "f8"
         }
        },
        {
         "marker": {
          "color": "#EF553B"
         },
         "name": "Manager",
         "text": [
          "0.43%",
          "0.0%",
          "0.31%"
         ],
         "textposition": "outside",
         "type": "bar",
         "visible": false,
         "x": [
          "Data Scientist",
          "Infrastructure",
          "SW Developer"
         ],
         "y": {
          "bdata": "/0iteBCD2z8AAAAAAAAAAEDD0JelrtM/",
          "dtype": "f8"
         }
        },
        {
         "marker": {
          "color": "#00CC96"
         },
         "name": "Director",
         "text": [
          "0.29%",
          "0.54%"
         ],
         "textposition": "outside",
         "type": "bar",
         "visible": false,
         "x": [
          "Data Scientist",
          "SW Developer"
         ],
         "y": {
          "bdata": "HOZKmqhY0j+x3NMIyz3hPw==",
          "dtype": "f8"
         }
        },
        {
         "marker": {
          "color": "#AB63FA"
         },
         "name": "C-Level",
         "text": [
          "0.0%"
         ],
         "textposition": "outside",
         "type": "bar",
         "visible": false,
         "x": [
          "Data Scientist"
         ],
         "y": {
          "bdata": "AAAAAAAAAAA=",
          "dtype": "f8"
         }
        },
        {
         "marker": {
          "color": "#636EFA"
         },
         "name": "Staff",
         "text": [
          "0.57%",
          "0.86%"
         ],
         "textposition": "outside",
         "type": "bar",
         "visible": false,
         "x": [
          "Finance",
          "HR"
         ],
         "y": {
          "bdata": "VEVuuv1a4j8aYbmnEZbrPw==",
          "dtype": "f8"
         }
        },
        {
         "marker": {
          "color": "#EF553B"
         },
         "name": "Manager",
         "text": [
          "0.22%",
          "0.35%"
         ],
         "textposition": "outside",
         "type": "bar",
         "visible": false,
         "x": [
          "Finance",
          "HR"
         ],
         "y": {
          "bdata": "pMASJrJpzD9JLmgLVpHWPw==",
          "dtype": "f8"
         }
        },
        {
         "marker": {
          "color": "#00CC96"
         },
         "name": "Director",
         "text": [
          "0.25%",
          "0.0%"
         ],
         "textposition": "outside",
         "type": "bar",
         "visible": false,
         "x": [
          "Finance",
          "HR"
         ],
         "y": {
          "bdata": "YRRwaD7Xzz8AAAAAAAAAAA==",
          "dtype": "f8"
         }
        },
        {
         "marker": {
          "color": "#AB63FA"
         },
         "name": "C-Level",
         "text": [],
         "textposition": "outside",
         "type": "bar",
         "visible": false,
         "x": [],
         "y": []
        },
        {
         "marker": {
          "color": "#636EFA"
         },
         "name": "Staff",
         "text": [
          "0.65%"
         ],
         "textposition": "outside",
         "type": "bar",
         "visible": false,
         "x": [
          "Business Planning"
         ],
         "y": {
          "bdata": "l+zfjByp5D8=",
          "dtype": "f8"
         }
        },
        {
         "marker": {
          "color": "#EF553B"
         },
         "name": "Manager",
         "text": [
          "0.51%"
         ],
         "textposition": "outside",
         "type": "bar",
         "visible": false,
         "x": [
          "Business Planning"
         ],
         "y": {
          "bdata": "XlSHpUUp4D8=",
          "dtype": "f8"
         }
        },
        {
         "marker": {
          "color": "#00CC96"
         },
         "name": "Director",
         "text": [
          "0.35%"
         ],
         "textposition": "outside",
         "type": "bar",
         "visible": false,
         "x": [
          "Business Planning"
         ],
         "y": {
          "bdata": "68hpAZ1n1j8=",
          "dtype": "f8"
         }
        },
        {
         "marker": {
          "color": "#AB63FA"
         },
         "name": "C-Level",
         "text": [],
         "textposition": "outside",
         "type": "bar",
         "visible": false,
         "x": [],
         "y": []
        },
        {
         "marker": {
          "color": "#636EFA"
         },
         "name": "Staff",
         "text": [
          "0.64%",
          "1.07%"
         ],
         "textposition": "outside",
         "type": "bar",
         "visible": false,
         "x": [
          "Engineering",
          "Production Management"
         ],
         "y": {
          "bdata": "K/X0TQ2U5D9hQI3gfA7xPw==",
          "dtype": "f8"
         }
        },
        {
         "marker": {
          "color": "#EF553B"
         },
         "name": "Manager",
         "text": [
          "0.45%",
          "0.33%"
         ],
         "textposition": "outside",
         "type": "bar",
         "visible": false,
         "x": [
          "Engineering",
          "Production Management"
         ],
         "y": {
          "bdata": "lPHbpZ4M3T9s9k2jg1zVPw==",
          "dtype": "f8"
         }
        },
        {
         "marker": {
          "color": "#00CC96"
         },
         "name": "Director",
         "text": [
          "0.21%",
          "0.28%"
         ],
         "textposition": "outside",
         "type": "bar",
         "visible": false,
         "x": [
          "Engineering",
          "Production Management"
         ],
         "y": {
          "bdata": "bOnqofYmyz+gkfsZuZ/RPw==",
          "dtype": "f8"
         }
        },
        {
         "marker": {
          "color": "#AB63FA"
         },
         "name": "C-Level",
         "text": [],
         "textposition": "outside",
         "type": "bar",
         "visible": false,
         "x": [],
         "y": []
        },
        {
         "marker": {
          "color": "#636EFA"
         },
         "name": "Staff",
         "text": [
          "0.62%",
          "0.59%"
         ],
         "textposition": "outside",
         "type": "bar",
         "visible": false,
         "x": [
          "Marketing",
          "Sales"
         ],
         "y": {
          "bdata": "HSQbmjLE4z9mrWO9SujiPw==",
          "dtype": "f8"
         }
        },
        {
         "marker": {
          "color": "#EF553B"
         },
         "name": "Manager",
         "text": [
          "0.31%",
          "0.46%"
         ],
         "textposition": "outside",
         "type": "bar",
         "visible": false,
         "x": [
          "Marketing",
          "Sales"
         ],
         "y": {
          "bdata": "kcIAcszK0z/YT3xh4aXdPw==",
          "dtype": "f8"
         }
        },
        {
         "marker": {
          "color": "#00CC96"
         },
         "name": "Director",
         "text": [
          "0.16%",
          "0.13%"
         ],
         "textposition": "outside",
         "type": "bar",
         "visible": false,
         "x": [
          "Marketing",
          "Sales"
         ],
         "y": {
          "bdata": "XjAizc7YxD8ahAahQWjAPw==",
          "dtype": "f8"
         }
        },
        {
         "marker": {
          "color": "#AB63FA"
         },
         "name": "C-Level",
         "text": [],
         "textposition": "outside",
         "type": "bar",
         "visible": false,
         "x": [],
         "y": []
        }
       ],
       "layout": {
        "annotations": [
         {
          "align": "left",
          "showarrow": false,
          "text": "직무 선택:",
          "x": 0,
          "y": 1.08,
          "yref": "paper"
         }
        ],
        "barmode": "group",
        "font": {
         "size": 14
        },
        "height": 700,
        "legend": {
         "title": {
          "text": "직위"
         }
        },
        "template": {
         "data": {
          "bar": [
           {
            "error_x": {
             "color": "#2a3f5f"
            },
            "error_y": {
             "color": "#2a3f5f"
            },
            "marker": {
             "line": {
              "color": "#E5ECF6",
              "width": 0.5
             },
             "pattern": {
              "fillmode": "overlay",
              "size": 10,
              "solidity": 0.2
             }
            },
            "type": "bar"
           }
          ],
          "barpolar": [
           {
            "marker": {
             "line": {
              "color": "#E5ECF6",
              "width": 0.5
             },
             "pattern": {
              "fillmode": "overlay",
              "size": 10,
              "solidity": 0.2
             }
            },
            "type": "barpolar"
           }
          ],
          "carpet": [
           {
            "aaxis": {
             "endlinecolor": "#2a3f5f",
             "gridcolor": "white",
             "linecolor": "white",
             "minorgridcolor": "white",
             "startlinecolor": "#2a3f5f"
            },
            "baxis": {
             "endlinecolor": "#2a3f5f",
             "gridcolor": "white",
             "linecolor": "white",
             "minorgridcolor": "white",
             "startlinecolor": "#2a3f5f"
            },
            "type": "carpet"
           }
          ],
          "choropleth": [
           {
            "colorbar": {
             "outlinewidth": 0,
             "ticks": ""
            },
            "type": "choropleth"
           }
          ],
          "contour": [
           {
            "colorbar": {
             "outlinewidth": 0,
             "ticks": ""
            },
            "colorscale": [
             [
              0,
              "#0d0887"
             ],
             [
              0.1111111111111111,
              "#46039f"
             ],
             [
              0.2222222222222222,
              "#7201a8"
             ],
             [
              0.3333333333333333,
              "#9c179e"
             ],
             [
              0.4444444444444444,
              "#bd3786"
             ],
             [
              0.5555555555555556,
              "#d8576b"
             ],
             [
              0.6666666666666666,
              "#ed7953"
             ],
             [
              0.7777777777777778,
              "#fb9f3a"
             ],
             [
              0.8888888888888888,
              "#fdca26"
             ],
             [
              1,
              "#f0f921"
             ]
            ],
            "type": "contour"
           }
          ],
          "contourcarpet": [
           {
            "colorbar": {
             "outlinewidth": 0,
             "ticks": ""
            },
            "type": "contourcarpet"
           }
          ],
          "heatmap": [
           {
            "colorbar": {
             "outlinewidth": 0,
             "ticks": ""
            },
            "colorscale": [
             [
              0,
              "#0d0887"
             ],
             [
              0.1111111111111111,
              "#46039f"
             ],
             [
              0.2222222222222222,
              "#7201a8"
             ],
             [
              0.3333333333333333,
              "#9c179e"
             ],
             [
              0.4444444444444444,
              "#bd3786"
             ],
             [
              0.5555555555555556,
              "#d8576b"
             ],
             [
              0.6666666666666666,
              "#ed7953"
             ],
             [
              0.7777777777777778,
              "#fb9f3a"
             ],
             [
              0.8888888888888888,
              "#fdca26"
             ],
             [
              1,
              "#f0f921"
             ]
            ],
            "type": "heatmap"
           }
          ],
          "histogram": [
           {
            "marker": {
             "pattern": {
              "fillmode": "overlay",
              "size": 10,
              "solidity": 0.2
             }
            },
            "type": "histogram"
           }
          ],
          "histogram2d": [
           {
            "colorbar": {
             "outlinewidth": 0,
             "ticks": ""
            },
            "colorscale": [
             [
              0,
              "#0d0887"
             ],
             [
              0.1111111111111111,
              "#46039f"
             ],
             [
              0.2222222222222222,
              "#7201a8"
             ],
             [
              0.3333333333333333,
              "#9c179e"
             ],
             [
              0.4444444444444444,
              "#bd3786"
             ],
             [
              0.5555555555555556,
              "#d8576b"
             ],
             [
              0.6666666666666666,
              "#ed7953"
             ],
             [
              0.7777777777777778,
              "#fb9f3a"
             ],
             [
              0.8888888888888888,
              "#fdca26"
             ],
             [
              1,
              "#f0f921"
             ]
            ],
            "type": "histogram2d"
           }
          ],
          "histogram2dcontour": [
           {
            "colorbar": {
             "outlinewidth": 0,
             "ticks": ""
            },
            "colorscale": [
             [
              0,
              "#0d0887"
             ],
             [
              0.1111111111111111,
              "#46039f"
             ],
             [
              0.2222222222222222,
              "#7201a8"
             ],
             [
              0.3333333333333333,
              "#9c179e"
             ],
             [
              0.4444444444444444,
              "#bd3786"
             ],
             [
              0.5555555555555556,
              "#d8576b"
             ],
             [
              0.6666666666666666,
              "#ed7953"
             ],
             [
              0.7777777777777778,
              "#fb9f3a"
             ],
             [
              0.8888888888888888,
              "#fdca26"
             ],
             [
              1,
              "#f0f921"
             ]
            ],
            "type": "histogram2dcontour"
           }
          ],
          "mesh3d": [
           {
            "colorbar": {
             "outlinewidth": 0,
             "ticks": ""
            },
            "type": "mesh3d"
           }
          ],
          "parcoords": [
           {
            "line": {
             "colorbar": {
              "outlinewidth": 0,
              "ticks": ""
             }
            },
            "type": "parcoords"
           }
          ],
          "pie": [
           {
            "automargin": true,
            "type": "pie"
           }
          ],
          "scatter": [
           {
            "fillpattern": {
             "fillmode": "overlay",
             "size": 10,
             "solidity": 0.2
            },
            "type": "scatter"
           }
          ],
          "scatter3d": [
           {
            "line": {
             "colorbar": {
              "outlinewidth": 0,
              "ticks": ""
             }
            },
            "marker": {
             "colorbar": {
              "outlinewidth": 0,
              "ticks": ""
             }
            },
            "type": "scatter3d"
           }
          ],
          "scattercarpet": [
           {
            "marker": {
             "colorbar": {
              "outlinewidth": 0,
              "ticks": ""
             }
            },
            "type": "scattercarpet"
           }
          ],
          "scattergeo": [
           {
            "marker": {
             "colorbar": {
              "outlinewidth": 0,
              "ticks": ""
             }
            },
            "type": "scattergeo"
           }
          ],
          "scattergl": [
           {
            "marker": {
             "colorbar": {
              "outlinewidth": 0,
              "ticks": ""
             }
            },
            "type": "scattergl"
           }
          ],
          "scattermap": [
           {
            "marker": {
             "colorbar": {
              "outlinewidth": 0,
              "ticks": ""
             }
            },
            "type": "scattermap"
           }
          ],
          "scattermapbox": [
           {
            "marker": {
             "colorbar": {
              "outlinewidth": 0,
              "ticks": ""
             }
            },
            "type": "scattermapbox"
           }
          ],
          "scatterpolar": [
           {
            "marker": {
             "colorbar": {
              "outlinewidth": 0,
              "ticks": ""
             }
            },
            "type": "scatterpolar"
           }
          ],
          "scatterpolargl": [
           {
            "marker": {
             "colorbar": {
              "outlinewidth": 0,
              "ticks": ""
             }
            },
            "type": "scatterpolargl"
           }
          ],
          "scatterternary": [
           {
            "marker": {
             "colorbar": {
              "outlinewidth": 0,
              "ticks": ""
             }
            },
            "type": "scatterternary"
           }
          ],
          "surface": [
           {
            "colorbar": {
             "outlinewidth": 0,
             "ticks": ""
            },
            "colorscale": [
             [
              0,
              "#0d0887"
             ],
             [
              0.1111111111111111,
              "#46039f"
             ],
             [
              0.2222222222222222,
              "#7201a8"
             ],
             [
              0.3333333333333333,
              "#9c179e"
             ],
             [
              0.4444444444444444,
              "#bd3786"
             ],
             [
              0.5555555555555556,
              "#d8576b"
             ],
             [
              0.6666666666666666,
              "#ed7953"
             ],
             [
              0.7777777777777778,
              "#fb9f3a"
             ],
             [
              0.8888888888888888,
              "#fdca26"
             ],
             [
              1,
              "#f0f921"
             ]
            ],
            "type": "surface"
           }
          ],
          "table": [
           {
            "cells": {
             "fill": {
              "color": "#EBF0F8"
             },
             "line": {
              "color": "white"
             }
            },
            "header": {
             "fill": {
              "color": "#C8D4E3"
             },
             "line": {
              "color": "white"
             }
            },
            "type": "table"
           }
          ]
         },
         "layout": {
          "annotationdefaults": {
           "arrowcolor": "#2a3f5f",
           "arrowhead": 0,
           "arrowwidth": 1
          },
          "autotypenumbers": "strict",
          "coloraxis": {
           "colorbar": {
            "outlinewidth": 0,
            "ticks": ""
           }
          },
          "colorscale": {
           "diverging": [
            [
             0,
             "#8e0152"
            ],
            [
             0.1,
             "#c51b7d"
            ],
            [
             0.2,
             "#de77ae"
            ],
            [
             0.3,
             "#f1b6da"
            ],
            [
             0.4,
             "#fde0ef"
            ],
            [
             0.5,
             "#f7f7f7"
            ],
            [
             0.6,
             "#e6f5d0"
            ],
            [
             0.7,
             "#b8e186"
            ],
            [
             0.8,
             "#7fbc41"
            ],
            [
             0.9,
             "#4d9221"
            ],
            [
             1,
             "#276419"
            ]
           ],
           "sequential": [
            [
             0,
             "#0d0887"
            ],
            [
             0.1111111111111111,
             "#46039f"
            ],
            [
             0.2222222222222222,
             "#7201a8"
            ],
            [
             0.3333333333333333,
             "#9c179e"
            ],
            [
             0.4444444444444444,
             "#bd3786"
            ],
            [
             0.5555555555555556,
             "#d8576b"
            ],
            [
             0.6666666666666666,
             "#ed7953"
            ],
            [
             0.7777777777777778,
             "#fb9f3a"
            ],
            [
             0.8888888888888888,
             "#fdca26"
            ],
            [
             1,
             "#f0f921"
            ]
           ],
           "sequentialminus": [
            [
             0,
             "#0d0887"
            ],
            [
             0.1111111111111111,
             "#46039f"
            ],
            [
             0.2222222222222222,
             "#7201a8"
            ],
            [
             0.3333333333333333,
             "#9c179e"
            ],
            [
             0.4444444444444444,
             "#bd3786"
            ],
            [
             0.5555555555555556,
             "#d8576b"
            ],
            [
             0.6666666666666666,
             "#ed7953"
            ],
            [
             0.7777777777777778,
             "#fb9f3a"
            ],
            [
             0.8888888888888888,
             "#fdca26"
            ],
            [
             1,
             "#f0f921"
            ]
           ]
          },
          "colorway": [
           "#636efa",
           "#EF553B",
           "#00cc96",
           "#ab63fa",
           "#FFA15A",
           "#19d3f3",
           "#FF6692",
           "#B6E880",
           "#FF97FF",
           "#FECB52"
          ],
          "font": {
           "color": "#2a3f5f"
          },
          "geo": {
           "bgcolor": "white",
           "lakecolor": "white",
           "landcolor": "#E5ECF6",
           "showlakes": true,
           "showland": true,
           "subunitcolor": "white"
          },
          "hoverlabel": {
           "align": "left"
          },
          "hovermode": "closest",
          "mapbox": {
           "style": "light"
          },
          "paper_bgcolor": "white",
          "plot_bgcolor": "#E5ECF6",
          "polar": {
           "angularaxis": {
            "gridcolor": "white",
            "linecolor": "white",
            "ticks": ""
           },
           "bgcolor": "#E5ECF6",
           "radialaxis": {
            "gridcolor": "white",
            "linecolor": "white",
            "ticks": ""
           }
          },
          "scene": {
           "xaxis": {
            "backgroundcolor": "#E5ECF6",
            "gridcolor": "white",
            "gridwidth": 2,
            "linecolor": "white",
            "showbackground": true,
            "ticks": "",
            "zerolinecolor": "white"
           },
           "yaxis": {
            "backgroundcolor": "#E5ECF6",
            "gridcolor": "white",
            "gridwidth": 2,
            "linecolor": "white",
            "showbackground": true,
            "ticks": "",
            "zerolinecolor": "white"
           },
           "zaxis": {
            "backgroundcolor": "#E5ECF6",
            "gridcolor": "white",
            "gridwidth": 2,
            "linecolor": "white",
            "showbackground": true,
            "ticks": "",
            "zerolinecolor": "white"
           }
          },
          "shapedefaults": {
           "line": {
            "color": "#2a3f5f"
           }
          },
          "ternary": {
           "aaxis": {
            "gridcolor": "white",
            "linecolor": "white",
            "ticks": ""
           },
           "baxis": {
            "gridcolor": "white",
            "linecolor": "white",
            "ticks": ""
           },
           "bgcolor": "#E5ECF6",
           "caxis": {
            "gridcolor": "white",
            "linecolor": "white",
            "ticks": ""
           }
          },
          "title": {
           "x": 0.05
          },
          "xaxis": {
           "automargin": true,
           "gridcolor": "white",
           "linecolor": "white",
           "ticks": "",
           "title": {
            "standoff": 15
           },
           "zerolinecolor": "white",
           "zerolinewidth": 2
          },
          "yaxis": {
           "automargin": true,
           "gridcolor": "white",
           "linecolor": "white",
           "ticks": "",
           "title": {
            "standoff": 15
           },
           "zerolinecolor": "white",
           "zerolinewidth": 2
          }
         }
        },
        "title": {
         "text": "직무별/직위별 지각률(%) 분석"
        },
        "updatemenus": [
         {
          "active": 0,
          "buttons": [
           {
            "args": [
             {
              "visible": [
               true,
               true,
               true,
               true,
               false,
               false,
               false,
               false,
               false,
               false,
               false,
               false,
               false,
               false,
               false,
               false,
               false,
               false,
               false,
               false,
               false,
               false,
               false,
               false
              ]
             },
             {
              "title": "전체 직무별 지각률(%) 분석",
              "xaxis.title": "Job Level 1"
             }
            ],
            "label": "전체",
            "method": "update"
           },
           {
            "args": [
             {
              "visible": [
               false,
               false,
               false,
               false,
               true,
               true,
               true,
               true,
               false,
               false,
               false,
               false,
               false,
               false,
               false,
               false,
               false,
               false,
               false,
               false,
               false,
               false,
               false,
               false
              ]
             },
             {
              "title": "IT 내 직무별 지각률(%) 분석",
              "xaxis.title": "Job Level 2"
             }
            ],
            "label": "IT",
            "method": "update"
           },
           {
            "args": [
             {
              "visible": [
               false,
               false,
               false,
               false,
               false,
               false,
               false,
               false,
               true,
               true,
               true,
               true,
               false,
               false,
               false,
               false,
               false,
               false,
               false,
               false,
               false,
               false,
               false,
               false
              ]
             },
             {
              "title": "Management Support 내 직무별 지각률(%) 분석",
              "xaxis.title": "Job Level 2"
             }
            ],
            "label": "Management Support",
            "method": "update"
           },
           {
            "args": [
             {
              "visible": [
               false,
               false,
               false,
               false,
               false,
               false,
               false,
               false,
               false,
               false,
               false,
               false,
               true,
               true,
               true,
               true,
               false,
               false,
               false,
               false,
               false,
               false,
               false,
               false
              ]
             },
             {
              "title": "Planning 내 직무별 지각률(%) 분석",
              "xaxis.title": "Job Level 2"
             }
            ],
            "label": "Planning",
            "method": "update"
           },
           {
            "args": [
             {
              "visible": [
               false,
               false,
               false,
               false,
               false,
               false,
               false,
               false,
               false,
               false,
               false,
               false,
               false,
               false,
               false,
               false,
               true,
               true,
               true,
               true,
               false,
               false,
               false,
               false
              ]
             },
             {
              "title": "Production & Engineering 내 직무별 지각률(%) 분석",
              "xaxis.title": "Job Level 2"
             }
            ],
            "label": "Production & Engineering",
            "method": "update"
           },
           {
            "args": [
             {
              "visible": [
               false,
               false,
               false,
               false,
               false,
               false,
               false,
               false,
               false,
               false,
               false,
               false,
               false,
               false,
               false,
               false,
               false,
               false,
               false,
               false,
               true,
               true,
               true,
               true
              ]
             },
             {
              "title": "Sales & Marketing 내 직무별 지각률(%) 분석",
              "xaxis.title": "Job Level 2"
             }
            ],
            "label": "Sales & Marketing",
            "method": "update"
           }
          ],
          "direction": "down",
          "pad": {
           "r": 10,
           "t": 10
          },
          "showactive": true,
          "x": 0.01,
          "xanchor": "left",
          "y": 1.1,
          "yanchor": "top"
         }
        ],
        "yaxis": {
         "range": [
          0,
          1.279244473062889
         ],
         "ticksuffix": "%",
         "title": {
          "text": "지각률 (%)"
         }
        }
       }
      }
     },
     "metadata": {},
     "output_type": "display_data"
    },
    {
     "name": "stdout",
     "output_type": "stream",
     "text": [
      "\n",
      "--- Aggregate DataFrame ---\n"
     ]
    },
    {
     "data": {
      "text/html": [
       "<div>\n",
       "<style scoped>\n",
       "    .dataframe tbody tr th:only-of-type {\n",
       "        vertical-align: middle;\n",
       "    }\n",
       "\n",
       "    .dataframe tbody tr th {\n",
       "        vertical-align: top;\n",
       "    }\n",
       "\n",
       "    .dataframe thead th {\n",
       "        text-align: right;\n",
       "    }\n",
       "</style>\n",
       "<table border=\"1\" class=\"dataframe\">\n",
       "  <thead>\n",
       "    <tr style=\"text-align: right;\">\n",
       "      <th>JOB_L1_NAME</th>\n",
       "      <th>전체 평균</th>\n",
       "      <th>IT</th>\n",
       "      <th>Management Support</th>\n",
       "      <th>Planning</th>\n",
       "      <th>Production &amp; Engineering</th>\n",
       "      <th>Sales &amp; Marketing</th>\n",
       "    </tr>\n",
       "    <tr>\n",
       "      <th>POSITION_NAME</th>\n",
       "      <th></th>\n",
       "      <th></th>\n",
       "      <th></th>\n",
       "      <th></th>\n",
       "      <th></th>\n",
       "      <th></th>\n",
       "    </tr>\n",
       "  </thead>\n",
       "  <tbody>\n",
       "    <tr>\n",
       "      <th>Staff</th>\n",
       "      <td>0.66%</td>\n",
       "      <td>0.66%</td>\n",
       "      <td>0.64%</td>\n",
       "      <td>0.65%</td>\n",
       "      <td>0.80%</td>\n",
       "      <td>0.60%</td>\n",
       "    </tr>\n",
       "    <tr>\n",
       "      <th>Manager</th>\n",
       "      <td>0.43%</td>\n",
       "      <td>0.41%</td>\n",
       "      <td>0.29%</td>\n",
       "      <td>0.51%</td>\n",
       "      <td>0.43%</td>\n",
       "      <td>0.43%</td>\n",
       "    </tr>\n",
       "    <tr>\n",
       "      <th>Director</th>\n",
       "      <td>0.26%</td>\n",
       "      <td>0.32%</td>\n",
       "      <td>0.14%</td>\n",
       "      <td>0.35%</td>\n",
       "      <td>0.23%</td>\n",
       "      <td>0.13%</td>\n",
       "    </tr>\n",
       "    <tr>\n",
       "      <th>C-Level</th>\n",
       "      <td>0.00%</td>\n",
       "      <td>0.00%</td>\n",
       "      <td>-</td>\n",
       "      <td>-</td>\n",
       "      <td>-</td>\n",
       "      <td>-</td>\n",
       "    </tr>\n",
       "  </tbody>\n",
       "</table>\n",
       "</div>"
      ],
      "text/plain": [
       "JOB_L1_NAME    전체 평균     IT Management Support Planning  \\\n",
       "POSITION_NAME                                             \n",
       "Staff          0.66%  0.66%              0.64%    0.65%   \n",
       "Manager        0.43%  0.41%              0.29%    0.51%   \n",
       "Director       0.26%  0.32%              0.14%    0.35%   \n",
       "C-Level        0.00%  0.00%                  -        -   \n",
       "\n",
       "JOB_L1_NAME   Production & Engineering Sales & Marketing  \n",
       "POSITION_NAME                                             \n",
       "Staff                            0.80%             0.60%  \n",
       "Manager                          0.43%             0.43%  \n",
       "Director                         0.23%             0.13%  \n",
       "C-Level                              -                 -  "
      ]
     },
     "execution_count": 1,
     "metadata": {},
     "output_type": "execute_result"
    }
   ],
   "source": [
    "import pandas as pd\n",
    "import numpy as np\n",
    "import plotly.graph_objects as go\n",
    "import plotly.io as pio\n",
    "import plotly.express as px\n",
    "import datetime\n",
    "\n",
    "# --- 1. 데이터 임포트 ---\n",
    "from services.tables.Time_Attendance.detailed_working_info_table import detailed_work_info_df\n",
    "from services.tables.Time_Attendance.working_info_table import work_info_df\n",
    "from services.tables.HR_Core.department_info_table import department_info_df\n",
    "from services.tables.HR_Core.position_info_table import position_info_df\n",
    "from services.tables.HR_Core.position_table import position_df, position_order\n",
    "from services.tables.HR_Core.job_info_table import job_info_df\n",
    "from services.tables.HR_Core.job_table import job_df, job_df_indexed, parent_map_job, job_l1_order, job_l2_order\n",
    "from services.tables.HR_Core.department_table import dept_level_map, parent_map_dept, dept_name_map\n",
    "from services.helpers.utils import get_level1_ancestor, get_level2_ancestor, find_parents\n",
    "\n",
    "def create_figure_and_df():\n",
    "    \"\"\"\n",
    "    제안 14-2: 직무별/직위별 지각률(%) 분석 그래프 및 피벗 테이블을 생성합니다.\n",
    "    \"\"\"\n",
    "    # --- 2. 데이터 준비 및 가공 ---\n",
    "    work_records = detailed_work_info_df.copy()\n",
    "    work_records = work_records[~work_records['WORK_ETC'].isin(['휴가', '주말 휴무', '비번', '휴무'])]\n",
    "    work_records = work_records[work_records['DATE_START_TIME'] != '-']\n",
    "    normal_work_emp_ids = work_info_df[work_info_df['WORK_SYS_ID'] == 'WS001']['EMP_ID'].unique()\n",
    "    work_records = work_records[work_records['EMP_ID'].isin(normal_work_emp_ids)].copy()\n",
    "    work_records['DATE'] = pd.to_datetime(work_records['DATE'])\n",
    "    \n",
    "    pos_info_sorted = position_info_df.sort_values(['GRADE_START_DATE', 'EMP_ID'])\n",
    "    job_info_sorted = job_info_df.sort_values(['JOB_APP_START_DATE', 'EMP_ID'])\n",
    "    dept_info_sorted = department_info_df.sort_values(['DEP_APP_START_DATE', 'EMP_ID'])\n",
    "    analysis_df = work_records.sort_values(['DATE', 'EMP_ID'])\n",
    "    \n",
    "    analysis_df = pd.merge_asof(analysis_df, pos_info_sorted[['EMP_ID', 'GRADE_START_DATE', 'POSITION_ID']],left_on='DATE', right_on='GRADE_START_DATE', by='EMP_ID', direction='backward')\n",
    "    analysis_df = pd.merge_asof(analysis_df, job_info_sorted[['EMP_ID', 'JOB_APP_START_DATE', 'JOB_ID']],left_on='DATE', right_on='JOB_APP_START_DATE', by='EMP_ID', direction='backward')\n",
    "    analysis_df = pd.merge_asof(analysis_df, dept_info_sorted[['EMP_ID', 'DEP_APP_START_DATE', 'DEP_ID']],left_on='DATE', right_on='DEP_APP_START_DATE', by='EMP_ID', direction='backward')\n",
    "    \n",
    "    analysis_df = pd.merge(analysis_df, position_df[['POSITION_ID', 'POSITION_NAME']].drop_duplicates(), on='POSITION_ID', how='left')\n",
    "    job_name_map = job_df.set_index('JOB_ID')['JOB_NAME'].to_dict()\n",
    "    analysis_df['JOB_L1_NAME'] = analysis_df['JOB_ID'].apply(lambda x: job_name_map.get(get_level1_ancestor(x, job_df_indexed, parent_map_job)))\n",
    "    analysis_df['JOB_L2_NAME'] = analysis_df['JOB_ID'].apply(lambda x: job_name_map.get(get_level2_ancestor(x, job_df_indexed, parent_map_job)))\n",
    "    \n",
    "    parent_info = analysis_df['DEP_ID'].apply(lambda x: find_parents(x, dept_level_map, parent_map_dept, dept_name_map))\n",
    "    analysis_df = pd.concat([analysis_df, parent_info], axis=1)\n",
    "    \n",
    "    analysis_df = analysis_df.dropna(subset=['JOB_L1_NAME', 'JOB_L2_NAME', 'POSITION_NAME', 'OFFICE_NAME'])\n",
    "    \n",
    "    analysis_df['START_TIME_OBJ'] = pd.to_datetime(analysis_df['DATE_START_TIME'], format='%H:%M', errors='coerce').dt.time\n",
    "    gso_mask = analysis_df['OFFICE_NAME'] == 'Global Sales Office'\n",
    "    analysis_df.loc[gso_mask, 'IS_LATE'] = analysis_df.loc[gso_mask, 'START_TIME_OBJ'] > datetime.time(11, 0)\n",
    "    analysis_df.loc[~gso_mask, 'IS_LATE'] = analysis_df.loc[~gso_mask, 'START_TIME_OBJ'] > datetime.time(10, 0)\n",
    "    \n",
    "    total_days = analysis_df.groupby(['JOB_L1_NAME', 'JOB_L2_NAME', 'POSITION_NAME'], observed=False).size().reset_index(name='TOTAL_DAYS')\n",
    "    late_days = analysis_df[analysis_df['IS_LATE']].groupby(['JOB_L1_NAME', 'JOB_L2_NAME', 'POSITION_NAME'], observed=False).size().reset_index(name='LATE_DAYS')\n",
    "    lateness_df = pd.merge(total_days, late_days, on=['JOB_L1_NAME', 'JOB_L2_NAME', 'POSITION_NAME'], how='left').fillna(0)\n",
    "    lateness_df['LATENESS_RATE'] = (lateness_df['LATE_DAYS'] / lateness_df['TOTAL_DAYS']) * 100\n",
    "    \n",
    "    job_l1_lateness_df = lateness_df.groupby(['JOB_L1_NAME', 'POSITION_NAME'], observed=False).agg(TOTAL_DAYS=('TOTAL_DAYS', 'sum'), LATE_DAYS=('LATE_DAYS', 'sum')).reset_index()\n",
    "    job_l1_lateness_df['LATENESS_RATE'] = (job_l1_lateness_df['LATE_DAYS'] / job_l1_lateness_df['TOTAL_DAYS']) * 100\n",
    "\n",
    "    # --- 3. Plotly 인터랙티브 그래프 생성 ---\n",
    "    # (그래프 생성 코드는 이전과 동일)\n",
    "    y_max = pd.concat([job_l1_lateness_df['LATENESS_RATE'], lateness_df['LATENESS_RATE']]).max()\n",
    "    fixed_y_range = [0, y_max * 1.2] if y_max > 0 else [0, 10]\n",
    "    fig = go.Figure()\n",
    "    colors = px.colors.qualitative.Plotly\n",
    "    for i, pos_name in enumerate(position_order):\n",
    "        df_filtered = job_l1_lateness_df[job_l1_lateness_df['POSITION_NAME'] == pos_name]\n",
    "        fig.add_trace(go.Bar(x=df_filtered['JOB_L1_NAME'], y=df_filtered['LATENESS_RATE'], name=pos_name, marker_color=colors[i], text=df_filtered['LATENESS_RATE'].round(2).astype(str) + '%', textposition='outside'))\n",
    "    job_l2_traces_map = {}\n",
    "    trace_idx_counter = len(fig.data)\n",
    "    for job_l1_name in job_l1_order:\n",
    "        job_l1_df = lateness_df[lateness_df['JOB_L1_NAME'] == job_l1_name]\n",
    "        job_l2_traces_map[job_l1_name] = []\n",
    "        for j, pos_name in enumerate(position_order):\n",
    "            df_filtered = job_l1_df[job_l1_df['POSITION_NAME'] == pos_name]\n",
    "            fig.add_trace(go.Bar(x=df_filtered['JOB_L2_NAME'], y=df_filtered['LATENESS_RATE'], name=pos_name, visible=False, marker_color=colors[j], text=df_filtered['LATENESS_RATE'].round(2).astype(str) + '%', textposition='outside'))\n",
    "            job_l2_traces_map[job_l1_name].append(trace_idx_counter)\n",
    "            trace_idx_counter += 1\n",
    "    buttons = []\n",
    "    buttons.append(dict(label='전체', method='update', args=[{'visible': [True]*len(position_order) + [False]*(len(fig.data)-len(position_order))}, {'title': '전체 직무별 지각률(%) 분석', 'xaxis.title': 'Job Level 1'}]))\n",
    "    for job_l1_name in job_l1_order:\n",
    "        visibility_mask = [False] * len(fig.data)\n",
    "        for trace_idx in job_l2_traces_map.get(job_l1_name, []):\n",
    "            visibility_mask[trace_idx] = True\n",
    "        buttons.append(dict(label=f'{job_l1_name}', method='update', args=[{'visible': visibility_mask}, {'title': f'{job_l1_name} 내 직무별 지각률(%) 분석', 'xaxis.title': 'Job Level 2'}]))\n",
    "    fig.update_layout(\n",
    "        updatemenus=[dict(active=0, buttons=buttons, direction=\"down\", pad={\"r\": 10, \"t\": 10}, showactive=True, x=0.01, xanchor=\"left\", y=1.1, yanchor=\"top\")],\n",
    "        title_text='직무별/직위별 지각률(%) 분석', yaxis_title='지각률 (%)', font_size=14, height=700,\n",
    "        barmode='group', legend_title_text='직위',\n",
    "        annotations=[dict(text=\"직무 선택:\", showarrow=False, x=0, y=1.08, yref=\"paper\", align=\"left\")],\n",
    "        yaxis=dict(ticksuffix=\"%\", range=fixed_y_range)\n",
    "    )\n",
    "    \n",
    "    # --- 수정된 부분: aggregate_df 생성 ---\n",
    "    # 1. 피벗 테이블 생성\n",
    "    aggregate_df = job_l1_lateness_df.pivot_table(\n",
    "        index='POSITION_NAME',\n",
    "        columns='JOB_L1_NAME',\n",
    "        values='LATENESS_RATE',\n",
    "        observed=False\n",
    "    )\n",
    "    \n",
    "    # 2. '전체 평균' 컬럼 추가\n",
    "    overall_summary = analysis_df.groupby('POSITION_NAME', observed=False).agg(\n",
    "        TOTAL_DAYS=('EMP_ID', 'count'),\n",
    "        LATE_DAYS=('IS_LATE', 'sum')\n",
    "    )\n",
    "    overall_summary['OVERALL_AVG_RATE'] = (overall_summary['LATE_DAYS'] / overall_summary['TOTAL_DAYS']) * 100\n",
    "    aggregate_df['전체 평균'] = overall_summary['OVERALL_AVG_RATE']\n",
    "    \n",
    "    # 3. 컬럼/행 순서 재배치 및 포맷팅\n",
    "    cols = ['전체 평균'] + [col for col in job_l1_order if col in aggregate_df.columns]\n",
    "    aggregate_df = aggregate_df[cols]\n",
    "    aggregate_df = aggregate_df.reindex(position_order)\n",
    "    \n",
    "    for col in aggregate_df.columns:\n",
    "        aggregate_df[col] = aggregate_df[col].apply(lambda x: f\"{x:.2f}%\" if pd.notna(x) else '-')\n",
    "    # --- 수정 완료 ---\n",
    "    \n",
    "    return fig, aggregate_df\n",
    "\n",
    "# --- 실행 코드 ---\n",
    "pio.renderers.default = 'vscode'\n",
    "fig, aggregate_df = create_figure_and_df()\n",
    "fig.show()\n",
    "\n",
    "print(\"\\n--- Aggregate DataFrame ---\")\n",
    "aggregate_df"
   ]
  },
  {
   "cell_type": "code",
   "execution_count": null,
   "id": "5ad7b430",
   "metadata": {},
   "outputs": [],
   "source": []
  }
 ],
 "metadata": {
  "kernelspec": {
   "display_name": "Python 3 (ipykernel)",
   "language": "python",
   "name": "python3"
  },
  "language_info": {
   "codemirror_mode": {
    "name": "ipython",
    "version": 3
   },
   "file_extension": ".py",
   "mimetype": "text/x-python",
   "name": "python",
   "nbconvert_exporter": "python",
   "pygments_lexer": "ipython3",
   "version": "3.12.11"
  }
 },
 "nbformat": 4,
 "nbformat_minor": 5
}
