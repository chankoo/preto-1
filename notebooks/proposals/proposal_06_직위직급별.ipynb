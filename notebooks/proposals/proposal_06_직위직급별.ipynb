{
 "cells": [
  {
   "cell_type": "code",
   "execution_count": 3,
   "id": "509a912a",
   "metadata": {},
   "outputs": [
    {
     "data": {
      "application/vnd.plotly.v1+json": {
       "config": {
        "plotlyServerURL": "https://plot.ly"
       },
       "data": [
        {
         "colorscale": [
          [
           0,
           "rgb(247,251,255)"
          ],
          [
           0.125,
           "rgb(222,235,247)"
          ],
          [
           0.25,
           "rgb(198,219,239)"
          ],
          [
           0.375,
           "rgb(158,202,225)"
          ],
          [
           0.5,
           "rgb(107,174,214)"
          ],
          [
           0.625,
           "rgb(66,146,198)"
          ],
          [
           0.75,
           "rgb(33,113,181)"
          ],
          [
           0.875,
           "rgb(8,81,156)"
          ],
          [
           1,
           "rgb(8,48,107)"
          ]
         ],
         "connectgaps": false,
         "showscale": false,
         "text": [
          [
           "100%",
           "93%",
           "89%",
           "85%",
           "81%",
           "74%",
           "67%",
           "56%",
           "48%",
           "37%",
           "30%",
           "26%",
           "26%",
           "26%",
           "19%"
          ],
          [
           "100%",
           "85%",
           "80%",
           "79%",
           "75%",
           "69%",
           "61%",
           "56%",
           "51%",
           "49%",
           "44%",
           "38%",
           "34%",
           "28%",
           ""
          ],
          [
           "100%",
           "98%",
           "89%",
           "85%",
           "66%",
           "61%",
           "55%",
           "46%",
           "41%",
           "28%",
           "24%",
           "20%",
           "14%",
           "",
           ""
          ],
          [
           "100%",
           "92%",
           "89%",
           "79%",
           "68%",
           "62%",
           "56%",
           "52%",
           "50%",
           "42%",
           "42%",
           "33%",
           "",
           "",
           ""
          ],
          [
           "100%",
           "93%",
           "86%",
           "83%",
           "75%",
           "63%",
           "49%",
           "41%",
           "36%",
           "27%",
           "24%",
           "",
           "",
           "",
           ""
          ],
          [
           "100%",
           "90%",
           "86%",
           "79%",
           "77%",
           "73%",
           "64%",
           "56%",
           "43%",
           "37%",
           "",
           "",
           "",
           "",
           ""
          ],
          [
           "100%",
           "97%",
           "90%",
           "79%",
           "70%",
           "66%",
           "64%",
           "57%",
           "47%",
           "",
           "",
           "",
           "",
           "",
           ""
          ],
          [
           "100%",
           "99%",
           "94%",
           "90%",
           "81%",
           "74%",
           "63%",
           "57%",
           "",
           "",
           "",
           "",
           "",
           "",
           ""
          ],
          [
           "100%",
           "93%",
           "91%",
           "85%",
           "82%",
           "80%",
           "69%",
           "",
           "",
           "",
           "",
           "",
           "",
           "",
           ""
          ],
          [
           "100%",
           "99%",
           "87%",
           "77%",
           "71%",
           "65%",
           "",
           "",
           "",
           "",
           "",
           "",
           "",
           "",
           ""
          ],
          [
           "100%",
           "96%",
           "93%",
           "79%",
           "71%",
           "",
           "",
           "",
           "",
           "",
           "",
           "",
           "",
           "",
           ""
          ],
          [
           "100%",
           "95%",
           "92%",
           "88%",
           "",
           "",
           "",
           "",
           "",
           "",
           "",
           "",
           "",
           "",
           ""
          ],
          [
           "100%",
           "86%",
           "79%",
           "",
           "",
           "",
           "",
           "",
           "",
           "",
           "",
           "",
           "",
           "",
           ""
          ],
          [
           "100%",
           "91%",
           "",
           "",
           "",
           "",
           "",
           "",
           "",
           "",
           "",
           "",
           "",
           "",
           ""
          ],
          [
           "100%",
           "",
           "",
           "",
           "",
           "",
           "",
           "",
           "",
           "",
           "",
           "",
           "",
           "",
           ""
          ],
          [
           "",
           "",
           "",
           "",
           "",
           "",
           "",
           "",
           "",
           "",
           "",
           "",
           "",
           "",
           ""
          ]
         ],
         "texttemplate": "%{text}",
         "type": "heatmap",
         "visible": true,
         "x": [
          "0년차",
          "1년차",
          "2년차",
          "3년차",
          "4년차",
          "5년차",
          "6년차",
          "7년차",
          "8년차",
          "9년차",
          "10년차",
          "11년차",
          "12년차",
          "13년차",
          "14년차"
         ],
         "y": {
          "bdata": "2gfbB9wH3QfeB98H4AfhB+IH4wfkB+UH5gfnB+gH6Qc=",
          "dtype": "i2"
         },
         "z": {
          "bdata": "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",
          "dtype": "f8",
          "shape": "16, 15"
         }
        },
        {
         "colorscale": [
          [
           0,
           "rgb(247,251,255)"
          ],
          [
           0.125,
           "rgb(222,235,247)"
          ],
          [
           0.25,
           "rgb(198,219,239)"
          ],
          [
           0.375,
           "rgb(158,202,225)"
          ],
          [
           0.5,
           "rgb(107,174,214)"
          ],
          [
           0.625,
           "rgb(66,146,198)"
          ],
          [
           0.75,
           "rgb(33,113,181)"
          ],
          [
           0.875,
           "rgb(8,81,156)"
          ],
          [
           1,
           "rgb(8,48,107)"
          ]
         ],
         "connectgaps": false,
         "showscale": false,
         "text": [
          [
           "100%",
           "93%",
           "89%",
           "85%",
           "81%",
           "74%",
           "67%",
           "56%",
           "48%",
           "37%",
           "30%",
           "26%",
           "26%",
           "26%",
           "19%"
          ],
          [
           "100%",
           "84%",
           "78%",
           "76%",
           "73%",
           "65%",
           "57%",
           "51%",
           "47%",
           "45%",
           "39%",
           "33%",
           "31%",
           "29%",
           ""
          ],
          [
           "100%",
           "99%",
           "91%",
           "86%",
           "66%",
           "61%",
           "54%",
           "46%",
           "41%",
           "26%",
           "22%",
           "18%",
           "14%",
           "",
           ""
          ],
          [
           "100%",
           "94%",
           "91%",
           "79%",
           "70%",
           "62%",
           "57%",
           "51%",
           "51%",
           "43%",
           "43%",
           "36%",
           "",
           "",
           ""
          ],
          [
           "100%",
           "92%",
           "87%",
           "83%",
           "75%",
           "62%",
           "50%",
           "40%",
           "35%",
           "25%",
           "21%",
           "",
           "",
           "",
           ""
          ],
          [
           "100%",
           "91%",
           "86%",
           "79%",
           "79%",
           "73%",
           "64%",
           "57%",
           "43%",
           "38%",
           "",
           "",
           "",
           "",
           ""
          ],
          [
           "100%",
           "96%",
           "88%",
           "79%",
           "74%",
           "68%",
           "67%",
           "60%",
           "47%",
           "",
           "",
           "",
           "",
           "",
           ""
          ],
          [
           "100%",
           "98%",
           "93%",
           "91%",
           "82%",
           "77%",
           "68%",
           "68%",
           "",
           "",
           "",
           "",
           "",
           "",
           ""
          ],
          [
           "100%",
           "89%",
           "89%",
           "83%",
           "83%",
           "80%",
           "74%",
           "",
           "",
           "",
           "",
           "",
           "",
           "",
           ""
          ],
          [
           "100%",
           "100%",
           "85%",
           "76%",
           "72%",
           "65%",
           "",
           "",
           "",
           "",
           "",
           "",
           "",
           "",
           ""
          ],
          [
           "100%",
           "97%",
           "94%",
           "77%",
           "71%",
           "",
           "",
           "",
           "",
           "",
           "",
           "",
           "",
           "",
           ""
          ],
          [
           "100%",
           "95%",
           "89%",
           "84%",
           "",
           "",
           "",
           "",
           "",
           "",
           "",
           "",
           "",
           "",
           ""
          ],
          [
           "100%",
           "91%",
           "91%",
           "",
           "",
           "",
           "",
           "",
           "",
           "",
           "",
           "",
           "",
           "",
           ""
          ],
          [
           "100%",
           "86%",
           "",
           "",
           "",
           "",
           "",
           "",
           "",
           "",
           "",
           "",
           "",
           "",
           ""
          ],
          [
           "100%",
           "",
           "",
           "",
           "",
           "",
           "",
           "",
           "",
           "",
           "",
           "",
           "",
           "",
           ""
          ],
          [
           "",
           "",
           "",
           "",
           "",
           "",
           "",
           "",
           "",
           "",
           "",
           "",
           "",
           "",
           ""
          ]
         ],
         "texttemplate": "%{text}",
         "type": "heatmap",
         "visible": false,
         "x": [
          "0년차",
          "1년차",
          "2년차",
          "3년차",
          "4년차",
          "5년차",
          "6년차",
          "7년차",
          "8년차",
          "9년차",
          "10년차",
          "11년차",
          "12년차",
          "13년차",
          "14년차"
         ],
         "y": {
          "bdata": "2gfbB9wH3QfeB98H4AfhB+IH4wfkB+UH5gfnB+gH6Qc=",
          "dtype": "i2"
         },
         "z": {
          "bdata": "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",
          "dtype": "f8",
          "shape": "16, 15"
         }
        },
        {
         "colorscale": [
          [
           0,
           "rgb(247,251,255)"
          ],
          [
           0.125,
           "rgb(222,235,247)"
          ],
          [
           0.25,
           "rgb(198,219,239)"
          ],
          [
           0.375,
           "rgb(158,202,225)"
          ],
          [
           0.5,
           "rgb(107,174,214)"
          ],
          [
           0.625,
           "rgb(66,146,198)"
          ],
          [
           0.75,
           "rgb(33,113,181)"
          ],
          [
           0.875,
           "rgb(8,81,156)"
          ],
          [
           1,
           "rgb(8,48,107)"
          ]
         ],
         "connectgaps": false,
         "showscale": false,
         "text": [
          [
           "100%",
           "90%",
           "90%",
           "90%",
           "90%",
           "90%",
           "80%",
           "80%",
           "70%",
           "70%",
           "70%",
           "60%",
           "50%",
           "20%",
           ""
          ],
          [
           "100%",
           "83%",
           "67%",
           "67%",
           "67%",
           "67%",
           "67%",
           "50%",
           "50%",
           "50%",
           "50%",
           "50%",
           "17%",
           "",
           ""
          ],
          [
           "100%",
           "85%",
           "85%",
           "77%",
           "62%",
           "62%",
           "54%",
           "54%",
           "46%",
           "38%",
           "38%",
           "23%",
           "",
           "",
           ""
          ],
          [
           "100%",
           "100%",
           "86%",
           "86%",
           "71%",
           "71%",
           "43%",
           "43%",
           "43%",
           "43%",
           "43%",
           "",
           "",
           "",
           ""
          ],
          [
           "100%",
           "92%",
           "92%",
           "85%",
           "77%",
           "77%",
           "69%",
           "54%",
           "46%",
           "38%",
           "",
           "",
           "",
           "",
           ""
          ],
          [
           "100%",
           "100%",
           "100%",
           "75%",
           "58%",
           "58%",
           "58%",
           "50%",
           "50%",
           "",
           "",
           "",
           "",
           "",
           ""
          ],
          [
           "100%",
           "100%",
           "96%",
           "88%",
           "79%",
           "67%",
           "54%",
           "38%",
           "",
           "",
           "",
           "",
           "",
           "",
           ""
          ],
          [
           "100%",
           "100%",
           "95%",
           "90%",
           "80%",
           "80%",
           "60%",
           "",
           "",
           "",
           "",
           "",
           "",
           "",
           ""
          ],
          [
           "100%",
           "100%",
           "93%",
           "79%",
           "69%",
           "66%",
           "",
           "",
           "",
           "",
           "",
           "",
           "",
           "",
           ""
          ],
          [
           "100%",
           "95%",
           "89%",
           "79%",
           "68%",
           "",
           "",
           "",
           "",
           "",
           "",
           "",
           "",
           "",
           ""
          ],
          [
           "100%",
           "96%",
           "96%",
           "92%",
           "",
           "",
           "",
           "",
           "",
           "",
           "",
           "",
           "",
           "",
           ""
          ],
          [
           "100%",
           "81%",
           "65%",
           "",
           "",
           "",
           "",
           "",
           "",
           "",
           "",
           "",
           "",
           "",
           ""
          ],
          [
           "100%",
           "95%",
           "",
           "",
           "",
           "",
           "",
           "",
           "",
           "",
           "",
           "",
           "",
           "",
           ""
          ],
          [
           "100%",
           "",
           "",
           "",
           "",
           "",
           "",
           "",
           "",
           "",
           "",
           "",
           "",
           "",
           ""
          ],
          [
           "",
           "",
           "",
           "",
           "",
           "",
           "",
           "",
           "",
           "",
           "",
           "",
           "",
           "",
           ""
          ]
         ],
         "texttemplate": "%{text}",
         "type": "heatmap",
         "visible": false,
         "x": [
          "0년차",
          "1년차",
          "2년차",
          "3년차",
          "4년차",
          "5년차",
          "6년차",
          "7년차",
          "8년차",
          "9년차",
          "10년차",
          "11년차",
          "12년차",
          "13년차",
          "14년차"
         ],
         "y": {
          "bdata": "2wfcB90H3gffB+AH4QfiB+MH5AflB+YH5wfoB+kH",
          "dtype": "i2"
         },
         "z": {
          "bdata": "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",
          "dtype": "f8",
          "shape": "15, 15"
         }
        },
        {
         "colorscale": [
          [
           0,
           "rgb(247,251,255)"
          ],
          [
           0.125,
           "rgb(222,235,247)"
          ],
          [
           0.25,
           "rgb(198,219,239)"
          ],
          [
           0.375,
           "rgb(158,202,225)"
          ],
          [
           0.5,
           "rgb(107,174,214)"
          ],
          [
           0.625,
           "rgb(66,146,198)"
          ],
          [
           0.75,
           "rgb(33,113,181)"
          ],
          [
           0.875,
           "rgb(8,81,156)"
          ],
          [
           1,
           "rgb(8,48,107)"
          ]
         ],
         "connectgaps": false,
         "showscale": false,
         "text": [
          [
           "100%",
           "",
           "",
           "",
           "",
           "",
           ""
          ],
          [
           "100%",
           "100%",
           "100%",
           "100%",
           "",
           "",
           ""
          ],
          [
           "100%",
           "67%",
           "67%",
           "67%",
           "67%",
           "67%",
           ""
          ],
          [
           "100%",
           "100%",
           "100%",
           "100%",
           "100%",
           "",
           ""
          ],
          [
           "100%",
           "100%",
           "100%",
           "100%",
           "",
           "",
           ""
          ],
          [
           "100%",
           "100%",
           "100%",
           "",
           "",
           "",
           ""
          ],
          [
           "100%",
           "100%",
           "",
           "",
           "",
           "",
           ""
          ],
          [
           "100%",
           "",
           "",
           "",
           "",
           "",
           ""
          ],
          [
           "",
           "",
           "",
           "",
           "",
           "",
           ""
          ]
         ],
         "texttemplate": "%{text}",
         "type": "heatmap",
         "visible": false,
         "x": [
          "0년차",
          "1년차",
          "2년차",
          "3년차",
          "4년차",
          "5년차",
          "6년차"
         ],
         "y": {
          "bdata": "3wfgB+MH5AflB+YH5wfoB+kH",
          "dtype": "i2"
         },
         "z": {
          "bdata": "AAAAAAAAWUAAAAAAAAD4fwAAAAAAAPh/AAAAAAAA+H8AAAAAAAD4fwAAAAAAAPh/AAAAAAAA+H8AAAAAAABZQAAAAAAAAFlAAAAAAAAAWUAAAAAAAABZQAAAAAAAAPh/AAAAAAAA+H8AAAAAAAD4fwAAAAAAAFlAqqqqqqqqUECqqqqqqqpQQKqqqqqqqlBAqqqqqqqqUECqqqqqqqpQQAAAAAAAAPh/AAAAAAAAWUAAAAAAAABZQAAAAAAAAFlAAAAAAAAAWUAAAAAAAABZQAAAAAAAAPh/AAAAAAAA+H8AAAAAAABZQAAAAAAAAFlAAAAAAAAAWUAAAAAAAABZQAAAAAAAAPh/AAAAAAAA+H8AAAAAAAD4fwAAAAAAAFlAAAAAAAAAWUAAAAAAAABZQAAAAAAAAPh/AAAAAAAA+H8AAAAAAAD4fwAAAAAAAPh/AAAAAAAAWUAAAAAAAABZQAAAAAAAAPh/AAAAAAAA+H8AAAAAAAD4fwAAAAAAAPh/AAAAAAAA+H8AAAAAAABZQAAAAAAAAPh/AAAAAAAA+H8AAAAAAAD4fwAAAAAAAPh/AAAAAAAA+H8AAAAAAAD4fwAAAAAAAPh/AAAAAAAA+H8AAAAAAAD4fwAAAAAAAPh/AAAAAAAA+H8AAAAAAAD4fwAAAAAAAPh/",
          "dtype": "f8",
          "shape": "9, 7"
         }
        },
        {
         "type": "heatmap",
         "visible": false
        }
       ],
       "layout": {
        "annotations": [
         {
          "align": "left",
          "showarrow": false,
          "text": "직위 선택:",
          "x": 0,
          "y": 1.08,
          "yref": "paper"
         }
        ],
        "font": {
         "size": 14
        },
        "height": 700,
        "template": {
         "data": {
          "bar": [
           {
            "error_x": {
             "color": "#2a3f5f"
            },
            "error_y": {
             "color": "#2a3f5f"
            },
            "marker": {
             "line": {
              "color": "#E5ECF6",
              "width": 0.5
             },
             "pattern": {
              "fillmode": "overlay",
              "size": 10,
              "solidity": 0.2
             }
            },
            "type": "bar"
           }
          ],
          "barpolar": [
           {
            "marker": {
             "line": {
              "color": "#E5ECF6",
              "width": 0.5
             },
             "pattern": {
              "fillmode": "overlay",
              "size": 10,
              "solidity": 0.2
             }
            },
            "type": "barpolar"
           }
          ],
          "carpet": [
           {
            "aaxis": {
             "endlinecolor": "#2a3f5f",
             "gridcolor": "white",
             "linecolor": "white",
             "minorgridcolor": "white",
             "startlinecolor": "#2a3f5f"
            },
            "baxis": {
             "endlinecolor": "#2a3f5f",
             "gridcolor": "white",
             "linecolor": "white",
             "minorgridcolor": "white",
             "startlinecolor": "#2a3f5f"
            },
            "type": "carpet"
           }
          ],
          "choropleth": [
           {
            "colorbar": {
             "outlinewidth": 0,
             "ticks": ""
            },
            "type": "choropleth"
           }
          ],
          "contour": [
           {
            "colorbar": {
             "outlinewidth": 0,
             "ticks": ""
            },
            "colorscale": [
             [
              0,
              "#0d0887"
             ],
             [
              0.1111111111111111,
              "#46039f"
             ],
             [
              0.2222222222222222,
              "#7201a8"
             ],
             [
              0.3333333333333333,
              "#9c179e"
             ],
             [
              0.4444444444444444,
              "#bd3786"
             ],
             [
              0.5555555555555556,
              "#d8576b"
             ],
             [
              0.6666666666666666,
              "#ed7953"
             ],
             [
              0.7777777777777778,
              "#fb9f3a"
             ],
             [
              0.8888888888888888,
              "#fdca26"
             ],
             [
              1,
              "#f0f921"
             ]
            ],
            "type": "contour"
           }
          ],
          "contourcarpet": [
           {
            "colorbar": {
             "outlinewidth": 0,
             "ticks": ""
            },
            "type": "contourcarpet"
           }
          ],
          "heatmap": [
           {
            "colorbar": {
             "outlinewidth": 0,
             "ticks": ""
            },
            "colorscale": [
             [
              0,
              "#0d0887"
             ],
             [
              0.1111111111111111,
              "#46039f"
             ],
             [
              0.2222222222222222,
              "#7201a8"
             ],
             [
              0.3333333333333333,
              "#9c179e"
             ],
             [
              0.4444444444444444,
              "#bd3786"
             ],
             [
              0.5555555555555556,
              "#d8576b"
             ],
             [
              0.6666666666666666,
              "#ed7953"
             ],
             [
              0.7777777777777778,
              "#fb9f3a"
             ],
             [
              0.8888888888888888,
              "#fdca26"
             ],
             [
              1,
              "#f0f921"
             ]
            ],
            "type": "heatmap"
           }
          ],
          "histogram": [
           {
            "marker": {
             "pattern": {
              "fillmode": "overlay",
              "size": 10,
              "solidity": 0.2
             }
            },
            "type": "histogram"
           }
          ],
          "histogram2d": [
           {
            "colorbar": {
             "outlinewidth": 0,
             "ticks": ""
            },
            "colorscale": [
             [
              0,
              "#0d0887"
             ],
             [
              0.1111111111111111,
              "#46039f"
             ],
             [
              0.2222222222222222,
              "#7201a8"
             ],
             [
              0.3333333333333333,
              "#9c179e"
             ],
             [
              0.4444444444444444,
              "#bd3786"
             ],
             [
              0.5555555555555556,
              "#d8576b"
             ],
             [
              0.6666666666666666,
              "#ed7953"
             ],
             [
              0.7777777777777778,
              "#fb9f3a"
             ],
             [
              0.8888888888888888,
              "#fdca26"
             ],
             [
              1,
              "#f0f921"
             ]
            ],
            "type": "histogram2d"
           }
          ],
          "histogram2dcontour": [
           {
            "colorbar": {
             "outlinewidth": 0,
             "ticks": ""
            },
            "colorscale": [
             [
              0,
              "#0d0887"
             ],
             [
              0.1111111111111111,
              "#46039f"
             ],
             [
              0.2222222222222222,
              "#7201a8"
             ],
             [
              0.3333333333333333,
              "#9c179e"
             ],
             [
              0.4444444444444444,
              "#bd3786"
             ],
             [
              0.5555555555555556,
              "#d8576b"
             ],
             [
              0.6666666666666666,
              "#ed7953"
             ],
             [
              0.7777777777777778,
              "#fb9f3a"
             ],
             [
              0.8888888888888888,
              "#fdca26"
             ],
             [
              1,
              "#f0f921"
             ]
            ],
            "type": "histogram2dcontour"
           }
          ],
          "mesh3d": [
           {
            "colorbar": {
             "outlinewidth": 0,
             "ticks": ""
            },
            "type": "mesh3d"
           }
          ],
          "parcoords": [
           {
            "line": {
             "colorbar": {
              "outlinewidth": 0,
              "ticks": ""
             }
            },
            "type": "parcoords"
           }
          ],
          "pie": [
           {
            "automargin": true,
            "type": "pie"
           }
          ],
          "scatter": [
           {
            "fillpattern": {
             "fillmode": "overlay",
             "size": 10,
             "solidity": 0.2
            },
            "type": "scatter"
           }
          ],
          "scatter3d": [
           {
            "line": {
             "colorbar": {
              "outlinewidth": 0,
              "ticks": ""
             }
            },
            "marker": {
             "colorbar": {
              "outlinewidth": 0,
              "ticks": ""
             }
            },
            "type": "scatter3d"
           }
          ],
          "scattercarpet": [
           {
            "marker": {
             "colorbar": {
              "outlinewidth": 0,
              "ticks": ""
             }
            },
            "type": "scattercarpet"
           }
          ],
          "scattergeo": [
           {
            "marker": {
             "colorbar": {
              "outlinewidth": 0,
              "ticks": ""
             }
            },
            "type": "scattergeo"
           }
          ],
          "scattergl": [
           {
            "marker": {
             "colorbar": {
              "outlinewidth": 0,
              "ticks": ""
             }
            },
            "type": "scattergl"
           }
          ],
          "scattermap": [
           {
            "marker": {
             "colorbar": {
              "outlinewidth": 0,
              "ticks": ""
             }
            },
            "type": "scattermap"
           }
          ],
          "scattermapbox": [
           {
            "marker": {
             "colorbar": {
              "outlinewidth": 0,
              "ticks": ""
             }
            },
            "type": "scattermapbox"
           }
          ],
          "scatterpolar": [
           {
            "marker": {
             "colorbar": {
              "outlinewidth": 0,
              "ticks": ""
             }
            },
            "type": "scatterpolar"
           }
          ],
          "scatterpolargl": [
           {
            "marker": {
             "colorbar": {
              "outlinewidth": 0,
              "ticks": ""
             }
            },
            "type": "scatterpolargl"
           }
          ],
          "scatterternary": [
           {
            "marker": {
             "colorbar": {
              "outlinewidth": 0,
              "ticks": ""
             }
            },
            "type": "scatterternary"
           }
          ],
          "surface": [
           {
            "colorbar": {
             "outlinewidth": 0,
             "ticks": ""
            },
            "colorscale": [
             [
              0,
              "#0d0887"
             ],
             [
              0.1111111111111111,
              "#46039f"
             ],
             [
              0.2222222222222222,
              "#7201a8"
             ],
             [
              0.3333333333333333,
              "#9c179e"
             ],
             [
              0.4444444444444444,
              "#bd3786"
             ],
             [
              0.5555555555555556,
              "#d8576b"
             ],
             [
              0.6666666666666666,
              "#ed7953"
             ],
             [
              0.7777777777777778,
              "#fb9f3a"
             ],
             [
              0.8888888888888888,
              "#fdca26"
             ],
             [
              1,
              "#f0f921"
             ]
            ],
            "type": "surface"
           }
          ],
          "table": [
           {
            "cells": {
             "fill": {
              "color": "#EBF0F8"
             },
             "line": {
              "color": "white"
             }
            },
            "header": {
             "fill": {
              "color": "#C8D4E3"
             },
             "line": {
              "color": "white"
             }
            },
            "type": "table"
           }
          ]
         },
         "layout": {
          "annotationdefaults": {
           "arrowcolor": "#2a3f5f",
           "arrowhead": 0,
           "arrowwidth": 1
          },
          "autotypenumbers": "strict",
          "coloraxis": {
           "colorbar": {
            "outlinewidth": 0,
            "ticks": ""
           }
          },
          "colorscale": {
           "diverging": [
            [
             0,
             "#8e0152"
            ],
            [
             0.1,
             "#c51b7d"
            ],
            [
             0.2,
             "#de77ae"
            ],
            [
             0.3,
             "#f1b6da"
            ],
            [
             0.4,
             "#fde0ef"
            ],
            [
             0.5,
             "#f7f7f7"
            ],
            [
             0.6,
             "#e6f5d0"
            ],
            [
             0.7,
             "#b8e186"
            ],
            [
             0.8,
             "#7fbc41"
            ],
            [
             0.9,
             "#4d9221"
            ],
            [
             1,
             "#276419"
            ]
           ],
           "sequential": [
            [
             0,
             "#0d0887"
            ],
            [
             0.1111111111111111,
             "#46039f"
            ],
            [
             0.2222222222222222,
             "#7201a8"
            ],
            [
             0.3333333333333333,
             "#9c179e"
            ],
            [
             0.4444444444444444,
             "#bd3786"
            ],
            [
             0.5555555555555556,
             "#d8576b"
            ],
            [
             0.6666666666666666,
             "#ed7953"
            ],
            [
             0.7777777777777778,
             "#fb9f3a"
            ],
            [
             0.8888888888888888,
             "#fdca26"
            ],
            [
             1,
             "#f0f921"
            ]
           ],
           "sequentialminus": [
            [
             0,
             "#0d0887"
            ],
            [
             0.1111111111111111,
             "#46039f"
            ],
            [
             0.2222222222222222,
             "#7201a8"
            ],
            [
             0.3333333333333333,
             "#9c179e"
            ],
            [
             0.4444444444444444,
             "#bd3786"
            ],
            [
             0.5555555555555556,
             "#d8576b"
            ],
            [
             0.6666666666666666,
             "#ed7953"
            ],
            [
             0.7777777777777778,
             "#fb9f3a"
            ],
            [
             0.8888888888888888,
             "#fdca26"
            ],
            [
             1,
             "#f0f921"
            ]
           ]
          },
          "colorway": [
           "#636efa",
           "#EF553B",
           "#00cc96",
           "#ab63fa",
           "#FFA15A",
           "#19d3f3",
           "#FF6692",
           "#B6E880",
           "#FF97FF",
           "#FECB52"
          ],
          "font": {
           "color": "#2a3f5f"
          },
          "geo": {
           "bgcolor": "white",
           "lakecolor": "white",
           "landcolor": "#E5ECF6",
           "showlakes": true,
           "showland": true,
           "subunitcolor": "white"
          },
          "hoverlabel": {
           "align": "left"
          },
          "hovermode": "closest",
          "mapbox": {
           "style": "light"
          },
          "paper_bgcolor": "white",
          "plot_bgcolor": "#E5ECF6",
          "polar": {
           "angularaxis": {
            "gridcolor": "white",
            "linecolor": "white",
            "ticks": ""
           },
           "bgcolor": "#E5ECF6",
           "radialaxis": {
            "gridcolor": "white",
            "linecolor": "white",
            "ticks": ""
           }
          },
          "scene": {
           "xaxis": {
            "backgroundcolor": "#E5ECF6",
            "gridcolor": "white",
            "gridwidth": 2,
            "linecolor": "white",
            "showbackground": true,
            "ticks": "",
            "zerolinecolor": "white"
           },
           "yaxis": {
            "backgroundcolor": "#E5ECF6",
            "gridcolor": "white",
            "gridwidth": 2,
            "linecolor": "white",
            "showbackground": true,
            "ticks": "",
            "zerolinecolor": "white"
           },
           "zaxis": {
            "backgroundcolor": "#E5ECF6",
            "gridcolor": "white",
            "gridwidth": 2,
            "linecolor": "white",
            "showbackground": true,
            "ticks": "",
            "zerolinecolor": "white"
           }
          },
          "shapedefaults": {
           "line": {
            "color": "#2a3f5f"
           }
          },
          "ternary": {
           "aaxis": {
            "gridcolor": "white",
            "linecolor": "white",
            "ticks": ""
           },
           "baxis": {
            "gridcolor": "white",
            "linecolor": "white",
            "ticks": ""
           },
           "bgcolor": "#E5ECF6",
           "caxis": {
            "gridcolor": "white",
            "linecolor": "white",
            "ticks": ""
           }
          },
          "title": {
           "x": 0.05
          },
          "xaxis": {
           "automargin": true,
           "gridcolor": "white",
           "linecolor": "white",
           "ticks": "",
           "title": {
            "standoff": 15
           },
           "zerolinecolor": "white",
           "zerolinewidth": 2
          },
          "yaxis": {
           "automargin": true,
           "gridcolor": "white",
           "linecolor": "white",
           "ticks": "",
           "title": {
            "standoff": 15
           },
           "zerolinecolor": "white",
           "zerolinewidth": 2
          }
         }
        },
        "title": {
         "text": "직위별 입사 연도 잔존율 코호트 분석"
        },
        "updatemenus": [
         {
          "active": 0,
          "buttons": [
           {
            "args": [
             {
              "visible": [
               true,
               false,
               false,
               false,
               false
              ]
             }
            ],
            "label": "전체",
            "method": "update"
           },
           {
            "args": [
             {
              "visible": [
               false,
               true,
               false,
               false,
               false
              ]
             }
            ],
            "label": "Staff",
            "method": "update"
           },
           {
            "args": [
             {
              "visible": [
               false,
               false,
               true,
               false,
               false
              ]
             }
            ],
            "label": "Manager",
            "method": "update"
           },
           {
            "args": [
             {
              "visible": [
               false,
               false,
               false,
               true,
               false
              ]
             }
            ],
            "label": "Director",
            "method": "update"
           },
           {
            "args": [
             {
              "visible": [
               false,
               false,
               false,
               false,
               true
              ]
             }
            ],
            "label": "C-Level",
            "method": "update"
           }
          ],
          "direction": "down",
          "pad": {
           "r": 10,
           "t": 10
          },
          "showactive": true,
          "x": 0.01,
          "xanchor": "left",
          "y": 1.1,
          "yanchor": "top"
         }
        ],
        "xaxis": {
         "title": {
          "text": "근속년수"
         }
        },
        "yaxis": {
         "title": {
          "text": "입사 연도 (코호트)"
         }
        }
       }
      }
     },
     "metadata": {},
     "output_type": "display_data"
    }
   ],
   "source": [
    "import pandas as pd\n",
    "import numpy as np\n",
    "import plotly.graph_objects as go\n",
    "import plotly.io as pio\n",
    "import datetime\n",
    "\n",
    "# --- 1. 데이터 임포트 ---\n",
    "from services.tables.HR_Core.basic_info_table import emp_df\n",
    "from services.tables.HR_Core.position_info_table import position_info_df\n",
    "from services.tables.HR_Core.position_table import position_df, position_order\n",
    "\n",
    "def create_cohort_data(df):\n",
    "    \"\"\"\n",
    "    주어진 데이터프레임에 대한 코호트 데이터를 생성합니다.\n",
    "    \"\"\"\n",
    "    df = df.copy()\n",
    "    if df.empty:\n",
    "        return pd.DataFrame()\n",
    "\n",
    "    today = datetime.datetime.now()\n",
    "    df['HIRE_YEAR'] = df['IN_DATE'].dt.year\n",
    "    df['TENURE_YEAR_INDEX'] = np.floor(\n",
    "        (df['OUT_DATE'].fillna(pd.to_datetime(today)) - df['IN_DATE']).dt.days / 365.25\n",
    "    ).astype(int)\n",
    "\n",
    "    cohort_data_list = []\n",
    "    for _, row in df.iterrows():\n",
    "        if pd.isna(row['HIRE_YEAR']) or pd.isna(row['TENURE_YEAR_INDEX']): continue\n",
    "        for i in range(row['TENURE_YEAR_INDEX'] + 1):\n",
    "            cohort_data_list.append({\n",
    "                'HIRE_YEAR': int(row['HIRE_YEAR']), 'TENURE_YEAR': i, 'EMP_ID': row['EMP_ID']\n",
    "            })\n",
    "\n",
    "    if not cohort_data_list: return pd.DataFrame()\n",
    "\n",
    "    cohort_df = pd.DataFrame(cohort_data_list)\n",
    "    cohort_counts = cohort_df.groupby(['HIRE_YEAR', 'TENURE_YEAR'])['EMP_ID'].nunique().unstack()\n",
    "    \n",
    "    if cohort_counts.empty: return pd.DataFrame()\n",
    "\n",
    "    cohort_sizes = cohort_counts.iloc[:, 0]\n",
    "    cohort_retention = cohort_counts.divide(cohort_sizes, axis=0) * 100\n",
    "\n",
    "    current_year = today.year\n",
    "    for hire_year in cohort_retention.index:\n",
    "        max_completed_tenure = current_year - hire_year - 1\n",
    "        cohort_retention.loc[hire_year, cohort_retention.columns > max_completed_tenure] = np.nan\n",
    "\n",
    "    return cohort_retention\n",
    "\n",
    "def create_figure():\n",
    "    \"\"\"\n",
    "    제안 6-3: 직위별 입사 연도 잔존율 코호트 분석 그래프를 생성합니다.\n",
    "    \"\"\"\n",
    "    # --- 2. 데이터 준비 및 가공 ---\n",
    "    first_pos = position_info_df.sort_values('GRADE_START_DATE').groupby('EMP_ID').first().reset_index()\n",
    "    first_pos = pd.merge(first_pos, position_df[['POSITION_ID', 'POSITION_NAME']].drop_duplicates(), on='POSITION_ID')\n",
    "    \n",
    "    analysis_df = emp_df[['EMP_ID', 'IN_DATE', 'OUT_DATE']].copy()\n",
    "    analysis_df = pd.merge(analysis_df, first_pos[['EMP_ID', 'POSITION_NAME']], on='EMP_ID', how='left')\n",
    "    analysis_df = analysis_df.dropna(subset=['POSITION_NAME'])\n",
    "\n",
    "    # --- 3. Plotly 인터랙티브 그래프 생성 ---\n",
    "    fig = go.Figure()\n",
    "    position_list = ['전체'] + position_order\n",
    "\n",
    "    cohort_data_map = {}\n",
    "    for pos_name in position_list:\n",
    "        df_filtered = analysis_df if pos_name == '전체' else analysis_df[analysis_df['POSITION_NAME'] == pos_name]\n",
    "        cohort_data_map[pos_name] = create_cohort_data(df_filtered)\n",
    "\n",
    "    for pos_name in position_list:\n",
    "        cohort_pivot = cohort_data_map[pos_name]\n",
    "        if not cohort_pivot.empty:\n",
    "            text_labels = cohort_pivot.map(lambda x: f'{x:.0f}%' if pd.notna(x) else '')\n",
    "            fig.add_trace(\n",
    "                go.Heatmap(\n",
    "                    z=cohort_pivot.values,\n",
    "                    x=[f\"{int(c)}년차\" for c in cohort_pivot.columns],\n",
    "                    y=cohort_pivot.index,\n",
    "                    colorscale='Blues',\n",
    "                    text=text_labels,\n",
    "                    texttemplate=\"%{text}\",\n",
    "                    showscale=False,\n",
    "                    visible=(pos_name == '전체'),\n",
    "                    connectgaps=False\n",
    "                )\n",
    "            )\n",
    "        else: # 데이터가 없는 경우 빈 히트맵 트레이스 추가\n",
    "             fig.add_trace(go.Heatmap(visible=(pos_name == '전체')))\n",
    "\n",
    "    # --- 4. 드롭다운 메뉴 및 레이아웃 업데이트 ---\n",
    "    buttons = []\n",
    "    for i, pos_name in enumerate(position_list):\n",
    "        visibility_mask = [False] * len(position_list)\n",
    "        visibility_mask[i] = True\n",
    "        buttons.append(\n",
    "            dict(label=pos_name, method='update', args=[{'visible': visibility_mask}])\n",
    "        )\n",
    "\n",
    "    fig.update_layout(\n",
    "        updatemenus=[dict(\n",
    "            active=0, buttons=buttons, direction=\"down\",\n",
    "            pad={\"r\": 10, \"t\": 10}, showactive=True,\n",
    "            x=0.01, xanchor=\"left\", y=1.1, yanchor=\"top\"\n",
    "        )],\n",
    "        title_text='직위별 입사 연도 잔존율 코호트 분석',\n",
    "        xaxis_title='근속년수',\n",
    "        yaxis_title='입사 연도 (코호트)',\n",
    "        font_size=14, height=700,\n",
    "        annotations=[dict(text=\"직위 선택:\", showarrow=False, x=0, y=1.08, yref=\"paper\", align=\"left\")]\n",
    "    )\n",
    "    \n",
    "    return fig\n",
    "\n",
    "# 이 파일을 직접 실행할 경우 그래프를 생성하여 보여줍니다.\n",
    "pio.renderers.default = 'vscode'\n",
    "fig = create_figure()\n",
    "fig.show()"
   ]
  },
  {
   "cell_type": "code",
   "execution_count": null,
   "id": "c73f0501",
   "metadata": {},
   "outputs": [],
   "source": []
  }
 ],
 "metadata": {
  "kernelspec": {
   "display_name": "Python 3 (ipykernel)",
   "language": "python",
   "name": "python3"
  }
 },
 "nbformat": 4,
 "nbformat_minor": 5
}
