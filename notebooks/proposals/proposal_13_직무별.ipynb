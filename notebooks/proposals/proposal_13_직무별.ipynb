{
 "cells": [
  {
   "cell_type": "code",
   "execution_count": 4,
   "id": "5ff308ce",
   "metadata": {},
   "outputs": [
    {
     "data": {
      "application/vnd.plotly.v1+json": {
       "config": {
        "plotlyServerURL": "https://plot.ly"
       },
       "data": [
        {
         "line": {
          "color": "#636EFA"
         },
         "mode": "lines+markers",
         "name": "IT",
         "type": "scatter",
         "x": [
          "2020-01",
          "2020-02",
          "2020-03",
          "2020-04",
          "2020-05",
          "2020-06",
          "2020-07",
          "2020-08",
          "2020-09",
          "2020-10",
          "2020-11",
          "2020-12",
          "2021-01",
          "2021-02",
          "2021-03",
          "2021-04",
          "2021-05",
          "2021-06",
          "2021-07",
          "2021-08",
          "2021-09",
          "2021-10",
          "2021-11",
          "2021-12",
          "2022-01",
          "2022-02",
          "2022-03",
          "2022-04",
          "2022-05",
          "2022-06",
          "2022-07",
          "2022-08",
          "2022-09",
          "2022-10",
          "2022-11",
          "2022-12",
          "2023-01",
          "2023-02",
          "2023-03",
          "2023-04",
          "2023-05",
          "2023-06",
          "2023-07",
          "2023-08",
          "2023-09",
          "2023-10",
          "2023-11",
          "2023-12",
          "2024-01",
          "2024-02",
          "2024-03",
          "2024-04",
          "2024-05",
          "2024-06",
          "2024-07",
          "2024-08",
          "2024-09",
          "2024-10",
          "2024-11",
          "2024-12",
          "2025-01",
          "2025-02",
          "2025-03",
          "2025-04",
          "2025-05",
          "2025-06",
          "2025-07",
          "2025-08"
         ],
         "y": {
          "bdata": "SZpScfbhH0Al7Oa3EDAVQBdswRZsNSBAyeX68tXAGEC0iIMZHNESQJnGgGkMmBJAeTBP1L9RGUA07AqQew0VQPLSTWIQ2BhAVZJauPdSHUAYmeKJcLIQQHPIHXPIHRlAQ11vYtlfFkCcwAmcwAkWQE4eWs/8AxlAh9Yz/8CO5T88dS0HN/vxvy8SNkkxzwPAn+6ERezp+r+uE4A/4zr9v2ZvYfYWZgDAQzL1Nisk/78ErUWhPtD+v0kMl2liKwrAwn6rjaHpE0CxpgJwfMkTQA9+wkONNBVAo+hkZxD1EkDn5+fn5+cUQG6afJDY/RJAK0gcXntPEEDphV7ohR4VQFqLv5xe3RFAwCqO9rA0EUCrqqqqqsoTQGIndmInlhNAVUK2/kt8E0DPZ8Ng8nwQQKrXkXodqRJAbkeT+yrMEUDLwNOt+eETQGkjuj3Z1hRAntiJndgpEkDFTuzETiwRQFRABVRARRJAxpJfLPnFFECEkjtFC2cRQL1tEEWDtQ5AZMWBF5UjEUByvl7WwBsQQLbOMHbfWw5Ahr9NMWq4EUACe6ahvhAQQGQR/nG6BxBAyzHWOKccEkBONtlkk00RQPRJn/RJHxFA1bhmU8ePEkD/vEE4SyUSQP0ddAjPFhNAgiFOzxwYEUAsJFNvs0ISQET5mMVGlBFAEvYfYf8REkC7yGoyqosQQIbLNLEVGBBAUsxzIgjpEECq9iYF0A4OQA==",
          "dtype": "f8"
         }
        },
        {
         "line": {
          "color": "#EF553B"
         },
         "mode": "lines+markers",
         "name": "Management Support",
         "type": "scatter",
         "x": [
          "2020-01",
          "2020-02",
          "2020-03",
          "2020-04",
          "2020-05",
          "2020-06",
          "2020-07",
          "2020-08",
          "2020-09",
          "2020-10",
          "2020-11",
          "2020-12",
          "2021-01",
          "2021-02",
          "2021-03",
          "2021-04",
          "2021-05",
          "2021-06",
          "2021-07",
          "2021-08",
          "2021-09",
          "2021-10",
          "2021-11",
          "2021-12",
          "2022-01",
          "2022-02",
          "2022-03",
          "2022-04",
          "2022-05",
          "2022-06",
          "2022-07",
          "2022-08",
          "2022-09",
          "2022-10",
          "2022-11",
          "2022-12",
          "2023-01",
          "2023-02",
          "2023-03",
          "2023-04",
          "2023-05",
          "2023-06",
          "2023-07",
          "2023-08",
          "2023-09",
          "2023-10",
          "2023-11",
          "2023-12",
          "2024-01",
          "2024-02",
          "2024-03",
          "2024-04",
          "2024-05",
          "2024-06",
          "2024-07",
          "2024-08",
          "2024-09",
          "2024-10",
          "2024-11",
          "2024-12",
          "2025-01",
          "2025-02",
          "2025-03",
          "2025-04",
          "2025-05",
          "2025-06",
          "2025-07",
          "2025-08"
         ],
         "y": {
          "bdata": "wacLfLrAKkAC9idgf4IjQO3SLu3SriJAv+zLvuzLHkAiIiIiImIjQGAs+cWS3x9A7FG4HoVLIECCThvotCEdQHoWpmdh+iBAzNG4HI1LJkCFV3iFV3gfQFyPwvUo/CdA0GkDnTawIkC9yZu8yZslQCIiIiIiEiNAhEU/WPSDEED2Yz/2Yz8DQB988MEHHwVAcq2PHtf6AEBx4SgFF44AQKuqqqqqqvw/BJJ1rjwgyb9hC7ZgC7bQP3lLc/DC6v8/Y75udM9/D0Ay9trlR7oTQOv6jblBCxRAhpDyZGqbEECSJEmSJEkUQAnaMlJsVwlA29ra2traEkDEGW/EGW8RQJTR27JWRxNAvp8aL92kEEBQ+qRP+hQUQCbV9RtzgxRAD8y1A3NtEUAAAAAAAMAFQImIiIiIGBJA4qeic8zrEED70FgfGusSQKVP+qRPmhJAIGfkS++tEkCf9Emf9MkTQH3SJ33SpxJA+6RP+qT/EkBC32H5TD0XQPLSTWIQWBNAI854I854EUAjlNHbstYUQIreM4neMxFAFPVvhDL6EkBJ78+1yoYRQC35xZJfLA9AoYzelrU6FEByZwm7+S0VQExLS0tLSxNAMNuFMNuFFEATO7ETO/EUQC0tLS0tLRRA0M/Pz8/PE0DPJHrPJHoQQAbS+3OtshFAIiIiIiLSEkBQJJzSvPgPQHEySbV2jRJAlvNnOX/WE0DRRRdddNETQA==",
          "dtype": "f8"
         }
        },
        {
         "line": {
          "color": "#00CC96"
         },
         "mode": "lines+markers",
         "name": "Planning",
         "type": "scatter",
         "x": [
          "2020-01",
          "2020-02",
          "2020-03",
          "2020-04",
          "2020-05",
          "2020-06",
          "2020-07",
          "2020-08",
          "2020-09",
          "2020-10",
          "2020-11",
          "2020-12",
          "2021-01",
          "2021-02",
          "2021-03",
          "2021-04",
          "2021-05",
          "2021-06",
          "2021-07",
          "2021-08",
          "2021-09",
          "2021-10",
          "2021-11",
          "2021-12",
          "2022-01",
          "2022-02",
          "2022-03",
          "2022-04",
          "2022-05",
          "2022-06",
          "2022-07",
          "2022-08",
          "2022-09",
          "2022-10",
          "2022-11",
          "2022-12",
          "2023-01",
          "2023-02",
          "2023-03",
          "2023-04",
          "2023-05",
          "2023-06",
          "2023-07",
          "2023-08",
          "2023-09",
          "2023-10",
          "2023-11",
          "2023-12",
          "2024-01",
          "2024-02",
          "2024-03",
          "2024-04",
          "2024-05",
          "2024-06",
          "2024-07",
          "2024-08",
          "2024-09",
          "2024-10",
          "2024-11",
          "2024-12",
          "2025-01",
          "2025-02",
          "2025-03",
          "2025-04",
          "2025-05",
          "2025-06",
          "2025-07",
          "2025-08"
         ],
         "y": {
          "bdata": "mSAsYYgJFUChh8IIeigUQI8WiEd2HxRAPZCbxgO5D0AJRzI5jHASQNwTwD0B3ANAED2+CwfREUD52xSjhr8KQNpbmL2F2QRAYRiGYRjmCUApXI/C9SgSQD0Jt4XOkwxAbEY2H7VmBkByKZdyKWcTQA0zksgwIw1AiYYVdI1o+L8pd4ByBygFwMoFTe1VAQnALGLNgLciCMCcKNm1iZL7v97d3d3d3fG/L5eJ73KZ+L+dk6WByTn1v5U0qi1XSfO/akTxvplGE0CnH6X8dPoSQAtOi1+j4BZAks+j5yT5E0AyHuMxHuMWQNOrNte43RRA0wY6baAzFUC+8lH9ZOwVQN4CTN4CTBRA8uJhRnvaEkANSoWJ9yMSQImrE0z1cBVAiRo/iBo/FkCWcSiWcSgRQP10+lHKTxZAsGaJ8SnTFEARU+YVMWUXQMdxHMdxHBhAPYPbyTM4GEB0P/dzP/cZQPRhPfRhPRhAwr9yUYFsF0AMfLrApwsZQIFGbK9f7hJAPgrXo3B9GUCBwmucjQwWQIU8qoU8qhdAi31W4YFjFUDu5BncTp4VQEZgBEZgBBVAtC2a36+gF0AAQtUEIFQZQMmPuIb8iBZA6cZFjm5cGEBtPPe4zcYVQOMrvuIr3hZA8NP9Pt1vFkBk0PinSQYSQIuM0Sw62BNAKdpq8ByBE0BbfjbGpmUVQGqSQeOfphRAiYiIiIgIEkDishFUz5gRQA==",
          "dtype": "f8"
         }
        },
        {
         "line": {
          "color": "#AB63FA"
         },
         "mode": "lines+markers",
         "name": "Production & Engineering",
         "type": "scatter",
         "x": [
          "2020-01",
          "2020-02",
          "2020-03",
          "2020-04",
          "2020-05",
          "2020-06",
          "2020-07",
          "2020-08",
          "2020-09",
          "2020-10",
          "2020-11",
          "2020-12",
          "2021-01",
          "2021-02",
          "2021-03",
          "2021-04",
          "2021-05",
          "2021-06",
          "2021-07",
          "2021-08",
          "2021-09",
          "2021-10",
          "2021-11",
          "2021-12",
          "2022-01",
          "2022-02",
          "2022-03",
          "2022-04",
          "2022-05",
          "2022-06",
          "2022-07",
          "2022-08",
          "2022-09",
          "2022-10",
          "2022-11",
          "2022-12",
          "2023-01",
          "2023-02",
          "2023-03",
          "2023-04",
          "2023-05",
          "2023-06",
          "2023-07",
          "2023-08",
          "2023-09",
          "2023-10",
          "2023-11",
          "2023-12",
          "2024-01",
          "2024-02",
          "2024-03",
          "2024-04",
          "2024-05",
          "2024-06",
          "2024-07",
          "2024-08",
          "2024-09",
          "2024-10",
          "2024-11",
          "2024-12",
          "2025-01",
          "2025-02",
          "2025-03",
          "2025-04",
          "2025-05",
          "2025-06",
          "2025-07",
          "2025-08"
         ],
         "y": {
          "bdata": "XcqlXMqlKMA6m7M5m/MowL7iK77iiyjA5FofPa41K8Bx0MeCWhgpwPnggw8+uCnATjbZZJN9KMB+w9o3rF0mwKl38LbqCC3A2+VHur9wJcCTyodxv04nwCqREimRkivA4zd+4zf+JcBeUvkw7rckwKzCKqzCqizAbZAfXE4XMMDBLQJ6sHoywA+QlasD5DTAAel/uK3pMcAlt/4cljoywNSyp06GEzPALU7S4iQtMsD8C5/KUjwzwML1KFyPAjPAEziBEziBBkACRqkmjzsFQBEvWmqwigxA27ECYaQdDUDHcRzHcYwPQO/u7u7u7gNA/41QRm9LB0At589y/iwNQAn0+xguJhBA/BguJgn0B0ALtmALtlgQQNDEYvDquQ5AOfV7bolTD0CTb+CjsegQQMMlmJ3OBxRA1NY1ko8wDEAmuQY9FnsQQMnzA0ok1gxALdiCLdjaEEA3fCKEP5kNQCIiIiIiwgpAtmALtmCTEkDnljj1e24RQBEREREREQ9AvLu7u7tLDUDHcRzHcRwOQDPRFbwd2Q5ArpOoZAGEDUDchjHchjEPQOeBcNGQZgtANKn5AHbGC0B5QwXTUXMLQOx/pVW//gtAnGLU8LcpBkDtmWuGMwUGQPMt3/It3wdAeZyvlzXwCECqZ+zi9c8EQObJd2TYIANA6xbVt+OhBEARxmWSE2EIQKNMVhx4UQtABbfW0YOjCkAxMTExMTEIQA==",
          "dtype": "f8"
         }
        },
        {
         "line": {
          "color": "#FFA15A"
         },
         "mode": "lines+markers",
         "name": "Sales & Marketing",
         "type": "scatter",
         "x": [
          "2020-01",
          "2020-02",
          "2020-03",
          "2020-04",
          "2020-05",
          "2020-06",
          "2020-07",
          "2020-08",
          "2020-09",
          "2020-10",
          "2020-11",
          "2020-12",
          "2021-01",
          "2021-02",
          "2021-03",
          "2021-04",
          "2021-05",
          "2021-06",
          "2021-07",
          "2021-08",
          "2021-09",
          "2021-10",
          "2021-11",
          "2021-12",
          "2022-01",
          "2022-02",
          "2022-03",
          "2022-04",
          "2022-05",
          "2022-06",
          "2022-07",
          "2022-08",
          "2022-09",
          "2022-10",
          "2022-11",
          "2022-12",
          "2023-01",
          "2023-02",
          "2023-03",
          "2023-04",
          "2023-05",
          "2023-06",
          "2023-07",
          "2023-08",
          "2023-09",
          "2023-10",
          "2023-11",
          "2023-12",
          "2024-01",
          "2024-02",
          "2024-03",
          "2024-04",
          "2024-05",
          "2024-06",
          "2024-07",
          "2024-08",
          "2024-09",
          "2024-10",
          "2024-11",
          "2024-12",
          "2025-01",
          "2025-02",
          "2025-03",
          "2025-04",
          "2025-05",
          "2025-06",
          "2025-07",
          "2025-08"
         ],
         "y": {
          "bdata": "BVuwBVuwCsB1CEmlTYcGwO/u7u7uLgTAnvkGpcgYAcB8AS6Ss74BwJfRXEZzGQXAKnrYG5WiBsBDRz5QLHTwv30Y9+uSygPADiBIIo198r/Q/dzP/dz3v/GdpsAO+QDAc9chyCx3BcAKQKtelQAAwLPwfS4L3/i/qdr/UoWqFsDsJ28PeCMdwDmO4ziOYx7ArzokUfeqG8AHWLb5coAXwNb3AlwkZxjApU/6pE96F8CqeNsVoQodwEsDk3OyNB7AYwj3wiZSBUDmwXjmwXgEQMGjoWrUkglAmQXki0SpBkDwjADPCHAIQPOIMY8Y8wZAr1PoOoUuBEBNNNFEE00HQJGCZ37NOwlA0rm1X1EkCEAdfa3F0dcGQN3U0M5NDQlAMzMzMzOrC0DRfacS3XcIQBHi7ap7hw9ALCjp+PS1BkBpvynPJZAHQLP7xHgF7glAcEikv2UfCUA9vFe6jn8LQKLz1T3SygdA/Wgb5QsnB0DMKrhBNncIQAICAgICggNArFhH/LaKA0CqfW4mUJb/P49GN+MUpgRAo9Q+NxMoA0ADc+3AXDsCQMH/omc3YANAyafWyzAtBUDC85eLouUHQFVVVVVV1QZA07nLdUX6CUAvDj0yl5MEQBuZ32gIWghAD0jWufKACkCgYE1PAgoGQHnqDUW32gdA7MITcrUuCkC/NUEAGy4OQCtx38MKeQhAz1SzmyGACUDe3d3d3WUDQA==",
          "dtype": "f8"
         }
        },
        {
         "line": {
          "color": "#636EFA"
         },
         "mode": "lines+markers",
         "name": "SW Developer",
         "type": "scatter",
         "visible": false,
         "x": [
          "2020-01",
          "2020-02",
          "2020-03",
          "2020-04",
          "2020-05",
          "2020-06",
          "2020-07",
          "2020-08",
          "2020-09",
          "2020-10",
          "2020-11",
          "2020-12",
          "2021-01",
          "2021-02",
          "2021-03",
          "2021-04",
          "2021-05",
          "2021-06",
          "2021-07",
          "2021-08",
          "2021-09",
          "2021-10",
          "2021-11",
          "2021-12",
          "2022-01",
          "2022-02",
          "2022-03",
          "2022-04",
          "2022-05",
          "2022-06",
          "2022-07",
          "2022-08",
          "2022-09",
          "2022-10",
          "2022-11",
          "2022-12",
          "2023-01",
          "2023-02",
          "2023-03",
          "2023-04",
          "2023-05",
          "2023-06",
          "2023-07",
          "2023-08",
          "2023-09",
          "2023-10",
          "2023-11",
          "2023-12",
          "2024-01",
          "2024-02",
          "2024-03",
          "2024-04",
          "2024-05",
          "2024-06",
          "2024-07",
          "2024-08",
          "2024-09",
          "2024-10",
          "2024-11",
          "2024-12",
          "2025-01",
          "2025-02",
          "2025-03",
          "2025-04",
          "2025-05",
          "2025-06",
          "2025-07",
          "2025-08"
         ],
         "y": {
          "bdata": "d3d3d3d3J0DZgi3Ygi0lQA9I1rnyQDNAU4wa/jZFIEDC9Shcj8IUQL9Y8oslvxhAQacNdNrALEDQaQOdNlAqQG2g0wY6rSlA4ziO4zjONEBz5QHJOtcnQEYNf5tiVClAJb9Y8oslL0CkcD0K16MrQHE9CtejsClAMzMzMzOzHUBPG+i0gc4ZQHWuPCBZZyFAfdInfdInIEDD36YYNfwXQOUByTpXHiRAYQu2YAu2+D8ekKxz5QEHQCa0l9BeQgFAhPYS2kvoJEAHJOtceUAZQMEWbMEW7CZA2ktoL6G9HUAVo4a/TTEeQP42xajhbyNAq6qqqqoqF0CCPCXIU4IeQHwJ7SW0lyJAKkYNf5tiDkDv7u7u7o4eQDMzMzMzkxxAd3d3d3d3IUDATTFq+NsKQM3MzMzMTBFALfnFkl8sFUCCThvotAEUQHE9CtejcBdA4XoUrkfhGECF61G4HoUaQKuqqqqqqhRAOm2g0wa6HkDv7u7u7m4QQFVVVVVVVSFAekCyzpUHE0DcFKOGv00SQItRw9+mGBNALA9I1rnyE0Adx3Ecx3EZQFVVVVVVtRNAmpmZmZkJI0C8u7u7u1sZQHd3d3d3dxJA7Md+7Md+IECw+Iqv+IoUQJqZmZmZmRJAoQ7qoA7qE0BTLuVSLuUQQI7WaI3WaAVAiYiIiIgIF0CJiIiIiAgYQD3P8zzP8xNAO6iDOqiDF0B/7Md+7McaQA==",
          "dtype": "f8"
         }
        },
        {
         "line": {
          "color": "#EF553B"
         },
         "mode": "lines+markers",
         "name": "Infrastructure",
         "type": "scatter",
         "visible": false,
         "x": [
          "2020-01",
          "2020-02",
          "2020-03",
          "2020-04",
          "2020-05",
          "2020-06",
          "2020-07",
          "2020-08",
          "2020-09",
          "2020-10",
          "2020-11",
          "2020-12",
          "2021-01",
          "2021-02",
          "2021-03",
          "2021-04",
          "2021-05",
          "2021-06",
          "2021-07",
          "2021-08",
          "2021-09",
          "2021-10",
          "2021-11",
          "2021-12",
          "2022-01",
          "2022-02",
          "2022-03",
          "2022-04",
          "2022-05",
          "2022-06",
          "2022-07",
          "2022-08",
          "2022-09",
          "2022-10",
          "2022-11",
          "2022-12",
          "2023-01",
          "2023-02",
          "2023-03",
          "2023-04",
          "2023-05",
          "2023-06",
          "2023-07",
          "2023-08",
          "2023-09",
          "2023-10",
          "2023-11",
          "2023-12",
          "2024-01",
          "2024-02",
          "2024-03",
          "2024-04",
          "2024-05",
          "2024-06",
          "2024-07",
          "2024-08",
          "2024-09",
          "2024-10",
          "2024-11",
          "2024-12",
          "2025-01",
          "2025-02",
          "2025-03",
          "2025-04",
          "2025-05",
          "2025-06",
          "2025-07",
          "2025-08"
         ],
         "y": {
          "bdata": "bMEWbMF2QcBOG+i0gQ5AwPYoXI/C1UDAKVyPwvXIQcBZ8oslv3hDwNMGOm2g00PA+6RP+qTfQ8CDLdiCLdhEwMdxHMdxfELAx37sx35sQcAzMzMzM9NAwHIpl3Ipt0LAKpdyKZdSQ8BMuZRLudQ+wBmGYRiGgUTAupRLuZTLRMAWX/EVX/FCwPuxH/uxf0bAOYETOIFTR8BMuZRLuZRHwM/zPM/z/EXAoQ7qoA6KRcATOIETOIFHwKmDOqiDukvAsPiKr/iKCUCamZmZmZkDQEId1EEd1OE/SpIkSZIk9T8ZhmEYhmHIv8EJnMAJnPg/qYM6qIM62D/SGq3RGq3hP+VSLuVSLv0/ZmZmZmYmAkByHMdxHMfpP7ZgC7ZgC/4/voT2EtpLDEA7Vx6QrHPVP2zBFmzBFuQ/dVAHdVAHEkAFTuAETuACQNy2bdu2bQlAJEmSJEmS5D/5iq/4iq/0P/RJn/RJnwtAwRZswRZsGUAMtmALtmAEQE/6pE/6JBBAOY7jOI7jEEBhC7ZgC7bsPyd90id90g9Az/M8z/M8CUD+2I/92I8HQLy7u7u7uxRAcimXcimXCkBERERERET8PwAAAAAAAA9AERERERFRDECJiIiIiAgOQM3MzMzMDA1AERERERGRC0CJiIiIiEgFQPOAZJ0rDwRApU/6pE/6AkCUPumTPukFQGZmZmZmZgxAwE0xavjbCEC0l9BeQnsHQA==",
          "dtype": "f8"
         }
        },
        {
         "line": {
          "color": "#00CC96"
         },
         "mode": "lines+markers",
         "name": "Data Scientist",
         "type": "scatter",
         "visible": false,
         "x": [
          "2020-01",
          "2020-02",
          "2020-03",
          "2020-04",
          "2020-05",
          "2020-06",
          "2020-07",
          "2020-08",
          "2020-09",
          "2020-10",
          "2020-11",
          "2020-12",
          "2021-01",
          "2021-02",
          "2021-03",
          "2021-04",
          "2021-05",
          "2021-06",
          "2021-07",
          "2021-08",
          "2021-09",
          "2021-10",
          "2021-11",
          "2021-12",
          "2022-01",
          "2022-02",
          "2022-03",
          "2022-04",
          "2022-05",
          "2022-06",
          "2022-07",
          "2022-08",
          "2022-09",
          "2022-10",
          "2022-11",
          "2022-12",
          "2023-01",
          "2023-02",
          "2023-03",
          "2023-04",
          "2023-05",
          "2023-06",
          "2023-07",
          "2023-08",
          "2023-09",
          "2023-10",
          "2023-11",
          "2023-12",
          "2024-01",
          "2024-02",
          "2024-03",
          "2024-04",
          "2024-05",
          "2024-06",
          "2024-07",
          "2024-08",
          "2024-09",
          "2024-10",
          "2024-11",
          "2024-12",
          "2025-01",
          "2025-02",
          "2025-03",
          "2025-04",
          "2025-05",
          "2025-06",
          "2025-07",
          "2025-08"
         ],
         "y": {
          "bdata": "MwDNmWYzJUA8tVM7tdMbQBvpsJEO2yJAaEnXfUz8IEClT/qkT/ocQI7WaI3WaBxAH+y4hVIfIUBXb/VWb7UeQDZaozVaAyFAQQ7bp3TBIkDgeROtRuAZQDVlTVlTViJA/720RREcIEBz/iznz9IdQLvc/iBDZSJAk1Rr15ivCUBgFneCOJnsP0Q+5EM+5NO/7tqNWYhD6D9M2Izw9bfoP6b31rBZSba/++mnn3766T9hlWarvgvwP1umZVqmZco/wDUeVrE4EkCTZ3A7eQYUQCmP9VvCKBRAy2YUWBfxEkCtKWvKmrIVQC18n8vC9xFAVVVVVVW1EEB6tKhE8jUVQATMcOlqtxBAJRcas8f2EUAC6yJ+BYQUQKolQKFaAhRA82c5f5ZzEkCe5Eme5EkSQIRGaIRGaBRAi6ZoiqZoEUDDKqzCKqwUQIQMlR2mLhVA7FXav16lEkCmB8FoehARQO4b1r5hTRJAhfiQVHFXE0Cp7DB1uf0RQMRFXMRFXApAf+/3fu/3EEA7MNcOzLUQQJBuYwpCfw1Au40pCP3jEUAk1do15usOQAursAqrsA5AHfFon4nFEEDtdD5UGH0RQJuwYvN4JRFAbL3Wa73WEUA8I8AzAjwSQICL5KzvhRNA+pHuL3wqEUBicgUxuQITQH+1kQLG0xJAz34/Qk15EkDjfl1S+XAQQIIf+IEf+A9Ah23Yhm3YEEAAC8EhLeMMQA==",
          "dtype": "f8"
         }
        },
        {
         "line": {
          "color": "#636EFA"
         },
         "mode": "lines+markers",
         "name": "HR",
         "type": "scatter",
         "visible": false,
         "x": [
          "2020-01",
          "2020-02",
          "2020-03",
          "2020-04",
          "2020-05",
          "2020-06",
          "2020-07",
          "2020-08",
          "2020-09",
          "2020-10",
          "2020-11",
          "2020-12",
          "2021-01",
          "2021-02",
          "2021-03",
          "2021-04",
          "2021-05",
          "2021-06",
          "2021-07",
          "2021-08",
          "2021-09",
          "2021-10",
          "2021-11",
          "2021-12",
          "2022-01",
          "2022-02",
          "2022-03",
          "2022-04",
          "2022-05",
          "2022-06",
          "2022-07",
          "2022-08",
          "2022-09",
          "2022-10",
          "2022-11",
          "2022-12",
          "2023-01",
          "2023-02",
          "2023-03",
          "2023-04",
          "2023-05",
          "2023-06",
          "2023-07",
          "2023-08",
          "2023-09",
          "2023-10",
          "2023-11",
          "2023-12",
          "2024-01",
          "2024-02",
          "2024-03",
          "2024-04",
          "2024-05",
          "2024-06",
          "2024-07",
          "2024-08",
          "2024-09",
          "2024-10",
          "2024-11",
          "2024-12",
          "2025-01",
          "2025-02",
          "2025-03",
          "2025-04",
          "2025-05",
          "2025-06",
          "2025-07",
          "2025-08"
         ],
         "y": {
          "bdata": "OY7jOI5jJUDwzauJZ0UgQLqUS7mUyyNAXcqlXMqlJkAu5VIu5VImQDVaozVaoxxAz/M8z/M8DUAql3Ipl3IfQJD92I/9WChAqYM6qIP6IkBMuZRLudQkQFMu5VIuJSxA9DzP8zwPK0DjK77iKz4oQM/zPM/zvCZACpzACZzAH0D0PM/zPM8XQP1iyS+W/BdA1OX2Bxkq2z+hDuqgDur4P4bKDlOX26+/L7c/yFDZ0T9H4XoUrkfRv/Rq4lnRSABA0GkDnTbQGkCfnp6enp4fQNXU1NTUVCFAOTg4ODg4HEBNTExMTMwjQOno6Ojo6BJAVx6QrHPlH0DjOI7jOI4cQNfX19fX1x5AoJ+fn5+fFkCrqqqqqkIhQImIiIiIyBxA4lnRSMA3G0BSuB6F61EKQLkehetRuBhA7+7u7u7uD0CamZmZmfkTQPYHGSo7TBtANVqjNVojGUBGa7RGa7QdQI7WaI3WKCFAVVVVVVXVG0DUQR3UQV0iQJIkSZIkyRtAQacNdNpAFkBr4lnRSMAbQNXV1dXV1RVAzczMzMycHECW/GLJL5YYQM3MzMzMLBpA3t3d3d2dIUB3d3d3d5cfQGZmZmZmdhtAvLu7u7vbGkCrqqqqqiocQAAAAAAAUBxAhoaGhoaGGkBpaGhoaGgaQDU1NTU1NRhAoJ+fn5+fH0DDwsLCwsIVQImIiIiIiBtAMjIyMjIyHUASEhISEhIbQA==",
          "dtype": "f8"
         }
        },
        {
         "line": {
          "color": "#EF553B"
         },
         "mode": "lines+markers",
         "name": "Finance",
         "type": "scatter",
         "visible": false,
         "x": [
          "2020-01",
          "2020-02",
          "2020-03",
          "2020-04",
          "2020-05",
          "2020-06",
          "2020-07",
          "2020-08",
          "2020-09",
          "2020-10",
          "2020-11",
          "2020-12",
          "2021-01",
          "2021-02",
          "2021-03",
          "2021-04",
          "2021-05",
          "2021-06",
          "2021-07",
          "2021-08",
          "2021-09",
          "2021-10",
          "2021-11",
          "2021-12",
          "2022-01",
          "2022-02",
          "2022-03",
          "2022-04",
          "2022-05",
          "2022-06",
          "2022-07",
          "2022-08",
          "2022-09",
          "2022-10",
          "2022-11",
          "2022-12",
          "2023-01",
          "2023-02",
          "2023-03",
          "2023-04",
          "2023-05",
          "2023-06",
          "2023-07",
          "2023-08",
          "2023-09",
          "2023-10",
          "2023-11",
          "2023-12",
          "2024-01",
          "2024-02",
          "2024-03",
          "2024-04",
          "2024-05",
          "2024-06",
          "2024-07",
          "2024-08",
          "2024-09",
          "2024-10",
          "2024-11",
          "2024-12",
          "2025-01",
          "2025-02",
          "2025-03",
          "2025-04",
          "2025-05",
          "2025-06",
          "2025-07",
          "2025-08"
         ],
         "y": {
          "bdata": "j/EYj/HYLUAN0iAN0mAlQI/C9ShcDyJARyijt2WtFkDNzMzMzMwhQOzETuzEziBAIiIiIiIiJUAndmInduIbQFoqictGUBpAPSBZ58oDKEAqFWcfPsMZQOuv/uqvviVAyY3cyI1cHEAiIiIiIiIkQIqd2ImdGCFArXPlAck6AUD2Yz/2Yz/kPxrcTp7B7ew/HdRBHdRBCECJiIiIiIgCQNUSoFAtAQZAGwn45tXE27/bQKcNdNrgP0KGyg5Tl/8/xbOikYBvBEClT/qkT/oJQIXrUbgehQdADnTaQKcNBEDe3d3d3Q0EQGZmZmZmtgJA0VRkopp7B0BmVxkhQLwGQKReR+p1pApAIU8J8pQgC0CamZmZmbkJQD8u7OPCPhBAYR8X9nFhCUCsfcPaN6wDQCwUt0JxKw5ADYl5O0NiEUBnOX+W82cSQKKae/8OTQ1A4YMPPvjgD0BqaWlpaWkPQGppaWlpaQhAubi4uLi4DkCz0KTmA9gRQPqkT/qkDxBAWufKA5L1DkAFTuAETuARQMXFxcXFxQ1A4+Li4uLiDEDT0tLS0tIMQDU1NTU1NQVAVlZWVlZWCkB3hsS8nSEQQB+F61G4Hg9AoNMGOm2gEUC0l9BeQrsRQFEHdVAHdRBAdHR0dHR0EEAGBgYGBgYHQKuqqqqqegxAmpmZmZmZB0BtoNMGOm0JQDMzMzMzMwpAmRMdCjDkC0APSNa58oAOQA==",
          "dtype": "f8"
         }
        },
        {
         "line": {
          "color": "#636EFA"
         },
         "mode": "lines+markers",
         "name": "Business Planning",
         "type": "scatter",
         "visible": false,
         "x": [
          "2020-01",
          "2020-02",
          "2020-03",
          "2020-04",
          "2020-05",
          "2020-06",
          "2020-07",
          "2020-08",
          "2020-09",
          "2020-10",
          "2020-11",
          "2020-12",
          "2021-01",
          "2021-02",
          "2021-03",
          "2021-04",
          "2021-05",
          "2021-06",
          "2021-07",
          "2021-08",
          "2021-09",
          "2021-10",
          "2021-11",
          "2021-12",
          "2022-01",
          "2022-02",
          "2022-03",
          "2022-04",
          "2022-05",
          "2022-06",
          "2022-07",
          "2022-08",
          "2022-09",
          "2022-10",
          "2022-11",
          "2022-12",
          "2023-01",
          "2023-02",
          "2023-03",
          "2023-04",
          "2023-05",
          "2023-06",
          "2023-07",
          "2023-08",
          "2023-09",
          "2023-10",
          "2023-11",
          "2023-12",
          "2024-01",
          "2024-02",
          "2024-03",
          "2024-04",
          "2024-05",
          "2024-06",
          "2024-07",
          "2024-08",
          "2024-09",
          "2024-10",
          "2024-11",
          "2024-12",
          "2025-01",
          "2025-02",
          "2025-03",
          "2025-04",
          "2025-05",
          "2025-06",
          "2025-07",
          "2025-08"
         ],
         "y": {
          "bdata": "mSAsYYgJFUChh8IIeigUQI8WiEd2HxRAPZCbxgO5D0AJRzI5jHASQNwTwD0B3ANAED2+CwfREUD52xSjhr8KQNpbmL2F2QRAYRiGYRjmCUApXI/C9SgSQD0Jt4XOkwxAbEY2H7VmBkByKZdyKWcTQA0zksgwIw1AiYYVdI1o+L8pd4ByBygFwMoFTe1VAQnALGLNgLciCMCcKNm1iZL7v97d3d3d3fG/L5eJ73KZ+L+dk6WByTn1v5U0qi1XSfO/akTxvplGE0CnH6X8dPoSQAtOi1+j4BZAks+j5yT5E0AyHuMxHuMWQNOrNte43RRA0wY6baAzFUC+8lH9ZOwVQN4CTN4CTBRA8uJhRnvaEkANSoWJ9yMSQImrE0z1cBVAiRo/iBo/FkCWcSiWcSgRQP10+lHKTxZAsGaJ8SnTFEARU+YVMWUXQMdxHMdxHBhAPYPbyTM4GEB0P/dzP/cZQPRhPfRhPRhAwr9yUYFsF0AMfLrApwsZQIFGbK9f7hJAPgrXo3B9GUCBwmucjQwWQIU8qoU8qhdAi31W4YFjFUDu5BncTp4VQEZgBEZgBBVAtC2a36+gF0AAQtUEIFQZQMmPuIb8iBZA6cZFjm5cGEBtPPe4zcYVQOMrvuIr3hZA8NP9Pt1vFkBk0PinSQYSQIuM0Sw62BNAKdpq8ByBE0BbfjbGpmUVQGqSQeOfphRAiYiIiIgIEkDishFUz5gRQA==",
          "dtype": "f8"
         }
        },
        {
         "line": {
          "color": "#636EFA"
         },
         "mode": "lines+markers",
         "name": "Production Management",
         "type": "scatter",
         "visible": false,
         "x": [
          "2020-01",
          "2020-02",
          "2020-03",
          "2020-04",
          "2020-05",
          "2020-06",
          "2020-07",
          "2020-08",
          "2020-09",
          "2020-10",
          "2020-11",
          "2020-12",
          "2021-01",
          "2021-02",
          "2021-03",
          "2021-04",
          "2021-05",
          "2021-06",
          "2021-07",
          "2021-08",
          "2021-09",
          "2021-10",
          "2021-11",
          "2021-12",
          "2022-01",
          "2022-02",
          "2022-03",
          "2022-04",
          "2022-05",
          "2022-06",
          "2022-07",
          "2022-08",
          "2022-09",
          "2022-10",
          "2022-11",
          "2022-12",
          "2023-01",
          "2023-02",
          "2023-03",
          "2023-04",
          "2023-05",
          "2023-06",
          "2023-07",
          "2023-08",
          "2023-09",
          "2023-10",
          "2023-11",
          "2023-12",
          "2024-01",
          "2024-02",
          "2024-03",
          "2024-04",
          "2024-05",
          "2024-06",
          "2024-07",
          "2024-08",
          "2024-09",
          "2024-10",
          "2024-11",
          "2024-12",
          "2025-01",
          "2025-02",
          "2025-03",
          "2025-04",
          "2025-05",
          "2025-06",
          "2025-07",
          "2025-08"
         ],
         "y": {
          "bdata": "V+vCE3I1PMAGjX+aZLA4wDuL6SymkznAofFPkww6OcAKL5nwksk6wDCW/GLJXz3AuR6F61GwOsDTBjptoIs5wEsrqLSCSjvAkRd5kRdZN8Cv7fPaPu85wL9Y8oslHz7AUyu1Uiv1OcBcj8L1KCQ4wImIiIiIUD7Ao3E5GpejP8DHcRzHcWxAwOZszuZsLkLAo2ECMhrmPsBBpw102vA/wAOdNtBpl0DAY8kvlvyaPMA/6ZM+6dM/wF3FVVzFVT/AUMD+BOxPDEBspMNGOmwOQLy7u7u72xFA6bSBThsoC0B7qId6qIcOQDSFQFMINAFAzczMzMyMA0DSIA3SIA0MQOVUTuVUTgtAAAAAAAAAB0AE9xHcR3AQQL2G8hrKaw1ASYqkSIqkBEC+USl62BsLQBM0QRM0QQ1A/WLJL5Z8DECPwvUoXM8LQLolTv2eWwNA6WFvVIoeD0ARCqEQCqEOQLy7u7u7uwNA1brwhFytC0CWsf2OXhkPQO19TQjK3g1A/WLJL5a8CUCamZmZmVkMQKpYnYrVqQhARJs9tNlDCUDv7u7u7u4NQMBslgHMZgdAPLVTO7VTCEAc6LSBThsIQJChssPU5QpAmbrc/iBDCUB90id90icHQEaJn1HiZwlAWfKLJb9YBED3/FcIDmkFQDMzMzMzMwNAmkzzn8k0BUBuf5ChssMGQFn7hrVvWAVATNqStqQtCUAhFVIhFVIJQA==",
          "dtype": "f8"
         }
        },
        {
         "line": {
          "color": "#EF553B"
         },
         "mode": "lines+markers",
         "name": "Engineering",
         "type": "scatter",
         "visible": false,
         "x": [
          "2020-01",
          "2020-02",
          "2020-03",
          "2020-04",
          "2020-05",
          "2020-06",
          "2020-07",
          "2020-08",
          "2020-09",
          "2020-10",
          "2020-11",
          "2020-12",
          "2021-01",
          "2021-02",
          "2021-03",
          "2021-04",
          "2021-05",
          "2021-06",
          "2021-07",
          "2021-08",
          "2021-09",
          "2021-10",
          "2021-11",
          "2021-12",
          "2022-01",
          "2022-02",
          "2022-03",
          "2022-04",
          "2022-05",
          "2022-06",
          "2022-07",
          "2022-08",
          "2022-09",
          "2022-10",
          "2022-11",
          "2022-12",
          "2023-01",
          "2023-02",
          "2023-03",
          "2023-04",
          "2023-05",
          "2023-06",
          "2023-07",
          "2023-08",
          "2023-09",
          "2023-10",
          "2023-11",
          "2023-12",
          "2024-01",
          "2024-02",
          "2024-03",
          "2024-04",
          "2024-05",
          "2024-06",
          "2024-07",
          "2024-08",
          "2024-09",
          "2024-10",
          "2024-11",
          "2024-12",
          "2025-01",
          "2025-02",
          "2025-03",
          "2025-04",
          "2025-05",
          "2025-06",
          "2025-07",
          "2025-08"
         ],
         "y": {
          "bdata": "mYLQP7qN6T8BLpKzvhcDwImIiIiIiPS/3t3d3d2dEcCamZmZmZnYv97d3d3d3ew/FmzBFmzByr9Q+qRP+iTpP6VP+qRP2gzAq6qqqqqq4L/WgCvWgCvGv9eBLNeBLO+/fcu3fMu3zD8/8AM/8APPP3QfynQfyvy/gQqogAqoDsD1V3/1V38bwExMTExMTCDAKYuyKIuyHMD0q14uUIUfwDMzMzMzcyDAF5WjTFacJMCdNtBpA50kwKVcyqVc2iTAPoX1FNZTAkDqkz7pkz79P1OdLdXZUgdAi1KmKGWKDkD3EdxHcB8QQPfpfp/u9wVAdbn9QYbKCUDptIFOG+gNQMs9jbDc0xFAHEO4FzaRCEBOlOzaREkQQMulXMqlnA9AIiIiIiJiE0A6baDTBjoTQN0Byh2g3BdAs/9mmDX7C0BDlYxyJDoSQD/pkz7pkxFAU0GrLxW0EUDxfS4L3+cMQFPGFTllXA9AdN5iSOetFUBtHfrN1qESQDVH3Vhz1A9AaY3WaI3WD0DneZ7neV4PQAIncAInsBFAltRWUltJEEAGMileIBMQQERERERERA5AL6G9hPYSDkDh6AmOnuANQMpeuWL4UgxAMP/yL//yA0CBb15NPCsFQJzUfXlsRQZAReJVJF5FDEAqRg1/m2IEQBQcPcHREwNAPCPAMwI8BEC8u7u7u4MJQI9t6diWjg9ApgFtGtCmC0A9KxoJ+GYHQA==",
          "dtype": "f8"
         }
        },
        {
         "line": {
          "color": "#636EFA"
         },
         "mode": "lines+markers",
         "name": "Marketing",
         "type": "scatter",
         "visible": false,
         "x": [
          "2020-01",
          "2020-02",
          "2020-03",
          "2020-04",
          "2020-05",
          "2020-06",
          "2020-07",
          "2020-08",
          "2020-09",
          "2020-10",
          "2020-11",
          "2020-12",
          "2021-01",
          "2021-02",
          "2021-03",
          "2021-04",
          "2021-05",
          "2021-06",
          "2021-07",
          "2021-08",
          "2021-09",
          "2021-10",
          "2021-11",
          "2021-12",
          "2022-01",
          "2022-02",
          "2022-03",
          "2022-04",
          "2022-05",
          "2022-06",
          "2022-07",
          "2022-08",
          "2022-09",
          "2022-10",
          "2022-11",
          "2022-12",
          "2023-01",
          "2023-02",
          "2023-03",
          "2023-04",
          "2023-05",
          "2023-06",
          "2023-07",
          "2023-08",
          "2023-09",
          "2023-10",
          "2023-11",
          "2023-12",
          "2024-01",
          "2024-02",
          "2024-03",
          "2024-04",
          "2024-05",
          "2024-06",
          "2024-07",
          "2024-08",
          "2024-09",
          "2024-10",
          "2024-11",
          "2024-12",
          "2025-01",
          "2025-02",
          "2025-03",
          "2025-04",
          "2025-05",
          "2025-06",
          "2025-07",
          "2025-08"
         ],
         "y": {
          "bdata": "bopRw9+m5D/yGsprKK/RP2ZmZmZmZhpAYCz5xZJfHUAucer33BITQCFX68ITch5AAcs2Xw6wFkDBfQT3EVwgQK+hvIbyGhJAh/IaymsoIECCThvotIEaQHasQBhpxyJAXdd1Xdd1IEAkSZIkSZIeQCW/WPKL5SBA1Vu91Vu9CUAUrkfhehT+P5VLuZRLufA/IiIiIiIi7j9BnhLkKUHwPy+66KKLLvI/yVOCPCXI5z9gGgOmMWDwP1100UUXXdS/wEVy1vcC+D+irQbPESgCQBI/o8TPKA1ADYda9tTJCEBVVVVVVVUOQC7Ygi3YwgRANV66SQwCBUCKQWDl0CIDQBUg95oLSQdA4ziO4ziOB0AiIiIiIuIIQCIiIiIiYhFApmu6pmu6DUB2Yid2YicKQBy5kRu5kRJAoAIqoAIqB0CTMAmTMAkMQLLkF0t+sRBA0id90id9DkAMtmALtmANQEPSlIqzDwlAJ33SJ32SB0AyelvW6pj8P9M1XdM1XQRA7+7u7u7uAED8wA/8wA8BQIuyKIuyKO8/fLZne7Zn9T+sMCc6FGD8P9wUo4a/TfU/DgblYFAO/j8NmcqQqQwFQPoan6/x+QBAIiIiIiIiCkDv7u7u7u4DQBufr/H5Gvc/8M2riWdFBUAP/Wbr0G8AQCIiIiIiIgZAWfKLJb9YB0BmZmZmZoYHQBTrRbFeFAlA2YIt2IItBkDRVGSimnv7Pw==",
          "dtype": "f8"
         }
        },
        {
         "line": {
          "color": "#EF553B"
         },
         "mode": "lines+markers",
         "name": "Sales",
         "type": "scatter",
         "visible": false,
         "x": [
          "2020-01",
          "2020-02",
          "2020-03",
          "2020-04",
          "2020-05",
          "2020-06",
          "2020-07",
          "2020-08",
          "2020-09",
          "2020-10",
          "2020-11",
          "2020-12",
          "2021-01",
          "2021-02",
          "2021-03",
          "2021-04",
          "2021-05",
          "2021-06",
          "2021-07",
          "2021-08",
          "2021-09",
          "2021-10",
          "2021-11",
          "2021-12",
          "2022-01",
          "2022-02",
          "2022-03",
          "2022-04",
          "2022-05",
          "2022-06",
          "2022-07",
          "2022-08",
          "2022-09",
          "2022-10",
          "2022-11",
          "2022-12",
          "2023-01",
          "2023-02",
          "2023-03",
          "2023-04",
          "2023-05",
          "2023-06",
          "2023-07",
          "2023-08",
          "2023-09",
          "2023-10",
          "2023-11",
          "2023-12",
          "2024-01",
          "2024-02",
          "2024-03",
          "2024-04",
          "2024-05",
          "2024-06",
          "2024-07",
          "2024-08",
          "2024-09",
          "2024-10",
          "2024-11",
          "2024-12",
          "2025-01",
          "2025-02",
          "2025-03",
          "2025-04",
          "2025-05",
          "2025-06",
          "2025-07",
          "2025-08"
         ],
         "y": {
          "bdata": "khVZkRVZEMBL/IwSP6MLwOH8aiMFjBHAHEKQjSyIEMDqkz7pk84MwGHCZoSvvxLAsj7zVlweEsD1KFyPwvUGwAAAAAAA4A7A3t3d3d3dB8BFapyphFIJwP5KgVq/UhHAgy3Ygi1IFMAGW7AFW3AQwLZgC7ZgGw3AiYiIiIhwHsDa5ssBlm0iwN2ghZDy5CLAvjVsVpItIcBeUvkw7hcewOsAWbk6QB/APV5pworNHcBgl1Q+jHsiwOk2piD0jyLAa+wc732TB0BswRZswQYFQEnQlpFiuwhA8pmPu8AqBkDsCpB7zQUHQJfaPBvqegdAwDl1uBr5A0B2izMpVVoIQNXkcWcJuwlAH1LO8ftHCEAgB21+HV4GQLPdFkbRyQZAe88kes8kC0BdF5uY7woIQAd+4Ad+IA5Aj/EYj/GYBkAe4zEe43EGQN+3nzDLKwhAA/zEyUPrB0B5cR46hhcLQB8vOPTxggdA84BknSsPB0DDjJ93LMwKQBtS6gysIQNANOWHvPosBEC373eWdfv+P+qTPumTvgdAxXJBik8sBUBzk8GVMjcDQPc3lDx2fwVATQ4jHMnkBkC+6pBE3asIQPwHD+DDfwhA7f6GksfuCUDD2jesfcMEQHQiCOlPDwxAYUaZx6z/C0Cf7dme7ZkHQP6ptpUeIQhAkmWDbycCC0D3TKL3TCIQQJ4hMW9nSAhAtq6RfIShCkA0HLPr4FwFQA==",
          "dtype": "f8"
         }
        }
       ],
       "layout": {
        "annotations": [
         {
          "align": "left",
          "showarrow": false,
          "text": "직무 선택:",
          "x": 0,
          "y": 1.08,
          "yref": "paper"
         }
        ],
        "font": {
         "size": 14
        },
        "height": 700,
        "legend": {
         "title": {
          "text": "직무"
         }
        },
        "template": {
         "data": {
          "bar": [
           {
            "error_x": {
             "color": "#2a3f5f"
            },
            "error_y": {
             "color": "#2a3f5f"
            },
            "marker": {
             "line": {
              "color": "#E5ECF6",
              "width": 0.5
             },
             "pattern": {
              "fillmode": "overlay",
              "size": 10,
              "solidity": 0.2
             }
            },
            "type": "bar"
           }
          ],
          "barpolar": [
           {
            "marker": {
             "line": {
              "color": "#E5ECF6",
              "width": 0.5
             },
             "pattern": {
              "fillmode": "overlay",
              "size": 10,
              "solidity": 0.2
             }
            },
            "type": "barpolar"
           }
          ],
          "carpet": [
           {
            "aaxis": {
             "endlinecolor": "#2a3f5f",
             "gridcolor": "white",
             "linecolor": "white",
             "minorgridcolor": "white",
             "startlinecolor": "#2a3f5f"
            },
            "baxis": {
             "endlinecolor": "#2a3f5f",
             "gridcolor": "white",
             "linecolor": "white",
             "minorgridcolor": "white",
             "startlinecolor": "#2a3f5f"
            },
            "type": "carpet"
           }
          ],
          "choropleth": [
           {
            "colorbar": {
             "outlinewidth": 0,
             "ticks": ""
            },
            "type": "choropleth"
           }
          ],
          "contour": [
           {
            "colorbar": {
             "outlinewidth": 0,
             "ticks": ""
            },
            "colorscale": [
             [
              0,
              "#0d0887"
             ],
             [
              0.1111111111111111,
              "#46039f"
             ],
             [
              0.2222222222222222,
              "#7201a8"
             ],
             [
              0.3333333333333333,
              "#9c179e"
             ],
             [
              0.4444444444444444,
              "#bd3786"
             ],
             [
              0.5555555555555556,
              "#d8576b"
             ],
             [
              0.6666666666666666,
              "#ed7953"
             ],
             [
              0.7777777777777778,
              "#fb9f3a"
             ],
             [
              0.8888888888888888,
              "#fdca26"
             ],
             [
              1,
              "#f0f921"
             ]
            ],
            "type": "contour"
           }
          ],
          "contourcarpet": [
           {
            "colorbar": {
             "outlinewidth": 0,
             "ticks": ""
            },
            "type": "contourcarpet"
           }
          ],
          "heatmap": [
           {
            "colorbar": {
             "outlinewidth": 0,
             "ticks": ""
            },
            "colorscale": [
             [
              0,
              "#0d0887"
             ],
             [
              0.1111111111111111,
              "#46039f"
             ],
             [
              0.2222222222222222,
              "#7201a8"
             ],
             [
              0.3333333333333333,
              "#9c179e"
             ],
             [
              0.4444444444444444,
              "#bd3786"
             ],
             [
              0.5555555555555556,
              "#d8576b"
             ],
             [
              0.6666666666666666,
              "#ed7953"
             ],
             [
              0.7777777777777778,
              "#fb9f3a"
             ],
             [
              0.8888888888888888,
              "#fdca26"
             ],
             [
              1,
              "#f0f921"
             ]
            ],
            "type": "heatmap"
           }
          ],
          "histogram": [
           {
            "marker": {
             "pattern": {
              "fillmode": "overlay",
              "size": 10,
              "solidity": 0.2
             }
            },
            "type": "histogram"
           }
          ],
          "histogram2d": [
           {
            "colorbar": {
             "outlinewidth": 0,
             "ticks": ""
            },
            "colorscale": [
             [
              0,
              "#0d0887"
             ],
             [
              0.1111111111111111,
              "#46039f"
             ],
             [
              0.2222222222222222,
              "#7201a8"
             ],
             [
              0.3333333333333333,
              "#9c179e"
             ],
             [
              0.4444444444444444,
              "#bd3786"
             ],
             [
              0.5555555555555556,
              "#d8576b"
             ],
             [
              0.6666666666666666,
              "#ed7953"
             ],
             [
              0.7777777777777778,
              "#fb9f3a"
             ],
             [
              0.8888888888888888,
              "#fdca26"
             ],
             [
              1,
              "#f0f921"
             ]
            ],
            "type": "histogram2d"
           }
          ],
          "histogram2dcontour": [
           {
            "colorbar": {
             "outlinewidth": 0,
             "ticks": ""
            },
            "colorscale": [
             [
              0,
              "#0d0887"
             ],
             [
              0.1111111111111111,
              "#46039f"
             ],
             [
              0.2222222222222222,
              "#7201a8"
             ],
             [
              0.3333333333333333,
              "#9c179e"
             ],
             [
              0.4444444444444444,
              "#bd3786"
             ],
             [
              0.5555555555555556,
              "#d8576b"
             ],
             [
              0.6666666666666666,
              "#ed7953"
             ],
             [
              0.7777777777777778,
              "#fb9f3a"
             ],
             [
              0.8888888888888888,
              "#fdca26"
             ],
             [
              1,
              "#f0f921"
             ]
            ],
            "type": "histogram2dcontour"
           }
          ],
          "mesh3d": [
           {
            "colorbar": {
             "outlinewidth": 0,
             "ticks": ""
            },
            "type": "mesh3d"
           }
          ],
          "parcoords": [
           {
            "line": {
             "colorbar": {
              "outlinewidth": 0,
              "ticks": ""
             }
            },
            "type": "parcoords"
           }
          ],
          "pie": [
           {
            "automargin": true,
            "type": "pie"
           }
          ],
          "scatter": [
           {
            "fillpattern": {
             "fillmode": "overlay",
             "size": 10,
             "solidity": 0.2
            },
            "type": "scatter"
           }
          ],
          "scatter3d": [
           {
            "line": {
             "colorbar": {
              "outlinewidth": 0,
              "ticks": ""
             }
            },
            "marker": {
             "colorbar": {
              "outlinewidth": 0,
              "ticks": ""
             }
            },
            "type": "scatter3d"
           }
          ],
          "scattercarpet": [
           {
            "marker": {
             "colorbar": {
              "outlinewidth": 0,
              "ticks": ""
             }
            },
            "type": "scattercarpet"
           }
          ],
          "scattergeo": [
           {
            "marker": {
             "colorbar": {
              "outlinewidth": 0,
              "ticks": ""
             }
            },
            "type": "scattergeo"
           }
          ],
          "scattergl": [
           {
            "marker": {
             "colorbar": {
              "outlinewidth": 0,
              "ticks": ""
             }
            },
            "type": "scattergl"
           }
          ],
          "scattermap": [
           {
            "marker": {
             "colorbar": {
              "outlinewidth": 0,
              "ticks": ""
             }
            },
            "type": "scattermap"
           }
          ],
          "scattermapbox": [
           {
            "marker": {
             "colorbar": {
              "outlinewidth": 0,
              "ticks": ""
             }
            },
            "type": "scattermapbox"
           }
          ],
          "scatterpolar": [
           {
            "marker": {
             "colorbar": {
              "outlinewidth": 0,
              "ticks": ""
             }
            },
            "type": "scatterpolar"
           }
          ],
          "scatterpolargl": [
           {
            "marker": {
             "colorbar": {
              "outlinewidth": 0,
              "ticks": ""
             }
            },
            "type": "scatterpolargl"
           }
          ],
          "scatterternary": [
           {
            "marker": {
             "colorbar": {
              "outlinewidth": 0,
              "ticks": ""
             }
            },
            "type": "scatterternary"
           }
          ],
          "surface": [
           {
            "colorbar": {
             "outlinewidth": 0,
             "ticks": ""
            },
            "colorscale": [
             [
              0,
              "#0d0887"
             ],
             [
              0.1111111111111111,
              "#46039f"
             ],
             [
              0.2222222222222222,
              "#7201a8"
             ],
             [
              0.3333333333333333,
              "#9c179e"
             ],
             [
              0.4444444444444444,
              "#bd3786"
             ],
             [
              0.5555555555555556,
              "#d8576b"
             ],
             [
              0.6666666666666666,
              "#ed7953"
             ],
             [
              0.7777777777777778,
              "#fb9f3a"
             ],
             [
              0.8888888888888888,
              "#fdca26"
             ],
             [
              1,
              "#f0f921"
             ]
            ],
            "type": "surface"
           }
          ],
          "table": [
           {
            "cells": {
             "fill": {
              "color": "#EBF0F8"
             },
             "line": {
              "color": "white"
             }
            },
            "header": {
             "fill": {
              "color": "#C8D4E3"
             },
             "line": {
              "color": "white"
             }
            },
            "type": "table"
           }
          ]
         },
         "layout": {
          "annotationdefaults": {
           "arrowcolor": "#2a3f5f",
           "arrowhead": 0,
           "arrowwidth": 1
          },
          "autotypenumbers": "strict",
          "coloraxis": {
           "colorbar": {
            "outlinewidth": 0,
            "ticks": ""
           }
          },
          "colorscale": {
           "diverging": [
            [
             0,
             "#8e0152"
            ],
            [
             0.1,
             "#c51b7d"
            ],
            [
             0.2,
             "#de77ae"
            ],
            [
             0.3,
             "#f1b6da"
            ],
            [
             0.4,
             "#fde0ef"
            ],
            [
             0.5,
             "#f7f7f7"
            ],
            [
             0.6,
             "#e6f5d0"
            ],
            [
             0.7,
             "#b8e186"
            ],
            [
             0.8,
             "#7fbc41"
            ],
            [
             0.9,
             "#4d9221"
            ],
            [
             1,
             "#276419"
            ]
           ],
           "sequential": [
            [
             0,
             "#0d0887"
            ],
            [
             0.1111111111111111,
             "#46039f"
            ],
            [
             0.2222222222222222,
             "#7201a8"
            ],
            [
             0.3333333333333333,
             "#9c179e"
            ],
            [
             0.4444444444444444,
             "#bd3786"
            ],
            [
             0.5555555555555556,
             "#d8576b"
            ],
            [
             0.6666666666666666,
             "#ed7953"
            ],
            [
             0.7777777777777778,
             "#fb9f3a"
            ],
            [
             0.8888888888888888,
             "#fdca26"
            ],
            [
             1,
             "#f0f921"
            ]
           ],
           "sequentialminus": [
            [
             0,
             "#0d0887"
            ],
            [
             0.1111111111111111,
             "#46039f"
            ],
            [
             0.2222222222222222,
             "#7201a8"
            ],
            [
             0.3333333333333333,
             "#9c179e"
            ],
            [
             0.4444444444444444,
             "#bd3786"
            ],
            [
             0.5555555555555556,
             "#d8576b"
            ],
            [
             0.6666666666666666,
             "#ed7953"
            ],
            [
             0.7777777777777778,
             "#fb9f3a"
            ],
            [
             0.8888888888888888,
             "#fdca26"
            ],
            [
             1,
             "#f0f921"
            ]
           ]
          },
          "colorway": [
           "#636efa",
           "#EF553B",
           "#00cc96",
           "#ab63fa",
           "#FFA15A",
           "#19d3f3",
           "#FF6692",
           "#B6E880",
           "#FF97FF",
           "#FECB52"
          ],
          "font": {
           "color": "#2a3f5f"
          },
          "geo": {
           "bgcolor": "white",
           "lakecolor": "white",
           "landcolor": "#E5ECF6",
           "showlakes": true,
           "showland": true,
           "subunitcolor": "white"
          },
          "hoverlabel": {
           "align": "left"
          },
          "hovermode": "closest",
          "mapbox": {
           "style": "light"
          },
          "paper_bgcolor": "white",
          "plot_bgcolor": "#E5ECF6",
          "polar": {
           "angularaxis": {
            "gridcolor": "white",
            "linecolor": "white",
            "ticks": ""
           },
           "bgcolor": "#E5ECF6",
           "radialaxis": {
            "gridcolor": "white",
            "linecolor": "white",
            "ticks": ""
           }
          },
          "scene": {
           "xaxis": {
            "backgroundcolor": "#E5ECF6",
            "gridcolor": "white",
            "gridwidth": 2,
            "linecolor": "white",
            "showbackground": true,
            "ticks": "",
            "zerolinecolor": "white"
           },
           "yaxis": {
            "backgroundcolor": "#E5ECF6",
            "gridcolor": "white",
            "gridwidth": 2,
            "linecolor": "white",
            "showbackground": true,
            "ticks": "",
            "zerolinecolor": "white"
           },
           "zaxis": {
            "backgroundcolor": "#E5ECF6",
            "gridcolor": "white",
            "gridwidth": 2,
            "linecolor": "white",
            "showbackground": true,
            "ticks": "",
            "zerolinecolor": "white"
           }
          },
          "shapedefaults": {
           "line": {
            "color": "#2a3f5f"
           }
          },
          "ternary": {
           "aaxis": {
            "gridcolor": "white",
            "linecolor": "white",
            "ticks": ""
           },
           "baxis": {
            "gridcolor": "white",
            "linecolor": "white",
            "ticks": ""
           },
           "bgcolor": "#E5ECF6",
           "caxis": {
            "gridcolor": "white",
            "linecolor": "white",
            "ticks": ""
           }
          },
          "title": {
           "x": 0.05
          },
          "xaxis": {
           "automargin": true,
           "gridcolor": "white",
           "linecolor": "white",
           "ticks": "",
           "title": {
            "standoff": 15
           },
           "zerolinecolor": "white",
           "zerolinewidth": 2
          },
          "yaxis": {
           "automargin": true,
           "gridcolor": "white",
           "linecolor": "white",
           "ticks": "",
           "title": {
            "standoff": 15
           },
           "zerolinecolor": "white",
           "zerolinewidth": 2
          }
         }
        },
        "title": {
         "text": "직무별 월 평균 1인당 초과근무 시간 드릴다운 분석"
        },
        "updatemenus": [
         {
          "active": 0,
          "buttons": [
           {
            "args": [
             {
              "visible": [
               true,
               true,
               true,
               true,
               true,
               false,
               false,
               false,
               false,
               false,
               false,
               false,
               false,
               false,
               false
              ]
             },
             {
              "title": "전체 직무별 월 평균 초과근무 시간 추이"
             }
            ],
            "label": "전체",
            "method": "update"
           },
           {
            "args": [
             {
              "visible": [
               false,
               false,
               false,
               false,
               false,
               true,
               true,
               true,
               false,
               false,
               false,
               false,
               false,
               false,
               false
              ]
             },
             {
              "title": "IT 내 직무별 월 평균 초과근무 시간 추이"
             }
            ],
            "label": "IT",
            "method": "update"
           },
           {
            "args": [
             {
              "visible": [
               false,
               false,
               false,
               false,
               false,
               false,
               false,
               false,
               true,
               true,
               false,
               false,
               false,
               false,
               false
              ]
             },
             {
              "title": "Management Support 내 직무별 월 평균 초과근무 시간 추이"
             }
            ],
            "label": "Management Support",
            "method": "update"
           },
           {
            "args": [
             {
              "visible": [
               false,
               false,
               false,
               false,
               false,
               false,
               false,
               false,
               false,
               false,
               true,
               false,
               false,
               false,
               false
              ]
             },
             {
              "title": "Planning 내 직무별 월 평균 초과근무 시간 추이"
             }
            ],
            "label": "Planning",
            "method": "update"
           },
           {
            "args": [
             {
              "visible": [
               false,
               false,
               false,
               false,
               false,
               false,
               false,
               false,
               false,
               false,
               false,
               true,
               true,
               false,
               false
              ]
             },
             {
              "title": "Production & Engineering 내 직무별 월 평균 초과근무 시간 추이"
             }
            ],
            "label": "Production & Engineering",
            "method": "update"
           },
           {
            "args": [
             {
              "visible": [
               false,
               false,
               false,
               false,
               false,
               false,
               false,
               false,
               false,
               false,
               false,
               false,
               false,
               true,
               true
              ]
             },
             {
              "title": "Sales & Marketing 내 직무별 월 평균 초과근무 시간 추이"
             }
            ],
            "label": "Sales & Marketing",
            "method": "update"
           }
          ],
          "direction": "down",
          "pad": {
           "r": 10,
           "t": 10
          },
          "showactive": true,
          "x": 0.01,
          "xanchor": "left",
          "y": 1.1,
          "yanchor": "top"
         }
        ],
        "xaxis": {
         "range": [
          "2019-12",
          "2026-01"
         ],
         "title": {
          "text": "월(YYYY-MM)"
         }
        },
        "yaxis": {
         "range": [
          -63.0834126984127,
          28.431825396825396
         ],
         "title": {
          "text": "1인당 평균 초과근무 (시간)"
         }
        }
       }
      }
     },
     "metadata": {},
     "output_type": "display_data"
    },
    {
     "name": "stdout",
     "output_type": "stream",
     "text": [
      "\n",
      "--- Aggregate DataFrame ---\n"
     ]
    },
    {
     "data": {
      "text/html": [
       "<div>\n",
       "<style scoped>\n",
       "    .dataframe tbody tr th:only-of-type {\n",
       "        vertical-align: middle;\n",
       "    }\n",
       "\n",
       "    .dataframe tbody tr th {\n",
       "        vertical-align: top;\n",
       "    }\n",
       "\n",
       "    .dataframe thead th {\n",
       "        text-align: right;\n",
       "    }\n",
       "</style>\n",
       "<table border=\"1\" class=\"dataframe\">\n",
       "  <thead>\n",
       "    <tr style=\"text-align: right;\">\n",
       "      <th>JOB_L1_NAME</th>\n",
       "      <th>전체 평균</th>\n",
       "      <th>IT</th>\n",
       "      <th>Management Support</th>\n",
       "      <th>Planning</th>\n",
       "      <th>Production &amp; Engineering</th>\n",
       "      <th>Sales &amp; Marketing</th>\n",
       "    </tr>\n",
       "    <tr>\n",
       "      <th>YEAR</th>\n",
       "      <th></th>\n",
       "      <th></th>\n",
       "      <th></th>\n",
       "      <th></th>\n",
       "      <th></th>\n",
       "      <th></th>\n",
       "    </tr>\n",
       "  </thead>\n",
       "  <tbody>\n",
       "    <tr>\n",
       "      <th>2020</th>\n",
       "      <td>0.15</td>\n",
       "      <td>6.04</td>\n",
       "      <td>9.40</td>\n",
       "      <td>4.01</td>\n",
       "      <td>-12.52</td>\n",
       "      <td>-2.23</td>\n",
       "    </tr>\n",
       "    <tr>\n",
       "      <th>2021</th>\n",
       "      <td>-4.44</td>\n",
       "      <td>0.14</td>\n",
       "      <td>3.91</td>\n",
       "      <td>-0.49</td>\n",
       "      <td>-16.90</td>\n",
       "      <td>-5.53</td>\n",
       "    </tr>\n",
       "    <tr>\n",
       "      <th>2022</th>\n",
       "      <td>4.12</td>\n",
       "      <td>4.83</td>\n",
       "      <td>4.54</td>\n",
       "      <td>5.14</td>\n",
       "      <td>3.39</td>\n",
       "      <td>2.90</td>\n",
       "    </tr>\n",
       "    <tr>\n",
       "      <th>2023</th>\n",
       "      <td>4.37</td>\n",
       "      <td>4.59</td>\n",
       "      <td>4.57</td>\n",
       "      <td>5.66</td>\n",
       "      <td>4.05</td>\n",
       "      <td>3.12</td>\n",
       "    </tr>\n",
       "    <tr>\n",
       "      <th>2024</th>\n",
       "      <td>4.06</td>\n",
       "      <td>4.30</td>\n",
       "      <td>4.79</td>\n",
       "      <td>5.74</td>\n",
       "      <td>3.43</td>\n",
       "      <td>2.62</td>\n",
       "    </tr>\n",
       "    <tr>\n",
       "      <th>2025</th>\n",
       "      <td>3.87</td>\n",
       "      <td>4.24</td>\n",
       "      <td>4.59</td>\n",
       "      <td>4.92</td>\n",
       "      <td>2.94</td>\n",
       "      <td>3.10</td>\n",
       "    </tr>\n",
       "  </tbody>\n",
       "</table>\n",
       "</div>"
      ],
      "text/plain": [
       "JOB_L1_NAME  전체 평균    IT  Management Support  Planning  \\\n",
       "YEAR                                                     \n",
       "2020          0.15  6.04                9.40      4.01   \n",
       "2021         -4.44  0.14                3.91     -0.49   \n",
       "2022          4.12  4.83                4.54      5.14   \n",
       "2023          4.37  4.59                4.57      5.66   \n",
       "2024          4.06  4.30                4.79      5.74   \n",
       "2025          3.87  4.24                4.59      4.92   \n",
       "\n",
       "JOB_L1_NAME  Production & Engineering  Sales & Marketing  \n",
       "YEAR                                                      \n",
       "2020                           -12.52              -2.23  \n",
       "2021                           -16.90              -5.53  \n",
       "2022                             3.39               2.90  \n",
       "2023                             4.05               3.12  \n",
       "2024                             3.43               2.62  \n",
       "2025                             2.94               3.10  "
      ]
     },
     "execution_count": 4,
     "metadata": {},
     "output_type": "execute_result"
    }
   ],
   "source": [
    "import pandas as pd\n",
    "import numpy as np\n",
    "import plotly.graph_objects as go\n",
    "import plotly.io as pio\n",
    "import plotly.express as px\n",
    "import datetime\n",
    "\n",
    "# --- 1. 데이터 임포트 ---\n",
    "from services.tables.Time_Attendance.daily_working_info_table import daily_work_info_df\n",
    "from services.tables.HR_Core.job_info_table import job_info_df\n",
    "from services.tables.HR_Core.job_table import job_df, job_df_indexed, parent_map_job, job_l1_order, job_l2_order\n",
    "from services.helpers.utils import get_level1_ancestor, get_level2_ancestor\n",
    "\n",
    "def create_figure_and_df():\n",
    "    \"\"\"\n",
    "    제안 13-2: 직무별 워라밸 변화 추이 그래프 및 피벗 테이블을 생성합니다.\n",
    "    \"\"\"\n",
    "    # --- 2. 데이터 준비 및 가공 ---\n",
    "    daily_work_df = daily_work_info_df.copy()\n",
    "    daily_work_df['DATE'] = pd.to_datetime(daily_work_df['DATE'])\n",
    "    daily_work_df['PAY_PERIOD'] = daily_work_df['DATE'].dt.strftime('%Y-%m')\n",
    "\n",
    "    job_info_sorted = job_info_df.sort_values('JOB_APP_START_DATE')\n",
    "    analysis_df = daily_work_df.sort_values('DATE')\n",
    "    analysis_df = pd.merge_asof(\n",
    "        analysis_df, job_info_sorted[['EMP_ID', 'JOB_APP_START_DATE', 'JOB_ID']],\n",
    "        left_on='DATE', right_on='JOB_APP_START_DATE', by='EMP_ID', direction='backward'\n",
    "    )\n",
    "    job_name_map = job_df.set_index('JOB_ID')['JOB_NAME'].to_dict()\n",
    "    analysis_df['JOB_L1_NAME'] = analysis_df['JOB_ID'].apply(lambda x: job_name_map.get(get_level1_ancestor(x, job_df_indexed, parent_map_job)))\n",
    "    analysis_df['JOB_L2_NAME'] = analysis_df['JOB_ID'].apply(lambda x: job_name_map.get(get_level2_ancestor(x, job_df_indexed, parent_map_job)))\n",
    "    analysis_df = analysis_df.dropna(subset=['JOB_L1_NAME', 'JOB_L2_NAME'])\n",
    "\n",
    "    # --- 3. 계층별 데이터 집계 ---\n",
    "    job_l1_monthly_summary = analysis_df.groupby(['JOB_L1_NAME', 'PAY_PERIOD'], observed=False).agg(\n",
    "        TOTAL_OVERTIME_MINUTES=('OVERTIME_MINUTES', 'sum'), HEADCOUNT=('EMP_ID', 'nunique')\n",
    "    ).reset_index()\n",
    "    job_l1_monthly_summary['AVG_OVERTIME_PER_PERSON'] = (job_l1_monthly_summary['TOTAL_OVERTIME_MINUTES'] / job_l1_monthly_summary['HEADCOUNT']) / 60\n",
    "\n",
    "    job_l2_monthly_summary = analysis_df.groupby(['JOB_L1_NAME', 'JOB_L2_NAME', 'PAY_PERIOD'], observed=False).agg(\n",
    "        TOTAL_OVERTIME_MINUTES=('OVERTIME_MINUTES', 'sum'), HEADCOUNT=('EMP_ID', 'nunique')\n",
    "    ).reset_index()\n",
    "    job_l2_monthly_summary['AVG_OVERTIME_PER_PERSON'] = (job_l2_monthly_summary['TOTAL_OVERTIME_MINUTES'] / job_l2_monthly_summary['HEADCOUNT']) / 60\n",
    "    \n",
    "    all_overtime_values = pd.concat([job_l1_monthly_summary['AVG_OVERTIME_PER_PERSON'], job_l2_monthly_summary['AVG_OVERTIME_PER_PERSON']])\n",
    "    y_min, y_max = (all_overtime_values.min(), all_overtime_values.max()) if not all_overtime_values.empty else (0, 0)\n",
    "    y_padding = (y_max - y_min) * 0.1 if (y_max - y_min) > 0 else 10\n",
    "    fixed_y_range = [y_min - y_padding, y_max + y_padding]\n",
    "\n",
    "    # --- 4. Plotly 인터랙티브 그래프 생성 ---\n",
    "    # (그래프 생성 코드는 이전과 동일)\n",
    "    fig = go.Figure()\n",
    "    colors = px.colors.qualitative.Plotly\n",
    "    for i, job_l1_name in enumerate(job_l1_order):\n",
    "        df_filtered = job_l1_monthly_summary[job_l1_monthly_summary['JOB_L1_NAME'] == job_l1_name]\n",
    "        if not df_filtered.empty:\n",
    "            fig.add_trace(go.Scatter(x=df_filtered['PAY_PERIOD'], y=df_filtered['AVG_OVERTIME_PER_PERSON'], mode='lines+markers', name=job_l1_name, line=dict(color=colors[i])))\n",
    "    job_l2_traces_map = {}\n",
    "    trace_idx_counter = len(fig.data)\n",
    "    for job_l1_name in job_l1_order:\n",
    "        job_l2_df = job_l2_monthly_summary[job_l2_monthly_summary['JOB_L1_NAME'] == job_l1_name]\n",
    "        jobs_in_l1 = [j for j in job_l2_order if j in job_l2_df['JOB_L2_NAME'].unique()]\n",
    "        job_l2_traces_map[job_l1_name] = []\n",
    "        for j, job_l2_name in enumerate(jobs_in_l1):\n",
    "            df_filtered = job_l2_df[job_l2_df['JOB_L2_NAME'] == job_l2_name]\n",
    "            if not df_filtered.empty:\n",
    "                fig.add_trace(go.Scatter(x=df_filtered['PAY_PERIOD'], y=df_filtered['AVG_OVERTIME_PER_PERSON'], mode='lines+markers', name=job_l2_name, visible=False, line=dict(color=colors[j % len(colors)])))\n",
    "                job_l2_traces_map[job_l1_name].append(trace_idx_counter)\n",
    "                trace_idx_counter += 1\n",
    "    buttons = []\n",
    "    buttons.append(dict(label='전체', method='update', args=[{'visible': [True]*len(job_l1_order) + [False]*(len(fig.data)-len(job_l1_order))}, {'title': '전체 직무별 월 평균 초과근무 시간 추이'}]))\n",
    "    for job_l1_name in job_l1_order:\n",
    "        visibility_mask = [False] * len(fig.data)\n",
    "        for trace_idx in job_l2_traces_map.get(job_l1_name, []):\n",
    "            visibility_mask[trace_idx] = True\n",
    "        buttons.append(dict(label=f'{job_l1_name}', method='update', args=[{'visible': visibility_mask}, {'title': f'{job_l1_name} 내 직무별 월 평균 초과근무 시간 추이'}]))\n",
    "    fig.update_layout(\n",
    "        updatemenus=[dict(active=0, buttons=buttons, direction=\"down\", pad={\"r\": 10, \"t\": 10}, showactive=True, x=0.01, xanchor=\"left\", y=1.1, yanchor=\"top\")],\n",
    "        title_text='직무별 월 평균 1인당 초과근무 시간 드릴다운 분석',\n",
    "        xaxis_title='월(YYYY-MM)', yaxis_title='1인당 평균 초과근무 (시간)',\n",
    "        font_size=14, height=700,\n",
    "        legend_title_text='직무',\n",
    "        annotations=[dict(text=\"직무 선택:\", showarrow=False, x=0, y=1.08, yref=\"paper\", align=\"left\")],\n",
    "        xaxis_range=['2019-12', '2026-01'],\n",
    "        yaxis_range=fixed_y_range\n",
    "    )\n",
    "    \n",
    "    # --- 수정된 부분: aggregate_df 생성 ---\n",
    "    # 1. '전체 평균' 계산을 위한 데이터 준비\n",
    "    overall_monthly_summary = analysis_df.groupby('PAY_PERIOD', observed=False).agg(\n",
    "        TOTAL_OVERTIME_MINUTES=('OVERTIME_MINUTES', 'sum'), HEADCOUNT=('EMP_ID', 'nunique')\n",
    "    ).reset_index()\n",
    "    overall_monthly_summary['AVG_OVERTIME_PER_PERSON'] = (overall_monthly_summary['TOTAL_OVERTIME_MINUTES'] / overall_monthly_summary['HEADCOUNT']) / 60\n",
    "\n",
    "    # 2. 연도별로 데이터 집계\n",
    "    job_l1_monthly_summary['YEAR'] = pd.to_datetime(job_l1_monthly_summary['PAY_PERIOD']).dt.year\n",
    "    yearly_summary = job_l1_monthly_summary.groupby(['YEAR', 'JOB_L1_NAME'], observed=False)['AVG_OVERTIME_PER_PERSON'].mean().reset_index()\n",
    "\n",
    "    overall_monthly_summary['YEAR'] = pd.to_datetime(overall_monthly_summary['PAY_PERIOD']).dt.year\n",
    "    overall_yearly_summary = overall_monthly_summary.groupby('YEAR')['AVG_OVERTIME_PER_PERSON'].mean()\n",
    "\n",
    "    # 3. 피벗 테이블 생성 및 '전체 평균' 추가\n",
    "    aggregate_df = yearly_summary.pivot_table(\n",
    "        index='YEAR',\n",
    "        columns='JOB_L1_NAME',\n",
    "        values='AVG_OVERTIME_PER_PERSON',\n",
    "        observed=False\n",
    "    )\n",
    "    aggregate_df['전체 평균'] = overall_yearly_summary\n",
    "    \n",
    "    # 4. 연도 필터링 및 정렬\n",
    "    aggregate_df = aggregate_df.reindex(range(2020, 2026)).sort_index()\n",
    "    \n",
    "    # 5. 컬럼 순서 재배치 및 포맷팅\n",
    "    cols = ['전체 평균'] + [col for col in job_l1_order if col in aggregate_df.columns]\n",
    "    aggregate_df = aggregate_df[cols].round(2)\n",
    "    # --- 수정 완료 ---\n",
    "    \n",
    "    return fig, aggregate_df\n",
    "\n",
    "# --- 실행 코드 ---\n",
    "pio.renderers.default = 'vscode'\n",
    "fig, aggregate_df = create_figure_and_df()\n",
    "fig.show()\n",
    "\n",
    "print(\"\\n--- Aggregate DataFrame ---\")\n",
    "aggregate_df"
   ]
  },
  {
   "cell_type": "code",
   "execution_count": null,
   "id": "56b2c5db",
   "metadata": {},
   "outputs": [],
   "source": []
  }
 ],
 "metadata": {
  "kernelspec": {
   "display_name": "Python 3 (ipykernel)",
   "language": "python",
   "name": "python3"
  },
  "language_info": {
   "codemirror_mode": {
    "name": "ipython",
    "version": 3
   },
   "file_extension": ".py",
   "mimetype": "text/x-python",
   "name": "python",
   "nbconvert_exporter": "python",
   "pygments_lexer": "ipython3",
   "version": "3.12.11"
  }
 },
 "nbformat": 4,
 "nbformat_minor": 5
}
