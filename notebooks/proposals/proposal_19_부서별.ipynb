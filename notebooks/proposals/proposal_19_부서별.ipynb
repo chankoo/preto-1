{
 "cells": [
  {
   "cell_type": "code",
   "execution_count": 2,
   "id": "b4c4a243",
   "metadata": {},
   "outputs": [
    {
     "data": {
      "application/vnd.plotly.v1+json": {
       "config": {
        "plotlyServerURL": "https://plot.ly"
       },
       "data": [
        {
         "line": {
          "color": "red"
         },
         "mode": "lines+markers+text",
         "name": "퇴사자",
         "text": [
          "4.78",
          "3.39",
          "2.87",
          "2.72",
          "2.39",
          "2.08",
          "2.01",
          "2.12",
          "1.92",
          "1.91",
          "1.91",
          "1.45"
         ],
         "textposition": "top center",
         "type": "scatter",
         "visible": true,
         "x": {
          "bdata": "9PX29/j5+vv8/f7/",
          "dtype": "i1"
         },
         "y": {
          "bdata": "IyMjIyMjE0ApWBQsChYLQFeg0FNE/QZACar0M6fBBUAq8lk3mCIDQKJ2JWpXogBA0iAN0iANAEBVsPpUsPoAQHOrM1Ixt/4/SuMjE+id/j//fDgNoZL+P7SahCj+Ivc/",
          "dtype": "f8"
         }
        },
        {
         "line": {
          "color": "grey",
          "dash": "dash"
         },
         "mode": "lines",
         "name": "재직자(기준선)",
         "type": "scatter",
         "visible": true,
         "x": {
          "bdata": "9PX29/j5+vv8/f7/",
          "dtype": "i1"
         },
         "y": [
          1.4351562500000001,
          1.4351562500000001,
          1.4351562500000001,
          1.4351562500000001,
          1.4351562500000001,
          1.4351562500000001,
          1.4351562500000001,
          1.4351562500000001,
          1.4351562500000001,
          1.4351562500000001,
          1.4351562500000001,
          1.4351562500000001
         ]
        },
        {
         "line": {
          "color": "red"
         },
         "mode": "lines+markers+text",
         "name": "퇴사자",
         "text": [
          "5.57",
          "3.33",
          "2.42",
          "2.39",
          "2.21",
          "1.87",
          "1.98",
          "1.97",
          "2.04",
          "1.85",
          "2.04",
          "1.27"
         ],
         "textposition": "top center",
         "type": "scatter",
         "visible": false,
         "x": {
          "bdata": "9PX29/j5+vv8/f7/",
          "dtype": "i1"
         },
         "y": {
          "bdata": "oryG8hpKFkCrqqqqqqoKQLYDc+3AXANAAAAAAAAgA0Bu27Zt27YBQO+999577/0/gvsI7iO4/z9DeQ3lNZT/P76E9hLaSwBA01lMZzGd/T9+BPcR3EcAQAAAAAAAQPQ/",
          "dtype": "f8"
         }
        },
        {
         "line": {
          "color": "grey",
          "dash": "dash"
         },
         "mode": "lines",
         "name": "재직자(기준선)",
         "type": "scatter",
         "visible": false,
         "x": {
          "bdata": "9PX29/j5+vv8/f7/",
          "dtype": "i1"
         },
         "y": [
          1.5188172043010753,
          1.5188172043010753,
          1.5188172043010753,
          1.5188172043010753,
          1.5188172043010753,
          1.5188172043010753,
          1.5188172043010753,
          1.5188172043010753,
          1.5188172043010753,
          1.5188172043010753,
          1.5188172043010753,
          1.5188172043010753
         ]
        },
        {
         "line": {
          "color": "red"
         },
         "mode": "lines+markers+text",
         "name": "퇴사자",
         "text": [
          "5.52",
          "2.8",
          "3.09",
          "2.87",
          "2.46",
          "2.02",
          "2.18",
          "2.22",
          "1.86",
          "1.78",
          "1.99",
          "1.42"
         ],
         "textposition": "top center",
         "type": "scatter",
         "visible": false,
         "x": {
          "bdata": "9PX29/j5+vv8/f7/",
          "dtype": "i1"
         },
         "y": {
          "bdata": "EhISEhISFkDtJbSX0F4GQD7rBlPkswhA7+7u7u7uBkD8dqkn47cDQBPpgcrZLQBAa6211lprAUCSG7mRG7kBQNFFF1100f0/Yid2Yid2/D/bN6x9w9r/PwAAAAAAwPY/",
          "dtype": "f8"
         }
        },
        {
         "line": {
          "color": "grey",
          "dash": "dash"
         },
         "mode": "lines",
         "name": "재직자(기준선)",
         "type": "scatter",
         "visible": false,
         "x": {
          "bdata": "9PX29/j5+vv8/f7/",
          "dtype": "i1"
         },
         "y": [
          1.5294985250737463,
          1.5294985250737463,
          1.5294985250737463,
          1.5294985250737463,
          1.5294985250737463,
          1.5294985250737463,
          1.5294985250737463,
          1.5294985250737463,
          1.5294985250737463,
          1.5294985250737463,
          1.5294985250737463,
          1.5294985250737463
         ]
        },
        {
         "line": {
          "color": "red"
         },
         "mode": "lines+markers+text",
         "name": "퇴사자",
         "text": [
          "3.63",
          "3.33",
          "2.79",
          "2.5",
          "2.47",
          "2.19",
          "1.57",
          "1.99",
          "1.71",
          "1.98",
          "1.8",
          "1.38"
         ],
         "textposition": "top center",
         "type": "scatter",
         "visible": false,
         "x": {
          "bdata": "9PX29/j5+vv8/f7/",
          "dtype": "i1"
         },
         "y": {
          "bdata": "ERERERERDUCrqqqqqqoKQHzFV3zFVwZAAAAAAAAABEAAAAAAAMADQJv3KS4ZggFAKkGeEuQp+T/e3d3d3d3/P8F4K/scUvs/tm9Y+4a1/z8w3so+h9T8PwAAAAAAAPY/",
          "dtype": "f8"
         }
        },
        {
         "line": {
          "color": "grey",
          "dash": "dash"
         },
         "mode": "lines",
         "name": "재직자(기준선)",
         "type": "scatter",
         "visible": false,
         "x": {
          "bdata": "9PX29/j5+vv8/f7/",
          "dtype": "i1"
         },
         "y": [
          1.4836601307189543,
          1.4836601307189543,
          1.4836601307189543,
          1.4836601307189543,
          1.4836601307189543,
          1.4836601307189543,
          1.4836601307189543,
          1.4836601307189543,
          1.4836601307189543,
          1.4836601307189543,
          1.4836601307189543,
          1.4836601307189543
         ]
        },
        {
         "line": {
          "color": "red"
         },
         "mode": "lines+markers+text",
         "name": "퇴사자",
         "text": [
          "4.27",
          "4.17",
          "3.18",
          "3.08",
          "2.41",
          "2.26",
          "2.25",
          "2.3",
          "2.06",
          "2.05",
          "1.79",
          "1.71"
         ],
         "textposition": "top center",
         "type": "scatter",
         "visible": false,
         "x": {
          "bdata": "9PX29/j5+vv8/f7/",
          "dtype": "i1"
         },
         "y": {
          "bdata": "X/EVX/EVEUCiFTYHEq0QQHh4eHh4eAlA8asxkR6oCECf4pIhWEcDQCVJkiRJEgJAAAAAAAAAAkBXBA0ndV8CQAAAAAAAgABAZmZmZmZmAECrqqqqqqr8P9u2bdu2bfs/",
          "dtype": "f8"
         }
        },
        {
         "line": {
          "color": "grey",
          "dash": "dash"
         },
         "mode": "lines",
         "name": "재직자(기준선)",
         "type": "scatter",
         "visible": false,
         "x": {
          "bdata": "9PX29/j5+vv8/f7/",
          "dtype": "i1"
         },
         "y": [
          1.588963963963964,
          1.588963963963964,
          1.588963963963964,
          1.588963963963964,
          1.588963963963964,
          1.588963963963964,
          1.588963963963964,
          1.588963963963964,
          1.588963963963964,
          1.588963963963964,
          1.588963963963964,
          1.588963963963964
         ]
        }
       ],
       "layout": {
        "annotations": [
         {
          "align": "left",
          "showarrow": false,
          "text": "조직 선택:",
          "x": 0,
          "y": 1.08,
          "yref": "paper"
         }
        ],
        "font": {
         "size": 14
        },
        "height": 700,
        "template": {
         "data": {
          "bar": [
           {
            "error_x": {
             "color": "#2a3f5f"
            },
            "error_y": {
             "color": "#2a3f5f"
            },
            "marker": {
             "line": {
              "color": "#E5ECF6",
              "width": 0.5
             },
             "pattern": {
              "fillmode": "overlay",
              "size": 10,
              "solidity": 0.2
             }
            },
            "type": "bar"
           }
          ],
          "barpolar": [
           {
            "marker": {
             "line": {
              "color": "#E5ECF6",
              "width": 0.5
             },
             "pattern": {
              "fillmode": "overlay",
              "size": 10,
              "solidity": 0.2
             }
            },
            "type": "barpolar"
           }
          ],
          "carpet": [
           {
            "aaxis": {
             "endlinecolor": "#2a3f5f",
             "gridcolor": "white",
             "linecolor": "white",
             "minorgridcolor": "white",
             "startlinecolor": "#2a3f5f"
            },
            "baxis": {
             "endlinecolor": "#2a3f5f",
             "gridcolor": "white",
             "linecolor": "white",
             "minorgridcolor": "white",
             "startlinecolor": "#2a3f5f"
            },
            "type": "carpet"
           }
          ],
          "choropleth": [
           {
            "colorbar": {
             "outlinewidth": 0,
             "ticks": ""
            },
            "type": "choropleth"
           }
          ],
          "contour": [
           {
            "colorbar": {
             "outlinewidth": 0,
             "ticks": ""
            },
            "colorscale": [
             [
              0,
              "#0d0887"
             ],
             [
              0.1111111111111111,
              "#46039f"
             ],
             [
              0.2222222222222222,
              "#7201a8"
             ],
             [
              0.3333333333333333,
              "#9c179e"
             ],
             [
              0.4444444444444444,
              "#bd3786"
             ],
             [
              0.5555555555555556,
              "#d8576b"
             ],
             [
              0.6666666666666666,
              "#ed7953"
             ],
             [
              0.7777777777777778,
              "#fb9f3a"
             ],
             [
              0.8888888888888888,
              "#fdca26"
             ],
             [
              1,
              "#f0f921"
             ]
            ],
            "type": "contour"
           }
          ],
          "contourcarpet": [
           {
            "colorbar": {
             "outlinewidth": 0,
             "ticks": ""
            },
            "type": "contourcarpet"
           }
          ],
          "heatmap": [
           {
            "colorbar": {
             "outlinewidth": 0,
             "ticks": ""
            },
            "colorscale": [
             [
              0,
              "#0d0887"
             ],
             [
              0.1111111111111111,
              "#46039f"
             ],
             [
              0.2222222222222222,
              "#7201a8"
             ],
             [
              0.3333333333333333,
              "#9c179e"
             ],
             [
              0.4444444444444444,
              "#bd3786"
             ],
             [
              0.5555555555555556,
              "#d8576b"
             ],
             [
              0.6666666666666666,
              "#ed7953"
             ],
             [
              0.7777777777777778,
              "#fb9f3a"
             ],
             [
              0.8888888888888888,
              "#fdca26"
             ],
             [
              1,
              "#f0f921"
             ]
            ],
            "type": "heatmap"
           }
          ],
          "histogram": [
           {
            "marker": {
             "pattern": {
              "fillmode": "overlay",
              "size": 10,
              "solidity": 0.2
             }
            },
            "type": "histogram"
           }
          ],
          "histogram2d": [
           {
            "colorbar": {
             "outlinewidth": 0,
             "ticks": ""
            },
            "colorscale": [
             [
              0,
              "#0d0887"
             ],
             [
              0.1111111111111111,
              "#46039f"
             ],
             [
              0.2222222222222222,
              "#7201a8"
             ],
             [
              0.3333333333333333,
              "#9c179e"
             ],
             [
              0.4444444444444444,
              "#bd3786"
             ],
             [
              0.5555555555555556,
              "#d8576b"
             ],
             [
              0.6666666666666666,
              "#ed7953"
             ],
             [
              0.7777777777777778,
              "#fb9f3a"
             ],
             [
              0.8888888888888888,
              "#fdca26"
             ],
             [
              1,
              "#f0f921"
             ]
            ],
            "type": "histogram2d"
           }
          ],
          "histogram2dcontour": [
           {
            "colorbar": {
             "outlinewidth": 0,
             "ticks": ""
            },
            "colorscale": [
             [
              0,
              "#0d0887"
             ],
             [
              0.1111111111111111,
              "#46039f"
             ],
             [
              0.2222222222222222,
              "#7201a8"
             ],
             [
              0.3333333333333333,
              "#9c179e"
             ],
             [
              0.4444444444444444,
              "#bd3786"
             ],
             [
              0.5555555555555556,
              "#d8576b"
             ],
             [
              0.6666666666666666,
              "#ed7953"
             ],
             [
              0.7777777777777778,
              "#fb9f3a"
             ],
             [
              0.8888888888888888,
              "#fdca26"
             ],
             [
              1,
              "#f0f921"
             ]
            ],
            "type": "histogram2dcontour"
           }
          ],
          "mesh3d": [
           {
            "colorbar": {
             "outlinewidth": 0,
             "ticks": ""
            },
            "type": "mesh3d"
           }
          ],
          "parcoords": [
           {
            "line": {
             "colorbar": {
              "outlinewidth": 0,
              "ticks": ""
             }
            },
            "type": "parcoords"
           }
          ],
          "pie": [
           {
            "automargin": true,
            "type": "pie"
           }
          ],
          "scatter": [
           {
            "fillpattern": {
             "fillmode": "overlay",
             "size": 10,
             "solidity": 0.2
            },
            "type": "scatter"
           }
          ],
          "scatter3d": [
           {
            "line": {
             "colorbar": {
              "outlinewidth": 0,
              "ticks": ""
             }
            },
            "marker": {
             "colorbar": {
              "outlinewidth": 0,
              "ticks": ""
             }
            },
            "type": "scatter3d"
           }
          ],
          "scattercarpet": [
           {
            "marker": {
             "colorbar": {
              "outlinewidth": 0,
              "ticks": ""
             }
            },
            "type": "scattercarpet"
           }
          ],
          "scattergeo": [
           {
            "marker": {
             "colorbar": {
              "outlinewidth": 0,
              "ticks": ""
             }
            },
            "type": "scattergeo"
           }
          ],
          "scattergl": [
           {
            "marker": {
             "colorbar": {
              "outlinewidth": 0,
              "ticks": ""
             }
            },
            "type": "scattergl"
           }
          ],
          "scattermap": [
           {
            "marker": {
             "colorbar": {
              "outlinewidth": 0,
              "ticks": ""
             }
            },
            "type": "scattermap"
           }
          ],
          "scattermapbox": [
           {
            "marker": {
             "colorbar": {
              "outlinewidth": 0,
              "ticks": ""
             }
            },
            "type": "scattermapbox"
           }
          ],
          "scatterpolar": [
           {
            "marker": {
             "colorbar": {
              "outlinewidth": 0,
              "ticks": ""
             }
            },
            "type": "scatterpolar"
           }
          ],
          "scatterpolargl": [
           {
            "marker": {
             "colorbar": {
              "outlinewidth": 0,
              "ticks": ""
             }
            },
            "type": "scatterpolargl"
           }
          ],
          "scatterternary": [
           {
            "marker": {
             "colorbar": {
              "outlinewidth": 0,
              "ticks": ""
             }
            },
            "type": "scatterternary"
           }
          ],
          "surface": [
           {
            "colorbar": {
             "outlinewidth": 0,
             "ticks": ""
            },
            "colorscale": [
             [
              0,
              "#0d0887"
             ],
             [
              0.1111111111111111,
              "#46039f"
             ],
             [
              0.2222222222222222,
              "#7201a8"
             ],
             [
              0.3333333333333333,
              "#9c179e"
             ],
             [
              0.4444444444444444,
              "#bd3786"
             ],
             [
              0.5555555555555556,
              "#d8576b"
             ],
             [
              0.6666666666666666,
              "#ed7953"
             ],
             [
              0.7777777777777778,
              "#fb9f3a"
             ],
             [
              0.8888888888888888,
              "#fdca26"
             ],
             [
              1,
              "#f0f921"
             ]
            ],
            "type": "surface"
           }
          ],
          "table": [
           {
            "cells": {
             "fill": {
              "color": "#EBF0F8"
             },
             "line": {
              "color": "white"
             }
            },
            "header": {
             "fill": {
              "color": "#C8D4E3"
             },
             "line": {
              "color": "white"
             }
            },
            "type": "table"
           }
          ]
         },
         "layout": {
          "annotationdefaults": {
           "arrowcolor": "#2a3f5f",
           "arrowhead": 0,
           "arrowwidth": 1
          },
          "autotypenumbers": "strict",
          "coloraxis": {
           "colorbar": {
            "outlinewidth": 0,
            "ticks": ""
           }
          },
          "colorscale": {
           "diverging": [
            [
             0,
             "#8e0152"
            ],
            [
             0.1,
             "#c51b7d"
            ],
            [
             0.2,
             "#de77ae"
            ],
            [
             0.3,
             "#f1b6da"
            ],
            [
             0.4,
             "#fde0ef"
            ],
            [
             0.5,
             "#f7f7f7"
            ],
            [
             0.6,
             "#e6f5d0"
            ],
            [
             0.7,
             "#b8e186"
            ],
            [
             0.8,
             "#7fbc41"
            ],
            [
             0.9,
             "#4d9221"
            ],
            [
             1,
             "#276419"
            ]
           ],
           "sequential": [
            [
             0,
             "#0d0887"
            ],
            [
             0.1111111111111111,
             "#46039f"
            ],
            [
             0.2222222222222222,
             "#7201a8"
            ],
            [
             0.3333333333333333,
             "#9c179e"
            ],
            [
             0.4444444444444444,
             "#bd3786"
            ],
            [
             0.5555555555555556,
             "#d8576b"
            ],
            [
             0.6666666666666666,
             "#ed7953"
            ],
            [
             0.7777777777777778,
             "#fb9f3a"
            ],
            [
             0.8888888888888888,
             "#fdca26"
            ],
            [
             1,
             "#f0f921"
            ]
           ],
           "sequentialminus": [
            [
             0,
             "#0d0887"
            ],
            [
             0.1111111111111111,
             "#46039f"
            ],
            [
             0.2222222222222222,
             "#7201a8"
            ],
            [
             0.3333333333333333,
             "#9c179e"
            ],
            [
             0.4444444444444444,
             "#bd3786"
            ],
            [
             0.5555555555555556,
             "#d8576b"
            ],
            [
             0.6666666666666666,
             "#ed7953"
            ],
            [
             0.7777777777777778,
             "#fb9f3a"
            ],
            [
             0.8888888888888888,
             "#fdca26"
            ],
            [
             1,
             "#f0f921"
            ]
           ]
          },
          "colorway": [
           "#636efa",
           "#EF553B",
           "#00cc96",
           "#ab63fa",
           "#FFA15A",
           "#19d3f3",
           "#FF6692",
           "#B6E880",
           "#FF97FF",
           "#FECB52"
          ],
          "font": {
           "color": "#2a3f5f"
          },
          "geo": {
           "bgcolor": "white",
           "lakecolor": "white",
           "landcolor": "#E5ECF6",
           "showlakes": true,
           "showland": true,
           "subunitcolor": "white"
          },
          "hoverlabel": {
           "align": "left"
          },
          "hovermode": "closest",
          "mapbox": {
           "style": "light"
          },
          "paper_bgcolor": "white",
          "plot_bgcolor": "#E5ECF6",
          "polar": {
           "angularaxis": {
            "gridcolor": "white",
            "linecolor": "white",
            "ticks": ""
           },
           "bgcolor": "#E5ECF6",
           "radialaxis": {
            "gridcolor": "white",
            "linecolor": "white",
            "ticks": ""
           }
          },
          "scene": {
           "xaxis": {
            "backgroundcolor": "#E5ECF6",
            "gridcolor": "white",
            "gridwidth": 2,
            "linecolor": "white",
            "showbackground": true,
            "ticks": "",
            "zerolinecolor": "white"
           },
           "yaxis": {
            "backgroundcolor": "#E5ECF6",
            "gridcolor": "white",
            "gridwidth": 2,
            "linecolor": "white",
            "showbackground": true,
            "ticks": "",
            "zerolinecolor": "white"
           },
           "zaxis": {
            "backgroundcolor": "#E5ECF6",
            "gridcolor": "white",
            "gridwidth": 2,
            "linecolor": "white",
            "showbackground": true,
            "ticks": "",
            "zerolinecolor": "white"
           }
          },
          "shapedefaults": {
           "line": {
            "color": "#2a3f5f"
           }
          },
          "ternary": {
           "aaxis": {
            "gridcolor": "white",
            "linecolor": "white",
            "ticks": ""
           },
           "baxis": {
            "gridcolor": "white",
            "linecolor": "white",
            "ticks": ""
           },
           "bgcolor": "#E5ECF6",
           "caxis": {
            "gridcolor": "white",
            "linecolor": "white",
            "ticks": ""
           }
          },
          "title": {
           "x": 0.05
          },
          "xaxis": {
           "automargin": true,
           "gridcolor": "white",
           "linecolor": "white",
           "ticks": "",
           "title": {
            "standoff": 15
           },
           "zerolinecolor": "white",
           "zerolinewidth": 2
          },
          "yaxis": {
           "automargin": true,
           "gridcolor": "white",
           "linecolor": "white",
           "ticks": "",
           "title": {
            "standoff": 15
           },
           "zerolinecolor": "white",
           "zerolinewidth": 2
          }
         }
        },
        "title": {
         "text": "퇴사 직전 12개월간 월 평균 총 휴가 사용일수 비교"
        },
        "updatemenus": [
         {
          "active": 0,
          "buttons": [
           {
            "args": [
             {
              "visible": [
               true,
               true,
               false,
               false,
               false,
               false,
               false,
               false,
               false,
               false
              ]
             }
            ],
            "label": "전체",
            "method": "update"
           },
           {
            "args": [
             {
              "visible": [
               false,
               false,
               true,
               true,
               false,
               false,
               false,
               false,
               false,
               false
              ]
             }
            ],
            "label": "Planning Division",
            "method": "update"
           },
           {
            "args": [
             {
              "visible": [
               false,
               false,
               false,
               false,
               true,
               true,
               false,
               false,
               false,
               false
              ]
             }
            ],
            "label": "Sales Division",
            "method": "update"
           },
           {
            "args": [
             {
              "visible": [
               false,
               false,
               false,
               false,
               false,
               false,
               true,
               true,
               false,
               false
              ]
             }
            ],
            "label": "Development Division",
            "method": "update"
           },
           {
            "args": [
             {
              "visible": [
               false,
               false,
               false,
               false,
               false,
               false,
               false,
               false,
               true,
               true
              ]
             }
            ],
            "label": "Operating Division",
            "method": "update"
           }
          ],
          "direction": "down",
          "pad": {
           "r": 10,
           "t": 10
          },
          "showactive": true,
          "x": 0.01,
          "xanchor": "left",
          "y": 1.1,
          "yanchor": "top"
         }
        ],
        "xaxis": {
         "title": {
          "text": "퇴사 N개월 전"
         }
        },
        "yaxis": {
         "range": [
          0,
          6.686842105263158
         ],
         "title": {
          "text": "월 평균 총 휴가 사용일수"
         }
        }
       }
      }
     },
     "metadata": {},
     "output_type": "display_data"
    },
    {
     "name": "stdout",
     "output_type": "stream",
     "text": [
      "\n",
      "--- Aggregate DataFrame ---\n"
     ]
    },
    {
     "data": {
      "text/html": [
       "<div>\n",
       "<style scoped>\n",
       "    .dataframe tbody tr th:only-of-type {\n",
       "        vertical-align: middle;\n",
       "    }\n",
       "\n",
       "    .dataframe tbody tr th {\n",
       "        vertical-align: top;\n",
       "    }\n",
       "\n",
       "    .dataframe thead th {\n",
       "        text-align: right;\n",
       "    }\n",
       "</style>\n",
       "<table border=\"1\" class=\"dataframe\">\n",
       "  <thead>\n",
       "    <tr style=\"text-align: right;\">\n",
       "      <th>DIVISION_NAME</th>\n",
       "      <th>전체 평균</th>\n",
       "      <th>Planning Division</th>\n",
       "      <th>Sales Division</th>\n",
       "      <th>Development Division</th>\n",
       "      <th>Operating Division</th>\n",
       "    </tr>\n",
       "  </thead>\n",
       "  <tbody>\n",
       "    <tr>\n",
       "      <th>1개월 전</th>\n",
       "      <td>1.45</td>\n",
       "      <td>1.27</td>\n",
       "      <td>1.42</td>\n",
       "      <td>1.38</td>\n",
       "      <td>1.71</td>\n",
       "    </tr>\n",
       "    <tr>\n",
       "      <th>2개월 전</th>\n",
       "      <td>1.91</td>\n",
       "      <td>2.04</td>\n",
       "      <td>1.99</td>\n",
       "      <td>1.80</td>\n",
       "      <td>1.79</td>\n",
       "    </tr>\n",
       "    <tr>\n",
       "      <th>3개월 전</th>\n",
       "      <td>1.91</td>\n",
       "      <td>1.85</td>\n",
       "      <td>1.78</td>\n",
       "      <td>1.98</td>\n",
       "      <td>2.05</td>\n",
       "    </tr>\n",
       "    <tr>\n",
       "      <th>4개월 전</th>\n",
       "      <td>1.92</td>\n",
       "      <td>2.04</td>\n",
       "      <td>1.86</td>\n",
       "      <td>1.71</td>\n",
       "      <td>2.06</td>\n",
       "    </tr>\n",
       "    <tr>\n",
       "      <th>5개월 전</th>\n",
       "      <td>2.12</td>\n",
       "      <td>1.97</td>\n",
       "      <td>2.22</td>\n",
       "      <td>1.99</td>\n",
       "      <td>2.30</td>\n",
       "    </tr>\n",
       "    <tr>\n",
       "      <th>6개월 전</th>\n",
       "      <td>2.01</td>\n",
       "      <td>1.98</td>\n",
       "      <td>2.18</td>\n",
       "      <td>1.57</td>\n",
       "      <td>2.25</td>\n",
       "    </tr>\n",
       "    <tr>\n",
       "      <th>7개월 전</th>\n",
       "      <td>2.08</td>\n",
       "      <td>1.87</td>\n",
       "      <td>2.02</td>\n",
       "      <td>2.19</td>\n",
       "      <td>2.26</td>\n",
       "    </tr>\n",
       "    <tr>\n",
       "      <th>8개월 전</th>\n",
       "      <td>2.39</td>\n",
       "      <td>2.21</td>\n",
       "      <td>2.46</td>\n",
       "      <td>2.47</td>\n",
       "      <td>2.41</td>\n",
       "    </tr>\n",
       "    <tr>\n",
       "      <th>9개월 전</th>\n",
       "      <td>2.72</td>\n",
       "      <td>2.39</td>\n",
       "      <td>2.87</td>\n",
       "      <td>2.50</td>\n",
       "      <td>3.08</td>\n",
       "    </tr>\n",
       "    <tr>\n",
       "      <th>10개월 전</th>\n",
       "      <td>2.87</td>\n",
       "      <td>2.42</td>\n",
       "      <td>3.09</td>\n",
       "      <td>2.79</td>\n",
       "      <td>3.18</td>\n",
       "    </tr>\n",
       "    <tr>\n",
       "      <th>11개월 전</th>\n",
       "      <td>3.39</td>\n",
       "      <td>3.33</td>\n",
       "      <td>2.80</td>\n",
       "      <td>3.33</td>\n",
       "      <td>4.17</td>\n",
       "    </tr>\n",
       "    <tr>\n",
       "      <th>12개월 전</th>\n",
       "      <td>4.78</td>\n",
       "      <td>5.57</td>\n",
       "      <td>5.52</td>\n",
       "      <td>3.63</td>\n",
       "      <td>4.27</td>\n",
       "    </tr>\n",
       "  </tbody>\n",
       "</table>\n",
       "</div>"
      ],
      "text/plain": [
       "DIVISION_NAME  전체 평균  Planning Division  Sales Division  Development Division  \\\n",
       "1개월 전           1.45               1.27            1.42                  1.38   \n",
       "2개월 전           1.91               2.04            1.99                  1.80   \n",
       "3개월 전           1.91               1.85            1.78                  1.98   \n",
       "4개월 전           1.92               2.04            1.86                  1.71   \n",
       "5개월 전           2.12               1.97            2.22                  1.99   \n",
       "6개월 전           2.01               1.98            2.18                  1.57   \n",
       "7개월 전           2.08               1.87            2.02                  2.19   \n",
       "8개월 전           2.39               2.21            2.46                  2.47   \n",
       "9개월 전           2.72               2.39            2.87                  2.50   \n",
       "10개월 전          2.87               2.42            3.09                  2.79   \n",
       "11개월 전          3.39               3.33            2.80                  3.33   \n",
       "12개월 전          4.78               5.57            5.52                  3.63   \n",
       "\n",
       "DIVISION_NAME  Operating Division  \n",
       "1개월 전                        1.71  \n",
       "2개월 전                        1.79  \n",
       "3개월 전                        2.05  \n",
       "4개월 전                        2.06  \n",
       "5개월 전                        2.30  \n",
       "6개월 전                        2.25  \n",
       "7개월 전                        2.26  \n",
       "8개월 전                        2.41  \n",
       "9개월 전                        3.08  \n",
       "10개월 전                       3.18  \n",
       "11개월 전                       4.17  \n",
       "12개월 전                       4.27  "
      ]
     },
     "execution_count": 2,
     "metadata": {},
     "output_type": "execute_result"
    }
   ],
   "source": [
    "import pandas as pd\n",
    "import numpy as np\n",
    "import plotly.graph_objects as go\n",
    "import plotly.io as pio\n",
    "import datetime\n",
    "\n",
    "# --- 1. 데이터 임포트 ---\n",
    "from services.tables.Time_Attendance.detailed_leave_info_table import detailed_leave_info_df\n",
    "from services.tables.Time_Attendance.leave_type_table import leave_type_df\n",
    "from services.tables.HR_Core.basic_info_table import emp_df\n",
    "from services.tables.HR_Core.department_info_table import department_info_df\n",
    "from services.tables.HR_Core.department_table import (\n",
    "    dept_level_map, parent_map_dept, dept_name_map,\n",
    "    division_order\n",
    ")\n",
    "from services.helpers.utils import find_division_name_for_dept\n",
    "\n",
    "def create_figure_and_df():\n",
    "    \"\"\"\n",
    "    제안 19: 퇴사 예측 선행 지표 분석 그래프 및 피벗 테이블을 생성합니다.\n",
    "    \"\"\"\n",
    "    # --- 2. 데이터 준비 및 가공 ---\n",
    "    leave_df = detailed_leave_info_df.copy()\n",
    "    leave_df = pd.merge(leave_df, leave_type_df, on='LEAVE_TYPE_ID')\n",
    "    leave_df['DATE'] = pd.to_datetime(leave_df['DATE'])\n",
    "    leave_df['LEAVE_LENGTH'] = pd.to_numeric(leave_df['LEAVE_LENGTH'])\n",
    "\n",
    "    leavers = emp_df[emp_df['CURRENT_EMP_YN'] == 'N'][['EMP_ID', 'OUT_DATE']].copy()\n",
    "    leaver_leave_data = pd.merge(leavers, leave_df, on='EMP_ID', how='left')\n",
    "    leaver_leave_data = leaver_leave_data[\n",
    "        (leaver_leave_data['DATE'] < leaver_leave_data['OUT_DATE']) &\n",
    "        (leaver_leave_data['DATE'] >= (leaver_leave_data['OUT_DATE'] - pd.DateOffset(months=12)))\n",
    "    ].copy()\n",
    "    \n",
    "    if not leaver_leave_data.empty:\n",
    "        leaver_leave_data['MONTHS_BEFORE_LEAVING'] = (leaver_leave_data['OUT_DATE'].dt.year - leaver_leave_data['DATE'].dt.year) * 12 + (leaver_leave_data['OUT_DATE'].dt.month - leaver_leave_data['DATE'].dt.month)\n",
    "        leaver_pattern_df = leaver_leave_data.groupby(['EMP_ID', 'MONTHS_BEFORE_LEAVING'])['LEAVE_LENGTH'].sum().reset_index()\n",
    "    else:\n",
    "        leaver_pattern_df = pd.DataFrame(columns=['EMP_ID', 'MONTHS_BEFORE_LEAVING', 'LEAVE_LENGTH'])\n",
    "\n",
    "    stayers = emp_df[emp_df['CURRENT_EMP_YN'] == 'Y'].copy()\n",
    "    stayer_leaves = leave_df[(leave_df['EMP_ID'].isin(stayers['EMP_ID'])) & (leave_df['DATE'].dt.year == 2024)]\n",
    "    stayer_monthly_avg = (stayer_leaves['LEAVE_LENGTH'].sum() / stayers['EMP_ID'].nunique()) / 12 if not stayers.empty and stayers['EMP_ID'].nunique() > 0 else 0\n",
    "\n",
    "    first_dept = department_info_df.sort_values('DEP_APP_START_DATE').groupby('EMP_ID').first().reset_index()\n",
    "    first_dept['DIVISION_NAME'] = first_dept['DEP_ID'].apply(lambda x: find_division_name_for_dept(x, dept_level_map, parent_map_dept, dept_name_map))\n",
    "    \n",
    "    leaver_pattern_df = pd.merge(leaver_pattern_df, first_dept[['EMP_ID', 'DIVISION_NAME']], on='EMP_ID', how='left')\n",
    "    leaver_pattern_df = leaver_pattern_df.dropna(subset=['DIVISION_NAME'])\n",
    "    \n",
    "    stayers_with_div = pd.merge(stayers, first_dept[['EMP_ID', 'DIVISION_NAME']], on='EMP_ID', how='left')\n",
    "    stayers_with_div = stayers_with_div.dropna(subset=['DIVISION_NAME'])\n",
    "    \n",
    "    leaver_avg_by_month = leaver_pattern_df.groupby('MONTHS_BEFORE_LEAVING')['LEAVE_LENGTH'].mean().reset_index()\n",
    "    leaver_avg_by_month_div = leaver_pattern_df.groupby(['DIVISION_NAME', 'MONTHS_BEFORE_LEAVING'], observed=False)['LEAVE_LENGTH'].mean().reset_index()\n",
    "    \n",
    "    stayer_avg_by_div = stayer_leaves.groupby('EMP_ID')['LEAVE_LENGTH'].sum().reset_index()\n",
    "    stayer_avg_by_div = pd.merge(stayer_avg_by_div, stayers_with_div[['EMP_ID', 'DIVISION_NAME']], on='EMP_ID').groupby('DIVISION_NAME', observed=False)['LEAVE_LENGTH'].mean().reset_index()\n",
    "\n",
    "    # --- 3. Plotly 인터랙티브 그래프 생성 ---\n",
    "    # (그래프 생성 코드는 이전과 동일)\n",
    "    fig = go.Figure()\n",
    "    if not leaver_pattern_df.empty:\n",
    "        y_max = pd.concat([leaver_avg_by_month['LEAVE_LENGTH'], leaver_avg_by_month_div['LEAVE_LENGTH']]).max()\n",
    "        fixed_y_range = [0, y_max * 1.2]\n",
    "        division_list = ['전체'] + division_order\n",
    "        for i, div_name in enumerate(division_list):\n",
    "            is_visible = (i == 0)\n",
    "            if div_name == '전체':\n",
    "                leaver_data, stayer_data_y = leaver_avg_by_month, [stayer_monthly_avg] * 12\n",
    "            else:\n",
    "                leaver_data = leaver_avg_by_month_div[leaver_avg_by_month_div['DIVISION_NAME'] == div_name]\n",
    "                stayer_div_avg = stayer_avg_by_div[stayer_avg_by_div['DIVISION_NAME'] == div_name]['LEAVE_LENGTH'].iloc[0] if not stayer_avg_by_div[stayer_avg_by_div['DIVISION_NAME'] == div_name].empty else 0\n",
    "                stayer_data_y = [stayer_div_avg / 12] * 12\n",
    "            x_axis_months = -np.arange(12, 0, -1)\n",
    "            leaver_data_aligned = pd.DataFrame({'MONTHS_BEFORE_LEAVING': np.arange(1, 13)})\n",
    "            leaver_data_aligned = pd.merge(leaver_data_aligned, leaver_data, on='MONTHS_BEFORE_LEAVING', how='left').fillna(0)\n",
    "            fig.add_trace(go.Scatter(x=x_axis_months, y=leaver_data_aligned['LEAVE_LENGTH'], mode='lines+markers+text', name='퇴사자', line=dict(color='red'), visible=is_visible, text=leaver_data_aligned['LEAVE_LENGTH'].round(2).astype(str), textposition='top center'))\n",
    "            fig.add_trace(go.Scatter(x=x_axis_months, y=stayer_data_y, mode='lines', name='재직자(기준선)', line=dict(color='grey', dash='dash'), visible=is_visible))\n",
    "        buttons = []\n",
    "        for i, div_name in enumerate(division_list):\n",
    "            visibility_mask = [False] * (len(division_list) * 2)\n",
    "            visibility_mask[i*2], visibility_mask[i*2 + 1] = True, True\n",
    "            buttons.append(dict(label=div_name, method='update', args=[{'visible': visibility_mask}]))\n",
    "        fig.update_layout(\n",
    "            updatemenus=[dict(active=0, buttons=buttons, direction=\"down\", pad={\"r\": 10, \"t\": 10}, showactive=True, x=0.01, xanchor=\"left\", y=1.1, yanchor=\"top\")],\n",
    "            title_text='퇴사 직전 12개월간 월 평균 총 휴가 사용일수 비교',\n",
    "            xaxis_title='퇴사 N개월 전', yaxis_title='월 평균 총 휴가 사용일수',\n",
    "            font_size=14, height=700,\n",
    "            annotations=[dict(text=\"조직 선택:\", showarrow=False, x=0, y=1.08, yref=\"paper\", align=\"left\")],\n",
    "            yaxis_range=fixed_y_range\n",
    "        )\n",
    "    else:\n",
    "        fig.update_layout(title_text=\"분석할 퇴사자 휴가 데이터가 없습니다.\")\n",
    "        \n",
    "    # --- 수정된 부분: aggregate_df 생성 ---\n",
    "    # 1. Division별 데이터 피벗\n",
    "    aggregate_df = leaver_avg_by_month_div.pivot_table(\n",
    "        index='MONTHS_BEFORE_LEAVING',\n",
    "        columns='DIVISION_NAME',\n",
    "        values='LEAVE_LENGTH',\n",
    "        observed=False\n",
    "    )\n",
    "    \n",
    "    # 2. '전체 평균' 데이터 추가\n",
    "    overall_pivot_df = leaver_avg_by_month.set_index('MONTHS_BEFORE_LEAVING')\n",
    "    aggregate_df['전체 평균'] = overall_pivot_df['LEAVE_LENGTH']\n",
    "    \n",
    "    # 3. 행 순서 및 인덱스 이름 변경\n",
    "    aggregate_df = aggregate_df.reindex(range(12, 0, -1)) # 12개월 전 ~ 1개월 전\n",
    "    aggregate_df.index = [f'{13-i}개월 전' for i in aggregate_df.index]\n",
    "    \n",
    "    # 4. 컬럼 순서 재배치 및 포맷팅\n",
    "    cols = ['전체 평균'] + [col for col in division_order if col in aggregate_df.columns]\n",
    "    aggregate_df = aggregate_df[cols].round(2)\n",
    "    # --- 수정 완료 ---\n",
    "\n",
    "    return fig, aggregate_df\n",
    "\n",
    "# --- 실행 코드 ---\n",
    "pio.renderers.default = 'vscode'\n",
    "fig, aggregate_df = create_figure_and_df()\n",
    "fig.show()\n",
    "\n",
    "print(\"\\n--- Aggregate DataFrame ---\")\n",
    "aggregate_df"
   ]
  },
  {
   "cell_type": "code",
   "execution_count": null,
   "id": "f4185e1c",
   "metadata": {},
   "outputs": [],
   "source": []
  }
 ],
 "metadata": {
  "kernelspec": {
   "display_name": "Python 3 (ipykernel)",
   "language": "python",
   "name": "python3"
  },
  "language_info": {
   "codemirror_mode": {
    "name": "ipython",
    "version": 3
   },
   "file_extension": ".py",
   "mimetype": "text/x-python",
   "name": "python",
   "nbconvert_exporter": "python",
   "pygments_lexer": "ipython3",
   "version": "3.12.11"
  }
 },
 "nbformat": 4,
 "nbformat_minor": 5
}
