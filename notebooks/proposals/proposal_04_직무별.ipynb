{
 "cells": [
  {
   "cell_type": "code",
   "execution_count": null,
   "id": "ba41ad8a",
   "metadata": {},
   "outputs": [
    {
     "data": {
      "application/vnd.plotly.v1+json": {
       "config": {
        "plotlyServerURL": "https://plot.ly"
       },
       "data": [
        {
         "marker": {
          "color": "#636EFA"
         },
         "name": "IT",
         "type": "bar",
         "x": {
          "bdata": "AAECAwQFBgcICQoLDA0O",
          "dtype": "i1"
         },
         "y": {
          "bdata": "Dw0JBgwHCQoDAgYDBgMB",
          "dtype": "i1"
         }
        },
        {
         "marker": {
          "color": "#EF553B"
         },
         "name": "Management Support",
         "type": "bar",
         "x": {
          "bdata": "AAECAwQFBgcICQoLDA0O",
          "dtype": "i1"
         },
         "y": {
          "bdata": "AQgFAgMDBgIDAQEAAwAB",
          "dtype": "i1"
         }
        },
        {
         "marker": {
          "color": "#00CC96"
         },
         "name": "Planning",
         "type": "bar",
         "x": {
          "bdata": "AAECAwQFBgcICQoLDA0O",
          "dtype": "i1"
         },
         "y": {
          "bdata": "CAwLCxAHBgoECAUFAAEF",
          "dtype": "i1"
         }
        },
        {
         "marker": {
          "color": "#AB63FA"
         },
         "name": "Production & Engineering",
         "type": "bar",
         "x": {
          "bdata": "AAECAwQFBgcICQoLDA0O",
          "dtype": "i1"
         },
         "y": {
          "bdata": "BRQMCQgNBAcGCQMABAMB",
          "dtype": "i1"
         }
        },
        {
         "marker": {
          "color": "#FFA15A"
         },
         "name": "Sales & Marketing",
         "type": "bar",
         "x": {
          "bdata": "AAECAwQFBgcICQoLDA0O",
          "dtype": "i1"
         },
         "y": {
          "bdata": "Dg4PDAkLDgoEBgQCAgEF",
          "dtype": "i1"
         }
        },
        {
         "marker": {
          "color": "#636EFA"
         },
         "name": "SW Developer",
         "showlegend": false,
         "type": "bar",
         "visible": false,
         "x": {
          "bdata": "AAECAwQFBgcICQoLDA0O",
          "dtype": "i1"
         },
         "y": {
          "bdata": "AQAAAAIAAAEAAAEBAQAA",
          "dtype": "i1"
         }
        },
        {
         "marker": {
          "color": "#EF553B"
         },
         "name": "Infrastructure",
         "showlegend": false,
         "type": "bar",
         "visible": false,
         "x": {
          "bdata": "AAECAwQFBgcICQoLDA0O",
          "dtype": "i1"
         },
         "y": {
          "bdata": "AgADAAEBAAEAAAAAAQAA",
          "dtype": "i1"
         }
        },
        {
         "marker": {
          "color": "#00CC96"
         },
         "name": "Data Scientist",
         "showlegend": false,
         "type": "bar",
         "visible": false,
         "x": {
          "bdata": "AAECAwQFBgcICQoLDA0O",
          "dtype": "i1"
         },
         "y": {
          "bdata": "DA0GBgkGCQgDAgUCBAMB",
          "dtype": "i1"
         }
        },
        {
         "marker": {
          "color": "#AB63FA"
         },
         "name": "HR",
         "showlegend": false,
         "type": "bar",
         "visible": false,
         "x": {
          "bdata": "AAECAwQFBgcICQoLDA0O",
          "dtype": "i1"
         },
         "y": {
          "bdata": "AAAAAAAAAAAAAAAAAAAA",
          "dtype": "i1"
         }
        },
        {
         "marker": {
          "color": "#FFA15A"
         },
         "name": "Finance",
         "showlegend": false,
         "type": "bar",
         "visible": false,
         "x": {
          "bdata": "AAECAwQFBgcICQoLDA0O",
          "dtype": "i1"
         },
         "y": {
          "bdata": "AAAAAAAAAAAAAAAAAAAA",
          "dtype": "i1"
         }
        },
        {
         "marker": {
          "color": "#19D3F3"
         },
         "name": "Business Planning",
         "showlegend": false,
         "type": "bar",
         "visible": false,
         "x": {
          "bdata": "AAECAwQFBgcICQoLDA0O",
          "dtype": "i1"
         },
         "y": {
          "bdata": "AAAAAAAAAAAAAAAAAAAA",
          "dtype": "i1"
         }
        },
        {
         "marker": {
          "color": "#FF6692"
         },
         "name": "Production Management",
         "showlegend": false,
         "type": "bar",
         "visible": false,
         "x": {
          "bdata": "AAECAwQFBgcICQoLDA0O",
          "dtype": "i1"
         },
         "y": {
          "bdata": "AAAAAAAAAAAAAAAAAAAA",
          "dtype": "i1"
         }
        },
        {
         "marker": {
          "color": "#B6E880"
         },
         "name": "Engineering",
         "showlegend": false,
         "type": "bar",
         "visible": false,
         "x": {
          "bdata": "AAECAwQFBgcICQoLDA0O",
          "dtype": "i1"
         },
         "y": {
          "bdata": "AAAAAAAAAAAAAAAAAAAA",
          "dtype": "i1"
         }
        },
        {
         "marker": {
          "color": "#FF97FF"
         },
         "name": "Marketing",
         "showlegend": false,
         "type": "bar",
         "visible": false,
         "x": {
          "bdata": "AAECAwQFBgcICQoLDA0O",
          "dtype": "i1"
         },
         "y": {
          "bdata": "AAAAAAAAAAAAAAAAAAAA",
          "dtype": "i1"
         }
        },
        {
         "marker": {
          "color": "#FECB52"
         },
         "name": "Sales",
         "showlegend": false,
         "type": "bar",
         "visible": false,
         "x": {
          "bdata": "AAECAwQFBgcICQoLDA0O",
          "dtype": "i1"
         },
         "y": {
          "bdata": "AAAAAAAAAAAAAAAAAAAA",
          "dtype": "i1"
         }
        },
        {
         "marker": {
          "color": "#636EFA"
         },
         "name": "SW Developer",
         "showlegend": false,
         "type": "bar",
         "visible": false,
         "x": {
          "bdata": "AAECAwQFBgcICQoLDA0O",
          "dtype": "i1"
         },
         "y": {
          "bdata": "AAAAAAAAAAAAAAAAAAAA",
          "dtype": "i1"
         }
        },
        {
         "marker": {
          "color": "#EF553B"
         },
         "name": "Infrastructure",
         "showlegend": false,
         "type": "bar",
         "visible": false,
         "x": {
          "bdata": "AAECAwQFBgcICQoLDA0O",
          "dtype": "i1"
         },
         "y": {
          "bdata": "AAAAAAAAAAAAAAAAAAAA",
          "dtype": "i1"
         }
        },
        {
         "marker": {
          "color": "#00CC96"
         },
         "name": "Data Scientist",
         "showlegend": false,
         "type": "bar",
         "visible": false,
         "x": {
          "bdata": "AAECAwQFBgcICQoLDA0O",
          "dtype": "i1"
         },
         "y": {
          "bdata": "AAAAAAAAAAAAAAAAAAAA",
          "dtype": "i1"
         }
        },
        {
         "marker": {
          "color": "#AB63FA"
         },
         "name": "HR",
         "showlegend": false,
         "type": "bar",
         "visible": false,
         "x": {
          "bdata": "AAECAwQFBgcICQoLDA0O",
          "dtype": "i1"
         },
         "y": {
          "bdata": "AAQCAAEAAgABAQAAAgAB",
          "dtype": "i1"
         }
        },
        {
         "marker": {
          "color": "#FFA15A"
         },
         "name": "Finance",
         "showlegend": false,
         "type": "bar",
         "visible": false,
         "x": {
          "bdata": "AAECAwQFBgcICQoLDA0O",
          "dtype": "i1"
         },
         "y": {
          "bdata": "AQQDAgIDBAICAAEAAQAA",
          "dtype": "i1"
         }
        },
        {
         "marker": {
          "color": "#19D3F3"
         },
         "name": "Business Planning",
         "showlegend": false,
         "type": "bar",
         "visible": false,
         "x": {
          "bdata": "AAECAwQFBgcICQoLDA0O",
          "dtype": "i1"
         },
         "y": {
          "bdata": "AAAAAAAAAAAAAAAAAAAA",
          "dtype": "i1"
         }
        },
        {
         "marker": {
          "color": "#FF6692"
         },
         "name": "Production Management",
         "showlegend": false,
         "type": "bar",
         "visible": false,
         "x": {
          "bdata": "AAECAwQFBgcICQoLDA0O",
          "dtype": "i1"
         },
         "y": {
          "bdata": "AAAAAAAAAAAAAAAAAAAA",
          "dtype": "i1"
         }
        },
        {
         "marker": {
          "color": "#B6E880"
         },
         "name": "Engineering",
         "showlegend": false,
         "type": "bar",
         "visible": false,
         "x": {
          "bdata": "AAECAwQFBgcICQoLDA0O",
          "dtype": "i1"
         },
         "y": {
          "bdata": "AAAAAAAAAAAAAAAAAAAA",
          "dtype": "i1"
         }
        },
        {
         "marker": {
          "color": "#FF97FF"
         },
         "name": "Marketing",
         "showlegend": false,
         "type": "bar",
         "visible": false,
         "x": {
          "bdata": "AAECAwQFBgcICQoLDA0O",
          "dtype": "i1"
         },
         "y": {
          "bdata": "AAAAAAAAAAAAAAAAAAAA",
          "dtype": "i1"
         }
        },
        {
         "marker": {
          "color": "#FECB52"
         },
         "name": "Sales",
         "showlegend": false,
         "type": "bar",
         "visible": false,
         "x": {
          "bdata": "AAECAwQFBgcICQoLDA0O",
          "dtype": "i1"
         },
         "y": {
          "bdata": "AAAAAAAAAAAAAAAAAAAA",
          "dtype": "i1"
         }
        },
        {
         "marker": {
          "color": "#636EFA"
         },
         "name": "SW Developer",
         "showlegend": false,
         "type": "bar",
         "visible": false,
         "x": {
          "bdata": "AAECAwQFBgcICQoLDA0O",
          "dtype": "i1"
         },
         "y": {
          "bdata": "AAAAAAAAAAAAAAAAAAAA",
          "dtype": "i1"
         }
        },
        {
         "marker": {
          "color": "#EF553B"
         },
         "name": "Infrastructure",
         "showlegend": false,
         "type": "bar",
         "visible": false,
         "x": {
          "bdata": "AAECAwQFBgcICQoLDA0O",
          "dtype": "i1"
         },
         "y": {
          "bdata": "AAAAAAAAAAAAAAAAAAAA",
          "dtype": "i1"
         }
        },
        {
         "marker": {
          "color": "#00CC96"
         },
         "name": "Data Scientist",
         "showlegend": false,
         "type": "bar",
         "visible": false,
         "x": {
          "bdata": "AAECAwQFBgcICQoLDA0O",
          "dtype": "i1"
         },
         "y": {
          "bdata": "AAAAAAAAAAAAAAAAAAAA",
          "dtype": "i1"
         }
        },
        {
         "marker": {
          "color": "#AB63FA"
         },
         "name": "HR",
         "showlegend": false,
         "type": "bar",
         "visible": false,
         "x": {
          "bdata": "AAECAwQFBgcICQoLDA0O",
          "dtype": "i1"
         },
         "y": {
          "bdata": "AAAAAAAAAAAAAAAAAAAA",
          "dtype": "i1"
         }
        },
        {
         "marker": {
          "color": "#FFA15A"
         },
         "name": "Finance",
         "showlegend": false,
         "type": "bar",
         "visible": false,
         "x": {
          "bdata": "AAECAwQFBgcICQoLDA0O",
          "dtype": "i1"
         },
         "y": {
          "bdata": "AAAAAAAAAAAAAAAAAAAA",
          "dtype": "i1"
         }
        },
        {
         "marker": {
          "color": "#19D3F3"
         },
         "name": "Business Planning",
         "showlegend": false,
         "type": "bar",
         "visible": false,
         "x": {
          "bdata": "AAECAwQFBgcICQoLDA0O",
          "dtype": "i1"
         },
         "y": {
          "bdata": "CAwLCxAHBgoECAUFAAEF",
          "dtype": "i1"
         }
        },
        {
         "marker": {
          "color": "#FF6692"
         },
         "name": "Production Management",
         "showlegend": false,
         "type": "bar",
         "visible": false,
         "x": {
          "bdata": "AAECAwQFBgcICQoLDA0O",
          "dtype": "i1"
         },
         "y": {
          "bdata": "AAAAAAAAAAAAAAAAAAAA",
          "dtype": "i1"
         }
        },
        {
         "marker": {
          "color": "#B6E880"
         },
         "name": "Engineering",
         "showlegend": false,
         "type": "bar",
         "visible": false,
         "x": {
          "bdata": "AAECAwQFBgcICQoLDA0O",
          "dtype": "i1"
         },
         "y": {
          "bdata": "AAAAAAAAAAAAAAAAAAAA",
          "dtype": "i1"
         }
        },
        {
         "marker": {
          "color": "#FF97FF"
         },
         "name": "Marketing",
         "showlegend": false,
         "type": "bar",
         "visible": false,
         "x": {
          "bdata": "AAECAwQFBgcICQoLDA0O",
          "dtype": "i1"
         },
         "y": {
          "bdata": "AAAAAAAAAAAAAAAAAAAA",
          "dtype": "i1"
         }
        },
        {
         "marker": {
          "color": "#FECB52"
         },
         "name": "Sales",
         "showlegend": false,
         "type": "bar",
         "visible": false,
         "x": {
          "bdata": "AAECAwQFBgcICQoLDA0O",
          "dtype": "i1"
         },
         "y": {
          "bdata": "AAAAAAAAAAAAAAAAAAAA",
          "dtype": "i1"
         }
        },
        {
         "marker": {
          "color": "#636EFA"
         },
         "name": "SW Developer",
         "showlegend": false,
         "type": "bar",
         "visible": false,
         "x": {
          "bdata": "AAECAwQFBgcICQoLDA0O",
          "dtype": "i1"
         },
         "y": {
          "bdata": "AAAAAAAAAAAAAAAAAAAA",
          "dtype": "i1"
         }
        },
        {
         "marker": {
          "color": "#EF553B"
         },
         "name": "Infrastructure",
         "showlegend": false,
         "type": "bar",
         "visible": false,
         "x": {
          "bdata": "AAECAwQFBgcICQoLDA0O",
          "dtype": "i1"
         },
         "y": {
          "bdata": "AAAAAAAAAAAAAAAAAAAA",
          "dtype": "i1"
         }
        },
        {
         "marker": {
          "color": "#00CC96"
         },
         "name": "Data Scientist",
         "showlegend": false,
         "type": "bar",
         "visible": false,
         "x": {
          "bdata": "AAECAwQFBgcICQoLDA0O",
          "dtype": "i1"
         },
         "y": {
          "bdata": "AAAAAAAAAAAAAAAAAAAA",
          "dtype": "i1"
         }
        },
        {
         "marker": {
          "color": "#AB63FA"
         },
         "name": "HR",
         "showlegend": false,
         "type": "bar",
         "visible": false,
         "x": {
          "bdata": "AAECAwQFBgcICQoLDA0O",
          "dtype": "i1"
         },
         "y": {
          "bdata": "AAAAAAAAAAAAAAAAAAAA",
          "dtype": "i1"
         }
        },
        {
         "marker": {
          "color": "#FFA15A"
         },
         "name": "Finance",
         "showlegend": false,
         "type": "bar",
         "visible": false,
         "x": {
          "bdata": "AAECAwQFBgcICQoLDA0O",
          "dtype": "i1"
         },
         "y": {
          "bdata": "AAAAAAAAAAAAAAAAAAAA",
          "dtype": "i1"
         }
        },
        {
         "marker": {
          "color": "#19D3F3"
         },
         "name": "Business Planning",
         "showlegend": false,
         "type": "bar",
         "visible": false,
         "x": {
          "bdata": "AAECAwQFBgcICQoLDA0O",
          "dtype": "i1"
         },
         "y": {
          "bdata": "AAAAAAAAAAAAAAAAAAAA",
          "dtype": "i1"
         }
        },
        {
         "marker": {
          "color": "#FF6692"
         },
         "name": "Production Management",
         "showlegend": false,
         "type": "bar",
         "visible": false,
         "x": {
          "bdata": "AAECAwQFBgcICQoLDA0O",
          "dtype": "i1"
         },
         "y": {
          "bdata": "AQkFAgIHAwIBBQIAAQEB",
          "dtype": "i1"
         }
        },
        {
         "marker": {
          "color": "#B6E880"
         },
         "name": "Engineering",
         "showlegend": false,
         "type": "bar",
         "visible": false,
         "x": {
          "bdata": "AAECAwQFBgcICQoLDA0O",
          "dtype": "i1"
         },
         "y": {
          "bdata": "BAsHBwYGAQUFBAEAAwIA",
          "dtype": "i1"
         }
        },
        {
         "marker": {
          "color": "#FF97FF"
         },
         "name": "Marketing",
         "showlegend": false,
         "type": "bar",
         "visible": false,
         "x": {
          "bdata": "AAECAwQFBgcICQoLDA0O",
          "dtype": "i1"
         },
         "y": {
          "bdata": "AAAAAAAAAAAAAAAAAAAA",
          "dtype": "i1"
         }
        },
        {
         "marker": {
          "color": "#FECB52"
         },
         "name": "Sales",
         "showlegend": false,
         "type": "bar",
         "visible": false,
         "x": {
          "bdata": "AAECAwQFBgcICQoLDA0O",
          "dtype": "i1"
         },
         "y": {
          "bdata": "AAAAAAAAAAAAAAAAAAAA",
          "dtype": "i1"
         }
        },
        {
         "marker": {
          "color": "#636EFA"
         },
         "name": "SW Developer",
         "showlegend": false,
         "type": "bar",
         "visible": false,
         "x": {
          "bdata": "AAECAwQFBgcICQoLDA0O",
          "dtype": "i1"
         },
         "y": {
          "bdata": "AAAAAAAAAAAAAAAAAAAA",
          "dtype": "i1"
         }
        },
        {
         "marker": {
          "color": "#EF553B"
         },
         "name": "Infrastructure",
         "showlegend": false,
         "type": "bar",
         "visible": false,
         "x": {
          "bdata": "AAECAwQFBgcICQoLDA0O",
          "dtype": "i1"
         },
         "y": {
          "bdata": "AAAAAAAAAAAAAAAAAAAA",
          "dtype": "i1"
         }
        },
        {
         "marker": {
          "color": "#00CC96"
         },
         "name": "Data Scientist",
         "showlegend": false,
         "type": "bar",
         "visible": false,
         "x": {
          "bdata": "AAECAwQFBgcICQoLDA0O",
          "dtype": "i1"
         },
         "y": {
          "bdata": "AAAAAAAAAAAAAAAAAAAA",
          "dtype": "i1"
         }
        },
        {
         "marker": {
          "color": "#AB63FA"
         },
         "name": "HR",
         "showlegend": false,
         "type": "bar",
         "visible": false,
         "x": {
          "bdata": "AAECAwQFBgcICQoLDA0O",
          "dtype": "i1"
         },
         "y": {
          "bdata": "AAAAAAAAAAAAAAAAAAAA",
          "dtype": "i1"
         }
        },
        {
         "marker": {
          "color": "#FFA15A"
         },
         "name": "Finance",
         "showlegend": false,
         "type": "bar",
         "visible": false,
         "x": {
          "bdata": "AAECAwQFBgcICQoLDA0O",
          "dtype": "i1"
         },
         "y": {
          "bdata": "AAAAAAAAAAAAAAAAAAAA",
          "dtype": "i1"
         }
        },
        {
         "marker": {
          "color": "#19D3F3"
         },
         "name": "Business Planning",
         "showlegend": false,
         "type": "bar",
         "visible": false,
         "x": {
          "bdata": "AAECAwQFBgcICQoLDA0O",
          "dtype": "i1"
         },
         "y": {
          "bdata": "AAAAAAAAAAAAAAAAAAAA",
          "dtype": "i1"
         }
        },
        {
         "marker": {
          "color": "#FF6692"
         },
         "name": "Production Management",
         "showlegend": false,
         "type": "bar",
         "visible": false,
         "x": {
          "bdata": "AAECAwQFBgcICQoLDA0O",
          "dtype": "i1"
         },
         "y": {
          "bdata": "AAAAAAAAAAAAAAAAAAAA",
          "dtype": "i1"
         }
        },
        {
         "marker": {
          "color": "#B6E880"
         },
         "name": "Engineering",
         "showlegend": false,
         "type": "bar",
         "visible": false,
         "x": {
          "bdata": "AAECAwQFBgcICQoLDA0O",
          "dtype": "i1"
         },
         "y": {
          "bdata": "AAAAAAAAAAAAAAAAAAAA",
          "dtype": "i1"
         }
        },
        {
         "marker": {
          "color": "#FF97FF"
         },
         "name": "Marketing",
         "showlegend": false,
         "type": "bar",
         "visible": false,
         "x": {
          "bdata": "AAECAwQFBgcICQoLDA0O",
          "dtype": "i1"
         },
         "y": {
          "bdata": "BgIFAgICAwIBAQQAAQAB",
          "dtype": "i1"
         }
        },
        {
         "marker": {
          "color": "#FECB52"
         },
         "name": "Sales",
         "showlegend": false,
         "type": "bar",
         "visible": false,
         "x": {
          "bdata": "AAECAwQFBgcICQoLDA0O",
          "dtype": "i1"
         },
         "y": {
          "bdata": "CAwKCgcJCwgDBQACAQEE",
          "dtype": "i1"
         }
        }
       ],
       "layout": {
        "annotations": [
         {
          "align": "left",
          "showarrow": false,
          "text": "직무 선택:",
          "x": 0,
          "y": 1.08,
          "yref": "paper"
         }
        ],
        "bargap": 0.2,
        "barmode": "stack",
        "font": {
         "size": 14
        },
        "height": 700,
        "legend": {
         "title": {
          "text": "직무(L1)"
         }
        },
        "template": {
         "data": {
          "bar": [
           {
            "error_x": {
             "color": "#2a3f5f"
            },
            "error_y": {
             "color": "#2a3f5f"
            },
            "marker": {
             "line": {
              "color": "#E5ECF6",
              "width": 0.5
             },
             "pattern": {
              "fillmode": "overlay",
              "size": 10,
              "solidity": 0.2
             }
            },
            "type": "bar"
           }
          ],
          "barpolar": [
           {
            "marker": {
             "line": {
              "color": "#E5ECF6",
              "width": 0.5
             },
             "pattern": {
              "fillmode": "overlay",
              "size": 10,
              "solidity": 0.2
             }
            },
            "type": "barpolar"
           }
          ],
          "carpet": [
           {
            "aaxis": {
             "endlinecolor": "#2a3f5f",
             "gridcolor": "white",
             "linecolor": "white",
             "minorgridcolor": "white",
             "startlinecolor": "#2a3f5f"
            },
            "baxis": {
             "endlinecolor": "#2a3f5f",
             "gridcolor": "white",
             "linecolor": "white",
             "minorgridcolor": "white",
             "startlinecolor": "#2a3f5f"
            },
            "type": "carpet"
           }
          ],
          "choropleth": [
           {
            "colorbar": {
             "outlinewidth": 0,
             "ticks": ""
            },
            "type": "choropleth"
           }
          ],
          "contour": [
           {
            "colorbar": {
             "outlinewidth": 0,
             "ticks": ""
            },
            "colorscale": [
             [
              0,
              "#0d0887"
             ],
             [
              0.1111111111111111,
              "#46039f"
             ],
             [
              0.2222222222222222,
              "#7201a8"
             ],
             [
              0.3333333333333333,
              "#9c179e"
             ],
             [
              0.4444444444444444,
              "#bd3786"
             ],
             [
              0.5555555555555556,
              "#d8576b"
             ],
             [
              0.6666666666666666,
              "#ed7953"
             ],
             [
              0.7777777777777778,
              "#fb9f3a"
             ],
             [
              0.8888888888888888,
              "#fdca26"
             ],
             [
              1,
              "#f0f921"
             ]
            ],
            "type": "contour"
           }
          ],
          "contourcarpet": [
           {
            "colorbar": {
             "outlinewidth": 0,
             "ticks": ""
            },
            "type": "contourcarpet"
           }
          ],
          "heatmap": [
           {
            "colorbar": {
             "outlinewidth": 0,
             "ticks": ""
            },
            "colorscale": [
             [
              0,
              "#0d0887"
             ],
             [
              0.1111111111111111,
              "#46039f"
             ],
             [
              0.2222222222222222,
              "#7201a8"
             ],
             [
              0.3333333333333333,
              "#9c179e"
             ],
             [
              0.4444444444444444,
              "#bd3786"
             ],
             [
              0.5555555555555556,
              "#d8576b"
             ],
             [
              0.6666666666666666,
              "#ed7953"
             ],
             [
              0.7777777777777778,
              "#fb9f3a"
             ],
             [
              0.8888888888888888,
              "#fdca26"
             ],
             [
              1,
              "#f0f921"
             ]
            ],
            "type": "heatmap"
           }
          ],
          "histogram": [
           {
            "marker": {
             "pattern": {
              "fillmode": "overlay",
              "size": 10,
              "solidity": 0.2
             }
            },
            "type": "histogram"
           }
          ],
          "histogram2d": [
           {
            "colorbar": {
             "outlinewidth": 0,
             "ticks": ""
            },
            "colorscale": [
             [
              0,
              "#0d0887"
             ],
             [
              0.1111111111111111,
              "#46039f"
             ],
             [
              0.2222222222222222,
              "#7201a8"
             ],
             [
              0.3333333333333333,
              "#9c179e"
             ],
             [
              0.4444444444444444,
              "#bd3786"
             ],
             [
              0.5555555555555556,
              "#d8576b"
             ],
             [
              0.6666666666666666,
              "#ed7953"
             ],
             [
              0.7777777777777778,
              "#fb9f3a"
             ],
             [
              0.8888888888888888,
              "#fdca26"
             ],
             [
              1,
              "#f0f921"
             ]
            ],
            "type": "histogram2d"
           }
          ],
          "histogram2dcontour": [
           {
            "colorbar": {
             "outlinewidth": 0,
             "ticks": ""
            },
            "colorscale": [
             [
              0,
              "#0d0887"
             ],
             [
              0.1111111111111111,
              "#46039f"
             ],
             [
              0.2222222222222222,
              "#7201a8"
             ],
             [
              0.3333333333333333,
              "#9c179e"
             ],
             [
              0.4444444444444444,
              "#bd3786"
             ],
             [
              0.5555555555555556,
              "#d8576b"
             ],
             [
              0.6666666666666666,
              "#ed7953"
             ],
             [
              0.7777777777777778,
              "#fb9f3a"
             ],
             [
              0.8888888888888888,
              "#fdca26"
             ],
             [
              1,
              "#f0f921"
             ]
            ],
            "type": "histogram2dcontour"
           }
          ],
          "mesh3d": [
           {
            "colorbar": {
             "outlinewidth": 0,
             "ticks": ""
            },
            "type": "mesh3d"
           }
          ],
          "parcoords": [
           {
            "line": {
             "colorbar": {
              "outlinewidth": 0,
              "ticks": ""
             }
            },
            "type": "parcoords"
           }
          ],
          "pie": [
           {
            "automargin": true,
            "type": "pie"
           }
          ],
          "scatter": [
           {
            "fillpattern": {
             "fillmode": "overlay",
             "size": 10,
             "solidity": 0.2
            },
            "type": "scatter"
           }
          ],
          "scatter3d": [
           {
            "line": {
             "colorbar": {
              "outlinewidth": 0,
              "ticks": ""
             }
            },
            "marker": {
             "colorbar": {
              "outlinewidth": 0,
              "ticks": ""
             }
            },
            "type": "scatter3d"
           }
          ],
          "scattercarpet": [
           {
            "marker": {
             "colorbar": {
              "outlinewidth": 0,
              "ticks": ""
             }
            },
            "type": "scattercarpet"
           }
          ],
          "scattergeo": [
           {
            "marker": {
             "colorbar": {
              "outlinewidth": 0,
              "ticks": ""
             }
            },
            "type": "scattergeo"
           }
          ],
          "scattergl": [
           {
            "marker": {
             "colorbar": {
              "outlinewidth": 0,
              "ticks": ""
             }
            },
            "type": "scattergl"
           }
          ],
          "scattermap": [
           {
            "marker": {
             "colorbar": {
              "outlinewidth": 0,
              "ticks": ""
             }
            },
            "type": "scattermap"
           }
          ],
          "scattermapbox": [
           {
            "marker": {
             "colorbar": {
              "outlinewidth": 0,
              "ticks": ""
             }
            },
            "type": "scattermapbox"
           }
          ],
          "scatterpolar": [
           {
            "marker": {
             "colorbar": {
              "outlinewidth": 0,
              "ticks": ""
             }
            },
            "type": "scatterpolar"
           }
          ],
          "scatterpolargl": [
           {
            "marker": {
             "colorbar": {
              "outlinewidth": 0,
              "ticks": ""
             }
            },
            "type": "scatterpolargl"
           }
          ],
          "scatterternary": [
           {
            "marker": {
             "colorbar": {
              "outlinewidth": 0,
              "ticks": ""
             }
            },
            "type": "scatterternary"
           }
          ],
          "surface": [
           {
            "colorbar": {
             "outlinewidth": 0,
             "ticks": ""
            },
            "colorscale": [
             [
              0,
              "#0d0887"
             ],
             [
              0.1111111111111111,
              "#46039f"
             ],
             [
              0.2222222222222222,
              "#7201a8"
             ],
             [
              0.3333333333333333,
              "#9c179e"
             ],
             [
              0.4444444444444444,
              "#bd3786"
             ],
             [
              0.5555555555555556,
              "#d8576b"
             ],
             [
              0.6666666666666666,
              "#ed7953"
             ],
             [
              0.7777777777777778,
              "#fb9f3a"
             ],
             [
              0.8888888888888888,
              "#fdca26"
             ],
             [
              1,
              "#f0f921"
             ]
            ],
            "type": "surface"
           }
          ],
          "table": [
           {
            "cells": {
             "fill": {
              "color": "#EBF0F8"
             },
             "line": {
              "color": "white"
             }
            },
            "header": {
             "fill": {
              "color": "#C8D4E3"
             },
             "line": {
              "color": "white"
             }
            },
            "type": "table"
           }
          ]
         },
         "layout": {
          "annotationdefaults": {
           "arrowcolor": "#2a3f5f",
           "arrowhead": 0,
           "arrowwidth": 1
          },
          "autotypenumbers": "strict",
          "coloraxis": {
           "colorbar": {
            "outlinewidth": 0,
            "ticks": ""
           }
          },
          "colorscale": {
           "diverging": [
            [
             0,
             "#8e0152"
            ],
            [
             0.1,
             "#c51b7d"
            ],
            [
             0.2,
             "#de77ae"
            ],
            [
             0.3,
             "#f1b6da"
            ],
            [
             0.4,
             "#fde0ef"
            ],
            [
             0.5,
             "#f7f7f7"
            ],
            [
             0.6,
             "#e6f5d0"
            ],
            [
             0.7,
             "#b8e186"
            ],
            [
             0.8,
             "#7fbc41"
            ],
            [
             0.9,
             "#4d9221"
            ],
            [
             1,
             "#276419"
            ]
           ],
           "sequential": [
            [
             0,
             "#0d0887"
            ],
            [
             0.1111111111111111,
             "#46039f"
            ],
            [
             0.2222222222222222,
             "#7201a8"
            ],
            [
             0.3333333333333333,
             "#9c179e"
            ],
            [
             0.4444444444444444,
             "#bd3786"
            ],
            [
             0.5555555555555556,
             "#d8576b"
            ],
            [
             0.6666666666666666,
             "#ed7953"
            ],
            [
             0.7777777777777778,
             "#fb9f3a"
            ],
            [
             0.8888888888888888,
             "#fdca26"
            ],
            [
             1,
             "#f0f921"
            ]
           ],
           "sequentialminus": [
            [
             0,
             "#0d0887"
            ],
            [
             0.1111111111111111,
             "#46039f"
            ],
            [
             0.2222222222222222,
             "#7201a8"
            ],
            [
             0.3333333333333333,
             "#9c179e"
            ],
            [
             0.4444444444444444,
             "#bd3786"
            ],
            [
             0.5555555555555556,
             "#d8576b"
            ],
            [
             0.6666666666666666,
             "#ed7953"
            ],
            [
             0.7777777777777778,
             "#fb9f3a"
            ],
            [
             0.8888888888888888,
             "#fdca26"
            ],
            [
             1,
             "#f0f921"
            ]
           ]
          },
          "colorway": [
           "#636efa",
           "#EF553B",
           "#00cc96",
           "#ab63fa",
           "#FFA15A",
           "#19d3f3",
           "#FF6692",
           "#B6E880",
           "#FF97FF",
           "#FECB52"
          ],
          "font": {
           "color": "#2a3f5f"
          },
          "geo": {
           "bgcolor": "white",
           "lakecolor": "white",
           "landcolor": "#E5ECF6",
           "showlakes": true,
           "showland": true,
           "subunitcolor": "white"
          },
          "hoverlabel": {
           "align": "left"
          },
          "hovermode": "closest",
          "mapbox": {
           "style": "light"
          },
          "paper_bgcolor": "white",
          "plot_bgcolor": "#E5ECF6",
          "polar": {
           "angularaxis": {
            "gridcolor": "white",
            "linecolor": "white",
            "ticks": ""
           },
           "bgcolor": "#E5ECF6",
           "radialaxis": {
            "gridcolor": "white",
            "linecolor": "white",
            "ticks": ""
           }
          },
          "scene": {
           "xaxis": {
            "backgroundcolor": "#E5ECF6",
            "gridcolor": "white",
            "gridwidth": 2,
            "linecolor": "white",
            "showbackground": true,
            "ticks": "",
            "zerolinecolor": "white"
           },
           "yaxis": {
            "backgroundcolor": "#E5ECF6",
            "gridcolor": "white",
            "gridwidth": 2,
            "linecolor": "white",
            "showbackground": true,
            "ticks": "",
            "zerolinecolor": "white"
           },
           "zaxis": {
            "backgroundcolor": "#E5ECF6",
            "gridcolor": "white",
            "gridwidth": 2,
            "linecolor": "white",
            "showbackground": true,
            "ticks": "",
            "zerolinecolor": "white"
           }
          },
          "shapedefaults": {
           "line": {
            "color": "#2a3f5f"
           }
          },
          "ternary": {
           "aaxis": {
            "gridcolor": "white",
            "linecolor": "white",
            "ticks": ""
           },
           "baxis": {
            "gridcolor": "white",
            "linecolor": "white",
            "ticks": ""
           },
           "bgcolor": "#E5ECF6",
           "caxis": {
            "gridcolor": "white",
            "linecolor": "white",
            "ticks": ""
           }
          },
          "title": {
           "x": 0.05
          },
          "xaxis": {
           "automargin": true,
           "gridcolor": "white",
           "linecolor": "white",
           "ticks": "",
           "title": {
            "standoff": 15
           },
           "zerolinecolor": "white",
           "zerolinewidth": 2
          },
          "yaxis": {
           "automargin": true,
           "gridcolor": "white",
           "linecolor": "white",
           "ticks": "",
           "title": {
            "standoff": 15
           },
           "zerolinecolor": "white",
           "zerolinewidth": 2
          }
         }
        },
        "title": {
         "text": "직무별 근속년수 분포 현황"
        },
        "updatemenus": [
         {
          "active": 0,
          "buttons": [
           {
            "args": [
             {
              "visible": [
               true,
               true,
               true,
               true,
               true,
               false,
               false,
               false,
               false,
               false,
               false,
               false,
               false,
               false,
               false,
               false,
               false,
               false,
               false,
               false,
               false,
               false,
               false,
               false,
               false,
               false,
               false,
               false,
               false,
               false,
               false,
               false,
               false,
               false,
               false,
               false,
               false,
               false,
               false,
               false,
               false,
               false,
               false,
               false,
               false,
               false,
               false,
               false,
               false,
               false,
               false,
               false,
               false,
               false,
               false
              ]
             },
             {
              "barmode": "stack",
              "showlegend": true,
              "title": "전체 직무별 근속년수 분포"
             }
            ],
            "label": "전체",
            "method": "update"
           },
           {
            "args": [
             {
              "visible": [
               false,
               false,
               false,
               false,
               false,
               true,
               true,
               true,
               true,
               true,
               true,
               true,
               true,
               true,
               true,
               false,
               false,
               false,
               false,
               false,
               false,
               false,
               false,
               false,
               false,
               false,
               false,
               false,
               false,
               false,
               false,
               false,
               false,
               false,
               false,
               false,
               false,
               false,
               false,
               false,
               false,
               false,
               false,
               false,
               false,
               false,
               false,
               false,
               false,
               false,
               false,
               false,
               false,
               false,
               false
              ]
             },
             {
              "barmode": "stack",
              "showlegend": false,
              "title": "IT 내 직무별 근속년수 분포"
             }
            ],
            "label": "IT",
            "method": "update"
           },
           {
            "args": [
             {
              "visible": [
               false,
               false,
               false,
               false,
               false,
               false,
               false,
               false,
               false,
               false,
               false,
               false,
               false,
               false,
               false,
               true,
               true,
               true,
               true,
               true,
               true,
               true,
               true,
               true,
               true,
               false,
               false,
               false,
               false,
               false,
               false,
               false,
               false,
               false,
               false,
               false,
               false,
               false,
               false,
               false,
               false,
               false,
               false,
               false,
               false,
               false,
               false,
               false,
               false,
               false,
               false,
               false,
               false,
               false,
               false
              ]
             },
             {
              "barmode": "stack",
              "showlegend": false,
              "title": "Management Support 내 직무별 근속년수 분포"
             }
            ],
            "label": "Management Support",
            "method": "update"
           },
           {
            "args": [
             {
              "visible": [
               false,
               false,
               false,
               false,
               false,
               false,
               false,
               false,
               false,
               false,
               false,
               false,
               false,
               false,
               false,
               false,
               false,
               false,
               false,
               false,
               false,
               false,
               false,
               false,
               false,
               true,
               true,
               true,
               true,
               true,
               true,
               true,
               true,
               true,
               true,
               false,
               false,
               false,
               false,
               false,
               false,
               false,
               false,
               false,
               false,
               false,
               false,
               false,
               false,
               false,
               false,
               false,
               false,
               false,
               false
              ]
             },
             {
              "barmode": "stack",
              "showlegend": false,
              "title": "Planning 내 직무별 근속년수 분포"
             }
            ],
            "label": "Planning",
            "method": "update"
           },
           {
            "args": [
             {
              "visible": [
               false,
               false,
               false,
               false,
               false,
               false,
               false,
               false,
               false,
               false,
               false,
               false,
               false,
               false,
               false,
               false,
               false,
               false,
               false,
               false,
               false,
               false,
               false,
               false,
               false,
               false,
               false,
               false,
               false,
               false,
               false,
               false,
               false,
               false,
               false,
               true,
               true,
               true,
               true,
               true,
               true,
               true,
               true,
               true,
               true,
               false,
               false,
               false,
               false,
               false,
               false,
               false,
               false,
               false,
               false
              ]
             },
             {
              "barmode": "stack",
              "showlegend": false,
              "title": "Production & Engineering 내 직무별 근속년수 분포"
             }
            ],
            "label": "Production & Engineering",
            "method": "update"
           },
           {
            "args": [
             {
              "visible": [
               false,
               false,
               false,
               false,
               false,
               false,
               false,
               false,
               false,
               false,
               false,
               false,
               false,
               false,
               false,
               false,
               false,
               false,
               false,
               false,
               false,
               false,
               false,
               false,
               false,
               false,
               false,
               false,
               false,
               false,
               false,
               false,
               false,
               false,
               false,
               false,
               false,
               false,
               false,
               false,
               false,
               false,
               false,
               false,
               false,
               true,
               true,
               true,
               true,
               true,
               true,
               true,
               true,
               true,
               true
              ]
             },
             {
              "barmode": "stack",
              "showlegend": false,
              "title": "Sales & Marketing 내 직무별 근속년수 분포"
             }
            ],
            "label": "Sales & Marketing",
            "method": "update"
           }
          ],
          "direction": "down",
          "pad": {
           "r": 10,
           "t": 10
          },
          "showactive": true,
          "x": 0.01,
          "xanchor": "left",
          "y": 1.1,
          "yanchor": "top"
         }
        ],
        "xaxis": {
         "dtick": 1,
         "range": [
          -0.5,
          16.426762491444215
         ],
         "title": {
          "text": "근속년수 (년)"
         }
        },
        "yaxis": {
         "title": {
          "text": "직원 수"
         }
        }
       }
      }
     },
     "metadata": {},
     "output_type": "display_data"
    },
    {
     "name": "stdout",
     "output_type": "stream",
     "text": [
      "\n",
      "--- Aggregate DataFrame ---\n"
     ]
    },
    {
     "data": {
      "text/html": [
       "<div>\n",
       "<style scoped>\n",
       "    .dataframe tbody tr th:only-of-type {\n",
       "        vertical-align: middle;\n",
       "    }\n",
       "\n",
       "    .dataframe tbody tr th {\n",
       "        vertical-align: top;\n",
       "    }\n",
       "\n",
       "    .dataframe thead th {\n",
       "        text-align: right;\n",
       "    }\n",
       "</style>\n",
       "<table border=\"1\" class=\"dataframe\">\n",
       "  <thead>\n",
       "    <tr style=\"text-align: right;\">\n",
       "      <th>JOB_L1_NAME</th>\n",
       "      <th>합계</th>\n",
       "      <th>IT</th>\n",
       "      <th>Management Support</th>\n",
       "      <th>Planning</th>\n",
       "      <th>Production &amp; Engineering</th>\n",
       "      <th>Sales &amp; Marketing</th>\n",
       "    </tr>\n",
       "    <tr>\n",
       "      <th>TENURE_GROUP</th>\n",
       "      <th></th>\n",
       "      <th></th>\n",
       "      <th></th>\n",
       "      <th></th>\n",
       "      <th></th>\n",
       "      <th></th>\n",
       "    </tr>\n",
       "  </thead>\n",
       "  <tbody>\n",
       "    <tr>\n",
       "      <th>3년 이하</th>\n",
       "      <td>162</td>\n",
       "      <td>37</td>\n",
       "      <td>14</td>\n",
       "      <td>31</td>\n",
       "      <td>37</td>\n",
       "      <td>43</td>\n",
       "    </tr>\n",
       "    <tr>\n",
       "      <th>3년초과~7년이하</th>\n",
       "      <td>168</td>\n",
       "      <td>34</td>\n",
       "      <td>14</td>\n",
       "      <td>40</td>\n",
       "      <td>34</td>\n",
       "      <td>46</td>\n",
       "    </tr>\n",
       "    <tr>\n",
       "      <th>7년초과</th>\n",
       "      <td>150</td>\n",
       "      <td>34</td>\n",
       "      <td>11</td>\n",
       "      <td>38</td>\n",
       "      <td>33</td>\n",
       "      <td>34</td>\n",
       "    </tr>\n",
       "    <tr>\n",
       "      <th>합계</th>\n",
       "      <td>480</td>\n",
       "      <td>105</td>\n",
       "      <td>39</td>\n",
       "      <td>109</td>\n",
       "      <td>104</td>\n",
       "      <td>123</td>\n",
       "    </tr>\n",
       "  </tbody>\n",
       "</table>\n",
       "</div>"
      ],
      "text/plain": [
       "JOB_L1_NAME    합계   IT  Management Support  Planning  \\\n",
       "TENURE_GROUP                                           \n",
       "3년 이하         162   37                  14        31   \n",
       "3년초과~7년이하     168   34                  14        40   \n",
       "7년초과          150   34                  11        38   \n",
       "합계            480  105                  39       109   \n",
       "\n",
       "JOB_L1_NAME   Production & Engineering  Sales & Marketing  \n",
       "TENURE_GROUP                                               \n",
       "3년 이하                               37                 43  \n",
       "3년초과~7년이하                           34                 46  \n",
       "7년초과                                33                 34  \n",
       "합계                                 104                123  "
      ]
     },
     "execution_count": 1,
     "metadata": {},
     "output_type": "execute_result"
    }
   ],
   "source": [
    "import pandas as pd\n",
    "import numpy as np\n",
    "import plotly.graph_objects as go\n",
    "import plotly.io as pio\n",
    "import plotly.express as px\n",
    "\n",
    "# --- 1. 데이터 임포트 ---\n",
    "from services.tables.HR_Core.basic_info_table import emp_df\n",
    "from services.tables.HR_Core.department_info_table import department_info_df\n",
    "from services.tables.HR_Core.job_info_table import job_info_df\n",
    "from services.tables.HR_Core.job_table import job_df, job_df_indexed, parent_map_job, job_l1_order, job_l2_order\n",
    "from services.helpers.utils import get_level1_ancestor, get_level2_ancestor\n",
    "\n",
    "def create_figure_and_df():\n",
    "    \"\"\"\n",
    "    제안 4-2: 직무별 경험 자산 현황 그래프 및 피벗 테이블을 생성합니다.\n",
    "    \"\"\"\n",
    "    # --- 2. 데이터 준비 및 가공 ---\n",
    "    current_emps_df = emp_df[emp_df['CURRENT_EMP_YN'] == 'Y'].copy()\n",
    "    current_emps_df['TENURE_YEARS'] = current_emps_df['DURATION'] / 365.25\n",
    "\n",
    "    current_job = job_info_df[job_info_df['JOB_APP_END_DATE'].isnull()][['EMP_ID', 'JOB_ID']]\n",
    "    analysis_df = pd.merge(current_emps_df, current_job, on='EMP_ID', how='left')\n",
    "    \n",
    "    job_name_map = job_df.set_index('JOB_ID')['JOB_NAME'].to_dict()\n",
    "    analysis_df['JOB_L1_NAME'] = analysis_df['JOB_ID'].apply(lambda x: job_name_map.get(get_level1_ancestor(x, job_df_indexed, parent_map_job)))\n",
    "    analysis_df['JOB_L2_NAME'] = analysis_df['JOB_ID'].apply(lambda x: job_name_map.get(get_level2_ancestor(x, job_df_indexed, parent_map_job)))\n",
    "    \n",
    "    analysis_df = analysis_df.dropna(subset=['JOB_L1_NAME', 'JOB_L2_NAME', 'TENURE_YEARS'])\n",
    "\n",
    "    # --- 3. Plotly 인터랙티브 그래프 생성 (그래프용 데이터 준비) ---\n",
    "    analysis_df['TENURE_BIN'] = pd.cut(analysis_df['TENURE_YEARS'], bins=range(0, int(analysis_df['TENURE_YEARS'].max()) + 2), right=False, labels=range(0, int(analysis_df['TENURE_YEARS'].max()) + 1))\n",
    "    job_l1_summary = analysis_df.groupby(['JOB_L1_NAME', 'TENURE_BIN'], observed=False).size().reset_index(name='COUNT')\n",
    "    job_l2_summary = analysis_df.groupby(['JOB_L1_NAME', 'JOB_L2_NAME', 'TENURE_BIN'], observed=False).size().reset_index(name='COUNT')\n",
    "\n",
    "    x_max = analysis_df['TENURE_YEARS'].max()\n",
    "    fixed_x_range = [-0.5, x_max + 1.5]\n",
    "\n",
    "    # (그래프 생성 코드는 이전과 동일)\n",
    "    fig = go.Figure()\n",
    "    colors = px.colors.qualitative.Plotly\n",
    "    for i, job_l1_name in enumerate(job_l1_order):\n",
    "        df_filtered = job_l1_summary[job_l1_summary['JOB_L1_NAME'] == job_l1_name]\n",
    "        fig.add_trace(go.Bar(x=df_filtered['TENURE_BIN'], y=df_filtered['COUNT'], name=job_l1_name, marker_color=colors[i]))\n",
    "    job_l2_traces_map = {}\n",
    "    trace_idx_counter = len(fig.data)\n",
    "    for job_l1_name in job_l1_order:\n",
    "        job_l1_df = job_l2_summary[job_l2_summary['JOB_L1_NAME'] == job_l1_name]\n",
    "        jobs_in_l1 = [j for j in job_l2_order if j in job_l1_df['JOB_L2_NAME'].unique()]\n",
    "        job_l2_traces_map[job_l1_name] = []\n",
    "        for j, job_l2_name in enumerate(jobs_in_l1):\n",
    "            df_filtered = job_l1_df[job_l1_df['JOB_L2_NAME'] == job_l2_name]\n",
    "            fig.add_trace(go.Bar(x=df_filtered['TENURE_BIN'], y=df_filtered['COUNT'], name=job_l2_name, visible=False, marker_color=colors[j % len(colors)], showlegend=False))\n",
    "            job_l2_traces_map[job_l1_name].append(trace_idx_counter)\n",
    "            trace_idx_counter += 1\n",
    "    buttons = []\n",
    "    buttons.append(dict(label='전체', method='update', args=[{'visible': [True]*len(job_l1_order) + [False]*(len(fig.data)-len(job_l1_order))}, {'title': '전체 직무별 근속년수 분포', 'barmode': 'stack', 'showlegend': True}]))\n",
    "    for job_l1_name in job_l1_order:\n",
    "        visibility_mask = [False] * len(fig.data)\n",
    "        for trace_idx in job_l2_traces_map.get(job_l1_name, []):\n",
    "            visibility_mask[trace_idx] = True\n",
    "        buttons.append(dict(label=f'{job_l1_name}', method='update', args=[{'visible': visibility_mask}, {'title': f'{job_l1_name} 내 직무별 근속년수 분포', 'barmode': 'stack', 'showlegend': False}]))\n",
    "    fig.update_layout(\n",
    "        updatemenus=[dict(active=0, buttons=buttons, direction=\"down\", pad={\"r\": 10, \"t\": 10}, showactive=True, x=0.01, xanchor=\"left\", y=1.1, yanchor=\"top\")],\n",
    "        title_text='직무별 근속년수 분포 현황', xaxis_title='근속년수 (년)', yaxis_title='직원 수', font_size=14, height=700,\n",
    "        bargap=0.2, barmode='stack', legend_title_text='직무',\n",
    "        annotations=[dict(text=\"직무 선택:\", showarrow=False, x=0, y=1.08, yref=\"paper\", align=\"left\")],\n",
    "        xaxis_range=fixed_x_range\n",
    "    )\n",
    "    fig.update_xaxes(dtick=1)\n",
    "    \n",
    "    # --- 수정된 부분: aggregate_df 생성 ---\n",
    "    # 1. 근속년수 구간을 새로 정의\n",
    "    tenure_bins_agg = [-np.inf, 3, 7, np.inf]\n",
    "    tenure_labels_agg = ['3년 이하', '3년초과~7년이하', '7년초과']\n",
    "    analysis_df['TENURE_GROUP'] = pd.cut(analysis_df['TENURE_YEARS'], bins=tenure_bins_agg, labels=tenure_labels_agg)\n",
    "\n",
    "    # 2. 피벗 테이블 생성\n",
    "    aggregate_df = pd.pivot_table(\n",
    "        analysis_df,\n",
    "        index='TENURE_GROUP',\n",
    "        columns='JOB_L1_NAME',\n",
    "        values='EMP_ID',\n",
    "        aggfunc='count',\n",
    "        margins=True,\n",
    "        margins_name='합계',\n",
    "        observed=False\n",
    "    ).fillna(0).astype(int)\n",
    "    \n",
    "    # 3. '합계' 컬럼을 맨 앞으로 이동\n",
    "    if '합계' in aggregate_df.columns:\n",
    "        cols = ['합계'] + [col for col in aggregate_df.columns if col != '합계']\n",
    "        aggregate_df = aggregate_df[cols]\n",
    "    # --- 수정 완료 ---\n",
    "    \n",
    "    return fig, aggregate_df\n",
    "\n",
    "# --- 실행 코드 ---\n",
    "pio.renderers.default = 'vscode'\n",
    "fig, aggregate_df = create_figure_and_df()\n",
    "fig.show()\n",
    "\n",
    "print(\"\\n--- Aggregate DataFrame ---\")\n",
    "aggregate_df"
   ]
  },
  {
   "cell_type": "code",
   "execution_count": null,
   "id": "d9447434",
   "metadata": {},
   "outputs": [],
   "source": []
  }
 ],
 "metadata": {
  "kernelspec": {
   "display_name": "Python 3 (ipykernel)",
   "language": "python",
   "name": "python3"
  },
  "language_info": {
   "codemirror_mode": {
    "name": "ipython",
    "version": 3
   },
   "file_extension": ".py",
   "mimetype": "text/x-python",
   "name": "python",
   "nbconvert_exporter": "python",
   "pygments_lexer": "ipython3",
   "version": "3.12.11"
  }
 },
 "nbformat": 4,
 "nbformat_minor": 5
}
