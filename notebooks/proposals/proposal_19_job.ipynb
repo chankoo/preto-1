{
 "cells": [
  {
   "cell_type": "code",
   "execution_count": 1,
   "id": "78b74aea",
   "metadata": {},
   "outputs": [
    {
     "name": "stderr",
     "output_type": "stream",
     "text": [
      "/app/src/services/tables/Time_Attendance/detailed_working_info_table.py:79: FutureWarning: Downcasting object dtype arrays on .fillna, .ffill, .bfill is deprecated and will change in a future version. Call result.infer_objects(copy=False) instead. To opt-in to the future behavior, set `pd.set_option('future.no_silent_downcasting', True)`\n",
      "  df['IS_VACATION'] = df['IS_VACATION'].fillna(False).astype(bool)\n"
     ]
    },
    {
     "data": {
      "application/vnd.plotly.v1+json": {
       "config": {
        "plotlyServerURL": "https://plot.ly"
       },
       "data": [
        {
         "line": {
          "color": "red"
         },
         "mode": "lines+markers+text",
         "name": "퇴사자",
         "text": [
          "4.57",
          "3.64",
          "3.0",
          "2.75",
          "2.47",
          "2.23",
          "2.1",
          "1.99",
          "1.76",
          "1.87",
          "1.87",
          "1.53"
         ],
         "textposition": "top center",
         "type": "scatter",
         "visible": true,
         "x": {
          "bdata": "9PX29/j5+vv8/f7/",
          "dtype": "i1"
         },
         "y": {
          "bdata": "jdhev9xJEkA2Y5C96hcNQPXRahKi+AdAWYR/nO4BBkAM/KvGvcADQBYDJbzR1AFANNaHxvrQAEAy2k6zgsP/P/DCQfT4Lvw/ES8JCCfi/T8RUi3rQNv9P2wOJFphc/g/",
          "dtype": "f8"
         }
        },
        {
         "line": {
          "color": "grey",
          "dash": "dash"
         },
         "mode": "lines",
         "name": "재직자(기준선)",
         "type": "scatter",
         "visible": true,
         "x": {
          "bdata": "9PX29/j5+vv8/f7/",
          "dtype": "i1"
         },
         "y": [
          1.4501736111111112,
          1.4501736111111112,
          1.4501736111111112,
          1.4501736111111112,
          1.4501736111111112,
          1.4501736111111112,
          1.4501736111111112,
          1.4501736111111112,
          1.4501736111111112,
          1.4501736111111112,
          1.4501736111111112,
          1.4501736111111112
         ]
        },
        {
         "line": {
          "color": "red"
         },
         "mode": "lines+markers+text",
         "name": "퇴사자",
         "text": [
          "4.17",
          "3.54",
          "3.09",
          "2.89",
          "2.37",
          "2.21",
          "2.14",
          "1.83",
          "1.77",
          "1.72",
          "1.84",
          "1.43"
         ],
         "textposition": "top center",
         "type": "scatter",
         "visible": false,
         "x": {
          "bdata": "9PX29/j5+vv8/f7/",
          "dtype": "i1"
         },
         "y": {
          "bdata": "1Uqt1EqtEEBTSimllFIMQDqL6SymswhAZzGdxXQWB0Aor6G8hvICQBQ7sRM7sQFA9xHcR3AfAUCxEzuxEzv9P0RERERERPw/hetRuB6F+z9ZU9aUNWX9P7dt27Zt2/Y/",
          "dtype": "f8"
         }
        },
        {
         "line": {
          "color": "grey",
          "dash": "dash"
         },
         "mode": "lines",
         "name": "재직자(기준선)",
         "type": "scatter",
         "visible": false,
         "x": {
          "bdata": "9PX29/j5+vv8/f7/",
          "dtype": "i1"
         },
         "y": [
          1.5787037037037035,
          1.5787037037037035,
          1.5787037037037035,
          1.5787037037037035,
          1.5787037037037035,
          1.5787037037037035,
          1.5787037037037035,
          1.5787037037037035,
          1.5787037037037035,
          1.5787037037037035,
          1.5787037037037035,
          1.5787037037037035
         ]
        },
        {
         "line": {
          "color": "red"
         },
         "mode": "lines+markers+text",
         "name": "퇴사자",
         "text": [
          "6.38",
          "2.81",
          "3.21",
          "2.41",
          "2.21",
          "2.08",
          "1.45",
          "1.59",
          "2.3",
          "1.71",
          "1.73",
          "1.33"
         ],
         "textposition": "top center",
         "type": "scatter",
         "visible": false,
         "x": {
          "bdata": "9PX29/j5+vv8/f7/",
          "dtype": "i1"
         },
         "y": {
          "bdata": "iIeHh4eHGUBiJ3ZiJ3YGQKuqqqqqqglARhdddNFFA0CrqqqqqqoBQKuqqqqqqgBAMzMzMzMz9z900UUXXXT5P2ZmZmZmZgJAVVVVVVVV+z8UO7ETO7H7P1VVVVVVVfU/",
          "dtype": "f8"
         }
        },
        {
         "line": {
          "color": "grey",
          "dash": "dash"
         },
         "mode": "lines",
         "name": "재직자(기준선)",
         "type": "scatter",
         "visible": false,
         "x": {
          "bdata": "9PX29/j5+vv8/f7/",
          "dtype": "i1"
         },
         "y": [
          1.4895833333333333,
          1.4895833333333333,
          1.4895833333333333,
          1.4895833333333333,
          1.4895833333333333,
          1.4895833333333333,
          1.4895833333333333,
          1.4895833333333333,
          1.4895833333333333,
          1.4895833333333333,
          1.4895833333333333,
          1.4895833333333333
         ]
        },
        {
         "line": {
          "color": "red"
         },
         "mode": "lines+markers+text",
         "name": "퇴사자",
         "text": [
          "4.71",
          "3.64",
          "2.86",
          "2.42",
          "2.66",
          "2.24",
          "2.21",
          "2.16",
          "1.75",
          "1.86",
          "1.97",
          "1.63"
         ],
         "textposition": "top center",
         "type": "scatter",
         "visible": false,
         "x": {
          "bdata": "9PX29/j5+vv8/f7/",
          "dtype": "i1"
         },
         "y": {
          "bdata": "t23btm3bEkDObuFXYyINQNlkk0022QZAVVVVVVVVA0BEREREREQFQEXQcFL35QFAYbyVfQ6pAUBI4XoUrkcBQOzr6+vr6/s/btu2bdu2/T/h5RS8nIL/PyIiIiIiIvo/",
          "dtype": "f8"
         }
        },
        {
         "line": {
          "color": "grey",
          "dash": "dash"
         },
         "mode": "lines",
         "name": "재직자(기준선)",
         "type": "scatter",
         "visible": false,
         "x": {
          "bdata": "9PX29/j5+vv8/f7/",
          "dtype": "i1"
         },
         "y": [
          1.5287878787878786,
          1.5287878787878786,
          1.5287878787878786,
          1.5287878787878786,
          1.5287878787878786,
          1.5287878787878786,
          1.5287878787878786,
          1.5287878787878786,
          1.5287878787878786,
          1.5287878787878786,
          1.5287878787878786,
          1.5287878787878786
         ]
        },
        {
         "line": {
          "color": "red"
         },
         "mode": "lines+markers+text",
         "name": "퇴사자",
         "text": [
          "3.84",
          "3.77",
          "3.25",
          "2.88",
          "2.56",
          "2.4",
          "2.3",
          "2.02",
          "1.68",
          "2.07",
          "1.92",
          "1.56"
         ],
         "textposition": "top center",
         "type": "scatter",
         "visible": false,
         "x": {
          "bdata": "9PX29/j5+vv8/f7/",
          "dtype": "i1"
         },
         "y": {
          "bdata": "iVbYHEi0DkDiZ5T4GSUOQNIDlbNb+AlACCGEEEIIB0D4KS4ZgnUEQCuChpO6LwNAsI4271NcAkAiIiIiIiIAQNPS0tLS0vo/cgUxuYKYAEC/vr6+vr7+PzmO4ziO4/g/",
          "dtype": "f8"
         }
        },
        {
         "line": {
          "color": "grey",
          "dash": "dash"
         },
         "mode": "lines",
         "name": "재직자(기준선)",
         "type": "scatter",
         "visible": false,
         "x": {
          "bdata": "9PX29/j5+vv8/f7/",
          "dtype": "i1"
         },
         "y": [
          1.606902356902357,
          1.606902356902357,
          1.606902356902357,
          1.606902356902357,
          1.606902356902357,
          1.606902356902357,
          1.606902356902357,
          1.606902356902357,
          1.606902356902357,
          1.606902356902357,
          1.606902356902357,
          1.606902356902357
         ]
        },
        {
         "line": {
          "color": "red"
         },
         "mode": "lines+markers+text",
         "name": "퇴사자",
         "text": [
          "5.03",
          "3.73",
          "2.8",
          "2.86",
          "2.36",
          "2.11",
          "1.9",
          "2.02",
          "1.75",
          "1.87",
          "1.77",
          "1.53"
         ],
         "textposition": "top center",
         "type": "scatter",
         "visible": false,
         "x": {
          "bdata": "9PX29/j5+vv8/f7/",
          "dtype": "i1"
         },
         "y": {
          "bdata": "H4PzMTgfFECKndiJndgNQOU1lNdQXgZA4XoUrkfhBkDtwFw7MNcCQGCNifRA5QBAAAAAAABg/j8AAAAAACAAQNq8T3HJEPw/hl7ohV7o/T9c2eeQmmD8P72G8hrKa/g/",
          "dtype": "f8"
         }
        },
        {
         "line": {
          "color": "grey",
          "dash": "dash"
         },
         "mode": "lines",
         "name": "재직자(기준선)",
         "type": "scatter",
         "visible": false,
         "x": {
          "bdata": "9PX29/j5+vv8/f7/",
          "dtype": "i1"
         },
         "y": [
          1.49266975308642,
          1.49266975308642,
          1.49266975308642,
          1.49266975308642,
          1.49266975308642,
          1.49266975308642,
          1.49266975308642,
          1.49266975308642,
          1.49266975308642,
          1.49266975308642,
          1.49266975308642,
          1.49266975308642
         ]
        }
       ],
       "layout": {
        "annotations": [
         {
          "align": "left",
          "showarrow": false,
          "text": "직무 선택:",
          "x": 0,
          "y": 1.08,
          "yref": "paper"
         }
        ],
        "font": {
         "size": 14
        },
        "height": 700,
        "template": {
         "data": {
          "bar": [
           {
            "error_x": {
             "color": "#2a3f5f"
            },
            "error_y": {
             "color": "#2a3f5f"
            },
            "marker": {
             "line": {
              "color": "#E5ECF6",
              "width": 0.5
             },
             "pattern": {
              "fillmode": "overlay",
              "size": 10,
              "solidity": 0.2
             }
            },
            "type": "bar"
           }
          ],
          "barpolar": [
           {
            "marker": {
             "line": {
              "color": "#E5ECF6",
              "width": 0.5
             },
             "pattern": {
              "fillmode": "overlay",
              "size": 10,
              "solidity": 0.2
             }
            },
            "type": "barpolar"
           }
          ],
          "carpet": [
           {
            "aaxis": {
             "endlinecolor": "#2a3f5f",
             "gridcolor": "white",
             "linecolor": "white",
             "minorgridcolor": "white",
             "startlinecolor": "#2a3f5f"
            },
            "baxis": {
             "endlinecolor": "#2a3f5f",
             "gridcolor": "white",
             "linecolor": "white",
             "minorgridcolor": "white",
             "startlinecolor": "#2a3f5f"
            },
            "type": "carpet"
           }
          ],
          "choropleth": [
           {
            "colorbar": {
             "outlinewidth": 0,
             "ticks": ""
            },
            "type": "choropleth"
           }
          ],
          "contour": [
           {
            "colorbar": {
             "outlinewidth": 0,
             "ticks": ""
            },
            "colorscale": [
             [
              0,
              "#0d0887"
             ],
             [
              0.1111111111111111,
              "#46039f"
             ],
             [
              0.2222222222222222,
              "#7201a8"
             ],
             [
              0.3333333333333333,
              "#9c179e"
             ],
             [
              0.4444444444444444,
              "#bd3786"
             ],
             [
              0.5555555555555556,
              "#d8576b"
             ],
             [
              0.6666666666666666,
              "#ed7953"
             ],
             [
              0.7777777777777778,
              "#fb9f3a"
             ],
             [
              0.8888888888888888,
              "#fdca26"
             ],
             [
              1,
              "#f0f921"
             ]
            ],
            "type": "contour"
           }
          ],
          "contourcarpet": [
           {
            "colorbar": {
             "outlinewidth": 0,
             "ticks": ""
            },
            "type": "contourcarpet"
           }
          ],
          "heatmap": [
           {
            "colorbar": {
             "outlinewidth": 0,
             "ticks": ""
            },
            "colorscale": [
             [
              0,
              "#0d0887"
             ],
             [
              0.1111111111111111,
              "#46039f"
             ],
             [
              0.2222222222222222,
              "#7201a8"
             ],
             [
              0.3333333333333333,
              "#9c179e"
             ],
             [
              0.4444444444444444,
              "#bd3786"
             ],
             [
              0.5555555555555556,
              "#d8576b"
             ],
             [
              0.6666666666666666,
              "#ed7953"
             ],
             [
              0.7777777777777778,
              "#fb9f3a"
             ],
             [
              0.8888888888888888,
              "#fdca26"
             ],
             [
              1,
              "#f0f921"
             ]
            ],
            "type": "heatmap"
           }
          ],
          "histogram": [
           {
            "marker": {
             "pattern": {
              "fillmode": "overlay",
              "size": 10,
              "solidity": 0.2
             }
            },
            "type": "histogram"
           }
          ],
          "histogram2d": [
           {
            "colorbar": {
             "outlinewidth": 0,
             "ticks": ""
            },
            "colorscale": [
             [
              0,
              "#0d0887"
             ],
             [
              0.1111111111111111,
              "#46039f"
             ],
             [
              0.2222222222222222,
              "#7201a8"
             ],
             [
              0.3333333333333333,
              "#9c179e"
             ],
             [
              0.4444444444444444,
              "#bd3786"
             ],
             [
              0.5555555555555556,
              "#d8576b"
             ],
             [
              0.6666666666666666,
              "#ed7953"
             ],
             [
              0.7777777777777778,
              "#fb9f3a"
             ],
             [
              0.8888888888888888,
              "#fdca26"
             ],
             [
              1,
              "#f0f921"
             ]
            ],
            "type": "histogram2d"
           }
          ],
          "histogram2dcontour": [
           {
            "colorbar": {
             "outlinewidth": 0,
             "ticks": ""
            },
            "colorscale": [
             [
              0,
              "#0d0887"
             ],
             [
              0.1111111111111111,
              "#46039f"
             ],
             [
              0.2222222222222222,
              "#7201a8"
             ],
             [
              0.3333333333333333,
              "#9c179e"
             ],
             [
              0.4444444444444444,
              "#bd3786"
             ],
             [
              0.5555555555555556,
              "#d8576b"
             ],
             [
              0.6666666666666666,
              "#ed7953"
             ],
             [
              0.7777777777777778,
              "#fb9f3a"
             ],
             [
              0.8888888888888888,
              "#fdca26"
             ],
             [
              1,
              "#f0f921"
             ]
            ],
            "type": "histogram2dcontour"
           }
          ],
          "mesh3d": [
           {
            "colorbar": {
             "outlinewidth": 0,
             "ticks": ""
            },
            "type": "mesh3d"
           }
          ],
          "parcoords": [
           {
            "line": {
             "colorbar": {
              "outlinewidth": 0,
              "ticks": ""
             }
            },
            "type": "parcoords"
           }
          ],
          "pie": [
           {
            "automargin": true,
            "type": "pie"
           }
          ],
          "scatter": [
           {
            "fillpattern": {
             "fillmode": "overlay",
             "size": 10,
             "solidity": 0.2
            },
            "type": "scatter"
           }
          ],
          "scatter3d": [
           {
            "line": {
             "colorbar": {
              "outlinewidth": 0,
              "ticks": ""
             }
            },
            "marker": {
             "colorbar": {
              "outlinewidth": 0,
              "ticks": ""
             }
            },
            "type": "scatter3d"
           }
          ],
          "scattercarpet": [
           {
            "marker": {
             "colorbar": {
              "outlinewidth": 0,
              "ticks": ""
             }
            },
            "type": "scattercarpet"
           }
          ],
          "scattergeo": [
           {
            "marker": {
             "colorbar": {
              "outlinewidth": 0,
              "ticks": ""
             }
            },
            "type": "scattergeo"
           }
          ],
          "scattergl": [
           {
            "marker": {
             "colorbar": {
              "outlinewidth": 0,
              "ticks": ""
             }
            },
            "type": "scattergl"
           }
          ],
          "scattermap": [
           {
            "marker": {
             "colorbar": {
              "outlinewidth": 0,
              "ticks": ""
             }
            },
            "type": "scattermap"
           }
          ],
          "scattermapbox": [
           {
            "marker": {
             "colorbar": {
              "outlinewidth": 0,
              "ticks": ""
             }
            },
            "type": "scattermapbox"
           }
          ],
          "scatterpolar": [
           {
            "marker": {
             "colorbar": {
              "outlinewidth": 0,
              "ticks": ""
             }
            },
            "type": "scatterpolar"
           }
          ],
          "scatterpolargl": [
           {
            "marker": {
             "colorbar": {
              "outlinewidth": 0,
              "ticks": ""
             }
            },
            "type": "scatterpolargl"
           }
          ],
          "scatterternary": [
           {
            "marker": {
             "colorbar": {
              "outlinewidth": 0,
              "ticks": ""
             }
            },
            "type": "scatterternary"
           }
          ],
          "surface": [
           {
            "colorbar": {
             "outlinewidth": 0,
             "ticks": ""
            },
            "colorscale": [
             [
              0,
              "#0d0887"
             ],
             [
              0.1111111111111111,
              "#46039f"
             ],
             [
              0.2222222222222222,
              "#7201a8"
             ],
             [
              0.3333333333333333,
              "#9c179e"
             ],
             [
              0.4444444444444444,
              "#bd3786"
             ],
             [
              0.5555555555555556,
              "#d8576b"
             ],
             [
              0.6666666666666666,
              "#ed7953"
             ],
             [
              0.7777777777777778,
              "#fb9f3a"
             ],
             [
              0.8888888888888888,
              "#fdca26"
             ],
             [
              1,
              "#f0f921"
             ]
            ],
            "type": "surface"
           }
          ],
          "table": [
           {
            "cells": {
             "fill": {
              "color": "#EBF0F8"
             },
             "line": {
              "color": "white"
             }
            },
            "header": {
             "fill": {
              "color": "#C8D4E3"
             },
             "line": {
              "color": "white"
             }
            },
            "type": "table"
           }
          ]
         },
         "layout": {
          "annotationdefaults": {
           "arrowcolor": "#2a3f5f",
           "arrowhead": 0,
           "arrowwidth": 1
          },
          "autotypenumbers": "strict",
          "coloraxis": {
           "colorbar": {
            "outlinewidth": 0,
            "ticks": ""
           }
          },
          "colorscale": {
           "diverging": [
            [
             0,
             "#8e0152"
            ],
            [
             0.1,
             "#c51b7d"
            ],
            [
             0.2,
             "#de77ae"
            ],
            [
             0.3,
             "#f1b6da"
            ],
            [
             0.4,
             "#fde0ef"
            ],
            [
             0.5,
             "#f7f7f7"
            ],
            [
             0.6,
             "#e6f5d0"
            ],
            [
             0.7,
             "#b8e186"
            ],
            [
             0.8,
             "#7fbc41"
            ],
            [
             0.9,
             "#4d9221"
            ],
            [
             1,
             "#276419"
            ]
           ],
           "sequential": [
            [
             0,
             "#0d0887"
            ],
            [
             0.1111111111111111,
             "#46039f"
            ],
            [
             0.2222222222222222,
             "#7201a8"
            ],
            [
             0.3333333333333333,
             "#9c179e"
            ],
            [
             0.4444444444444444,
             "#bd3786"
            ],
            [
             0.5555555555555556,
             "#d8576b"
            ],
            [
             0.6666666666666666,
             "#ed7953"
            ],
            [
             0.7777777777777778,
             "#fb9f3a"
            ],
            [
             0.8888888888888888,
             "#fdca26"
            ],
            [
             1,
             "#f0f921"
            ]
           ],
           "sequentialminus": [
            [
             0,
             "#0d0887"
            ],
            [
             0.1111111111111111,
             "#46039f"
            ],
            [
             0.2222222222222222,
             "#7201a8"
            ],
            [
             0.3333333333333333,
             "#9c179e"
            ],
            [
             0.4444444444444444,
             "#bd3786"
            ],
            [
             0.5555555555555556,
             "#d8576b"
            ],
            [
             0.6666666666666666,
             "#ed7953"
            ],
            [
             0.7777777777777778,
             "#fb9f3a"
            ],
            [
             0.8888888888888888,
             "#fdca26"
            ],
            [
             1,
             "#f0f921"
            ]
           ]
          },
          "colorway": [
           "#636efa",
           "#EF553B",
           "#00cc96",
           "#ab63fa",
           "#FFA15A",
           "#19d3f3",
           "#FF6692",
           "#B6E880",
           "#FF97FF",
           "#FECB52"
          ],
          "font": {
           "color": "#2a3f5f"
          },
          "geo": {
           "bgcolor": "white",
           "lakecolor": "white",
           "landcolor": "#E5ECF6",
           "showlakes": true,
           "showland": true,
           "subunitcolor": "white"
          },
          "hoverlabel": {
           "align": "left"
          },
          "hovermode": "closest",
          "mapbox": {
           "style": "light"
          },
          "paper_bgcolor": "white",
          "plot_bgcolor": "#E5ECF6",
          "polar": {
           "angularaxis": {
            "gridcolor": "white",
            "linecolor": "white",
            "ticks": ""
           },
           "bgcolor": "#E5ECF6",
           "radialaxis": {
            "gridcolor": "white",
            "linecolor": "white",
            "ticks": ""
           }
          },
          "scene": {
           "xaxis": {
            "backgroundcolor": "#E5ECF6",
            "gridcolor": "white",
            "gridwidth": 2,
            "linecolor": "white",
            "showbackground": true,
            "ticks": "",
            "zerolinecolor": "white"
           },
           "yaxis": {
            "backgroundcolor": "#E5ECF6",
            "gridcolor": "white",
            "gridwidth": 2,
            "linecolor": "white",
            "showbackground": true,
            "ticks": "",
            "zerolinecolor": "white"
           },
           "zaxis": {
            "backgroundcolor": "#E5ECF6",
            "gridcolor": "white",
            "gridwidth": 2,
            "linecolor": "white",
            "showbackground": true,
            "ticks": "",
            "zerolinecolor": "white"
           }
          },
          "shapedefaults": {
           "line": {
            "color": "#2a3f5f"
           }
          },
          "ternary": {
           "aaxis": {
            "gridcolor": "white",
            "linecolor": "white",
            "ticks": ""
           },
           "baxis": {
            "gridcolor": "white",
            "linecolor": "white",
            "ticks": ""
           },
           "bgcolor": "#E5ECF6",
           "caxis": {
            "gridcolor": "white",
            "linecolor": "white",
            "ticks": ""
           }
          },
          "title": {
           "x": 0.05
          },
          "xaxis": {
           "automargin": true,
           "gridcolor": "white",
           "linecolor": "white",
           "ticks": "",
           "title": {
            "standoff": 15
           },
           "zerolinecolor": "white",
           "zerolinewidth": 2
          },
          "yaxis": {
           "automargin": true,
           "gridcolor": "white",
           "linecolor": "white",
           "ticks": "",
           "title": {
            "standoff": 15
           },
           "zerolinecolor": "white",
           "zerolinewidth": 2
          }
         }
        },
        "title": {
         "text": "퇴사 직전 12개월간 월 평균 총 휴가 사용일수 비교"
        },
        "updatemenus": [
         {
          "active": 0,
          "buttons": [
           {
            "args": [
             {
              "visible": [
               true,
               true,
               false,
               false,
               false,
               false,
               false,
               false,
               false,
               false,
               false,
               false
              ]
             }
            ],
            "label": "전체",
            "method": "update"
           },
           {
            "args": [
             {
              "visible": [
               false,
               false,
               true,
               true,
               false,
               false,
               false,
               false,
               false,
               false,
               false,
               false
              ]
             }
            ],
            "label": "IT",
            "method": "update"
           },
           {
            "args": [
             {
              "visible": [
               false,
               false,
               false,
               false,
               true,
               true,
               false,
               false,
               false,
               false,
               false,
               false
              ]
             }
            ],
            "label": "Management Support",
            "method": "update"
           },
           {
            "args": [
             {
              "visible": [
               false,
               false,
               false,
               false,
               false,
               false,
               true,
               true,
               false,
               false,
               false,
               false
              ]
             }
            ],
            "label": "Planning",
            "method": "update"
           },
           {
            "args": [
             {
              "visible": [
               false,
               false,
               false,
               false,
               false,
               false,
               false,
               false,
               true,
               true,
               false,
               false
              ]
             }
            ],
            "label": "Production & Engineering",
            "method": "update"
           },
           {
            "args": [
             {
              "visible": [
               false,
               false,
               false,
               false,
               false,
               false,
               false,
               false,
               false,
               false,
               true,
               true
              ]
             }
            ],
            "label": "Sales & Marketing",
            "method": "update"
           }
          ],
          "direction": "down",
          "pad": {
           "r": 10,
           "t": 10
          },
          "showactive": true,
          "x": 0.01,
          "xanchor": "left",
          "y": 1.1,
          "yanchor": "top"
         }
        ],
        "xaxis": {
         "title": {
          "text": "퇴사 N개월 전"
         }
        },
        "yaxis": {
         "range": [
          0,
          7.658823529411765
         ],
         "title": {
          "text": "월 평균 총 휴가 사용일수"
         }
        }
       }
      }
     },
     "metadata": {},
     "output_type": "display_data"
    }
   ],
   "source": [
    "import pandas as pd\n",
    "import numpy as np\n",
    "import plotly.graph_objects as go\n",
    "import plotly.io as pio\n",
    "import datetime\n",
    "\n",
    "# --- 1. 데이터 임포트 ---\n",
    "from services.tables.Time_Attendance.detailed_leave_info_table import detailed_leave_info_df\n",
    "from services.tables.Time_Attendance.leave_type_table import leave_type_df\n",
    "from services.tables.HR_Core.basic_info_table import emp_df\n",
    "from services.tables.HR_Core.job_info_table import job_info_df\n",
    "from services.tables.HR_Core.job_table import job_df, job_df_indexed, parent_map_job, job_l1_order\n",
    "from services.helpers.utils import get_level1_ancestor\n",
    "\n",
    "def create_figure():\n",
    "    \"\"\"\n",
    "    제안 19-2: 직무별 퇴사 예측 선행 지표 분석 그래프를 생성합니다.\n",
    "    \"\"\"\n",
    "    # --- 2. 데이터 준비 및 가공 ---\n",
    "    leave_df = detailed_leave_info_df.copy()\n",
    "    leave_df = pd.merge(leave_df, leave_type_df, on='LEAVE_TYPE_ID')\n",
    "    leave_df['DATE'] = pd.to_datetime(leave_df['DATE'])\n",
    "    leave_df['LEAVE_LENGTH'] = pd.to_numeric(leave_df['LEAVE_LENGTH'])\n",
    "\n",
    "    leavers = emp_df[emp_df['CURRENT_EMP_YN'] == 'N'][['EMP_ID', 'OUT_DATE']].copy()\n",
    "    leaver_leave_data = pd.merge(leavers, leave_df, on='EMP_ID', how='left')\n",
    "    leaver_leave_data = leaver_leave_data[\n",
    "        (leaver_leave_data['DATE'] < leaver_leave_data['OUT_DATE']) &\n",
    "        (leaver_leave_data['DATE'] >= (leaver_leave_data['OUT_DATE'] - pd.DateOffset(months=12)))\n",
    "    ].copy()\n",
    "    \n",
    "    if not leaver_leave_data.empty:\n",
    "        leaver_leave_data['MONTHS_BEFORE_LEAVING'] = (leaver_leave_data['OUT_DATE'].dt.year - leaver_leave_data['DATE'].dt.year) * 12 + (leaver_leave_data['OUT_DATE'].dt.month - leaver_leave_data['DATE'].dt.month)\n",
    "        leaver_pattern_df = leaver_leave_data.groupby(['EMP_ID', 'MONTHS_BEFORE_LEAVING'])['LEAVE_LENGTH'].sum().reset_index()\n",
    "    else:\n",
    "        leaver_pattern_df = pd.DataFrame(columns=['EMP_ID', 'MONTHS_BEFORE_LEAVING', 'LEAVE_LENGTH'])\n",
    "\n",
    "    stayers = emp_df[emp_df['CURRENT_EMP_YN'] == 'Y'].copy()\n",
    "    stayer_leaves = leave_df[(leave_df['EMP_ID'].isin(stayers['EMP_ID'])) & (leave_df['DATE'].dt.year == 2024)]\n",
    "    stayer_monthly_avg = (stayer_leaves['LEAVE_LENGTH'].sum() / stayers['EMP_ID'].nunique()) / 12 if not stayers.empty and stayers['EMP_ID'].nunique() > 0 else 0\n",
    "\n",
    "    # 직무 정보 결합\n",
    "    first_job = job_info_df.sort_values('JOB_APP_START_DATE').groupby('EMP_ID').first().reset_index()\n",
    "    job_name_map = job_df.set_index('JOB_ID')['JOB_NAME'].to_dict()\n",
    "    first_job['JOB_L1_NAME'] = first_job['JOB_ID'].apply(lambda x: job_name_map.get(get_level1_ancestor(x, job_df_indexed, parent_map_job)))\n",
    "    \n",
    "    leaver_pattern_df = pd.merge(leaver_pattern_df, first_job[['EMP_ID', 'JOB_L1_NAME']], on='EMP_ID', how='left')\n",
    "    leaver_pattern_df = leaver_pattern_df.dropna(subset=['JOB_L1_NAME'])\n",
    "    \n",
    "    stayers_with_job = pd.merge(stayers, first_job[['EMP_ID', 'JOB_L1_NAME']], on='EMP_ID', how='left')\n",
    "    stayers_with_job = stayers_with_job.dropna(subset=['JOB_L1_NAME'])\n",
    "    \n",
    "    leaver_avg_by_month = leaver_pattern_df.groupby('MONTHS_BEFORE_LEAVING')['LEAVE_LENGTH'].mean().reset_index()\n",
    "    leaver_avg_by_month_job = leaver_pattern_df.groupby(['JOB_L1_NAME', 'MONTHS_BEFORE_LEAVING'], observed=False)['LEAVE_LENGTH'].mean().reset_index()\n",
    "    \n",
    "    stayer_avg_by_job = stayer_leaves.groupby('EMP_ID')['LEAVE_LENGTH'].sum().reset_index()\n",
    "    stayer_avg_by_job = pd.merge(stayer_avg_by_job, stayers_with_job[['EMP_ID', 'JOB_L1_NAME']], on='EMP_ID').groupby('JOB_L1_NAME', observed=False)['LEAVE_LENGTH'].mean().reset_index()\n",
    "\n",
    "    # --- 3. Plotly 인터랙티브 그래프 생성 ---\n",
    "    fig = go.Figure()\n",
    "    \n",
    "    if not leaver_pattern_df.empty:\n",
    "        y_max = pd.concat([leaver_avg_by_month['LEAVE_LENGTH'], leaver_avg_by_month_job['LEAVE_LENGTH']]).max()\n",
    "        fixed_y_range = [0, y_max * 1.2]\n",
    "        job_list = ['전체'] + job_l1_order\n",
    "        \n",
    "        for i, job_name in enumerate(job_list):\n",
    "            is_visible = (i == 0)\n",
    "            if job_name == '전체':\n",
    "                leaver_data, stayer_data_y = leaver_avg_by_month, [stayer_monthly_avg] * 12\n",
    "            else:\n",
    "                leaver_data = leaver_avg_by_month_job[leaver_avg_by_month_job['JOB_L1_NAME'] == job_name]\n",
    "                stayer_job_avg = stayer_avg_by_job[stayer_avg_by_job['JOB_L1_NAME'] == job_name]['LEAVE_LENGTH'].iloc[0] if not stayer_avg_by_job[stayer_avg_by_job['JOB_L1_NAME'] == job_name].empty else 0\n",
    "                stayer_data_y = [stayer_job_avg / 12] * 12\n",
    "                \n",
    "            x_axis_months = -np.arange(12, 0, -1)\n",
    "            leaver_data_aligned = pd.DataFrame({'MONTHS_BEFORE_LEAVING': np.arange(1, 13)})\n",
    "            leaver_data_aligned = pd.merge(leaver_data_aligned, leaver_data, on='MONTHS_BEFORE_LEAVING', how='left').fillna(0)\n",
    "            \n",
    "            fig.add_trace(go.Scatter(x=x_axis_months, y=leaver_data_aligned['LEAVE_LENGTH'], mode='lines+markers+text', name='퇴사자', line=dict(color='red'), visible=is_visible, text=leaver_data_aligned['LEAVE_LENGTH'].round(2).astype(str), textposition='top center'))\n",
    "            fig.add_trace(go.Scatter(x=x_axis_months, y=stayer_data_y, mode='lines', name='재직자(기준선)', line=dict(color='grey', dash='dash'), visible=is_visible))\n",
    "            \n",
    "        buttons = []\n",
    "        for i, job_name in enumerate(job_list):\n",
    "            visibility_mask = [False] * (len(job_list) * 2)\n",
    "            visibility_mask[i*2], visibility_mask[i*2 + 1] = True, True\n",
    "            buttons.append(dict(label=job_name, method='update', args=[{'visible': visibility_mask}]))\n",
    "        \n",
    "        fig.update_layout(\n",
    "            updatemenus=[dict(active=0, buttons=buttons, direction=\"down\", pad={\"r\": 10, \"t\": 10}, showactive=True, x=0.01, xanchor=\"left\", y=1.1, yanchor=\"top\")],\n",
    "            title_text='퇴사 직전 12개월간 월 평균 총 휴가 사용일수 비교',\n",
    "            xaxis_title='퇴사 N개월 전', yaxis_title='월 평균 총 휴가 사용일수',\n",
    "            font_size=14, height=700,\n",
    "            annotations=[dict(text=\"직무 선택:\", showarrow=False, x=0, y=1.08, yref=\"paper\", align=\"left\")],\n",
    "            yaxis_range=fixed_y_range\n",
    "        )\n",
    "    else:\n",
    "        fig.update_layout(title_text=\"분석할 퇴사자 휴가 데이터가 없습니다.\")\n",
    "\n",
    "    return fig\n",
    "\n",
    "# 이 파일을 직접 실행할 경우 그래프를 생성하여 보여줍니다.\n",
    "pio.renderers.default = 'vscode'\n",
    "fig = create_figure()\n",
    "fig.show()"
   ]
  },
  {
   "cell_type": "code",
   "execution_count": null,
   "id": "5818df83",
   "metadata": {},
   "outputs": [],
   "source": []
  }
 ],
 "metadata": {
  "kernelspec": {
   "display_name": "Python 3 (ipykernel)",
   "language": "python",
   "name": "python3"
  }
 },
 "nbformat": 4,
 "nbformat_minor": 5
}
