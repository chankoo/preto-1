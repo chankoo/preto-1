{
 "cells": [
  {
   "cell_type": "code",
   "execution_count": 11,
   "id": "bc2672e1",
   "metadata": {},
   "outputs": [
    {
     "data": {
      "application/vnd.plotly.v1+json": {
       "config": {
        "plotlyServerURL": "https://plot.ly"
       },
       "data": [
        {
         "name": "신입 (0~3년)",
         "type": "box",
         "visible": true,
         "x": {
          "bdata": "AQQCAwQDAgEDAwMDAwMBAwMBAgQEAwMDBAQBAwQDAgMDAwIDBAMCAwECAgMDAwICAgEDAgICAgQCBAICBAMDAwIDAwIDAgEEBAQDAwEDAwEBAwIBBAMCAwMEAwMDAgICAwQDAwEDAgEDAwQDAgEBAQMCAwICAgQDAgEDAwMCBAICAgIEBAMDAwIBAwIBAgIDAwECAwMCBAEDAwIEAwEEAgICAgIDAwQDAwQDAQIDAgMCAwIDAgEBBAIBAgIBBAMCAwECAQMDBAQCAwMBAwQDAQMDAwMDAQIDAgQCAQMDBAMCAQICAQEEAwMEAQMCBAIBAgIDAgQEAgQDAwMCAwEBBAIDAwQDAwMDAwMEAgMBAQEEAQMCAwECAQMDAwIBAQMBAwICAwIDAgEDAwMCAgECAgMBAQMCBAMEAwQDAgMCAgQCAgIDAwECAwEDAwMCAwMDAwIEBAQEAwMDAgMCAQMDAwMDAgMDBAMCAQMDAwQDAQIEAwMCAQMDAgMCBAICAwEDAgMDAwEDAgICAwMDAQICBAIDAwECAgICAwQDAwMDAQIDAgIBAwICAgMCBAICBAMCAQIDAQMCBAMDAgQDAwIBAgIDAwMDAwMDAwMCAwEDAwICAwMDBAIBAgMDAQIDBAMEBAEEAwIDAgQCAgIBAQIBAgMEAwEBAwECAQECAgIEAwQDAgMEAgEEAwMCBAMBAgEDAgIBAwMCAgEEAwQDAwMEAQIDAwQDAwMBBAEEAwMBBAQEAQE=",
          "dtype": "i1"
         },
         "y": {
          "bdata": "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",
          "dtype": "i4"
         }
        },
        {
         "name": "주니어 (3~7년)",
         "type": "box",
         "visible": true,
         "x": {
          "bdata": "AgICAwQDBAIBAwMBAQQDAgMDAQEDAQEEAgIEAwMBAwMDAgICAwQCAgICAQMDBAMCAQIDAwMCAwICAgQBAgEDAgMBAwIDAQMCAgIDAgIDAwICAwICAwMEAgEEAwMCAwIBBAMBAwQBAQMDAwMDAgMEAwMEAwQDAwIDAQIDAgIDAgMDBAIEAgMDBAMBAgECAgEEAQECAgI=",
          "dtype": "i1"
         },
         "y": {
          "bdata": "QFZNA+AIHgNglnkD4HtzA8DjqANgAJIDIA3kAiC1RQOAUdYCwOOoA+A9KgMgo8sCgMQrAyAfXgNgjTwDoDAnA0CCHAOAu+4CYCMkA4BsjQPgGpgDwP39AuDcTgMAJrgDQETTAiAWIQMgtUUDYHvCAkCCHANgwkgDoDlkAwD5hgLgEVsDwP39AmDUwgMAzbcCgMQrA4Dw+gKggOoDwAY7A6CRAgNg7hcDQMBlA4B9pQJApa4CIELwAqAEWANghP8CYIT/AqDy3QKgd60DwJPlAoAlBwOAHMoCIDmzAmCeVAJgPXkCIBYhAwBShwNgjTwDgCUHA2DLhQMAh5MDQCFBA6BTuQKgXPYCAM23AqA5ZAOAWhMDAEANA8CT5QIg0PwDYBGqAsCcIgNAtygDYBrnAgBJSgOg8t0CAHUZA6BucAMAQA0DQItZA0CUlgNgsM4CoFz2AsDRLgNgWDADANb0AqAwJwMgkVECoFO5AoAuRAMgm/AD4PcFBADfMQOAoZkDwBi1A8B5kANgjTwDICibAyCsCAPAMgoD4NMRAyCSswOAu+4C4Gn5AgB+VgNghP8C4IyLAiC+ggMgObMC4Gn5AiAN5AIAdRkDgMQrA+D2owIgrAgDYCxhA0ClrgJgwkgDACa4A+DcTgPABjsD4PajAiBC8AKgZTMDAKolA0DaugJgsM4CYPdUAwCh6AIg+2kC4OWLAyCsCAMAN9ACAGzcAiBuvwIgZYICwNprAwCzYgNguQsD4HI2A8AyCgOAQL4DgMQrA+BgvAJgy4UDIA3kAgBaYgI=",
          "dtype": "i4"
         }
        },
        {
         "name": "시니어 (7년+)",
         "type": "box",
         "visible": true,
         "x": {
          "bdata": "AwIEAQQCAgQDBAMBAgICBAMDAgIBAwMBAQMBAgICAQMDAwQDAwMB",
          "dtype": "i1"
         },
         "y": {
          "bdata": "gDeBA4BAvgOAJQcDAH5WA4AdLAQgH14DwILNA4AdLASAHSwEgEn7AwCqJQMgH14DYMJIA8CLCgRAphAE4EZnA2DCSAOAHSwEgB0sBABbxAOAHSwEoARYAyCJdgPgEVsDYIT/AoAdLARg91QDgB0sBAAv9QOAHSwEgB0sBADF3AOgd60DoDlkA2BhbQMg844DQNscBIBsjQOgS94D",
          "dtype": "i4"
         }
        },
        {
         "name": "신입 (0~3년)",
         "type": "box",
         "visible": false,
         "x": [
          "사회과학계열",
          "상경계열",
          "STEM계열",
          "어문계열",
          "사회과학계열",
          "기타",
          "인문계열",
          "디자인계열",
          "자연과학계열",
          "기타",
          "STEM계열",
          "기타",
          "상경계열",
          "사회과학계열",
          "인문계열",
          "기타",
          "STEM계열",
          "인문계열",
          "자연과학계열",
          "사회과학계열",
          "상경계열",
          "디자인계열",
          "인문계열",
          "기타",
          "인문계열",
          "사회과학계열",
          "기타",
          "자연과학계열",
          "인문계열",
          "디자인계열",
          "STEM계열",
          "어문계열",
          "기타",
          "자연과학계열",
          "사회과학계열",
          "기타",
          "상경계열",
          "기타",
          "STEM계열",
          "STEM계열",
          "기타공학계열",
          "자연과학계열",
          "STEM계열",
          "디자인계열",
          "STEM계열",
          "자연과학계열",
          "자연과학계열",
          "사회과학계열",
          "어문계열",
          "기타",
          "자연과학계열",
          "STEM계열",
          "사회과학계열",
          "사회과학계열",
          "자연과학계열",
          "어문계열",
          "상경계열",
          "디자인계열",
          "기타공학계열",
          "디자인계열",
          "어문계열",
          "기타공학계열",
          "기타",
          "디자인계열",
          "사회과학계열",
          "기타",
          "STEM계열",
          "사회과학계열",
          "자연과학계열",
          "STEM계열",
          "기타공학계열",
          "상경계열",
          "기타",
          "디자인계열",
          "인문계열",
          "자연과학계열",
          "어문계열",
          "상경계열",
          "디자인계열",
          "인문계열",
          "기타",
          "인문계열",
          "자연과학계열",
          "인문계열",
          "기타",
          "기타",
          "상경계열",
          "자연과학계열",
          "STEM계열",
          "STEM계열",
          "자연과학계열",
          "STEM계열",
          "인문계열",
          "디자인계열",
          "기타",
          "STEM계열",
          "디자인계열",
          "기타공학계열",
          "사회과학계열",
          "어문계열",
          "자연과학계열",
          "어문계열",
          "기타",
          "사회과학계열",
          "디자인계열",
          "디자인계열",
          "기타",
          "기타공학계열",
          "사회과학계열",
          "기타공학계열",
          "사회과학계열",
          "인문계열",
          "상경계열",
          "상경계열",
          "사회과학계열",
          "사회과학계열",
          "상경계열",
          "디자인계열",
          "인문계열",
          "기타",
          "자연과학계열",
          "인문계열",
          "사회과학계열",
          "STEM계열",
          "기타",
          "자연과학계열",
          "인문계열",
          "디자인계열",
          "기타",
          "STEM계열",
          "사회과학계열",
          "인문계열",
          "사회과학계열",
          "기타공학계열",
          "기타",
          "사회과학계열",
          "인문계열",
          "디자인계열",
          "디자인계열",
          "기타공학계열",
          "디자인계열",
          "기타공학계열",
          "인문계열",
          "어문계열",
          "사회과학계열",
          "STEM계열",
          "인문계열",
          "인문계열",
          "사회과학계열",
          "자연과학계열",
          "STEM계열",
          "STEM계열",
          "기타공학계열",
          "기타공학계열",
          "STEM계열",
          "기타",
          "사회과학계열",
          "기타",
          "상경계열",
          "기타공학계열",
          "상경계열",
          "상경계열",
          "자연과학계열",
          "인문계열",
          "기타",
          "디자인계열",
          "기타공학계열",
          "기타",
          "어문계열",
          "디자인계열",
          "어문계열",
          "자연과학계열",
          "인문계열",
          "기타공학계열",
          "인문계열",
          "자연과학계열",
          "디자인계열",
          "어문계열",
          "디자인계열",
          "STEM계열",
          "사회과학계열",
          "기타공학계열",
          "기타",
          "상경계열",
          "사회과학계열",
          "어문계열",
          "인문계열",
          "자연과학계열",
          "STEM계열",
          "상경계열",
          "자연과학계열",
          "어문계열",
          "디자인계열",
          "기타",
          "어문계열",
          "사회과학계열",
          "기타",
          "디자인계열",
          "기타",
          "STEM계열",
          "자연과학계열",
          "디자인계열",
          "자연과학계열",
          "기타",
          "인문계열",
          "자연과학계열",
          "기타",
          "기타공학계열",
          "사회과학계열",
          "인문계열",
          "어문계열",
          "어문계열",
          "STEM계열",
          "STEM계열",
          "STEM계열",
          "기타",
          "디자인계열",
          "상경계열",
          "기타",
          "디자인계열",
          "어문계열",
          "디자인계열",
          "상경계열",
          "STEM계열",
          "인문계열",
          "디자인계열",
          "디자인계열",
          "디자인계열",
          "어문계열",
          "상경계열",
          "기타공학계열",
          "어문계열",
          "자연과학계열",
          "인문계열",
          "자연과학계열",
          "기타공학계열",
          "기타",
          "상경계열",
          "기타",
          "디자인계열",
          "자연과학계열",
          "인문계열",
          "STEM계열",
          "어문계열",
          "STEM계열",
          "기타",
          "디자인계열",
          "STEM계열",
          "기타",
          "기타",
          "사회과학계열",
          "자연과학계열",
          "자연과학계열",
          "사회과학계열",
          "STEM계열",
          "기타",
          "사회과학계열",
          "STEM계열",
          "인문계열",
          "인문계열",
          "STEM계열",
          "STEM계열",
          "STEM계열",
          "어문계열",
          "디자인계열",
          "자연과학계열",
          "STEM계열",
          "어문계열",
          "기타공학계열",
          "기타공학계열",
          "사회과학계열",
          "디자인계열",
          "기타공학계열",
          "상경계열",
          "사회과학계열",
          "STEM계열",
          "자연과학계열",
          "자연과학계열",
          "기타",
          "STEM계열",
          "자연과학계열",
          "어문계열",
          "디자인계열",
          "자연과학계열",
          "기타",
          "인문계열",
          "사회과학계열",
          "사회과학계열",
          "어문계열",
          "상경계열",
          "기타",
          "사회과학계열",
          "STEM계열",
          "기타공학계열",
          "어문계열",
          "기타공학계열",
          "STEM계열",
          "기타",
          "기타공학계열",
          "기타공학계열",
          "상경계열",
          "기타공학계열",
          "상경계열",
          "사회과학계열",
          "기타",
          "상경계열",
          "상경계열",
          "디자인계열",
          "STEM계열",
          "인문계열",
          "사회과학계열",
          "기타",
          "상경계열",
          "상경계열",
          "자연과학계열",
          "디자인계열",
          "기타공학계열",
          "자연과학계열",
          "사회과학계열",
          "사회과학계열",
          "기타공학계열",
          "기타",
          "사회과학계열",
          "기타",
          "어문계열",
          "인문계열",
          "어문계열",
          "STEM계열",
          "상경계열",
          "기타",
          "기타",
          "어문계열",
          "인문계열",
          "STEM계열",
          "사회과학계열",
          "기타공학계열",
          "어문계열",
          "사회과학계열",
          "기타공학계열",
          "어문계열",
          "사회과학계열",
          "어문계열",
          "상경계열",
          "STEM계열",
          "자연과학계열",
          "기타공학계열",
          "디자인계열",
          "상경계열",
          "STEM계열",
          "STEM계열",
          "인문계열",
          "기타공학계열",
          "자연과학계열",
          "기타",
          "기타",
          "디자인계열",
          "기타",
          "인문계열",
          "사회과학계열",
          "사회과학계열",
          "기타",
          "자연과학계열",
          "자연과학계열",
          "자연과학계열",
          "STEM계열",
          "어문계열",
          "인문계열",
          "자연과학계열",
          "기타",
          "사회과학계열",
          "STEM계열",
          "STEM계열",
          "디자인계열",
          "어문계열",
          "인문계열",
          "STEM계열",
          "인문계열",
          "상경계열",
          "STEM계열",
          "기타공학계열",
          "기타",
          "인문계열",
          "기타공학계열",
          "기타공학계열",
          "사회과학계열",
          "디자인계열",
          "디자인계열",
          "디자인계열",
          "인문계열",
          "STEM계열",
          "디자인계열",
          "자연과학계열",
          "디자인계열",
          "자연과학계열",
          "STEM계열",
          "기타",
          "어문계열",
          "어문계열",
          "사회과학계열",
          "사회과학계열",
          "STEM계열",
          "자연과학계열",
          "인문계열",
          "어문계열",
          "STEM계열",
          "기타공학계열",
          "디자인계열",
          "디자인계열",
          "인문계열",
          "STEM계열",
          "기타공학계열",
          "사회과학계열",
          "상경계열",
          "상경계열",
          "기타",
          "기타",
          "자연과학계열",
          "기타",
          "기타공학계열",
          "기타",
          "STEM계열",
          "사회과학계열",
          "상경계열",
          "기타공학계열",
          "인문계열",
          "인문계열",
          "어문계열",
          "기타공학계열",
          "어문계열",
          "사회과학계열",
          "상경계열",
          "상경계열",
          "기타",
          "사회과학계열",
          "사회과학계열",
          "상경계열",
          "기타",
          "자연과학계열",
          "기타공학계열",
          "인문계열",
          "인문계열",
          "자연과학계열",
          "자연과학계열",
          "어문계열",
          "기타공학계열",
          "기타공학계열",
          "기타",
          "디자인계열",
          "STEM계열",
          "디자인계열",
          "인문계열",
          "인문계열",
          "디자인계열",
          "디자인계열",
          "사회과학계열",
          "기타",
          "자연과학계열",
          "인문계열",
          "어문계열",
          "사회과학계열",
          "디자인계열",
          "기타",
          "자연과학계열",
          "디자인계열",
          "상경계열",
          "기타공학계열",
          "인문계열",
          "디자인계열",
          "기타",
          "기타",
          "상경계열",
          "기타공학계열",
          "STEM계열",
          "기타",
          "디자인계열",
          "사회과학계열",
          "인문계열",
          "기타",
          "인문계열",
          "상경계열",
          "디자인계열",
          "사회과학계열",
          "디자인계열",
          "디자인계열",
          "디자인계열",
          "인문계열",
          "기타",
          "디자인계열",
          "사회과학계열",
          "어문계열",
          "자연과학계열",
          "자연과학계열",
          "자연과학계열",
          "인문계열",
          "디자인계열",
          "기타",
          "인문계열",
          "사회과학계열",
          "디자인계열",
          "디자인계열",
          "STEM계열",
          "STEM계열",
          "STEM계열",
          "디자인계열",
          "인문계열",
          "디자인계열",
          "기타",
          "상경계열",
          "사회과학계열",
          "인문계열",
          "STEM계열",
          "어문계열",
          "기타",
          "사회과학계열",
          "디자인계열",
          "자연과학계열",
          "기타",
          "인문계열",
          "상경계열",
          "사회과학계열",
          "자연과학계열",
          "기타공학계열",
          "자연과학계열",
          "기타",
          "인문계열",
          "어문계열",
          "기타",
          "상경계열",
          "디자인계열",
          "디자인계열",
          "인문계열",
          "디자인계열",
          "인문계열",
          "사회과학계열",
          "디자인계열",
          "상경계열",
          "기타",
          "디자인계열",
          "자연과학계열",
          "상경계열",
          "디자인계열",
          "디자인계열",
          "상경계열",
          "사회과학계열",
          "디자인계열",
          "디자인계열",
          "어문계열",
          "기타",
          "디자인계열",
          "어문계열",
          "기타",
          "인문계열",
          "인문계열",
          "디자인계열",
          "인문계열",
          "디자인계열",
          "기타공학계열",
          "자연과학계열",
          "자연과학계열",
          "자연과학계열",
          "자연과학계열",
          "인문계열",
          "STEM계열"
         ],
         "y": {
          "bdata": "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",
          "dtype": "i4"
         }
        },
        {
         "name": "주니어 (3~7년)",
         "type": "box",
         "visible": false,
         "x": [
          "기타공학계열",
          "어문계열",
          "사회과학계열",
          "어문계열",
          "자연과학계열",
          "상경계열",
          "STEM계열",
          "인문계열",
          "기타",
          "기타",
          "디자인계열",
          "상경계열",
          "상경계열",
          "STEM계열",
          "기타",
          "기타",
          "사회과학계열",
          "어문계열",
          "기타",
          "디자인계열",
          "디자인계열",
          "자연과학계열",
          "자연과학계열",
          "기타공학계열",
          "자연과학계열",
          "자연과학계열",
          "기타공학계열",
          "상경계열",
          "STEM계열",
          "사회과학계열",
          "사회과학계열",
          "자연과학계열",
          "사회과학계열",
          "사회과학계열",
          "기타공학계열",
          "어문계열",
          "기타",
          "기타공학계열",
          "사회과학계열",
          "STEM계열",
          "기타공학계열",
          "디자인계열",
          "기타공학계열",
          "어문계열",
          "기타",
          "디자인계열",
          "기타공학계열",
          "상경계열",
          "기타공학계열",
          "기타",
          "인문계열",
          "기타공학계열",
          "어문계열",
          "기타",
          "인문계열",
          "자연과학계열",
          "디자인계열",
          "인문계열",
          "어문계열",
          "자연과학계열",
          "어문계열",
          "자연과학계열",
          "사회과학계열",
          "자연과학계열",
          "인문계열",
          "기타",
          "사회과학계열",
          "인문계열",
          "인문계열",
          "인문계열",
          "어문계열",
          "어문계열",
          "어문계열",
          "기타",
          "사회과학계열",
          "STEM계열",
          "디자인계열",
          "인문계열",
          "사회과학계열",
          "기타공학계열",
          "상경계열",
          "기타",
          "기타",
          "어문계열",
          "STEM계열",
          "기타",
          "자연과학계열",
          "STEM계열",
          "디자인계열",
          "인문계열",
          "인문계열",
          "기타공학계열",
          "디자인계열",
          "기타",
          "인문계열",
          "STEM계열",
          "기타공학계열",
          "사회과학계열",
          "상경계열",
          "자연과학계열",
          "기타",
          "기타공학계열",
          "인문계열",
          "인문계열",
          "기타",
          "인문계열",
          "상경계열",
          "사회과학계열",
          "STEM계열",
          "기타공학계열",
          "어문계열",
          "기타",
          "어문계열",
          "사회과학계열",
          "STEM계열",
          "자연과학계열",
          "기타공학계열",
          "기타공학계열",
          "기타",
          "사회과학계열",
          "사회과학계열",
          "STEM계열",
          "자연과학계열",
          "어문계열",
          "기타",
          "인문계열",
          "상경계열",
          "STEM계열",
          "STEM계열",
          "자연과학계열",
          "인문계열",
          "상경계열",
          "어문계열",
          "STEM계열",
          "기타",
          "기타공학계열",
          "기타공학계열",
          "상경계열",
          "STEM계열",
          "어문계열",
          "사회과학계열",
          "상경계열",
          "어문계열",
          "어문계열",
          "기타",
          "STEM계열",
          "기타",
          "STEM계열",
          "어문계열"
         ],
         "y": {
          "bdata": "QFZNA+AIHgNglnkD4HtzA8DjqANgAJIDIA3kAiC1RQOAUdYCwOOoA+A9KgMgo8sCgMQrAyAfXgNgjTwDoDAnA0CCHAOAu+4CYCMkA4BsjQPgGpgDwP39AuDcTgMAJrgDQETTAiAWIQMgtUUDYHvCAkCCHANgwkgDoDlkAwD5hgLgEVsDwP39AmDUwgMAzbcCgMQrA4Dw+gKggOoDwAY7A6CRAgNg7hcDQMBlA4B9pQJApa4CIELwAqAEWANghP8CYIT/AqDy3QKgd60DwJPlAoAlBwOAHMoCIDmzAmCeVAJgPXkCIBYhAwBShwNgjTwDgCUHA2DLhQMAh5MDQCFBA6BTuQKgXPYCAM23AqA5ZAOAWhMDAEANA8CT5QIg0PwDYBGqAsCcIgNAtygDYBrnAgBJSgOg8t0CAHUZA6BucAMAQA0DQItZA0CUlgNgsM4CoFz2AsDRLgNgWDADANb0AqAwJwMgkVECoFO5AoAuRAMgm/AD4PcFBADfMQOAoZkDwBi1A8B5kANgjTwDICibAyCsCAPAMgoD4NMRAyCSswOAu+4C4Gn5AgB+VgNghP8C4IyLAiC+ggMgObMC4Gn5AiAN5AIAdRkDgMQrA+D2owIgrAgDYCxhA0ClrgJgwkgDACa4A+DcTgPABjsD4PajAiBC8AKgZTMDAKolA0DaugJgsM4CYPdUAwCh6AIg+2kC4OWLAyCsCAMAN9ACAGzcAiBuvwIgZYICwNprAwCzYgNguQsD4HI2A8AyCgOAQL4DgMQrA+BgvAJgy4UDIA3kAgBaYgI=",
          "dtype": "i4"
         }
        },
        {
         "name": "시니어 (7년+)",
         "type": "box",
         "visible": false,
         "x": [
          "인문계열",
          "인문계열",
          "자연과학계열",
          "기타",
          "디자인계열",
          "기타",
          "기타",
          "자연과학계열",
          "상경계열",
          "기타",
          "STEM계열",
          "기타공학계열",
          "어문계열",
          "자연과학계열",
          "어문계열",
          "기타공학계열",
          "기타공학계열",
          "디자인계열",
          "상경계열",
          "인문계열",
          "사회과학계열",
          "기타공학계열",
          "디자인계열",
          "사회과학계열",
          "기타공학계열",
          "상경계열",
          "사회과학계열",
          "사회과학계열",
          "인문계열",
          "어문계열",
          "인문계열",
          "STEM계열",
          "어문계열",
          "STEM계열",
          "인문계열",
          "기타",
          "어문계열",
          "사회과학계열",
          "어문계열"
         ],
         "y": {
          "bdata": "gDeBA4BAvgOAJQcDAH5WA4AdLAQgH14DwILNA4AdLASAHSwEgEn7AwCqJQMgH14DYMJIA8CLCgRAphAE4EZnA2DCSAOAHSwEgB0sBABbxAOAHSwEoARYAyCJdgPgEVsDYIT/AoAdLARg91QDgB0sBAAv9QOAHSwEgB0sBADF3AOgd60DoDlkA2BhbQMg844DQNscBIBsjQOgS94D",
          "dtype": "i4"
         }
        }
       ],
       "layout": {
        "annotations": [
         {
          "align": "left",
          "showarrow": false,
          "text": "비교 기준:",
          "x": 0,
          "y": 1.08,
          "yref": "paper"
         }
        ],
        "boxmode": "group",
        "font": {
         "size": 14
        },
        "height": 700,
        "legend": {
         "title": {
          "text": "과거 경력"
         }
        },
        "template": {
         "data": {
          "bar": [
           {
            "error_x": {
             "color": "#2a3f5f"
            },
            "error_y": {
             "color": "#2a3f5f"
            },
            "marker": {
             "line": {
              "color": "#E5ECF6",
              "width": 0.5
             },
             "pattern": {
              "fillmode": "overlay",
              "size": 10,
              "solidity": 0.2
             }
            },
            "type": "bar"
           }
          ],
          "barpolar": [
           {
            "marker": {
             "line": {
              "color": "#E5ECF6",
              "width": 0.5
             },
             "pattern": {
              "fillmode": "overlay",
              "size": 10,
              "solidity": 0.2
             }
            },
            "type": "barpolar"
           }
          ],
          "carpet": [
           {
            "aaxis": {
             "endlinecolor": "#2a3f5f",
             "gridcolor": "white",
             "linecolor": "white",
             "minorgridcolor": "white",
             "startlinecolor": "#2a3f5f"
            },
            "baxis": {
             "endlinecolor": "#2a3f5f",
             "gridcolor": "white",
             "linecolor": "white",
             "minorgridcolor": "white",
             "startlinecolor": "#2a3f5f"
            },
            "type": "carpet"
           }
          ],
          "choropleth": [
           {
            "colorbar": {
             "outlinewidth": 0,
             "ticks": ""
            },
            "type": "choropleth"
           }
          ],
          "contour": [
           {
            "colorbar": {
             "outlinewidth": 0,
             "ticks": ""
            },
            "colorscale": [
             [
              0,
              "#0d0887"
             ],
             [
              0.1111111111111111,
              "#46039f"
             ],
             [
              0.2222222222222222,
              "#7201a8"
             ],
             [
              0.3333333333333333,
              "#9c179e"
             ],
             [
              0.4444444444444444,
              "#bd3786"
             ],
             [
              0.5555555555555556,
              "#d8576b"
             ],
             [
              0.6666666666666666,
              "#ed7953"
             ],
             [
              0.7777777777777778,
              "#fb9f3a"
             ],
             [
              0.8888888888888888,
              "#fdca26"
             ],
             [
              1,
              "#f0f921"
             ]
            ],
            "type": "contour"
           }
          ],
          "contourcarpet": [
           {
            "colorbar": {
             "outlinewidth": 0,
             "ticks": ""
            },
            "type": "contourcarpet"
           }
          ],
          "heatmap": [
           {
            "colorbar": {
             "outlinewidth": 0,
             "ticks": ""
            },
            "colorscale": [
             [
              0,
              "#0d0887"
             ],
             [
              0.1111111111111111,
              "#46039f"
             ],
             [
              0.2222222222222222,
              "#7201a8"
             ],
             [
              0.3333333333333333,
              "#9c179e"
             ],
             [
              0.4444444444444444,
              "#bd3786"
             ],
             [
              0.5555555555555556,
              "#d8576b"
             ],
             [
              0.6666666666666666,
              "#ed7953"
             ],
             [
              0.7777777777777778,
              "#fb9f3a"
             ],
             [
              0.8888888888888888,
              "#fdca26"
             ],
             [
              1,
              "#f0f921"
             ]
            ],
            "type": "heatmap"
           }
          ],
          "histogram": [
           {
            "marker": {
             "pattern": {
              "fillmode": "overlay",
              "size": 10,
              "solidity": 0.2
             }
            },
            "type": "histogram"
           }
          ],
          "histogram2d": [
           {
            "colorbar": {
             "outlinewidth": 0,
             "ticks": ""
            },
            "colorscale": [
             [
              0,
              "#0d0887"
             ],
             [
              0.1111111111111111,
              "#46039f"
             ],
             [
              0.2222222222222222,
              "#7201a8"
             ],
             [
              0.3333333333333333,
              "#9c179e"
             ],
             [
              0.4444444444444444,
              "#bd3786"
             ],
             [
              0.5555555555555556,
              "#d8576b"
             ],
             [
              0.6666666666666666,
              "#ed7953"
             ],
             [
              0.7777777777777778,
              "#fb9f3a"
             ],
             [
              0.8888888888888888,
              "#fdca26"
             ],
             [
              1,
              "#f0f921"
             ]
            ],
            "type": "histogram2d"
           }
          ],
          "histogram2dcontour": [
           {
            "colorbar": {
             "outlinewidth": 0,
             "ticks": ""
            },
            "colorscale": [
             [
              0,
              "#0d0887"
             ],
             [
              0.1111111111111111,
              "#46039f"
             ],
             [
              0.2222222222222222,
              "#7201a8"
             ],
             [
              0.3333333333333333,
              "#9c179e"
             ],
             [
              0.4444444444444444,
              "#bd3786"
             ],
             [
              0.5555555555555556,
              "#d8576b"
             ],
             [
              0.6666666666666666,
              "#ed7953"
             ],
             [
              0.7777777777777778,
              "#fb9f3a"
             ],
             [
              0.8888888888888888,
              "#fdca26"
             ],
             [
              1,
              "#f0f921"
             ]
            ],
            "type": "histogram2dcontour"
           }
          ],
          "mesh3d": [
           {
            "colorbar": {
             "outlinewidth": 0,
             "ticks": ""
            },
            "type": "mesh3d"
           }
          ],
          "parcoords": [
           {
            "line": {
             "colorbar": {
              "outlinewidth": 0,
              "ticks": ""
             }
            },
            "type": "parcoords"
           }
          ],
          "pie": [
           {
            "automargin": true,
            "type": "pie"
           }
          ],
          "scatter": [
           {
            "fillpattern": {
             "fillmode": "overlay",
             "size": 10,
             "solidity": 0.2
            },
            "type": "scatter"
           }
          ],
          "scatter3d": [
           {
            "line": {
             "colorbar": {
              "outlinewidth": 0,
              "ticks": ""
             }
            },
            "marker": {
             "colorbar": {
              "outlinewidth": 0,
              "ticks": ""
             }
            },
            "type": "scatter3d"
           }
          ],
          "scattercarpet": [
           {
            "marker": {
             "colorbar": {
              "outlinewidth": 0,
              "ticks": ""
             }
            },
            "type": "scattercarpet"
           }
          ],
          "scattergeo": [
           {
            "marker": {
             "colorbar": {
              "outlinewidth": 0,
              "ticks": ""
             }
            },
            "type": "scattergeo"
           }
          ],
          "scattergl": [
           {
            "marker": {
             "colorbar": {
              "outlinewidth": 0,
              "ticks": ""
             }
            },
            "type": "scattergl"
           }
          ],
          "scattermap": [
           {
            "marker": {
             "colorbar": {
              "outlinewidth": 0,
              "ticks": ""
             }
            },
            "type": "scattermap"
           }
          ],
          "scattermapbox": [
           {
            "marker": {
             "colorbar": {
              "outlinewidth": 0,
              "ticks": ""
             }
            },
            "type": "scattermapbox"
           }
          ],
          "scatterpolar": [
           {
            "marker": {
             "colorbar": {
              "outlinewidth": 0,
              "ticks": ""
             }
            },
            "type": "scatterpolar"
           }
          ],
          "scatterpolargl": [
           {
            "marker": {
             "colorbar": {
              "outlinewidth": 0,
              "ticks": ""
             }
            },
            "type": "scatterpolargl"
           }
          ],
          "scatterternary": [
           {
            "marker": {
             "colorbar": {
              "outlinewidth": 0,
              "ticks": ""
             }
            },
            "type": "scatterternary"
           }
          ],
          "surface": [
           {
            "colorbar": {
             "outlinewidth": 0,
             "ticks": ""
            },
            "colorscale": [
             [
              0,
              "#0d0887"
             ],
             [
              0.1111111111111111,
              "#46039f"
             ],
             [
              0.2222222222222222,
              "#7201a8"
             ],
             [
              0.3333333333333333,
              "#9c179e"
             ],
             [
              0.4444444444444444,
              "#bd3786"
             ],
             [
              0.5555555555555556,
              "#d8576b"
             ],
             [
              0.6666666666666666,
              "#ed7953"
             ],
             [
              0.7777777777777778,
              "#fb9f3a"
             ],
             [
              0.8888888888888888,
              "#fdca26"
             ],
             [
              1,
              "#f0f921"
             ]
            ],
            "type": "surface"
           }
          ],
          "table": [
           {
            "cells": {
             "fill": {
              "color": "#EBF0F8"
             },
             "line": {
              "color": "white"
             }
            },
            "header": {
             "fill": {
              "color": "#C8D4E3"
             },
             "line": {
              "color": "white"
             }
            },
            "type": "table"
           }
          ]
         },
         "layout": {
          "annotationdefaults": {
           "arrowcolor": "#2a3f5f",
           "arrowhead": 0,
           "arrowwidth": 1
          },
          "autotypenumbers": "strict",
          "coloraxis": {
           "colorbar": {
            "outlinewidth": 0,
            "ticks": ""
           }
          },
          "colorscale": {
           "diverging": [
            [
             0,
             "#8e0152"
            ],
            [
             0.1,
             "#c51b7d"
            ],
            [
             0.2,
             "#de77ae"
            ],
            [
             0.3,
             "#f1b6da"
            ],
            [
             0.4,
             "#fde0ef"
            ],
            [
             0.5,
             "#f7f7f7"
            ],
            [
             0.6,
             "#e6f5d0"
            ],
            [
             0.7,
             "#b8e186"
            ],
            [
             0.8,
             "#7fbc41"
            ],
            [
             0.9,
             "#4d9221"
            ],
            [
             1,
             "#276419"
            ]
           ],
           "sequential": [
            [
             0,
             "#0d0887"
            ],
            [
             0.1111111111111111,
             "#46039f"
            ],
            [
             0.2222222222222222,
             "#7201a8"
            ],
            [
             0.3333333333333333,
             "#9c179e"
            ],
            [
             0.4444444444444444,
             "#bd3786"
            ],
            [
             0.5555555555555556,
             "#d8576b"
            ],
            [
             0.6666666666666666,
             "#ed7953"
            ],
            [
             0.7777777777777778,
             "#fb9f3a"
            ],
            [
             0.8888888888888888,
             "#fdca26"
            ],
            [
             1,
             "#f0f921"
            ]
           ],
           "sequentialminus": [
            [
             0,
             "#0d0887"
            ],
            [
             0.1111111111111111,
             "#46039f"
            ],
            [
             0.2222222222222222,
             "#7201a8"
            ],
            [
             0.3333333333333333,
             "#9c179e"
            ],
            [
             0.4444444444444444,
             "#bd3786"
            ],
            [
             0.5555555555555556,
             "#d8576b"
            ],
            [
             0.6666666666666666,
             "#ed7953"
            ],
            [
             0.7777777777777778,
             "#fb9f3a"
            ],
            [
             0.8888888888888888,
             "#fdca26"
            ],
            [
             1,
             "#f0f921"
            ]
           ]
          },
          "colorway": [
           "#636efa",
           "#EF553B",
           "#00cc96",
           "#ab63fa",
           "#FFA15A",
           "#19d3f3",
           "#FF6692",
           "#B6E880",
           "#FF97FF",
           "#FECB52"
          ],
          "font": {
           "color": "#2a3f5f"
          },
          "geo": {
           "bgcolor": "white",
           "lakecolor": "white",
           "landcolor": "#E5ECF6",
           "showlakes": true,
           "showland": true,
           "subunitcolor": "white"
          },
          "hoverlabel": {
           "align": "left"
          },
          "hovermode": "closest",
          "mapbox": {
           "style": "light"
          },
          "paper_bgcolor": "white",
          "plot_bgcolor": "#E5ECF6",
          "polar": {
           "angularaxis": {
            "gridcolor": "white",
            "linecolor": "white",
            "ticks": ""
           },
           "bgcolor": "#E5ECF6",
           "radialaxis": {
            "gridcolor": "white",
            "linecolor": "white",
            "ticks": ""
           }
          },
          "scene": {
           "xaxis": {
            "backgroundcolor": "#E5ECF6",
            "gridcolor": "white",
            "gridwidth": 2,
            "linecolor": "white",
            "showbackground": true,
            "ticks": "",
            "zerolinecolor": "white"
           },
           "yaxis": {
            "backgroundcolor": "#E5ECF6",
            "gridcolor": "white",
            "gridwidth": 2,
            "linecolor": "white",
            "showbackground": true,
            "ticks": "",
            "zerolinecolor": "white"
           },
           "zaxis": {
            "backgroundcolor": "#E5ECF6",
            "gridcolor": "white",
            "gridwidth": 2,
            "linecolor": "white",
            "showbackground": true,
            "ticks": "",
            "zerolinecolor": "white"
           }
          },
          "shapedefaults": {
           "line": {
            "color": "#2a3f5f"
           }
          },
          "ternary": {
           "aaxis": {
            "gridcolor": "white",
            "linecolor": "white",
            "ticks": ""
           },
           "baxis": {
            "gridcolor": "white",
            "linecolor": "white",
            "ticks": ""
           },
           "bgcolor": "#E5ECF6",
           "caxis": {
            "gridcolor": "white",
            "linecolor": "white",
            "ticks": ""
           }
          },
          "title": {
           "x": 0.05
          },
          "xaxis": {
           "automargin": true,
           "gridcolor": "white",
           "linecolor": "white",
           "ticks": "",
           "title": {
            "standoff": 15
           },
           "zerolinecolor": "white",
           "zerolinewidth": 2
          },
          "yaxis": {
           "automargin": true,
           "gridcolor": "white",
           "linecolor": "white",
           "ticks": "",
           "title": {
            "standoff": 15
           },
           "zerolinecolor": "white",
           "zerolinewidth": 2
          }
         }
        },
        "title": {
         "text": "학력/경력과 초봉 관계 분석"
        },
        "updatemenus": [
         {
          "active": 0,
          "buttons": [
           {
            "args": [
             {
              "visible": [
               true,
               true,
               true,
               false,
               false,
               false
              ]
             },
             {
              "xaxis": {
               "categoryarray": [
                "1",
                "2",
                "3",
                "4"
               ],
               "categoryorder": "array",
               "title": "학교 레벨"
              }
             }
            ],
            "label": "학교 레벨별",
            "method": "update"
           },
           {
            "args": [
             {
              "visible": [
               false,
               false,
               false,
               true,
               true,
               true
              ]
             },
             {
              "xaxis": {
               "categoryarray": [
                "상경계열",
                "사회과학계열",
                "인문계열",
                "어문계열",
                "STEM계열",
                "기타공학계열",
                "자연과학계열",
                "디자인계열",
                "기타"
               ],
               "categoryorder": "array",
               "title": "전공 계열"
              }
             }
            ],
            "label": "전공 계열별",
            "method": "update"
           }
          ],
          "direction": "down",
          "pad": {
           "r": 10,
           "t": 10
          },
          "showactive": true,
          "x": 0.01,
          "xanchor": "left",
          "y": 1.1,
          "yanchor": "top"
         }
        ],
        "xaxis": {
         "title": {
          "text": "학교 레벨"
         }
        },
        "yaxis": {
         "tickformat": ",.0f",
         "title": {
          "text": "초봉 (연봉)"
         }
        }
       }
      }
     },
     "metadata": {},
     "output_type": "display_data"
    }
   ],
   "source": [
    "import pandas as pd\n",
    "import numpy as np\n",
    "import plotly.graph_objects as go\n",
    "import plotly.io as pio\n",
    "\n",
    "# --- 1. 데이터 임포트 ---\n",
    "from services.tables.HR_Core.salary_contract_info_table import salary_contract_info_df\n",
    "from services.tables.HR_Core.school_info_table import school_info_df\n",
    "from services.tables.HR_Core.school_table import school_df\n",
    "from services.tables.HR_Core.career_info_table import career_info_df\n",
    "\n",
    "def create_figure():\n",
    "    \"\"\"\n",
    "    제안 10: 학력/경력과 초봉의 관계 분석 그래프를 생성합니다.\n",
    "    \"\"\"\n",
    "    # --- 2. 데이터 준비 및 가공 ---\n",
    "    initial_contracts = salary_contract_info_df[salary_contract_info_df['PAY_CATEGORY'] == '연봉'].sort_values('SAL_START_DATE').groupby('EMP_ID').first().reset_index()\n",
    "    initial_contracts = initial_contracts[['EMP_ID', 'SAL_AMOUNT']].rename(columns={'SAL_AMOUNT': 'INITIAL_SALARY'})\n",
    "    \n",
    "    school_history = school_info_df.copy()\n",
    "    school_history = pd.merge(school_history, school_df, on='SCHOOL_ID', how='left')\n",
    "    final_education = school_history.sort_values('GRAD_YEAR').groupby('EMP_ID').last().reset_index()\n",
    "    final_education = final_education[['EMP_ID', 'SCHOOL_LEVEL', 'MAJOR_CATEGORY']]\n",
    "    \n",
    "    prior_career = career_info_df.copy()\n",
    "    prior_career_summary = prior_career.groupby('EMP_ID')['CAREER_DURATION'].sum().reset_index()\n",
    "    prior_career_summary['TOTAL_PRIOR_CAREER_YEARS'] = prior_career_summary['CAREER_DURATION'] / 365.25\n",
    "    \n",
    "    analysis_df = pd.merge(initial_contracts, final_education, on='EMP_ID', how='inner')\n",
    "    analysis_df = pd.merge(analysis_df, prior_career_summary[['EMP_ID', 'TOTAL_PRIOR_CAREER_YEARS']], on='EMP_ID', how='left')\n",
    "    analysis_df['TOTAL_PRIOR_CAREER_YEARS'] = analysis_df['TOTAL_PRIOR_CAREER_YEARS'].fillna(0)\n",
    "    analysis_df = analysis_df.dropna(subset=['INITIAL_SALARY', 'SCHOOL_LEVEL', 'MAJOR_CATEGORY'])\n",
    "    \n",
    "    bins = [-1, 3, 7, 100]\n",
    "    labels = ['신입 (0~3년)', '주니어 (3~7년)', '시니어 (7년+)']\n",
    "    analysis_df['CAREER_BIN'] = pd.cut(analysis_df['TOTAL_PRIOR_CAREER_YEARS'], bins=bins, labels=labels, right=True)\n",
    "\n",
    "    # x축 순서 정의\n",
    "    school_level_order = sorted(pd.to_numeric(analysis_df['SCHOOL_LEVEL'].unique()))\n",
    "    major_order = [\n",
    "        \"상경계열\", \"사회과학계열\", \"인문계열\", \"어문계열\", \"STEM계열\",\n",
    "        \"기타공학계열\", \"자연과학계열\", \"디자인계열\", \"기타\"\n",
    "    ]\n",
    "    analysis_df['SCHOOL_LEVEL'] = pd.Categorical(analysis_df['SCHOOL_LEVEL'], categories=school_level_order, ordered=True)\n",
    "    analysis_df['MAJOR_CATEGORY'] = pd.Categorical(analysis_df['MAJOR_CATEGORY'], categories=major_order, ordered=True)\n",
    "\n",
    "    # --- 3. Plotly 인터랙티브 그래프 생성 ---\n",
    "    fig = go.Figure()\n",
    "    career_bins_sorted = ['신입 (0~3년)', '주니어 (3~7년)', '시니어 (7년+)']\n",
    "\n",
    "    # '학교 레벨별' 트레이스\n",
    "    for career_bin in career_bins_sorted:\n",
    "        df_filtered = analysis_df[analysis_df['CAREER_BIN'] == career_bin]\n",
    "        fig.add_trace(go.Box(x=df_filtered['SCHOOL_LEVEL'], y=df_filtered['INITIAL_SALARY'], name=career_bin, visible=True))\n",
    "    # '전공 계열별' 트레이스\n",
    "    for career_bin in career_bins_sorted:\n",
    "        df_filtered = analysis_df[analysis_df['CAREER_BIN'] == career_bin]\n",
    "        fig.add_trace(go.Box(x=df_filtered['MAJOR_CATEGORY'], y=df_filtered['INITIAL_SALARY'], name=career_bin, visible=False))\n",
    "\n",
    "    # --- 4. 드롭다운 메뉴 생성 및 레이아웃 업데이트 ---\n",
    "    num_career_bins = len(career_bins_sorted)\n",
    "    buttons = [\n",
    "        dict(label='학교 레벨별',\n",
    "             method='update',\n",
    "             args=[\n",
    "                 {'visible': [True]*num_career_bins + [False]*num_career_bins},\n",
    "                 {'xaxis': {'title': '학교 레벨', 'categoryorder': 'array', 'categoryarray': [str(s) for s in school_level_order]}}\n",
    "             ]),\n",
    "        dict(label='전공 계열별',\n",
    "             method='update',\n",
    "             args=[\n",
    "                 {'visible': [False]*num_career_bins + [True]*num_career_bins},\n",
    "                 {'xaxis': {'title': '전공 계열', 'categoryorder': 'array', 'categoryarray': major_order}}\n",
    "             ])\n",
    "    ]\n",
    "\n",
    "    fig.update_layout(\n",
    "        updatemenus=[dict(\n",
    "            active=0, buttons=buttons, direction=\"down\",\n",
    "            pad={\"r\": 10, \"t\": 10}, showactive=True,\n",
    "            x=0.01, xanchor=\"left\", y=1.1, yanchor=\"top\"\n",
    "        )],\n",
    "        title_text='학력/경력과 초봉 관계 분석',\n",
    "        xaxis_title='학교 레벨',\n",
    "        yaxis_title='초봉 (연봉)',\n",
    "        font_size=14, height=700,\n",
    "        boxmode='group',\n",
    "        legend_title_text='과거 경력',\n",
    "        yaxis_tickformat=',.0f',\n",
    "        annotations=[dict(text=\"비교 기준:\", showarrow=False, x=0, y=1.08, yref=\"paper\", align=\"left\")]\n",
    "    )\n",
    "    \n",
    "    return fig\n",
    "\n",
    "\n",
    "\n",
    "pio.renderers.default = 'vscode'\n",
    "fig = create_figure()\n",
    "fig.show()"
   ]
  },
  {
   "cell_type": "code",
   "execution_count": null,
   "id": "3090b6a0",
   "metadata": {},
   "outputs": [],
   "source": []
  }
 ],
 "metadata": {
  "kernelspec": {
   "display_name": "Python 3 (ipykernel)",
   "language": "python",
   "name": "python3"
  }
 },
 "nbformat": 4,
 "nbformat_minor": 5
}
