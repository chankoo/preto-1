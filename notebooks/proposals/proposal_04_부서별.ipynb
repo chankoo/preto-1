{
 "cells": [
  {
   "cell_type": "code",
   "execution_count": 2,
   "id": "cdf9e099",
   "metadata": {},
   "outputs": [
    {
     "data": {
      "application/vnd.plotly.v1+json": {
       "config": {
        "plotlyServerURL": "https://plot.ly"
       },
       "data": [
        {
         "marker": {
          "color": "#636EFA"
         },
         "name": "Planning Division",
         "type": "bar",
         "x": {
          "bdata": "AAECAwQFBgcICQoLDA0O",
          "dtype": "i1"
         },
         "y": {
          "bdata": "CRIKCAwJCA4HBQIFBAEF",
          "dtype": "i1"
         }
        },
        {
         "marker": {
          "color": "#EF553B"
         },
         "name": "Sales Division",
         "type": "bar",
         "x": {
          "bdata": "AAECAwQFBgcICQoLDA0O",
          "dtype": "i1"
         },
         "y": {
          "bdata": "DQwRDA0OCwwGCAUBAwIE",
          "dtype": "i1"
         }
        },
        {
         "marker": {
          "color": "#00CC96"
         },
         "name": "Development Division",
         "type": "bar",
         "x": {
          "bdata": "AAECAwQFBgcICQoLDA0O",
          "dtype": "i1"
         },
         "y": {
          "bdata": "Cw0MCw8HDAgEBgcCBAEC",
          "dtype": "i1"
         }
        },
        {
         "marker": {
          "color": "#AB63FA"
         },
         "name": "Operating Division",
         "type": "bar",
         "x": {
          "bdata": "AAECAwQFBgcICQoLDA0O",
          "dtype": "i1"
         },
         "y": {
          "bdata": "ChgNCQgLCAUDBwUCBAQC",
          "dtype": "i1"
         }
        },
        {
         "marker": {
          "color": "#636EFA"
         },
         "name": "Strategy Office",
         "showlegend": false,
         "type": "bar",
         "visible": false,
         "x": {
          "bdata": "AAECAwQFBgcICQoLDA0O",
          "dtype": "i1"
         },
         "y": {
          "bdata": "BQsGBwcFBgoFBAEEAgEC",
          "dtype": "i1"
         }
        },
        {
         "marker": {
          "color": "#EF553B"
         },
         "name": "Finance Office",
         "showlegend": false,
         "type": "bar",
         "visible": false,
         "x": {
          "bdata": "AAECAwQFBgcICQoLDA0O",
          "dtype": "i1"
         },
         "y": {
          "bdata": "BAcEAQUEAgQCAQEBAgAD",
          "dtype": "i1"
         }
        },
        {
         "marker": {
          "color": "#00CC96"
         },
         "name": "Marketing Office",
         "showlegend": false,
         "type": "bar",
         "visible": false,
         "x": {
          "bdata": "AAECAwQFBgcICQoLDA0O",
          "dtype": "i1"
         },
         "y": {
          "bdata": "AAAAAAAAAAAAAAAAAAAA",
          "dtype": "i1"
         }
        },
        {
         "marker": {
          "color": "#AB63FA"
         },
         "name": "Domestic Sales Office",
         "showlegend": false,
         "type": "bar",
         "visible": false,
         "x": {
          "bdata": "AAECAwQFBgcICQoLDA0O",
          "dtype": "i1"
         },
         "y": {
          "bdata": "AAAAAAAAAAAAAAAAAAAA",
          "dtype": "i1"
         }
        },
        {
         "marker": {
          "color": "#FFA15A"
         },
         "name": "Global Sales Office",
         "showlegend": false,
         "type": "bar",
         "visible": false,
         "x": {
          "bdata": "AAECAwQFBgcICQoLDA0O",
          "dtype": "i1"
         },
         "y": {
          "bdata": "AAAAAAAAAAAAAAAAAAAA",
          "dtype": "i1"
         }
        },
        {
         "marker": {
          "color": "#19D3F3"
         },
         "name": "R&D Office",
         "showlegend": false,
         "type": "bar",
         "visible": false,
         "x": {
          "bdata": "AAECAwQFBgcICQoLDA0O",
          "dtype": "i1"
         },
         "y": {
          "bdata": "AAAAAAAAAAAAAAAAAAAA",
          "dtype": "i1"
         }
        },
        {
         "marker": {
          "color": "#FF6692"
         },
         "name": "QA Office",
         "showlegend": false,
         "type": "bar",
         "visible": false,
         "x": {
          "bdata": "AAECAwQFBgcICQoLDA0O",
          "dtype": "i1"
         },
         "y": {
          "bdata": "AAAAAAAAAAAAAAAAAAAA",
          "dtype": "i1"
         }
        },
        {
         "marker": {
          "color": "#B6E880"
         },
         "name": "Engineering Office",
         "showlegend": false,
         "type": "bar",
         "visible": false,
         "x": {
          "bdata": "AAECAwQFBgcICQoLDA0O",
          "dtype": "i1"
         },
         "y": {
          "bdata": "AAAAAAAAAAAAAAAAAAAA",
          "dtype": "i1"
         }
        },
        {
         "marker": {
          "color": "#FF97FF"
         },
         "name": "Production Office",
         "showlegend": false,
         "type": "bar",
         "visible": false,
         "x": {
          "bdata": "AAECAwQFBgcICQoLDA0O",
          "dtype": "i1"
         },
         "y": {
          "bdata": "AAAAAAAAAAAAAAAAAAAA",
          "dtype": "i1"
         }
        },
        {
         "marker": {
          "color": "#636EFA"
         },
         "name": "Strategy Office",
         "showlegend": false,
         "type": "bar",
         "visible": false,
         "x": {
          "bdata": "AAECAwQFBgcICQoLDA0O",
          "dtype": "i1"
         },
         "y": {
          "bdata": "AAAAAAAAAAAAAAAAAAAA",
          "dtype": "i1"
         }
        },
        {
         "marker": {
          "color": "#EF553B"
         },
         "name": "Finance Office",
         "showlegend": false,
         "type": "bar",
         "visible": false,
         "x": {
          "bdata": "AAECAwQFBgcICQoLDA0O",
          "dtype": "i1"
         },
         "y": {
          "bdata": "AAAAAAAAAAAAAAAAAAAA",
          "dtype": "i1"
         }
        },
        {
         "marker": {
          "color": "#00CC96"
         },
         "name": "Marketing Office",
         "showlegend": false,
         "type": "bar",
         "visible": false,
         "x": {
          "bdata": "AAECAwQFBgcICQoLDA0O",
          "dtype": "i1"
         },
         "y": {
          "bdata": "BgMFAwMGBgQEAwUAAQAB",
          "dtype": "i1"
         }
        },
        {
         "marker": {
          "color": "#AB63FA"
         },
         "name": "Domestic Sales Office",
         "showlegend": false,
         "type": "bar",
         "visible": false,
         "x": {
          "bdata": "AAECAwQFBgcICQoLDA0O",
          "dtype": "i1"
         },
         "y": {
          "bdata": "BAUFBQQEAQUBBAAAAgAB",
          "dtype": "i1"
         }
        },
        {
         "marker": {
          "color": "#FFA15A"
         },
         "name": "Global Sales Office",
         "showlegend": false,
         "type": "bar",
         "visible": false,
         "x": {
          "bdata": "AAECAwQFBgcICQoLDA0O",
          "dtype": "i1"
         },
         "y": {
          "bdata": "AwQHBAYEBAMBAQABAAIC",
          "dtype": "i1"
         }
        },
        {
         "marker": {
          "color": "#19D3F3"
         },
         "name": "R&D Office",
         "showlegend": false,
         "type": "bar",
         "visible": false,
         "x": {
          "bdata": "AAECAwQFBgcICQoLDA0O",
          "dtype": "i1"
         },
         "y": {
          "bdata": "AAAAAAAAAAAAAAAAAAAA",
          "dtype": "i1"
         }
        },
        {
         "marker": {
          "color": "#FF6692"
         },
         "name": "QA Office",
         "showlegend": false,
         "type": "bar",
         "visible": false,
         "x": {
          "bdata": "AAECAwQFBgcICQoLDA0O",
          "dtype": "i1"
         },
         "y": {
          "bdata": "AAAAAAAAAAAAAAAAAAAA",
          "dtype": "i1"
         }
        },
        {
         "marker": {
          "color": "#B6E880"
         },
         "name": "Engineering Office",
         "showlegend": false,
         "type": "bar",
         "visible": false,
         "x": {
          "bdata": "AAECAwQFBgcICQoLDA0O",
          "dtype": "i1"
         },
         "y": {
          "bdata": "AAAAAAAAAAAAAAAAAAAA",
          "dtype": "i1"
         }
        },
        {
         "marker": {
          "color": "#FF97FF"
         },
         "name": "Production Office",
         "showlegend": false,
         "type": "bar",
         "visible": false,
         "x": {
          "bdata": "AAECAwQFBgcICQoLDA0O",
          "dtype": "i1"
         },
         "y": {
          "bdata": "AAAAAAAAAAAAAAAAAAAA",
          "dtype": "i1"
         }
        },
        {
         "marker": {
          "color": "#636EFA"
         },
         "name": "Strategy Office",
         "showlegend": false,
         "type": "bar",
         "visible": false,
         "x": {
          "bdata": "AAECAwQFBgcICQoLDA0O",
          "dtype": "i1"
         },
         "y": {
          "bdata": "AAAAAAAAAAAAAAAAAAAA",
          "dtype": "i1"
         }
        },
        {
         "marker": {
          "color": "#EF553B"
         },
         "name": "Finance Office",
         "showlegend": false,
         "type": "bar",
         "visible": false,
         "x": {
          "bdata": "AAECAwQFBgcICQoLDA0O",
          "dtype": "i1"
         },
         "y": {
          "bdata": "AAAAAAAAAAAAAAAAAAAA",
          "dtype": "i1"
         }
        },
        {
         "marker": {
          "color": "#00CC96"
         },
         "name": "Marketing Office",
         "showlegend": false,
         "type": "bar",
         "visible": false,
         "x": {
          "bdata": "AAECAwQFBgcICQoLDA0O",
          "dtype": "i1"
         },
         "y": {
          "bdata": "AAAAAAAAAAAAAAAAAAAA",
          "dtype": "i1"
         }
        },
        {
         "marker": {
          "color": "#AB63FA"
         },
         "name": "Domestic Sales Office",
         "showlegend": false,
         "type": "bar",
         "visible": false,
         "x": {
          "bdata": "AAECAwQFBgcICQoLDA0O",
          "dtype": "i1"
         },
         "y": {
          "bdata": "AAAAAAAAAAAAAAAAAAAA",
          "dtype": "i1"
         }
        },
        {
         "marker": {
          "color": "#FFA15A"
         },
         "name": "Global Sales Office",
         "showlegend": false,
         "type": "bar",
         "visible": false,
         "x": {
          "bdata": "AAECAwQFBgcICQoLDA0O",
          "dtype": "i1"
         },
         "y": {
          "bdata": "AAAAAAAAAAAAAAAAAAAA",
          "dtype": "i1"
         }
        },
        {
         "marker": {
          "color": "#19D3F3"
         },
         "name": "R&D Office",
         "showlegend": false,
         "type": "bar",
         "visible": false,
         "x": {
          "bdata": "AAECAwQFBgcICQoLDA0O",
          "dtype": "i1"
         },
         "y": {
          "bdata": "BgQFCAoCCAcDAwMBAgAB",
          "dtype": "i1"
         }
        },
        {
         "marker": {
          "color": "#FF6692"
         },
         "name": "QA Office",
         "showlegend": false,
         "type": "bar",
         "visible": false,
         "x": {
          "bdata": "AAECAwQFBgcICQoLDA0O",
          "dtype": "i1"
         },
         "y": {
          "bdata": "BQkHAwUFBAEBAwQBAgEB",
          "dtype": "i1"
         }
        },
        {
         "marker": {
          "color": "#B6E880"
         },
         "name": "Engineering Office",
         "showlegend": false,
         "type": "bar",
         "visible": false,
         "x": {
          "bdata": "AAECAwQFBgcICQoLDA0O",
          "dtype": "i1"
         },
         "y": {
          "bdata": "AAAAAAAAAAAAAAAAAAAA",
          "dtype": "i1"
         }
        },
        {
         "marker": {
          "color": "#FF97FF"
         },
         "name": "Production Office",
         "showlegend": false,
         "type": "bar",
         "visible": false,
         "x": {
          "bdata": "AAECAwQFBgcICQoLDA0O",
          "dtype": "i1"
         },
         "y": {
          "bdata": "AAAAAAAAAAAAAAAAAAAA",
          "dtype": "i1"
         }
        },
        {
         "marker": {
          "color": "#636EFA"
         },
         "name": "Strategy Office",
         "showlegend": false,
         "type": "bar",
         "visible": false,
         "x": {
          "bdata": "AAECAwQFBgcICQoLDA0O",
          "dtype": "i1"
         },
         "y": {
          "bdata": "AAAAAAAAAAAAAAAAAAAA",
          "dtype": "i1"
         }
        },
        {
         "marker": {
          "color": "#EF553B"
         },
         "name": "Finance Office",
         "showlegend": false,
         "type": "bar",
         "visible": false,
         "x": {
          "bdata": "AAECAwQFBgcICQoLDA0O",
          "dtype": "i1"
         },
         "y": {
          "bdata": "AAAAAAAAAAAAAAAAAAAA",
          "dtype": "i1"
         }
        },
        {
         "marker": {
          "color": "#00CC96"
         },
         "name": "Marketing Office",
         "showlegend": false,
         "type": "bar",
         "visible": false,
         "x": {
          "bdata": "AAECAwQFBgcICQoLDA0O",
          "dtype": "i1"
         },
         "y": {
          "bdata": "AAAAAAAAAAAAAAAAAAAA",
          "dtype": "i1"
         }
        },
        {
         "marker": {
          "color": "#AB63FA"
         },
         "name": "Domestic Sales Office",
         "showlegend": false,
         "type": "bar",
         "visible": false,
         "x": {
          "bdata": "AAECAwQFBgcICQoLDA0O",
          "dtype": "i1"
         },
         "y": {
          "bdata": "AAAAAAAAAAAAAAAAAAAA",
          "dtype": "i1"
         }
        },
        {
         "marker": {
          "color": "#FFA15A"
         },
         "name": "Global Sales Office",
         "showlegend": false,
         "type": "bar",
         "visible": false,
         "x": {
          "bdata": "AAECAwQFBgcICQoLDA0O",
          "dtype": "i1"
         },
         "y": {
          "bdata": "AAAAAAAAAAAAAAAAAAAA",
          "dtype": "i1"
         }
        },
        {
         "marker": {
          "color": "#19D3F3"
         },
         "name": "R&D Office",
         "showlegend": false,
         "type": "bar",
         "visible": false,
         "x": {
          "bdata": "AAECAwQFBgcICQoLDA0O",
          "dtype": "i1"
         },
         "y": {
          "bdata": "AAAAAAAAAAAAAAAAAAAA",
          "dtype": "i1"
         }
        },
        {
         "marker": {
          "color": "#FF6692"
         },
         "name": "QA Office",
         "showlegend": false,
         "type": "bar",
         "visible": false,
         "x": {
          "bdata": "AAECAwQFBgcICQoLDA0O",
          "dtype": "i1"
         },
         "y": {
          "bdata": "AAAAAAAAAAAAAAAAAAAA",
          "dtype": "i1"
         }
        },
        {
         "marker": {
          "color": "#B6E880"
         },
         "name": "Engineering Office",
         "showlegend": false,
         "type": "bar",
         "visible": false,
         "x": {
          "bdata": "AAECAwQFBgcICQoLDA0O",
          "dtype": "i1"
         },
         "y": {
          "bdata": "AgkHAgIFAQMBAwIAAwMA",
          "dtype": "i1"
         }
        },
        {
         "marker": {
          "color": "#FF97FF"
         },
         "name": "Production Office",
         "showlegend": false,
         "type": "bar",
         "visible": false,
         "x": {
          "bdata": "AAECAwQFBgcICQoLDA0O",
          "dtype": "i1"
         },
         "y": {
          "bdata": "CA8GBwYGBwICBAMCAQEC",
          "dtype": "i1"
         }
        }
       ],
       "layout": {
        "annotations": [
         {
          "align": "left",
          "showarrow": false,
          "text": "조직 선택:",
          "x": 0,
          "y": 1.08,
          "yref": "paper"
         }
        ],
        "bargap": 0.2,
        "barmode": "stack",
        "font": {
         "size": 14
        },
        "height": 700,
        "legend": {
         "title": {
          "text": "조직"
         }
        },
        "template": {
         "data": {
          "bar": [
           {
            "error_x": {
             "color": "#2a3f5f"
            },
            "error_y": {
             "color": "#2a3f5f"
            },
            "marker": {
             "line": {
              "color": "#E5ECF6",
              "width": 0.5
             },
             "pattern": {
              "fillmode": "overlay",
              "size": 10,
              "solidity": 0.2
             }
            },
            "type": "bar"
           }
          ],
          "barpolar": [
           {
            "marker": {
             "line": {
              "color": "#E5ECF6",
              "width": 0.5
             },
             "pattern": {
              "fillmode": "overlay",
              "size": 10,
              "solidity": 0.2
             }
            },
            "type": "barpolar"
           }
          ],
          "carpet": [
           {
            "aaxis": {
             "endlinecolor": "#2a3f5f",
             "gridcolor": "white",
             "linecolor": "white",
             "minorgridcolor": "white",
             "startlinecolor": "#2a3f5f"
            },
            "baxis": {
             "endlinecolor": "#2a3f5f",
             "gridcolor": "white",
             "linecolor": "white",
             "minorgridcolor": "white",
             "startlinecolor": "#2a3f5f"
            },
            "type": "carpet"
           }
          ],
          "choropleth": [
           {
            "colorbar": {
             "outlinewidth": 0,
             "ticks": ""
            },
            "type": "choropleth"
           }
          ],
          "contour": [
           {
            "colorbar": {
             "outlinewidth": 0,
             "ticks": ""
            },
            "colorscale": [
             [
              0,
              "#0d0887"
             ],
             [
              0.1111111111111111,
              "#46039f"
             ],
             [
              0.2222222222222222,
              "#7201a8"
             ],
             [
              0.3333333333333333,
              "#9c179e"
             ],
             [
              0.4444444444444444,
              "#bd3786"
             ],
             [
              0.5555555555555556,
              "#d8576b"
             ],
             [
              0.6666666666666666,
              "#ed7953"
             ],
             [
              0.7777777777777778,
              "#fb9f3a"
             ],
             [
              0.8888888888888888,
              "#fdca26"
             ],
             [
              1,
              "#f0f921"
             ]
            ],
            "type": "contour"
           }
          ],
          "contourcarpet": [
           {
            "colorbar": {
             "outlinewidth": 0,
             "ticks": ""
            },
            "type": "contourcarpet"
           }
          ],
          "heatmap": [
           {
            "colorbar": {
             "outlinewidth": 0,
             "ticks": ""
            },
            "colorscale": [
             [
              0,
              "#0d0887"
             ],
             [
              0.1111111111111111,
              "#46039f"
             ],
             [
              0.2222222222222222,
              "#7201a8"
             ],
             [
              0.3333333333333333,
              "#9c179e"
             ],
             [
              0.4444444444444444,
              "#bd3786"
             ],
             [
              0.5555555555555556,
              "#d8576b"
             ],
             [
              0.6666666666666666,
              "#ed7953"
             ],
             [
              0.7777777777777778,
              "#fb9f3a"
             ],
             [
              0.8888888888888888,
              "#fdca26"
             ],
             [
              1,
              "#f0f921"
             ]
            ],
            "type": "heatmap"
           }
          ],
          "histogram": [
           {
            "marker": {
             "pattern": {
              "fillmode": "overlay",
              "size": 10,
              "solidity": 0.2
             }
            },
            "type": "histogram"
           }
          ],
          "histogram2d": [
           {
            "colorbar": {
             "outlinewidth": 0,
             "ticks": ""
            },
            "colorscale": [
             [
              0,
              "#0d0887"
             ],
             [
              0.1111111111111111,
              "#46039f"
             ],
             [
              0.2222222222222222,
              "#7201a8"
             ],
             [
              0.3333333333333333,
              "#9c179e"
             ],
             [
              0.4444444444444444,
              "#bd3786"
             ],
             [
              0.5555555555555556,
              "#d8576b"
             ],
             [
              0.6666666666666666,
              "#ed7953"
             ],
             [
              0.7777777777777778,
              "#fb9f3a"
             ],
             [
              0.8888888888888888,
              "#fdca26"
             ],
             [
              1,
              "#f0f921"
             ]
            ],
            "type": "histogram2d"
           }
          ],
          "histogram2dcontour": [
           {
            "colorbar": {
             "outlinewidth": 0,
             "ticks": ""
            },
            "colorscale": [
             [
              0,
              "#0d0887"
             ],
             [
              0.1111111111111111,
              "#46039f"
             ],
             [
              0.2222222222222222,
              "#7201a8"
             ],
             [
              0.3333333333333333,
              "#9c179e"
             ],
             [
              0.4444444444444444,
              "#bd3786"
             ],
             [
              0.5555555555555556,
              "#d8576b"
             ],
             [
              0.6666666666666666,
              "#ed7953"
             ],
             [
              0.7777777777777778,
              "#fb9f3a"
             ],
             [
              0.8888888888888888,
              "#fdca26"
             ],
             [
              1,
              "#f0f921"
             ]
            ],
            "type": "histogram2dcontour"
           }
          ],
          "mesh3d": [
           {
            "colorbar": {
             "outlinewidth": 0,
             "ticks": ""
            },
            "type": "mesh3d"
           }
          ],
          "parcoords": [
           {
            "line": {
             "colorbar": {
              "outlinewidth": 0,
              "ticks": ""
             }
            },
            "type": "parcoords"
           }
          ],
          "pie": [
           {
            "automargin": true,
            "type": "pie"
           }
          ],
          "scatter": [
           {
            "fillpattern": {
             "fillmode": "overlay",
             "size": 10,
             "solidity": 0.2
            },
            "type": "scatter"
           }
          ],
          "scatter3d": [
           {
            "line": {
             "colorbar": {
              "outlinewidth": 0,
              "ticks": ""
             }
            },
            "marker": {
             "colorbar": {
              "outlinewidth": 0,
              "ticks": ""
             }
            },
            "type": "scatter3d"
           }
          ],
          "scattercarpet": [
           {
            "marker": {
             "colorbar": {
              "outlinewidth": 0,
              "ticks": ""
             }
            },
            "type": "scattercarpet"
           }
          ],
          "scattergeo": [
           {
            "marker": {
             "colorbar": {
              "outlinewidth": 0,
              "ticks": ""
             }
            },
            "type": "scattergeo"
           }
          ],
          "scattergl": [
           {
            "marker": {
             "colorbar": {
              "outlinewidth": 0,
              "ticks": ""
             }
            },
            "type": "scattergl"
           }
          ],
          "scattermap": [
           {
            "marker": {
             "colorbar": {
              "outlinewidth": 0,
              "ticks": ""
             }
            },
            "type": "scattermap"
           }
          ],
          "scattermapbox": [
           {
            "marker": {
             "colorbar": {
              "outlinewidth": 0,
              "ticks": ""
             }
            },
            "type": "scattermapbox"
           }
          ],
          "scatterpolar": [
           {
            "marker": {
             "colorbar": {
              "outlinewidth": 0,
              "ticks": ""
             }
            },
            "type": "scatterpolar"
           }
          ],
          "scatterpolargl": [
           {
            "marker": {
             "colorbar": {
              "outlinewidth": 0,
              "ticks": ""
             }
            },
            "type": "scatterpolargl"
           }
          ],
          "scatterternary": [
           {
            "marker": {
             "colorbar": {
              "outlinewidth": 0,
              "ticks": ""
             }
            },
            "type": "scatterternary"
           }
          ],
          "surface": [
           {
            "colorbar": {
             "outlinewidth": 0,
             "ticks": ""
            },
            "colorscale": [
             [
              0,
              "#0d0887"
             ],
             [
              0.1111111111111111,
              "#46039f"
             ],
             [
              0.2222222222222222,
              "#7201a8"
             ],
             [
              0.3333333333333333,
              "#9c179e"
             ],
             [
              0.4444444444444444,
              "#bd3786"
             ],
             [
              0.5555555555555556,
              "#d8576b"
             ],
             [
              0.6666666666666666,
              "#ed7953"
             ],
             [
              0.7777777777777778,
              "#fb9f3a"
             ],
             [
              0.8888888888888888,
              "#fdca26"
             ],
             [
              1,
              "#f0f921"
             ]
            ],
            "type": "surface"
           }
          ],
          "table": [
           {
            "cells": {
             "fill": {
              "color": "#EBF0F8"
             },
             "line": {
              "color": "white"
             }
            },
            "header": {
             "fill": {
              "color": "#C8D4E3"
             },
             "line": {
              "color": "white"
             }
            },
            "type": "table"
           }
          ]
         },
         "layout": {
          "annotationdefaults": {
           "arrowcolor": "#2a3f5f",
           "arrowhead": 0,
           "arrowwidth": 1
          },
          "autotypenumbers": "strict",
          "coloraxis": {
           "colorbar": {
            "outlinewidth": 0,
            "ticks": ""
           }
          },
          "colorscale": {
           "diverging": [
            [
             0,
             "#8e0152"
            ],
            [
             0.1,
             "#c51b7d"
            ],
            [
             0.2,
             "#de77ae"
            ],
            [
             0.3,
             "#f1b6da"
            ],
            [
             0.4,
             "#fde0ef"
            ],
            [
             0.5,
             "#f7f7f7"
            ],
            [
             0.6,
             "#e6f5d0"
            ],
            [
             0.7,
             "#b8e186"
            ],
            [
             0.8,
             "#7fbc41"
            ],
            [
             0.9,
             "#4d9221"
            ],
            [
             1,
             "#276419"
            ]
           ],
           "sequential": [
            [
             0,
             "#0d0887"
            ],
            [
             0.1111111111111111,
             "#46039f"
            ],
            [
             0.2222222222222222,
             "#7201a8"
            ],
            [
             0.3333333333333333,
             "#9c179e"
            ],
            [
             0.4444444444444444,
             "#bd3786"
            ],
            [
             0.5555555555555556,
             "#d8576b"
            ],
            [
             0.6666666666666666,
             "#ed7953"
            ],
            [
             0.7777777777777778,
             "#fb9f3a"
            ],
            [
             0.8888888888888888,
             "#fdca26"
            ],
            [
             1,
             "#f0f921"
            ]
           ],
           "sequentialminus": [
            [
             0,
             "#0d0887"
            ],
            [
             0.1111111111111111,
             "#46039f"
            ],
            [
             0.2222222222222222,
             "#7201a8"
            ],
            [
             0.3333333333333333,
             "#9c179e"
            ],
            [
             0.4444444444444444,
             "#bd3786"
            ],
            [
             0.5555555555555556,
             "#d8576b"
            ],
            [
             0.6666666666666666,
             "#ed7953"
            ],
            [
             0.7777777777777778,
             "#fb9f3a"
            ],
            [
             0.8888888888888888,
             "#fdca26"
            ],
            [
             1,
             "#f0f921"
            ]
           ]
          },
          "colorway": [
           "#636efa",
           "#EF553B",
           "#00cc96",
           "#ab63fa",
           "#FFA15A",
           "#19d3f3",
           "#FF6692",
           "#B6E880",
           "#FF97FF",
           "#FECB52"
          ],
          "font": {
           "color": "#2a3f5f"
          },
          "geo": {
           "bgcolor": "white",
           "lakecolor": "white",
           "landcolor": "#E5ECF6",
           "showlakes": true,
           "showland": true,
           "subunitcolor": "white"
          },
          "hoverlabel": {
           "align": "left"
          },
          "hovermode": "closest",
          "mapbox": {
           "style": "light"
          },
          "paper_bgcolor": "white",
          "plot_bgcolor": "#E5ECF6",
          "polar": {
           "angularaxis": {
            "gridcolor": "white",
            "linecolor": "white",
            "ticks": ""
           },
           "bgcolor": "#E5ECF6",
           "radialaxis": {
            "gridcolor": "white",
            "linecolor": "white",
            "ticks": ""
           }
          },
          "scene": {
           "xaxis": {
            "backgroundcolor": "#E5ECF6",
            "gridcolor": "white",
            "gridwidth": 2,
            "linecolor": "white",
            "showbackground": true,
            "ticks": "",
            "zerolinecolor": "white"
           },
           "yaxis": {
            "backgroundcolor": "#E5ECF6",
            "gridcolor": "white",
            "gridwidth": 2,
            "linecolor": "white",
            "showbackground": true,
            "ticks": "",
            "zerolinecolor": "white"
           },
           "zaxis": {
            "backgroundcolor": "#E5ECF6",
            "gridcolor": "white",
            "gridwidth": 2,
            "linecolor": "white",
            "showbackground": true,
            "ticks": "",
            "zerolinecolor": "white"
           }
          },
          "shapedefaults": {
           "line": {
            "color": "#2a3f5f"
           }
          },
          "ternary": {
           "aaxis": {
            "gridcolor": "white",
            "linecolor": "white",
            "ticks": ""
           },
           "baxis": {
            "gridcolor": "white",
            "linecolor": "white",
            "ticks": ""
           },
           "bgcolor": "#E5ECF6",
           "caxis": {
            "gridcolor": "white",
            "linecolor": "white",
            "ticks": ""
           }
          },
          "title": {
           "x": 0.05
          },
          "xaxis": {
           "automargin": true,
           "gridcolor": "white",
           "linecolor": "white",
           "ticks": "",
           "title": {
            "standoff": 15
           },
           "zerolinecolor": "white",
           "zerolinewidth": 2
          },
          "yaxis": {
           "automargin": true,
           "gridcolor": "white",
           "linecolor": "white",
           "ticks": "",
           "title": {
            "standoff": 15
           },
           "zerolinecolor": "white",
           "zerolinewidth": 2
          }
         }
        },
        "title": {
         "text": "조직별 근속년수 분포 현황"
        },
        "updatemenus": [
         {
          "active": 0,
          "buttons": [
           {
            "args": [
             {
              "visible": [
               true,
               true,
               true,
               true,
               false,
               false,
               false,
               false,
               false,
               false,
               false,
               false,
               false,
               false,
               false,
               false,
               false,
               false,
               false,
               false,
               false,
               false,
               false,
               false,
               false,
               false,
               false,
               false,
               false,
               false,
               false,
               false,
               false,
               false,
               false,
               false,
               false,
               false,
               false,
               false
              ]
             },
             {
              "barmode": "stack",
              "showlegend": true,
              "title": "전체 조직 근속년수 분포 (Division별)"
             }
            ],
            "label": "전체",
            "method": "update"
           },
           {
            "args": [
             {
              "visible": [
               false,
               false,
               false,
               false,
               true,
               true,
               true,
               true,
               true,
               true,
               true,
               true,
               true,
               false,
               false,
               false,
               false,
               false,
               false,
               false,
               false,
               false,
               false,
               false,
               false,
               false,
               false,
               false,
               false,
               false,
               false,
               false,
               false,
               false,
               false,
               false,
               false,
               false,
               false,
               false
              ]
             },
             {
              "barmode": "stack",
              "showlegend": false,
              "title": "Planning Division 근속년수 분포 (Office별)"
             }
            ],
            "label": "Planning Division",
            "method": "update"
           },
           {
            "args": [
             {
              "visible": [
               false,
               false,
               false,
               false,
               false,
               false,
               false,
               false,
               false,
               false,
               false,
               false,
               false,
               true,
               true,
               true,
               true,
               true,
               true,
               true,
               true,
               true,
               false,
               false,
               false,
               false,
               false,
               false,
               false,
               false,
               false,
               false,
               false,
               false,
               false,
               false,
               false,
               false,
               false,
               false
              ]
             },
             {
              "barmode": "stack",
              "showlegend": false,
              "title": "Sales Division 근속년수 분포 (Office별)"
             }
            ],
            "label": "Sales Division",
            "method": "update"
           },
           {
            "args": [
             {
              "visible": [
               false,
               false,
               false,
               false,
               false,
               false,
               false,
               false,
               false,
               false,
               false,
               false,
               false,
               false,
               false,
               false,
               false,
               false,
               false,
               false,
               false,
               false,
               true,
               true,
               true,
               true,
               true,
               true,
               true,
               true,
               true,
               false,
               false,
               false,
               false,
               false,
               false,
               false,
               false,
               false
              ]
             },
             {
              "barmode": "stack",
              "showlegend": false,
              "title": "Development Division 근속년수 분포 (Office별)"
             }
            ],
            "label": "Development Division",
            "method": "update"
           },
           {
            "args": [
             {
              "visible": [
               false,
               false,
               false,
               false,
               false,
               false,
               false,
               false,
               false,
               false,
               false,
               false,
               false,
               false,
               false,
               false,
               false,
               false,
               false,
               false,
               false,
               false,
               false,
               false,
               false,
               false,
               false,
               false,
               false,
               false,
               false,
               true,
               true,
               true,
               true,
               true,
               true,
               true,
               true,
               true
              ]
             },
             {
              "barmode": "stack",
              "showlegend": false,
              "title": "Operating Division 근속년수 분포 (Office별)"
             }
            ],
            "label": "Operating Division",
            "method": "update"
           }
          ],
          "direction": "down",
          "pad": {
           "r": 10,
           "t": 10
          },
          "showactive": true,
          "x": 0.01,
          "xanchor": "left",
          "y": 1.1,
          "yanchor": "top"
         }
        ],
        "xaxis": {
         "dtick": 1,
         "range": [
          -0.5,
          16.426762491444215
         ],
         "title": {
          "text": "근속년수 (년)"
         }
        },
        "yaxis": {
         "title": {
          "text": "직원 수"
         }
        }
       }
      }
     },
     "metadata": {},
     "output_type": "display_data"
    },
    {
     "name": "stdout",
     "output_type": "stream",
     "text": [
      "\n",
      "--- Aggregate DataFrame ---\n"
     ]
    },
    {
     "data": {
      "text/html": [
       "<div>\n",
       "<style scoped>\n",
       "    .dataframe tbody tr th:only-of-type {\n",
       "        vertical-align: middle;\n",
       "    }\n",
       "\n",
       "    .dataframe tbody tr th {\n",
       "        vertical-align: top;\n",
       "    }\n",
       "\n",
       "    .dataframe thead th {\n",
       "        text-align: right;\n",
       "    }\n",
       "</style>\n",
       "<table border=\"1\" class=\"dataframe\">\n",
       "  <thead>\n",
       "    <tr style=\"text-align: right;\">\n",
       "      <th>DIVISION_NAME</th>\n",
       "      <th>합계</th>\n",
       "      <th>Development Division</th>\n",
       "      <th>Operating Division</th>\n",
       "      <th>Planning Division</th>\n",
       "      <th>Sales Division</th>\n",
       "    </tr>\n",
       "    <tr>\n",
       "      <th>TENURE_GROUP</th>\n",
       "      <th></th>\n",
       "      <th></th>\n",
       "      <th></th>\n",
       "      <th></th>\n",
       "      <th></th>\n",
       "    </tr>\n",
       "  </thead>\n",
       "  <tbody>\n",
       "    <tr>\n",
       "      <th>3년 이하</th>\n",
       "      <td>162</td>\n",
       "      <td>36</td>\n",
       "      <td>47</td>\n",
       "      <td>37</td>\n",
       "      <td>42</td>\n",
       "    </tr>\n",
       "    <tr>\n",
       "      <th>3년초과~7년이하</th>\n",
       "      <td>168</td>\n",
       "      <td>45</td>\n",
       "      <td>36</td>\n",
       "      <td>37</td>\n",
       "      <td>50</td>\n",
       "    </tr>\n",
       "    <tr>\n",
       "      <th>7년 초과</th>\n",
       "      <td>150</td>\n",
       "      <td>34</td>\n",
       "      <td>32</td>\n",
       "      <td>43</td>\n",
       "      <td>41</td>\n",
       "    </tr>\n",
       "    <tr>\n",
       "      <th>합계</th>\n",
       "      <td>480</td>\n",
       "      <td>115</td>\n",
       "      <td>115</td>\n",
       "      <td>117</td>\n",
       "      <td>133</td>\n",
       "    </tr>\n",
       "  </tbody>\n",
       "</table>\n",
       "</div>"
      ],
      "text/plain": [
       "DIVISION_NAME   합계  Development Division  Operating Division  \\\n",
       "TENURE_GROUP                                                   \n",
       "3년 이하          162                    36                  47   \n",
       "3년초과~7년이하      168                    45                  36   \n",
       "7년 초과          150                    34                  32   \n",
       "합계             480                   115                 115   \n",
       "\n",
       "DIVISION_NAME  Planning Division  Sales Division  \n",
       "TENURE_GROUP                                      \n",
       "3년 이하                         37              42  \n",
       "3년초과~7년이하                     37              50  \n",
       "7년 초과                         43              41  \n",
       "합계                           117             133  "
      ]
     },
     "execution_count": 2,
     "metadata": {},
     "output_type": "execute_result"
    }
   ],
   "source": [
    "import pandas as pd\n",
    "import numpy as np\n",
    "import plotly.graph_objects as go\n",
    "import plotly.io as pio\n",
    "import plotly.express as px\n",
    "\n",
    "# --- 1. 데이터 임포트 ---\n",
    "from services.tables.HR_Core.basic_info_table import emp_df\n",
    "from services.tables.HR_Core.department_info_table import department_info_df\n",
    "from services.tables.HR_Core.department_table import (\n",
    "    dept_level_map, parent_map_dept, dept_name_map,\n",
    "    division_order, office_order\n",
    ")\n",
    "from services.helpers.utils import find_parents\n",
    "\n",
    "def create_figure_and_df():\n",
    "    \"\"\"\n",
    "    제안 4: 조직 경험 자산 현황 그래프 및 피벗 테이블을 생성합니다.\n",
    "    \"\"\"\n",
    "    # --- 2. 데이터 준비 및 가공 ---\n",
    "    current_emps_df = emp_df[emp_df['CURRENT_EMP_YN'] == 'Y'].copy()\n",
    "    current_emps_df['TENURE_YEARS'] = current_emps_df['DURATION'] / 365.25\n",
    "\n",
    "    current_depts = department_info_df[department_info_df['DEP_APP_END_DATE'].isnull()][['EMP_ID', 'DEP_ID']]\n",
    "    analysis_df = pd.merge(current_emps_df, current_depts, on='EMP_ID', how='left')\n",
    "    \n",
    "    parent_info = analysis_df['DEP_ID'].apply(lambda x: find_parents(x, dept_level_map, parent_map_dept, dept_name_map))\n",
    "    analysis_df = pd.concat([analysis_df, parent_info], axis=1)\n",
    "    analysis_df = analysis_df.dropna(subset=['DIVISION_NAME', 'OFFICE_NAME', 'TENURE_YEARS'])\n",
    "\n",
    "    # --- 3. Plotly 인터랙티브 그래프 생성 (그래프용 데이터 준비) ---\n",
    "    analysis_df['TENURE_BIN'] = pd.cut(analysis_df['TENURE_YEARS'], bins=range(0, int(analysis_df['TENURE_YEARS'].max()) + 2), right=False, labels=range(0, int(analysis_df['TENURE_YEARS'].max()) + 1))\n",
    "    div_summary = analysis_df.groupby(['DIVISION_NAME', 'TENURE_BIN'], observed=False).size().reset_index(name='COUNT')\n",
    "    office_summary = analysis_df.groupby(['DIVISION_NAME', 'OFFICE_NAME', 'TENURE_BIN'], observed=False).size().reset_index(name='COUNT')\n",
    "\n",
    "    x_max = analysis_df['TENURE_YEARS'].max()\n",
    "    fixed_x_range = [-0.5, x_max + 1.5]\n",
    "\n",
    "    # (그래프 생성 코드는 이전과 동일)\n",
    "    fig = go.Figure()\n",
    "    colors = px.colors.qualitative.Plotly\n",
    "    for i, div_name in enumerate(division_order):\n",
    "        df_filtered = div_summary[div_summary['DIVISION_NAME'] == div_name]\n",
    "        fig.add_trace(go.Bar(x=df_filtered['TENURE_BIN'], y=df_filtered['COUNT'], name=div_name, marker_color=colors[i]))\n",
    "    office_traces_map = {}\n",
    "    trace_idx_counter = len(fig.data)\n",
    "    for div_name in division_order:\n",
    "        office_div_df = office_summary[office_summary['DIVISION_NAME'] == div_name]\n",
    "        offices_in_div = [o for o in office_order if o in office_div_df['OFFICE_NAME'].unique()]\n",
    "        office_traces_map[div_name] = []\n",
    "        for j, office_name in enumerate(offices_in_div):\n",
    "            df_filtered = office_div_df[office_div_df['OFFICE_NAME'] == office_name]\n",
    "            fig.add_trace(go.Bar(x=df_filtered['TENURE_BIN'], y=df_filtered['COUNT'], name=office_name, visible=False, marker_color=colors[j % len(colors)], showlegend=False))\n",
    "            office_traces_map[div_name].append(trace_idx_counter)\n",
    "            trace_idx_counter += 1\n",
    "    buttons = []\n",
    "    buttons.append(dict(label='전체', method='update', args=[{'visible': [True]*len(division_order) + [False]*(len(fig.data)-len(division_order))}, {'title': '전체 조직 근속년수 분포 (Division별)', 'barmode': 'stack', 'showlegend': True}]))\n",
    "    for div_name in division_order:\n",
    "        visibility_mask = [False] * len(fig.data)\n",
    "        for trace_idx in office_traces_map.get(div_name, []):\n",
    "            visibility_mask[trace_idx] = True\n",
    "        buttons.append(dict(label=f'{div_name}', method='update', args=[{'visible': visibility_mask}, {'title': f'{div_name} 근속년수 분포 (Office별)', 'barmode': 'stack', 'showlegend': False}]))\n",
    "    fig.update_layout(\n",
    "        updatemenus=[dict(active=0, buttons=buttons, direction=\"down\", pad={\"r\": 10, \"t\": 10}, showactive=True, x=0.01, xanchor=\"left\", y=1.1, yanchor=\"top\")],\n",
    "        title_text='조직별 근속년수 분포 현황', xaxis_title='근속년수 (년)', yaxis_title='직원 수', font_size=14, height=700,\n",
    "        bargap=0.2, barmode='stack', legend_title_text='조직',\n",
    "        annotations=[dict(text=\"조직 선택:\", showarrow=False, x=0, y=1.08, yref=\"paper\", align=\"left\")],\n",
    "        xaxis_range=fixed_x_range\n",
    "    )\n",
    "    fig.update_xaxes(dtick=1)\n",
    "    \n",
    "    # --- 수정된 부분: aggregate_df 생성 ---\n",
    "    # 1. 근속년수 구간을 새로 정의\n",
    "    tenure_bins_agg = [-np.inf, 3, 7, np.inf]\n",
    "    tenure_labels_agg = ['3년 이하', '3년초과~7년이하', '7년 초과']\n",
    "    analysis_df['TENURE_GROUP'] = pd.cut(analysis_df['TENURE_YEARS'], bins=tenure_bins_agg, labels=tenure_labels_agg)\n",
    "\n",
    "    # 2. 피벗 테이블 생성\n",
    "    aggregate_df = pd.pivot_table(\n",
    "        analysis_df,\n",
    "        index='TENURE_GROUP',\n",
    "        columns='DIVISION_NAME',\n",
    "        values='EMP_ID',\n",
    "        aggfunc='count',\n",
    "        margins=True, # 합계(All) 추가\n",
    "        margins_name='합계',\n",
    "        observed=False\n",
    "    ).fillna(0).astype(int)\n",
    "    \n",
    "    # 3. '합계' 컬럼을 맨 앞으로 이동\n",
    "    if '합계' in aggregate_df.columns:\n",
    "        cols = ['합계'] + [col for col in aggregate_df.columns if col != '합계']\n",
    "        aggregate_df = aggregate_df[cols]\n",
    "    # --- 수정 완료 ---\n",
    "\n",
    "    return fig, aggregate_df\n",
    "\n",
    "# --- 실행 코드 ---\n",
    "pio.renderers.default = 'vscode'\n",
    "fig, aggregate_df = create_figure_and_df()\n",
    "fig.show()\n",
    "\n",
    "print(\"\\n--- Aggregate DataFrame ---\")\n",
    "aggregate_df"
   ]
  },
  {
   "cell_type": "code",
   "execution_count": null,
   "id": "769eb6fe",
   "metadata": {},
   "outputs": [],
   "source": []
  }
 ],
 "metadata": {
  "kernelspec": {
   "display_name": "Python 3 (ipykernel)",
   "language": "python",
   "name": "python3"
  },
  "language_info": {
   "codemirror_mode": {
    "name": "ipython",
    "version": 3
   },
   "file_extension": ".py",
   "mimetype": "text/x-python",
   "name": "python",
   "nbconvert_exporter": "python",
   "pygments_lexer": "ipython3",
   "version": "3.12.11"
  }
 },
 "nbformat": 4,
 "nbformat_minor": 5
}
