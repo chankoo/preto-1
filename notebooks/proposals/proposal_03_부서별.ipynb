{
 "cells": [
  {
   "cell_type": "code",
   "execution_count": 2,
   "id": "95bc2e7d",
   "metadata": {},
   "outputs": [
    {
     "data": {
      "application/vnd.plotly.v1+json": {
       "config": {
        "plotlyServerURL": "https://plot.ly"
       },
       "data": [
        {
         "marker": {
          "color": "#636EFA"
         },
         "name": "Planning Division",
         "type": "box",
         "x": [
          "Staff",
          "Staff",
          "Staff",
          "Staff",
          "Manager",
          "Manager",
          "Manager",
          "Manager",
          "Manager",
          "Manager",
          "Manager",
          "Manager",
          "Manager",
          "Manager",
          "Manager",
          "Manager",
          "Manager",
          "Staff",
          "Staff",
          "Staff",
          "Manager",
          "Manager",
          "Manager",
          "Manager",
          "Manager",
          "Manager",
          "Director",
          "Director",
          "Staff",
          "Staff",
          "Staff",
          "Staff",
          "Staff",
          "Staff",
          "Staff",
          "Staff",
          "Staff",
          "Staff",
          "Staff",
          "Staff",
          "Staff",
          "Staff",
          "Staff",
          "Staff",
          "Staff",
          "Staff",
          "Staff",
          "Staff",
          "Staff",
          "Staff",
          "Staff",
          "Staff",
          "Staff",
          "Staff",
          "Staff",
          "Staff",
          "Manager",
          "Manager",
          "Manager",
          "Manager",
          "Manager",
          "Manager",
          "Manager",
          "Manager",
          "Manager",
          "Manager",
          "Manager",
          "Manager",
          "Manager",
          "Manager",
          "Manager",
          "Manager",
          "Manager",
          "Manager",
          "Manager",
          "Manager",
          "Manager",
          "Manager",
          "Manager",
          "Manager",
          "Manager",
          "Manager",
          "Manager",
          "Manager",
          "Manager",
          "Manager",
          "Manager",
          "Manager",
          "Manager",
          "Manager",
          "Manager",
          "Manager",
          "Manager",
          "Manager",
          "Manager",
          "Manager",
          "Manager",
          "Manager",
          "Manager",
          "Manager",
          "Manager",
          "Manager",
          "Manager",
          "Manager",
          "Manager",
          "Manager",
          "Manager",
          "Manager",
          "Director",
          "Director",
          "Director",
          "Director",
          "Director",
          "Director",
          "Director",
          "Director",
          "Director",
          "Director",
          "Director",
          "Director",
          "Director",
          "Director"
         ],
         "y": {
          "bdata": "ISMdGSweLRsoGh0kIxogKSogIxkaISkgHyUmHyAkGiAeGiAdHxkfHB8ZIyMkHSEdJh8ZHxkaIR4aKyAjKh0gKSomIh0jGx8cIiotJiMrHCYrISMlIikfIiYpGiIkISciISgnKx8qLS0rJCMpKxorJy4tKiwrLCwtLC0=",
          "dtype": "i1"
         }
        },
        {
         "marker": {
          "color": "#EF553B"
         },
         "name": "Sales Division",
         "type": "box",
         "x": [
          "Staff",
          "Staff",
          "Staff",
          "Staff",
          "Manager",
          "Manager",
          "Manager",
          "Manager",
          "Manager",
          "Manager",
          "Manager",
          "Manager",
          "Manager",
          "Director",
          "Staff",
          "Staff",
          "Staff",
          "Staff",
          "Manager",
          "Manager",
          "Manager",
          "Manager",
          "Manager",
          "Manager",
          "Manager",
          "Manager",
          "Director",
          "Director",
          "Director",
          "Staff",
          "Staff",
          "Staff",
          "Staff",
          "Staff",
          "Staff",
          "Manager",
          "Manager",
          "Manager",
          "Manager",
          "Manager",
          "Director",
          "Staff",
          "Staff",
          "Staff",
          "Staff",
          "Staff",
          "Staff",
          "Staff",
          "Staff",
          "Staff",
          "Staff",
          "Staff",
          "Staff",
          "Staff",
          "Staff",
          "Staff",
          "Staff",
          "Staff",
          "Staff",
          "Staff",
          "Staff",
          "Staff",
          "Staff",
          "Staff",
          "Staff",
          "Staff",
          "Staff",
          "Staff",
          "Staff",
          "Staff",
          "Staff",
          "Staff",
          "Staff",
          "Staff",
          "Staff",
          "Staff",
          "Staff",
          "Staff",
          "Staff",
          "Staff",
          "Manager",
          "Manager",
          "Manager",
          "Manager",
          "Manager",
          "Manager",
          "Manager",
          "Manager",
          "Manager",
          "Manager",
          "Manager",
          "Manager",
          "Manager",
          "Manager",
          "Manager",
          "Manager",
          "Manager",
          "Manager",
          "Manager",
          "Manager",
          "Manager",
          "Manager",
          "Manager",
          "Manager",
          "Manager",
          "Manager",
          "Manager",
          "Manager",
          "Manager",
          "Manager",
          "Manager",
          "Manager",
          "Manager",
          "Manager",
          "Manager",
          "Manager",
          "Manager",
          "Manager",
          "Manager",
          "Manager",
          "Manager",
          "Manager",
          "Manager",
          "Manager",
          "Manager",
          "Manager",
          "Manager",
          "Manager",
          "Director",
          "Director",
          "Director",
          "Director",
          "Director",
          "Director"
         ],
         "y": {
          "bdata": "IygaJx8nJRwrKSsiJyEbISIeJiQjJigpKSwmKCMpIyAiGhktLCAjKiseJhwcGSYfHSEiIRodHhorGysbHSQkIB4kIRodHhwiHB4bHCEhHSAcKyocIiIsLCYgGSMsKicuJCMdKCMiLCAhIyklJCgrIyMlIyUqHismKyclJioZIB8tLS4tKCk=",
          "dtype": "i1"
         }
        },
        {
         "marker": {
          "color": "#00CC96"
         },
         "name": "Development Division",
         "type": "box",
         "x": [
          "Staff",
          "Staff",
          "Staff",
          "Staff",
          "Staff",
          "Manager",
          "Manager",
          "Manager",
          "Manager",
          "Manager",
          "Manager",
          "Manager",
          "Manager",
          "Director",
          "Director",
          "C-Level",
          "Staff",
          "Staff",
          "Staff",
          "Staff",
          "Staff",
          "Manager",
          "Manager",
          "Manager",
          "Manager",
          "Manager",
          "Manager",
          "Manager",
          "Manager",
          "Director",
          "Director",
          "Staff",
          "Staff",
          "Staff",
          "Staff",
          "Staff",
          "Staff",
          "Staff",
          "Staff",
          "Staff",
          "Staff",
          "Staff",
          "Staff",
          "Staff",
          "Staff",
          "Staff",
          "Staff",
          "Staff",
          "Staff",
          "Staff",
          "Staff",
          "Staff",
          "Staff",
          "Staff",
          "Staff",
          "Staff",
          "Staff",
          "Manager",
          "Manager",
          "Manager",
          "Manager",
          "Manager",
          "Manager",
          "Manager",
          "Manager",
          "Manager",
          "Manager",
          "Manager",
          "Manager",
          "Manager",
          "Manager",
          "Manager",
          "Manager",
          "Manager",
          "Manager",
          "Manager",
          "Manager",
          "Manager",
          "Manager",
          "Manager",
          "Manager",
          "Manager",
          "Manager",
          "Manager",
          "Manager",
          "Manager",
          "Manager",
          "Manager",
          "Manager",
          "Manager",
          "Manager",
          "Manager",
          "Manager",
          "Manager",
          "Manager",
          "Manager",
          "Manager",
          "Manager",
          "Manager",
          "Director",
          "Director",
          "Director",
          "Director",
          "Director",
          "Director",
          "Director",
          "Director",
          "Director",
          "Director",
          "Director",
          "Director",
          "Director",
          "Director"
         ],
         "y": {
          "bdata": "GhwdHCYoKB0sKygeGykoKiIcHiMaIConKSEgKSYnJiAdIiMcIB0eGxweHRoaGRoZGiofHSwaGhofLB8eIyIeJR0qGxkoGSgkKCAtJCsbHSImIyMlIiEmJC0gIyceHyolJyokLCAnKSwkLCoqKR4qKSU=",
          "dtype": "i1"
         }
        },
        {
         "marker": {
          "color": "#AB63FA"
         },
         "name": "Operating Division",
         "type": "box",
         "x": [
          "Staff",
          "Staff",
          "Staff",
          "Staff",
          "Staff",
          "Staff",
          "Staff",
          "Manager",
          "Manager",
          "Manager",
          "Manager",
          "Manager",
          "Director",
          "Staff",
          "Staff",
          "Staff",
          "Staff",
          "Staff",
          "Staff",
          "Staff",
          "Staff",
          "Manager",
          "Manager",
          "Manager",
          "Manager",
          "Manager",
          "Manager",
          "Manager",
          "Manager",
          "Manager",
          "Manager",
          "Manager",
          "Manager",
          "Manager",
          "Manager",
          "Director",
          "Director",
          "Director",
          "Director",
          "Director",
          "Staff",
          "Staff",
          "Staff",
          "Staff",
          "Staff",
          "Staff",
          "Staff",
          "Staff",
          "Staff",
          "Staff",
          "Staff",
          "Staff",
          "Staff",
          "Staff",
          "Staff",
          "Staff",
          "Staff",
          "Staff",
          "Staff",
          "Staff",
          "Staff",
          "Staff",
          "Manager",
          "Manager",
          "Manager",
          "Manager",
          "Manager",
          "Manager",
          "Manager",
          "Manager",
          "Manager",
          "Manager",
          "Manager",
          "Manager",
          "Manager",
          "Manager",
          "Manager",
          "Manager",
          "Manager",
          "Manager",
          "Manager",
          "Manager",
          "Manager",
          "Manager",
          "Manager",
          "Manager",
          "Manager",
          "Manager",
          "Manager",
          "Manager",
          "Manager",
          "Manager",
          "Manager",
          "Manager",
          "Manager",
          "Manager",
          "Manager",
          "Manager",
          "Manager",
          "Manager",
          "Director",
          "Director",
          "Director",
          "Director",
          "Director",
          "Director",
          "Director",
          "Director",
          "Director",
          "Director",
          "Director"
         ],
         "y": {
          "bdata": "HxweHxwbHxomLCQbGxsdHhsbJikbKSgbICcrLSsqKC0eKCsnKysrJhsZIiMaGx4eHiYdKSQaHxsaJhwhHyQiJC0cLCghKSgmKCMrLikgKBsiLBolIRwnKissJRwrJy0iKiwtKSstLBkrJykqJyso",
          "dtype": "i1"
         }
        },
        {
         "marker": {
          "color": "#636EFA"
         },
         "name": "Strategy Office",
         "type": "box",
         "visible": false,
         "x": [
          "Staff",
          "Staff",
          "Staff",
          "Staff",
          "Manager",
          "Manager",
          "Manager",
          "Manager",
          "Manager",
          "Manager",
          "Manager",
          "Manager",
          "Manager",
          "Manager",
          "Manager",
          "Manager",
          "Manager"
         ],
         "y": {
          "bdata": "ISMdGSweLRsoGh0kIxogKSo=",
          "dtype": "i1"
         }
        },
        {
         "marker": {
          "color": "#EF553B"
         },
         "name": "Finance Office",
         "type": "box",
         "visible": false,
         "x": [
          "Staff",
          "Staff",
          "Staff",
          "Manager",
          "Manager",
          "Manager",
          "Manager",
          "Manager",
          "Manager",
          "Director",
          "Director"
         ],
         "y": {
          "bdata": "ICMZGiEpIB8lJh8=",
          "dtype": "i1"
         }
        },
        {
         "marker": {
          "color": "#00CC96"
         },
         "name": "Planning Division (직속)",
         "type": "box",
         "visible": false,
         "x": [
          "Staff",
          "Staff",
          "Staff",
          "Staff",
          "Staff",
          "Staff",
          "Staff",
          "Staff",
          "Staff",
          "Staff",
          "Staff",
          "Staff",
          "Staff",
          "Staff",
          "Staff",
          "Staff",
          "Staff",
          "Staff",
          "Staff",
          "Staff",
          "Staff",
          "Staff",
          "Staff",
          "Staff",
          "Staff",
          "Staff",
          "Staff",
          "Staff",
          "Manager",
          "Manager",
          "Manager",
          "Manager",
          "Manager",
          "Manager",
          "Manager",
          "Manager",
          "Manager",
          "Manager",
          "Manager",
          "Manager",
          "Manager",
          "Manager",
          "Manager",
          "Manager",
          "Manager",
          "Manager",
          "Manager",
          "Manager",
          "Manager",
          "Manager",
          "Manager",
          "Manager",
          "Manager",
          "Manager",
          "Manager",
          "Manager",
          "Manager",
          "Manager",
          "Manager",
          "Manager",
          "Manager",
          "Manager",
          "Manager",
          "Manager",
          "Manager",
          "Manager",
          "Manager",
          "Manager",
          "Manager",
          "Manager",
          "Manager",
          "Manager",
          "Manager",
          "Manager",
          "Manager",
          "Manager",
          "Manager",
          "Manager",
          "Manager",
          "Manager",
          "Director",
          "Director",
          "Director",
          "Director",
          "Director",
          "Director",
          "Director",
          "Director",
          "Director",
          "Director",
          "Director",
          "Director",
          "Director",
          "Director"
         ],
         "y": {
          "bdata": "ICQaIB4aIB0fGR8cHxkjIyQdIR0mHxkfGRohHhorICMqHSApKiYiHSMbHxwiKi0mIyscJishIyUiKR8iJikaIiQhJyIhKCcrHyotLSskIykrGisnLi0qLCssLC0sLQ==",
          "dtype": "i1"
         }
        },
        {
         "marker": {
          "color": "#636EFA"
         },
         "name": "Marketing Office",
         "type": "box",
         "visible": false,
         "x": [
          "Staff",
          "Staff",
          "Staff",
          "Staff",
          "Manager",
          "Manager",
          "Manager",
          "Manager",
          "Manager",
          "Manager",
          "Manager",
          "Manager",
          "Manager",
          "Director"
         ],
         "y": {
          "bdata": "IygaJx8nJRwrKSsiJyE=",
          "dtype": "i1"
         }
        },
        {
         "marker": {
          "color": "#EF553B"
         },
         "name": "Domestic Sales Office",
         "type": "box",
         "visible": false,
         "x": [
          "Staff",
          "Staff",
          "Staff",
          "Staff",
          "Manager",
          "Manager",
          "Manager",
          "Manager",
          "Manager",
          "Manager",
          "Manager",
          "Manager",
          "Director",
          "Director",
          "Director"
         ],
         "y": {
          "bdata": "GyEiHiYkIyYoKSksJigj",
          "dtype": "i1"
         }
        },
        {
         "marker": {
          "color": "#00CC96"
         },
         "name": "Global Sales Office",
         "type": "box",
         "visible": false,
         "x": [
          "Staff",
          "Staff",
          "Staff",
          "Staff",
          "Staff",
          "Staff",
          "Manager",
          "Manager",
          "Manager",
          "Manager",
          "Manager",
          "Director"
         ],
         "y": {
          "bdata": "KSMgIhoZLSwgIyor",
          "dtype": "i1"
         }
        },
        {
         "marker": {
          "color": "#AB63FA"
         },
         "name": "Sales Division (직속)",
         "type": "box",
         "visible": false,
         "x": [
          "Staff",
          "Staff",
          "Staff",
          "Staff",
          "Staff",
          "Staff",
          "Staff",
          "Staff",
          "Staff",
          "Staff",
          "Staff",
          "Staff",
          "Staff",
          "Staff",
          "Staff",
          "Staff",
          "Staff",
          "Staff",
          "Staff",
          "Staff",
          "Staff",
          "Staff",
          "Staff",
          "Staff",
          "Staff",
          "Staff",
          "Staff",
          "Staff",
          "Staff",
          "Staff",
          "Staff",
          "Staff",
          "Staff",
          "Staff",
          "Staff",
          "Staff",
          "Staff",
          "Staff",
          "Staff",
          "Manager",
          "Manager",
          "Manager",
          "Manager",
          "Manager",
          "Manager",
          "Manager",
          "Manager",
          "Manager",
          "Manager",
          "Manager",
          "Manager",
          "Manager",
          "Manager",
          "Manager",
          "Manager",
          "Manager",
          "Manager",
          "Manager",
          "Manager",
          "Manager",
          "Manager",
          "Manager",
          "Manager",
          "Manager",
          "Manager",
          "Manager",
          "Manager",
          "Manager",
          "Manager",
          "Manager",
          "Manager",
          "Manager",
          "Manager",
          "Manager",
          "Manager",
          "Manager",
          "Manager",
          "Manager",
          "Manager",
          "Manager",
          "Manager",
          "Manager",
          "Manager",
          "Manager",
          "Manager",
          "Manager",
          "Manager",
          "Director",
          "Director",
          "Director",
          "Director",
          "Director",
          "Director"
         ],
         "y": {
          "bdata": "HiYcHBkmHx0hIiEaHR4aKxsrGx0kJCAeJCEaHR4cIhweGxwhIR0gHCsqHCIiLCwmIBkjLConLiQjHSgjIiwgISMpJSQoKyMjJSMlKh4rJisnJSYqGSAfLS0uLSgp",
          "dtype": "i1"
         }
        },
        {
         "marker": {
          "color": "#636EFA"
         },
         "name": "R&D Office",
         "type": "box",
         "visible": false,
         "x": [
          "Staff",
          "Staff",
          "Staff",
          "Staff",
          "Staff",
          "Manager",
          "Manager",
          "Manager",
          "Manager",
          "Manager",
          "Manager",
          "Manager",
          "Manager",
          "Director",
          "Director",
          "C-Level"
         ],
         "y": {
          "bdata": "GhwdHCYoKB0sKygeGykoKg==",
          "dtype": "i1"
         }
        },
        {
         "marker": {
          "color": "#EF553B"
         },
         "name": "QA Office",
         "type": "box",
         "visible": false,
         "x": [
          "Staff",
          "Staff",
          "Staff",
          "Staff",
          "Staff",
          "Manager",
          "Manager",
          "Manager",
          "Manager",
          "Manager",
          "Manager",
          "Manager",
          "Manager",
          "Director",
          "Director"
         ],
         "y": {
          "bdata": "IhweIxogKicpISApJicm",
          "dtype": "i1"
         }
        },
        {
         "marker": {
          "color": "#00CC96"
         },
         "name": "Development Division (직속)",
         "type": "box",
         "visible": false,
         "x": [
          "Staff",
          "Staff",
          "Staff",
          "Staff",
          "Staff",
          "Staff",
          "Staff",
          "Staff",
          "Staff",
          "Staff",
          "Staff",
          "Staff",
          "Staff",
          "Staff",
          "Staff",
          "Staff",
          "Staff",
          "Staff",
          "Staff",
          "Staff",
          "Staff",
          "Staff",
          "Staff",
          "Staff",
          "Staff",
          "Staff",
          "Manager",
          "Manager",
          "Manager",
          "Manager",
          "Manager",
          "Manager",
          "Manager",
          "Manager",
          "Manager",
          "Manager",
          "Manager",
          "Manager",
          "Manager",
          "Manager",
          "Manager",
          "Manager",
          "Manager",
          "Manager",
          "Manager",
          "Manager",
          "Manager",
          "Manager",
          "Manager",
          "Manager",
          "Manager",
          "Manager",
          "Manager",
          "Manager",
          "Manager",
          "Manager",
          "Manager",
          "Manager",
          "Manager",
          "Manager",
          "Manager",
          "Manager",
          "Manager",
          "Manager",
          "Manager",
          "Manager",
          "Manager",
          "Manager",
          "Director",
          "Director",
          "Director",
          "Director",
          "Director",
          "Director",
          "Director",
          "Director",
          "Director",
          "Director",
          "Director",
          "Director",
          "Director",
          "Director"
         ],
         "y": {
          "bdata": "IB0iIxwgHR4bHB4dGhoZGhkaKh8dLBoaGh8sHx4jIh4lHSobGSgZKCQoIC0kKxsdIiYjIyUiISYkLSAjJx4fKiUnKiQsICcpLCQsKiopHiopJQ==",
          "dtype": "i1"
         }
        },
        {
         "marker": {
          "color": "#636EFA"
         },
         "name": "Engineering Office",
         "type": "box",
         "visible": false,
         "x": [
          "Staff",
          "Staff",
          "Staff",
          "Staff",
          "Staff",
          "Staff",
          "Staff",
          "Manager",
          "Manager",
          "Manager",
          "Manager",
          "Manager",
          "Director"
         ],
         "y": {
          "bdata": "HxweHxwbHxomLCQbGw==",
          "dtype": "i1"
         }
        },
        {
         "marker": {
          "color": "#EF553B"
         },
         "name": "Production Office",
         "type": "box",
         "visible": false,
         "x": [
          "Staff",
          "Staff",
          "Staff",
          "Staff",
          "Staff",
          "Staff",
          "Staff",
          "Staff",
          "Manager",
          "Manager",
          "Manager",
          "Manager",
          "Manager",
          "Manager",
          "Manager",
          "Manager",
          "Manager",
          "Manager",
          "Manager",
          "Manager",
          "Manager",
          "Manager",
          "Director",
          "Director",
          "Director",
          "Director",
          "Director"
         ],
         "y": {
          "bdata": "Gx0eGxsmKRspKBsgJystKyooLR4oKycrKysm",
          "dtype": "i1"
         }
        },
        {
         "marker": {
          "color": "#00CC96"
         },
         "name": "Operating Division (직속)",
         "type": "box",
         "visible": false,
         "x": [
          "Staff",
          "Staff",
          "Staff",
          "Staff",
          "Staff",
          "Staff",
          "Staff",
          "Staff",
          "Staff",
          "Staff",
          "Staff",
          "Staff",
          "Staff",
          "Staff",
          "Staff",
          "Staff",
          "Staff",
          "Staff",
          "Staff",
          "Staff",
          "Staff",
          "Staff",
          "Manager",
          "Manager",
          "Manager",
          "Manager",
          "Manager",
          "Manager",
          "Manager",
          "Manager",
          "Manager",
          "Manager",
          "Manager",
          "Manager",
          "Manager",
          "Manager",
          "Manager",
          "Manager",
          "Manager",
          "Manager",
          "Manager",
          "Manager",
          "Manager",
          "Manager",
          "Manager",
          "Manager",
          "Manager",
          "Manager",
          "Manager",
          "Manager",
          "Manager",
          "Manager",
          "Manager",
          "Manager",
          "Manager",
          "Manager",
          "Manager",
          "Manager",
          "Manager",
          "Manager",
          "Director",
          "Director",
          "Director",
          "Director",
          "Director",
          "Director",
          "Director",
          "Director",
          "Director",
          "Director",
          "Director"
         ],
         "y": {
          "bdata": "GxkiIxobHh4eJh0pJBofGxomHCEfJCIkLRwsKCEpKCYoIysuKSAoGyIsGiUhHCcqKywlHCsnLSIqLC0pKy0sGSsnKSonKyg=",
          "dtype": "i1"
         }
        }
       ],
       "layout": {
        "annotations": [
         {
          "align": "left",
          "showarrow": false,
          "text": "조직 선택:",
          "x": 0,
          "y": 1.08,
          "yref": "paper"
         }
        ],
        "boxmode": "group",
        "font": {
         "size": 14
        },
        "height": 700,
        "legend": {
         "title": {
          "text": "Division"
         }
        },
        "template": {
         "data": {
          "bar": [
           {
            "error_x": {
             "color": "#2a3f5f"
            },
            "error_y": {
             "color": "#2a3f5f"
            },
            "marker": {
             "line": {
              "color": "#E5ECF6",
              "width": 0.5
             },
             "pattern": {
              "fillmode": "overlay",
              "size": 10,
              "solidity": 0.2
             }
            },
            "type": "bar"
           }
          ],
          "barpolar": [
           {
            "marker": {
             "line": {
              "color": "#E5ECF6",
              "width": 0.5
             },
             "pattern": {
              "fillmode": "overlay",
              "size": 10,
              "solidity": 0.2
             }
            },
            "type": "barpolar"
           }
          ],
          "carpet": [
           {
            "aaxis": {
             "endlinecolor": "#2a3f5f",
             "gridcolor": "white",
             "linecolor": "white",
             "minorgridcolor": "white",
             "startlinecolor": "#2a3f5f"
            },
            "baxis": {
             "endlinecolor": "#2a3f5f",
             "gridcolor": "white",
             "linecolor": "white",
             "minorgridcolor": "white",
             "startlinecolor": "#2a3f5f"
            },
            "type": "carpet"
           }
          ],
          "choropleth": [
           {
            "colorbar": {
             "outlinewidth": 0,
             "ticks": ""
            },
            "type": "choropleth"
           }
          ],
          "contour": [
           {
            "colorbar": {
             "outlinewidth": 0,
             "ticks": ""
            },
            "colorscale": [
             [
              0,
              "#0d0887"
             ],
             [
              0.1111111111111111,
              "#46039f"
             ],
             [
              0.2222222222222222,
              "#7201a8"
             ],
             [
              0.3333333333333333,
              "#9c179e"
             ],
             [
              0.4444444444444444,
              "#bd3786"
             ],
             [
              0.5555555555555556,
              "#d8576b"
             ],
             [
              0.6666666666666666,
              "#ed7953"
             ],
             [
              0.7777777777777778,
              "#fb9f3a"
             ],
             [
              0.8888888888888888,
              "#fdca26"
             ],
             [
              1,
              "#f0f921"
             ]
            ],
            "type": "contour"
           }
          ],
          "contourcarpet": [
           {
            "colorbar": {
             "outlinewidth": 0,
             "ticks": ""
            },
            "type": "contourcarpet"
           }
          ],
          "heatmap": [
           {
            "colorbar": {
             "outlinewidth": 0,
             "ticks": ""
            },
            "colorscale": [
             [
              0,
              "#0d0887"
             ],
             [
              0.1111111111111111,
              "#46039f"
             ],
             [
              0.2222222222222222,
              "#7201a8"
             ],
             [
              0.3333333333333333,
              "#9c179e"
             ],
             [
              0.4444444444444444,
              "#bd3786"
             ],
             [
              0.5555555555555556,
              "#d8576b"
             ],
             [
              0.6666666666666666,
              "#ed7953"
             ],
             [
              0.7777777777777778,
              "#fb9f3a"
             ],
             [
              0.8888888888888888,
              "#fdca26"
             ],
             [
              1,
              "#f0f921"
             ]
            ],
            "type": "heatmap"
           }
          ],
          "histogram": [
           {
            "marker": {
             "pattern": {
              "fillmode": "overlay",
              "size": 10,
              "solidity": 0.2
             }
            },
            "type": "histogram"
           }
          ],
          "histogram2d": [
           {
            "colorbar": {
             "outlinewidth": 0,
             "ticks": ""
            },
            "colorscale": [
             [
              0,
              "#0d0887"
             ],
             [
              0.1111111111111111,
              "#46039f"
             ],
             [
              0.2222222222222222,
              "#7201a8"
             ],
             [
              0.3333333333333333,
              "#9c179e"
             ],
             [
              0.4444444444444444,
              "#bd3786"
             ],
             [
              0.5555555555555556,
              "#d8576b"
             ],
             [
              0.6666666666666666,
              "#ed7953"
             ],
             [
              0.7777777777777778,
              "#fb9f3a"
             ],
             [
              0.8888888888888888,
              "#fdca26"
             ],
             [
              1,
              "#f0f921"
             ]
            ],
            "type": "histogram2d"
           }
          ],
          "histogram2dcontour": [
           {
            "colorbar": {
             "outlinewidth": 0,
             "ticks": ""
            },
            "colorscale": [
             [
              0,
              "#0d0887"
             ],
             [
              0.1111111111111111,
              "#46039f"
             ],
             [
              0.2222222222222222,
              "#7201a8"
             ],
             [
              0.3333333333333333,
              "#9c179e"
             ],
             [
              0.4444444444444444,
              "#bd3786"
             ],
             [
              0.5555555555555556,
              "#d8576b"
             ],
             [
              0.6666666666666666,
              "#ed7953"
             ],
             [
              0.7777777777777778,
              "#fb9f3a"
             ],
             [
              0.8888888888888888,
              "#fdca26"
             ],
             [
              1,
              "#f0f921"
             ]
            ],
            "type": "histogram2dcontour"
           }
          ],
          "mesh3d": [
           {
            "colorbar": {
             "outlinewidth": 0,
             "ticks": ""
            },
            "type": "mesh3d"
           }
          ],
          "parcoords": [
           {
            "line": {
             "colorbar": {
              "outlinewidth": 0,
              "ticks": ""
             }
            },
            "type": "parcoords"
           }
          ],
          "pie": [
           {
            "automargin": true,
            "type": "pie"
           }
          ],
          "scatter": [
           {
            "fillpattern": {
             "fillmode": "overlay",
             "size": 10,
             "solidity": 0.2
            },
            "type": "scatter"
           }
          ],
          "scatter3d": [
           {
            "line": {
             "colorbar": {
              "outlinewidth": 0,
              "ticks": ""
             }
            },
            "marker": {
             "colorbar": {
              "outlinewidth": 0,
              "ticks": ""
             }
            },
            "type": "scatter3d"
           }
          ],
          "scattercarpet": [
           {
            "marker": {
             "colorbar": {
              "outlinewidth": 0,
              "ticks": ""
             }
            },
            "type": "scattercarpet"
           }
          ],
          "scattergeo": [
           {
            "marker": {
             "colorbar": {
              "outlinewidth": 0,
              "ticks": ""
             }
            },
            "type": "scattergeo"
           }
          ],
          "scattergl": [
           {
            "marker": {
             "colorbar": {
              "outlinewidth": 0,
              "ticks": ""
             }
            },
            "type": "scattergl"
           }
          ],
          "scattermap": [
           {
            "marker": {
             "colorbar": {
              "outlinewidth": 0,
              "ticks": ""
             }
            },
            "type": "scattermap"
           }
          ],
          "scattermapbox": [
           {
            "marker": {
             "colorbar": {
              "outlinewidth": 0,
              "ticks": ""
             }
            },
            "type": "scattermapbox"
           }
          ],
          "scatterpolar": [
           {
            "marker": {
             "colorbar": {
              "outlinewidth": 0,
              "ticks": ""
             }
            },
            "type": "scatterpolar"
           }
          ],
          "scatterpolargl": [
           {
            "marker": {
             "colorbar": {
              "outlinewidth": 0,
              "ticks": ""
             }
            },
            "type": "scatterpolargl"
           }
          ],
          "scatterternary": [
           {
            "marker": {
             "colorbar": {
              "outlinewidth": 0,
              "ticks": ""
             }
            },
            "type": "scatterternary"
           }
          ],
          "surface": [
           {
            "colorbar": {
             "outlinewidth": 0,
             "ticks": ""
            },
            "colorscale": [
             [
              0,
              "#0d0887"
             ],
             [
              0.1111111111111111,
              "#46039f"
             ],
             [
              0.2222222222222222,
              "#7201a8"
             ],
             [
              0.3333333333333333,
              "#9c179e"
             ],
             [
              0.4444444444444444,
              "#bd3786"
             ],
             [
              0.5555555555555556,
              "#d8576b"
             ],
             [
              0.6666666666666666,
              "#ed7953"
             ],
             [
              0.7777777777777778,
              "#fb9f3a"
             ],
             [
              0.8888888888888888,
              "#fdca26"
             ],
             [
              1,
              "#f0f921"
             ]
            ],
            "type": "surface"
           }
          ],
          "table": [
           {
            "cells": {
             "fill": {
              "color": "#EBF0F8"
             },
             "line": {
              "color": "white"
             }
            },
            "header": {
             "fill": {
              "color": "#C8D4E3"
             },
             "line": {
              "color": "white"
             }
            },
            "type": "table"
           }
          ]
         },
         "layout": {
          "annotationdefaults": {
           "arrowcolor": "#2a3f5f",
           "arrowhead": 0,
           "arrowwidth": 1
          },
          "autotypenumbers": "strict",
          "coloraxis": {
           "colorbar": {
            "outlinewidth": 0,
            "ticks": ""
           }
          },
          "colorscale": {
           "diverging": [
            [
             0,
             "#8e0152"
            ],
            [
             0.1,
             "#c51b7d"
            ],
            [
             0.2,
             "#de77ae"
            ],
            [
             0.3,
             "#f1b6da"
            ],
            [
             0.4,
             "#fde0ef"
            ],
            [
             0.5,
             "#f7f7f7"
            ],
            [
             0.6,
             "#e6f5d0"
            ],
            [
             0.7,
             "#b8e186"
            ],
            [
             0.8,
             "#7fbc41"
            ],
            [
             0.9,
             "#4d9221"
            ],
            [
             1,
             "#276419"
            ]
           ],
           "sequential": [
            [
             0,
             "#0d0887"
            ],
            [
             0.1111111111111111,
             "#46039f"
            ],
            [
             0.2222222222222222,
             "#7201a8"
            ],
            [
             0.3333333333333333,
             "#9c179e"
            ],
            [
             0.4444444444444444,
             "#bd3786"
            ],
            [
             0.5555555555555556,
             "#d8576b"
            ],
            [
             0.6666666666666666,
             "#ed7953"
            ],
            [
             0.7777777777777778,
             "#fb9f3a"
            ],
            [
             0.8888888888888888,
             "#fdca26"
            ],
            [
             1,
             "#f0f921"
            ]
           ],
           "sequentialminus": [
            [
             0,
             "#0d0887"
            ],
            [
             0.1111111111111111,
             "#46039f"
            ],
            [
             0.2222222222222222,
             "#7201a8"
            ],
            [
             0.3333333333333333,
             "#9c179e"
            ],
            [
             0.4444444444444444,
             "#bd3786"
            ],
            [
             0.5555555555555556,
             "#d8576b"
            ],
            [
             0.6666666666666666,
             "#ed7953"
            ],
            [
             0.7777777777777778,
             "#fb9f3a"
            ],
            [
             0.8888888888888888,
             "#fdca26"
            ],
            [
             1,
             "#f0f921"
            ]
           ]
          },
          "colorway": [
           "#636efa",
           "#EF553B",
           "#00cc96",
           "#ab63fa",
           "#FFA15A",
           "#19d3f3",
           "#FF6692",
           "#B6E880",
           "#FF97FF",
           "#FECB52"
          ],
          "font": {
           "color": "#2a3f5f"
          },
          "geo": {
           "bgcolor": "white",
           "lakecolor": "white",
           "landcolor": "#E5ECF6",
           "showlakes": true,
           "showland": true,
           "subunitcolor": "white"
          },
          "hoverlabel": {
           "align": "left"
          },
          "hovermode": "closest",
          "mapbox": {
           "style": "light"
          },
          "paper_bgcolor": "white",
          "plot_bgcolor": "#E5ECF6",
          "polar": {
           "angularaxis": {
            "gridcolor": "white",
            "linecolor": "white",
            "ticks": ""
           },
           "bgcolor": "#E5ECF6",
           "radialaxis": {
            "gridcolor": "white",
            "linecolor": "white",
            "ticks": ""
           }
          },
          "scene": {
           "xaxis": {
            "backgroundcolor": "#E5ECF6",
            "gridcolor": "white",
            "gridwidth": 2,
            "linecolor": "white",
            "showbackground": true,
            "ticks": "",
            "zerolinecolor": "white"
           },
           "yaxis": {
            "backgroundcolor": "#E5ECF6",
            "gridcolor": "white",
            "gridwidth": 2,
            "linecolor": "white",
            "showbackground": true,
            "ticks": "",
            "zerolinecolor": "white"
           },
           "zaxis": {
            "backgroundcolor": "#E5ECF6",
            "gridcolor": "white",
            "gridwidth": 2,
            "linecolor": "white",
            "showbackground": true,
            "ticks": "",
            "zerolinecolor": "white"
           }
          },
          "shapedefaults": {
           "line": {
            "color": "#2a3f5f"
           }
          },
          "ternary": {
           "aaxis": {
            "gridcolor": "white",
            "linecolor": "white",
            "ticks": ""
           },
           "baxis": {
            "gridcolor": "white",
            "linecolor": "white",
            "ticks": ""
           },
           "bgcolor": "#E5ECF6",
           "caxis": {
            "gridcolor": "white",
            "linecolor": "white",
            "ticks": ""
           }
          },
          "title": {
           "x": 0.05
          },
          "xaxis": {
           "automargin": true,
           "gridcolor": "white",
           "linecolor": "white",
           "ticks": "",
           "title": {
            "standoff": 15
           },
           "zerolinecolor": "white",
           "zerolinewidth": 2
          },
          "yaxis": {
           "automargin": true,
           "gridcolor": "white",
           "linecolor": "white",
           "ticks": "",
           "title": {
            "standoff": 15
           },
           "zerolinecolor": "white",
           "zerolinewidth": 2
          }
         }
        },
        "title": {
         "text": "직위별 연령 분포 현황"
        },
        "updatemenus": [
         {
          "active": 0,
          "buttons": [
           {
            "args": [
             {
              "visible": [
               true,
               true,
               true,
               true,
               false,
               false,
               false,
               false,
               false,
               false,
               false,
               false,
               false,
               false,
               false,
               false,
               false
              ]
             },
             {
              "legend_title_text": "Division",
              "title": "전체 조직의 직위별 연령 분포"
             }
            ],
            "label": "전체",
            "method": "update"
           },
           {
            "args": [
             {
              "visible": [
               false,
               false,
               false,
               false,
               true,
               true,
               true,
               false,
               false,
               false,
               false,
               false,
               false,
               false,
               false,
               false,
               false
              ]
             },
             {
              "legend_title_text": "Office",
              "title": "Planning Division 내 직위별 연령 분포"
             }
            ],
            "label": "Planning Division",
            "method": "update"
           },
           {
            "args": [
             {
              "visible": [
               false,
               false,
               false,
               false,
               false,
               false,
               false,
               true,
               true,
               true,
               true,
               false,
               false,
               false,
               false,
               false,
               false
              ]
             },
             {
              "legend_title_text": "Office",
              "title": "Sales Division 내 직위별 연령 분포"
             }
            ],
            "label": "Sales Division",
            "method": "update"
           },
           {
            "args": [
             {
              "visible": [
               false,
               false,
               false,
               false,
               false,
               false,
               false,
               false,
               false,
               false,
               false,
               true,
               true,
               true,
               false,
               false,
               false
              ]
             },
             {
              "legend_title_text": "Office",
              "title": "Development Division 내 직위별 연령 분포"
             }
            ],
            "label": "Development Division",
            "method": "update"
           },
           {
            "args": [
             {
              "visible": [
               false,
               false,
               false,
               false,
               false,
               false,
               false,
               false,
               false,
               false,
               false,
               false,
               false,
               false,
               true,
               true,
               true
              ]
             },
             {
              "legend_title_text": "Office",
              "title": "Operating Division 내 직위별 연령 분포"
             }
            ],
            "label": "Operating Division",
            "method": "update"
           }
          ],
          "direction": "down",
          "pad": {
           "r": 10,
           "t": 10
          },
          "showactive": true,
          "x": 0.01,
          "xanchor": "left",
          "y": 1.1,
          "yanchor": "top"
         }
        ],
        "xaxis": {
         "title": {
          "text": "직위"
         }
        },
        "yaxis": {
         "range": [
          20,
          51
         ],
         "title": {
          "text": "연령"
         }
        }
       }
      }
     },
     "metadata": {},
     "output_type": "display_data"
    },
    {
     "name": "stdout",
     "output_type": "stream",
     "text": [
      "\n",
      "--- Aggregate DataFrame ---\n"
     ]
    },
    {
     "data": {
      "text/html": [
       "<div>\n",
       "<style scoped>\n",
       "    .dataframe tbody tr th:only-of-type {\n",
       "        vertical-align: middle;\n",
       "    }\n",
       "\n",
       "    .dataframe tbody tr th {\n",
       "        vertical-align: top;\n",
       "    }\n",
       "\n",
       "    .dataframe thead th {\n",
       "        text-align: right;\n",
       "    }\n",
       "</style>\n",
       "<table border=\"1\" class=\"dataframe\">\n",
       "  <thead>\n",
       "    <tr style=\"text-align: right;\">\n",
       "      <th>DIVISION_NAME</th>\n",
       "      <th>전체 평균</th>\n",
       "      <th>Planning Division</th>\n",
       "      <th>Sales Division</th>\n",
       "      <th>Development Division</th>\n",
       "      <th>Operating Division</th>\n",
       "    </tr>\n",
       "    <tr>\n",
       "      <th>POSITION_NAME</th>\n",
       "      <th></th>\n",
       "      <th></th>\n",
       "      <th></th>\n",
       "      <th></th>\n",
       "      <th></th>\n",
       "    </tr>\n",
       "  </thead>\n",
       "  <tbody>\n",
       "    <tr>\n",
       "      <th>Staff</th>\n",
       "      <td>30.73</td>\n",
       "      <td>30.4</td>\n",
       "      <td>31.58</td>\n",
       "      <td>29.83</td>\n",
       "      <td>30.7</td>\n",
       "    </tr>\n",
       "    <tr>\n",
       "      <th>Manager</th>\n",
       "      <td>36.73</td>\n",
       "      <td>35.8</td>\n",
       "      <td>37.33</td>\n",
       "      <td>35.79</td>\n",
       "      <td>38.11</td>\n",
       "    </tr>\n",
       "    <tr>\n",
       "      <th>Director</th>\n",
       "      <td>40.37</td>\n",
       "      <td>41.38</td>\n",
       "      <td>41.0</td>\n",
       "      <td>39.61</td>\n",
       "      <td>39.82</td>\n",
       "    </tr>\n",
       "    <tr>\n",
       "      <th>C-Level</th>\n",
       "      <td>42.00</td>\n",
       "      <td>-</td>\n",
       "      <td>-</td>\n",
       "      <td>42.00</td>\n",
       "      <td>-</td>\n",
       "    </tr>\n",
       "  </tbody>\n",
       "</table>\n",
       "</div>"
      ],
      "text/plain": [
       "DIVISION_NAME  전체 평균 Planning Division Sales Division  Development Division  \\\n",
       "POSITION_NAME                                                                 \n",
       "Staff          30.73              30.4          31.58                 29.83   \n",
       "Manager        36.73              35.8          37.33                 35.79   \n",
       "Director       40.37             41.38           41.0                 39.61   \n",
       "C-Level        42.00                 -              -                 42.00   \n",
       "\n",
       "DIVISION_NAME Operating Division  \n",
       "POSITION_NAME                     \n",
       "Staff                       30.7  \n",
       "Manager                    38.11  \n",
       "Director                   39.82  \n",
       "C-Level                        -  "
      ]
     },
     "execution_count": 2,
     "metadata": {},
     "output_type": "execute_result"
    }
   ],
   "source": [
    "import pandas as pd\n",
    "import numpy as np\n",
    "import plotly.graph_objects as go\n",
    "import plotly.io as pio\n",
    "import plotly.express as px\n",
    "import datetime\n",
    "\n",
    "# --- 1. 데이터 임포트 ---\n",
    "from services.tables.HR_Core.basic_info_table import emp_df\n",
    "from services.tables.HR_Core.position_info_table import position_info_df\n",
    "from services.tables.HR_Core.department_info_table import department_info_df\n",
    "from services.tables.HR_Core.position_table import position_df\n",
    "from services.tables.HR_Core.department_table import division_order, office_order, department_df\n",
    "from services.helpers.utils import calculate_age\n",
    "\n",
    "def create_figure_and_df():\n",
    "    \"\"\"\n",
    "    제안 3: 조직 세대교체 현황 분석 그래프 및 피벗 테이블을 생성합니다.\n",
    "    \"\"\"\n",
    "    # --- 2. 데이터 준비 및 가공 ---\n",
    "    current_emps_df = emp_df[emp_df['CURRENT_EMP_YN'] == 'Y'].copy()\n",
    "    current_emps_df['AGE'] = current_emps_df['PERSONAL_ID'].apply(calculate_age)\n",
    "\n",
    "    current_positions = position_info_df[position_info_df['GRADE_END_DATE'].isnull()][['EMP_ID', 'POSITION_ID']]\n",
    "    current_depts = department_info_df[department_info_df['DEP_APP_END_DATE'].isnull()][['EMP_ID', 'DEP_ID']]\n",
    "    \n",
    "    analysis_df = pd.merge(current_emps_df, current_positions, on='EMP_ID', how='left')\n",
    "    analysis_df = pd.merge(analysis_df, current_depts, on='EMP_ID', how='left')\n",
    "    analysis_df = pd.merge(analysis_df, position_df[['POSITION_ID', 'POSITION_NAME']].drop_duplicates(), on='POSITION_ID', how='left')\n",
    "\n",
    "    div_map = department_df[department_df['DEP_LEVEL'] == 2][['DEP_ID', 'DEP_NAME']].rename(columns={'DEP_NAME': 'DIVISION_NAME'})\n",
    "    office_map = pd.merge(department_df[department_df['DEP_LEVEL'] == 3], div_map, left_on='UP_DEP_ID', right_on='DEP_ID', suffixes=('', '_div'))[['DEP_ID', 'DIVISION_NAME']]\n",
    "    team_map = pd.merge(department_df[department_df['DEP_LEVEL'] == 4], office_map, left_on='UP_DEP_ID', right_on='DEP_ID', suffixes=('', '_office'))[['DEP_ID', 'DIVISION_NAME']]\n",
    "    dept_to_div_map = pd.concat([\n",
    "        div_map.rename(columns={'DEP_ID': 'DEP_ID_MAP'}),\n",
    "        office_map.rename(columns={'DEP_ID': 'DEP_ID_MAP'}),\n",
    "        team_map.rename(columns={'DEP_ID': 'DEP_ID_MAP'})\n",
    "    ]).rename(columns={'DEP_ID_MAP': 'DEP_ID'})\n",
    "    analysis_df = pd.merge(analysis_df, dept_to_div_map[['DEP_ID', 'DIVISION_NAME']], on='DEP_ID', how='left')\n",
    "    \n",
    "    analysis_df = pd.merge(analysis_df, department_df[['DEP_ID', 'DEP_NAME']], on='DEP_ID', how='left')\n",
    "    analysis_df['OFFICE_NAME'] = np.where(analysis_df['DEP_NAME'].str.contains('Office'), analysis_df['DEP_NAME'], analysis_df['DIVISION_NAME'] + ' (직속)')\n",
    "    \n",
    "    analysis_df = analysis_df.dropna(subset=['POSITION_NAME', 'DIVISION_NAME', 'AGE', 'OFFICE_NAME'])\n",
    "    \n",
    "    position_order = ['Staff', 'Manager', 'Director', 'C-Level']\n",
    "    analysis_df['POSITION_NAME'] = pd.Categorical(analysis_df['POSITION_NAME'], categories=position_order, ordered=True)\n",
    "    analysis_df['DIVISION_NAME'] = pd.Categorical(analysis_df['DIVISION_NAME'], categories=division_order, ordered=True)\n",
    "    analysis_df['OFFICE_NAME'] = pd.Categorical(analysis_df['OFFICE_NAME'], categories=office_order, ordered=True)\n",
    "    analysis_df = analysis_df.sort_values(['DIVISION_NAME', 'OFFICE_NAME', 'POSITION_NAME'])\n",
    "\n",
    "    y_min, y_max = analysis_df['AGE'].min(), analysis_df['AGE'].max()\n",
    "    fixed_y_range = [y_min - 5, y_max + 5]\n",
    "\n",
    "    # --- 3. Plotly 인터랙티브 그래프 생성 ---\n",
    "    # (그래프 생성 코드는 이전과 동일)\n",
    "    fig = go.Figure()\n",
    "    colors = px.colors.qualitative.Plotly\n",
    "    for i, div_name in enumerate(division_order):\n",
    "        df_filtered = analysis_df[analysis_df['DIVISION_NAME'] == div_name]\n",
    "        fig.add_trace(go.Box(x=df_filtered['POSITION_NAME'], y=df_filtered['AGE'], name=div_name, marker_color=colors[i]))\n",
    "    office_traces_map = {}\n",
    "    trace_idx_counter = len(fig.data)\n",
    "    for i, div_name in enumerate(division_order):\n",
    "        office_div_df = analysis_df[analysis_df['DIVISION_NAME'] == div_name]\n",
    "        offices_in_div = [o for o in office_order if o in office_div_df['OFFICE_NAME'].unique()]\n",
    "        office_traces_map[div_name] = []\n",
    "        for j, office_name in enumerate(offices_in_div):\n",
    "            df_filtered = office_div_df[office_div_df['OFFICE_NAME'] == office_name]\n",
    "            fig.add_trace(go.Box(\n",
    "                x=df_filtered['POSITION_NAME'], y=df_filtered['AGE'], name=office_name, \n",
    "                visible=False, marker_color=colors[j % len(colors)]\n",
    "            ))\n",
    "            office_traces_map[div_name].append(trace_idx_counter)\n",
    "            trace_idx_counter += 1\n",
    "    buttons = []\n",
    "    buttons.append(dict(label='전체', method='update', \n",
    "                        args=[{'visible': [True]*len(division_order) + [False]*(len(fig.data)-len(division_order))},\n",
    "                              {'title': '전체 조직의 직위별 연령 분포', 'legend_title_text': 'Division'}]))\n",
    "    for div_name in division_order:\n",
    "        visibility_mask = [False] * len(fig.data)\n",
    "        for trace_idx in office_traces_map.get(div_name, []):\n",
    "            visibility_mask[trace_idx] = True\n",
    "        buttons.append(dict(label=f'{div_name}', method='update',\n",
    "                            args=[{'visible': visibility_mask},\n",
    "                                  {'title': f'{div_name} 내 직위별 연령 분포', 'legend_title_text': 'Office'}]))\n",
    "    fig.update_layout(\n",
    "        updatemenus=[dict(\n",
    "            active=0, buttons=buttons, direction=\"down\",\n",
    "            pad={\"r\": 10, \"t\": 10}, showactive=True,\n",
    "            x=0.01, xanchor=\"left\", y=1.1, yanchor=\"top\"\n",
    "        )],\n",
    "        title_text='직위별 연령 분포 현황',\n",
    "        xaxis_title='직위', yaxis_title='연령',\n",
    "        font_size=14, height=700,\n",
    "        boxmode='group',\n",
    "        legend_title_text='Division',\n",
    "        annotations=[dict(text=\"조직 선택:\", showarrow=False, x=0, y=1.08, yref=\"paper\", align=\"left\")],\n",
    "        yaxis_range=fixed_y_range\n",
    "    )\n",
    "    \n",
    "    # --- 수정된 부분: aggregate_df 생성 ---\n",
    "    aggregate_df = analysis_df.pivot_table(\n",
    "        index='POSITION_NAME',\n",
    "        columns='DIVISION_NAME',\n",
    "        values='AGE',\n",
    "        aggfunc='mean',\n",
    "        observed=False\n",
    "    )\n",
    "\n",
    "    # 2. '전체 평균' 컬럼 추가\n",
    "    aggregate_df['전체 평균'] = analysis_df.groupby('POSITION_NAME', observed=False)['AGE'].mean()\n",
    "    \n",
    "    # 3. 컬럼 순서 재배치\n",
    "    cols = ['전체 평균'] + [col for col in division_order if col in aggregate_df.columns]\n",
    "    aggregate_df = aggregate_df[cols]\n",
    "\n",
    "    # 4. 포맷팅\n",
    "    aggregate_df = aggregate_df.round(2).fillna('-')\n",
    "    \n",
    "    return fig, aggregate_df\n",
    "\n",
    "# --- 실행 코드 ---\n",
    "pio.renderers.default = 'vscode'\n",
    "fig, aggregate_df = create_figure_and_df()\n",
    "fig.show()\n",
    "\n",
    "print(\"\\n--- Aggregate DataFrame ---\")\n",
    "aggregate_df"
   ]
  },
  {
   "cell_type": "code",
   "execution_count": null,
   "id": "09506ef8",
   "metadata": {},
   "outputs": [],
   "source": []
  }
 ],
 "metadata": {
  "kernelspec": {
   "display_name": "Python 3 (ipykernel)",
   "language": "python",
   "name": "python3"
  },
  "language_info": {
   "codemirror_mode": {
    "name": "ipython",
    "version": 3
   },
   "file_extension": ".py",
   "mimetype": "text/x-python",
   "name": "python",
   "nbconvert_exporter": "python",
   "pygments_lexer": "ipython3",
   "version": "3.12.11"
  }
 },
 "nbformat": 4,
 "nbformat_minor": 5
}
