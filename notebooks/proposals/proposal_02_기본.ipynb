{
 "cells": [
  {
   "cell_type": "code",
   "execution_count": null,
   "id": "c63fad85",
   "metadata": {},
   "outputs": [
    {
     "data": {
      "application/vnd.plotly.v1+json": {
       "config": {
        "plotlyServerURL": "https://plot.ly"
       },
       "data": [
        {
         "link": {
          "source": {
           "bdata": "BgYHBwcHCQkKCgoKAAAAAQEBAQMDAwQEBAQ=",
           "dtype": "i1"
          },
          "target": {
           "bdata": "CAUGCQADCAsGCQADCAIFBgkAAwgLBQYJAAM=",
           "dtype": "i1"
          },
          "value": {
           "bdata": "DQElBwYHAQgDMQEEAQ4BAgMpBAEBEwMGBjY=",
           "dtype": "i1"
          }
         },
         "node": {
          "label": [
           "Planning Division (Manager)",
           "Planning Division (Staff)",
           "Planning Division (Director)",
           "Sales Division (Manager)",
           "Sales Division (Staff)",
           "Sales Division (Director)",
           "Development Division (Manager)",
           "Development Division (Staff)",
           "Development Division (Director)",
           "Operating Division (Manager)",
           "Operating Division (Staff)",
           "Operating Division (Director)"
          ],
          "pad": 15,
          "thickness": 20
         },
         "type": "sankey",
         "visible": true
        },
        {
         "link": {
          "source": {
           "bdata": "AQEBAgICAgQEBQUHBwcHCAgICAoLCwsNDQ0NDQ4ODg4=",
           "dtype": "i1"
          },
          "target": {
           "bdata": "AAMGAQQKDQMGAQQAAwYMBAcKDQkBCg0AAwYJDAEHCg0=",
           "dtype": "i1"
          },
          "value": {
           "bdata": "DwECPAEEAgUBAggBAQoCAzABAgYDIwIBAQEBDAIFATY=",
           "dtype": "i1"
          }
         },
         "node": {
          "label": [
           "IT (Director)",
           "IT (Manager)",
           "IT (Staff)",
           "Management Support (Director)",
           "Management Support (Manager)",
           "Management Support (Staff)",
           "Planning (Director)",
           "Planning (Manager)",
           "Planning (Staff)",
           "Production & Engineering (Director)",
           "Production & Engineering (Manager)",
           "Production & Engineering (Staff)",
           "Sales & Marketing (Director)",
           "Sales & Marketing (Manager)",
           "Sales & Marketing (Staff)"
          ],
          "pad": 15,
          "thickness": 20
         },
         "type": "sankey",
         "visible": false
        }
       ],
       "layout": {
        "font": {
         "size": 12
        },
        "height": 800,
        "template": {
         "data": {
          "bar": [
           {
            "error_x": {
             "color": "#2a3f5f"
            },
            "error_y": {
             "color": "#2a3f5f"
            },
            "marker": {
             "line": {
              "color": "#E5ECF6",
              "width": 0.5
             },
             "pattern": {
              "fillmode": "overlay",
              "size": 10,
              "solidity": 0.2
             }
            },
            "type": "bar"
           }
          ],
          "barpolar": [
           {
            "marker": {
             "line": {
              "color": "#E5ECF6",
              "width": 0.5
             },
             "pattern": {
              "fillmode": "overlay",
              "size": 10,
              "solidity": 0.2
             }
            },
            "type": "barpolar"
           }
          ],
          "carpet": [
           {
            "aaxis": {
             "endlinecolor": "#2a3f5f",
             "gridcolor": "white",
             "linecolor": "white",
             "minorgridcolor": "white",
             "startlinecolor": "#2a3f5f"
            },
            "baxis": {
             "endlinecolor": "#2a3f5f",
             "gridcolor": "white",
             "linecolor": "white",
             "minorgridcolor": "white",
             "startlinecolor": "#2a3f5f"
            },
            "type": "carpet"
           }
          ],
          "choropleth": [
           {
            "colorbar": {
             "outlinewidth": 0,
             "ticks": ""
            },
            "type": "choropleth"
           }
          ],
          "contour": [
           {
            "colorbar": {
             "outlinewidth": 0,
             "ticks": ""
            },
            "colorscale": [
             [
              0,
              "#0d0887"
             ],
             [
              0.1111111111111111,
              "#46039f"
             ],
             [
              0.2222222222222222,
              "#7201a8"
             ],
             [
              0.3333333333333333,
              "#9c179e"
             ],
             [
              0.4444444444444444,
              "#bd3786"
             ],
             [
              0.5555555555555556,
              "#d8576b"
             ],
             [
              0.6666666666666666,
              "#ed7953"
             ],
             [
              0.7777777777777778,
              "#fb9f3a"
             ],
             [
              0.8888888888888888,
              "#fdca26"
             ],
             [
              1,
              "#f0f921"
             ]
            ],
            "type": "contour"
           }
          ],
          "contourcarpet": [
           {
            "colorbar": {
             "outlinewidth": 0,
             "ticks": ""
            },
            "type": "contourcarpet"
           }
          ],
          "heatmap": [
           {
            "colorbar": {
             "outlinewidth": 0,
             "ticks": ""
            },
            "colorscale": [
             [
              0,
              "#0d0887"
             ],
             [
              0.1111111111111111,
              "#46039f"
             ],
             [
              0.2222222222222222,
              "#7201a8"
             ],
             [
              0.3333333333333333,
              "#9c179e"
             ],
             [
              0.4444444444444444,
              "#bd3786"
             ],
             [
              0.5555555555555556,
              "#d8576b"
             ],
             [
              0.6666666666666666,
              "#ed7953"
             ],
             [
              0.7777777777777778,
              "#fb9f3a"
             ],
             [
              0.8888888888888888,
              "#fdca26"
             ],
             [
              1,
              "#f0f921"
             ]
            ],
            "type": "heatmap"
           }
          ],
          "histogram": [
           {
            "marker": {
             "pattern": {
              "fillmode": "overlay",
              "size": 10,
              "solidity": 0.2
             }
            },
            "type": "histogram"
           }
          ],
          "histogram2d": [
           {
            "colorbar": {
             "outlinewidth": 0,
             "ticks": ""
            },
            "colorscale": [
             [
              0,
              "#0d0887"
             ],
             [
              0.1111111111111111,
              "#46039f"
             ],
             [
              0.2222222222222222,
              "#7201a8"
             ],
             [
              0.3333333333333333,
              "#9c179e"
             ],
             [
              0.4444444444444444,
              "#bd3786"
             ],
             [
              0.5555555555555556,
              "#d8576b"
             ],
             [
              0.6666666666666666,
              "#ed7953"
             ],
             [
              0.7777777777777778,
              "#fb9f3a"
             ],
             [
              0.8888888888888888,
              "#fdca26"
             ],
             [
              1,
              "#f0f921"
             ]
            ],
            "type": "histogram2d"
           }
          ],
          "histogram2dcontour": [
           {
            "colorbar": {
             "outlinewidth": 0,
             "ticks": ""
            },
            "colorscale": [
             [
              0,
              "#0d0887"
             ],
             [
              0.1111111111111111,
              "#46039f"
             ],
             [
              0.2222222222222222,
              "#7201a8"
             ],
             [
              0.3333333333333333,
              "#9c179e"
             ],
             [
              0.4444444444444444,
              "#bd3786"
             ],
             [
              0.5555555555555556,
              "#d8576b"
             ],
             [
              0.6666666666666666,
              "#ed7953"
             ],
             [
              0.7777777777777778,
              "#fb9f3a"
             ],
             [
              0.8888888888888888,
              "#fdca26"
             ],
             [
              1,
              "#f0f921"
             ]
            ],
            "type": "histogram2dcontour"
           }
          ],
          "mesh3d": [
           {
            "colorbar": {
             "outlinewidth": 0,
             "ticks": ""
            },
            "type": "mesh3d"
           }
          ],
          "parcoords": [
           {
            "line": {
             "colorbar": {
              "outlinewidth": 0,
              "ticks": ""
             }
            },
            "type": "parcoords"
           }
          ],
          "pie": [
           {
            "automargin": true,
            "type": "pie"
           }
          ],
          "scatter": [
           {
            "fillpattern": {
             "fillmode": "overlay",
             "size": 10,
             "solidity": 0.2
            },
            "type": "scatter"
           }
          ],
          "scatter3d": [
           {
            "line": {
             "colorbar": {
              "outlinewidth": 0,
              "ticks": ""
             }
            },
            "marker": {
             "colorbar": {
              "outlinewidth": 0,
              "ticks": ""
             }
            },
            "type": "scatter3d"
           }
          ],
          "scattercarpet": [
           {
            "marker": {
             "colorbar": {
              "outlinewidth": 0,
              "ticks": ""
             }
            },
            "type": "scattercarpet"
           }
          ],
          "scattergeo": [
           {
            "marker": {
             "colorbar": {
              "outlinewidth": 0,
              "ticks": ""
             }
            },
            "type": "scattergeo"
           }
          ],
          "scattergl": [
           {
            "marker": {
             "colorbar": {
              "outlinewidth": 0,
              "ticks": ""
             }
            },
            "type": "scattergl"
           }
          ],
          "scattermap": [
           {
            "marker": {
             "colorbar": {
              "outlinewidth": 0,
              "ticks": ""
             }
            },
            "type": "scattermap"
           }
          ],
          "scattermapbox": [
           {
            "marker": {
             "colorbar": {
              "outlinewidth": 0,
              "ticks": ""
             }
            },
            "type": "scattermapbox"
           }
          ],
          "scatterpolar": [
           {
            "marker": {
             "colorbar": {
              "outlinewidth": 0,
              "ticks": ""
             }
            },
            "type": "scatterpolar"
           }
          ],
          "scatterpolargl": [
           {
            "marker": {
             "colorbar": {
              "outlinewidth": 0,
              "ticks": ""
             }
            },
            "type": "scatterpolargl"
           }
          ],
          "scatterternary": [
           {
            "marker": {
             "colorbar": {
              "outlinewidth": 0,
              "ticks": ""
             }
            },
            "type": "scatterternary"
           }
          ],
          "surface": [
           {
            "colorbar": {
             "outlinewidth": 0,
             "ticks": ""
            },
            "colorscale": [
             [
              0,
              "#0d0887"
             ],
             [
              0.1111111111111111,
              "#46039f"
             ],
             [
              0.2222222222222222,
              "#7201a8"
             ],
             [
              0.3333333333333333,
              "#9c179e"
             ],
             [
              0.4444444444444444,
              "#bd3786"
             ],
             [
              0.5555555555555556,
              "#d8576b"
             ],
             [
              0.6666666666666666,
              "#ed7953"
             ],
             [
              0.7777777777777778,
              "#fb9f3a"
             ],
             [
              0.8888888888888888,
              "#fdca26"
             ],
             [
              1,
              "#f0f921"
             ]
            ],
            "type": "surface"
           }
          ],
          "table": [
           {
            "cells": {
             "fill": {
              "color": "#EBF0F8"
             },
             "line": {
              "color": "white"
             }
            },
            "header": {
             "fill": {
              "color": "#C8D4E3"
             },
             "line": {
              "color": "white"
             }
            },
            "type": "table"
           }
          ]
         },
         "layout": {
          "annotationdefaults": {
           "arrowcolor": "#2a3f5f",
           "arrowhead": 0,
           "arrowwidth": 1
          },
          "autotypenumbers": "strict",
          "coloraxis": {
           "colorbar": {
            "outlinewidth": 0,
            "ticks": ""
           }
          },
          "colorscale": {
           "diverging": [
            [
             0,
             "#8e0152"
            ],
            [
             0.1,
             "#c51b7d"
            ],
            [
             0.2,
             "#de77ae"
            ],
            [
             0.3,
             "#f1b6da"
            ],
            [
             0.4,
             "#fde0ef"
            ],
            [
             0.5,
             "#f7f7f7"
            ],
            [
             0.6,
             "#e6f5d0"
            ],
            [
             0.7,
             "#b8e186"
            ],
            [
             0.8,
             "#7fbc41"
            ],
            [
             0.9,
             "#4d9221"
            ],
            [
             1,
             "#276419"
            ]
           ],
           "sequential": [
            [
             0,
             "#0d0887"
            ],
            [
             0.1111111111111111,
             "#46039f"
            ],
            [
             0.2222222222222222,
             "#7201a8"
            ],
            [
             0.3333333333333333,
             "#9c179e"
            ],
            [
             0.4444444444444444,
             "#bd3786"
            ],
            [
             0.5555555555555556,
             "#d8576b"
            ],
            [
             0.6666666666666666,
             "#ed7953"
            ],
            [
             0.7777777777777778,
             "#fb9f3a"
            ],
            [
             0.8888888888888888,
             "#fdca26"
            ],
            [
             1,
             "#f0f921"
            ]
           ],
           "sequentialminus": [
            [
             0,
             "#0d0887"
            ],
            [
             0.1111111111111111,
             "#46039f"
            ],
            [
             0.2222222222222222,
             "#7201a8"
            ],
            [
             0.3333333333333333,
             "#9c179e"
            ],
            [
             0.4444444444444444,
             "#bd3786"
            ],
            [
             0.5555555555555556,
             "#d8576b"
            ],
            [
             0.6666666666666666,
             "#ed7953"
            ],
            [
             0.7777777777777778,
             "#fb9f3a"
            ],
            [
             0.8888888888888888,
             "#fdca26"
            ],
            [
             1,
             "#f0f921"
            ]
           ]
          },
          "colorway": [
           "#636efa",
           "#EF553B",
           "#00cc96",
           "#ab63fa",
           "#FFA15A",
           "#19d3f3",
           "#FF6692",
           "#B6E880",
           "#FF97FF",
           "#FECB52"
          ],
          "font": {
           "color": "#2a3f5f"
          },
          "geo": {
           "bgcolor": "white",
           "lakecolor": "white",
           "landcolor": "#E5ECF6",
           "showlakes": true,
           "showland": true,
           "subunitcolor": "white"
          },
          "hoverlabel": {
           "align": "left"
          },
          "hovermode": "closest",
          "mapbox": {
           "style": "light"
          },
          "paper_bgcolor": "white",
          "plot_bgcolor": "#E5ECF6",
          "polar": {
           "angularaxis": {
            "gridcolor": "white",
            "linecolor": "white",
            "ticks": ""
           },
           "bgcolor": "#E5ECF6",
           "radialaxis": {
            "gridcolor": "white",
            "linecolor": "white",
            "ticks": ""
           }
          },
          "scene": {
           "xaxis": {
            "backgroundcolor": "#E5ECF6",
            "gridcolor": "white",
            "gridwidth": 2,
            "linecolor": "white",
            "showbackground": true,
            "ticks": "",
            "zerolinecolor": "white"
           },
           "yaxis": {
            "backgroundcolor": "#E5ECF6",
            "gridcolor": "white",
            "gridwidth": 2,
            "linecolor": "white",
            "showbackground": true,
            "ticks": "",
            "zerolinecolor": "white"
           },
           "zaxis": {
            "backgroundcolor": "#E5ECF6",
            "gridcolor": "white",
            "gridwidth": 2,
            "linecolor": "white",
            "showbackground": true,
            "ticks": "",
            "zerolinecolor": "white"
           }
          },
          "shapedefaults": {
           "line": {
            "color": "#2a3f5f"
           }
          },
          "ternary": {
           "aaxis": {
            "gridcolor": "white",
            "linecolor": "white",
            "ticks": ""
           },
           "baxis": {
            "gridcolor": "white",
            "linecolor": "white",
            "ticks": ""
           },
           "bgcolor": "#E5ECF6",
           "caxis": {
            "gridcolor": "white",
            "linecolor": "white",
            "ticks": ""
           }
          },
          "title": {
           "x": 0.05
          },
          "xaxis": {
           "automargin": true,
           "gridcolor": "white",
           "linecolor": "white",
           "ticks": "",
           "title": {
            "standoff": 15
           },
           "zerolinecolor": "white",
           "zerolinewidth": 2
          },
          "yaxis": {
           "automargin": true,
           "gridcolor": "white",
           "linecolor": "white",
           "ticks": "",
           "title": {
            "standoff": 15
           },
           "zerolinecolor": "white",
           "zerolinewidth": 2
          }
         }
        },
        "title": {
         "text": "핵심 인재 승진 경로 분석 (드릴다운)"
        },
        "updatemenus": [
         {
          "buttons": [
           {
            "args": [
             {
              "visible": [
               true,
               false
              ]
             }
            ],
            "label": "Division Level",
            "method": "update"
           },
           {
            "args": [
             {
              "visible": [
               false,
               true
              ]
             }
            ],
            "label": "Job Level 1",
            "method": "update"
           }
          ],
          "direction": "down",
          "pad": {
           "r": 10,
           "t": 10
          },
          "showactive": true,
          "x": 0.01,
          "xanchor": "left",
          "y": 1.1,
          "yanchor": "top"
         }
        ]
       }
      }
     },
     "metadata": {},
     "output_type": "display_data"
    }
   ],
   "source": [
    "import pandas as pd\n",
    "import numpy as np\n",
    "import plotly.graph_objects as go\n",
    "import plotly.io as pio\n",
    "\n",
    "# --- 1. 데이터 임포트 ---\n",
    "from services.tables.HR_Core.position_info_table import position_info_df\n",
    "from services.tables.HR_Core.position_table import position_df\n",
    "from services.tables.HR_Core.department_info_table import department_info_df\n",
    "from services.tables.HR_Core.job_info_table import job_info_df\n",
    "from services.tables.HR_Core.job_table import job_df, job_df_indexed, parent_map_job\n",
    "from services.tables.HR_Core.department_table import division_order, dept_level_map, parent_map_dept, dept_name_map\n",
    "from services.helpers.utils import find_division_name_for_dept, get_level1_ancestor\n",
    "\n",
    "def create_figure():\n",
    "    \"\"\"\n",
    "    제안 2: 차세대 리더 승진 경로 분석 그래프를 생성합니다.\n",
    "    \"\"\"\n",
    "    pos_info = position_info_df.copy()\n",
    "    pos_info = pd.merge(pos_info, position_df[['POSITION_ID', 'POSITION_NAME']].drop_duplicates(), on='POSITION_ID')\n",
    "    dept_info = department_info_df.copy()\n",
    "    job_info = job_info_df.copy()\n",
    "\n",
    "    dept_info_sorted = dept_info.sort_values(['EMP_ID', 'DEP_APP_START_DATE'])\n",
    "    job_info_sorted = job_info.sort_values(['EMP_ID', 'JOB_APP_START_DATE'])\n",
    "    job_l1_map = job_df[job_df['JOB_LEVEL'] == 1].set_index('JOB_ID')['JOB_NAME'].to_dict()\n",
    "\n",
    "    def get_promotion_path_div_and_job(employee_id, promotion_to):\n",
    "        emp_pos_history = pos_info[pos_info['EMP_ID'] == employee_id].sort_values('GRADE_START_DATE')\n",
    "        promo_event_df = emp_pos_history[emp_pos_history['POSITION_NAME'] == promotion_to]\n",
    "        if promo_event_df.empty: return None\n",
    "        promo_event = promo_event_df.iloc[0]\n",
    "\n",
    "        prev_pos_name = 'Staff' if promotion_to == 'Manager' else 'Manager'\n",
    "        prev_pos_events = emp_pos_history[(emp_pos_history['POSITION_NAME'] == prev_pos_name) & (emp_pos_history['GRADE_START_DATE'] < promo_event['GRADE_START_DATE'])]\n",
    "        if prev_pos_events.empty: return None\n",
    "\n",
    "        prev_pos_event_date = prev_pos_events.iloc[-1]['GRADE_START_DATE']\n",
    "        promo_event_date = promo_event['GRADE_START_DATE']\n",
    "\n",
    "        emp_dept_history = dept_info_sorted[dept_info_sorted['EMP_ID'] == employee_id]\n",
    "        emp_job_history = job_info_sorted[job_info_sorted['EMP_ID'] == employee_id]\n",
    "        \n",
    "        dept_before_df = emp_dept_history[emp_dept_history['DEP_APP_START_DATE'] <= prev_pos_event_date]\n",
    "        dept_after_df = emp_dept_history[emp_dept_history['DEP_APP_START_DATE'] <= promo_event_date]\n",
    "        job_before_df = emp_job_history[emp_job_history['JOB_APP_START_DATE'] <= prev_pos_event_date]\n",
    "        job_after_df = emp_job_history[emp_job_history['JOB_APP_START_DATE'] <= promo_event_date]\n",
    "\n",
    "        if any(df.empty for df in [dept_before_df, dept_after_df, job_before_df, job_after_df]): return None\n",
    "        \n",
    "        dept_before, dept_after = dept_before_df.iloc[-1], dept_after_df.iloc[-1]\n",
    "        job_before, job_after = job_before_df.iloc[-1], job_after_df.iloc[-1]\n",
    "\n",
    "        # --- 수정된 부분 2: 함수 호출 시 필요한 인수들을 모두 전달 ---\n",
    "        div_before = find_division_name_for_dept(dept_before['DEP_ID'], dept_level_map, parent_map_dept, dept_name_map)\n",
    "        div_after = find_division_name_for_dept(dept_after['DEP_ID'], dept_level_map, parent_map_dept, dept_name_map)\n",
    "        # --- 수정 완료 ---\n",
    "        job_l1_before = job_l1_map.get(get_level1_ancestor(job_before['JOB_ID'], job_df_indexed, parent_map_job))\n",
    "        job_l1_after = job_l1_map.get(get_level1_ancestor(job_after['JOB_ID'], job_df_indexed, parent_map_job))\n",
    "\n",
    "        if all([div_before, div_after, job_l1_before, job_l1_after]):\n",
    "            return {\n",
    "                \"from_div\": f\"{div_before} ({prev_pos_name})\", \"to_div\": f\"{div_after} ({promotion_to})\",\n",
    "                \"from_job\": f\"{job_l1_before} ({prev_pos_name})\", \"to_job\": f\"{job_l1_after} ({promotion_to})\",\n",
    "            }\n",
    "        return None\n",
    "\n",
    "    all_transitions = []\n",
    "    manager_ids = pos_info[pos_info['POSITION_NAME'] == 'Manager']['EMP_ID'].unique()\n",
    "    director_ids = pos_info[pos_info['POSITION_NAME'] == 'Director']['EMP_ID'].unique()\n",
    "\n",
    "    for emp_id in manager_ids:\n",
    "        path = get_promotion_path_div_and_job(emp_id, 'Manager')\n",
    "        if path: all_transitions.append(path)\n",
    "    for emp_id in director_ids:\n",
    "        path = get_promotion_path_div_and_job(emp_id, 'Director')\n",
    "        if path: all_transitions.append(path)\n",
    "\n",
    "    if not all_transitions:\n",
    "        return go.Figure().update_layout(title_text=\"분석할 승진 경로 데이터가 없습니다.\")\n",
    "\n",
    "    transitions_df = pd.DataFrame(all_transitions)\n",
    "    \n",
    "    sankey_div = transitions_df.groupby(['from_div', 'to_div']).size().reset_index(name='value')\n",
    "    all_div_nodes_unsorted = pd.concat([sankey_div['from_div'], sankey_div['to_div']]).unique()\n",
    "    div_map = {f\"{div} ({pos})\": i for i, div in enumerate(division_order) for pos in ['Staff', 'Manager', 'Director']}\n",
    "    labels_div = sorted(all_div_nodes_unsorted, key=lambda x: div_map.get(x, 99))\n",
    "    indices_div = {label: i for i, label in enumerate(labels_div)}\n",
    "\n",
    "    sankey_job = transitions_df.groupby(['from_job', 'to_job']).size().reset_index(name='value')\n",
    "    labels_job = sorted(pd.concat([sankey_job['from_job'], sankey_job['to_job']]).unique())\n",
    "    indices_job = {label: i for i, label in enumerate(labels_job)}\n",
    "\n",
    "    fig = go.Figure()\n",
    "    fig.add_trace(go.Sankey(\n",
    "        node=dict(pad=15, thickness=20, label=labels_div),\n",
    "        link=dict(source=sankey_div['from_div'].map(indices_div), target=sankey_div['to_div'].map(indices_div), value=sankey_div['value']),\n",
    "        visible=True\n",
    "    ))\n",
    "    fig.add_trace(go.Sankey(\n",
    "        node=dict(pad=15, thickness=20, label=labels_job),\n",
    "        link=dict(source=sankey_job['from_job'].map(indices_job), target=sankey_job['to_job'].map(indices_job), value=sankey_job['value']),\n",
    "        visible=False\n",
    "    ))\n",
    "\n",
    "    fig.update_layout(\n",
    "        updatemenus=[dict(\n",
    "            buttons=[\n",
    "                dict(label='Division Level', method='update', args=[{'visible': [True, False]}]),\n",
    "                dict(label='Job Level', method='update', args=[{'visible': [False, True]}])\n",
    "            ],\n",
    "            direction=\"down\", pad={\"r\": 10, \"t\": 10},\n",
    "            showactive=True, x=0.01, xanchor=\"left\", y=1.1, yanchor=\"top\"\n",
    "        )],\n",
    "        title_text=\"핵심 인재 승진 경로 분석\",\n",
    "        font_size=12, height=800\n",
    "    )\n",
    "    \n",
    "    return fig\n",
    "\n",
    "pio.renderers.default = 'vscode'\n",
    "fig = create_figure()\n",
    "fig.show()"
   ]
  },
  {
   "cell_type": "code",
   "execution_count": null,
   "id": "6838719b",
   "metadata": {},
   "outputs": [],
   "source": []
  }
 ],
 "metadata": {
  "kernelspec": {
   "display_name": "Python 3 (ipykernel)",
   "language": "python",
   "name": "python3"
  }
 },
 "nbformat": 4,
 "nbformat_minor": 5
}
