{
 "cells": [
  {
   "cell_type": "code",
   "execution_count": 1,
   "id": "bcaf3d8c",
   "metadata": {},
   "outputs": [
    {
     "data": {
      "application/vnd.plotly.v1+json": {
       "config": {
        "plotlyServerURL": "https://plot.ly"
       },
       "data": [
        {
         "line": {
          "color": "black",
          "dash": "dot"
         },
         "mode": "lines+markers+text",
         "name": "전사 평균",
         "text": [
          "7.95%",
          "5.59%",
          "3.69%",
          "4.46%",
          "8.26%",
          "7.86%",
          "7.62%",
          "7.85%",
          "8.21%",
          "7.51%",
          "10.36%",
          "8.26%",
          "10.62%",
          "11.32%"
         ],
         "textposition": "top center",
         "type": "scatter",
         "visible": true,
         "x": {
          "bdata": "2wcAANwHAADdBwAA3gcAAN8HAADgBwAA4QcAAOIHAADjBwAA5AcAAOUHAADmBwAA5wcAAOgHAAA=",
          "dtype": "i4"
         },
         "y": {
          "bdata": "0UUXXXTRH0AdLgM+OVwWQOz4dfw6fg1AZqkGnQfYEUA5iB7fhYMgQBp6UEyybx9AM9CTM4J3HkB2CfCKpWgfQL2G8hrKayBA2RakVDEFHkD9VQnFt7okQG/1PUOkgiBAsdJTCys9JUAU1vDO6KUmQA==",
          "dtype": "f8"
         }
        },
        {
         "line": {
          "color": "#636EFA"
         },
         "mode": "lines+markers+text",
         "name": "IT",
         "text": [
          "11.11%",
          "2.44%",
          "0.0%",
          "4.48%",
          "7.32%",
          "6.59%",
          "8.0%",
          "9.17%",
          "11.86%",
          "7.56%",
          "10.48%",
          "5.98%",
          "7.32%",
          "7.09%"
         ],
         "textposition": "top center",
         "type": "scatter",
         "visible": false,
         "x": {
          "bdata": "2wcAANwHAADdBwAA3gcAAN8HAADgBwAA4QcAAOIHAADjBwAA5AcAAOUHAADmBwAA5wcAAOgHAAA=",
          "dtype": "i4"
         },
         "y": {
          "bdata": "juM4juM4JkCD8zE4H4MDQAAAAAAAAAAAdgu/GhPpEUBE7UrUrkQdQPulX/qlXxpAAAAAAAAAIECUJbBpP1kiQGQrgoaTuidArolArolAHkD43nvvvfckQOh+7ud+7hdARO1K1K5EHUAWi8VisVgcQA==",
          "dtype": "f8"
         }
        },
        {
         "line": {
          "color": "#EF553B"
         },
         "mode": "lines+markers+text",
         "name": "Management Support",
         "text": [
          "0.0%",
          "8.33%",
          "0.0%",
          "12.0%",
          "7.41%",
          "3.23%",
          "8.11%",
          "0.0%",
          "14.89%",
          "6.98%",
          "15.22%",
          "9.3%",
          "2.0%",
          "9.26%"
         ],
         "textposition": "top center",
         "type": "scatter",
         "visible": false,
         "x": {
          "bdata": "2wcAANwHAADdBwAA3gcAAN8HAADgBwAA4QcAAOIHAADjBwAA5AcAAOUHAADmBwAA5wcAAOgHAAA=",
          "dtype": "i4"
         },
         "y": {
          "bdata": "AAAAAAAAAACqqqqqqqogQAAAAAAAAAAAAAAAAAAAKEAS2ktoL6EdQM4555xzzglAdoMp8lk3IEAAAAAAAAAAAFcQkyuIyS1A+oK+oC/oG0CoN73pTW8uQKesKWvKmiJAAAAAAAAAAEBMaC+hvYQiQA==",
          "dtype": "f8"
         }
        },
        {
         "line": {
          "color": "#00CC96"
         },
         "mode": "lines+markers+text",
         "name": "Planning",
         "text": [
          "16.67%",
          "3.45%",
          "4.76%",
          "0.0%",
          "7.69%",
          "6.52%",
          "5.1%",
          "11.32%",
          "4.76%",
          "9.17%",
          "6.61%",
          "13.08%",
          "14.29%",
          "12.12%"
         ],
         "textposition": "top center",
         "type": "scatter",
         "visible": false,
         "x": {
          "bdata": "2wcAANwHAADdBwAA3gcAAN8HAADgBwAA4QcAAOIHAADjBwAA5AcAAOUHAADmBwAA5wcAAOgHAAA=",
          "dtype": "i4"
         },
         "y": {
          "bdata": "qqqqqqqqMEAaYbmnEZYLQMMwDMMwDBNAAAAAAAAAAABP7MRO7MQeQCELWchCFhpAGutDY31oFECD8Vb2OaQmQMMwDMMwDBNAlCWwaT9ZIkChVJh4P3IaQHdiJ3ZiJypAJEmSJEmSLEA++OCDDz4oQA==",
          "dtype": "f8"
         }
        },
        {
         "line": {
          "color": "#AB63FA"
         },
         "mode": "lines+markers+text",
         "name": "Production & Engineering",
         "text": [
          "0.0%",
          "2.38%",
          "5.88%",
          "5.17%",
          "8.57%",
          "11.69%",
          "5.13%",
          "7.06%",
          "6.38%",
          "7.69%",
          "5.66%",
          "8.85%",
          "8.33%",
          "14.88%"
         ],
         "textposition": "top center",
         "type": "scatter",
         "visible": false,
         "x": {
          "bdata": "2wcAANwHAADdBwAA3gcAAN8HAADgBwAA4QcAAOIHAADjBwAA5AcAAOUHAADmBwAA5wcAAOgHAAA=",
          "dtype": "i4"
         },
         "y": {
          "bdata": "AAAAAAAAAADDMAzDMAwDQIeHh4eHhxdA1AjLPY2wFEBJkiRJkiQhQKmBvWNqYCdANEiDNEiDFEA8PDw8PDwcQCZXEJMriBlAT+zETuzEHkCD8Vb2OaQWQJMvGzT5siFAqqqqqqqqIEA1X6tnh8AtQA==",
          "dtype": "f8"
         }
        },
        {
         "line": {
          "color": "#FFA15A"
         },
         "mode": "lines+markers+text",
         "name": "Sales & Marketing",
         "text": [
          "5.0%",
          "13.51%",
          "6.0%",
          "5.0%",
          "10.0%",
          "8.97%",
          "11.7%",
          "6.52%",
          "6.31%",
          "5.93%",
          "16.13%",
          "4.62%",
          "15.11%",
          "12.14%"
         ],
         "textposition": "top center",
         "type": "scatter",
         "visible": false,
         "x": {
          "bdata": "2wcAANwHAADdBwAA3gcAAN8HAADgBwAA4QcAAOIHAADjBwAA5AcAAOUHAADmBwAA5wcAAOgHAAA=",
          "dtype": "i4"
         },
         "y": {
          "bdata": "AAAAAAAAFEBvMEU+6wYrQAAAAAAAABhAAAAAAAAAFEAAAAAAAAAkQC7f8i3f8iFAjvrORn1nJ0AhC1nIQhYaQJqTQFyoORlAZCuChpO6F0AhhBBCCCEwQGMndmIndhJAU9nedUA3LkCSJEmSJEkoQA==",
          "dtype": "f8"
         }
        },
        {
         "line": {
          "color": "#636EFA"
         },
         "mode": "lines+markers+text",
         "name": "SW Developer",
         "text": [
          "25.0%",
          "0.0%",
          "0.0%",
          "16.67%",
          "12.5%",
          "0.0%",
          "0.0%",
          "9.09%",
          "0.0%",
          "16.67%",
          "0.0%",
          "8.33%",
          "8.33%",
          "0.0%"
         ],
         "textposition": "top center",
         "type": "scatter",
         "visible": false,
         "x": {
          "bdata": "2wcAANwHAADdBwAA3gcAAN8HAADgBwAA4QcAAOIHAADjBwAA5AcAAOUHAADmBwAA5wcAAOgHAAA=",
          "dtype": "i4"
         },
         "y": {
          "bdata": "AAAAAAAAOUAAAAAAAAAAAAAAAAAAAAAAqqqqqqqqMEAAAAAAAAApQAAAAAAAAAAAAAAAAAAAAAAvuuiiiy4iQAAAAAAAAAAAqqqqqqqqMEAAAAAAAAAAAKqqqqqqqiBAqqqqqqqqIEAAAAAAAAAAAA==",
          "dtype": "f8"
         }
        },
        {
         "line": {
          "color": "#EF553B"
         },
         "mode": "lines+markers+text",
         "name": "Infrastructure",
         "text": [
          "0.0%",
          "0.0%",
          "0.0%",
          "0.0%",
          "25.0%",
          "0.0%",
          "0.0%",
          "11.11%",
          "9.09%",
          "0.0%",
          "16.67%",
          "10.0%",
          "0.0%",
          "7.69%"
         ],
         "textposition": "top center",
         "type": "scatter",
         "visible": false,
         "x": {
          "bdata": "2wcAANwHAADdBwAA3gcAAN8HAADgBwAA4QcAAOIHAADjBwAA5AcAAOUHAADmBwAA5wcAAOgHAAA=",
          "dtype": "i4"
         },
         "y": {
          "bdata": "AAAAAAAAAAAAAAAAAAAAAAAAAAAAAAAAAAAAAAAAAAAAAAAAAAA5QAAAAAAAAAAAAAAAAAAAAACO4ziO4zgmQC+66KKLLiJAAAAAAAAAAACqqqqqqqowQAAAAAAAACRAAAAAAAAAAABP7MRO7MQeQA==",
          "dtype": "f8"
         }
        },
        {
         "line": {
          "color": "#00CC96"
         },
         "mode": "lines+markers+text",
         "name": "Data Scientist",
         "text": [
          "9.09%",
          "2.78%",
          "0.0%",
          "3.45%",
          "5.71%",
          "7.79%",
          "9.64%",
          "8.99%",
          "13.4%",
          "7.22%",
          "11.0%",
          "5.26%",
          "8.08%",
          "7.69%"
         ],
         "textposition": "top center",
         "type": "scatter",
         "visible": false,
         "x": {
          "bdata": "2wcAANwHAADdBwAA3gcAAN8HAADgBwAA4QcAAOIHAADjBwAA5AcAAOUHAADmBwAA5wcAAOgHAAA=",
          "dtype": "i4"
         },
         "y": {
          "bdata": "L7rooosuIkCO4ziO4zgGQAAAAAAAAAAAGmG5pxGWC0C3bdu2bdsWQOKs/IQ4Kx9AXVYMlPBGI0Ag/ehHP/ohQPMkMg3bzSpALE8i07DdHEAAAAAAAAAmQNdQXkN5DRVAf6VArV8pIEBP7MRO7MQeQA==",
          "dtype": "f8"
         }
        },
        {
         "line": {
          "color": "#636EFA"
         },
         "mode": "lines+markers+text",
         "name": "HR",
         "text": [
          "0.0%",
          "0.0%",
          "0.0%",
          "0.0%",
          "8.33%",
          "6.67%",
          "13.33%",
          "0.0%",
          "5.88%",
          "6.67%",
          "20.0%",
          "0.0%",
          "7.14%",
          "12.5%"
         ],
         "textposition": "top center",
         "type": "scatter",
         "visible": false,
         "x": {
          "bdata": "2wcAANwHAADdBwAA3gcAAN8HAADgBwAA4QcAAOIHAADjBwAA5AcAAOUHAADmBwAA5wcAAOgHAAA=",
          "dtype": "i4"
         },
         "y": {
          "bdata": "AAAAAAAAAAAAAAAAAAAAAAAAAAAAAAAAAAAAAAAAAACqqqqqqqogQKuqqqqqqhpAq6qqqqqqKkAAAAAAAAAAAIeHh4eHhxdAq6qqqqqqGkAAAAAAAAA0QAAAAAAAAAAAJEmSJEmSHEAAAAAAAAApQA==",
          "dtype": "f8"
         }
        },
        {
         "line": {
          "color": "#EF553B"
         },
         "mode": "lines+markers+text",
         "name": "Finance",
         "text": [
          "0.0%",
          "11.11%",
          "0.0%",
          "18.75%",
          "6.67%",
          "0.0%",
          "4.55%",
          "0.0%",
          "20.0%",
          "7.14%",
          "12.9%",
          "12.5%",
          "0.0%",
          "7.89%"
         ],
         "textposition": "top center",
         "type": "scatter",
         "visible": false,
         "x": {
          "bdata": "2wcAANwHAADdBwAA3gcAAN8HAADgBwAA4QcAAOIHAADjBwAA5AcAAOUHAADmBwAA5wcAAOgHAAA=",
          "dtype": "i4"
         },
         "y": {
          "bdata": "AAAAAAAAAACO4ziO4zgmQAAAAAAAAAAAAAAAAADAMkCrqqqqqqoaQAAAAAAAAAAAL7rooosuEkAAAAAAAAAAAAAAAAAAADRAJEmSJEmSHEDOOeecc84pQAAAAAAAAClAAAAAAAAAAABDeQ3lNZQfQA==",
          "dtype": "f8"
         }
        },
        {
         "line": {
          "color": "#636EFA"
         },
         "mode": "lines+markers+text",
         "name": "Business Planning",
         "text": [
          "16.67%",
          "3.45%",
          "4.76%",
          "0.0%",
          "7.69%",
          "6.52%",
          "5.1%",
          "11.32%",
          "4.76%",
          "9.17%",
          "6.61%",
          "13.08%",
          "14.29%",
          "12.12%"
         ],
         "textposition": "top center",
         "type": "scatter",
         "visible": false,
         "x": {
          "bdata": "2wcAANwHAADdBwAA3gcAAN8HAADgBwAA4QcAAOIHAADjBwAA5AcAAOUHAADmBwAA5wcAAOgHAAA=",
          "dtype": "i4"
         },
         "y": {
          "bdata": "qqqqqqqqMEAaYbmnEZYLQMMwDMMwDBNAAAAAAAAAAABP7MRO7MQeQCELWchCFhpAGutDY31oFECD8Vb2OaQmQMMwDMMwDBNAlCWwaT9ZIkChVJh4P3IaQHdiJ3ZiJypAJEmSJEmSLEA++OCDDz4oQA==",
          "dtype": "f8"
         }
        },
        {
         "line": {
          "color": "#636EFA"
         },
         "mode": "lines+markers+text",
         "name": "Production Management",
         "text": [
          "0.0%",
          "0.0%",
          "13.33%",
          "0.0%",
          "8.7%",
          "10.0%",
          "3.33%",
          "8.57%",
          "5.0%",
          "8.89%",
          "6.67%",
          "10.64%",
          "10.0%",
          "11.76%"
         ],
         "textposition": "top center",
         "type": "scatter",
         "visible": false,
         "x": {
          "bdata": "2wcAANwHAADdBwAA3gcAAN8HAADgBwAA4QcAAOIHAADjBwAA5AcAAOUHAADmBwAA5wcAAOgHAAA=",
          "dtype": "i4"
         },
         "y": {
          "bdata": "AAAAAAAAAAAAAAAAAAAAAKuqqqqqqipAAAAAAAAAAAAWspCFLGQhQAAAAAAAACRAq6qqqqqqCkBJkiRJkiQhQAAAAAAAABRAchzHcRzHIUCrqqqqqqoaQPWdjfrORiVAAAAAAAAAJECHh4eHh4cnQA==",
          "dtype": "f8"
         }
        },
        {
         "line": {
          "color": "#EF553B"
         },
         "mode": "lines+markers+text",
         "name": "Engineering",
         "text": [
          "0.0%",
          "3.33%",
          "2.78%",
          "7.32%",
          "8.51%",
          "12.77%",
          "6.25%",
          "6.0%",
          "7.41%",
          "6.78%",
          "4.92%",
          "7.58%",
          "7.14%",
          "17.14%"
         ],
         "textposition": "top center",
         "type": "scatter",
         "visible": false,
         "x": {
          "bdata": "2wcAANwHAADdBwAA3gcAAN8HAADgBwAA4QcAAOIHAADjBwAA5AcAAOUHAADmBwAA5wcAAOgHAAA=",
          "dtype": "i4"
         },
         "y": {
          "bdata": "AAAAAAAAAACrqqqqqqoKQI7jOI7jOAZARO1K1K5EHUDE5ApicgUhQCZXEJMriClAAAAAAAAAGUAAAAAAAAAYQBLaS2gvoR1ABA0ndV8eG0C9T3HJEKwTQE422WSTTR5AJEmSJEmSHEBJkiRJkiQxQA==",
          "dtype": "f8"
         }
        },
        {
         "line": {
          "color": "#636EFA"
         },
         "mode": "lines+markers+text",
         "name": "Marketing",
         "text": [
          "20.0%",
          "25.0%",
          "10.0%",
          "7.69%",
          "12.5%",
          "0.0%",
          "12.5%",
          "0.0%",
          "6.9%",
          "3.23%",
          "9.38%",
          "5.71%",
          "21.62%",
          "10.0%"
         ],
         "textposition": "top center",
         "type": "scatter",
         "visible": false,
         "x": {
          "bdata": "2wcAANwHAADdBwAA3gcAAN8HAADgBwAA4QcAAOIHAADjBwAA5AcAAOUHAADmBwAA5wcAAOgHAAA=",
          "dtype": "i4"
         },
         "y": {
          "bdata": "AAAAAAAANEAAAAAAAAA5QAAAAAAAACRAT+zETuzEHkAAAAAAAAApQAAAAAAAAAAAAAAAAAAAKUAAAAAAAAAAABphuacRlhtAzjnnnHPOCUAAAAAAAMAiQLdt27Zt2xZA8lk3mCKfNUAAAAAAAAAkQA==",
          "dtype": "f8"
         }
        },
        {
         "line": {
          "color": "#EF553B"
         },
         "mode": "lines+markers+text",
         "name": "Sales",
         "text": [
          "0.0%",
          "10.34%",
          "5.0%",
          "4.26%",
          "9.26%",
          "11.48%",
          "11.43%",
          "8.57%",
          "6.1%",
          "6.9%",
          "18.48%",
          "4.21%",
          "12.75%",
          "12.73%"
         ],
         "textposition": "top center",
         "type": "scatter",
         "visible": false,
         "x": {
          "bdata": "2wcAANwHAADdBwAA3gcAAN8HAADgBwAA4QcAAOIHAADjBwAA5AcAAOUHAADmBwAA5wcAAOgHAAA=",
          "dtype": "i4"
         },
         "y": {
          "bdata": "AAAAAAAAAADUCMs9jbAkQAAAAAAAABRAxOQKYnIFEUBMaC+hvYQiQFwyBOto8yZAt23btm3bJkBJkiRJkiQhQGRwPgbnYxhAGmG5pxGWG0A3velNb3oyQHkN5TWU1xBAfX19fX19KUB00UUXXXQpQA==",
          "dtype": "f8"
         }
        }
       ],
       "layout": {
        "annotations": [
         {
          "align": "left",
          "showarrow": false,
          "text": "직무 선택:",
          "x": 0,
          "y": 1.08,
          "yref": "paper"
         }
        ],
        "font": {
         "size": 14
        },
        "height": 700,
        "legend": {
         "title": {
          "text": "직무"
         }
        },
        "template": {
         "data": {
          "bar": [
           {
            "error_x": {
             "color": "#2a3f5f"
            },
            "error_y": {
             "color": "#2a3f5f"
            },
            "marker": {
             "line": {
              "color": "#E5ECF6",
              "width": 0.5
             },
             "pattern": {
              "fillmode": "overlay",
              "size": 10,
              "solidity": 0.2
             }
            },
            "type": "bar"
           }
          ],
          "barpolar": [
           {
            "marker": {
             "line": {
              "color": "#E5ECF6",
              "width": 0.5
             },
             "pattern": {
              "fillmode": "overlay",
              "size": 10,
              "solidity": 0.2
             }
            },
            "type": "barpolar"
           }
          ],
          "carpet": [
           {
            "aaxis": {
             "endlinecolor": "#2a3f5f",
             "gridcolor": "white",
             "linecolor": "white",
             "minorgridcolor": "white",
             "startlinecolor": "#2a3f5f"
            },
            "baxis": {
             "endlinecolor": "#2a3f5f",
             "gridcolor": "white",
             "linecolor": "white",
             "minorgridcolor": "white",
             "startlinecolor": "#2a3f5f"
            },
            "type": "carpet"
           }
          ],
          "choropleth": [
           {
            "colorbar": {
             "outlinewidth": 0,
             "ticks": ""
            },
            "type": "choropleth"
           }
          ],
          "contour": [
           {
            "colorbar": {
             "outlinewidth": 0,
             "ticks": ""
            },
            "colorscale": [
             [
              0,
              "#0d0887"
             ],
             [
              0.1111111111111111,
              "#46039f"
             ],
             [
              0.2222222222222222,
              "#7201a8"
             ],
             [
              0.3333333333333333,
              "#9c179e"
             ],
             [
              0.4444444444444444,
              "#bd3786"
             ],
             [
              0.5555555555555556,
              "#d8576b"
             ],
             [
              0.6666666666666666,
              "#ed7953"
             ],
             [
              0.7777777777777778,
              "#fb9f3a"
             ],
             [
              0.8888888888888888,
              "#fdca26"
             ],
             [
              1,
              "#f0f921"
             ]
            ],
            "type": "contour"
           }
          ],
          "contourcarpet": [
           {
            "colorbar": {
             "outlinewidth": 0,
             "ticks": ""
            },
            "type": "contourcarpet"
           }
          ],
          "heatmap": [
           {
            "colorbar": {
             "outlinewidth": 0,
             "ticks": ""
            },
            "colorscale": [
             [
              0,
              "#0d0887"
             ],
             [
              0.1111111111111111,
              "#46039f"
             ],
             [
              0.2222222222222222,
              "#7201a8"
             ],
             [
              0.3333333333333333,
              "#9c179e"
             ],
             [
              0.4444444444444444,
              "#bd3786"
             ],
             [
              0.5555555555555556,
              "#d8576b"
             ],
             [
              0.6666666666666666,
              "#ed7953"
             ],
             [
              0.7777777777777778,
              "#fb9f3a"
             ],
             [
              0.8888888888888888,
              "#fdca26"
             ],
             [
              1,
              "#f0f921"
             ]
            ],
            "type": "heatmap"
           }
          ],
          "histogram": [
           {
            "marker": {
             "pattern": {
              "fillmode": "overlay",
              "size": 10,
              "solidity": 0.2
             }
            },
            "type": "histogram"
           }
          ],
          "histogram2d": [
           {
            "colorbar": {
             "outlinewidth": 0,
             "ticks": ""
            },
            "colorscale": [
             [
              0,
              "#0d0887"
             ],
             [
              0.1111111111111111,
              "#46039f"
             ],
             [
              0.2222222222222222,
              "#7201a8"
             ],
             [
              0.3333333333333333,
              "#9c179e"
             ],
             [
              0.4444444444444444,
              "#bd3786"
             ],
             [
              0.5555555555555556,
              "#d8576b"
             ],
             [
              0.6666666666666666,
              "#ed7953"
             ],
             [
              0.7777777777777778,
              "#fb9f3a"
             ],
             [
              0.8888888888888888,
              "#fdca26"
             ],
             [
              1,
              "#f0f921"
             ]
            ],
            "type": "histogram2d"
           }
          ],
          "histogram2dcontour": [
           {
            "colorbar": {
             "outlinewidth": 0,
             "ticks": ""
            },
            "colorscale": [
             [
              0,
              "#0d0887"
             ],
             [
              0.1111111111111111,
              "#46039f"
             ],
             [
              0.2222222222222222,
              "#7201a8"
             ],
             [
              0.3333333333333333,
              "#9c179e"
             ],
             [
              0.4444444444444444,
              "#bd3786"
             ],
             [
              0.5555555555555556,
              "#d8576b"
             ],
             [
              0.6666666666666666,
              "#ed7953"
             ],
             [
              0.7777777777777778,
              "#fb9f3a"
             ],
             [
              0.8888888888888888,
              "#fdca26"
             ],
             [
              1,
              "#f0f921"
             ]
            ],
            "type": "histogram2dcontour"
           }
          ],
          "mesh3d": [
           {
            "colorbar": {
             "outlinewidth": 0,
             "ticks": ""
            },
            "type": "mesh3d"
           }
          ],
          "parcoords": [
           {
            "line": {
             "colorbar": {
              "outlinewidth": 0,
              "ticks": ""
             }
            },
            "type": "parcoords"
           }
          ],
          "pie": [
           {
            "automargin": true,
            "type": "pie"
           }
          ],
          "scatter": [
           {
            "fillpattern": {
             "fillmode": "overlay",
             "size": 10,
             "solidity": 0.2
            },
            "type": "scatter"
           }
          ],
          "scatter3d": [
           {
            "line": {
             "colorbar": {
              "outlinewidth": 0,
              "ticks": ""
             }
            },
            "marker": {
             "colorbar": {
              "outlinewidth": 0,
              "ticks": ""
             }
            },
            "type": "scatter3d"
           }
          ],
          "scattercarpet": [
           {
            "marker": {
             "colorbar": {
              "outlinewidth": 0,
              "ticks": ""
             }
            },
            "type": "scattercarpet"
           }
          ],
          "scattergeo": [
           {
            "marker": {
             "colorbar": {
              "outlinewidth": 0,
              "ticks": ""
             }
            },
            "type": "scattergeo"
           }
          ],
          "scattergl": [
           {
            "marker": {
             "colorbar": {
              "outlinewidth": 0,
              "ticks": ""
             }
            },
            "type": "scattergl"
           }
          ],
          "scattermap": [
           {
            "marker": {
             "colorbar": {
              "outlinewidth": 0,
              "ticks": ""
             }
            },
            "type": "scattermap"
           }
          ],
          "scattermapbox": [
           {
            "marker": {
             "colorbar": {
              "outlinewidth": 0,
              "ticks": ""
             }
            },
            "type": "scattermapbox"
           }
          ],
          "scatterpolar": [
           {
            "marker": {
             "colorbar": {
              "outlinewidth": 0,
              "ticks": ""
             }
            },
            "type": "scatterpolar"
           }
          ],
          "scatterpolargl": [
           {
            "marker": {
             "colorbar": {
              "outlinewidth": 0,
              "ticks": ""
             }
            },
            "type": "scatterpolargl"
           }
          ],
          "scatterternary": [
           {
            "marker": {
             "colorbar": {
              "outlinewidth": 0,
              "ticks": ""
             }
            },
            "type": "scatterternary"
           }
          ],
          "surface": [
           {
            "colorbar": {
             "outlinewidth": 0,
             "ticks": ""
            },
            "colorscale": [
             [
              0,
              "#0d0887"
             ],
             [
              0.1111111111111111,
              "#46039f"
             ],
             [
              0.2222222222222222,
              "#7201a8"
             ],
             [
              0.3333333333333333,
              "#9c179e"
             ],
             [
              0.4444444444444444,
              "#bd3786"
             ],
             [
              0.5555555555555556,
              "#d8576b"
             ],
             [
              0.6666666666666666,
              "#ed7953"
             ],
             [
              0.7777777777777778,
              "#fb9f3a"
             ],
             [
              0.8888888888888888,
              "#fdca26"
             ],
             [
              1,
              "#f0f921"
             ]
            ],
            "type": "surface"
           }
          ],
          "table": [
           {
            "cells": {
             "fill": {
              "color": "#EBF0F8"
             },
             "line": {
              "color": "white"
             }
            },
            "header": {
             "fill": {
              "color": "#C8D4E3"
             },
             "line": {
              "color": "white"
             }
            },
            "type": "table"
           }
          ]
         },
         "layout": {
          "annotationdefaults": {
           "arrowcolor": "#2a3f5f",
           "arrowhead": 0,
           "arrowwidth": 1
          },
          "autotypenumbers": "strict",
          "coloraxis": {
           "colorbar": {
            "outlinewidth": 0,
            "ticks": ""
           }
          },
          "colorscale": {
           "diverging": [
            [
             0,
             "#8e0152"
            ],
            [
             0.1,
             "#c51b7d"
            ],
            [
             0.2,
             "#de77ae"
            ],
            [
             0.3,
             "#f1b6da"
            ],
            [
             0.4,
             "#fde0ef"
            ],
            [
             0.5,
             "#f7f7f7"
            ],
            [
             0.6,
             "#e6f5d0"
            ],
            [
             0.7,
             "#b8e186"
            ],
            [
             0.8,
             "#7fbc41"
            ],
            [
             0.9,
             "#4d9221"
            ],
            [
             1,
             "#276419"
            ]
           ],
           "sequential": [
            [
             0,
             "#0d0887"
            ],
            [
             0.1111111111111111,
             "#46039f"
            ],
            [
             0.2222222222222222,
             "#7201a8"
            ],
            [
             0.3333333333333333,
             "#9c179e"
            ],
            [
             0.4444444444444444,
             "#bd3786"
            ],
            [
             0.5555555555555556,
             "#d8576b"
            ],
            [
             0.6666666666666666,
             "#ed7953"
            ],
            [
             0.7777777777777778,
             "#fb9f3a"
            ],
            [
             0.8888888888888888,
             "#fdca26"
            ],
            [
             1,
             "#f0f921"
            ]
           ],
           "sequentialminus": [
            [
             0,
             "#0d0887"
            ],
            [
             0.1111111111111111,
             "#46039f"
            ],
            [
             0.2222222222222222,
             "#7201a8"
            ],
            [
             0.3333333333333333,
             "#9c179e"
            ],
            [
             0.4444444444444444,
             "#bd3786"
            ],
            [
             0.5555555555555556,
             "#d8576b"
            ],
            [
             0.6666666666666666,
             "#ed7953"
            ],
            [
             0.7777777777777778,
             "#fb9f3a"
            ],
            [
             0.8888888888888888,
             "#fdca26"
            ],
            [
             1,
             "#f0f921"
            ]
           ]
          },
          "colorway": [
           "#636efa",
           "#EF553B",
           "#00cc96",
           "#ab63fa",
           "#FFA15A",
           "#19d3f3",
           "#FF6692",
           "#B6E880",
           "#FF97FF",
           "#FECB52"
          ],
          "font": {
           "color": "#2a3f5f"
          },
          "geo": {
           "bgcolor": "white",
           "lakecolor": "white",
           "landcolor": "#E5ECF6",
           "showlakes": true,
           "showland": true,
           "subunitcolor": "white"
          },
          "hoverlabel": {
           "align": "left"
          },
          "hovermode": "closest",
          "mapbox": {
           "style": "light"
          },
          "paper_bgcolor": "white",
          "plot_bgcolor": "#E5ECF6",
          "polar": {
           "angularaxis": {
            "gridcolor": "white",
            "linecolor": "white",
            "ticks": ""
           },
           "bgcolor": "#E5ECF6",
           "radialaxis": {
            "gridcolor": "white",
            "linecolor": "white",
            "ticks": ""
           }
          },
          "scene": {
           "xaxis": {
            "backgroundcolor": "#E5ECF6",
            "gridcolor": "white",
            "gridwidth": 2,
            "linecolor": "white",
            "showbackground": true,
            "ticks": "",
            "zerolinecolor": "white"
           },
           "yaxis": {
            "backgroundcolor": "#E5ECF6",
            "gridcolor": "white",
            "gridwidth": 2,
            "linecolor": "white",
            "showbackground": true,
            "ticks": "",
            "zerolinecolor": "white"
           },
           "zaxis": {
            "backgroundcolor": "#E5ECF6",
            "gridcolor": "white",
            "gridwidth": 2,
            "linecolor": "white",
            "showbackground": true,
            "ticks": "",
            "zerolinecolor": "white"
           }
          },
          "shapedefaults": {
           "line": {
            "color": "#2a3f5f"
           }
          },
          "ternary": {
           "aaxis": {
            "gridcolor": "white",
            "linecolor": "white",
            "ticks": ""
           },
           "baxis": {
            "gridcolor": "white",
            "linecolor": "white",
            "ticks": ""
           },
           "bgcolor": "#E5ECF6",
           "caxis": {
            "gridcolor": "white",
            "linecolor": "white",
            "ticks": ""
           }
          },
          "title": {
           "x": 0.05
          },
          "xaxis": {
           "automargin": true,
           "gridcolor": "white",
           "linecolor": "white",
           "ticks": "",
           "title": {
            "standoff": 15
           },
           "zerolinecolor": "white",
           "zerolinewidth": 2
          },
          "yaxis": {
           "automargin": true,
           "gridcolor": "white",
           "linecolor": "white",
           "ticks": "",
           "title": {
            "standoff": 15
           },
           "zerolinecolor": "white",
           "zerolinewidth": 2
          }
         }
        },
        "title": {
         "text": "직무별 연간 퇴사율 변화 추이"
        },
        "updatemenus": [
         {
          "active": 0,
          "buttons": [
           {
            "args": [
             {
              "visible": [
               true,
               false,
               false,
               false,
               false,
               false,
               false,
               false,
               false,
               false,
               false,
               false,
               false,
               false,
               false,
               false
              ]
             }
            ],
            "label": "전사 평균",
            "method": "update"
           },
           {
            "args": [
             {
              "visible": [
               false,
               true,
               true,
               true,
               true,
               true,
               false,
               false,
               false,
               false,
               false,
               false,
               false,
               false,
               false,
               false
              ]
             }
            ],
            "label": "전체",
            "method": "update"
           },
           {
            "args": [
             {
              "visible": [
               false,
               false,
               false,
               false,
               false,
               false,
               true,
               true,
               true,
               false,
               false,
               false,
               false,
               false,
               false,
               false
              ]
             }
            ],
            "label": "IT",
            "method": "update"
           },
           {
            "args": [
             {
              "visible": [
               false,
               false,
               false,
               false,
               false,
               false,
               false,
               false,
               false,
               true,
               true,
               false,
               false,
               false,
               false,
               false
              ]
             }
            ],
            "label": "Management Support",
            "method": "update"
           },
           {
            "args": [
             {
              "visible": [
               false,
               false,
               false,
               false,
               false,
               false,
               false,
               false,
               false,
               false,
               false,
               true,
               false,
               false,
               false,
               false
              ]
             }
            ],
            "label": "Planning",
            "method": "update"
           },
           {
            "args": [
             {
              "visible": [
               false,
               false,
               false,
               false,
               false,
               false,
               false,
               false,
               false,
               false,
               false,
               false,
               true,
               true,
               false,
               false
              ]
             }
            ],
            "label": "Production & Engineering",
            "method": "update"
           },
           {
            "args": [
             {
              "visible": [
               false,
               false,
               false,
               false,
               false,
               false,
               false,
               false,
               false,
               false,
               false,
               false,
               false,
               false,
               true,
               true
              ]
             }
            ],
            "label": "Sales & Marketing",
            "method": "update"
           }
          ],
          "direction": "down",
          "pad": {
           "r": 10,
           "t": 10
          },
          "showactive": true,
          "x": 0.01,
          "xanchor": "left",
          "y": 1.1,
          "yanchor": "top"
         }
        ],
        "xaxis": {
         "title": {
          "text": "연도"
         },
         "type": "category"
        },
        "yaxis": {
         "range": [
          0,
          28.749999999999996
         ],
         "tickformat": ".2f",
         "ticksuffix": "%",
         "title": {
          "text": "연간 퇴사율 (%)"
         }
        }
       }
      }
     },
     "metadata": {},
     "output_type": "display_data"
    },
    {
     "name": "stdout",
     "output_type": "stream",
     "text": [
      "\n",
      "--- Aggregate DataFrame ---\n"
     ]
    },
    {
     "data": {
      "text/html": [
       "<div>\n",
       "<style scoped>\n",
       "    .dataframe tbody tr th:only-of-type {\n",
       "        vertical-align: middle;\n",
       "    }\n",
       "\n",
       "    .dataframe tbody tr th {\n",
       "        vertical-align: top;\n",
       "    }\n",
       "\n",
       "    .dataframe thead th {\n",
       "        text-align: right;\n",
       "    }\n",
       "</style>\n",
       "<table border=\"1\" class=\"dataframe\">\n",
       "  <thead>\n",
       "    <tr style=\"text-align: right;\">\n",
       "      <th></th>\n",
       "      <th>전체 평균</th>\n",
       "      <th>IT</th>\n",
       "      <th>Management Support</th>\n",
       "      <th>Planning</th>\n",
       "      <th>Production &amp; Engineering</th>\n",
       "      <th>Sales &amp; Marketing</th>\n",
       "    </tr>\n",
       "    <tr>\n",
       "      <th>YEAR</th>\n",
       "      <th></th>\n",
       "      <th></th>\n",
       "      <th></th>\n",
       "      <th></th>\n",
       "      <th></th>\n",
       "      <th></th>\n",
       "    </tr>\n",
       "  </thead>\n",
       "  <tbody>\n",
       "    <tr>\n",
       "      <th>2011</th>\n",
       "      <td>7.95%</td>\n",
       "      <td>11.11%</td>\n",
       "      <td>0.00%</td>\n",
       "      <td>16.67%</td>\n",
       "      <td>0.00%</td>\n",
       "      <td>5.00%</td>\n",
       "    </tr>\n",
       "    <tr>\n",
       "      <th>2012</th>\n",
       "      <td>5.59%</td>\n",
       "      <td>2.44%</td>\n",
       "      <td>8.33%</td>\n",
       "      <td>3.45%</td>\n",
       "      <td>2.38%</td>\n",
       "      <td>13.51%</td>\n",
       "    </tr>\n",
       "    <tr>\n",
       "      <th>2013</th>\n",
       "      <td>3.69%</td>\n",
       "      <td>0.00%</td>\n",
       "      <td>0.00%</td>\n",
       "      <td>4.76%</td>\n",
       "      <td>5.88%</td>\n",
       "      <td>6.00%</td>\n",
       "    </tr>\n",
       "    <tr>\n",
       "      <th>2014</th>\n",
       "      <td>4.46%</td>\n",
       "      <td>4.48%</td>\n",
       "      <td>12.00%</td>\n",
       "      <td>0.00%</td>\n",
       "      <td>5.17%</td>\n",
       "      <td>5.00%</td>\n",
       "    </tr>\n",
       "    <tr>\n",
       "      <th>2015</th>\n",
       "      <td>8.26%</td>\n",
       "      <td>7.32%</td>\n",
       "      <td>7.41%</td>\n",
       "      <td>7.69%</td>\n",
       "      <td>8.57%</td>\n",
       "      <td>10.00%</td>\n",
       "    </tr>\n",
       "    <tr>\n",
       "      <th>2016</th>\n",
       "      <td>7.86%</td>\n",
       "      <td>6.59%</td>\n",
       "      <td>3.23%</td>\n",
       "      <td>6.52%</td>\n",
       "      <td>11.69%</td>\n",
       "      <td>8.97%</td>\n",
       "    </tr>\n",
       "    <tr>\n",
       "      <th>2017</th>\n",
       "      <td>7.62%</td>\n",
       "      <td>8.00%</td>\n",
       "      <td>8.11%</td>\n",
       "      <td>5.10%</td>\n",
       "      <td>5.13%</td>\n",
       "      <td>11.70%</td>\n",
       "    </tr>\n",
       "    <tr>\n",
       "      <th>2018</th>\n",
       "      <td>7.85%</td>\n",
       "      <td>9.17%</td>\n",
       "      <td>0.00%</td>\n",
       "      <td>11.32%</td>\n",
       "      <td>7.06%</td>\n",
       "      <td>6.52%</td>\n",
       "    </tr>\n",
       "    <tr>\n",
       "      <th>2019</th>\n",
       "      <td>8.21%</td>\n",
       "      <td>11.86%</td>\n",
       "      <td>14.89%</td>\n",
       "      <td>4.76%</td>\n",
       "      <td>6.38%</td>\n",
       "      <td>6.31%</td>\n",
       "    </tr>\n",
       "    <tr>\n",
       "      <th>2020</th>\n",
       "      <td>7.51%</td>\n",
       "      <td>7.56%</td>\n",
       "      <td>6.98%</td>\n",
       "      <td>9.17%</td>\n",
       "      <td>7.69%</td>\n",
       "      <td>5.93%</td>\n",
       "    </tr>\n",
       "    <tr>\n",
       "      <th>2021</th>\n",
       "      <td>10.36%</td>\n",
       "      <td>10.48%</td>\n",
       "      <td>15.22%</td>\n",
       "      <td>6.61%</td>\n",
       "      <td>5.66%</td>\n",
       "      <td>16.13%</td>\n",
       "    </tr>\n",
       "    <tr>\n",
       "      <th>2022</th>\n",
       "      <td>8.26%</td>\n",
       "      <td>5.98%</td>\n",
       "      <td>9.30%</td>\n",
       "      <td>13.08%</td>\n",
       "      <td>8.85%</td>\n",
       "      <td>4.62%</td>\n",
       "    </tr>\n",
       "    <tr>\n",
       "      <th>2023</th>\n",
       "      <td>10.62%</td>\n",
       "      <td>7.32%</td>\n",
       "      <td>2.00%</td>\n",
       "      <td>14.29%</td>\n",
       "      <td>8.33%</td>\n",
       "      <td>15.11%</td>\n",
       "    </tr>\n",
       "    <tr>\n",
       "      <th>2024</th>\n",
       "      <td>11.32%</td>\n",
       "      <td>7.09%</td>\n",
       "      <td>9.26%</td>\n",
       "      <td>12.12%</td>\n",
       "      <td>14.88%</td>\n",
       "      <td>12.14%</td>\n",
       "    </tr>\n",
       "  </tbody>\n",
       "</table>\n",
       "</div>"
      ],
      "text/plain": [
       "       전체 평균      IT Management Support Planning Production & Engineering  \\\n",
       "YEAR                                                                        \n",
       "2011   7.95%  11.11%              0.00%   16.67%                    0.00%   \n",
       "2012   5.59%   2.44%              8.33%    3.45%                    2.38%   \n",
       "2013   3.69%   0.00%              0.00%    4.76%                    5.88%   \n",
       "2014   4.46%   4.48%             12.00%    0.00%                    5.17%   \n",
       "2015   8.26%   7.32%              7.41%    7.69%                    8.57%   \n",
       "2016   7.86%   6.59%              3.23%    6.52%                   11.69%   \n",
       "2017   7.62%   8.00%              8.11%    5.10%                    5.13%   \n",
       "2018   7.85%   9.17%              0.00%   11.32%                    7.06%   \n",
       "2019   8.21%  11.86%             14.89%    4.76%                    6.38%   \n",
       "2020   7.51%   7.56%              6.98%    9.17%                    7.69%   \n",
       "2021  10.36%  10.48%             15.22%    6.61%                    5.66%   \n",
       "2022   8.26%   5.98%              9.30%   13.08%                    8.85%   \n",
       "2023  10.62%   7.32%              2.00%   14.29%                    8.33%   \n",
       "2024  11.32%   7.09%              9.26%   12.12%                   14.88%   \n",
       "\n",
       "     Sales & Marketing  \n",
       "YEAR                    \n",
       "2011             5.00%  \n",
       "2012            13.51%  \n",
       "2013             6.00%  \n",
       "2014             5.00%  \n",
       "2015            10.00%  \n",
       "2016             8.97%  \n",
       "2017            11.70%  \n",
       "2018             6.52%  \n",
       "2019             6.31%  \n",
       "2020             5.93%  \n",
       "2021            16.13%  \n",
       "2022             4.62%  \n",
       "2023            15.11%  \n",
       "2024            12.14%  "
      ]
     },
     "execution_count": 1,
     "metadata": {},
     "output_type": "execute_result"
    }
   ],
   "source": [
    "import pandas as pd\n",
    "import numpy as np\n",
    "import plotly.graph_objects as go\n",
    "import plotly.io as pio\n",
    "import plotly.express as px\n",
    "import datetime\n",
    "\n",
    "# --- 1. 데이터 임포트 ---\n",
    "from services.tables.HR_Core.basic_info_table import emp_df\n",
    "from services.tables.HR_Core.department_info_table import department_info_df\n",
    "from services.tables.HR_Core.job_info_table import job_info_df\n",
    "from services.tables.HR_Core.job_table import job_df, job_df_indexed, parent_map_job, job_l1_order, job_l2_order\n",
    "from services.helpers.utils import get_level1_ancestor, get_level2_ancestor\n",
    "\n",
    "def create_figure_and_df():\n",
    "    \"\"\"\n",
    "    제안 5-2: 직무별 연간 퇴사율 변화 추이 그래프 및 피벗 테이블을 생성합니다.\n",
    "    \"\"\"\n",
    "    # --- 2. 데이터 준비 및 가공 ---\n",
    "    leaver_years = emp_df.dropna(subset=['OUT_DATE'])['OUT_DATE'].dt.year.unique()\n",
    "    analysis_years = sorted([y for y in leaver_years if y < datetime.datetime.now().year])\n",
    "    \n",
    "    turnover_records = []\n",
    "    overall_turnover_records = []\n",
    "\n",
    "    job_info_sorted = job_info_df.sort_values('JOB_APP_START_DATE')\n",
    "    job_name_map = job_df.set_index('JOB_ID')['JOB_NAME'].to_dict()\n",
    "    \n",
    "    for year in analysis_years:\n",
    "        year_start, year_end = pd.to_datetime(f'{year}-01-01'), pd.to_datetime(f'{year}-12-31')\n",
    "        \n",
    "        leavers_in_year = emp_df[(emp_df['OUT_DATE'] >= year_start) & (emp_df['OUT_DATE'] <= year_end)]\n",
    "        active_in_year = emp_df[(emp_df['IN_DATE'] <= year_end) & (emp_df['OUT_DATE'].isnull() | (emp_df['OUT_DATE'] >= year_start))]\n",
    "        \n",
    "        if not active_in_year.empty:\n",
    "            overall_rate = (len(leavers_in_year) / len(active_in_year)) * 100 if len(active_in_year) > 0 else 0\n",
    "            overall_turnover_records.append({'YEAR': year, 'TURNOVER_RATE': overall_rate})\n",
    "            \n",
    "        if leavers_in_year.empty: continue\n",
    "            \n",
    "        leavers_job = pd.merge_asof(leavers_in_year[['EMP_ID', 'OUT_DATE']].sort_values('OUT_DATE'), job_info_sorted, left_on='OUT_DATE', right_on='JOB_APP_START_DATE', by='EMP_ID', direction='backward')\n",
    "        active_job = pd.merge_asof(active_in_year[['EMP_ID', 'IN_DATE']].sort_values('IN_DATE'), job_info_sorted, left_on='IN_DATE', right_on='JOB_APP_START_DATE', by='EMP_ID', direction='backward')\n",
    "\n",
    "        for df in [leavers_job, active_job]:\n",
    "            if not df.empty and 'JOB_ID' in df.columns:\n",
    "                df['JOB_L1_NAME'] = df['JOB_ID'].apply(lambda x: job_name_map.get(get_level1_ancestor(x, job_df_indexed, parent_map_job)))\n",
    "                df['JOB_L2_NAME'] = df['JOB_ID'].apply(lambda x: job_name_map.get(get_level2_ancestor(x, job_df_indexed, parent_map_job)))\n",
    "        \n",
    "        leavers_job = leavers_job.dropna(subset=['JOB_L1_NAME', 'JOB_L2_NAME'])\n",
    "        active_job = active_job.dropna(subset=['JOB_L1_NAME', 'JOB_L2_NAME'])\n",
    "\n",
    "        leavers_by_l1 = leavers_job.groupby('JOB_L1_NAME', observed=False).size()\n",
    "        headcount_by_l1 = active_job.groupby('JOB_L1_NAME', observed=False).size()\n",
    "        turnover_l1 = (leavers_by_l1 / headcount_by_l1 * 100).fillna(0)\n",
    "        for group_name, rate in turnover_l1.items():\n",
    "            turnover_records.append({'YEAR': year, 'GROUP_TYPE': 'JOB_L1_NAME', 'GROUP_NAME': group_name, 'TURNOVER_RATE': rate})\n",
    "            \n",
    "        leavers_by_l2 = leavers_job.groupby(['JOB_L1_NAME', 'JOB_L2_NAME'], observed=False).size()\n",
    "        headcount_by_l2 = active_job.groupby(['JOB_L1_NAME', 'JOB_L2_NAME'], observed=False).size()\n",
    "        turnover_l2 = (leavers_by_l2 / headcount_by_l2 * 100).fillna(0)\n",
    "        for (l1_name, l2_name), rate in turnover_l2.items():\n",
    "            turnover_records.append({'YEAR': year, 'GROUP_TYPE': 'JOB_L2_NAME', 'JOB_L1_NAME': l1_name, 'GROUP_NAME': l2_name, 'TURNOVER_RATE': rate})\n",
    "\n",
    "    analysis_df = pd.DataFrame(turnover_records)\n",
    "    overall_turnover_df = pd.DataFrame(overall_turnover_records)\n",
    "\n",
    "    if analysis_df.empty and overall_turnover_df.empty:\n",
    "        return go.Figure().update_layout(title_text=\"분석할 퇴사율 데이터가 없습니다.\"), pd.DataFrame()\n",
    "\n",
    "    all_rates = pd.concat([analysis_df['TURNOVER_RATE'], overall_turnover_df['TURNOVER_RATE']])\n",
    "    y_max = all_rates.max()\n",
    "    fixed_y_range = [0, y_max * 1.15]\n",
    "\n",
    "    # --- 3. Plotly 인터랙티브 그래프 생성 ---\n",
    "    # (그래프 생성 코드는 이전과 동일)\n",
    "    fig = go.Figure()\n",
    "    colors = px.colors.qualitative.Plotly\n",
    "    fig.add_trace(go.Scatter(x=overall_turnover_df['YEAR'], y=overall_turnover_df['TURNOVER_RATE'], mode='lines+markers+text', name='전사 평균', line=dict(color='black', dash='dot'), text=overall_turnover_df['TURNOVER_RATE'].round(2).astype(str) + '%', textposition='top center', visible=True))\n",
    "    job_l1_df = analysis_df[analysis_df['GROUP_TYPE'] == 'JOB_L1_NAME']\n",
    "    for i, job_l1_name in enumerate(job_l1_order):\n",
    "        df_filtered = job_l1_df[job_l1_df['GROUP_NAME'] == job_l1_name].sort_values('YEAR')\n",
    "        if not df_filtered.empty:\n",
    "            fig.add_trace(go.Scatter(x=df_filtered['YEAR'], y=df_filtered['TURNOVER_RATE'], mode='lines+markers+text', name=job_l1_name, line=dict(color=colors[i]), text=df_filtered['TURNOVER_RATE'].round(2).astype(str) + '%', textposition='top center', visible=False))\n",
    "    job_l2_df = analysis_df[analysis_df['GROUP_TYPE'] == 'JOB_L2_NAME']\n",
    "    job_l2_traces_map = {}\n",
    "    trace_idx_counter = 1 + len(job_l1_order)\n",
    "    for job_l1_name in job_l1_order:\n",
    "        jobs_in_l1 = job_l2_df[job_l2_df['JOB_L1_NAME'] == job_l1_name]['GROUP_NAME'].unique()\n",
    "        job_l2_traces_map[job_l1_name] = []\n",
    "        sorted_jobs_in_l1 = [j for j in job_l2_order if j in jobs_in_l1]\n",
    "        for j, job_l2_name in enumerate(sorted_jobs_in_l1):\n",
    "            df_filtered = job_l2_df[job_l2_df['GROUP_NAME'] == job_l2_name].sort_values('YEAR')\n",
    "            if not df_filtered.empty:\n",
    "                fig.add_trace(go.Scatter(x=df_filtered['YEAR'], y=df_filtered['TURNOVER_RATE'], mode='lines+markers+text', name=job_l2_name, visible=False, line=dict(color=colors[j % len(colors)]), text=df_filtered['TURNOVER_RATE'].round(2).astype(str) + '%', textposition='top center'))\n",
    "                job_l2_traces_map[job_l1_name].append(trace_idx_counter)\n",
    "                trace_idx_counter += 1\n",
    "    buttons = []\n",
    "    num_l1_traces = len(job_l1_order)\n",
    "    buttons.append(dict(label='전사 평균', method='update', args=[{'visible': [True] + [False]*(len(fig.data)-1)}]))\n",
    "    buttons.append(dict(label='전체', method='update', args=[{'visible': [False] + [True]*num_l1_traces + [False]*(len(fig.data)-1-num_l1_traces)}]))\n",
    "    for job_l1_name in job_l1_order:\n",
    "        visibility_mask = [False] * len(fig.data)\n",
    "        for trace_idx in job_l2_traces_map.get(job_l1_name, []):\n",
    "            visibility_mask[trace_idx] = True\n",
    "        buttons.append(dict(label=f'{job_l1_name}', method='update', args=[{'visible': visibility_mask}]))\n",
    "    fig.update_layout(\n",
    "        updatemenus=[dict(active=0, buttons=buttons, direction=\"down\", pad={\"r\": 10, \"t\": 10}, showactive=True, x=0.01, xanchor=\"left\", y=1.1, yanchor=\"top\")],\n",
    "        title_text='직무별 연간 퇴사율 변화 추이',\n",
    "        xaxis_title='연도', yaxis_title='연간 퇴사율 (%)',\n",
    "        font_size=14, height=700,\n",
    "        legend_title_text='직무',\n",
    "        annotations=[dict(text=\"직무 선택:\", showarrow=False, x=0, y=1.08, yref=\"paper\", align=\"left\")],\n",
    "        xaxis=dict(type='category'),\n",
    "        yaxis=dict(ticksuffix=\"%\", tickformat='.2f', range=fixed_y_range)\n",
    "    )\n",
    "    \n",
    "    # --- 수정된 부분: aggregate_df 생성 ---\n",
    "    # 1. Job L1별 데이터와 전체 평균 데이터 결합\n",
    "    job_l1_pivot_df = job_l1_df.pivot_table(index='YEAR', columns='GROUP_NAME', values='TURNOVER_RATE').reset_index()\n",
    "    overall_pivot_df = overall_turnover_df.rename(columns={'TURNOVER_RATE': '전체 평균'})\n",
    "    \n",
    "    aggregate_df = pd.merge(job_l1_pivot_df, overall_pivot_df, on='YEAR', how='outer')\n",
    "    \n",
    "    # 2. 연도 필터링 및 정렬\n",
    "    aggregate_df = aggregate_df[(aggregate_df['YEAR'] >= 2011) & (aggregate_df['YEAR'] <= 2024)].sort_values('YEAR')\n",
    "    aggregate_df = aggregate_df.set_index('YEAR')\n",
    "    \n",
    "    # 3. 컬럼 순서 재배치 및 포맷팅\n",
    "    cols_ordered = ['전체 평균'] + [col for col in job_l1_order if col in aggregate_df.columns]\n",
    "    aggregate_df = aggregate_df[cols_ordered]\n",
    "    \n",
    "    for col in aggregate_df.columns:\n",
    "        aggregate_df[col] = aggregate_df[col].apply(lambda x: f\"{x:.2f}%\" if pd.notna(x) else '-')\n",
    "    # --- 수정 완료 ---\n",
    "    \n",
    "    return fig, aggregate_df\n",
    "\n",
    "# --- 실행 코드 ---\n",
    "pio.renderers.default = 'vscode'\n",
    "fig, aggregate_df = create_figure_and_df()\n",
    "fig.show()\n",
    "\n",
    "print(\"\\n--- Aggregate DataFrame ---\")\n",
    "aggregate_df"
   ]
  },
  {
   "cell_type": "code",
   "execution_count": null,
   "id": "592f272d",
   "metadata": {},
   "outputs": [],
   "source": []
  }
 ],
 "metadata": {
  "kernelspec": {
   "display_name": "Python 3 (ipykernel)",
   "language": "python",
   "name": "python3"
  },
  "language_info": {
   "codemirror_mode": {
    "name": "ipython",
    "version": 3
   },
   "file_extension": ".py",
   "mimetype": "text/x-python",
   "name": "python",
   "nbconvert_exporter": "python",
   "pygments_lexer": "ipython3",
   "version": "3.12.11"
  }
 },
 "nbformat": 4,
 "nbformat_minor": 5
}
