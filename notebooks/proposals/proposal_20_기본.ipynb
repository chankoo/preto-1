{
 "cells": [
  {
   "cell_type": "code",
   "execution_count": 1,
   "id": "fd032809",
   "metadata": {},
   "outputs": [
    {
     "name": "stderr",
     "output_type": "stream",
     "text": [
      "/app/src/services/tables/Time_Attendance/detailed_working_info_table.py:79: FutureWarning: Downcasting object dtype arrays on .fillna, .ffill, .bfill is deprecated and will change in a future version. Call result.infer_objects(copy=False) instead. To opt-in to the future behavior, set `pd.set_option('future.no_silent_downcasting', True)`\n",
      "  df['IS_VACATION'] = df['IS_VACATION'].fillna(False).astype(bool)\n"
     ]
    },
    {
     "data": {
      "application/vnd.plotly.v1+json": {
       "config": {
        "plotlyServerURL": "https://plot.ly"
       },
       "data": [
        {
         "hovertemplate": "%{text}<extra></extra>",
         "marker": {
          "color": "#636EFA",
          "size": 10
         },
         "mode": "markers",
         "name": "Planning Division",
         "text": [
          "Accounting Team",
          "Finance Office",
          "Treasury Team",
          "Planning Division",
          "Analysis Team",
          "HR Team",
          "Planning Team",
          "Strategy Office"
         ],
         "type": "scatter",
         "visible": true,
         "x": {
          "bdata": "aTnbo4bpQ0D1kf2I6/5DQH6LcKY6EkNA4u8bWHhAREB6nud5nrdDQAfUjnMj6ENA190azqXwQ0DFf5X3vqBDQA==",
          "dtype": "f8"
         },
         "y": {
          "bdata": "QE5tteiJ+T//zYWqIubyP3kN5TWU1wBA5nEYTWk4/j/DMAzDMAwDQI6v053fkOk/rQeEeLL98T/GjCh/eTb8Pw==",
          "dtype": "f8"
         }
        },
        {
         "hovertemplate": "%{text}<extra></extra>",
         "marker": {
          "color": "#EF553B",
          "size": 10
         },
         "mode": "markers",
         "name": "Sales Division",
         "text": [
          "Domestic Sales Office",
          "Domestic Sales Team 1",
          "Domestic Sales Team 2",
          "APAC Sales Team",
          "EU/NA Sales Team",
          "Global Sales Office",
          "Content Marketing Team",
          "Marketing Office",
          "Performance Marketing Team",
          "Sales Division"
         ],
         "type": "scatter",
         "visible": true,
         "x": {
          "bdata": "Xd11pji+Q0D/++0uU3ZCQByeSy+cmERAjDHGGGOMREAiIiIiIqJDQBJ6Pytel0NAT0P7lx4VQ0BnAgaP5b1DQH5qezPl8UNAuWXcMm4ZREA=",
          "dtype": "f8"
         },
         "y": {
          "bdata": "oI1b0ltcAEBvb3UQSs3bP4YeO8N+MQRAvvfee++99z/MzMzMzMz8PxgCU4ei2QhAJSIjbrL49D9phc2BRCv8P6CXu2JctwRA/yZ/k7/JD0A=",
          "dtype": "f8"
         }
        },
        {
         "hovertemplate": "%{text}<extra></extra>",
         "marker": {
          "color": "#00CC96",
          "size": 10
         },
         "mode": "markers",
         "name": "Development Division",
         "text": [
          "Development Division",
          "QA Office",
          "Service QA Team",
          "System QA Team",
          "Backend Team",
          "Frontend Team",
          "Mobile Team",
          "R&D Office"
         ],
         "type": "scatter",
         "visible": true,
         "x": {
          "bdata": "YuvbgKHaRUDH9PmtXfdDQOQV0lO6OkRAT9O5PuDUQ0AH0eO7cBBGQDsgeKhcWUNAnyLmJpmQREDtS/vSvnREQA==",
          "dtype": "f8"
         },
         "y": {
          "bdata": "X2VxRruH/T+xN88gdAP4P22Yew+6eSBA+O1l7HktHEBEj+/CQfT4P7tzDLrM4wZAMJsWaZwAFUBSqVQqlUoDQA==",
          "dtype": "f8"
         }
        },
        {
         "hovertemplate": "%{text}<extra></extra>",
         "marker": {
          "color": "#AB63FA",
          "size": 10
         },
         "mode": "markers",
         "name": "Operating Division",
         "text": [
          "Engineering Office",
          "Process Engineering Team",
          "Quality Engineering Team",
          "Operating Division",
          "Production Office",
          "Production Team Alpha",
          "Production Team Beta",
          "Production Team Charlie"
         ],
         "type": "scatter",
         "visible": true,
         "x": {
          "bdata": "TEyTy6l8PEBEQHw0IS89QEwN7B1TAztA139v3LAoO0CslTYHyDQ9QOGR/nquYj1A5khzpDnSOkBdmNEzF2Y8QA==",
          "dtype": "f8"
         },
         "y": {
          "bdata": "ztC9MYXw+D98NCEvbBUEQCRJkiRJkhxAY7STbRYGA0BCzD3P/AkAQNhzFcvGNxNAiqnEVGIqCUAsWOrTCpb6Pw==",
          "dtype": "f8"
         }
        },
        {
         "hovertemplate": "%{text}<extra></extra>",
         "marker": {
          "color": "#636EFA",
          "size": 12
         },
         "mode": "markers+text",
         "name": "Planning Division",
         "text": [
          "Accounting Team",
          "Finance Office",
          "Treasury Team",
          "Planning Division",
          "Analysis Team",
          "HR Team",
          "Planning Team",
          "Strategy Office"
         ],
         "textposition": "bottom center",
         "type": "scatter",
         "visible": false,
         "x": {
          "bdata": "aTnbo4bpQ0D1kf2I6/5DQH6LcKY6EkNA4u8bWHhAREB6nud5nrdDQAfUjnMj6ENA190azqXwQ0DFf5X3vqBDQA==",
          "dtype": "f8"
         },
         "y": {
          "bdata": "QE5tteiJ+T//zYWqIubyP3kN5TWU1wBA5nEYTWk4/j/DMAzDMAwDQI6v053fkOk/rQeEeLL98T/GjCh/eTb8Pw==",
          "dtype": "f8"
         }
        },
        {
         "hovertemplate": "%{text}<extra></extra>",
         "marker": {
          "color": "#EF553B",
          "size": 12
         },
         "mode": "markers+text",
         "name": "Sales Division",
         "text": [
          "Domestic Sales Office",
          "Domestic Sales Team 1",
          "Domestic Sales Team 2",
          "APAC Sales Team",
          "EU/NA Sales Team",
          "Global Sales Office",
          "Content Marketing Team",
          "Marketing Office",
          "Performance Marketing Team",
          "Sales Division"
         ],
         "textposition": "bottom center",
         "type": "scatter",
         "visible": false,
         "x": {
          "bdata": "Xd11pji+Q0D/++0uU3ZCQByeSy+cmERAjDHGGGOMREAiIiIiIqJDQBJ6Pytel0NAT0P7lx4VQ0BnAgaP5b1DQH5qezPl8UNAuWXcMm4ZREA=",
          "dtype": "f8"
         },
         "y": {
          "bdata": "oI1b0ltcAEBvb3UQSs3bP4YeO8N+MQRAvvfee++99z/MzMzMzMz8PxgCU4ei2QhAJSIjbrL49D9phc2BRCv8P6CXu2JctwRA/yZ/k7/JD0A=",
          "dtype": "f8"
         }
        },
        {
         "hovertemplate": "%{text}<extra></extra>",
         "marker": {
          "color": "#00CC96",
          "size": 12
         },
         "mode": "markers+text",
         "name": "Development Division",
         "text": [
          "Development Division",
          "QA Office",
          "Service QA Team",
          "System QA Team",
          "Backend Team",
          "Frontend Team",
          "Mobile Team",
          "R&D Office"
         ],
         "textposition": "bottom center",
         "type": "scatter",
         "visible": false,
         "x": {
          "bdata": "YuvbgKHaRUDH9PmtXfdDQOQV0lO6OkRAT9O5PuDUQ0AH0eO7cBBGQDsgeKhcWUNAnyLmJpmQREDtS/vSvnREQA==",
          "dtype": "f8"
         },
         "y": {
          "bdata": "X2VxRruH/T+xN88gdAP4P22Yew+6eSBA+O1l7HktHEBEj+/CQfT4P7tzDLrM4wZAMJsWaZwAFUBSqVQqlUoDQA==",
          "dtype": "f8"
         }
        },
        {
         "hovertemplate": "%{text}<extra></extra>",
         "marker": {
          "color": "#AB63FA",
          "size": 12
         },
         "mode": "markers+text",
         "name": "Operating Division",
         "text": [
          "Engineering Office",
          "Process Engineering Team",
          "Quality Engineering Team",
          "Operating Division",
          "Production Office",
          "Production Team Alpha",
          "Production Team Beta",
          "Production Team Charlie"
         ],
         "textposition": "bottom center",
         "type": "scatter",
         "visible": false,
         "x": {
          "bdata": "TEyTy6l8PEBEQHw0IS89QEwN7B1TAztA139v3LAoO0CslTYHyDQ9QOGR/nquYj1A5khzpDnSOkBdmNEzF2Y8QA==",
          "dtype": "f8"
         },
         "y": {
          "bdata": "ztC9MYXw+D98NCEvbBUEQCRJkiRJkhxAY7STbRYGA0BCzD3P/AkAQNhzFcvGNxNAiqnEVGIqCUAsWOrTCpb6Pw==",
          "dtype": "f8"
         }
        }
       ],
       "layout": {
        "annotations": [
         {
          "align": "left",
          "showarrow": false,
          "text": "조직 선택:",
          "x": 0,
          "y": 1.08,
          "yref": "paper"
         },
         {
          "bgcolor": "rgba(255, 255, 255, 0.5)",
          "showarrow": false,
          "text": "스마트 휴식형",
          "x": 0.98,
          "xref": "paper",
          "y": 0.98,
          "yref": "paper"
         },
         {
          "bgcolor": "rgba(255, 255, 255, 0.5)",
          "showarrow": false,
          "text": "집중 휴식형",
          "x": 0.02,
          "xref": "paper",
          "y": 0.98,
          "yref": "paper"
         },
         {
          "bgcolor": "rgba(255, 255, 255, 0.5)",
          "showarrow": false,
          "text": "파편적 휴식형",
          "x": 0.02,
          "xref": "paper",
          "y": 0.02,
          "yref": "paper"
         },
         {
          "bgcolor": "rgba(255, 255, 255, 0.5)",
          "showarrow": false,
          "text": "짧은 재충전형",
          "x": 0.98,
          "xref": "paper",
          "y": 0.02,
          "yref": "paper"
         }
        ],
        "font": {
         "size": 14
        },
        "height": 800,
        "legend": {
         "title": {
          "text": "Division"
         }
        },
        "shapes": [
         {
          "line": {
           "color": "grey",
           "dash": "dash",
           "width": 1
          },
          "type": "line",
          "x0": 39.48483595155973,
          "x1": 39.48483595155973,
          "xref": "x",
          "y0": 0,
          "y1": 1,
          "yref": "y domain"
         },
         {
          "line": {
           "color": "grey",
           "dash": "dash",
           "width": 1
          },
          "type": "line",
          "x0": 0,
          "x1": 1,
          "xref": "x domain",
          "y0": 2.024986869093134,
          "y1": 2.024986869093134,
          "yref": "y"
         }
        ],
        "template": {
         "data": {
          "bar": [
           {
            "error_x": {
             "color": "#2a3f5f"
            },
            "error_y": {
             "color": "#2a3f5f"
            },
            "marker": {
             "line": {
              "color": "#E5ECF6",
              "width": 0.5
             },
             "pattern": {
              "fillmode": "overlay",
              "size": 10,
              "solidity": 0.2
             }
            },
            "type": "bar"
           }
          ],
          "barpolar": [
           {
            "marker": {
             "line": {
              "color": "#E5ECF6",
              "width": 0.5
             },
             "pattern": {
              "fillmode": "overlay",
              "size": 10,
              "solidity": 0.2
             }
            },
            "type": "barpolar"
           }
          ],
          "carpet": [
           {
            "aaxis": {
             "endlinecolor": "#2a3f5f",
             "gridcolor": "white",
             "linecolor": "white",
             "minorgridcolor": "white",
             "startlinecolor": "#2a3f5f"
            },
            "baxis": {
             "endlinecolor": "#2a3f5f",
             "gridcolor": "white",
             "linecolor": "white",
             "minorgridcolor": "white",
             "startlinecolor": "#2a3f5f"
            },
            "type": "carpet"
           }
          ],
          "choropleth": [
           {
            "colorbar": {
             "outlinewidth": 0,
             "ticks": ""
            },
            "type": "choropleth"
           }
          ],
          "contour": [
           {
            "colorbar": {
             "outlinewidth": 0,
             "ticks": ""
            },
            "colorscale": [
             [
              0,
              "#0d0887"
             ],
             [
              0.1111111111111111,
              "#46039f"
             ],
             [
              0.2222222222222222,
              "#7201a8"
             ],
             [
              0.3333333333333333,
              "#9c179e"
             ],
             [
              0.4444444444444444,
              "#bd3786"
             ],
             [
              0.5555555555555556,
              "#d8576b"
             ],
             [
              0.6666666666666666,
              "#ed7953"
             ],
             [
              0.7777777777777778,
              "#fb9f3a"
             ],
             [
              0.8888888888888888,
              "#fdca26"
             ],
             [
              1,
              "#f0f921"
             ]
            ],
            "type": "contour"
           }
          ],
          "contourcarpet": [
           {
            "colorbar": {
             "outlinewidth": 0,
             "ticks": ""
            },
            "type": "contourcarpet"
           }
          ],
          "heatmap": [
           {
            "colorbar": {
             "outlinewidth": 0,
             "ticks": ""
            },
            "colorscale": [
             [
              0,
              "#0d0887"
             ],
             [
              0.1111111111111111,
              "#46039f"
             ],
             [
              0.2222222222222222,
              "#7201a8"
             ],
             [
              0.3333333333333333,
              "#9c179e"
             ],
             [
              0.4444444444444444,
              "#bd3786"
             ],
             [
              0.5555555555555556,
              "#d8576b"
             ],
             [
              0.6666666666666666,
              "#ed7953"
             ],
             [
              0.7777777777777778,
              "#fb9f3a"
             ],
             [
              0.8888888888888888,
              "#fdca26"
             ],
             [
              1,
              "#f0f921"
             ]
            ],
            "type": "heatmap"
           }
          ],
          "histogram": [
           {
            "marker": {
             "pattern": {
              "fillmode": "overlay",
              "size": 10,
              "solidity": 0.2
             }
            },
            "type": "histogram"
           }
          ],
          "histogram2d": [
           {
            "colorbar": {
             "outlinewidth": 0,
             "ticks": ""
            },
            "colorscale": [
             [
              0,
              "#0d0887"
             ],
             [
              0.1111111111111111,
              "#46039f"
             ],
             [
              0.2222222222222222,
              "#7201a8"
             ],
             [
              0.3333333333333333,
              "#9c179e"
             ],
             [
              0.4444444444444444,
              "#bd3786"
             ],
             [
              0.5555555555555556,
              "#d8576b"
             ],
             [
              0.6666666666666666,
              "#ed7953"
             ],
             [
              0.7777777777777778,
              "#fb9f3a"
             ],
             [
              0.8888888888888888,
              "#fdca26"
             ],
             [
              1,
              "#f0f921"
             ]
            ],
            "type": "histogram2d"
           }
          ],
          "histogram2dcontour": [
           {
            "colorbar": {
             "outlinewidth": 0,
             "ticks": ""
            },
            "colorscale": [
             [
              0,
              "#0d0887"
             ],
             [
              0.1111111111111111,
              "#46039f"
             ],
             [
              0.2222222222222222,
              "#7201a8"
             ],
             [
              0.3333333333333333,
              "#9c179e"
             ],
             [
              0.4444444444444444,
              "#bd3786"
             ],
             [
              0.5555555555555556,
              "#d8576b"
             ],
             [
              0.6666666666666666,
              "#ed7953"
             ],
             [
              0.7777777777777778,
              "#fb9f3a"
             ],
             [
              0.8888888888888888,
              "#fdca26"
             ],
             [
              1,
              "#f0f921"
             ]
            ],
            "type": "histogram2dcontour"
           }
          ],
          "mesh3d": [
           {
            "colorbar": {
             "outlinewidth": 0,
             "ticks": ""
            },
            "type": "mesh3d"
           }
          ],
          "parcoords": [
           {
            "line": {
             "colorbar": {
              "outlinewidth": 0,
              "ticks": ""
             }
            },
            "type": "parcoords"
           }
          ],
          "pie": [
           {
            "automargin": true,
            "type": "pie"
           }
          ],
          "scatter": [
           {
            "fillpattern": {
             "fillmode": "overlay",
             "size": 10,
             "solidity": 0.2
            },
            "type": "scatter"
           }
          ],
          "scatter3d": [
           {
            "line": {
             "colorbar": {
              "outlinewidth": 0,
              "ticks": ""
             }
            },
            "marker": {
             "colorbar": {
              "outlinewidth": 0,
              "ticks": ""
             }
            },
            "type": "scatter3d"
           }
          ],
          "scattercarpet": [
           {
            "marker": {
             "colorbar": {
              "outlinewidth": 0,
              "ticks": ""
             }
            },
            "type": "scattercarpet"
           }
          ],
          "scattergeo": [
           {
            "marker": {
             "colorbar": {
              "outlinewidth": 0,
              "ticks": ""
             }
            },
            "type": "scattergeo"
           }
          ],
          "scattergl": [
           {
            "marker": {
             "colorbar": {
              "outlinewidth": 0,
              "ticks": ""
             }
            },
            "type": "scattergl"
           }
          ],
          "scattermap": [
           {
            "marker": {
             "colorbar": {
              "outlinewidth": 0,
              "ticks": ""
             }
            },
            "type": "scattermap"
           }
          ],
          "scattermapbox": [
           {
            "marker": {
             "colorbar": {
              "outlinewidth": 0,
              "ticks": ""
             }
            },
            "type": "scattermapbox"
           }
          ],
          "scatterpolar": [
           {
            "marker": {
             "colorbar": {
              "outlinewidth": 0,
              "ticks": ""
             }
            },
            "type": "scatterpolar"
           }
          ],
          "scatterpolargl": [
           {
            "marker": {
             "colorbar": {
              "outlinewidth": 0,
              "ticks": ""
             }
            },
            "type": "scatterpolargl"
           }
          ],
          "scatterternary": [
           {
            "marker": {
             "colorbar": {
              "outlinewidth": 0,
              "ticks": ""
             }
            },
            "type": "scatterternary"
           }
          ],
          "surface": [
           {
            "colorbar": {
             "outlinewidth": 0,
             "ticks": ""
            },
            "colorscale": [
             [
              0,
              "#0d0887"
             ],
             [
              0.1111111111111111,
              "#46039f"
             ],
             [
              0.2222222222222222,
              "#7201a8"
             ],
             [
              0.3333333333333333,
              "#9c179e"
             ],
             [
              0.4444444444444444,
              "#bd3786"
             ],
             [
              0.5555555555555556,
              "#d8576b"
             ],
             [
              0.6666666666666666,
              "#ed7953"
             ],
             [
              0.7777777777777778,
              "#fb9f3a"
             ],
             [
              0.8888888888888888,
              "#fdca26"
             ],
             [
              1,
              "#f0f921"
             ]
            ],
            "type": "surface"
           }
          ],
          "table": [
           {
            "cells": {
             "fill": {
              "color": "#EBF0F8"
             },
             "line": {
              "color": "white"
             }
            },
            "header": {
             "fill": {
              "color": "#C8D4E3"
             },
             "line": {
              "color": "white"
             }
            },
            "type": "table"
           }
          ]
         },
         "layout": {
          "annotationdefaults": {
           "arrowcolor": "#2a3f5f",
           "arrowhead": 0,
           "arrowwidth": 1
          },
          "autotypenumbers": "strict",
          "coloraxis": {
           "colorbar": {
            "outlinewidth": 0,
            "ticks": ""
           }
          },
          "colorscale": {
           "diverging": [
            [
             0,
             "#8e0152"
            ],
            [
             0.1,
             "#c51b7d"
            ],
            [
             0.2,
             "#de77ae"
            ],
            [
             0.3,
             "#f1b6da"
            ],
            [
             0.4,
             "#fde0ef"
            ],
            [
             0.5,
             "#f7f7f7"
            ],
            [
             0.6,
             "#e6f5d0"
            ],
            [
             0.7,
             "#b8e186"
            ],
            [
             0.8,
             "#7fbc41"
            ],
            [
             0.9,
             "#4d9221"
            ],
            [
             1,
             "#276419"
            ]
           ],
           "sequential": [
            [
             0,
             "#0d0887"
            ],
            [
             0.1111111111111111,
             "#46039f"
            ],
            [
             0.2222222222222222,
             "#7201a8"
            ],
            [
             0.3333333333333333,
             "#9c179e"
            ],
            [
             0.4444444444444444,
             "#bd3786"
            ],
            [
             0.5555555555555556,
             "#d8576b"
            ],
            [
             0.6666666666666666,
             "#ed7953"
            ],
            [
             0.7777777777777778,
             "#fb9f3a"
            ],
            [
             0.8888888888888888,
             "#fdca26"
            ],
            [
             1,
             "#f0f921"
            ]
           ],
           "sequentialminus": [
            [
             0,
             "#0d0887"
            ],
            [
             0.1111111111111111,
             "#46039f"
            ],
            [
             0.2222222222222222,
             "#7201a8"
            ],
            [
             0.3333333333333333,
             "#9c179e"
            ],
            [
             0.4444444444444444,
             "#bd3786"
            ],
            [
             0.5555555555555556,
             "#d8576b"
            ],
            [
             0.6666666666666666,
             "#ed7953"
            ],
            [
             0.7777777777777778,
             "#fb9f3a"
            ],
            [
             0.8888888888888888,
             "#fdca26"
            ],
            [
             1,
             "#f0f921"
            ]
           ]
          },
          "colorway": [
           "#636efa",
           "#EF553B",
           "#00cc96",
           "#ab63fa",
           "#FFA15A",
           "#19d3f3",
           "#FF6692",
           "#B6E880",
           "#FF97FF",
           "#FECB52"
          ],
          "font": {
           "color": "#2a3f5f"
          },
          "geo": {
           "bgcolor": "white",
           "lakecolor": "white",
           "landcolor": "#E5ECF6",
           "showlakes": true,
           "showland": true,
           "subunitcolor": "white"
          },
          "hoverlabel": {
           "align": "left"
          },
          "hovermode": "closest",
          "mapbox": {
           "style": "light"
          },
          "paper_bgcolor": "white",
          "plot_bgcolor": "#E5ECF6",
          "polar": {
           "angularaxis": {
            "gridcolor": "white",
            "linecolor": "white",
            "ticks": ""
           },
           "bgcolor": "#E5ECF6",
           "radialaxis": {
            "gridcolor": "white",
            "linecolor": "white",
            "ticks": ""
           }
          },
          "scene": {
           "xaxis": {
            "backgroundcolor": "#E5ECF6",
            "gridcolor": "white",
            "gridwidth": 2,
            "linecolor": "white",
            "showbackground": true,
            "ticks": "",
            "zerolinecolor": "white"
           },
           "yaxis": {
            "backgroundcolor": "#E5ECF6",
            "gridcolor": "white",
            "gridwidth": 2,
            "linecolor": "white",
            "showbackground": true,
            "ticks": "",
            "zerolinecolor": "white"
           },
           "zaxis": {
            "backgroundcolor": "#E5ECF6",
            "gridcolor": "white",
            "gridwidth": 2,
            "linecolor": "white",
            "showbackground": true,
            "ticks": "",
            "zerolinecolor": "white"
           }
          },
          "shapedefaults": {
           "line": {
            "color": "#2a3f5f"
           }
          },
          "ternary": {
           "aaxis": {
            "gridcolor": "white",
            "linecolor": "white",
            "ticks": ""
           },
           "baxis": {
            "gridcolor": "white",
            "linecolor": "white",
            "ticks": ""
           },
           "bgcolor": "#E5ECF6",
           "caxis": {
            "gridcolor": "white",
            "linecolor": "white",
            "ticks": ""
           }
          },
          "title": {
           "x": 0.05
          },
          "xaxis": {
           "automargin": true,
           "gridcolor": "white",
           "linecolor": "white",
           "ticks": "",
           "title": {
            "standoff": 15
           },
           "zerolinecolor": "white",
           "zerolinewidth": 2
          },
          "yaxis": {
           "automargin": true,
           "gridcolor": "white",
           "linecolor": "white",
           "ticks": "",
           "title": {
            "standoff": 15
           },
           "zerolinecolor": "white",
           "zerolinewidth": 2
          }
         }
        },
        "title": {
         "text": "Team별 휴가 사용 패턴 분석"
        },
        "updatemenus": [
         {
          "active": 0,
          "buttons": [
           {
            "args": [
             {
              "visible": [
               true,
               true,
               true,
               true,
               false,
               false,
               false,
               false
              ]
             }
            ],
            "label": "전체",
            "method": "update"
           },
           {
            "args": [
             {
              "visible": [
               false,
               false,
               false,
               false,
               true,
               false,
               false,
               false
              ]
             }
            ],
            "label": "Planning Division",
            "method": "update"
           },
           {
            "args": [
             {
              "visible": [
               false,
               false,
               false,
               false,
               false,
               true,
               false,
               false
              ]
             }
            ],
            "label": "Sales Division",
            "method": "update"
           },
           {
            "args": [
             {
              "visible": [
               false,
               false,
               false,
               false,
               false,
               false,
               true,
               false
              ]
             }
            ],
            "label": "Development Division",
            "method": "update"
           },
           {
            "args": [
             {
              "visible": [
               false,
               false,
               false,
               false,
               false,
               false,
               false,
               true
              ]
             }
            ],
            "label": "Operating Division",
            "method": "update"
           }
          ],
          "direction": "down",
          "pad": {
           "r": 10,
           "t": 10
          },
          "showactive": true,
          "x": 0.01,
          "xanchor": "left",
          "y": 1.1,
          "yanchor": "top"
         }
        ],
        "xaxis": {
         "range": [
          0,
          48.54128440366973
         ],
         "title": {
          "text": "징검다리 휴가 비율 (%)"
         }
        },
        "yaxis": {
         "range": [
          0,
          9.061522419186653
         ],
         "title": {
          "text": "장기휴가 비율 (%)"
         }
        }
       }
      }
     },
     "metadata": {},
     "output_type": "display_data"
    }
   ],
   "source": [
    "import pandas as pd\n",
    "import numpy as np\n",
    "import plotly.graph_objects as go\n",
    "import plotly.io as pio\n",
    "import plotly.express as px\n",
    "\n",
    "# --- 1. 데이터 임포트 ---\n",
    "from services.tables.Time_Attendance.leave_type_table import leave_type_df\n",
    "from services.tables.Time_Attendance.detailed_leave_info_table import detailed_leave_info_df\n",
    "from services.tables.HR_Core.department_info_table import department_info_df\n",
    "from services.tables.HR_Core.department_table import (\n",
    "    department_df, dept_level_map, parent_map_dept, dept_name_map,\n",
    "    division_order\n",
    ")\n",
    "from services.helpers.utils import find_parents\n",
    "\n",
    "def calculate_ratios(df):\n",
    "    \"\"\"휴가 패턴 비율을 계산하는 로컬 헬퍼 함수\"\"\"\n",
    "    if df.empty: return pd.Series({'LONG_LEAVE_RATIO': 0, 'BRIDGE_LEAVE_RATIO': 0})\n",
    "    total_leaves = df['LEAVE_LENGTH'].sum()\n",
    "    long_leaves = df[df['IS_LONG_LEAVE']]['LEAVE_LENGTH'].sum()\n",
    "    bridge_leaves = df[df['IS_BRIDGE']]['LEAVE_LENGTH'].sum()\n",
    "    return pd.Series({\n",
    "        'LONG_LEAVE_RATIO': (long_leaves / total_leaves) * 100 if total_leaves > 0 else 0,\n",
    "        'BRIDGE_LEAVE_RATIO': (bridge_leaves / total_leaves) * 100 if total_leaves > 0 else 0\n",
    "    })\n",
    "\n",
    "def create_figure():\n",
    "    \"\"\"\n",
    "    제안 20: 조직별 휴가 사용 패턴 분석 그래프를 생성합니다.\n",
    "    \"\"\"\n",
    "    # --- 2. 데이터 준비 및 가공 ---\n",
    "    annual_leave_id = leave_type_df[leave_type_df['LEAVE_TYPE_NAME'] == '연차휴가']['LEAVE_TYPE_ID'].iloc[0]\n",
    "    analysis_df = detailed_leave_info_df[detailed_leave_info_df['LEAVE_TYPE_ID'] == annual_leave_id].copy()\n",
    "    analysis_df['DATE'] = pd.to_datetime(analysis_df['DATE'])\n",
    "    analysis_df['DAY_OF_WEEK'] = analysis_df['DATE'].dt.weekday\n",
    "\n",
    "    dept_info_sorted = department_info_df.sort_values(['DEP_APP_START_DATE', 'EMP_ID'])\n",
    "    analysis_df = analysis_df.sort_values(['DATE', 'EMP_ID'])\n",
    "    analysis_df = pd.merge_asof(\n",
    "        analysis_df, dept_info_sorted[['EMP_ID', 'DEP_APP_START_DATE', 'DEP_ID']],\n",
    "        left_on='DATE', right_on='DEP_APP_START_DATE', by='EMP_ID', direction='backward'\n",
    "    )\n",
    "    \n",
    "    parent_info = analysis_df['DEP_ID'].apply(lambda x: find_parents(x, dept_level_map, parent_map_dept, dept_name_map))\n",
    "    analysis_df = pd.concat([analysis_df, parent_info], axis=1)\n",
    "    analysis_df = pd.merge(analysis_df, department_df[['DEP_ID', 'DEP_NAME']], on='DEP_ID')\n",
    "    analysis_df = analysis_df.rename(columns={'DEP_NAME': 'TEAM_NAME'})\n",
    "    analysis_df = analysis_df.dropna(subset=['DIVISION_NAME', 'OFFICE_NAME', 'TEAM_NAME'])\n",
    "\n",
    "    analysis_df['IS_BRIDGE'] = analysis_df['DAY_OF_WEEK'].isin([0, 4])\n",
    "    analysis_df = analysis_df.sort_values(['EMP_ID', 'DATE'])\n",
    "    analysis_df['DATE_DIFF'] = analysis_df.groupby('EMP_ID')['DATE'].diff().dt.days\n",
    "    analysis_df['BLOCK_ID'] = (analysis_df['DATE_DIFF'] != 1).cumsum()\n",
    "    block_lengths = analysis_df.groupby(['EMP_ID', 'BLOCK_ID'])['DATE'].count().rename('BLOCK_LENGTH')\n",
    "    analysis_df = pd.merge(analysis_df, block_lengths, on=['EMP_ID', 'BLOCK_ID'])\n",
    "    analysis_df['IS_LONG_LEAVE'] = analysis_df['BLOCK_LENGTH'] >= 3\n",
    "\n",
    "    team_summary = analysis_df.groupby(['DIVISION_NAME', 'OFFICE_NAME', 'TEAM_NAME'], observed=False).apply(calculate_ratios, include_groups=False).reset_index()\n",
    "\n",
    "    # --- 3. Plotly 인터랙티브 그래프 생성 ---\n",
    "    fig = go.Figure()\n",
    "    colors = px.colors.qualitative.Plotly\n",
    "\n",
    "    for i, div_name in enumerate(division_order):\n",
    "        df_filtered = team_summary[team_summary['DIVISION_NAME'] == div_name]\n",
    "        fig.add_trace(go.Scatter(\n",
    "            x=df_filtered['BRIDGE_LEAVE_RATIO'], y=df_filtered['LONG_LEAVE_RATIO'],\n",
    "            mode='markers', text=df_filtered['TEAM_NAME'],\n",
    "            marker=dict(size=10, color=colors[i]),\n",
    "            hovertemplate='%{text}<extra></extra>', name=div_name,\n",
    "            visible=True\n",
    "        ))\n",
    "\n",
    "    for i, div_name in enumerate(division_order):\n",
    "        df_filtered = team_summary[team_summary['DIVISION_NAME'] == div_name]\n",
    "        fig.add_trace(go.Scatter(\n",
    "            x=df_filtered['BRIDGE_LEAVE_RATIO'], y=df_filtered['LONG_LEAVE_RATIO'],\n",
    "            mode='markers+text', text=df_filtered['TEAM_NAME'],\n",
    "            textposition='bottom center',\n",
    "            marker=dict(size=12, color=colors[i]),\n",
    "            hovertemplate='%{text}<extra></extra>', name=div_name,\n",
    "            visible=False\n",
    "        ))\n",
    "\n",
    "    # --- 4. 드롭다운 메뉴 및 레이아웃 업데이트 ---\n",
    "    buttons = []\n",
    "    buttons.append(dict(label='전체', method='update',\n",
    "                        args=[{'visible': [True]*len(division_order) + [False]*len(division_order)}]))\n",
    "    for i, div_name in enumerate(division_order):\n",
    "        visibility_mask = [False] * (len(division_order) * 2)\n",
    "        visibility_mask[len(division_order) + i] = True\n",
    "        buttons.append(dict(label=f'{div_name}', method='update', args=[{'visible': visibility_mask}]))\n",
    "\n",
    "    x_median = team_summary['BRIDGE_LEAVE_RATIO'].median()\n",
    "    y_median = team_summary['LONG_LEAVE_RATIO'].median()\n",
    "    x_max = team_summary['BRIDGE_LEAVE_RATIO'].max()\n",
    "    y_max = team_summary['LONG_LEAVE_RATIO'].max()\n",
    "\n",
    "    fig.update_layout(\n",
    "        updatemenus=[dict(active=0, buttons=buttons, direction=\"down\", pad={\"r\": 10, \"t\": 10}, showactive=True, x=0.01, xanchor=\"left\", y=1.1, yanchor=\"top\")],\n",
    "        title_text='Team별 휴가 사용 패턴 분석',\n",
    "        xaxis_title='징검다리 휴가 비율 (%)', yaxis_title='장기휴가 비율 (%)',\n",
    "        font_size=14, height=800,\n",
    "        legend_title_text='Division',\n",
    "        xaxis_range=[0, x_max*1.1], yaxis_range=[0, y_max*1.1],\n",
    "        annotations=[dict(text=\"조직 선택:\", showarrow=False, x=0, y=1.08, yref=\"paper\", align=\"left\")]\n",
    "    )\n",
    "    fig.add_vline(x=x_median, line_width=1, line_dash=\"dash\", line_color=\"grey\")\n",
    "    fig.add_hline(y=y_median, line_width=1, line_dash=\"dash\", line_color=\"grey\")\n",
    "    fig.add_annotation(x=0.98, y=0.98, xref=\"paper\", yref=\"paper\", text=\"스마트 휴식형\", showarrow=False, bgcolor=\"rgba(255, 255, 255, 0.5)\")\n",
    "    fig.add_annotation(x=0.02, y=0.98, xref=\"paper\", yref=\"paper\", text=\"집중 휴식형\", showarrow=False, bgcolor=\"rgba(255, 255, 255, 0.5)\")\n",
    "    fig.add_annotation(x=0.02, y=0.02, xref=\"paper\", yref=\"paper\", text=\"파편적 휴식형\", showarrow=False, bgcolor=\"rgba(255, 255, 255, 0.5)\")\n",
    "    fig.add_annotation(x=0.98, y=0.02, xref=\"paper\", yref=\"paper\", text=\"짧은 재충전형\", showarrow=False, bgcolor=\"rgba(255, 255, 255, 0.5)\")\n",
    "    \n",
    "    return fig\n",
    "\n",
    "\n",
    "\n",
    "pio.renderers.default = 'vscode'\n",
    "fig = create_figure()\n",
    "fig.show()"
   ]
  },
  {
   "cell_type": "code",
   "execution_count": null,
   "id": "17f3fb77",
   "metadata": {},
   "outputs": [],
   "source": []
  }
 ],
 "metadata": {
  "kernelspec": {
   "display_name": "Python 3 (ipykernel)",
   "language": "python",
   "name": "python3"
  }
 },
 "nbformat": 4,
 "nbformat_minor": 5
}
