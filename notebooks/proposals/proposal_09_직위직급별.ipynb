{
 "cells": [
  {
   "cell_type": "code",
   "execution_count": 1,
   "id": "b8090306",
   "metadata": {},
   "outputs": [
    {
     "data": {
      "application/vnd.plotly.v1+json": {
       "config": {
        "plotlyServerURL": "https://plot.ly"
       },
       "data": [
        {
         "line": {
          "color": "#636EFA"
         },
         "mode": "lines+markers+text",
         "name": "Staff",
         "text": [
          "0.71%",
          "1.65%",
          "0.92%",
          "1.64%",
          "3.32%",
          "4.48%",
          "6.13%",
          "4.83%",
          "4.17%",
          "4.02%",
          "6.93%",
          "6.28%",
          "7.81%",
          "4.97%"
         ],
         "textposition": "top center",
         "type": "scatter",
         "x": {
          "bdata": "3AcAAN0HAADeBwAA3wcAAOAHAADhBwAA4gcAAOMHAADkBwAA5QcAAOYHAADnBwAA6AcAAOkHAAA=",
          "dtype": "i4"
         },
         "y": {
          "bdata": "t23btm3b5j/7pV/6pV/6P7rVGamYW+0//BSXDME6+j9AcxrceZEKQHYLvxoT6RFApavdBmWFGEDZjBzqslQTQKqqqqqqqhBA+EcKJnMQEECQ0m4EpLQbQD0B0fnqHhlAAAAAAABAH0AZ8MnhMuATQA==",
          "dtype": "f8"
         }
        },
        {
         "line": {
          "color": "#EF553B"
         },
         "mode": "lines+markers+text",
         "name": "Manager",
         "text": [
          "0.0%",
          "7.41%",
          "0.0%",
          "3.64%",
          "0.0%",
          "2.88%",
          "6.15%",
          "9.49%",
          "6.7%",
          "7.54%",
          "10.73%",
          "8.24%",
          "6.04%",
          "5.47%"
         ],
         "textposition": "top center",
         "type": "scatter",
         "x": {
          "bdata": "3AcAAN0HAADeBwAA3wcAAOAHAADhBwAA4gcAAOMHAADkBwAA5QcAAOYHAADnBwAA6AcAAOkHAAA=",
          "dtype": "i4"
         },
         "y": {
          "bdata": "AAAAAAAAAAAS2ktoL6EdQAAAAAAAAAAAF1100UUXDUAAAAAAAAAAADuxEzuxEwdA2Ymd2ImdGED6XS1uwvwiQF3FsvHN0BpARu+KzJcmHkCArGvuj3UlQHh4eHh4eCBA8lb2OaQmGEAAAAAAAOAVQA==",
          "dtype": "f8"
         }
        },
        {
         "line": {
          "color": "#00CC96"
         },
         "mode": "lines+markers+text",
         "name": "Director",
         "text": [
          "0.0%",
          "0.0%",
          "25.0%",
          "0.0%",
          "25.0%",
          "7.69%",
          "5.26%",
          "20.0%",
          "4.88%",
          "9.62%",
          "3.23%"
         ],
         "textposition": "top center",
         "type": "scatter",
         "x": {
          "bdata": "3wcAAOAHAADhBwAA4gcAAOMHAADkBwAA5QcAAOYHAADnBwAA6AcAAOkHAAA=",
          "dtype": "i4"
         },
         "y": {
          "bdata": "AAAAAAAAAAAAAAAAAAAAAAAAAAAAADlAAAAAAAAAAAAAAAAAAAA5QE/sxE7sxB5A11BeQ3kNFUAAAAAAAAA0QIPzMTgfgxNAshM7sRM7I0DOOeecc84JQA==",
          "dtype": "f8"
         }
        },
        {
         "line": {
          "color": "#636EFA"
         },
         "mode": "lines+markers+text",
         "name": "G1",
         "text": [
          "1.14%",
          "1.74%",
          "1.52%",
          "2.17%",
          "3.36%",
          "3.62%",
          "4.76%",
          "0.89%",
          "0.99%",
          "0.0%",
          "2.5%",
          "3.28%",
          "1.79%",
          "0.0%"
         ],
         "textposition": "top center",
         "type": "scatter",
         "visible": false,
         "x": {
          "bdata": "3AcAAN0HAADeBwAA3wcAAOAHAADhBwAA4gcAAOMHAADkBwAA5QcAAOYHAADnBwAA6AcAAOkHAAA=",
          "dtype": "i4"
         },
         "y": {
          "bdata": "L7rooosu8j+96U1vetP7Pz744IMPPvg/FrKQhSxkAUBWFme0e9gKQNAo8TNK/AxAwzAMwzAME0AkSZIkSZLsP5h0ah7kru8/AAAAAAAAAAAAAAAAAAAEQPwUlwzBOgpAJEmSJEmS/D8AAAAAAAAAAA==",
          "dtype": "f8"
         }
        },
        {
         "line": {
          "color": "#EF553B"
         },
         "mode": "lines+markers+text",
         "name": "G2",
         "text": [
          "0.0%",
          "1.49%",
          "0.0%",
          "0.94%",
          "3.28%",
          "5.38%",
          "7.41%",
          "7.64%",
          "6.13%",
          "6.45%",
          "9.27%",
          "7.53%",
          "10.29%",
          "6.72%"
         ],
         "textposition": "top center",
         "type": "scatter",
         "visible": false,
         "x": {
          "bdata": "3AcAAN0HAADeBwAA3wcAAOAHAADhBwAA4gcAAOMHAADkBwAA5QcAAOYHAADnBwAA6AcAAOkHAAA=",
          "dtype": "i4"
         },
         "y": {
          "bdata": "AAAAAAAAAABID1TObuH3PwAAAAAAAAAAruxzSE0w7j/8FJcMwToKQJ7YiZ3YiRVAEtpLaC+hHUDmT1towJIeQNz8FWY1ihhAzjnnnHPOGUAULAoWBYsiQDFixIgRIx5AlpaWlpaWJECbCOSaCOQaQA==",
          "dtype": "f8"
         }
        },
        {
         "line": {
          "color": "#636EFA"
         },
         "mode": "lines+markers+text",
         "name": "G3",
         "text": [
          "0.0%",
          "8.7%",
          "0.0%",
          "4.08%",
          "0.0%",
          "2.27%",
          "4.08%",
          "8.77%",
          "8.8%",
          "7.41%",
          "10.81%",
          "9.32%",
          "5.42%",
          "7.14%"
         ],
         "textposition": "top center",
         "type": "scatter",
         "visible": false,
         "x": {
          "bdata": "3AcAAN0HAADeBwAA3wcAAOAHAADhBwAA4gcAAOMHAADkBwAA5QcAAOYHAADnBwAA6AcAAOkHAAA=",
          "dtype": "i4"
         },
         "y": {
          "bdata": "AAAAAAAAAAAWspCFLGQhQAAAAAAAAAAAFbycgpdTEEAAAAAAAAAAAC+66KKLLgJAFbycgpdTEECzmM5iOoshQJmZmZmZmSFAEtpLaC+hHUDyWTeYIp8lQBhRrbMvoiJAKOGNps6vFUAkSZIkSZIcQA==",
          "dtype": "f8"
         }
        },
        {
         "line": {
          "color": "#EF553B"
         },
         "mode": "lines+markers+text",
         "name": "G4",
         "text": [
          "0.0%",
          "0.0%",
          "0.0%",
          "0.0%",
          "0.0%",
          "6.25%",
          "12.5%",
          "11.36%",
          "1.85%",
          "7.81%",
          "10.59%",
          "6.38%",
          "7.07%",
          "2.94%"
         ],
         "textposition": "top center",
         "type": "scatter",
         "visible": false,
         "x": {
          "bdata": "3AcAAN0HAADeBwAA3wcAAOAHAADhBwAA4gcAAOMHAADkBwAA5QcAAOYHAADnBwAA6AcAAOkHAAA=",
          "dtype": "i4"
         },
         "y": {
          "bdata": "AAAAAAAAAAAAAAAAAAAAAAAAAAAAAAAAAAAAAAAAAAAAAAAAAAAAAAAAAAAAABlAAAAAAAAAKUC66KKLLromQBLaS2gvof0/AAAAAABAH0AtLS0tLS0lQCZXEJMriBlAnSExb2dIHECHh4eHh4cHQA==",
          "dtype": "f8"
         }
        },
        {
         "line": {
          "color": "#636EFA"
         },
         "mode": "lines+markers+text",
         "name": "G5",
         "text": [
          "0.0%",
          "0.0%",
          "25.0%",
          "0.0%",
          "25.0%",
          "8.33%",
          "5.88%",
          "18.18%",
          "5.41%",
          "8.89%",
          "3.92%"
         ],
         "textposition": "top center",
         "type": "scatter",
         "visible": false,
         "x": {
          "bdata": "3wcAAOAHAADhBwAA4gcAAOMHAADkBwAA5QcAAOYHAADnBwAA6AcAAOkHAAA=",
          "dtype": "i4"
         },
         "y": {
          "bdata": "AAAAAAAAAAAAAAAAAAAAAAAAAAAAADlAAAAAAAAAAAAAAAAAAAA5QKqqqqqqqiBAh4eHh4eHF0Avuuiiiy4yQPJZN5ginxVAchzHcRzHIUBfX19fX18PQA==",
          "dtype": "f8"
         }
        },
        {
         "line": {
          "color": "#EF553B"
         },
         "mode": "lines+markers+text",
         "name": "G6",
         "text": [
          "0.0%",
          "0.0%",
          "33.33%",
          "0.0%",
          "14.29%",
          "0.0%"
         ],
         "textposition": "top center",
         "type": "scatter",
         "visible": false,
         "x": {
          "bdata": "5AcAAOUHAADmBwAA5wcAAOgHAADpBwAA",
          "dtype": "i4"
         },
         "y": {
          "bdata": "AAAAAAAAAAAAAAAAAAAAAKqqqqqqqkBAAAAAAAAAAAAkSZIkSZIsQAAAAAAAAAAA",
          "dtype": "f8"
         }
        }
       ],
       "layout": {
        "annotations": [
         {
          "align": "left",
          "showarrow": false,
          "text": "직위/직급 선택:",
          "x": 0,
          "y": 1.08,
          "yref": "paper"
         }
        ],
        "font": {
         "size": 14
        },
        "height": 700,
        "legend": {
         "title": {
          "text": "직위"
         }
        },
        "template": {
         "data": {
          "bar": [
           {
            "error_x": {
             "color": "#2a3f5f"
            },
            "error_y": {
             "color": "#2a3f5f"
            },
            "marker": {
             "line": {
              "color": "#E5ECF6",
              "width": 0.5
             },
             "pattern": {
              "fillmode": "overlay",
              "size": 10,
              "solidity": 0.2
             }
            },
            "type": "bar"
           }
          ],
          "barpolar": [
           {
            "marker": {
             "line": {
              "color": "#E5ECF6",
              "width": 0.5
             },
             "pattern": {
              "fillmode": "overlay",
              "size": 10,
              "solidity": 0.2
             }
            },
            "type": "barpolar"
           }
          ],
          "carpet": [
           {
            "aaxis": {
             "endlinecolor": "#2a3f5f",
             "gridcolor": "white",
             "linecolor": "white",
             "minorgridcolor": "white",
             "startlinecolor": "#2a3f5f"
            },
            "baxis": {
             "endlinecolor": "#2a3f5f",
             "gridcolor": "white",
             "linecolor": "white",
             "minorgridcolor": "white",
             "startlinecolor": "#2a3f5f"
            },
            "type": "carpet"
           }
          ],
          "choropleth": [
           {
            "colorbar": {
             "outlinewidth": 0,
             "ticks": ""
            },
            "type": "choropleth"
           }
          ],
          "contour": [
           {
            "colorbar": {
             "outlinewidth": 0,
             "ticks": ""
            },
            "colorscale": [
             [
              0,
              "#0d0887"
             ],
             [
              0.1111111111111111,
              "#46039f"
             ],
             [
              0.2222222222222222,
              "#7201a8"
             ],
             [
              0.3333333333333333,
              "#9c179e"
             ],
             [
              0.4444444444444444,
              "#bd3786"
             ],
             [
              0.5555555555555556,
              "#d8576b"
             ],
             [
              0.6666666666666666,
              "#ed7953"
             ],
             [
              0.7777777777777778,
              "#fb9f3a"
             ],
             [
              0.8888888888888888,
              "#fdca26"
             ],
             [
              1,
              "#f0f921"
             ]
            ],
            "type": "contour"
           }
          ],
          "contourcarpet": [
           {
            "colorbar": {
             "outlinewidth": 0,
             "ticks": ""
            },
            "type": "contourcarpet"
           }
          ],
          "heatmap": [
           {
            "colorbar": {
             "outlinewidth": 0,
             "ticks": ""
            },
            "colorscale": [
             [
              0,
              "#0d0887"
             ],
             [
              0.1111111111111111,
              "#46039f"
             ],
             [
              0.2222222222222222,
              "#7201a8"
             ],
             [
              0.3333333333333333,
              "#9c179e"
             ],
             [
              0.4444444444444444,
              "#bd3786"
             ],
             [
              0.5555555555555556,
              "#d8576b"
             ],
             [
              0.6666666666666666,
              "#ed7953"
             ],
             [
              0.7777777777777778,
              "#fb9f3a"
             ],
             [
              0.8888888888888888,
              "#fdca26"
             ],
             [
              1,
              "#f0f921"
             ]
            ],
            "type": "heatmap"
           }
          ],
          "histogram": [
           {
            "marker": {
             "pattern": {
              "fillmode": "overlay",
              "size": 10,
              "solidity": 0.2
             }
            },
            "type": "histogram"
           }
          ],
          "histogram2d": [
           {
            "colorbar": {
             "outlinewidth": 0,
             "ticks": ""
            },
            "colorscale": [
             [
              0,
              "#0d0887"
             ],
             [
              0.1111111111111111,
              "#46039f"
             ],
             [
              0.2222222222222222,
              "#7201a8"
             ],
             [
              0.3333333333333333,
              "#9c179e"
             ],
             [
              0.4444444444444444,
              "#bd3786"
             ],
             [
              0.5555555555555556,
              "#d8576b"
             ],
             [
              0.6666666666666666,
              "#ed7953"
             ],
             [
              0.7777777777777778,
              "#fb9f3a"
             ],
             [
              0.8888888888888888,
              "#fdca26"
             ],
             [
              1,
              "#f0f921"
             ]
            ],
            "type": "histogram2d"
           }
          ],
          "histogram2dcontour": [
           {
            "colorbar": {
             "outlinewidth": 0,
             "ticks": ""
            },
            "colorscale": [
             [
              0,
              "#0d0887"
             ],
             [
              0.1111111111111111,
              "#46039f"
             ],
             [
              0.2222222222222222,
              "#7201a8"
             ],
             [
              0.3333333333333333,
              "#9c179e"
             ],
             [
              0.4444444444444444,
              "#bd3786"
             ],
             [
              0.5555555555555556,
              "#d8576b"
             ],
             [
              0.6666666666666666,
              "#ed7953"
             ],
             [
              0.7777777777777778,
              "#fb9f3a"
             ],
             [
              0.8888888888888888,
              "#fdca26"
             ],
             [
              1,
              "#f0f921"
             ]
            ],
            "type": "histogram2dcontour"
           }
          ],
          "mesh3d": [
           {
            "colorbar": {
             "outlinewidth": 0,
             "ticks": ""
            },
            "type": "mesh3d"
           }
          ],
          "parcoords": [
           {
            "line": {
             "colorbar": {
              "outlinewidth": 0,
              "ticks": ""
             }
            },
            "type": "parcoords"
           }
          ],
          "pie": [
           {
            "automargin": true,
            "type": "pie"
           }
          ],
          "scatter": [
           {
            "fillpattern": {
             "fillmode": "overlay",
             "size": 10,
             "solidity": 0.2
            },
            "type": "scatter"
           }
          ],
          "scatter3d": [
           {
            "line": {
             "colorbar": {
              "outlinewidth": 0,
              "ticks": ""
             }
            },
            "marker": {
             "colorbar": {
              "outlinewidth": 0,
              "ticks": ""
             }
            },
            "type": "scatter3d"
           }
          ],
          "scattercarpet": [
           {
            "marker": {
             "colorbar": {
              "outlinewidth": 0,
              "ticks": ""
             }
            },
            "type": "scattercarpet"
           }
          ],
          "scattergeo": [
           {
            "marker": {
             "colorbar": {
              "outlinewidth": 0,
              "ticks": ""
             }
            },
            "type": "scattergeo"
           }
          ],
          "scattergl": [
           {
            "marker": {
             "colorbar": {
              "outlinewidth": 0,
              "ticks": ""
             }
            },
            "type": "scattergl"
           }
          ],
          "scattermap": [
           {
            "marker": {
             "colorbar": {
              "outlinewidth": 0,
              "ticks": ""
             }
            },
            "type": "scattermap"
           }
          ],
          "scattermapbox": [
           {
            "marker": {
             "colorbar": {
              "outlinewidth": 0,
              "ticks": ""
             }
            },
            "type": "scattermapbox"
           }
          ],
          "scatterpolar": [
           {
            "marker": {
             "colorbar": {
              "outlinewidth": 0,
              "ticks": ""
             }
            },
            "type": "scatterpolar"
           }
          ],
          "scatterpolargl": [
           {
            "marker": {
             "colorbar": {
              "outlinewidth": 0,
              "ticks": ""
             }
            },
            "type": "scatterpolargl"
           }
          ],
          "scatterternary": [
           {
            "marker": {
             "colorbar": {
              "outlinewidth": 0,
              "ticks": ""
             }
            },
            "type": "scatterternary"
           }
          ],
          "surface": [
           {
            "colorbar": {
             "outlinewidth": 0,
             "ticks": ""
            },
            "colorscale": [
             [
              0,
              "#0d0887"
             ],
             [
              0.1111111111111111,
              "#46039f"
             ],
             [
              0.2222222222222222,
              "#7201a8"
             ],
             [
              0.3333333333333333,
              "#9c179e"
             ],
             [
              0.4444444444444444,
              "#bd3786"
             ],
             [
              0.5555555555555556,
              "#d8576b"
             ],
             [
              0.6666666666666666,
              "#ed7953"
             ],
             [
              0.7777777777777778,
              "#fb9f3a"
             ],
             [
              0.8888888888888888,
              "#fdca26"
             ],
             [
              1,
              "#f0f921"
             ]
            ],
            "type": "surface"
           }
          ],
          "table": [
           {
            "cells": {
             "fill": {
              "color": "#EBF0F8"
             },
             "line": {
              "color": "white"
             }
            },
            "header": {
             "fill": {
              "color": "#C8D4E3"
             },
             "line": {
              "color": "white"
             }
            },
            "type": "table"
           }
          ]
         },
         "layout": {
          "annotationdefaults": {
           "arrowcolor": "#2a3f5f",
           "arrowhead": 0,
           "arrowwidth": 1
          },
          "autotypenumbers": "strict",
          "coloraxis": {
           "colorbar": {
            "outlinewidth": 0,
            "ticks": ""
           }
          },
          "colorscale": {
           "diverging": [
            [
             0,
             "#8e0152"
            ],
            [
             0.1,
             "#c51b7d"
            ],
            [
             0.2,
             "#de77ae"
            ],
            [
             0.3,
             "#f1b6da"
            ],
            [
             0.4,
             "#fde0ef"
            ],
            [
             0.5,
             "#f7f7f7"
            ],
            [
             0.6,
             "#e6f5d0"
            ],
            [
             0.7,
             "#b8e186"
            ],
            [
             0.8,
             "#7fbc41"
            ],
            [
             0.9,
             "#4d9221"
            ],
            [
             1,
             "#276419"
            ]
           ],
           "sequential": [
            [
             0,
             "#0d0887"
            ],
            [
             0.1111111111111111,
             "#46039f"
            ],
            [
             0.2222222222222222,
             "#7201a8"
            ],
            [
             0.3333333333333333,
             "#9c179e"
            ],
            [
             0.4444444444444444,
             "#bd3786"
            ],
            [
             0.5555555555555556,
             "#d8576b"
            ],
            [
             0.6666666666666666,
             "#ed7953"
            ],
            [
             0.7777777777777778,
             "#fb9f3a"
            ],
            [
             0.8888888888888888,
             "#fdca26"
            ],
            [
             1,
             "#f0f921"
            ]
           ],
           "sequentialminus": [
            [
             0,
             "#0d0887"
            ],
            [
             0.1111111111111111,
             "#46039f"
            ],
            [
             0.2222222222222222,
             "#7201a8"
            ],
            [
             0.3333333333333333,
             "#9c179e"
            ],
            [
             0.4444444444444444,
             "#bd3786"
            ],
            [
             0.5555555555555556,
             "#d8576b"
            ],
            [
             0.6666666666666666,
             "#ed7953"
            ],
            [
             0.7777777777777778,
             "#fb9f3a"
            ],
            [
             0.8888888888888888,
             "#fdca26"
            ],
            [
             1,
             "#f0f921"
            ]
           ]
          },
          "colorway": [
           "#636efa",
           "#EF553B",
           "#00cc96",
           "#ab63fa",
           "#FFA15A",
           "#19d3f3",
           "#FF6692",
           "#B6E880",
           "#FF97FF",
           "#FECB52"
          ],
          "font": {
           "color": "#2a3f5f"
          },
          "geo": {
           "bgcolor": "white",
           "lakecolor": "white",
           "landcolor": "#E5ECF6",
           "showlakes": true,
           "showland": true,
           "subunitcolor": "white"
          },
          "hoverlabel": {
           "align": "left"
          },
          "hovermode": "closest",
          "mapbox": {
           "style": "light"
          },
          "paper_bgcolor": "white",
          "plot_bgcolor": "#E5ECF6",
          "polar": {
           "angularaxis": {
            "gridcolor": "white",
            "linecolor": "white",
            "ticks": ""
           },
           "bgcolor": "#E5ECF6",
           "radialaxis": {
            "gridcolor": "white",
            "linecolor": "white",
            "ticks": ""
           }
          },
          "scene": {
           "xaxis": {
            "backgroundcolor": "#E5ECF6",
            "gridcolor": "white",
            "gridwidth": 2,
            "linecolor": "white",
            "showbackground": true,
            "ticks": "",
            "zerolinecolor": "white"
           },
           "yaxis": {
            "backgroundcolor": "#E5ECF6",
            "gridcolor": "white",
            "gridwidth": 2,
            "linecolor": "white",
            "showbackground": true,
            "ticks": "",
            "zerolinecolor": "white"
           },
           "zaxis": {
            "backgroundcolor": "#E5ECF6",
            "gridcolor": "white",
            "gridwidth": 2,
            "linecolor": "white",
            "showbackground": true,
            "ticks": "",
            "zerolinecolor": "white"
           }
          },
          "shapedefaults": {
           "line": {
            "color": "#2a3f5f"
           }
          },
          "ternary": {
           "aaxis": {
            "gridcolor": "white",
            "linecolor": "white",
            "ticks": ""
           },
           "baxis": {
            "gridcolor": "white",
            "linecolor": "white",
            "ticks": ""
           },
           "bgcolor": "#E5ECF6",
           "caxis": {
            "gridcolor": "white",
            "linecolor": "white",
            "ticks": ""
           }
          },
          "title": {
           "x": 0.05
          },
          "xaxis": {
           "automargin": true,
           "gridcolor": "white",
           "linecolor": "white",
           "ticks": "",
           "title": {
            "standoff": 15
           },
           "zerolinecolor": "white",
           "zerolinewidth": 2
          },
          "yaxis": {
           "automargin": true,
           "gridcolor": "white",
           "linecolor": "white",
           "ticks": "",
           "title": {
            "standoff": 15
           },
           "zerolinecolor": "white",
           "zerolinewidth": 2
          }
         }
        },
        "title": {
         "text": "직위/직급별 연간 직무 이동률(%) 변화 추이"
        },
        "updatemenus": [
         {
          "active": 0,
          "buttons": [
           {
            "args": [
             {
              "visible": [
               true,
               true,
               true,
               false,
               false,
               false,
               false,
               false,
               false
              ]
             },
             {
              "legend_title_text": "직위",
              "title": "전체 직위별 연간 직무 이동률(%) 변화 추이"
             }
            ],
            "label": "전체",
            "method": "update"
           },
           {
            "args": [
             {
              "visible": [
               false,
               false,
               false,
               true,
               true,
               false,
               false,
               false,
               false
              ]
             },
             {
              "legend_title_text": "직급",
              "title": "Staff 내 직급별 연간 직무 이동률(%) 변화 추이"
             }
            ],
            "label": "Staff",
            "method": "update"
           },
           {
            "args": [
             {
              "visible": [
               false,
               false,
               false,
               false,
               false,
               true,
               true,
               false,
               false
              ]
             },
             {
              "legend_title_text": "직급",
              "title": "Manager 내 직급별 연간 직무 이동률(%) 변화 추이"
             }
            ],
            "label": "Manager",
            "method": "update"
           },
           {
            "args": [
             {
              "visible": [
               false,
               false,
               false,
               false,
               false,
               false,
               false,
               true,
               true
              ]
             },
             {
              "legend_title_text": "직급",
              "title": "Director 내 직급별 연간 직무 이동률(%) 변화 추이"
             }
            ],
            "label": "Director",
            "method": "update"
           }
          ],
          "direction": "down",
          "pad": {
           "r": 10,
           "t": 10
          },
          "showactive": true,
          "x": 0.01,
          "xanchor": "left",
          "y": 1.1,
          "yanchor": "top"
         }
        ],
        "xaxis": {
         "title": {
          "text": "연도"
         },
         "type": "category"
        },
        "yaxis": {
         "range": [
          0,
          39.99999999999999
         ],
         "ticksuffix": "%",
         "title": {
          "text": "직무 이동률 (%)"
         }
        }
       }
      }
     },
     "metadata": {},
     "output_type": "display_data"
    },
    {
     "name": "stdout",
     "output_type": "stream",
     "text": [
      "\n",
      "--- Aggregate DataFrame ---\n"
     ]
    },
    {
     "data": {
      "text/html": [
       "<div>\n",
       "<style scoped>\n",
       "    .dataframe tbody tr th:only-of-type {\n",
       "        vertical-align: middle;\n",
       "    }\n",
       "\n",
       "    .dataframe tbody tr th {\n",
       "        vertical-align: top;\n",
       "    }\n",
       "\n",
       "    .dataframe thead th {\n",
       "        text-align: right;\n",
       "    }\n",
       "</style>\n",
       "<table border=\"1\" class=\"dataframe\">\n",
       "  <thead>\n",
       "    <tr style=\"text-align: right;\">\n",
       "      <th>GROUP_NAME</th>\n",
       "      <th>전체 평균</th>\n",
       "      <th>Staff</th>\n",
       "      <th>Manager</th>\n",
       "      <th>Director</th>\n",
       "      <th>C-Level</th>\n",
       "    </tr>\n",
       "    <tr>\n",
       "      <th>YEAR</th>\n",
       "      <th></th>\n",
       "      <th></th>\n",
       "      <th></th>\n",
       "      <th></th>\n",
       "      <th></th>\n",
       "    </tr>\n",
       "  </thead>\n",
       "  <tbody>\n",
       "    <tr>\n",
       "      <th>2012</th>\n",
       "      <td>0.66%</td>\n",
       "      <td>0.71%</td>\n",
       "      <td>0.00%</td>\n",
       "      <td>-</td>\n",
       "      <td>-</td>\n",
       "    </tr>\n",
       "    <tr>\n",
       "      <th>2013</th>\n",
       "      <td>2.39%</td>\n",
       "      <td>1.65%</td>\n",
       "      <td>7.41%</td>\n",
       "      <td>-</td>\n",
       "      <td>-</td>\n",
       "    </tr>\n",
       "    <tr>\n",
       "      <th>2014</th>\n",
       "      <td>0.78%</td>\n",
       "      <td>0.92%</td>\n",
       "      <td>0.00%</td>\n",
       "      <td>-</td>\n",
       "      <td>-</td>\n",
       "    </tr>\n",
       "    <tr>\n",
       "      <th>2015</th>\n",
       "      <td>2.00%</td>\n",
       "      <td>1.64%</td>\n",
       "      <td>3.64%</td>\n",
       "      <td>0.00%</td>\n",
       "      <td>-</td>\n",
       "    </tr>\n",
       "    <tr>\n",
       "      <th>2016</th>\n",
       "      <td>2.65%</td>\n",
       "      <td>3.32%</td>\n",
       "      <td>0.00%</td>\n",
       "      <td>0.00%</td>\n",
       "      <td>-</td>\n",
       "    </tr>\n",
       "    <tr>\n",
       "      <th>2017</th>\n",
       "      <td>4.26%</td>\n",
       "      <td>4.48%</td>\n",
       "      <td>2.88%</td>\n",
       "      <td>25.00%</td>\n",
       "      <td>-</td>\n",
       "    </tr>\n",
       "    <tr>\n",
       "      <th>2018</th>\n",
       "      <td>6.05%</td>\n",
       "      <td>6.13%</td>\n",
       "      <td>6.15%</td>\n",
       "      <td>0.00%</td>\n",
       "      <td>-</td>\n",
       "    </tr>\n",
       "    <tr>\n",
       "      <th>2019</th>\n",
       "      <td>6.90%</td>\n",
       "      <td>4.83%</td>\n",
       "      <td>9.49%</td>\n",
       "      <td>25.00%</td>\n",
       "      <td>-</td>\n",
       "    </tr>\n",
       "    <tr>\n",
       "      <th>2020</th>\n",
       "      <td>5.26%</td>\n",
       "      <td>4.17%</td>\n",
       "      <td>6.70%</td>\n",
       "      <td>7.69%</td>\n",
       "      <td>-</td>\n",
       "    </tr>\n",
       "    <tr>\n",
       "      <th>2021</th>\n",
       "      <td>5.57%</td>\n",
       "      <td>4.02%</td>\n",
       "      <td>7.54%</td>\n",
       "      <td>5.26%</td>\n",
       "      <td>-</td>\n",
       "    </tr>\n",
       "    <tr>\n",
       "      <th>2022</th>\n",
       "      <td>9.41%</td>\n",
       "      <td>6.93%</td>\n",
       "      <td>10.73%</td>\n",
       "      <td>20.00%</td>\n",
       "      <td>-</td>\n",
       "    </tr>\n",
       "    <tr>\n",
       "      <th>2023</th>\n",
       "      <td>7.16%</td>\n",
       "      <td>6.28%</td>\n",
       "      <td>8.24%</td>\n",
       "      <td>4.88%</td>\n",
       "      <td>-</td>\n",
       "    </tr>\n",
       "    <tr>\n",
       "      <th>2024</th>\n",
       "      <td>7.06%</td>\n",
       "      <td>7.81%</td>\n",
       "      <td>6.04%</td>\n",
       "      <td>9.62%</td>\n",
       "      <td>0.00%</td>\n",
       "    </tr>\n",
       "    <tr>\n",
       "      <th>2025</th>\n",
       "      <td>5.00%</td>\n",
       "      <td>4.97%</td>\n",
       "      <td>5.47%</td>\n",
       "      <td>3.23%</td>\n",
       "      <td>0.00%</td>\n",
       "    </tr>\n",
       "  </tbody>\n",
       "</table>\n",
       "</div>"
      ],
      "text/plain": [
       "GROUP_NAME  전체 평균  Staff Manager Director C-Level\n",
       "YEAR                                             \n",
       "2012        0.66%  0.71%   0.00%        -       -\n",
       "2013        2.39%  1.65%   7.41%        -       -\n",
       "2014        0.78%  0.92%   0.00%        -       -\n",
       "2015        2.00%  1.64%   3.64%    0.00%       -\n",
       "2016        2.65%  3.32%   0.00%    0.00%       -\n",
       "2017        4.26%  4.48%   2.88%   25.00%       -\n",
       "2018        6.05%  6.13%   6.15%    0.00%       -\n",
       "2019        6.90%  4.83%   9.49%   25.00%       -\n",
       "2020        5.26%  4.17%   6.70%    7.69%       -\n",
       "2021        5.57%  4.02%   7.54%    5.26%       -\n",
       "2022        9.41%  6.93%  10.73%   20.00%       -\n",
       "2023        7.16%  6.28%   8.24%    4.88%       -\n",
       "2024        7.06%  7.81%   6.04%    9.62%   0.00%\n",
       "2025        5.00%  4.97%   5.47%    3.23%   0.00%"
      ]
     },
     "execution_count": 1,
     "metadata": {},
     "output_type": "execute_result"
    }
   ],
   "source": [
    "import pandas as pd\n",
    "import numpy as np\n",
    "import plotly.graph_objects as go\n",
    "import plotly.io as pio\n",
    "import plotly.express as px\n",
    "import datetime\n",
    "\n",
    "# --- 1. 데이터 임포트 ---\n",
    "from services.tables.HR_Core.job_info_table import job_info_df\n",
    "from services.tables.HR_Core.basic_info_table import emp_df\n",
    "from services.tables.HR_Core.position_info_table import position_info_df\n",
    "from services.tables.HR_Core.position_table import position_df, position_order, grade_order\n",
    "\n",
    "def create_figure_and_df():\n",
    "    \"\"\"\n",
    "    제안 9-3: 직위/직급별 연간 직무 이동률 변화 추이 그래프 및 피벗 테이블을 생성합니다.\n",
    "    \"\"\"\n",
    "    # --- 2. 데이터 준비 및 가공 ---\n",
    "    job_changes = job_info_df.copy()\n",
    "    job_changes = pd.merge(job_changes, emp_df[['EMP_ID', 'IN_DATE']], on='EMP_ID', how='left')\n",
    "    job_changes = job_changes[job_changes['JOB_APP_START_DATE'] > job_changes['IN_DATE']]\n",
    "    job_changes['YEAR'] = job_changes['JOB_APP_START_DATE'].dt.year\n",
    "    \n",
    "    turnover_records = []\n",
    "    overall_records = [] # '전체 평균' 계산을 위한 리스트\n",
    "    all_years = sorted(job_changes['YEAR'].unique())\n",
    "    \n",
    "    pos_info_with_name = pd.merge(position_info_df, position_df[['POSITION_ID', 'POSITION_NAME']].drop_duplicates(), on='POSITION_ID')\n",
    "    pos_info_sorted = pos_info_with_name.sort_values('GRADE_START_DATE')\n",
    "\n",
    "    for year in all_years:\n",
    "        year_end = pd.to_datetime(f'{year}-12-31')\n",
    "        active_in_year = emp_df[(emp_df['IN_DATE'] <= year_end) & (emp_df['OUT_DATE'].isnull() | (emp_df['OUT_DATE'] > year_end))].copy()\n",
    "        active_in_year['DATE_SNAPSHOT'] = year_end\n",
    "        changes_in_year = job_changes[job_changes['YEAR'] == year].copy()\n",
    "        \n",
    "        # 전체 평균 계산\n",
    "        if not active_in_year.empty:\n",
    "            overall_rate = (len(changes_in_year) / len(active_in_year)) * 100\n",
    "            overall_records.append({'YEAR': year, 'MOBILITY_RATE': overall_rate})\n",
    "            \n",
    "        active_pos = pd.merge_asof(active_in_year[['EMP_ID', 'DATE_SNAPSHOT']].sort_values('DATE_SNAPSHOT'), pos_info_sorted, left_on='DATE_SNAPSHOT', right_on='GRADE_START_DATE', by='EMP_ID', direction='backward')\n",
    "        active_pos = active_pos.dropna(subset=['POSITION_NAME', 'GRADE_ID'])\n",
    "        \n",
    "        changes_pos = pd.merge_asof(changes_in_year.assign(DATE_SNAPSHOT=year_end).sort_values('DATE_SNAPSHOT'), pos_info_sorted, left_on='DATE_SNAPSHOT', right_on='GRADE_START_DATE', by='EMP_ID', direction='backward')\n",
    "        changes_pos = changes_pos.dropna(subset=['POSITION_NAME', 'GRADE_ID'])\n",
    "\n",
    "        headcount_by_pos = active_pos.groupby('POSITION_NAME', observed=False).size()\n",
    "        changes_by_pos = changes_pos.groupby('POSITION_NAME', observed=False).size()\n",
    "        mobility_pos = (changes_by_pos / headcount_by_pos * 100).fillna(0)\n",
    "        for group_name, rate in mobility_pos.items():\n",
    "            turnover_records.append({'YEAR': year, 'GROUP_TYPE': 'POSITION', 'GROUP_NAME': group_name, 'MOBILITY_RATE': rate})\n",
    "\n",
    "        headcount_by_grade = active_pos.groupby(['POSITION_NAME', 'GRADE_ID'], observed=False).size()\n",
    "        changes_by_grade = changes_pos.groupby(['POSITION_NAME', 'GRADE_ID'], observed=False).size()\n",
    "        mobility_grade = (changes_by_grade / headcount_by_grade * 100).fillna(0)\n",
    "        for (pos_name, grade_name), rate in mobility_grade.items():\n",
    "            turnover_records.append({'YEAR': year, 'GROUP_TYPE': 'GRADE', 'POSITION_NAME': pos_name, 'GROUP_NAME': grade_name, 'MOBILITY_RATE': rate})\n",
    "\n",
    "    analysis_df = pd.DataFrame(turnover_records)\n",
    "    overall_df = pd.DataFrame(overall_records)\n",
    "    pos_df = analysis_df[analysis_df['GROUP_TYPE'] == 'POSITION'].copy()\n",
    "    \n",
    "    if analysis_df.empty:\n",
    "        return go.Figure().update_layout(title_text=\"분석할 직무 이동 데이터가 없습니다.\"), pd.DataFrame()\n",
    "\n",
    "    y_max = analysis_df['MOBILITY_RATE'].max()\n",
    "    fixed_y_range = [0, y_max * 1.2]\n",
    "\n",
    "    # --- 3. Plotly 인터랙티브 그래프 생성 ---\n",
    "    # (그래프 생성 코드는 이전과 동일)\n",
    "    fig = go.Figure()\n",
    "    colors = px.colors.qualitative.Plotly\n",
    "    position_filter_list = [p for p in position_order if p != 'C-Level']\n",
    "    for i, pos_name in enumerate(position_filter_list):\n",
    "        df_filtered = pos_df[pos_df['GROUP_NAME'] == pos_name].sort_values('YEAR')\n",
    "        if not df_filtered.empty:\n",
    "            fig.add_trace(go.Scatter(x=df_filtered['YEAR'], y=df_filtered['MOBILITY_RATE'], mode='lines+markers+text', name=pos_name, line=dict(color=colors[i]), text=df_filtered['MOBILITY_RATE'].round(2).astype(str) + '%', textposition='top center'))\n",
    "    grade_df = analysis_df[analysis_df['GROUP_TYPE'] == 'GRADE']\n",
    "    grade_traces_map = {}\n",
    "    trace_idx_counter = len(fig.data)\n",
    "    for pos_name in position_filter_list:\n",
    "        grade_pos_df = grade_df[grade_df['POSITION_NAME'] == pos_name]\n",
    "        grades_in_pos = [g for g in grade_order if g in grade_pos_df['GROUP_NAME'].unique()]\n",
    "        grade_traces_map[pos_name] = []\n",
    "        for j, grade_name in enumerate(grades_in_pos):\n",
    "            df_filtered = grade_pos_df[grade_pos_df['GROUP_NAME'] == grade_name].sort_values('YEAR')\n",
    "            if not df_filtered.empty:\n",
    "                fig.add_trace(go.Scatter(x=df_filtered['YEAR'], y=df_filtered['MOBILITY_RATE'], mode='lines+markers+text', name=grade_name, visible=False, line=dict(color=colors[j % len(colors)]), text=df_filtered['MOBILITY_RATE'].round(2).astype(str) + '%', textposition='top center'))\n",
    "                grade_traces_map[pos_name].append(trace_idx_counter)\n",
    "                trace_idx_counter += 1\n",
    "    buttons = []\n",
    "    buttons.append(dict(label='전체', method='update', args=[{'visible': [True]*len(position_filter_list) + [False]*(len(fig.data)-len(position_filter_list))}, {'title': '전체 직위별 연간 직무 이동률(%) 변화 추이', 'legend_title_text': '직위'}]))\n",
    "    for pos_name in position_filter_list:\n",
    "        visibility_mask = [False] * len(fig.data)\n",
    "        for trace_idx in grade_traces_map.get(pos_name, []):\n",
    "            visibility_mask[trace_idx] = True\n",
    "        buttons.append(dict(label=f'{pos_name}', method='update', args=[{'visible': visibility_mask}, {'title': f'{pos_name} 내 직급별 연간 직무 이동률(%) 변화 추이', 'legend_title_text': '직급'}]))\n",
    "    fig.update_layout(\n",
    "        updatemenus=[dict(active=0, buttons=buttons, direction=\"down\", pad={\"r\": 10, \"t\": 10}, showactive=True, x=0.01, xanchor=\"left\", y=1.1, yanchor=\"top\")],\n",
    "        title_text='직위/직급별 연간 직무 이동률(%) 변화 추이',\n",
    "        xaxis_title='연도', yaxis_title='직무 이동률 (%)', font_size=14, height=700,\n",
    "        legend_title_text='직위',\n",
    "        xaxis=dict(type='category'),\n",
    "        yaxis=dict(ticksuffix=\"%\", range=fixed_y_range),\n",
    "        annotations=[dict(text=\"직위/직급 선택:\", showarrow=False, x=0, y=1.08, yref=\"paper\", align=\"left\")]\n",
    "    )\n",
    "    \n",
    "    # --- 수정된 부분: aggregate_df 생성 ---\n",
    "    aggregate_df = pos_df.pivot_table(index='YEAR', columns='GROUP_NAME', values='MOBILITY_RATE', observed=False)\n",
    "    overall_df.set_index('YEAR', inplace=True)\n",
    "    aggregate_df['전체 평균'] = overall_df['MOBILITY_RATE']\n",
    "    aggregate_df = aggregate_df.reindex(range(2012, 2026)).sort_index()\n",
    "    cols = ['전체 평균'] + [col for col in position_order if col in aggregate_df.columns]\n",
    "    aggregate_df = aggregate_df[cols]\n",
    "    for col in aggregate_df.columns:\n",
    "        aggregate_df[col] = aggregate_df[col].apply(lambda x: f\"{x:.2f}%\" if pd.notna(x) else '-')\n",
    "    # --- 수정 완료 ---\n",
    "    \n",
    "    return fig, aggregate_df\n",
    "\n",
    "# --- 실행 코드 ---\n",
    "pio.renderers.default = 'vscode'\n",
    "fig, aggregate_df = create_figure_and_df()\n",
    "fig.show()\n",
    "\n",
    "print(\"\\n--- Aggregate DataFrame ---\")\n",
    "aggregate_df"
   ]
  },
  {
   "cell_type": "code",
   "execution_count": null,
   "id": "c3ab2f9d",
   "metadata": {},
   "outputs": [],
   "source": []
  }
 ],
 "metadata": {
  "kernelspec": {
   "display_name": "Python 3 (ipykernel)",
   "language": "python",
   "name": "python3"
  },
  "language_info": {
   "codemirror_mode": {
    "name": "ipython",
    "version": 3
   },
   "file_extension": ".py",
   "mimetype": "text/x-python",
   "name": "python",
   "nbconvert_exporter": "python",
   "pygments_lexer": "ipython3",
   "version": "3.12.11"
  }
 },
 "nbformat": 4,
 "nbformat_minor": 5
}
