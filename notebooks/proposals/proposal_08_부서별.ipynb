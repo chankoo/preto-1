{
 "cells": [
  {
   "cell_type": "code",
   "execution_count": 4,
   "id": "2e1557be",
   "metadata": {},
   "outputs": [
    {
     "data": {
      "application/vnd.plotly.v1+json": {
       "config": {
        "plotlyServerURL": "https://plot.ly"
       },
       "data": [
        {
         "customdata": {
          "bdata": "aSdtaHs=",
          "dtype": "i1"
         },
         "hovertemplate": "평균 재직기간: %{x:.2f}년<br>인원: %{customdata}명<extra></extra>",
         "name": "재직자",
         "orientation": "h",
         "text": {
          "bdata": "pHA9CtejFUDNzMzMzMwVQI/C9ShcjxZAKVyPwvUoFUAAAAAAAAAVQA==",
          "dtype": "f8"
         },
         "textposition": "outside",
         "type": "bar",
         "visible": true,
         "x": {
          "bdata": "M9CeVTmnFUBxVc3ezswVQJPE58GykRZA8fGCnXonFUCC2ZqDbgEVQA==",
          "dtype": "f8"
         },
         "y": [
          "IT",
          "Management Support",
          "Planning",
          "Production & Engineering",
          "Sales & Marketing"
         ]
        },
        {
         "customdata": {
          "bdata": "aQAqAIEAZwCNAA==",
          "dtype": "i2"
         },
         "hovertemplate": "평균 재직기간: %{x:.2f}년<br>인원: %{customdata}명<extra></extra>",
         "name": "퇴사자",
         "orientation": "h",
         "text": {
          "bdata": "uB6F61G4EkAUrkfhehQUQD0K16NwPRRAcT0K16NwEkCuR+F6FK4SQA==",
          "dtype": "f8"
         },
         "textposition": "outside",
         "type": "bar",
         "visible": true,
         "x": {
          "bdata": "DheoUum4EkByoeOHMhgUQHQOsCrpQRRAag183RpwEkB9sPzn6q0SQA==",
          "dtype": "f8"
         },
         "y": [
          "IT",
          "Management Support",
          "Planning",
          "Production & Engineering",
          "Sales & Marketing"
         ]
        },
        {
         "customdata": {
          "bdata": "AAAAAAAAOUAAAAAAAAA/QAAAAAAAgEhAAAAAAAAAEEAAAAAAAAAgQA==",
          "dtype": "f8"
         },
         "hovertemplate": "평균 재직기간: %{x:.2f}년<br>인원: %{customdata}명<extra></extra>",
         "name": "재직자",
         "orientation": "h",
         "text": {
          "bdata": "XI/C9ShcFECamZmZmZkVQJqZmZmZmRlAhetRuB6FFUBI4XoUrkcRQA==",
          "dtype": "f8"
         },
         "textposition": "outside",
         "type": "bar",
         "visible": false,
         "x": {
          "bdata": "D0ZEHz9aFEDatmYMypoVQMUANZICnRlAMPZXIsyHFUCA68DH3EQRQA==",
          "dtype": "f8"
         },
         "y": [
          "IT",
          "Management Support",
          "Planning",
          "Production & Engineering",
          "Sales & Marketing"
         ]
        },
        {
         "customdata": {
          "bdata": "AAAAAAAAM0AAAAAAAIBBQAAAAAAAAE1AAAAAAAAACEAAAAAAAAAIQA==",
          "dtype": "f8"
         },
         "hovertemplate": "평균 재직기간: %{x:.2f}년<br>인원: %{customdata}명<extra></extra>",
         "name": "퇴사자",
         "orientation": "h",
         "text": {
          "bdata": "pHA9CtejEkB7FK5H4XoUQGZmZmZmZhRAZmZmZmZmG0AAAAAAAAAUQA==",
          "dtype": "f8"
         },
         "textposition": "outside",
         "type": "bar",
         "visible": false,
         "x": {
          "bdata": "TvtSxnGhEkCrOHeGK3YUQH4RMce5ZRRAOW0O16JkG0D5JJn+5wQUQA==",
          "dtype": "f8"
         },
         "y": [
          "IT",
          "Management Support",
          "Planning",
          "Production & Engineering",
          "Sales & Marketing"
         ]
        },
        {
         "customdata": {
          "bdata": "AAAAAAAAMkAAAAAAAAAUQAAAAAAAADZAAAAAAAAAGEAAAAAAAIBUQA==",
          "dtype": "f8"
         },
         "hovertemplate": "평균 재직기간: %{x:.2f}년<br>인원: %{customdata}명<extra></extra>",
         "name": "재직자",
         "orientation": "h",
         "text": {
          "bdata": "16NwPQrXFkAUrkfhehQVQHE9CtejcBVAw/UoXI/CFUBxPQrXo3AVQA==",
          "dtype": "f8"
         },
         "textposition": "outside",
         "type": "bar",
         "visible": false,
         "x": {
          "bdata": "HWZfjM7bFkDyjkklGBcVQAgE5XFecRVAHxCUx3nFFUC2SxFFC28VQA==",
          "dtype": "f8"
         },
         "y": [
          "IT",
          "Management Support",
          "Planning",
          "Production & Engineering",
          "Sales & Marketing"
         ]
        },
        {
         "customdata": {
          "bdata": "AAAAAAAAM0AAAAAAAAAQQAAAAAAAADdAAAAAAAAAJEAAAAAAAIBYQA==",
          "dtype": "f8"
         },
         "hovertemplate": "평균 재직기간: %{x:.2f}년<br>인원: %{customdata}명<extra></extra>",
         "name": "퇴사자",
         "orientation": "h",
         "text": {
          "bdata": "rkfhehSuD0C4HoXrUbgMQDMzMzMzMxNAMzMzMzMzFkAK16NwPQoTQA==",
          "dtype": "f8"
         },
         "textposition": "outside",
         "type": "bar",
         "visible": false,
         "x": {
          "bdata": "/u4LLvGoD0AtAGN/JcIMQG0CFn1fLhNAaZZcvogyFkC3eCe6WwkTQA==",
          "dtype": "f8"
         },
         "y": [
          "IT",
          "Management Support",
          "Planning",
          "Production & Engineering",
          "Sales & Marketing"
         ]
        },
        {
         "customdata": {
          "bdata": "AAAAAAAAQ0AAAAAAAAAAQAAAAAAAAD5AAAAAAACAREAAAAAAAAAQQA==",
          "dtype": "f8"
         },
         "hovertemplate": "평균 재직기간: %{x:.2f}년<br>인원: %{customdata}명<extra></extra>",
         "name": "재직자",
         "orientation": "h",
         "text": {
          "bdata": "hetRuB6FF0DhehSuR+EYQNejcD0K1xRA4XoUrkfhE0BmZmZmZmYSQA==",
          "dtype": "f8"
         },
         "textposition": "outside",
         "type": "bar",
         "visible": false,
         "x": {
          "bdata": "mya6yVKBF0DY04uaFuMYQO5kwJ5e1BRAT2aBwpjgE0B+DcdQR2USQA==",
          "dtype": "f8"
         },
         "y": [
          "IT",
          "Management Support",
          "Planning",
          "Production & Engineering",
          "Sales & Marketing"
         ]
        },
        {
         "customdata": {
          "bdata": "AAAAAAAARkAAAAAAAAAIQAAAAAAAAEBAAAAAAACARUAAAAAAAAAQQA==",
          "dtype": "f8"
         },
         "hovertemplate": "평균 재직기간: %{x:.2f}년<br>인원: %{customdata}명<extra></extra>",
         "name": "퇴사자",
         "orientation": "h",
         "text": {
          "bdata": "SOF6FK5HFEBxPQrXo3AXQGZmZmZmZhNA9ihcj8L1EUCPwvUoXI8GQA==",
          "dtype": "f8"
         },
         "textposition": "outside",
         "type": "bar",
         "visible": false,
         "x": {
          "bdata": "38hStS9LFEBblGyjrm4XQEfZiAehZRNAXB1tAQ71EUAiBolqIIsGQA==",
          "dtype": "f8"
         },
         "y": [
          "IT",
          "Management Support",
          "Planning",
          "Production & Engineering",
          "Sales & Marketing"
         ]
        },
        {
         "customdata": {
          "bdata": "AAAAAAAAOEAAAAAAAADwPwAAAAAAACBAAAAAAACASkAAAAAAAAA9QA==",
          "dtype": "f8"
         },
         "hovertemplate": "평균 재직기간: %{x:.2f}년<br>인원: %{customdata}명<extra></extra>",
         "name": "재직자",
         "orientation": "h",
         "text": {
          "bdata": "KVyPwvUoE0A9CtejcD0ZQB+F61G4HgtACtejcD0KFkAzMzMzMzMVQA==",
          "dtype": "f8"
         },
         "textposition": "outside",
         "type": "bar",
         "visible": false,
         "x": {
          "bdata": "22YBGPsrE0BXbVCBZjsZQAzY04uaFgtA6yk4xDELFkDNeGebiC8VQA==",
          "dtype": "f8"
         },
         "y": [
          "IT",
          "Management Support",
          "Planning",
          "Production & Engineering",
          "Sales & Marketing"
         ]
        },
        {
         "customdata": {
          "bdata": "AAAAAAAAN0AAAAAAAAAAAAAAAAAAADBAAAAAAACAR0AAAAAAAABCQA==",
          "dtype": "f8"
         },
         "hovertemplate": "평균 재직기간: %{x:.2f}년<br>인원: %{customdata}명<extra></extra>",
         "name": "퇴사자",
         "orientation": "h",
         "text": {
          "bdata": "MzMzMzMzEkAAAAAAAAAAAAAAAAAAABdAhetRuB6FEUBmZmZmZmYSQA==",
          "dtype": "f8"
         },
         "textposition": "outside",
         "type": "bar",
         "visible": false,
         "x": {
          "bdata": "BP/qVmUuEkAAAAAAAAAAABQ/OCO7BBdAy/aRMJSBEUA5pw+MHmsSQA==",
          "dtype": "f8"
         },
         "y": [
          "IT",
          "Management Support",
          "Planning",
          "Production & Engineering",
          "Sales & Marketing"
         ]
        }
       ],
       "layout": {
        "annotations": [
         {
          "align": "left",
          "showarrow": false,
          "text": "조직 선택:",
          "x": 0,
          "y": 1.08,
          "yref": "paper"
         }
        ],
        "barmode": "group",
        "font": {
         "size": 14
        },
        "height": 700,
        "legend": {
         "title": {
          "text": "상태"
         }
        },
        "template": {
         "data": {
          "bar": [
           {
            "error_x": {
             "color": "#2a3f5f"
            },
            "error_y": {
             "color": "#2a3f5f"
            },
            "marker": {
             "line": {
              "color": "#E5ECF6",
              "width": 0.5
             },
             "pattern": {
              "fillmode": "overlay",
              "size": 10,
              "solidity": 0.2
             }
            },
            "type": "bar"
           }
          ],
          "barpolar": [
           {
            "marker": {
             "line": {
              "color": "#E5ECF6",
              "width": 0.5
             },
             "pattern": {
              "fillmode": "overlay",
              "size": 10,
              "solidity": 0.2
             }
            },
            "type": "barpolar"
           }
          ],
          "carpet": [
           {
            "aaxis": {
             "endlinecolor": "#2a3f5f",
             "gridcolor": "white",
             "linecolor": "white",
             "minorgridcolor": "white",
             "startlinecolor": "#2a3f5f"
            },
            "baxis": {
             "endlinecolor": "#2a3f5f",
             "gridcolor": "white",
             "linecolor": "white",
             "minorgridcolor": "white",
             "startlinecolor": "#2a3f5f"
            },
            "type": "carpet"
           }
          ],
          "choropleth": [
           {
            "colorbar": {
             "outlinewidth": 0,
             "ticks": ""
            },
            "type": "choropleth"
           }
          ],
          "contour": [
           {
            "colorbar": {
             "outlinewidth": 0,
             "ticks": ""
            },
            "colorscale": [
             [
              0,
              "#0d0887"
             ],
             [
              0.1111111111111111,
              "#46039f"
             ],
             [
              0.2222222222222222,
              "#7201a8"
             ],
             [
              0.3333333333333333,
              "#9c179e"
             ],
             [
              0.4444444444444444,
              "#bd3786"
             ],
             [
              0.5555555555555556,
              "#d8576b"
             ],
             [
              0.6666666666666666,
              "#ed7953"
             ],
             [
              0.7777777777777778,
              "#fb9f3a"
             ],
             [
              0.8888888888888888,
              "#fdca26"
             ],
             [
              1,
              "#f0f921"
             ]
            ],
            "type": "contour"
           }
          ],
          "contourcarpet": [
           {
            "colorbar": {
             "outlinewidth": 0,
             "ticks": ""
            },
            "type": "contourcarpet"
           }
          ],
          "heatmap": [
           {
            "colorbar": {
             "outlinewidth": 0,
             "ticks": ""
            },
            "colorscale": [
             [
              0,
              "#0d0887"
             ],
             [
              0.1111111111111111,
              "#46039f"
             ],
             [
              0.2222222222222222,
              "#7201a8"
             ],
             [
              0.3333333333333333,
              "#9c179e"
             ],
             [
              0.4444444444444444,
              "#bd3786"
             ],
             [
              0.5555555555555556,
              "#d8576b"
             ],
             [
              0.6666666666666666,
              "#ed7953"
             ],
             [
              0.7777777777777778,
              "#fb9f3a"
             ],
             [
              0.8888888888888888,
              "#fdca26"
             ],
             [
              1,
              "#f0f921"
             ]
            ],
            "type": "heatmap"
           }
          ],
          "histogram": [
           {
            "marker": {
             "pattern": {
              "fillmode": "overlay",
              "size": 10,
              "solidity": 0.2
             }
            },
            "type": "histogram"
           }
          ],
          "histogram2d": [
           {
            "colorbar": {
             "outlinewidth": 0,
             "ticks": ""
            },
            "colorscale": [
             [
              0,
              "#0d0887"
             ],
             [
              0.1111111111111111,
              "#46039f"
             ],
             [
              0.2222222222222222,
              "#7201a8"
             ],
             [
              0.3333333333333333,
              "#9c179e"
             ],
             [
              0.4444444444444444,
              "#bd3786"
             ],
             [
              0.5555555555555556,
              "#d8576b"
             ],
             [
              0.6666666666666666,
              "#ed7953"
             ],
             [
              0.7777777777777778,
              "#fb9f3a"
             ],
             [
              0.8888888888888888,
              "#fdca26"
             ],
             [
              1,
              "#f0f921"
             ]
            ],
            "type": "histogram2d"
           }
          ],
          "histogram2dcontour": [
           {
            "colorbar": {
             "outlinewidth": 0,
             "ticks": ""
            },
            "colorscale": [
             [
              0,
              "#0d0887"
             ],
             [
              0.1111111111111111,
              "#46039f"
             ],
             [
              0.2222222222222222,
              "#7201a8"
             ],
             [
              0.3333333333333333,
              "#9c179e"
             ],
             [
              0.4444444444444444,
              "#bd3786"
             ],
             [
              0.5555555555555556,
              "#d8576b"
             ],
             [
              0.6666666666666666,
              "#ed7953"
             ],
             [
              0.7777777777777778,
              "#fb9f3a"
             ],
             [
              0.8888888888888888,
              "#fdca26"
             ],
             [
              1,
              "#f0f921"
             ]
            ],
            "type": "histogram2dcontour"
           }
          ],
          "mesh3d": [
           {
            "colorbar": {
             "outlinewidth": 0,
             "ticks": ""
            },
            "type": "mesh3d"
           }
          ],
          "parcoords": [
           {
            "line": {
             "colorbar": {
              "outlinewidth": 0,
              "ticks": ""
             }
            },
            "type": "parcoords"
           }
          ],
          "pie": [
           {
            "automargin": true,
            "type": "pie"
           }
          ],
          "scatter": [
           {
            "fillpattern": {
             "fillmode": "overlay",
             "size": 10,
             "solidity": 0.2
            },
            "type": "scatter"
           }
          ],
          "scatter3d": [
           {
            "line": {
             "colorbar": {
              "outlinewidth": 0,
              "ticks": ""
             }
            },
            "marker": {
             "colorbar": {
              "outlinewidth": 0,
              "ticks": ""
             }
            },
            "type": "scatter3d"
           }
          ],
          "scattercarpet": [
           {
            "marker": {
             "colorbar": {
              "outlinewidth": 0,
              "ticks": ""
             }
            },
            "type": "scattercarpet"
           }
          ],
          "scattergeo": [
           {
            "marker": {
             "colorbar": {
              "outlinewidth": 0,
              "ticks": ""
             }
            },
            "type": "scattergeo"
           }
          ],
          "scattergl": [
           {
            "marker": {
             "colorbar": {
              "outlinewidth": 0,
              "ticks": ""
             }
            },
            "type": "scattergl"
           }
          ],
          "scattermap": [
           {
            "marker": {
             "colorbar": {
              "outlinewidth": 0,
              "ticks": ""
             }
            },
            "type": "scattermap"
           }
          ],
          "scattermapbox": [
           {
            "marker": {
             "colorbar": {
              "outlinewidth": 0,
              "ticks": ""
             }
            },
            "type": "scattermapbox"
           }
          ],
          "scatterpolar": [
           {
            "marker": {
             "colorbar": {
              "outlinewidth": 0,
              "ticks": ""
             }
            },
            "type": "scatterpolar"
           }
          ],
          "scatterpolargl": [
           {
            "marker": {
             "colorbar": {
              "outlinewidth": 0,
              "ticks": ""
             }
            },
            "type": "scatterpolargl"
           }
          ],
          "scatterternary": [
           {
            "marker": {
             "colorbar": {
              "outlinewidth": 0,
              "ticks": ""
             }
            },
            "type": "scatterternary"
           }
          ],
          "surface": [
           {
            "colorbar": {
             "outlinewidth": 0,
             "ticks": ""
            },
            "colorscale": [
             [
              0,
              "#0d0887"
             ],
             [
              0.1111111111111111,
              "#46039f"
             ],
             [
              0.2222222222222222,
              "#7201a8"
             ],
             [
              0.3333333333333333,
              "#9c179e"
             ],
             [
              0.4444444444444444,
              "#bd3786"
             ],
             [
              0.5555555555555556,
              "#d8576b"
             ],
             [
              0.6666666666666666,
              "#ed7953"
             ],
             [
              0.7777777777777778,
              "#fb9f3a"
             ],
             [
              0.8888888888888888,
              "#fdca26"
             ],
             [
              1,
              "#f0f921"
             ]
            ],
            "type": "surface"
           }
          ],
          "table": [
           {
            "cells": {
             "fill": {
              "color": "#EBF0F8"
             },
             "line": {
              "color": "white"
             }
            },
            "header": {
             "fill": {
              "color": "#C8D4E3"
             },
             "line": {
              "color": "white"
             }
            },
            "type": "table"
           }
          ]
         },
         "layout": {
          "annotationdefaults": {
           "arrowcolor": "#2a3f5f",
           "arrowhead": 0,
           "arrowwidth": 1
          },
          "autotypenumbers": "strict",
          "coloraxis": {
           "colorbar": {
            "outlinewidth": 0,
            "ticks": ""
           }
          },
          "colorscale": {
           "diverging": [
            [
             0,
             "#8e0152"
            ],
            [
             0.1,
             "#c51b7d"
            ],
            [
             0.2,
             "#de77ae"
            ],
            [
             0.3,
             "#f1b6da"
            ],
            [
             0.4,
             "#fde0ef"
            ],
            [
             0.5,
             "#f7f7f7"
            ],
            [
             0.6,
             "#e6f5d0"
            ],
            [
             0.7,
             "#b8e186"
            ],
            [
             0.8,
             "#7fbc41"
            ],
            [
             0.9,
             "#4d9221"
            ],
            [
             1,
             "#276419"
            ]
           ],
           "sequential": [
            [
             0,
             "#0d0887"
            ],
            [
             0.1111111111111111,
             "#46039f"
            ],
            [
             0.2222222222222222,
             "#7201a8"
            ],
            [
             0.3333333333333333,
             "#9c179e"
            ],
            [
             0.4444444444444444,
             "#bd3786"
            ],
            [
             0.5555555555555556,
             "#d8576b"
            ],
            [
             0.6666666666666666,
             "#ed7953"
            ],
            [
             0.7777777777777778,
             "#fb9f3a"
            ],
            [
             0.8888888888888888,
             "#fdca26"
            ],
            [
             1,
             "#f0f921"
            ]
           ],
           "sequentialminus": [
            [
             0,
             "#0d0887"
            ],
            [
             0.1111111111111111,
             "#46039f"
            ],
            [
             0.2222222222222222,
             "#7201a8"
            ],
            [
             0.3333333333333333,
             "#9c179e"
            ],
            [
             0.4444444444444444,
             "#bd3786"
            ],
            [
             0.5555555555555556,
             "#d8576b"
            ],
            [
             0.6666666666666666,
             "#ed7953"
            ],
            [
             0.7777777777777778,
             "#fb9f3a"
            ],
            [
             0.8888888888888888,
             "#fdca26"
            ],
            [
             1,
             "#f0f921"
            ]
           ]
          },
          "colorway": [
           "#636efa",
           "#EF553B",
           "#00cc96",
           "#ab63fa",
           "#FFA15A",
           "#19d3f3",
           "#FF6692",
           "#B6E880",
           "#FF97FF",
           "#FECB52"
          ],
          "font": {
           "color": "#2a3f5f"
          },
          "geo": {
           "bgcolor": "white",
           "lakecolor": "white",
           "landcolor": "#E5ECF6",
           "showlakes": true,
           "showland": true,
           "subunitcolor": "white"
          },
          "hoverlabel": {
           "align": "left"
          },
          "hovermode": "closest",
          "mapbox": {
           "style": "light"
          },
          "paper_bgcolor": "white",
          "plot_bgcolor": "#E5ECF6",
          "polar": {
           "angularaxis": {
            "gridcolor": "white",
            "linecolor": "white",
            "ticks": ""
           },
           "bgcolor": "#E5ECF6",
           "radialaxis": {
            "gridcolor": "white",
            "linecolor": "white",
            "ticks": ""
           }
          },
          "scene": {
           "xaxis": {
            "backgroundcolor": "#E5ECF6",
            "gridcolor": "white",
            "gridwidth": 2,
            "linecolor": "white",
            "showbackground": true,
            "ticks": "",
            "zerolinecolor": "white"
           },
           "yaxis": {
            "backgroundcolor": "#E5ECF6",
            "gridcolor": "white",
            "gridwidth": 2,
            "linecolor": "white",
            "showbackground": true,
            "ticks": "",
            "zerolinecolor": "white"
           },
           "zaxis": {
            "backgroundcolor": "#E5ECF6",
            "gridcolor": "white",
            "gridwidth": 2,
            "linecolor": "white",
            "showbackground": true,
            "ticks": "",
            "zerolinecolor": "white"
           }
          },
          "shapedefaults": {
           "line": {
            "color": "#2a3f5f"
           }
          },
          "ternary": {
           "aaxis": {
            "gridcolor": "white",
            "linecolor": "white",
            "ticks": ""
           },
           "baxis": {
            "gridcolor": "white",
            "linecolor": "white",
            "ticks": ""
           },
           "bgcolor": "#E5ECF6",
           "caxis": {
            "gridcolor": "white",
            "linecolor": "white",
            "ticks": ""
           }
          },
          "title": {
           "x": 0.05
          },
          "xaxis": {
           "automargin": true,
           "gridcolor": "white",
           "linecolor": "white",
           "ticks": "",
           "title": {
            "standoff": 15
           },
           "zerolinecolor": "white",
           "zerolinewidth": 2
          },
          "yaxis": {
           "automargin": true,
           "gridcolor": "white",
           "linecolor": "white",
           "ticks": "",
           "title": {
            "standoff": 15
           },
           "zerolinecolor": "white",
           "zerolinewidth": 2
          }
         }
        },
        "title": {
         "text": "직무별 평균 재직기간 비교 (재직자 vs 퇴사자)"
        },
        "updatemenus": [
         {
          "active": 0,
          "buttons": [
           {
            "args": [
             {
              "visible": [
               true,
               true,
               false,
               false,
               false,
               false,
               false,
               false,
               false,
               false
              ]
             }
            ],
            "label": "전체",
            "method": "update"
           },
           {
            "args": [
             {
              "visible": [
               false,
               false,
               true,
               true,
               false,
               false,
               false,
               false,
               false,
               false
              ]
             }
            ],
            "label": "Planning Division",
            "method": "update"
           },
           {
            "args": [
             {
              "visible": [
               false,
               false,
               false,
               false,
               true,
               true,
               false,
               false,
               false,
               false
              ]
             }
            ],
            "label": "Sales Division",
            "method": "update"
           },
           {
            "args": [
             {
              "visible": [
               false,
               false,
               false,
               false,
               false,
               false,
               true,
               true,
               false,
               false
              ]
             }
            ],
            "label": "Development Division",
            "method": "update"
           },
           {
            "args": [
             {
              "visible": [
               false,
               false,
               false,
               false,
               false,
               false,
               false,
               false,
               true,
               true
              ]
             }
            ],
            "label": "Operating Division",
            "method": "update"
           }
          ],
          "direction": "down",
          "pad": {
           "r": 10,
           "t": 10
          },
          "showactive": true,
          "x": 0.01,
          "xanchor": "left",
          "y": 1.1,
          "yanchor": "top"
         }
        ],
        "xaxis": {
         "range": [
          0,
          7.875519050878394
         ],
         "title": {
          "text": "평균 재직 기간 (년)"
         }
        },
        "yaxis": {
         "categoryarray": [
          "Sales & Marketing",
          "Production & Engineering",
          "Planning",
          "Management Support",
          "IT"
         ],
         "categoryorder": "array",
         "title": {
          "text": "마지막 직무 대분류"
         }
        }
       }
      }
     },
     "metadata": {},
     "output_type": "display_data"
    },
    {
     "name": "stdout",
     "output_type": "stream",
     "text": [
      "\n",
      "--- Aggregate DataFrame ---\n"
     ]
    },
    {
     "data": {
      "text/html": [
       "<div>\n",
       "<style scoped>\n",
       "    .dataframe tbody tr th:only-of-type {\n",
       "        vertical-align: middle;\n",
       "    }\n",
       "\n",
       "    .dataframe tbody tr th {\n",
       "        vertical-align: top;\n",
       "    }\n",
       "\n",
       "    .dataframe thead th {\n",
       "        text-align: right;\n",
       "    }\n",
       "</style>\n",
       "<table border=\"1\" class=\"dataframe\">\n",
       "  <thead>\n",
       "    <tr style=\"text-align: right;\">\n",
       "      <th></th>\n",
       "      <th>DIVISION_NAME</th>\n",
       "      <th>전체 평균</th>\n",
       "      <th>Planning Division</th>\n",
       "      <th>Sales Division</th>\n",
       "      <th>Development Division</th>\n",
       "      <th>Operating Division</th>\n",
       "    </tr>\n",
       "    <tr>\n",
       "      <th>JOB_CATEGORY</th>\n",
       "      <th>STATUS</th>\n",
       "      <th></th>\n",
       "      <th></th>\n",
       "      <th></th>\n",
       "      <th></th>\n",
       "      <th></th>\n",
       "    </tr>\n",
       "  </thead>\n",
       "  <tbody>\n",
       "    <tr>\n",
       "      <th rowspan=\"2\" valign=\"top\">IT</th>\n",
       "      <th>퇴사자</th>\n",
       "      <td>4.68</td>\n",
       "      <td>4.66</td>\n",
       "      <td>3.96</td>\n",
       "      <td>5.07</td>\n",
       "      <td>4.55</td>\n",
       "    </tr>\n",
       "    <tr>\n",
       "      <th>재직자</th>\n",
       "      <td>5.41</td>\n",
       "      <td>5.09</td>\n",
       "      <td>5.71</td>\n",
       "      <td>5.88</td>\n",
       "      <td>4.79</td>\n",
       "    </tr>\n",
       "    <tr>\n",
       "      <th rowspan=\"2\" valign=\"top\">Management Support</th>\n",
       "      <th>퇴사자</th>\n",
       "      <td>5.02</td>\n",
       "      <td>5.12</td>\n",
       "      <td>3.59</td>\n",
       "      <td>5.86</td>\n",
       "      <td>NaN</td>\n",
       "    </tr>\n",
       "    <tr>\n",
       "      <th>재직자</th>\n",
       "      <td>5.45</td>\n",
       "      <td>5.40</td>\n",
       "      <td>5.27</td>\n",
       "      <td>6.22</td>\n",
       "      <td>6.31</td>\n",
       "    </tr>\n",
       "    <tr>\n",
       "      <th rowspan=\"2\" valign=\"top\">Planning</th>\n",
       "      <th>퇴사자</th>\n",
       "      <td>5.06</td>\n",
       "      <td>5.10</td>\n",
       "      <td>4.80</td>\n",
       "      <td>4.85</td>\n",
       "      <td>5.75</td>\n",
       "    </tr>\n",
       "    <tr>\n",
       "      <th>재직자</th>\n",
       "      <td>5.64</td>\n",
       "      <td>6.40</td>\n",
       "      <td>5.36</td>\n",
       "      <td>5.21</td>\n",
       "      <td>3.39</td>\n",
       "    </tr>\n",
       "    <tr>\n",
       "      <th rowspan=\"2\" valign=\"top\">Production &amp; Engineering</th>\n",
       "      <th>퇴사자</th>\n",
       "      <td>4.61</td>\n",
       "      <td>6.85</td>\n",
       "      <td>5.55</td>\n",
       "      <td>4.49</td>\n",
       "      <td>4.38</td>\n",
       "    </tr>\n",
       "    <tr>\n",
       "      <th>재직자</th>\n",
       "      <td>5.29</td>\n",
       "      <td>5.38</td>\n",
       "      <td>5.44</td>\n",
       "      <td>4.97</td>\n",
       "      <td>5.51</td>\n",
       "    </tr>\n",
       "    <tr>\n",
       "      <th rowspan=\"2\" valign=\"top\">Sales &amp; Marketing</th>\n",
       "      <th>퇴사자</th>\n",
       "      <td>4.67</td>\n",
       "      <td>5.00</td>\n",
       "      <td>4.76</td>\n",
       "      <td>2.82</td>\n",
       "      <td>4.60</td>\n",
       "    </tr>\n",
       "    <tr>\n",
       "      <th>재직자</th>\n",
       "      <td>5.25</td>\n",
       "      <td>4.32</td>\n",
       "      <td>5.36</td>\n",
       "      <td>4.60</td>\n",
       "      <td>5.30</td>\n",
       "    </tr>\n",
       "  </tbody>\n",
       "</table>\n",
       "</div>"
      ],
      "text/plain": [
       "DIVISION_NAME                    전체 평균  Planning Division  Sales Division  \\\n",
       "JOB_CATEGORY             STATUS                                             \n",
       "IT                       퇴사자      4.68               4.66            3.96   \n",
       "                         재직자      5.41               5.09            5.71   \n",
       "Management Support       퇴사자      5.02               5.12            3.59   \n",
       "                         재직자      5.45               5.40            5.27   \n",
       "Planning                 퇴사자      5.06               5.10            4.80   \n",
       "                         재직자      5.64               6.40            5.36   \n",
       "Production & Engineering 퇴사자      4.61               6.85            5.55   \n",
       "                         재직자      5.29               5.38            5.44   \n",
       "Sales & Marketing        퇴사자      4.67               5.00            4.76   \n",
       "                         재직자      5.25               4.32            5.36   \n",
       "\n",
       "DIVISION_NAME                    Development Division  Operating Division  \n",
       "JOB_CATEGORY             STATUS                                            \n",
       "IT                       퇴사자                     5.07                4.55  \n",
       "                         재직자                     5.88                4.79  \n",
       "Management Support       퇴사자                     5.86                 NaN  \n",
       "                         재직자                     6.22                6.31  \n",
       "Planning                 퇴사자                     4.85                5.75  \n",
       "                         재직자                     5.21                3.39  \n",
       "Production & Engineering 퇴사자                     4.49                4.38  \n",
       "                         재직자                     4.97                5.51  \n",
       "Sales & Marketing        퇴사자                     2.82                4.60  \n",
       "                         재직자                     4.60                5.30  "
      ]
     },
     "execution_count": 4,
     "metadata": {},
     "output_type": "execute_result"
    }
   ],
   "source": [
    "import pandas as pd\n",
    "import numpy as np\n",
    "import plotly.graph_objects as go\n",
    "import plotly.io as pio\n",
    "import plotly.express as px\n",
    "\n",
    "# --- 1. 데이터 임포트 ---\n",
    "from services.tables.HR_Core.basic_info_table import emp_df\n",
    "from services.tables.HR_Core.job_info_table import job_info_df\n",
    "from services.tables.HR_Core.department_info_table import department_info_df\n",
    "from services.tables.HR_Core.job_table import job_df, job_df_indexed, parent_map_job, job_l1_order\n",
    "from services.tables.HR_Core.department_table import division_order, dept_level_map, parent_map_dept, dept_name_map\n",
    "from services.helpers.utils import get_level1_ancestor, find_division_name_for_dept\n",
    "\n",
    "def create_figure_and_df():\n",
    "    \"\"\"\n",
    "    제안 8: 직무별 인력 유지 현황 분석 그래프 및 피벗 테이블을 생성합니다.\n",
    "    \"\"\"\n",
    "    # --- 2. 데이터 준비 및 가공 ---\n",
    "    emp_base_df = emp_df[['EMP_ID', 'CURRENT_EMP_YN', 'DURATION']].copy()\n",
    "    emp_base_df['TENURE_YEARS'] = emp_base_df['DURATION'] / 365.25\n",
    "\n",
    "    last_job = job_info_df.sort_values('JOB_APP_START_DATE').groupby('EMP_ID').last()\n",
    "    last_dept = department_info_df.sort_values('DEP_APP_START_DATE').groupby('EMP_ID').last()\n",
    "\n",
    "    job_l1_map = job_df[job_df['JOB_LEVEL'] == 1].set_index('JOB_ID')['JOB_NAME'].to_dict()\n",
    "    last_job['JOB_CATEGORY'] = last_job['JOB_ID'].apply(lambda x: job_l1_map.get(get_level1_ancestor(x, job_df_indexed, parent_map_job)))\n",
    "    last_dept['DIVISION_NAME'] = last_dept['DEP_ID'].apply(lambda x: find_division_name_for_dept(x, dept_level_map, parent_map_dept, dept_name_map))\n",
    "\n",
    "    analysis_df = pd.merge(emp_base_df, last_job[['JOB_CATEGORY']], on='EMP_ID', how='left')\n",
    "    analysis_df = pd.merge(analysis_df, last_dept[['DIVISION_NAME']], on='EMP_ID', how='left')\n",
    "    analysis_df = analysis_df.dropna(subset=['JOB_CATEGORY', 'DIVISION_NAME'])\n",
    "    analysis_df['STATUS'] = np.where(analysis_df['CURRENT_EMP_YN'] == 'Y', '재직자', '퇴사자')\n",
    "\n",
    "    summary_df = analysis_df.groupby(['DIVISION_NAME', 'JOB_CATEGORY', 'STATUS'], observed=False).agg(\n",
    "        AVG_TENURE=('TENURE_YEARS', 'mean'),\n",
    "        HEADCOUNT=('EMP_ID', 'nunique')\n",
    "    ).unstack(level='STATUS').fillna(0)\n",
    "    summary_df.columns = [f'{val}_{stat}' for val, stat in summary_df.columns]\n",
    "    summary_df = summary_df.reset_index()\n",
    "\n",
    "    overall_summary = analysis_df.groupby(['JOB_CATEGORY', 'STATUS'], observed=False).agg(\n",
    "        AVG_TENURE=('TENURE_YEARS', 'mean'),\n",
    "        HEADCOUNT=('EMP_ID', 'nunique')\n",
    "    ).unstack(level='STATUS').fillna(0)\n",
    "    overall_summary.columns = [f'{val}_{stat}' for val, stat in overall_summary.columns]\n",
    "    overall_summary = overall_summary.reset_index()\n",
    "    \n",
    "    x_max = pd.concat([summary_df['AVG_TENURE_재직자'], summary_df['AVG_TENURE_퇴사자']]).max()\n",
    "    fixed_x_range = [0, x_max * 1.15]\n",
    "\n",
    "    # --- 3. Plotly 인터랙티브 그래프 생성 ---\n",
    "    fig = go.Figure()\n",
    "    division_list = ['전체'] + division_order\n",
    "    for i, div_name in enumerate(division_list):\n",
    "        is_visible = (i == 0)\n",
    "        if div_name == '전체':\n",
    "            df_grouped = overall_summary\n",
    "        else:\n",
    "            df_grouped = summary_df[summary_df['DIVISION_NAME'] == div_name]\n",
    "        fig.add_trace(go.Bar(\n",
    "            y=df_grouped['JOB_CATEGORY'], x=df_grouped['AVG_TENURE_재직자'], name='재직자', orientation='h', visible=is_visible,\n",
    "            customdata=df_grouped['HEADCOUNT_재직자'], text=df_grouped['AVG_TENURE_재직자'].round(2),\n",
    "            textposition='outside', hovertemplate='평균 재직기간: %{x:.2f}년<br>인원: %{customdata}명<extra></extra>'\n",
    "        ))\n",
    "        fig.add_trace(go.Bar(\n",
    "            y=df_grouped['JOB_CATEGORY'], x=df_grouped['AVG_TENURE_퇴사자'], name='퇴사자', orientation='h', visible=is_visible,\n",
    "            customdata=df_grouped['HEADCOUNT_퇴사자'], text=df_grouped['AVG_TENURE_퇴사자'].round(2),\n",
    "            textposition='outside', hovertemplate='평균 재직기간: %{x:.2f}년<br>인원: %{customdata}명<extra></extra>'\n",
    "        ))\n",
    "\n",
    "    # --- 4. 드롭다운 메뉴 생성 및 레이아웃 업데이트 ---\n",
    "    buttons = []\n",
    "    for i, div_name in enumerate(division_list):\n",
    "        visibility_mask = [False] * (len(division_list) * 2)\n",
    "        visibility_mask[i*2], visibility_mask[i*2 + 1] = True, True\n",
    "        buttons.append(dict(label=div_name, method='update', args=[{'visible': visibility_mask}]))\n",
    "    \n",
    "    fig.update_layout(\n",
    "        updatemenus=[dict(active=0, buttons=buttons, direction=\"down\", pad={\"r\": 10, \"t\": 10}, showactive=True, x=0.01, xanchor=\"left\", y=1.1, yanchor=\"top\")],\n",
    "        title_text='직무별 평균 재직기간 비교 (재직자 vs 퇴사자)',\n",
    "        xaxis_title='평균 재직 기간 (년)',\n",
    "        font_size=14, height=700,\n",
    "        barmode='group',\n",
    "        legend_title_text='상태',\n",
    "        annotations=[dict(text=\"조직 선택:\", showarrow=False, x=0, y=1.08, yref=\"paper\", align=\"left\")],\n",
    "        xaxis_range=fixed_x_range,\n",
    "        # --- 수정된 부분: global_job_order 대신 job_l1_order 사용 ---\n",
    "        yaxis=dict(\n",
    "            title='마지막 직무 대분류',\n",
    "            categoryorder='array',\n",
    "            categoryarray=job_l1_order[::-1]\n",
    "        )\n",
    "        # --- 수정 완료 ---\n",
    "    )\n",
    "    \n",
    "    # --- aggregate_df 생성 ---\n",
    "    analysis_df['STATUS'] = pd.Categorical(analysis_df['STATUS'], categories=['퇴사자', '재직자'], ordered=True)\n",
    "    aggregate_df = analysis_df.pivot_table(\n",
    "        index=['JOB_CATEGORY', 'STATUS'], columns='DIVISION_NAME',\n",
    "        values='TENURE_YEARS', aggfunc='mean', observed=False\n",
    "    )\n",
    "    aggregate_df['전체 평균'] = analysis_df.groupby(['JOB_CATEGORY', 'STATUS'], observed=False)['TENURE_YEARS'].mean()\n",
    "    cols = ['전체 평균'] + [col for col in division_order if col in aggregate_df.columns]\n",
    "    aggregate_df = aggregate_df[cols].round(2)\n",
    "        \n",
    "    return fig, aggregate_df\n",
    "\n",
    "# --- 실행 코드 ---\n",
    "pio.renderers.default = 'vscode'\n",
    "fig, aggregate_df = create_figure_and_df()\n",
    "fig.show()\n",
    "\n",
    "print(\"\\n--- Aggregate DataFrame ---\")\n",
    "aggregate_df"
   ]
  },
  {
   "cell_type": "code",
   "execution_count": null,
   "id": "704f9f31",
   "metadata": {},
   "outputs": [],
   "source": []
  }
 ],
 "metadata": {
  "kernelspec": {
   "display_name": "Python 3 (ipykernel)",
   "language": "python",
   "name": "python3"
  },
  "language_info": {
   "codemirror_mode": {
    "name": "ipython",
    "version": 3
   },
   "file_extension": ".py",
   "mimetype": "text/x-python",
   "name": "python",
   "nbconvert_exporter": "python",
   "pygments_lexer": "ipython3",
   "version": "3.12.11"
  }
 },
 "nbformat": 4,
 "nbformat_minor": 5
}
