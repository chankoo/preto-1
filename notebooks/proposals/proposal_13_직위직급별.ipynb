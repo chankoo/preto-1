{
 "cells": [
  {
   "cell_type": "code",
   "execution_count": 1,
   "id": "b472fa1f",
   "metadata": {},
   "outputs": [
    {
     "name": "stderr",
     "output_type": "stream",
     "text": [
      "/app/src/services/tables/Time_Attendance/detailed_working_info_table.py:79: FutureWarning: Downcasting object dtype arrays on .fillna, .ffill, .bfill is deprecated and will change in a future version. Call result.infer_objects(copy=False) instead. To opt-in to the future behavior, set `pd.set_option('future.no_silent_downcasting', True)`\n",
      "  df['IS_VACATION'] = df['IS_VACATION'].fillna(False).astype(bool)\n"
     ]
    },
    {
     "data": {
      "application/vnd.plotly.v1+json": {
       "config": {
        "plotlyServerURL": "https://plot.ly"
       },
       "data": [
        {
         "line": {
          "color": "#636EFA"
         },
         "mode": "lines+markers",
         "name": "Staff",
         "type": "scatter",
         "x": [
          "2020-01",
          "2020-02",
          "2020-03",
          "2020-04",
          "2020-05",
          "2020-06",
          "2020-07",
          "2020-08",
          "2020-09",
          "2020-10",
          "2020-11",
          "2020-12",
          "2021-01",
          "2021-02",
          "2021-03",
          "2021-04",
          "2021-05",
          "2021-06",
          "2021-07",
          "2021-08",
          "2021-09",
          "2021-10",
          "2021-11",
          "2021-12",
          "2022-01",
          "2022-02",
          "2022-03",
          "2022-04",
          "2022-05",
          "2022-06",
          "2022-07",
          "2022-08",
          "2022-09",
          "2022-10",
          "2022-11",
          "2022-12",
          "2023-01",
          "2023-02",
          "2023-03",
          "2023-04",
          "2023-05",
          "2023-06",
          "2023-07",
          "2023-08",
          "2023-09",
          "2023-10",
          "2023-11",
          "2023-12",
          "2024-01",
          "2024-02",
          "2024-03",
          "2024-04",
          "2024-05",
          "2024-06",
          "2024-07",
          "2024-08",
          "2024-09",
          "2024-10",
          "2024-11",
          "2024-12",
          "2025-01",
          "2025-02",
          "2025-03",
          "2025-04",
          "2025-05",
          "2025-06",
          "2025-07",
          "2025-08"
         ],
         "y": {
          "bdata": "7TlwSa5B8j8zJbIZVjmzPzmcZFJr3cg/dXV1dXU18r8hbIQfJfrsvyrk+YAA+PK/3q66d0hU57+wrlnL+uravynDfl8P8vi/t8+S0kOxwj9e7Krk3sXmvwLtO+ci0Py/TaK+clmm8r/k6OPo4+jjvxk4KDAsLvW/vf8uI2aVFcDulKFWYYQbwDt+6Gpcsx/AzlQRM6JqHMBNO007TTsawMVhk/rG4BjA85TzlPOUGcAOAw4DDgMawJZ0UjAO7BrAXRtyQVDRD0DfTuHYsHIPQCrlJCnlJBFAw4ooTjohD0AG5WBQDgYRQGYcEA7jWwxAwJVK2RA4DkA0eUm6DMQQQEZ/KCQXsBFAh4eHh4eHDUC+m3s9oxINQIxME3y3hBBAA6YxYBoDEUCJ4TJNbAUPQLvssssuuxFAjt3RD+HYD0BnpGJudUYQQIEhWqrG7hBAB/utNoamEED/+46XQNcQQM3MzMzM7AxAgxpg3N4HEUAKfK+lLe8RQHGp2wLj3A1A2StXDF+KEEADqx6axwAPQMWyv0jC/RBAqTH1Tbu4DkCdNtBpAx0PQKJFtvP9lA1AxDLiB49HEECX+R2y6MYQQJbNP2OaDAxAsgDo3jmsEEBx27FRE4MNQG2Z6Arejg1Ae63Xeq3XDkAGuEjO+p4HQA7jSCFNSgxAlPYMnczeC0Ck/VrhnnENQBrrevntkQxAAdsZa6gQD0AVGAKcZtwJQA==",
          "dtype": "f8"
         }
        },
        {
         "line": {
          "color": "#EF553B"
         },
         "mode": "lines+markers",
         "name": "Manager",
         "type": "scatter",
         "x": [
          "2020-01",
          "2020-02",
          "2020-03",
          "2020-04",
          "2020-05",
          "2020-06",
          "2020-07",
          "2020-08",
          "2020-09",
          "2020-10",
          "2020-11",
          "2020-12",
          "2021-01",
          "2021-02",
          "2021-03",
          "2021-04",
          "2021-05",
          "2021-06",
          "2021-07",
          "2021-08",
          "2021-09",
          "2021-10",
          "2021-11",
          "2021-12",
          "2022-01",
          "2022-02",
          "2022-03",
          "2022-04",
          "2022-05",
          "2022-06",
          "2022-07",
          "2022-08",
          "2022-09",
          "2022-10",
          "2022-11",
          "2022-12",
          "2023-01",
          "2023-02",
          "2023-03",
          "2023-04",
          "2023-05",
          "2023-06",
          "2023-07",
          "2023-08",
          "2023-09",
          "2023-10",
          "2023-11",
          "2023-12",
          "2024-01",
          "2024-02",
          "2024-03",
          "2024-04",
          "2024-05",
          "2024-06",
          "2024-07",
          "2024-08",
          "2024-09",
          "2024-10",
          "2024-11",
          "2024-12",
          "2025-01",
          "2025-02",
          "2025-03",
          "2025-04",
          "2025-05",
          "2025-06",
          "2025-07",
          "2025-08"
         ],
         "y": {
          "bdata": "nsN4DuM57D9mAco4WxbQPzAwMDAwMPg/kItWQZ+R6j9ZTWU1ldXwP4AyzpYFKOu/9ZWe4wtO4z9iAPJ+5iLiP86riWdFI8m/rXPlAck6+j9XD9DVA3TVP14vvz0y1v0/CTfx2XwI1z9Wkq2iQM79Pz1+jpLT4+c/IQmsN2YgEMCLf1Oj4l8XwJE6Go7ZdRnASZSnLuC6FsDWqngZf0YVwBNSCxyRxBfAUrSSYfIKFsAbL90kBkEZwIMwcPPSFxvA+dPgT4M/DUDnUdF6eB4PQHTaQKcNNBNANwhnqSROEUCyuMbiGosTQJn7h7l/mBBAfn1A6JqvEEAj5Ox4OcISQNJ6sEDUoBBABz0Wew5cEED2PyXpoQETQNGqSxWtuhNAvI4t9jaxE0DJT91RKnMPQDxL2M1vIRVAvI4t9jaxEUDnTBAi9ZMUQJEWoJe7YhRAD9XtUN2uE0B5M+LNiLcTQIkLN/At7RNAzczMzMxKFECJLaF6h9gTQKc/YgF3+g9A0TAmmRpFEUBzupm2MycQQJLPj0FKSRBANGhiuOf+EEC3UEGpa4sQQA0xHHnyMg9AZ5gMOEZFEUB+4id+4icRQLGwsLCwIBJA5H4QVLFHEUACrPlm0SQQQN+/Q1ORaRFAXNnnkJpgEUB3kqWOEFsPQFtWwQ2yOQ5Asd7u2cdmEEBJi/nAUS0RQNYmc9yXZhBAxpDhjL3/DUAhSsNZa+gMQA==",
          "dtype": "f8"
         }
        },
        {
         "line": {
          "color": "#00CC96"
         },
         "mode": "lines+markers",
         "name": "Director",
         "type": "scatter",
         "x": [
          "2020-01",
          "2020-02",
          "2020-03",
          "2020-04",
          "2020-05",
          "2020-06",
          "2020-07",
          "2020-08",
          "2020-09",
          "2020-10",
          "2020-11",
          "2020-12",
          "2021-01",
          "2021-02",
          "2021-03",
          "2021-04",
          "2021-05",
          "2021-06",
          "2021-07",
          "2021-08",
          "2021-09",
          "2021-10",
          "2021-11",
          "2021-12",
          "2022-01",
          "2022-02",
          "2022-03",
          "2022-04",
          "2022-05",
          "2022-06",
          "2022-07",
          "2022-08",
          "2022-09",
          "2022-10",
          "2022-11",
          "2022-12",
          "2023-01",
          "2023-02",
          "2023-03",
          "2023-04",
          "2023-05",
          "2023-06",
          "2023-07",
          "2023-08",
          "2023-09",
          "2023-10",
          "2023-11",
          "2023-12",
          "2024-01",
          "2024-02",
          "2024-03",
          "2024-04",
          "2024-05",
          "2024-06",
          "2024-07",
          "2024-08",
          "2024-09",
          "2024-10",
          "2024-11",
          "2024-12",
          "2025-01",
          "2025-02",
          "2025-03",
          "2025-04",
          "2025-05",
          "2025-06",
          "2025-07",
          "2025-08"
         ],
         "y": {
          "bdata": "kP3Yj/1YJ0DWaI3WaI0iQO/u7u7unihARERERESEKUC8u7u7u7seQEREREREhCVALt/yLd9yI0Ct1Eqt1EoaQA/ncA7n8CJA9EIv9EIvGkDHeIzHeAwhQHVN13RNVydACu0ltJfQIEApr6G8hnIhQKazmM5iuiJAwxNytS48DUAOsGzz5QDjP04xavjbFNu/NP5pkkHj9z88ViCMtGMLQFVVVVVVVQdAg8Y/TTJo8L9g2ebLAZYFwI7jOI7jOOK/DrBs8+UAEUCTXyz5xZIFQLHkF0t+sQ5AZmZmZmZmDEDXo3A9CpcQQKDTBjptIApAP+mTPukT+z/flrU6JngGQAoezBP1bwxA7+7u7u7uBUAdWmQ7308PQP+NUEZvy/4/c+UByTrXBUAekKxz5QECQIT2EtpLaAhAIFnnygOS+T8nJycnJycBQISEhISEhANAupEbuZEbC0AClm2+HGAOQLIoi7IoiwxA7L3e673eDUBboiVaoiUIQH7Zl33ZlwdAeUqQpwR5DkCEDz744AMLQOrXYJx+DQhALJ3kwNJJCkAfPa710eMCQBmnX4Nx+gdAntiJndgJD0AMtmALtmATQD7okj3okg9AftMoftMoEUAN0iAN0qAPQNEmfNEmfBRA4lnRSMB3EUDMYyuChpMRQNUSoFAtARFALPc0wnJPEEBtHfrN1qESQFfklHFFzhFAq0xk3n+XEUCAmPuHuX8NQA==",
          "dtype": "f8"
         }
        },
        {
         "line": {
          "color": "#636EFA"
         },
         "mode": "lines+markers",
         "name": "G1",
         "type": "scatter",
         "visible": false,
         "x": [
          "2020-01",
          "2020-02",
          "2020-03",
          "2020-04",
          "2020-05",
          "2020-06",
          "2020-07",
          "2020-08",
          "2020-09",
          "2020-10",
          "2020-11",
          "2020-12",
          "2021-01",
          "2021-02",
          "2021-03",
          "2021-04",
          "2021-05",
          "2021-06",
          "2021-07",
          "2021-08",
          "2021-09",
          "2021-10",
          "2021-11",
          "2021-12",
          "2022-01",
          "2022-02",
          "2022-03",
          "2022-04",
          "2022-05",
          "2022-06",
          "2022-07",
          "2022-08",
          "2022-09",
          "2022-10",
          "2022-11",
          "2022-12",
          "2023-01",
          "2023-02",
          "2023-03",
          "2023-04",
          "2023-05",
          "2023-06",
          "2023-07",
          "2023-08",
          "2023-09",
          "2023-10",
          "2023-11",
          "2023-12",
          "2024-01",
          "2024-02",
          "2024-03",
          "2024-04",
          "2024-05",
          "2024-06",
          "2024-07",
          "2024-08",
          "2024-09",
          "2024-10",
          "2024-11",
          "2024-12",
          "2025-01",
          "2025-02",
          "2025-03",
          "2025-04",
          "2025-05",
          "2025-06",
          "2025-07",
          "2025-08"
         ],
         "y": {
          "bdata": "gYX/plU7BEA9IFnnygP6P9Bv59EsOwdAenwXDqLHB0A/71iY8fPeP59pqC8ECQ1A9kfJ+KYlGECwGfJg9x4WQAwBo1STxxBAjOA1i+A1EUCq8dJNYhAPQPePBG+NcQZAsWLzeKUJAUClun5jbtATQHIcx3EcrxBAiYiIiIiICMAnfdInfWIRwBYhf82OWhPAdOKafAMfEcAcMvba5UcQwAoMbREvWg7AtwA8krI+EsDrhoG/djsVwJB0f+FT2RPA/uVf/uVfDkDv7u7u7u4NQNqalK1JWRFA1Vu91Vs9DEBgYGBgYGASQA3pvMWQzglAXVAMZ0PIDUDGkl8s+YUQQAOdNtBpIxVAl041vQLNDUACDPke02oPQNCZWi7c1Q9AsqN/JcRQEUCtc+UByfoOQArfiuKR8BRAak4CcaHmEED7IxZwp78QQHzNhaQpFRFAs2z+GdNkEUDe3d3d3akRQG7kRm7kRgxAm3/GNBlgEEDy6WuLgwURQNdFKnHfwwxAt/SqzTVuC0Ba0UjANy8NQEGIIxtFcxJAFidpcZIWCEB9jc/X+HwNQERERERERA9AnMAJnMBpEECrqqqqqioLQPH65w3CWQhAw0VBSjhcDECXClp9qaAKQKJV7rwfWgdAn6kHVhfjEEDhwTxR/0YJQJsLSVMqzgpA7w0oE1e6CUAP6qAO6qAKQOXDuF+XVAtAfdInfdInCEB/We+X9X4FQA==",
          "dtype": "f8"
         }
        },
        {
         "line": {
          "color": "#EF553B"
         },
         "mode": "lines+markers",
         "name": "G2",
         "type": "scatter",
         "visible": false,
         "x": [
          "2020-01",
          "2020-02",
          "2020-03",
          "2020-04",
          "2020-05",
          "2020-06",
          "2020-07",
          "2020-08",
          "2020-09",
          "2020-10",
          "2020-11",
          "2020-12",
          "2021-01",
          "2021-02",
          "2021-03",
          "2021-04",
          "2021-05",
          "2021-06",
          "2021-07",
          "2021-08",
          "2021-09",
          "2021-10",
          "2021-11",
          "2021-12",
          "2022-01",
          "2022-02",
          "2022-03",
          "2022-04",
          "2022-05",
          "2022-06",
          "2022-07",
          "2022-08",
          "2022-09",
          "2022-10",
          "2022-11",
          "2022-12",
          "2023-01",
          "2023-02",
          "2023-03",
          "2023-04",
          "2023-05",
          "2023-06",
          "2023-07",
          "2023-08",
          "2023-09",
          "2023-10",
          "2023-11",
          "2023-12",
          "2024-01",
          "2024-02",
          "2024-03",
          "2024-04",
          "2024-05",
          "2024-06",
          "2024-07",
          "2024-08",
          "2024-09",
          "2024-10",
          "2024-11",
          "2024-12",
          "2025-01",
          "2025-02",
          "2025-03",
          "2025-04",
          "2025-05",
          "2025-06",
          "2025-07",
          "2025-08"
         ],
         "y": {
          "bdata": "zu8WH5b5yD8PcCzCP07vv8L1KFyP4vm/cz+qvi8YD8DWrxSo9Sv9vx6p15F6HRHAD7oL0HEFE8AH5X+ftd4PwL5f1vtl/RPA9P1ziUckA8BJlTKSDdYLwNFdXzJLexLAfdwg1qRjCMBgTdE1drMOwMn3mFbbURLACi+Z8JIJG8CUmFNevasgwLZPVA8aeSPAZKVDVjpkIcBEnSpNW/gfwP7Z1uxSiB7AX8SkjmXiHcAK7SW0l9AcwPXb6yFADR/ALwXoDttKEEALK7+bxR8QQBxPbwPgCRFAJX5GiZ9REEBVOP6UdVEQQJ+BUpyXuA1AC6/wCq9wDkA+4iM+4uMQQGM1VmM11g9A/75RsK5jDUCLvs5j8t4LQEmRFEmR1BBAQ3NKWSXbEEBbYXMg0QoPQK1z5QHJGhBA/WRaAIPZDkCDLdiCLQgQQLbhTVyA2hBAatzhEsxOEEARC16fSnoQQJvwIGw2OA1Aiu/XWDZVEUCLUcPfplgSQLy7u7u7Ww5AJCQkJCTEEUAqYrTorMwPQCNq9HpzVxBAg7Pp9J7cEEBeUvkw7tcPQJcObx070wxAtXehbvo5EEBNLAavngsSQOCrfH45dw1AZqFJzQewEUAkrI6+MLcOQIT7u03wERBAM9xkCi3DDUAE5j2hwwAHQIUAbC9k2wxA7MXz71qnDEDSJ33SJ30OQKubXWWEAA1AsuQXS36xEEBDsI4271MLQA==",
          "dtype": "f8"
         }
        },
        {
         "line": {
          "color": "#636EFA"
         },
         "mode": "lines+markers",
         "name": "G3",
         "type": "scatter",
         "visible": false,
         "x": [
          "2020-01",
          "2020-02",
          "2020-03",
          "2020-04",
          "2020-05",
          "2020-06",
          "2020-07",
          "2020-08",
          "2020-09",
          "2020-10",
          "2020-11",
          "2020-12",
          "2021-01",
          "2021-02",
          "2021-03",
          "2021-04",
          "2021-05",
          "2021-06",
          "2021-07",
          "2021-08",
          "2021-09",
          "2021-10",
          "2021-11",
          "2021-12",
          "2022-01",
          "2022-02",
          "2022-03",
          "2022-04",
          "2022-05",
          "2022-06",
          "2022-07",
          "2022-08",
          "2022-09",
          "2022-10",
          "2022-11",
          "2022-12",
          "2023-01",
          "2023-02",
          "2023-03",
          "2023-04",
          "2023-05",
          "2023-06",
          "2023-07",
          "2023-08",
          "2023-09",
          "2023-10",
          "2023-11",
          "2023-12",
          "2024-01",
          "2024-02",
          "2024-03",
          "2024-04",
          "2024-05",
          "2024-06",
          "2024-07",
          "2024-08",
          "2024-09",
          "2024-10",
          "2024-11",
          "2024-12",
          "2025-01",
          "2025-02",
          "2025-03",
          "2025-04",
          "2025-05",
          "2025-06",
          "2025-07",
          "2025-08"
         ],
         "y": {
          "bdata": "YBoDpjFg6r+aQDqV0g1ivyHz2VfiLeA/PKSX1pvB1L/AclGBbGq9P0yaCPre9fS/hbaD4dEp4z/AbJYBzGY5Pzna6ZEg3tO/C6iACqiA8j/v7u7u7g7Sv+/u7u7ubvk/n6bKtRKM3L/Z2NjY2NjvPxu93tyVC+W/sE9Z2P76EsBulC+cTlgawIZ+spNj6BzAWVhYWFh4FcA8PDw8PFwTwOSGDc0aTBXAXglF8uCVEsDtOzbbKiUVwO/RVOHsHhjA4T8xR6YXDkDTkHOfXQAQQL52+ZHuLxRAoEg/3CiIEUCCif5OVgsUQP2Rf93kWBBAW7Trg6bFD0D3UdbSCEQQQFMdFgRXphBAlQck61y5D0BV2cP3ZPISQCG70lF0VRJAS8jWf4lPEkAREREREdEMQGodjpQYqxVA2b6uZHZhEEAcT28D4AkUQMy+7Mu+7BNALhC9uT73E0DZ04w9zdgTQCQhRxJyJBRACZrX2isVFUC+y2JkAyATQBBMKcTj+Q9APEm0k0Q7EUC7GpZexAkQQNa1Zl1r1hBAvaNz5uQREEC2aQZGEQsQQId7uId7+AxA4L6lVYYxEED7bMb3R4oQQNsX/K4RMhFA6oTxo22UEEBMl4f18/4NQK3RGq3RGhFAf6VArV8pEUDqoA7qoI4OQGzBFmzBVg5Ac2GNOLB5D0AqOfKet18RQPMmvKc2Tg9AXKG4FYpbDkDS70JGwYgLQA==",
          "dtype": "f8"
         }
        },
        {
         "line": {
          "color": "#EF553B"
         },
         "mode": "lines+markers",
         "name": "G4",
         "type": "scatter",
         "visible": false,
         "x": [
          "2020-01",
          "2020-02",
          "2020-03",
          "2020-04",
          "2020-05",
          "2020-06",
          "2020-07",
          "2020-08",
          "2020-09",
          "2020-10",
          "2020-11",
          "2020-12",
          "2021-01",
          "2021-02",
          "2021-03",
          "2021-04",
          "2021-05",
          "2021-06",
          "2021-07",
          "2021-08",
          "2021-09",
          "2021-10",
          "2021-11",
          "2021-12",
          "2022-01",
          "2022-02",
          "2022-03",
          "2022-04",
          "2022-05",
          "2022-06",
          "2022-07",
          "2022-08",
          "2022-09",
          "2022-10",
          "2022-11",
          "2022-12",
          "2023-01",
          "2023-02",
          "2023-03",
          "2023-04",
          "2023-05",
          "2023-06",
          "2023-07",
          "2023-08",
          "2023-09",
          "2023-10",
          "2023-11",
          "2023-12",
          "2024-01",
          "2024-02",
          "2024-03",
          "2024-04",
          "2024-05",
          "2024-06",
          "2024-07",
          "2024-08",
          "2024-09",
          "2024-10",
          "2024-11",
          "2024-12",
          "2025-01",
          "2025-02",
          "2025-03",
          "2025-04",
          "2025-05",
          "2025-06",
          "2025-07",
          "2025-08"
         ],
         "y": {
          "bdata": "2RUg95oLFECuR+F6FK7rP2zBFmzBRhBAmRu0EFKeDkAWbMEWbKELQLAFW7AFW9U/ghp3uASz4z8etQj5a3YAQCUqWQDhxrs/KVyPwvUoB0BA7jUXkqb+P8GDeaL+jQRA4zEe4zGeA0B0OIdzOIcQQI7cyI3cyBFAdCjAkO8xAsAm91WYEx0QwKpGDIGXahHAMnfI3CFzGcCO1miN1mgZwKuqqqqq+hzARYi3q+4dHcC0bP4Z0+QgwImIiIiIoiDA5zF5b3zAC0Bw+EKKgI0NQJAHvXV/chFAj4s6UYjpEEAd/NG026cSQJ3YiZ3YCRFAIWpbXvcLEkBlMwqsi/gWQFp9qaDVlxBAfEPoYOIuEUCHVSzOrRoTQAzYpHE+CxZAtvHTYhs/FkBrypqypiwSQNUugljtIhRAdN+pRPcdFED/M5nmP5MVQBuM06/BOBVAlebFn0g4E0BVBuQQYIITQKV7A8rElRNA2/TfI4cEE0DpOyyfqQcVQAaC8+hs+w9AVVVVVVVVEUDy0k1iEFgQQEGnDXTawA5AxpJfLPmFEkDCQ400G10RQJpE75lEbxFAVx6QrHPlEkA2Fb8qZBwSQAW9bz9hlhNAQhqkQRpkEkAKkzAJk/ARQJdFfAKp5BFAvLu7u7u7EUDmifo3QlkQQDyYJ+rfCA5AxpJfLPmFEUC6one0fNoQQJmYmJiYmBFA4ZfS9Qp+DUDe3d3d3d0OQA==",
          "dtype": "f8"
         }
        },
        {
         "line": {
          "color": "#636EFA"
         },
         "mode": "lines+markers",
         "name": "G5",
         "type": "scatter",
         "visible": false,
         "x": [
          "2020-01",
          "2020-02",
          "2020-03",
          "2020-04",
          "2020-05",
          "2020-06",
          "2020-07",
          "2020-08",
          "2020-09",
          "2020-10",
          "2020-11",
          "2020-12",
          "2021-01",
          "2021-02",
          "2021-03",
          "2021-04",
          "2021-05",
          "2021-06",
          "2021-07",
          "2021-08",
          "2021-09",
          "2021-10",
          "2021-11",
          "2021-12",
          "2022-01",
          "2022-02",
          "2022-03",
          "2022-04",
          "2022-05",
          "2022-06",
          "2022-07",
          "2022-08",
          "2022-09",
          "2022-10",
          "2022-11",
          "2022-12",
          "2023-01",
          "2023-02",
          "2023-03",
          "2023-04",
          "2023-05",
          "2023-06",
          "2023-07",
          "2023-08",
          "2023-09",
          "2023-10",
          "2023-11",
          "2023-12",
          "2024-01",
          "2024-02",
          "2024-03",
          "2024-04",
          "2024-05",
          "2024-06",
          "2024-07",
          "2024-08",
          "2024-09",
          "2024-10",
          "2024-11",
          "2024-12",
          "2025-01",
          "2025-02",
          "2025-03",
          "2025-04",
          "2025-05",
          "2025-06",
          "2025-07",
          "2025-08"
         ],
         "y": {
          "bdata": "q6qqqqqqK0AWbMEWbAEpQFujNVqjtSlAzczMzMzMLEAg+7Ef+7EhQBM4gRM4ASxAHNa+Ye2bKUB2pF5H6nUcQBS3QnErFCRAXKG4FYpbIUDRRRdddNEiQOt1pF5H6idARUVFRUVFH0C0l9BeQnshQNFeQnsJ7SJAnGLU8LcpDUBVVVVVVVXdP/n4+Pj4+OC/IiIiIiIi+D/RXkJ7Ce0KQCa0l9BeQgdAcFOMGv429b98Ce0ltJcHwD09PT09Pd2/c3Nzc3NzD0DD36YYNfwCQBPaS2gvoQpAE9pLaC+hCUCp4W9TjJoSQFVVVVVVVQVAcFj7hrVv+j8mrNg8XmkEQB+vNGHF5glA/VnOn+X8AkCVD+N+XVIJQA617KmT4fw/frSN8oXTA0Dm3r9DU5EBQN7OkJi3MwJA7SojBIiX9T8REREREfH3PzMzMzMzk/0/EdYtqm/HDUA2NjY2NjYOQCA2lYac+wxAMJb8YskvDkDr2/FQQlgHQP4Tc2R62QpAKVyPwvVoDUD1KFyPwrUIQL7lW77lWwZAoRAKoRAKBUAJjMAIjMAAQDMswzIswwhAPnUyHGrZDUAOaRkfeioSQDtMXW5/kBBAUrgehetREkBRy546GY4QQNI9/xWCQxRAZ6kkLhvBEEDWuGZTxw8RQAAAAAAAQBFApEEapEFaEUDlW77lW74SQIqd2ImdWBFAguoZu3h9EkCPOeSOOeQOQA==",
          "dtype": "f8"
         }
        },
        {
         "line": {
          "color": "#EF553B"
         },
         "mode": "lines+markers",
         "name": "G6",
         "type": "scatter",
         "visible": false,
         "x": [
          "2020-01",
          "2020-02",
          "2020-03",
          "2020-04",
          "2020-05",
          "2020-06",
          "2020-07",
          "2020-08",
          "2020-09",
          "2020-10",
          "2020-11",
          "2020-12",
          "2021-01",
          "2021-02",
          "2021-03",
          "2021-04",
          "2021-05",
          "2021-06",
          "2021-07",
          "2021-08",
          "2021-09",
          "2021-10",
          "2021-11",
          "2021-12",
          "2022-01",
          "2022-02",
          "2022-03",
          "2022-04",
          "2022-05",
          "2022-06",
          "2022-07",
          "2022-08",
          "2022-09",
          "2022-10",
          "2022-11",
          "2022-12",
          "2023-01",
          "2023-02",
          "2023-03",
          "2023-04",
          "2023-05",
          "2023-06",
          "2023-07",
          "2023-08",
          "2023-09",
          "2023-10",
          "2023-11",
          "2023-12",
          "2024-01",
          "2024-02",
          "2024-03",
          "2024-04",
          "2024-05",
          "2024-06",
          "2024-07",
          "2024-08",
          "2024-09",
          "2024-10",
          "2024-11",
          "2024-12",
          "2025-01",
          "2025-02",
          "2025-03",
          "2025-04",
          "2025-05",
          "2025-06",
          "2025-07",
          "2025-08"
         ],
         "y": {
          "bdata": "iYiIiIiI9L+rqqqqqiokwAAAAAAAACFARERERERE9D/e3d3d3d3dv2ZmZmZm5ifA3t3d3d3dHMC8u7u7u7sMQN7d3d3dXRlAvLu7u7u7FMBEREREREQNQO/u7u7uLiRA7+7u7u5uMkBVVVVVVdUgQFVVVVVVVR5AiYiIiIiIDkBEREREREQIQGZmZmZmZvY/d3d3d3d38z/e3d3d3d0RQKuqqqqqqghAiYiIiIiIEUARERERERH9P97d3d3d3QPA3t3d3d3dG0Dv7u7u7m4WQBERERER0SBAq6qqqqqqGkCJiIiIiIjYvxERERERUSFAERERERERAUAREREREREXQM3MzMzMzBxAq6qqqqoqG0DNzMzMzAwpQGZmZmZmZgpAAAAAAAAAFkCDLdiCLdgGQKuqqqqqKidAVVVVVVVVEUBERERERAQpQM3MzMzMzCdA3t3d3d3d3T9ERERERMQPQDMzMzMzswhAmpmZmZkZC0CrqqqqqioPQJqZmZmZmeO/zczMzMyMFECJiIiIiAgZQImIiIiISBRA3t3d3d1dI0De3d3d3d0TQFVVVVVVVQBAP+mTPukTFEB3d3d3d3ccQJQ+6ZM+6QNAlD7pkz7pAEBEREREREQEQFD6pE/6JBZAOY7jOI7jF0D0SZ/0SR8WQBZswRZswQ1Ax3Ecx3Ec/T+rqqqqqqoRQJ/0SZ/0yRVAXXTRRRddCkALxa1Q3AoHQA==",
          "dtype": "f8"
         }
        }
       ],
       "layout": {
        "annotations": [
         {
          "align": "left",
          "showarrow": false,
          "text": "직위/직급 선택:",
          "x": 0,
          "y": 1.08,
          "yref": "paper"
         }
        ],
        "font": {
         "size": 14
        },
        "height": 700,
        "legend": {
         "title": {
          "text": "직위/직급"
         }
        },
        "template": {
         "data": {
          "bar": [
           {
            "error_x": {
             "color": "#2a3f5f"
            },
            "error_y": {
             "color": "#2a3f5f"
            },
            "marker": {
             "line": {
              "color": "#E5ECF6",
              "width": 0.5
             },
             "pattern": {
              "fillmode": "overlay",
              "size": 10,
              "solidity": 0.2
             }
            },
            "type": "bar"
           }
          ],
          "barpolar": [
           {
            "marker": {
             "line": {
              "color": "#E5ECF6",
              "width": 0.5
             },
             "pattern": {
              "fillmode": "overlay",
              "size": 10,
              "solidity": 0.2
             }
            },
            "type": "barpolar"
           }
          ],
          "carpet": [
           {
            "aaxis": {
             "endlinecolor": "#2a3f5f",
             "gridcolor": "white",
             "linecolor": "white",
             "minorgridcolor": "white",
             "startlinecolor": "#2a3f5f"
            },
            "baxis": {
             "endlinecolor": "#2a3f5f",
             "gridcolor": "white",
             "linecolor": "white",
             "minorgridcolor": "white",
             "startlinecolor": "#2a3f5f"
            },
            "type": "carpet"
           }
          ],
          "choropleth": [
           {
            "colorbar": {
             "outlinewidth": 0,
             "ticks": ""
            },
            "type": "choropleth"
           }
          ],
          "contour": [
           {
            "colorbar": {
             "outlinewidth": 0,
             "ticks": ""
            },
            "colorscale": [
             [
              0,
              "#0d0887"
             ],
             [
              0.1111111111111111,
              "#46039f"
             ],
             [
              0.2222222222222222,
              "#7201a8"
             ],
             [
              0.3333333333333333,
              "#9c179e"
             ],
             [
              0.4444444444444444,
              "#bd3786"
             ],
             [
              0.5555555555555556,
              "#d8576b"
             ],
             [
              0.6666666666666666,
              "#ed7953"
             ],
             [
              0.7777777777777778,
              "#fb9f3a"
             ],
             [
              0.8888888888888888,
              "#fdca26"
             ],
             [
              1,
              "#f0f921"
             ]
            ],
            "type": "contour"
           }
          ],
          "contourcarpet": [
           {
            "colorbar": {
             "outlinewidth": 0,
             "ticks": ""
            },
            "type": "contourcarpet"
           }
          ],
          "heatmap": [
           {
            "colorbar": {
             "outlinewidth": 0,
             "ticks": ""
            },
            "colorscale": [
             [
              0,
              "#0d0887"
             ],
             [
              0.1111111111111111,
              "#46039f"
             ],
             [
              0.2222222222222222,
              "#7201a8"
             ],
             [
              0.3333333333333333,
              "#9c179e"
             ],
             [
              0.4444444444444444,
              "#bd3786"
             ],
             [
              0.5555555555555556,
              "#d8576b"
             ],
             [
              0.6666666666666666,
              "#ed7953"
             ],
             [
              0.7777777777777778,
              "#fb9f3a"
             ],
             [
              0.8888888888888888,
              "#fdca26"
             ],
             [
              1,
              "#f0f921"
             ]
            ],
            "type": "heatmap"
           }
          ],
          "histogram": [
           {
            "marker": {
             "pattern": {
              "fillmode": "overlay",
              "size": 10,
              "solidity": 0.2
             }
            },
            "type": "histogram"
           }
          ],
          "histogram2d": [
           {
            "colorbar": {
             "outlinewidth": 0,
             "ticks": ""
            },
            "colorscale": [
             [
              0,
              "#0d0887"
             ],
             [
              0.1111111111111111,
              "#46039f"
             ],
             [
              0.2222222222222222,
              "#7201a8"
             ],
             [
              0.3333333333333333,
              "#9c179e"
             ],
             [
              0.4444444444444444,
              "#bd3786"
             ],
             [
              0.5555555555555556,
              "#d8576b"
             ],
             [
              0.6666666666666666,
              "#ed7953"
             ],
             [
              0.7777777777777778,
              "#fb9f3a"
             ],
             [
              0.8888888888888888,
              "#fdca26"
             ],
             [
              1,
              "#f0f921"
             ]
            ],
            "type": "histogram2d"
           }
          ],
          "histogram2dcontour": [
           {
            "colorbar": {
             "outlinewidth": 0,
             "ticks": ""
            },
            "colorscale": [
             [
              0,
              "#0d0887"
             ],
             [
              0.1111111111111111,
              "#46039f"
             ],
             [
              0.2222222222222222,
              "#7201a8"
             ],
             [
              0.3333333333333333,
              "#9c179e"
             ],
             [
              0.4444444444444444,
              "#bd3786"
             ],
             [
              0.5555555555555556,
              "#d8576b"
             ],
             [
              0.6666666666666666,
              "#ed7953"
             ],
             [
              0.7777777777777778,
              "#fb9f3a"
             ],
             [
              0.8888888888888888,
              "#fdca26"
             ],
             [
              1,
              "#f0f921"
             ]
            ],
            "type": "histogram2dcontour"
           }
          ],
          "mesh3d": [
           {
            "colorbar": {
             "outlinewidth": 0,
             "ticks": ""
            },
            "type": "mesh3d"
           }
          ],
          "parcoords": [
           {
            "line": {
             "colorbar": {
              "outlinewidth": 0,
              "ticks": ""
             }
            },
            "type": "parcoords"
           }
          ],
          "pie": [
           {
            "automargin": true,
            "type": "pie"
           }
          ],
          "scatter": [
           {
            "fillpattern": {
             "fillmode": "overlay",
             "size": 10,
             "solidity": 0.2
            },
            "type": "scatter"
           }
          ],
          "scatter3d": [
           {
            "line": {
             "colorbar": {
              "outlinewidth": 0,
              "ticks": ""
             }
            },
            "marker": {
             "colorbar": {
              "outlinewidth": 0,
              "ticks": ""
             }
            },
            "type": "scatter3d"
           }
          ],
          "scattercarpet": [
           {
            "marker": {
             "colorbar": {
              "outlinewidth": 0,
              "ticks": ""
             }
            },
            "type": "scattercarpet"
           }
          ],
          "scattergeo": [
           {
            "marker": {
             "colorbar": {
              "outlinewidth": 0,
              "ticks": ""
             }
            },
            "type": "scattergeo"
           }
          ],
          "scattergl": [
           {
            "marker": {
             "colorbar": {
              "outlinewidth": 0,
              "ticks": ""
             }
            },
            "type": "scattergl"
           }
          ],
          "scattermap": [
           {
            "marker": {
             "colorbar": {
              "outlinewidth": 0,
              "ticks": ""
             }
            },
            "type": "scattermap"
           }
          ],
          "scattermapbox": [
           {
            "marker": {
             "colorbar": {
              "outlinewidth": 0,
              "ticks": ""
             }
            },
            "type": "scattermapbox"
           }
          ],
          "scatterpolar": [
           {
            "marker": {
             "colorbar": {
              "outlinewidth": 0,
              "ticks": ""
             }
            },
            "type": "scatterpolar"
           }
          ],
          "scatterpolargl": [
           {
            "marker": {
             "colorbar": {
              "outlinewidth": 0,
              "ticks": ""
             }
            },
            "type": "scatterpolargl"
           }
          ],
          "scatterternary": [
           {
            "marker": {
             "colorbar": {
              "outlinewidth": 0,
              "ticks": ""
             }
            },
            "type": "scatterternary"
           }
          ],
          "surface": [
           {
            "colorbar": {
             "outlinewidth": 0,
             "ticks": ""
            },
            "colorscale": [
             [
              0,
              "#0d0887"
             ],
             [
              0.1111111111111111,
              "#46039f"
             ],
             [
              0.2222222222222222,
              "#7201a8"
             ],
             [
              0.3333333333333333,
              "#9c179e"
             ],
             [
              0.4444444444444444,
              "#bd3786"
             ],
             [
              0.5555555555555556,
              "#d8576b"
             ],
             [
              0.6666666666666666,
              "#ed7953"
             ],
             [
              0.7777777777777778,
              "#fb9f3a"
             ],
             [
              0.8888888888888888,
              "#fdca26"
             ],
             [
              1,
              "#f0f921"
             ]
            ],
            "type": "surface"
           }
          ],
          "table": [
           {
            "cells": {
             "fill": {
              "color": "#EBF0F8"
             },
             "line": {
              "color": "white"
             }
            },
            "header": {
             "fill": {
              "color": "#C8D4E3"
             },
             "line": {
              "color": "white"
             }
            },
            "type": "table"
           }
          ]
         },
         "layout": {
          "annotationdefaults": {
           "arrowcolor": "#2a3f5f",
           "arrowhead": 0,
           "arrowwidth": 1
          },
          "autotypenumbers": "strict",
          "coloraxis": {
           "colorbar": {
            "outlinewidth": 0,
            "ticks": ""
           }
          },
          "colorscale": {
           "diverging": [
            [
             0,
             "#8e0152"
            ],
            [
             0.1,
             "#c51b7d"
            ],
            [
             0.2,
             "#de77ae"
            ],
            [
             0.3,
             "#f1b6da"
            ],
            [
             0.4,
             "#fde0ef"
            ],
            [
             0.5,
             "#f7f7f7"
            ],
            [
             0.6,
             "#e6f5d0"
            ],
            [
             0.7,
             "#b8e186"
            ],
            [
             0.8,
             "#7fbc41"
            ],
            [
             0.9,
             "#4d9221"
            ],
            [
             1,
             "#276419"
            ]
           ],
           "sequential": [
            [
             0,
             "#0d0887"
            ],
            [
             0.1111111111111111,
             "#46039f"
            ],
            [
             0.2222222222222222,
             "#7201a8"
            ],
            [
             0.3333333333333333,
             "#9c179e"
            ],
            [
             0.4444444444444444,
             "#bd3786"
            ],
            [
             0.5555555555555556,
             "#d8576b"
            ],
            [
             0.6666666666666666,
             "#ed7953"
            ],
            [
             0.7777777777777778,
             "#fb9f3a"
            ],
            [
             0.8888888888888888,
             "#fdca26"
            ],
            [
             1,
             "#f0f921"
            ]
           ],
           "sequentialminus": [
            [
             0,
             "#0d0887"
            ],
            [
             0.1111111111111111,
             "#46039f"
            ],
            [
             0.2222222222222222,
             "#7201a8"
            ],
            [
             0.3333333333333333,
             "#9c179e"
            ],
            [
             0.4444444444444444,
             "#bd3786"
            ],
            [
             0.5555555555555556,
             "#d8576b"
            ],
            [
             0.6666666666666666,
             "#ed7953"
            ],
            [
             0.7777777777777778,
             "#fb9f3a"
            ],
            [
             0.8888888888888888,
             "#fdca26"
            ],
            [
             1,
             "#f0f921"
            ]
           ]
          },
          "colorway": [
           "#636efa",
           "#EF553B",
           "#00cc96",
           "#ab63fa",
           "#FFA15A",
           "#19d3f3",
           "#FF6692",
           "#B6E880",
           "#FF97FF",
           "#FECB52"
          ],
          "font": {
           "color": "#2a3f5f"
          },
          "geo": {
           "bgcolor": "white",
           "lakecolor": "white",
           "landcolor": "#E5ECF6",
           "showlakes": true,
           "showland": true,
           "subunitcolor": "white"
          },
          "hoverlabel": {
           "align": "left"
          },
          "hovermode": "closest",
          "mapbox": {
           "style": "light"
          },
          "paper_bgcolor": "white",
          "plot_bgcolor": "#E5ECF6",
          "polar": {
           "angularaxis": {
            "gridcolor": "white",
            "linecolor": "white",
            "ticks": ""
           },
           "bgcolor": "#E5ECF6",
           "radialaxis": {
            "gridcolor": "white",
            "linecolor": "white",
            "ticks": ""
           }
          },
          "scene": {
           "xaxis": {
            "backgroundcolor": "#E5ECF6",
            "gridcolor": "white",
            "gridwidth": 2,
            "linecolor": "white",
            "showbackground": true,
            "ticks": "",
            "zerolinecolor": "white"
           },
           "yaxis": {
            "backgroundcolor": "#E5ECF6",
            "gridcolor": "white",
            "gridwidth": 2,
            "linecolor": "white",
            "showbackground": true,
            "ticks": "",
            "zerolinecolor": "white"
           },
           "zaxis": {
            "backgroundcolor": "#E5ECF6",
            "gridcolor": "white",
            "gridwidth": 2,
            "linecolor": "white",
            "showbackground": true,
            "ticks": "",
            "zerolinecolor": "white"
           }
          },
          "shapedefaults": {
           "line": {
            "color": "#2a3f5f"
           }
          },
          "ternary": {
           "aaxis": {
            "gridcolor": "white",
            "linecolor": "white",
            "ticks": ""
           },
           "baxis": {
            "gridcolor": "white",
            "linecolor": "white",
            "ticks": ""
           },
           "bgcolor": "#E5ECF6",
           "caxis": {
            "gridcolor": "white",
            "linecolor": "white",
            "ticks": ""
           }
          },
          "title": {
           "x": 0.05
          },
          "xaxis": {
           "automargin": true,
           "gridcolor": "white",
           "linecolor": "white",
           "ticks": "",
           "title": {
            "standoff": 15
           },
           "zerolinecolor": "white",
           "zerolinewidth": 2
          },
          "yaxis": {
           "automargin": true,
           "gridcolor": "white",
           "linecolor": "white",
           "ticks": "",
           "title": {
            "standoff": 15
           },
           "zerolinecolor": "white",
           "zerolinewidth": 2
          }
         }
        },
        "title": {
         "text": "직위/직급별 월 평균 1인당 초과근무 시간 드릴다운 분석"
        },
        "updatemenus": [
         {
          "active": 0,
          "buttons": [
           {
            "args": [
             {
              "visible": [
               true,
               true,
               true,
               false,
               false,
               false,
               false,
               false,
               false
              ]
             },
             {
              "title": "전체 직위별 월 평균 초과근무 시간 추이"
             }
            ],
            "label": "전체",
            "method": "update"
           },
           {
            "args": [
             {
              "visible": [
               false,
               false,
               false,
               true,
               true,
               false,
               false,
               false,
               false
              ]
             },
             {
              "title": "Staff 내 직급별 월 평균 초과근무 시간 추이"
             }
            ],
            "label": "Staff",
            "method": "update"
           },
           {
            "args": [
             {
              "visible": [
               false,
               false,
               false,
               false,
               false,
               true,
               true,
               false,
               false
              ]
             },
             {
              "title": "Manager 내 직급별 월 평균 초과근무 시간 추이"
             }
            ],
            "label": "Manager",
            "method": "update"
           },
           {
            "args": [
             {
              "visible": [
               false,
               false,
               false,
               false,
               false,
               false,
               false,
               true,
               true
              ]
             },
             {
              "title": "Director 내 직급별 월 평균 초과근무 시간 추이"
             }
            ],
            "label": "Director",
            "method": "update"
           }
          ],
          "direction": "down",
          "pad": {
           "r": 10,
           "t": 10
          },
          "showactive": true,
          "x": 0.01,
          "xanchor": "left",
          "y": 1.1,
          "yanchor": "top"
         }
        ],
        "xaxis": {
         "range": [
          "2019-12",
          "2026-01"
         ],
         "title": {
          "text": "월(YYYY-MM)"
         }
        },
        "yaxis": {
         "range": [
          -14.988333333333333,
          21.471666666666668
         ],
         "title": {
          "text": "1인당 평균 초과근무 (시간)"
         }
        }
       }
      }
     },
     "metadata": {},
     "output_type": "display_data"
    },
    {
     "name": "stdout",
     "output_type": "stream",
     "text": [
      "\n",
      "--- Aggregate DataFrame ---\n"
     ]
    },
    {
     "data": {
      "text/html": [
       "<div>\n",
       "<style scoped>\n",
       "    .dataframe tbody tr th:only-of-type {\n",
       "        vertical-align: middle;\n",
       "    }\n",
       "\n",
       "    .dataframe tbody tr th {\n",
       "        vertical-align: top;\n",
       "    }\n",
       "\n",
       "    .dataframe thead th {\n",
       "        text-align: right;\n",
       "    }\n",
       "</style>\n",
       "<table border=\"1\" class=\"dataframe\">\n",
       "  <thead>\n",
       "    <tr style=\"text-align: right;\">\n",
       "      <th>POSITION_NAME</th>\n",
       "      <th>전체 평균</th>\n",
       "      <th>Staff</th>\n",
       "      <th>Manager</th>\n",
       "      <th>Director</th>\n",
       "      <th>C-Level</th>\n",
       "    </tr>\n",
       "    <tr>\n",
       "      <th>YEAR</th>\n",
       "      <th></th>\n",
       "      <th></th>\n",
       "      <th></th>\n",
       "      <th></th>\n",
       "      <th></th>\n",
       "    </tr>\n",
       "  </thead>\n",
       "  <tbody>\n",
       "    <tr>\n",
       "      <th>2020</th>\n",
       "      <td>0.15</td>\n",
       "      <td>-0.57</td>\n",
       "      <td>0.71</td>\n",
       "      <td>9.75</td>\n",
       "      <td>NaN</td>\n",
       "    </tr>\n",
       "    <tr>\n",
       "      <th>2021</th>\n",
       "      <td>-4.44</td>\n",
       "      <td>-5.24</td>\n",
       "      <td>-4.07</td>\n",
       "      <td>2.82</td>\n",
       "      <td>NaN</td>\n",
       "    </tr>\n",
       "    <tr>\n",
       "      <th>2022</th>\n",
       "      <td>4.12</td>\n",
       "      <td>3.98</td>\n",
       "      <td>4.37</td>\n",
       "      <td>3.20</td>\n",
       "      <td>NaN</td>\n",
       "    </tr>\n",
       "    <tr>\n",
       "      <th>2023</th>\n",
       "      <td>4.37</td>\n",
       "      <td>4.11</td>\n",
       "      <td>4.81</td>\n",
       "      <td>2.89</td>\n",
       "      <td>NaN</td>\n",
       "    </tr>\n",
       "    <tr>\n",
       "      <th>2024</th>\n",
       "      <td>4.06</td>\n",
       "      <td>3.92</td>\n",
       "      <td>4.21</td>\n",
       "      <td>3.74</td>\n",
       "      <td>8.49</td>\n",
       "    </tr>\n",
       "    <tr>\n",
       "      <th>2025</th>\n",
       "      <td>3.87</td>\n",
       "      <td>3.52</td>\n",
       "      <td>3.99</td>\n",
       "      <td>4.29</td>\n",
       "      <td>8.27</td>\n",
       "    </tr>\n",
       "  </tbody>\n",
       "</table>\n",
       "</div>"
      ],
      "text/plain": [
       "POSITION_NAME  전체 평균  Staff  Manager  Director  C-Level\n",
       "YEAR                                                   \n",
       "2020            0.15  -0.57     0.71      9.75      NaN\n",
       "2021           -4.44  -5.24    -4.07      2.82      NaN\n",
       "2022            4.12   3.98     4.37      3.20      NaN\n",
       "2023            4.37   4.11     4.81      2.89      NaN\n",
       "2024            4.06   3.92     4.21      3.74     8.49\n",
       "2025            3.87   3.52     3.99      4.29     8.27"
      ]
     },
     "execution_count": 1,
     "metadata": {},
     "output_type": "execute_result"
    }
   ],
   "source": [
    "import pandas as pd\n",
    "import numpy as np\n",
    "import plotly.graph_objects as go\n",
    "import plotly.io as pio\n",
    "import plotly.express as px\n",
    "import datetime\n",
    "\n",
    "# --- 1. 데이터 임포트 ---\n",
    "from services.tables.Time_Attendance.daily_working_info_table import daily_work_info_df\n",
    "from services.tables.HR_Core.position_info_table import position_info_df\n",
    "from services.tables.HR_Core.position_table import position_df, position_order, grade_order\n",
    "\n",
    "def create_figure_and_df():\n",
    "    \"\"\"\n",
    "    제안 13-3: 직위별 워라밸 변화 추이 그래프 및 피벗 테이블을 생성합니다.\n",
    "    \"\"\"\n",
    "    # --- 2. 데이터 준비 및 가공 ---\n",
    "    daily_work_df = daily_work_info_df.copy()\n",
    "    daily_work_df['DATE'] = pd.to_datetime(daily_work_df['DATE'])\n",
    "    daily_work_df['PAY_PERIOD'] = daily_work_df['DATE'].dt.strftime('%Y-%m')\n",
    "\n",
    "    pos_info_with_name = pd.merge(position_info_df, position_df[['POSITION_ID', 'POSITION_NAME']].drop_duplicates(), on='POSITION_ID')\n",
    "    pos_info_sorted = pos_info_with_name.sort_values('GRADE_START_DATE')\n",
    "    analysis_df = daily_work_df.sort_values('DATE')\n",
    "    analysis_df = pd.merge_asof(\n",
    "        analysis_df, pos_info_sorted[['EMP_ID', 'GRADE_START_DATE', 'POSITION_NAME', 'GRADE_ID']],\n",
    "        left_on='DATE', right_on='GRADE_START_DATE', by='EMP_ID', direction='backward'\n",
    "    )\n",
    "    analysis_df = analysis_df.dropna(subset=['POSITION_NAME', 'GRADE_ID'])\n",
    "\n",
    "    pos_monthly_summary = analysis_df.groupby(['POSITION_NAME', 'PAY_PERIOD'], observed=False).agg(\n",
    "        TOTAL_OVERTIME_MINUTES=('OVERTIME_MINUTES', 'sum'), HEADCOUNT=('EMP_ID', 'nunique')\n",
    "    ).reset_index()\n",
    "    pos_monthly_summary['AVG_OVERTIME_PER_PERSON'] = (pos_monthly_summary['TOTAL_OVERTIME_MINUTES'] / pos_monthly_summary['HEADCOUNT']) / 60\n",
    "\n",
    "    grade_monthly_summary = analysis_df.groupby(['POSITION_NAME', 'GRADE_ID', 'PAY_PERIOD'], observed=False).agg(\n",
    "        TOTAL_OVERTIME_MINUTES=('OVERTIME_MINUTES', 'sum'), HEADCOUNT=('EMP_ID', 'nunique')\n",
    "    ).reset_index()\n",
    "    grade_monthly_summary['AVG_OVERTIME_PER_PERSON'] = (grade_monthly_summary['TOTAL_OVERTIME_MINUTES'] / grade_monthly_summary['HEADCOUNT']) / 60\n",
    "    \n",
    "    all_overtime_values = pd.concat([pos_monthly_summary['AVG_OVERTIME_PER_PERSON'], grade_monthly_summary['AVG_OVERTIME_PER_PERSON']])\n",
    "    y_min, y_max = (all_overtime_values.min(), all_overtime_values.max()) if not all_overtime_values.empty else (0, 0)\n",
    "    y_padding = (y_max - y_min) * 0.1 if (y_max - y_min) > 0 else 10\n",
    "    fixed_y_range = [y_min - y_padding, y_max + y_padding]\n",
    "\n",
    "    # --- 3. Plotly 인터랙티브 그래프 생성 ---\n",
    "    # (그래프 생성 코드는 이전과 동일)\n",
    "    fig = go.Figure()\n",
    "    colors = px.colors.qualitative.Plotly\n",
    "    position_filter_list = [p for p in position_order if p != 'C-Level']\n",
    "    for i, pos_name in enumerate(position_filter_list):\n",
    "        df_filtered = pos_monthly_summary[pos_monthly_summary['POSITION_NAME'] == pos_name]\n",
    "        if not df_filtered.empty:\n",
    "            fig.add_trace(go.Scatter(x=df_filtered['PAY_PERIOD'], y=df_filtered['AVG_OVERTIME_PER_PERSON'], mode='lines+markers', name=pos_name, line=dict(color=colors[i])))\n",
    "    grade_traces_map = {}\n",
    "    trace_idx_counter = len(fig.data)\n",
    "    for pos_name in position_filter_list:\n",
    "        grade_df = grade_monthly_summary[grade_monthly_summary['POSITION_NAME'] == pos_name]\n",
    "        grades_in_pos = [g for g in grade_order if g in grade_df['GRADE_ID'].unique()]\n",
    "        grade_traces_map[pos_name] = []\n",
    "        for j, grade_id in enumerate(grades_in_pos):\n",
    "            df_filtered = grade_df[grade_df['GRADE_ID'] == grade_id]\n",
    "            if not df_filtered.empty:\n",
    "                fig.add_trace(go.Scatter(x=df_filtered['PAY_PERIOD'], y=df_filtered['AVG_OVERTIME_PER_PERSON'], mode='lines+markers', name=grade_id, visible=False, line=dict(color=colors[j % len(colors)])))\n",
    "                grade_traces_map[pos_name].append(trace_idx_counter)\n",
    "                trace_idx_counter += 1\n",
    "    buttons = []\n",
    "    buttons.append(dict(label='전체', method='update', args=[{'visible': [True]*len(position_filter_list) + [False]*(len(fig.data)-len(position_filter_list))}, {'title': '전체 직위별 월 평균 초과근무 시간 추이'}]))\n",
    "    for pos_name in position_filter_list:\n",
    "        visibility_mask = [False] * len(fig.data)\n",
    "        for trace_idx in grade_traces_map.get(pos_name, []):\n",
    "            visibility_mask[trace_idx] = True\n",
    "        buttons.append(dict(label=f'{pos_name}', method='update', args=[{'visible': visibility_mask}, {'title': f'{pos_name} 내 직급별 월 평균 초과근무 시간 추이'}]))\n",
    "    fig.update_layout(\n",
    "        updatemenus=[dict(active=0, buttons=buttons, direction=\"down\", pad={\"r\": 10, \"t\": 10}, showactive=True, x=0.01, xanchor=\"left\", y=1.1, yanchor=\"top\")],\n",
    "        title_text='직위/직급별 월 평균 1인당 초과근무 시간 드릴다운 분석',\n",
    "        xaxis_title='월(YYYY-MM)', yaxis_title='1인당 평균 초과근무 (시간)',\n",
    "        font_size=14, height=700,\n",
    "        legend_title_text='직위/직급',\n",
    "        annotations=[dict(text=\"직위/직급 선택:\", showarrow=False, x=0, y=1.08, yref=\"paper\", align=\"left\")],\n",
    "        xaxis_range=['2019-12', '2026-01'],\n",
    "        yaxis_range=fixed_y_range\n",
    "    )\n",
    "\n",
    "    # --- 수정된 부분: aggregate_df 생성 ---\n",
    "    # 1. '전체 평균' 계산을 위한 데이터 준비\n",
    "    overall_monthly_summary = analysis_df.groupby('PAY_PERIOD', observed=False).agg(\n",
    "        TOTAL_OVERTIME_MINUTES=('OVERTIME_MINUTES', 'sum'), HEADCOUNT=('EMP_ID', 'nunique')\n",
    "    ).reset_index()\n",
    "    overall_monthly_summary['AVG_OVERTIME_PER_PERSON'] = (overall_monthly_summary['TOTAL_OVERTIME_MINUTES'] / overall_monthly_summary['HEADCOUNT']) / 60\n",
    "\n",
    "    # 2. 연도별로 데이터 집계\n",
    "    pos_monthly_summary['YEAR'] = pd.to_datetime(pos_monthly_summary['PAY_PERIOD']).dt.year\n",
    "    yearly_summary = pos_monthly_summary.groupby(['YEAR', 'POSITION_NAME'], observed=False)['AVG_OVERTIME_PER_PERSON'].mean().reset_index()\n",
    "\n",
    "    overall_monthly_summary['YEAR'] = pd.to_datetime(overall_monthly_summary['PAY_PERIOD']).dt.year\n",
    "    overall_yearly_summary = overall_monthly_summary.groupby('YEAR')['AVG_OVERTIME_PER_PERSON'].mean()\n",
    "\n",
    "    # 3. 피벗 테이블 생성 및 '전체 평균' 추가\n",
    "    aggregate_df = yearly_summary.pivot_table(\n",
    "        index='YEAR',\n",
    "        columns='POSITION_NAME',\n",
    "        values='AVG_OVERTIME_PER_PERSON',\n",
    "        observed=False\n",
    "    )\n",
    "    aggregate_df['전체 평균'] = overall_yearly_summary\n",
    "    \n",
    "    # 4. 연도 필터링 및 정렬\n",
    "    aggregate_df = aggregate_df.reindex(range(2020, 2026)).sort_index()\n",
    "    \n",
    "    # 5. 컬럼 순서 재배치 및 포맷팅\n",
    "    cols = ['전체 평균'] + [col for col in position_order if col in aggregate_df.columns]\n",
    "    aggregate_df = aggregate_df[cols].round(2)\n",
    "    # --- 수정 완료 ---\n",
    "    \n",
    "    return fig, aggregate_df\n",
    "\n",
    "# --- 실행 코드 ---\n",
    "pio.renderers.default = 'vscode'\n",
    "fig, aggregate_df = create_figure_and_df()\n",
    "fig.show()\n",
    "\n",
    "print(\"\\n--- Aggregate DataFrame ---\")\n",
    "aggregate_df"
   ]
  },
  {
   "cell_type": "code",
   "execution_count": null,
   "id": "b0714f1f",
   "metadata": {},
   "outputs": [],
   "source": []
  }
 ],
 "metadata": {
  "kernelspec": {
   "display_name": "Python 3 (ipykernel)",
   "language": "python",
   "name": "python3"
  },
  "language_info": {
   "codemirror_mode": {
    "name": "ipython",
    "version": 3
   },
   "file_extension": ".py",
   "mimetype": "text/x-python",
   "name": "python",
   "nbconvert_exporter": "python",
   "pygments_lexer": "ipython3",
   "version": "3.12.11"
  }
 },
 "nbformat": 4,
 "nbformat_minor": 5
}
