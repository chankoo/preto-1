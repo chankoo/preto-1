{
 "cells": [
  {
   "cell_type": "code",
   "execution_count": 3,
   "id": "0ba29f8e",
   "metadata": {},
   "outputs": [
    {
     "data": {
      "application/vnd.plotly.v1+json": {
       "config": {
        "plotlyServerURL": "https://plot.ly"
       },
       "data": [
        {
         "line": {
          "color": "black",
          "dash": "dot"
         },
         "mode": "lines+markers+text",
         "name": "전사 평균",
         "text": [
          "7.95%",
          "5.59%",
          "3.69%",
          "4.46%",
          "8.26%",
          "7.86%",
          "7.62%",
          "7.85%",
          "8.21%",
          "7.51%",
          "10.36%",
          "8.26%",
          "10.62%",
          "11.32%"
         ],
         "textposition": "top center",
         "type": "scatter",
         "visible": true,
         "x": {
          "bdata": "2wcAANwHAADdBwAA3gcAAN8HAADgBwAA4QcAAOIHAADjBwAA5AcAAOUHAADmBwAA5wcAAOgHAAA=",
          "dtype": "i4"
         },
         "y": {
          "bdata": "0UUXXXTRH0AdLgM+OVwWQOz4dfw6fg1AZqkGnQfYEUA5iB7fhYMgQBp6UEyybx9AM9CTM4J3HkB2CfCKpWgfQL2G8hrKayBA2RakVDEFHkD9VQnFt7okQG/1PUOkgiBAsdJTCys9JUAU1vDO6KUmQA==",
          "dtype": "f8"
         }
        },
        {
         "line": {
          "color": "#636EFA"
         },
         "mode": "lines+markers+text",
         "name": "Planning Division",
         "text": [
          "10.53%",
          "5.26%",
          "3.85%",
          "4.35%",
          "6.02%",
          "2.11%",
          "4.67%",
          "6.61%",
          "8.59%",
          "9.68%",
          "9.77%",
          "10.77%",
          "8.97%",
          "7.43%"
         ],
         "textposition": "top center",
         "type": "scatter",
         "visible": false,
         "x": {
          "bdata": "2wcAANwHAADdBwAA3gcAAN8HAADgBwAA4QcAAOIHAADjBwAA5AcAAOUHAADmBwAA5wcAAOgHAAA=",
          "dtype": "i4"
         },
         "y": {
          "bdata": "11BeQ3kNJUDXUF5DeQ0VQE/sxE7sxA5AFrKQhSxkEUD0aw+5rBgYQHkN5TWU1wBAWw5u9guxEkChVJh4P3IaQAAAAAAAMCFAW2uttdZaI0DIuCDjgowjQJ7YiZ3YiSVAhOWeRljuIUCtG0yRz7odQA==",
          "dtype": "f8"
         }
        },
        {
         "line": {
          "color": "#EF553B"
         },
         "mode": "lines+markers+text",
         "name": "Sales Division",
         "text": [
          "4.76%",
          "7.69%",
          "3.85%",
          "1.61%",
          "12.0%",
          "12.79%",
          "11.0%",
          "5.05%",
          "8.33%",
          "9.38%",
          "12.98%",
          "4.38%",
          "15.44%",
          "15.75%"
         ],
         "textposition": "top center",
         "type": "scatter",
         "visible": false,
         "x": {
          "bdata": "2wcAANwHAADdBwAA3gcAAN8HAADgBwAA4QcAAOIHAADjBwAA5AcAAOUHAADmBwAA5wcAAOgHAAA=",
          "dtype": "i4"
         },
         "y": {
          "bdata": "wzAMwzAME0BP7MRO7MQeQE/sxE7sxA5AzjnnnHPO+T8AAAAAAAAoQGZNWVPWlClAAAAAAAAAJkDezpCYtzMUQKqqqqqqqiBAAAAAAADAIkAnpORZRvQpQNWek+mrhBFA44x2D1vfLkAcOHDgwIEvQA==",
          "dtype": "f8"
         }
        },
        {
         "line": {
          "color": "#00CC96"
         },
         "mode": "lines+markers+text",
         "name": "Development Division",
         "text": [
          "11.76%",
          "3.85%",
          "1.45%",
          "4.76%",
          "6.93%",
          "9.62%",
          "2.75%",
          "10.26%",
          "7.5%",
          "4.72%",
          "6.57%",
          "9.66%",
          "9.15%",
          "14.08%"
         ],
         "textposition": "top center",
         "type": "scatter",
         "visible": false,
         "x": {
          "bdata": "2wcAANwHAADdBwAA3gcAAN8HAADgBwAA4QcAAOIHAADjBwAA5AcAAOUHAADmBwAA5wcAAOgHAAA=",
          "dtype": "i4"
         },
         "y": {
          "bdata": "h4eHh4eHJ0BP7MRO7MQOQHPtwFw7MPc/wzAMwzAME0AGJp2aB7kbQLITO7ETOyNATGDTfrIEBkA0SIM0SIMkQAAAAAAAAB5AuVwul8vlEkBAbl3eAUcaQCz3NMJyTyNA68n47VJPIkBphc2BRCssQA==",
          "dtype": "f8"
         }
        },
        {
         "line": {
          "color": "#AB63FA"
         },
         "mode": "lines+markers+text",
         "name": "Operating Division",
         "text": [
          "0.0%",
          "6.25%",
          "6.82%",
          "7.41%",
          "8.82%",
          "7.14%",
          "13.19%",
          "9.38%",
          "8.41%",
          "6.14%",
          "12.5%",
          "8.26%",
          "8.53%",
          "7.97%"
         ],
         "textposition": "top center",
         "type": "scatter",
         "visible": false,
         "x": {
          "bdata": "2wcAANwHAADdBwAA3gcAAN8HAADgBwAA4QcAAOIHAADjBwAA5AcAAOUHAADmBwAA5wcAAOgHAAA=",
          "dtype": "i4"
         },
         "y": {
          "bdata": "AAAAAAAAAAAAAAAAAAAZQEUXXXTRRRtAEtpLaC+hHUCmpaWlpaUhQCRJkiRJkhxA+6Vf+qVfKkAAAAAAAMAiQLjZL8SK0iBA+wjuI7iPGEAAAAAAAAApQOU0X6tnhyBAQ96QN+QNIUB9RomfUeIfQA==",
          "dtype": "f8"
         }
        },
        {
         "line": {
          "color": "#636EFA"
         },
         "mode": "lines+markers+text",
         "name": "Strategy Office",
         "text": [
          "15.38%",
          "4.55%",
          "6.45%",
          "4.65%",
          "7.02%",
          "3.08%",
          "4.23%",
          "5.19%",
          "7.79%",
          "8.22%",
          "10.13%",
          "9.33%",
          "11.63%",
          "10.23%"
         ],
         "textposition": "top center",
         "type": "scatter",
         "visible": false,
         "x": {
          "bdata": "2wcAANwHAADdBwAA3gcAAN8HAADgBwAA4QcAAOIHAADjBwAA5AcAAOUHAADmBwAA5wcAAOgHAAA=",
          "dtype": "i4"
         },
         "y": {
          "bdata": "T+zETuzELkAvuuiiiy4SQM4555xzzhlAp6wpa8qaEkAfwX0E9xEcQNmJndiJnQhA2BxItMLmEEDsHVMDe8cUQOKs/IQ4Kx9AAwcOHDhwIECCqHRkz0AkQKuqqqqqqiJA0Bf0BX1BJ0B10UUXXXQkQA==",
          "dtype": "f8"
         }
        },
        {
         "line": {
          "color": "#EF553B"
         },
         "mode": "lines+markers+text",
         "name": "Finance Office",
         "text": [
          "0.0%",
          "6.25%",
          "0.0%",
          "3.85%",
          "3.85%",
          "0.0%",
          "5.56%",
          "9.09%",
          "9.8%",
          "11.76%",
          "9.26%",
          "12.73%",
          "5.08%",
          "3.33%"
         ],
         "textposition": "top center",
         "type": "scatter",
         "visible": false,
         "x": {
          "bdata": "2wcAANwHAADdBwAA3gcAAN8HAADgBwAA4QcAAOIHAADjBwAA5AcAAOUHAADmBwAA5wcAAOgHAAA=",
          "dtype": "i4"
         },
         "y": {
          "bdata": "AAAAAAAAAAAAAAAAAAAZQAAAAAAAAAAAT+zETuzEDkBP7MRO7MQOQAAAAAAAAAAAjuM4juM4FkAvuuiiiy4iQJybm5ubmyNAh4eHh4eHJ0BMaC+hvYQiQHTRRRdddClAxEndl8dWFECrqqqqqqoKQA==",
          "dtype": "f8"
         }
        },
        {
         "line": {
          "color": "#636EFA"
         },
         "mode": "lines+markers+text",
         "name": "Marketing Office",
         "text": [
          "12.5%",
          "9.09%",
          "7.14%",
          "5.88%",
          "14.29%",
          "4.17%",
          "16.13%",
          "6.45%",
          "10.26%",
          "6.98%",
          "6.82%",
          "2.08%",
          "22.0%",
          "7.14%"
         ],
         "textposition": "top center",
         "type": "scatter",
         "visible": false,
         "x": {
          "bdata": "2wcAANwHAADdBwAA3gcAAN8HAADgBwAA4QcAAOIHAADjBwAA5AcAAOUHAADmBwAA5wcAAOgHAAA=",
          "dtype": "i4"
         },
         "y": {
          "bdata": "AAAAAAAAKUAvuuiiiy4iQCRJkiRJkhxAh4eHh4eHF0AkSZIkSZIsQKqqqqqqqhBAIYQQQgghMEDOOeecc84ZQDRIgzRIgyRA+oK+oC/oG0BFF1100UUbQKqqqqqqqgBAAAAAAAAANkAkSZIkSZIcQA==",
          "dtype": "f8"
         }
        },
        {
         "line": {
          "color": "#EF553B"
         },
         "mode": "lines+markers+text",
         "name": "Domestic Sales Office",
         "text": [
          "0.0%",
          "6.25%",
          "4.35%",
          "0.0%",
          "12.5%",
          "17.65%",
          "10.53%",
          "7.69%",
          "6.98%",
          "13.95%",
          "10.0%",
          "4.55%",
          "13.73%",
          "25.45%"
         ],
         "textposition": "top center",
         "type": "scatter",
         "visible": false,
         "x": {
          "bdata": "2wcAANwHAADdBwAA3gcAAN8HAADgBwAA4QcAAOIHAADjBwAA5AcAAOUHAADmBwAA5wcAAOgHAAA=",
          "dtype": "i4"
         },
         "y": {
          "bdata": "AAAAAAAAAAAAAAAAAAAZQBaykIUsZBFAAAAAAAAAAAAAAAAAAAApQKalpaWlpTFA11BeQ3kNJUBP7MRO7MQeQPqCvqAv6BtA+oK+oC/oK0AAAAAAAAAkQC+66KKLLhJAdHNzc3NzK0B00UUXXXQ5QA==",
          "dtype": "f8"
         }
        },
        {
         "line": {
          "color": "#00CC96"
         },
         "mode": "lines+markers+text",
         "name": "Global Sales Office",
         "text": [
          "0.0%",
          "8.33%",
          "0.0%",
          "0.0%",
          "9.09%",
          "14.29%",
          "6.45%",
          "0.0%",
          "7.89%",
          "7.14%",
          "21.28%",
          "6.67%",
          "10.42%",
          "12.24%"
         ],
         "textposition": "top center",
         "type": "scatter",
         "visible": false,
         "x": {
          "bdata": "2wcAANwHAADdBwAA3gcAAN8HAADgBwAA4QcAAOIHAADjBwAA5AcAAOUHAADmBwAA5wcAAOgHAAA=",
          "dtype": "i4"
         },
         "y": {
          "bdata": "AAAAAAAAAACqqqqqqqogQAAAAAAAAAAAAAAAAAAAAAAvuuiiiy4iQCRJkiRJkixAzjnnnHPOGUAAAAAAAAAAAEN5DeU1lB9AJEmSJEmSHED1nY36zkY1QKuqqqqqqhpAVlVVVVXVJEAfGutDY30oQA==",
          "dtype": "f8"
         }
        },
        {
         "line": {
          "color": "#636EFA"
         },
         "mode": "lines+markers+text",
         "name": "R&D Office",
         "text": [
          "15.79%",
          "3.85%",
          "0.0%",
          "2.33%",
          "7.14%",
          "9.84%",
          "1.45%",
          "10.67%",
          "6.49%",
          "5.06%",
          "6.74%",
          "8.79%",
          "5.75%",
          "11.49%"
         ],
         "textposition": "top center",
         "type": "scatter",
         "visible": false,
         "x": {
          "bdata": "2wcAANwHAADdBwAA3gcAAN8HAADgBwAA4QcAAOIHAADjBwAA5AcAAOUHAADmBwAA5wcAAOgHAAA=",
          "dtype": "i4"
         },
         "y": {
          "bdata": "Q3kN5TWUL0BP7MRO7MQOQAAAAAAAAAAAp6wpa8qaAkAkSZIkSZIcQL1PcckQrCNAc+3AXDsw9z9WVVVVVVUlQGblJ8RZ+RlAgqh0ZM9AFECve93rXvcaQFIZlVEZlSFA69Bvtg79FkDr0G+2Dv0mQA==",
          "dtype": "f8"
         }
        },
        {
         "line": {
          "color": "#EF553B"
         },
         "mode": "lines+markers+text",
         "name": "QA Office",
         "text": [
          "6.67%",
          "3.85%",
          "2.94%",
          "7.32%",
          "6.67%",
          "9.3%",
          "5.0%",
          "9.52%",
          "9.3%",
          "4.17%",
          "6.25%",
          "11.11%",
          "14.55%",
          "18.18%"
         ],
         "textposition": "top center",
         "type": "scatter",
         "visible": false,
         "x": {
          "bdata": "2wcAANwHAADdBwAA3gcAAN8HAADgBwAA4QcAAOIHAADjBwAA5AcAAOUHAADmBwAA5wcAAOgHAAA=",
          "dtype": "i4"
         },
         "y": {
          "bdata": "q6qqqqqqGkBP7MRO7MQOQIeHh4eHhwdARO1K1K5EHUCrqqqqqqoaQKesKWvKmiJAAAAAAAAAFEDDMAzDMAwjQKesKWvKmiJAqqqqqqqqEEAAAAAAAAAZQI7jOI7jOCZAF1100UUXLUAvuuiiiy4yQA==",
          "dtype": "f8"
         }
        },
        {
         "line": {
          "color": "#636EFA"
         },
         "mode": "lines+markers+text",
         "name": "Engineering Office",
         "text": [
          "0.0%",
          "0.0%",
          "0.0%",
          "8.7%",
          "6.9%",
          "3.03%",
          "26.32%",
          "14.63%",
          "8.89%",
          "4.26%",
          "12.24%",
          "18.0%",
          "5.66%",
          "10.34%"
         ],
         "textposition": "top center",
         "type": "scatter",
         "visible": false,
         "x": {
          "bdata": "2wcAANwHAADdBwAA3gcAAN8HAADgBwAA4QcAAOIHAADjBwAA5AcAAOUHAADmBwAA5wcAAOgHAAA=",
          "dtype": "i4"
         },
         "y": {
          "bdata": "AAAAAAAAAAAAAAAAAAAAAAAAAAAAAAAAFrKQhSxkIUAaYbmnEZYbQD744IMPPghADeU1lNdQOkBE7UrUrkQtQHIcx3EcxyFAxOQKYnIFEUAfGutDY30oQAAAAAAAADJAg/FW9jmkFkDUCMs9jbAkQA==",
          "dtype": "f8"
         }
        },
        {
         "line": {
          "color": "#EF553B"
         },
         "mode": "lines+markers+text",
         "name": "Production Office",
         "text": [
          "0.0%",
          "9.52%",
          "11.54%",
          "6.45%",
          "10.26%",
          "9.8%",
          "3.77%",
          "5.45%",
          "8.06%",
          "7.46%",
          "12.68%",
          "1.41%",
          "10.53%",
          "6.25%"
         ],
         "textposition": "top center",
         "type": "scatter",
         "visible": false,
         "x": {
          "bdata": "2wcAANwHAADdBwAA3gcAAN8HAADgBwAA4QcAAOIHAADjBwAA5AcAAOUHAADmBwAA5wcAAOgHAAA=",
          "dtype": "i4"
         },
         "y": {
          "bdata": "AAAAAAAAAADDMAzDMAwjQDuxEzuxEydAzjnnnHPOGUA0SIM0SIMkQJybm5ubmyNAruxzSE0wDkDRRRdddNEVQCGEEEIIISBAGhPpgcrZHUBEK2wOJFopQCHRCpsDifY/11BeQ3kNJUAAAAAAAAAZQA==",
          "dtype": "f8"
         }
        }
       ],
       "layout": {
        "annotations": [
         {
          "align": "left",
          "showarrow": false,
          "text": "조직 선택:",
          "x": 0,
          "y": 1.08,
          "yref": "paper"
         }
        ],
        "font": {
         "size": 14
        },
        "height": 700,
        "legend": {
         "title": {
          "text": "조직"
         }
        },
        "template": {
         "data": {
          "bar": [
           {
            "error_x": {
             "color": "#2a3f5f"
            },
            "error_y": {
             "color": "#2a3f5f"
            },
            "marker": {
             "line": {
              "color": "#E5ECF6",
              "width": 0.5
             },
             "pattern": {
              "fillmode": "overlay",
              "size": 10,
              "solidity": 0.2
             }
            },
            "type": "bar"
           }
          ],
          "barpolar": [
           {
            "marker": {
             "line": {
              "color": "#E5ECF6",
              "width": 0.5
             },
             "pattern": {
              "fillmode": "overlay",
              "size": 10,
              "solidity": 0.2
             }
            },
            "type": "barpolar"
           }
          ],
          "carpet": [
           {
            "aaxis": {
             "endlinecolor": "#2a3f5f",
             "gridcolor": "white",
             "linecolor": "white",
             "minorgridcolor": "white",
             "startlinecolor": "#2a3f5f"
            },
            "baxis": {
             "endlinecolor": "#2a3f5f",
             "gridcolor": "white",
             "linecolor": "white",
             "minorgridcolor": "white",
             "startlinecolor": "#2a3f5f"
            },
            "type": "carpet"
           }
          ],
          "choropleth": [
           {
            "colorbar": {
             "outlinewidth": 0,
             "ticks": ""
            },
            "type": "choropleth"
           }
          ],
          "contour": [
           {
            "colorbar": {
             "outlinewidth": 0,
             "ticks": ""
            },
            "colorscale": [
             [
              0,
              "#0d0887"
             ],
             [
              0.1111111111111111,
              "#46039f"
             ],
             [
              0.2222222222222222,
              "#7201a8"
             ],
             [
              0.3333333333333333,
              "#9c179e"
             ],
             [
              0.4444444444444444,
              "#bd3786"
             ],
             [
              0.5555555555555556,
              "#d8576b"
             ],
             [
              0.6666666666666666,
              "#ed7953"
             ],
             [
              0.7777777777777778,
              "#fb9f3a"
             ],
             [
              0.8888888888888888,
              "#fdca26"
             ],
             [
              1,
              "#f0f921"
             ]
            ],
            "type": "contour"
           }
          ],
          "contourcarpet": [
           {
            "colorbar": {
             "outlinewidth": 0,
             "ticks": ""
            },
            "type": "contourcarpet"
           }
          ],
          "heatmap": [
           {
            "colorbar": {
             "outlinewidth": 0,
             "ticks": ""
            },
            "colorscale": [
             [
              0,
              "#0d0887"
             ],
             [
              0.1111111111111111,
              "#46039f"
             ],
             [
              0.2222222222222222,
              "#7201a8"
             ],
             [
              0.3333333333333333,
              "#9c179e"
             ],
             [
              0.4444444444444444,
              "#bd3786"
             ],
             [
              0.5555555555555556,
              "#d8576b"
             ],
             [
              0.6666666666666666,
              "#ed7953"
             ],
             [
              0.7777777777777778,
              "#fb9f3a"
             ],
             [
              0.8888888888888888,
              "#fdca26"
             ],
             [
              1,
              "#f0f921"
             ]
            ],
            "type": "heatmap"
           }
          ],
          "histogram": [
           {
            "marker": {
             "pattern": {
              "fillmode": "overlay",
              "size": 10,
              "solidity": 0.2
             }
            },
            "type": "histogram"
           }
          ],
          "histogram2d": [
           {
            "colorbar": {
             "outlinewidth": 0,
             "ticks": ""
            },
            "colorscale": [
             [
              0,
              "#0d0887"
             ],
             [
              0.1111111111111111,
              "#46039f"
             ],
             [
              0.2222222222222222,
              "#7201a8"
             ],
             [
              0.3333333333333333,
              "#9c179e"
             ],
             [
              0.4444444444444444,
              "#bd3786"
             ],
             [
              0.5555555555555556,
              "#d8576b"
             ],
             [
              0.6666666666666666,
              "#ed7953"
             ],
             [
              0.7777777777777778,
              "#fb9f3a"
             ],
             [
              0.8888888888888888,
              "#fdca26"
             ],
             [
              1,
              "#f0f921"
             ]
            ],
            "type": "histogram2d"
           }
          ],
          "histogram2dcontour": [
           {
            "colorbar": {
             "outlinewidth": 0,
             "ticks": ""
            },
            "colorscale": [
             [
              0,
              "#0d0887"
             ],
             [
              0.1111111111111111,
              "#46039f"
             ],
             [
              0.2222222222222222,
              "#7201a8"
             ],
             [
              0.3333333333333333,
              "#9c179e"
             ],
             [
              0.4444444444444444,
              "#bd3786"
             ],
             [
              0.5555555555555556,
              "#d8576b"
             ],
             [
              0.6666666666666666,
              "#ed7953"
             ],
             [
              0.7777777777777778,
              "#fb9f3a"
             ],
             [
              0.8888888888888888,
              "#fdca26"
             ],
             [
              1,
              "#f0f921"
             ]
            ],
            "type": "histogram2dcontour"
           }
          ],
          "mesh3d": [
           {
            "colorbar": {
             "outlinewidth": 0,
             "ticks": ""
            },
            "type": "mesh3d"
           }
          ],
          "parcoords": [
           {
            "line": {
             "colorbar": {
              "outlinewidth": 0,
              "ticks": ""
             }
            },
            "type": "parcoords"
           }
          ],
          "pie": [
           {
            "automargin": true,
            "type": "pie"
           }
          ],
          "scatter": [
           {
            "fillpattern": {
             "fillmode": "overlay",
             "size": 10,
             "solidity": 0.2
            },
            "type": "scatter"
           }
          ],
          "scatter3d": [
           {
            "line": {
             "colorbar": {
              "outlinewidth": 0,
              "ticks": ""
             }
            },
            "marker": {
             "colorbar": {
              "outlinewidth": 0,
              "ticks": ""
             }
            },
            "type": "scatter3d"
           }
          ],
          "scattercarpet": [
           {
            "marker": {
             "colorbar": {
              "outlinewidth": 0,
              "ticks": ""
             }
            },
            "type": "scattercarpet"
           }
          ],
          "scattergeo": [
           {
            "marker": {
             "colorbar": {
              "outlinewidth": 0,
              "ticks": ""
             }
            },
            "type": "scattergeo"
           }
          ],
          "scattergl": [
           {
            "marker": {
             "colorbar": {
              "outlinewidth": 0,
              "ticks": ""
             }
            },
            "type": "scattergl"
           }
          ],
          "scattermap": [
           {
            "marker": {
             "colorbar": {
              "outlinewidth": 0,
              "ticks": ""
             }
            },
            "type": "scattermap"
           }
          ],
          "scattermapbox": [
           {
            "marker": {
             "colorbar": {
              "outlinewidth": 0,
              "ticks": ""
             }
            },
            "type": "scattermapbox"
           }
          ],
          "scatterpolar": [
           {
            "marker": {
             "colorbar": {
              "outlinewidth": 0,
              "ticks": ""
             }
            },
            "type": "scatterpolar"
           }
          ],
          "scatterpolargl": [
           {
            "marker": {
             "colorbar": {
              "outlinewidth": 0,
              "ticks": ""
             }
            },
            "type": "scatterpolargl"
           }
          ],
          "scatterternary": [
           {
            "marker": {
             "colorbar": {
              "outlinewidth": 0,
              "ticks": ""
             }
            },
            "type": "scatterternary"
           }
          ],
          "surface": [
           {
            "colorbar": {
             "outlinewidth": 0,
             "ticks": ""
            },
            "colorscale": [
             [
              0,
              "#0d0887"
             ],
             [
              0.1111111111111111,
              "#46039f"
             ],
             [
              0.2222222222222222,
              "#7201a8"
             ],
             [
              0.3333333333333333,
              "#9c179e"
             ],
             [
              0.4444444444444444,
              "#bd3786"
             ],
             [
              0.5555555555555556,
              "#d8576b"
             ],
             [
              0.6666666666666666,
              "#ed7953"
             ],
             [
              0.7777777777777778,
              "#fb9f3a"
             ],
             [
              0.8888888888888888,
              "#fdca26"
             ],
             [
              1,
              "#f0f921"
             ]
            ],
            "type": "surface"
           }
          ],
          "table": [
           {
            "cells": {
             "fill": {
              "color": "#EBF0F8"
             },
             "line": {
              "color": "white"
             }
            },
            "header": {
             "fill": {
              "color": "#C8D4E3"
             },
             "line": {
              "color": "white"
             }
            },
            "type": "table"
           }
          ]
         },
         "layout": {
          "annotationdefaults": {
           "arrowcolor": "#2a3f5f",
           "arrowhead": 0,
           "arrowwidth": 1
          },
          "autotypenumbers": "strict",
          "coloraxis": {
           "colorbar": {
            "outlinewidth": 0,
            "ticks": ""
           }
          },
          "colorscale": {
           "diverging": [
            [
             0,
             "#8e0152"
            ],
            [
             0.1,
             "#c51b7d"
            ],
            [
             0.2,
             "#de77ae"
            ],
            [
             0.3,
             "#f1b6da"
            ],
            [
             0.4,
             "#fde0ef"
            ],
            [
             0.5,
             "#f7f7f7"
            ],
            [
             0.6,
             "#e6f5d0"
            ],
            [
             0.7,
             "#b8e186"
            ],
            [
             0.8,
             "#7fbc41"
            ],
            [
             0.9,
             "#4d9221"
            ],
            [
             1,
             "#276419"
            ]
           ],
           "sequential": [
            [
             0,
             "#0d0887"
            ],
            [
             0.1111111111111111,
             "#46039f"
            ],
            [
             0.2222222222222222,
             "#7201a8"
            ],
            [
             0.3333333333333333,
             "#9c179e"
            ],
            [
             0.4444444444444444,
             "#bd3786"
            ],
            [
             0.5555555555555556,
             "#d8576b"
            ],
            [
             0.6666666666666666,
             "#ed7953"
            ],
            [
             0.7777777777777778,
             "#fb9f3a"
            ],
            [
             0.8888888888888888,
             "#fdca26"
            ],
            [
             1,
             "#f0f921"
            ]
           ],
           "sequentialminus": [
            [
             0,
             "#0d0887"
            ],
            [
             0.1111111111111111,
             "#46039f"
            ],
            [
             0.2222222222222222,
             "#7201a8"
            ],
            [
             0.3333333333333333,
             "#9c179e"
            ],
            [
             0.4444444444444444,
             "#bd3786"
            ],
            [
             0.5555555555555556,
             "#d8576b"
            ],
            [
             0.6666666666666666,
             "#ed7953"
            ],
            [
             0.7777777777777778,
             "#fb9f3a"
            ],
            [
             0.8888888888888888,
             "#fdca26"
            ],
            [
             1,
             "#f0f921"
            ]
           ]
          },
          "colorway": [
           "#636efa",
           "#EF553B",
           "#00cc96",
           "#ab63fa",
           "#FFA15A",
           "#19d3f3",
           "#FF6692",
           "#B6E880",
           "#FF97FF",
           "#FECB52"
          ],
          "font": {
           "color": "#2a3f5f"
          },
          "geo": {
           "bgcolor": "white",
           "lakecolor": "white",
           "landcolor": "#E5ECF6",
           "showlakes": true,
           "showland": true,
           "subunitcolor": "white"
          },
          "hoverlabel": {
           "align": "left"
          },
          "hovermode": "closest",
          "mapbox": {
           "style": "light"
          },
          "paper_bgcolor": "white",
          "plot_bgcolor": "#E5ECF6",
          "polar": {
           "angularaxis": {
            "gridcolor": "white",
            "linecolor": "white",
            "ticks": ""
           },
           "bgcolor": "#E5ECF6",
           "radialaxis": {
            "gridcolor": "white",
            "linecolor": "white",
            "ticks": ""
           }
          },
          "scene": {
           "xaxis": {
            "backgroundcolor": "#E5ECF6",
            "gridcolor": "white",
            "gridwidth": 2,
            "linecolor": "white",
            "showbackground": true,
            "ticks": "",
            "zerolinecolor": "white"
           },
           "yaxis": {
            "backgroundcolor": "#E5ECF6",
            "gridcolor": "white",
            "gridwidth": 2,
            "linecolor": "white",
            "showbackground": true,
            "ticks": "",
            "zerolinecolor": "white"
           },
           "zaxis": {
            "backgroundcolor": "#E5ECF6",
            "gridcolor": "white",
            "gridwidth": 2,
            "linecolor": "white",
            "showbackground": true,
            "ticks": "",
            "zerolinecolor": "white"
           }
          },
          "shapedefaults": {
           "line": {
            "color": "#2a3f5f"
           }
          },
          "ternary": {
           "aaxis": {
            "gridcolor": "white",
            "linecolor": "white",
            "ticks": ""
           },
           "baxis": {
            "gridcolor": "white",
            "linecolor": "white",
            "ticks": ""
           },
           "bgcolor": "#E5ECF6",
           "caxis": {
            "gridcolor": "white",
            "linecolor": "white",
            "ticks": ""
           }
          },
          "title": {
           "x": 0.05
          },
          "xaxis": {
           "automargin": true,
           "gridcolor": "white",
           "linecolor": "white",
           "ticks": "",
           "title": {
            "standoff": 15
           },
           "zerolinecolor": "white",
           "zerolinewidth": 2
          },
          "yaxis": {
           "automargin": true,
           "gridcolor": "white",
           "linecolor": "white",
           "ticks": "",
           "title": {
            "standoff": 15
           },
           "zerolinecolor": "white",
           "zerolinewidth": 2
          }
         }
        },
        "title": {
         "text": "연간 퇴사율 변화 추이"
        },
        "updatemenus": [
         {
          "active": 0,
          "buttons": [
           {
            "args": [
             {
              "visible": [
               true,
               false,
               false,
               false,
               false,
               false,
               false,
               false,
               false,
               false,
               false,
               false,
               false,
               false
              ]
             }
            ],
            "label": "전사 평균",
            "method": "update"
           },
           {
            "args": [
             {
              "visible": [
               false,
               true,
               true,
               true,
               true,
               false,
               false,
               false,
               false,
               false,
               false,
               false,
               false,
               false
              ]
             }
            ],
            "label": "전체",
            "method": "update"
           },
           {
            "args": [
             {
              "visible": [
               false,
               false,
               false,
               false,
               false,
               true,
               true,
               false,
               false,
               false,
               false,
               false,
               false,
               false
              ]
             }
            ],
            "label": "Planning Division",
            "method": "update"
           },
           {
            "args": [
             {
              "visible": [
               false,
               false,
               false,
               false,
               false,
               false,
               false,
               true,
               true,
               true,
               false,
               false,
               false,
               false
              ]
             }
            ],
            "label": "Sales Division",
            "method": "update"
           },
           {
            "args": [
             {
              "visible": [
               false,
               false,
               false,
               false,
               false,
               false,
               false,
               false,
               false,
               false,
               true,
               true,
               false,
               false
              ]
             }
            ],
            "label": "Development Division",
            "method": "update"
           },
           {
            "args": [
             {
              "visible": [
               false,
               false,
               false,
               false,
               false,
               false,
               false,
               false,
               false,
               false,
               false,
               false,
               true,
               true
              ]
             }
            ],
            "label": "Operating Division",
            "method": "update"
           }
          ],
          "direction": "down",
          "pad": {
           "r": 10,
           "t": 10
          },
          "showactive": true,
          "x": 0.01,
          "xanchor": "left",
          "y": 1.1,
          "yanchor": "top"
         }
        ],
        "xaxis": {
         "title": {
          "text": "연도"
         },
         "type": "category"
        },
        "yaxis": {
         "range": [
          0,
          30.26315789473684
         ],
         "tickformat": ".2f",
         "ticksuffix": "%",
         "title": {
          "text": "연간 퇴사율 (%)"
         }
        }
       }
      }
     },
     "metadata": {},
     "output_type": "display_data"
    },
    {
     "name": "stdout",
     "output_type": "stream",
     "text": [
      "\n",
      "--- Aggregate DataFrame ---\n"
     ]
    },
    {
     "data": {
      "text/html": [
       "<div>\n",
       "<style scoped>\n",
       "    .dataframe tbody tr th:only-of-type {\n",
       "        vertical-align: middle;\n",
       "    }\n",
       "\n",
       "    .dataframe tbody tr th {\n",
       "        vertical-align: top;\n",
       "    }\n",
       "\n",
       "    .dataframe thead th {\n",
       "        text-align: right;\n",
       "    }\n",
       "</style>\n",
       "<table border=\"1\" class=\"dataframe\">\n",
       "  <thead>\n",
       "    <tr style=\"text-align: right;\">\n",
       "      <th></th>\n",
       "      <th>전체 평균</th>\n",
       "      <th>Planning Division</th>\n",
       "      <th>Sales Division</th>\n",
       "      <th>Development Division</th>\n",
       "      <th>Operating Division</th>\n",
       "    </tr>\n",
       "    <tr>\n",
       "      <th>YEAR</th>\n",
       "      <th></th>\n",
       "      <th></th>\n",
       "      <th></th>\n",
       "      <th></th>\n",
       "      <th></th>\n",
       "    </tr>\n",
       "  </thead>\n",
       "  <tbody>\n",
       "    <tr>\n",
       "      <th>2011</th>\n",
       "      <td>7.95%</td>\n",
       "      <td>10.53%</td>\n",
       "      <td>4.76%</td>\n",
       "      <td>11.76%</td>\n",
       "      <td>0.00%</td>\n",
       "    </tr>\n",
       "    <tr>\n",
       "      <th>2012</th>\n",
       "      <td>5.59%</td>\n",
       "      <td>5.26%</td>\n",
       "      <td>7.69%</td>\n",
       "      <td>3.85%</td>\n",
       "      <td>6.25%</td>\n",
       "    </tr>\n",
       "    <tr>\n",
       "      <th>2013</th>\n",
       "      <td>3.69%</td>\n",
       "      <td>3.85%</td>\n",
       "      <td>3.85%</td>\n",
       "      <td>1.45%</td>\n",
       "      <td>6.82%</td>\n",
       "    </tr>\n",
       "    <tr>\n",
       "      <th>2014</th>\n",
       "      <td>4.46%</td>\n",
       "      <td>4.35%</td>\n",
       "      <td>1.61%</td>\n",
       "      <td>4.76%</td>\n",
       "      <td>7.41%</td>\n",
       "    </tr>\n",
       "    <tr>\n",
       "      <th>2015</th>\n",
       "      <td>8.26%</td>\n",
       "      <td>6.02%</td>\n",
       "      <td>12.00%</td>\n",
       "      <td>6.93%</td>\n",
       "      <td>8.82%</td>\n",
       "    </tr>\n",
       "    <tr>\n",
       "      <th>2016</th>\n",
       "      <td>7.86%</td>\n",
       "      <td>2.11%</td>\n",
       "      <td>12.79%</td>\n",
       "      <td>9.62%</td>\n",
       "      <td>7.14%</td>\n",
       "    </tr>\n",
       "    <tr>\n",
       "      <th>2017</th>\n",
       "      <td>7.62%</td>\n",
       "      <td>4.67%</td>\n",
       "      <td>11.00%</td>\n",
       "      <td>2.75%</td>\n",
       "      <td>13.19%</td>\n",
       "    </tr>\n",
       "    <tr>\n",
       "      <th>2018</th>\n",
       "      <td>7.85%</td>\n",
       "      <td>6.61%</td>\n",
       "      <td>5.05%</td>\n",
       "      <td>10.26%</td>\n",
       "      <td>9.38%</td>\n",
       "    </tr>\n",
       "    <tr>\n",
       "      <th>2019</th>\n",
       "      <td>8.21%</td>\n",
       "      <td>8.59%</td>\n",
       "      <td>8.33%</td>\n",
       "      <td>7.50%</td>\n",
       "      <td>8.41%</td>\n",
       "    </tr>\n",
       "    <tr>\n",
       "      <th>2020</th>\n",
       "      <td>7.51%</td>\n",
       "      <td>9.68%</td>\n",
       "      <td>9.38%</td>\n",
       "      <td>4.72%</td>\n",
       "      <td>6.14%</td>\n",
       "    </tr>\n",
       "    <tr>\n",
       "      <th>2021</th>\n",
       "      <td>10.36%</td>\n",
       "      <td>9.77%</td>\n",
       "      <td>12.98%</td>\n",
       "      <td>6.57%</td>\n",
       "      <td>12.50%</td>\n",
       "    </tr>\n",
       "    <tr>\n",
       "      <th>2022</th>\n",
       "      <td>8.26%</td>\n",
       "      <td>10.77%</td>\n",
       "      <td>4.38%</td>\n",
       "      <td>9.66%</td>\n",
       "      <td>8.26%</td>\n",
       "    </tr>\n",
       "    <tr>\n",
       "      <th>2023</th>\n",
       "      <td>10.62%</td>\n",
       "      <td>8.97%</td>\n",
       "      <td>15.44%</td>\n",
       "      <td>9.15%</td>\n",
       "      <td>8.53%</td>\n",
       "    </tr>\n",
       "    <tr>\n",
       "      <th>2024</th>\n",
       "      <td>11.32%</td>\n",
       "      <td>7.43%</td>\n",
       "      <td>15.75%</td>\n",
       "      <td>14.08%</td>\n",
       "      <td>7.97%</td>\n",
       "    </tr>\n",
       "  </tbody>\n",
       "</table>\n",
       "</div>"
      ],
      "text/plain": [
       "       전체 평균 Planning Division Sales Division Development Division  \\\n",
       "YEAR                                                                 \n",
       "2011   7.95%            10.53%          4.76%               11.76%   \n",
       "2012   5.59%             5.26%          7.69%                3.85%   \n",
       "2013   3.69%             3.85%          3.85%                1.45%   \n",
       "2014   4.46%             4.35%          1.61%                4.76%   \n",
       "2015   8.26%             6.02%         12.00%                6.93%   \n",
       "2016   7.86%             2.11%         12.79%                9.62%   \n",
       "2017   7.62%             4.67%         11.00%                2.75%   \n",
       "2018   7.85%             6.61%          5.05%               10.26%   \n",
       "2019   8.21%             8.59%          8.33%                7.50%   \n",
       "2020   7.51%             9.68%          9.38%                4.72%   \n",
       "2021  10.36%             9.77%         12.98%                6.57%   \n",
       "2022   8.26%            10.77%          4.38%                9.66%   \n",
       "2023  10.62%             8.97%         15.44%                9.15%   \n",
       "2024  11.32%             7.43%         15.75%               14.08%   \n",
       "\n",
       "     Operating Division  \n",
       "YEAR                     \n",
       "2011              0.00%  \n",
       "2012              6.25%  \n",
       "2013              6.82%  \n",
       "2014              7.41%  \n",
       "2015              8.82%  \n",
       "2016              7.14%  \n",
       "2017             13.19%  \n",
       "2018              9.38%  \n",
       "2019              8.41%  \n",
       "2020              6.14%  \n",
       "2021             12.50%  \n",
       "2022              8.26%  \n",
       "2023              8.53%  \n",
       "2024              7.97%  "
      ]
     },
     "execution_count": 3,
     "metadata": {},
     "output_type": "execute_result"
    }
   ],
   "source": [
    "import pandas as pd\n",
    "import numpy as np\n",
    "import plotly.graph_objects as go\n",
    "import plotly.io as pio\n",
    "import plotly.express as px\n",
    "import datetime\n",
    "\n",
    "# --- 1. 데이터 임포트 ---\n",
    "from services.tables.HR_Core.basic_info_table import emp_df\n",
    "from services.tables.HR_Core.department_info_table import department_info_df\n",
    "from services.tables.HR_Core.department_table import (\n",
    "    department_df, dept_level_map, parent_map_dept, dept_name_map,\n",
    "    division_order, office_order\n",
    ")\n",
    "from services.helpers.utils import find_parents\n",
    "\n",
    "def create_figure_and_df():\n",
    "    \"\"\"\n",
    "    제안 5: 조직 건강도 위험 신호 탐지 그래프 및 피벗 테이블을 생성합니다.\n",
    "    \"\"\"\n",
    "    # --- 2. 데이터 준비 및 가공 ---\n",
    "    leaver_years = emp_df.dropna(subset=['OUT_DATE'])['OUT_DATE'].dt.year.unique()\n",
    "    analysis_years = sorted([y for y in leaver_years if y < datetime.datetime.now().year])\n",
    "    \n",
    "    turnover_records = []\n",
    "    overall_turnover_records = []\n",
    "    \n",
    "    for year in analysis_years:\n",
    "        year_start, year_end = pd.to_datetime(f'{year}-01-01'), pd.to_datetime(f'{year}-12-31')\n",
    "        \n",
    "        leavers_in_year = emp_df[(emp_df['OUT_DATE'] >= year_start) & (emp_df['OUT_DATE'] <= year_end)]\n",
    "        active_in_year = emp_df[(emp_df['IN_DATE'] <= year_end) & (emp_df['OUT_DATE'].isnull() | (emp_df['OUT_DATE'] >= year_start))]\n",
    "        \n",
    "        if not active_in_year.empty:\n",
    "            overall_rate = (len(leavers_in_year) / len(active_in_year)) * 100 if len(active_in_year) > 0 else 0\n",
    "            overall_turnover_records.append({'YEAR': year, 'TURNOVER_RATE': overall_rate})\n",
    "        \n",
    "        if leavers_in_year.empty: continue\n",
    "            \n",
    "        leavers_dept = pd.merge_asof(leavers_in_year[['EMP_ID', 'OUT_DATE']].sort_values('OUT_DATE'), department_info_df.sort_values('DEP_APP_START_DATE'), left_on='OUT_DATE', right_on='DEP_APP_START_DATE', by='EMP_ID', direction='backward')\n",
    "        parent_info_leavers = leavers_dept['DEP_ID'].apply(lambda x: find_parents(x, dept_level_map, parent_map_dept, dept_name_map))\n",
    "        leavers_dept = pd.concat([leavers_dept, parent_info_leavers], axis=1).dropna(subset=['DIVISION_NAME', 'OFFICE_NAME'])\n",
    "        \n",
    "        active_dept = pd.merge_asof(active_in_year[['EMP_ID', 'IN_DATE']].sort_values('IN_DATE'), department_info_df.sort_values('DEP_APP_START_DATE'), left_on='IN_DATE', right_on='DEP_APP_START_DATE', by='EMP_ID', direction='backward')\n",
    "        parent_info_active = active_dept['DEP_ID'].apply(lambda x: find_parents(x, dept_level_map, parent_map_dept, dept_name_map))\n",
    "        active_dept = pd.concat([active_dept, parent_info_active], axis=1).dropna(subset=['DIVISION_NAME', 'OFFICE_NAME'])\n",
    "\n",
    "        leavers_by_div = leavers_dept.groupby('DIVISION_NAME', observed=False).size()\n",
    "        headcount_by_div = active_dept.groupby('DIVISION_NAME', observed=False).size()\n",
    "        turnover_div = (leavers_by_div / headcount_by_div * 100).fillna(0)\n",
    "        for group_name, rate in turnover_div.items():\n",
    "            turnover_records.append({'YEAR': year, 'GROUP_TYPE': 'DIVISION_NAME', 'GROUP_NAME': group_name, 'TURNOVER_RATE': rate})\n",
    "\n",
    "        leavers_by_office = leavers_dept.groupby(['DIVISION_NAME', 'OFFICE_NAME'], observed=False).size()\n",
    "        headcount_by_office = active_dept.groupby(['DIVISION_NAME', 'OFFICE_NAME'], observed=False).size()\n",
    "        turnover_office = (leavers_by_office / headcount_by_office * 100).fillna(0)\n",
    "        for (div_name, office_name), rate in turnover_office.items():\n",
    "            turnover_records.append({'YEAR': year, 'GROUP_TYPE': 'OFFICE_NAME', 'DIVISION_NAME': div_name, 'GROUP_NAME': office_name, 'TURNOVER_RATE': rate})\n",
    "\n",
    "    analysis_df = pd.DataFrame(turnover_records)\n",
    "    overall_turnover_df = pd.DataFrame(overall_turnover_records)\n",
    "\n",
    "    if analysis_df.empty and overall_turnover_df.empty:\n",
    "        # 빈 Figure와 빈 DataFrame 반환\n",
    "        return go.Figure().update_layout(title_text=\"분석할 퇴사율 데이터가 없습니다.\"), pd.DataFrame()\n",
    "\n",
    "    all_rates = pd.concat([analysis_df['TURNOVER_RATE'], overall_turnover_df['TURNOVER_RATE']])\n",
    "    y_max = all_rates.max()\n",
    "    fixed_y_range = [0, y_max * 1.15]\n",
    "\n",
    "    # --- 3. Plotly 인터랙티브 그래프 생성 ---\n",
    "    # (그래프 생성 코드는 이전과 동일)\n",
    "    fig = go.Figure()\n",
    "    colors = px.colors.qualitative.Plotly\n",
    "    fig.add_trace(go.Scatter(x=overall_turnover_df['YEAR'], y=overall_turnover_df['TURNOVER_RATE'], mode='lines+markers+text', name='전사 평균', line=dict(color='black', dash='dot'), text=overall_turnover_df['TURNOVER_RATE'].round(2).astype(str) + '%', textposition='top center', visible=True))\n",
    "    div_df = analysis_df[analysis_df['GROUP_TYPE'] == 'DIVISION_NAME']\n",
    "    for i, div_name in enumerate(division_order):\n",
    "        df_filtered = div_df[div_df['GROUP_NAME'] == div_name].sort_values('YEAR')\n",
    "        if not df_filtered.empty:\n",
    "            fig.add_trace(go.Scatter(x=df_filtered['YEAR'], y=df_filtered['TURNOVER_RATE'], mode='lines+markers+text', name=div_name, line=dict(color=colors[i]), text=df_filtered['TURNOVER_RATE'].round(2).astype(str) + '%', textposition='top center', visible=False))\n",
    "    office_df = analysis_df[analysis_df['GROUP_TYPE'] == 'OFFICE_NAME']\n",
    "    office_traces_map = {}\n",
    "    trace_idx_counter = 1 + len(division_order)\n",
    "    for div_name in division_order:\n",
    "        offices_in_div = office_df[office_df['DIVISION_NAME'] == div_name]['GROUP_NAME'].unique()\n",
    "        office_traces_map[div_name] = []\n",
    "        sorted_offices_in_div = [o for o in office_order if o in offices_in_div]\n",
    "        for j, office_name in enumerate(sorted_offices_in_div):\n",
    "            df_filtered = office_df[office_df['GROUP_NAME'] == office_name].sort_values('YEAR')\n",
    "            if not df_filtered.empty:\n",
    "                fig.add_trace(go.Scatter(x=df_filtered['YEAR'], y=df_filtered['TURNOVER_RATE'], mode='lines+markers+text', name=office_name, visible=False, line=dict(color=colors[j % len(colors)]), text=df_filtered['TURNOVER_RATE'].round(2).astype(str) + '%', textposition='top center'))\n",
    "                office_traces_map[div_name].append(trace_idx_counter)\n",
    "                trace_idx_counter += 1\n",
    "    buttons = []\n",
    "    num_div_traces = len(division_order)\n",
    "    buttons.append(dict(label='전사 평균', method='update', args=[{'visible': [True] + [False]*(len(fig.data)-1)}]))\n",
    "    buttons.append(dict(label='전체', method='update', args=[{'visible': [False] + [True]*num_div_traces + [False]*(len(fig.data)-1-num_div_traces)}]))\n",
    "    for div_name in division_order:\n",
    "        visibility_mask = [False] * len(fig.data)\n",
    "        for trace_idx in office_traces_map.get(div_name, []):\n",
    "            visibility_mask[trace_idx] = True\n",
    "        buttons.append(dict(label=f'{div_name}', method='update', args=[{'visible': visibility_mask}]))\n",
    "    fig.update_layout(\n",
    "        updatemenus=[dict(active=0, buttons=buttons, direction=\"down\", pad={\"r\": 10, \"t\": 10}, showactive=True, x=0.01, xanchor=\"left\", y=1.1, yanchor=\"top\")],\n",
    "        title_text='연간 퇴사율 변화 추이', xaxis_title='연도', yaxis_title='연간 퇴사율 (%)', font_size=14, height=700,\n",
    "        legend_title_text='조직', annotations=[dict(text=\"조직 선택:\", showarrow=False, x=0, y=1.08, yref=\"paper\", align=\"left\")],\n",
    "        xaxis=dict(type='category'), yaxis=dict(ticksuffix=\"%\", tickformat='.2f', range=fixed_y_range)\n",
    "    )\n",
    "\n",
    "    # --- 수정된 부분: aggregate_df 생성 ---\n",
    "    # 1. Division별 데이터와 전체 평균 데이터 결합\n",
    "    div_pivot_df = div_df.pivot_table(index='YEAR', columns='GROUP_NAME', values='TURNOVER_RATE').reset_index()\n",
    "    overall_pivot_df = overall_turnover_df.rename(columns={'TURNOVER_RATE': '전체 평균'})\n",
    "    \n",
    "    aggregate_df = pd.merge(div_pivot_df, overall_pivot_df, on='YEAR', how='outer')\n",
    "    \n",
    "    # 2. 연도 필터링 및 정렬\n",
    "    aggregate_df = aggregate_df[(aggregate_df['YEAR'] >= 2011) & (aggregate_df['YEAR'] <= 2024)].sort_values('YEAR')\n",
    "    aggregate_df = aggregate_df.set_index('YEAR')\n",
    "    \n",
    "    # 3. 컬럼 순서 재배치 및 포맷팅\n",
    "    cols_ordered = ['전체 평균'] + [col for col in division_order if col in aggregate_df.columns]\n",
    "    aggregate_df = aggregate_df[cols_ordered]\n",
    "    \n",
    "    for col in aggregate_df.columns:\n",
    "        aggregate_df[col] = aggregate_df[col].apply(lambda x: f\"{x:.2f}%\" if pd.notna(x) else '-')\n",
    "    # --- 수정 완료 ---\n",
    "        \n",
    "    return fig, aggregate_df\n",
    "\n",
    "# --- 실행 코드 ---\n",
    "pio.renderers.default = 'vscode'\n",
    "fig, aggregate_df = create_figure_and_df()\n",
    "fig.show()\n",
    "\n",
    "print(\"\\n--- Aggregate DataFrame ---\")\n",
    "aggregate_df"
   ]
  },
  {
   "cell_type": "code",
   "execution_count": null,
   "id": "c54555a1",
   "metadata": {},
   "outputs": [],
   "source": []
  }
 ],
 "metadata": {
  "kernelspec": {
   "display_name": "Python 3 (ipykernel)",
   "language": "python",
   "name": "python3"
  },
  "language_info": {
   "codemirror_mode": {
    "name": "ipython",
    "version": 3
   },
   "file_extension": ".py",
   "mimetype": "text/x-python",
   "name": "python",
   "nbconvert_exporter": "python",
   "pygments_lexer": "ipython3",
   "version": "3.12.11"
  }
 },
 "nbformat": 4,
 "nbformat_minor": 5
}
