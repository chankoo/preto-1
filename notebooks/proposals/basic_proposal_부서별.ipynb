{
 "cells": [
  {
   "cell_type": "code",
   "execution_count": 1,
   "id": "f52a8ab6",
   "metadata": {},
   "outputs": [
    {
     "data": {
      "application/vnd.plotly.v1+json": {
       "config": {
        "plotlyServerURL": "https://plot.ly"
       },
       "data": [
        {
         "marker": {
          "color": "blue"
         },
         "name": "입사자",
         "type": "bar",
         "visible": true,
         "x": [
          "2022년 4분기",
          "2023년 1분기",
          "2023년 2분기",
          "2023년 3분기",
          "2023년 4분기",
          "2024년 1분기",
          "2024년 2분기",
          "2024년 3분기",
          "2024년 4분기",
          "2025년 1분기",
          "2025년 2분기",
          "2025년 3분기"
         ],
         "xaxis": "x",
         "y": {
          "bdata": "EBQKGhUNGRENDxEC",
          "dtype": "i1"
         },
         "yaxis": "y"
        },
        {
         "marker": {
          "color": "red"
         },
         "name": "퇴사자",
         "type": "bar",
         "visible": true,
         "x": [
          "2022년 4분기",
          "2023년 1분기",
          "2023년 2분기",
          "2023년 3분기",
          "2023년 4분기",
          "2024년 1분기",
          "2024년 2분기",
          "2024년 3분기",
          "2024년 4분기",
          "2025년 1분기",
          "2025년 2분기",
          "2025년 3분기"
         ],
         "xaxis": "x",
         "y": {
          "bdata": "DQ4TDg4PDBUTEBsR",
          "dtype": "i1"
         },
         "yaxis": "y"
        },
        {
         "line": {
          "color": "black"
         },
         "mode": "lines+markers+text",
         "name": "총원",
         "text": {
          "bdata": "AAAAAACQfkAAAAAAAPB+QAAAAAAAYH5AAAAAAAAgf0AAAAAAAJB/QAAAAAAAcH9AAAAAAAAggEAAAAAAAACAQAAAAAAAoH9AAAAAAACQf0AAAAAAAPB+QAAAAAAAAH5A",
          "dtype": "f8"
         },
         "textposition": "top center",
         "type": "scatter",
         "visible": true,
         "x": [
          "2022년 4분기",
          "2023년 1분기",
          "2023년 2분기",
          "2023년 3분기",
          "2023년 4분기",
          "2024년 1분기",
          "2024년 2분기",
          "2024년 3분기",
          "2024년 4분기",
          "2025년 1분기",
          "2025년 2분기",
          "2025년 3분기"
         ],
         "xaxis": "x",
         "y": {
          "bdata": "6QHvAeYB8gH5AfcBBAIAAvoB+QHvAeAB",
          "dtype": "i2"
         },
         "yaxis": "y2"
        },
        {
         "marker": {
          "color": "blue"
         },
         "name": "입사자",
         "type": "bar",
         "visible": false,
         "x": [
          "2022년 4분기",
          "2023년 1분기",
          "2023년 2분기",
          "2023년 3분기",
          "2023년 4분기",
          "2024년 1분기",
          "2024년 2분기",
          "2024년 3분기",
          "2024년 4분기",
          "2025년 1분기",
          "2025년 2분기",
          "2025년 3분기"
         ],
         "xaxis": "x",
         "y": {
          "bdata": "BAgDBQoFBQIEBwMA",
          "dtype": "i1"
         },
         "yaxis": "y"
        },
        {
         "marker": {
          "color": "red"
         },
         "name": "퇴사자",
         "type": "bar",
         "visible": false,
         "x": [
          "2022년 4분기",
          "2023년 1분기",
          "2023년 2분기",
          "2023년 3분기",
          "2023년 4분기",
          "2024년 1분기",
          "2024년 2분기",
          "2024년 3분기",
          "2024년 4분기",
          "2025년 1분기",
          "2025년 2분기",
          "2025년 3분기"
         ],
         "xaxis": "x",
         "y": {
          "bdata": "BQcBAgYGAgIEAwIH",
          "dtype": "i1"
         },
         "yaxis": "y"
        },
        {
         "line": {
          "color": "black"
         },
         "mode": "lines+markers+text",
         "name": "총원",
         "text": {
          "bdata": "AAAAAAAAW0AAAAAAAEBbQAAAAAAAwFtAAAAAAABAXEAAAAAAAMBcQAAAAAAAAFxAAAAAAACAXEAAAAAAAIBbQAAAAAAAwFtAAAAAAAAAXUAAAAAAAMBdQAAAAAAAgFxA",
          "dtype": "f8"
         },
         "textposition": "top center",
         "type": "scatter",
         "visible": false,
         "x": [
          "2022년 4분기",
          "2023년 1분기",
          "2023년 2분기",
          "2023년 3분기",
          "2023년 4분기",
          "2024년 1분기",
          "2024년 2분기",
          "2024년 3분기",
          "2024년 4분기",
          "2025년 1분기",
          "2025년 2분기",
          "2025년 3분기"
         ],
         "xaxis": "x",
         "y": {
          "bdata": "bG1vcXNwcm5vdHdy",
          "dtype": "i1"
         },
         "yaxis": "y2"
        },
        {
         "marker": {
          "color": "blue"
         },
         "name": "입사자",
         "type": "bar",
         "visible": false,
         "x": [
          "2022년 4분기",
          "2023년 1분기",
          "2023년 2분기",
          "2023년 3분기",
          "2023년 4분기",
          "2024년 1분기",
          "2024년 2분기",
          "2024년 3분기",
          "2024년 4분기",
          "2025년 1분기",
          "2025년 2분기",
          "2025년 3분기"
         ],
         "xaxis": "x",
         "y": {
          "bdata": "BAQDCgIBBQMDBAcB",
          "dtype": "i1"
         },
         "yaxis": "y"
        },
        {
         "marker": {
          "color": "red"
         },
         "name": "퇴사자",
         "type": "bar",
         "visible": false,
         "x": [
          "2022년 4분기",
          "2023년 1분기",
          "2023년 2분기",
          "2023년 3분기",
          "2023년 4분기",
          "2024년 1분기",
          "2024년 2분기",
          "2024년 3분기",
          "2024년 4분기",
          "2025년 1분기",
          "2025년 2분기",
          "2025년 3분기"
         ],
         "xaxis": "x",
         "y": {
          "bdata": "BQQKBQIEAgMHCAsF",
          "dtype": "i1"
         },
         "yaxis": "y"
        },
        {
         "line": {
          "color": "black"
         },
         "mode": "lines+markers+text",
         "name": "총원",
         "text": {
          "bdata": "AAAAAAAAYkAAAAAAAABiQAAAAAAAAGFAAAAAAACgYUAAAAAAAMBhQAAAAAAAoGFAAAAAAABAYkAAAAAAAEBiQAAAAAAAoGFAAAAAAABgYUAAAAAAAABhQAAAAAAAoGBA",
          "dtype": "f8"
         },
         "textposition": "top center",
         "type": "scatter",
         "visible": false,
         "x": [
          "2022년 4분기",
          "2023년 1분기",
          "2023년 2분기",
          "2023년 3분기",
          "2023년 4분기",
          "2024년 1분기",
          "2024년 2분기",
          "2024년 3분기",
          "2024년 4분기",
          "2025년 1분기",
          "2025년 2분기",
          "2025년 3분기"
         ],
         "xaxis": "x",
         "y": {
          "bdata": "kACQAIgAjQCOAI0AkgCSAI0AiwCIAIUA",
          "dtype": "i2"
         },
         "yaxis": "y2"
        },
        {
         "marker": {
          "color": "blue"
         },
         "name": "입사자",
         "type": "bar",
         "visible": false,
         "x": [
          "2022년 4분기",
          "2023년 1분기",
          "2023년 2분기",
          "2023년 3분기",
          "2023년 4분기",
          "2024년 1분기",
          "2024년 2분기",
          "2024년 3분기",
          "2024년 4분기",
          "2025년 1분기",
          "2025년 2분기",
          "2025년 3분기"
         ],
         "xaxis": "x",
         "y": {
          "bdata": "BQEDBgUDBwUEAgUA",
          "dtype": "i1"
         },
         "yaxis": "y"
        },
        {
         "marker": {
          "color": "red"
         },
         "name": "퇴사자",
         "type": "bar",
         "visible": false,
         "x": [
          "2022년 4분기",
          "2023년 1분기",
          "2023년 2분기",
          "2023년 3분기",
          "2023년 4분기",
          "2024년 1분기",
          "2024년 2분기",
          "2024년 3분기",
          "2024년 4분기",
          "2025년 1분기",
          "2025년 2분기",
          "2025년 3분기"
         ],
         "xaxis": "x",
         "y": {
          "bdata": "AQIDBQYCAwgEAwYC",
          "dtype": "i1"
         },
         "yaxis": "y"
        },
        {
         "line": {
          "color": "black"
         },
         "mode": "lines+markers+text",
         "name": "총원",
         "text": {
          "bdata": "AAAAAACAXkAAAAAAAABeQAAAAAAAQF5AAAAAAADAXkAAAAAAAMBeQAAAAAAAwF9AAAAAAABgYEAAAAAAAEBgQAAAAAAAYGBAAAAAAABAYEAAAAAAAEBfQAAAAAAAQF5A",
          "dtype": "f8"
         },
         "textposition": "top center",
         "type": "scatter",
         "visible": false,
         "x": [
          "2022년 4분기",
          "2023년 1분기",
          "2023년 2분기",
          "2023년 3분기",
          "2023년 4분기",
          "2024년 1분기",
          "2024년 2분기",
          "2024년 3분기",
          "2024년 4분기",
          "2025년 1분기",
          "2025년 2분기",
          "2025년 3분기"
         ],
         "xaxis": "x",
         "y": {
          "bdata": "egB4AHkAewB7AH8AgwCCAIMAggB9AHkA",
          "dtype": "i2"
         },
         "yaxis": "y2"
        },
        {
         "marker": {
          "color": "blue"
         },
         "name": "입사자",
         "type": "bar",
         "visible": false,
         "x": [
          "2022년 4분기",
          "2023년 1분기",
          "2023년 2분기",
          "2023년 3분기",
          "2023년 4분기",
          "2024년 1분기",
          "2024년 2분기",
          "2024년 3분기",
          "2024년 4분기",
          "2025년 1분기",
          "2025년 2분기",
          "2025년 3분기"
         ],
         "xaxis": "x",
         "y": {
          "bdata": "AwcBBQQECAcCAgIB",
          "dtype": "i1"
         },
         "yaxis": "y"
        },
        {
         "marker": {
          "color": "red"
         },
         "name": "퇴사자",
         "type": "bar",
         "visible": false,
         "x": [
          "2022년 4분기",
          "2023년 1분기",
          "2023년 2분기",
          "2023년 3분기",
          "2023년 4분기",
          "2024년 1분기",
          "2024년 2분기",
          "2024년 3분기",
          "2024년 4분기",
          "2025년 1분기",
          "2025년 2분기",
          "2025년 3분기"
         ],
         "xaxis": "x",
         "y": {
          "bdata": "AgEFAgADBQgEAggD",
          "dtype": "i1"
         },
         "yaxis": "y"
        },
        {
         "line": {
          "color": "black"
         },
         "mode": "lines+markers+text",
         "name": "총원",
         "text": {
          "bdata": "AAAAAADAXEAAAAAAAIBeQAAAAAAAgF1AAAAAAABAXkAAAAAAAEBfQAAAAAAAwF5AAAAAAABAX0AAAAAAAIBfQAAAAAAAwF5AAAAAAAAAXkAAAAAAAMBcQAAAAAAAAFxA",
          "dtype": "f8"
         },
         "textposition": "top center",
         "type": "scatter",
         "visible": false,
         "x": [
          "2022년 4분기",
          "2023년 1분기",
          "2023년 2분기",
          "2023년 3분기",
          "2023년 4분기",
          "2024년 1분기",
          "2024년 2분기",
          "2024년 3분기",
          "2024년 4분기",
          "2025년 1분기",
          "2025년 2분기",
          "2025년 3분기"
         ],
         "xaxis": "x",
         "y": {
          "bdata": "c3p2eX17fX57eHNw",
          "dtype": "i1"
         },
         "yaxis": "y2"
        }
       ],
       "layout": {
        "annotations": [
         {
          "align": "left",
          "showarrow": false,
          "text": "조직 선택:",
          "x": 0,
          "y": 1.08,
          "yref": "paper"
         }
        ],
        "barmode": "group",
        "font": {
         "size": 14
        },
        "height": 700,
        "legend": {
         "orientation": "h",
         "x": 1,
         "xanchor": "right",
         "y": 1.02,
         "yanchor": "bottom"
        },
        "template": {
         "data": {
          "bar": [
           {
            "error_x": {
             "color": "#2a3f5f"
            },
            "error_y": {
             "color": "#2a3f5f"
            },
            "marker": {
             "line": {
              "color": "#E5ECF6",
              "width": 0.5
             },
             "pattern": {
              "fillmode": "overlay",
              "size": 10,
              "solidity": 0.2
             }
            },
            "type": "bar"
           }
          ],
          "barpolar": [
           {
            "marker": {
             "line": {
              "color": "#E5ECF6",
              "width": 0.5
             },
             "pattern": {
              "fillmode": "overlay",
              "size": 10,
              "solidity": 0.2
             }
            },
            "type": "barpolar"
           }
          ],
          "carpet": [
           {
            "aaxis": {
             "endlinecolor": "#2a3f5f",
             "gridcolor": "white",
             "linecolor": "white",
             "minorgridcolor": "white",
             "startlinecolor": "#2a3f5f"
            },
            "baxis": {
             "endlinecolor": "#2a3f5f",
             "gridcolor": "white",
             "linecolor": "white",
             "minorgridcolor": "white",
             "startlinecolor": "#2a3f5f"
            },
            "type": "carpet"
           }
          ],
          "choropleth": [
           {
            "colorbar": {
             "outlinewidth": 0,
             "ticks": ""
            },
            "type": "choropleth"
           }
          ],
          "contour": [
           {
            "colorbar": {
             "outlinewidth": 0,
             "ticks": ""
            },
            "colorscale": [
             [
              0,
              "#0d0887"
             ],
             [
              0.1111111111111111,
              "#46039f"
             ],
             [
              0.2222222222222222,
              "#7201a8"
             ],
             [
              0.3333333333333333,
              "#9c179e"
             ],
             [
              0.4444444444444444,
              "#bd3786"
             ],
             [
              0.5555555555555556,
              "#d8576b"
             ],
             [
              0.6666666666666666,
              "#ed7953"
             ],
             [
              0.7777777777777778,
              "#fb9f3a"
             ],
             [
              0.8888888888888888,
              "#fdca26"
             ],
             [
              1,
              "#f0f921"
             ]
            ],
            "type": "contour"
           }
          ],
          "contourcarpet": [
           {
            "colorbar": {
             "outlinewidth": 0,
             "ticks": ""
            },
            "type": "contourcarpet"
           }
          ],
          "heatmap": [
           {
            "colorbar": {
             "outlinewidth": 0,
             "ticks": ""
            },
            "colorscale": [
             [
              0,
              "#0d0887"
             ],
             [
              0.1111111111111111,
              "#46039f"
             ],
             [
              0.2222222222222222,
              "#7201a8"
             ],
             [
              0.3333333333333333,
              "#9c179e"
             ],
             [
              0.4444444444444444,
              "#bd3786"
             ],
             [
              0.5555555555555556,
              "#d8576b"
             ],
             [
              0.6666666666666666,
              "#ed7953"
             ],
             [
              0.7777777777777778,
              "#fb9f3a"
             ],
             [
              0.8888888888888888,
              "#fdca26"
             ],
             [
              1,
              "#f0f921"
             ]
            ],
            "type": "heatmap"
           }
          ],
          "histogram": [
           {
            "marker": {
             "pattern": {
              "fillmode": "overlay",
              "size": 10,
              "solidity": 0.2
             }
            },
            "type": "histogram"
           }
          ],
          "histogram2d": [
           {
            "colorbar": {
             "outlinewidth": 0,
             "ticks": ""
            },
            "colorscale": [
             [
              0,
              "#0d0887"
             ],
             [
              0.1111111111111111,
              "#46039f"
             ],
             [
              0.2222222222222222,
              "#7201a8"
             ],
             [
              0.3333333333333333,
              "#9c179e"
             ],
             [
              0.4444444444444444,
              "#bd3786"
             ],
             [
              0.5555555555555556,
              "#d8576b"
             ],
             [
              0.6666666666666666,
              "#ed7953"
             ],
             [
              0.7777777777777778,
              "#fb9f3a"
             ],
             [
              0.8888888888888888,
              "#fdca26"
             ],
             [
              1,
              "#f0f921"
             ]
            ],
            "type": "histogram2d"
           }
          ],
          "histogram2dcontour": [
           {
            "colorbar": {
             "outlinewidth": 0,
             "ticks": ""
            },
            "colorscale": [
             [
              0,
              "#0d0887"
             ],
             [
              0.1111111111111111,
              "#46039f"
             ],
             [
              0.2222222222222222,
              "#7201a8"
             ],
             [
              0.3333333333333333,
              "#9c179e"
             ],
             [
              0.4444444444444444,
              "#bd3786"
             ],
             [
              0.5555555555555556,
              "#d8576b"
             ],
             [
              0.6666666666666666,
              "#ed7953"
             ],
             [
              0.7777777777777778,
              "#fb9f3a"
             ],
             [
              0.8888888888888888,
              "#fdca26"
             ],
             [
              1,
              "#f0f921"
             ]
            ],
            "type": "histogram2dcontour"
           }
          ],
          "mesh3d": [
           {
            "colorbar": {
             "outlinewidth": 0,
             "ticks": ""
            },
            "type": "mesh3d"
           }
          ],
          "parcoords": [
           {
            "line": {
             "colorbar": {
              "outlinewidth": 0,
              "ticks": ""
             }
            },
            "type": "parcoords"
           }
          ],
          "pie": [
           {
            "automargin": true,
            "type": "pie"
           }
          ],
          "scatter": [
           {
            "fillpattern": {
             "fillmode": "overlay",
             "size": 10,
             "solidity": 0.2
            },
            "type": "scatter"
           }
          ],
          "scatter3d": [
           {
            "line": {
             "colorbar": {
              "outlinewidth": 0,
              "ticks": ""
             }
            },
            "marker": {
             "colorbar": {
              "outlinewidth": 0,
              "ticks": ""
             }
            },
            "type": "scatter3d"
           }
          ],
          "scattercarpet": [
           {
            "marker": {
             "colorbar": {
              "outlinewidth": 0,
              "ticks": ""
             }
            },
            "type": "scattercarpet"
           }
          ],
          "scattergeo": [
           {
            "marker": {
             "colorbar": {
              "outlinewidth": 0,
              "ticks": ""
             }
            },
            "type": "scattergeo"
           }
          ],
          "scattergl": [
           {
            "marker": {
             "colorbar": {
              "outlinewidth": 0,
              "ticks": ""
             }
            },
            "type": "scattergl"
           }
          ],
          "scattermap": [
           {
            "marker": {
             "colorbar": {
              "outlinewidth": 0,
              "ticks": ""
             }
            },
            "type": "scattermap"
           }
          ],
          "scattermapbox": [
           {
            "marker": {
             "colorbar": {
              "outlinewidth": 0,
              "ticks": ""
             }
            },
            "type": "scattermapbox"
           }
          ],
          "scatterpolar": [
           {
            "marker": {
             "colorbar": {
              "outlinewidth": 0,
              "ticks": ""
             }
            },
            "type": "scatterpolar"
           }
          ],
          "scatterpolargl": [
           {
            "marker": {
             "colorbar": {
              "outlinewidth": 0,
              "ticks": ""
             }
            },
            "type": "scatterpolargl"
           }
          ],
          "scatterternary": [
           {
            "marker": {
             "colorbar": {
              "outlinewidth": 0,
              "ticks": ""
             }
            },
            "type": "scatterternary"
           }
          ],
          "surface": [
           {
            "colorbar": {
             "outlinewidth": 0,
             "ticks": ""
            },
            "colorscale": [
             [
              0,
              "#0d0887"
             ],
             [
              0.1111111111111111,
              "#46039f"
             ],
             [
              0.2222222222222222,
              "#7201a8"
             ],
             [
              0.3333333333333333,
              "#9c179e"
             ],
             [
              0.4444444444444444,
              "#bd3786"
             ],
             [
              0.5555555555555556,
              "#d8576b"
             ],
             [
              0.6666666666666666,
              "#ed7953"
             ],
             [
              0.7777777777777778,
              "#fb9f3a"
             ],
             [
              0.8888888888888888,
              "#fdca26"
             ],
             [
              1,
              "#f0f921"
             ]
            ],
            "type": "surface"
           }
          ],
          "table": [
           {
            "cells": {
             "fill": {
              "color": "#EBF0F8"
             },
             "line": {
              "color": "white"
             }
            },
            "header": {
             "fill": {
              "color": "#C8D4E3"
             },
             "line": {
              "color": "white"
             }
            },
            "type": "table"
           }
          ]
         },
         "layout": {
          "annotationdefaults": {
           "arrowcolor": "#2a3f5f",
           "arrowhead": 0,
           "arrowwidth": 1
          },
          "autotypenumbers": "strict",
          "coloraxis": {
           "colorbar": {
            "outlinewidth": 0,
            "ticks": ""
           }
          },
          "colorscale": {
           "diverging": [
            [
             0,
             "#8e0152"
            ],
            [
             0.1,
             "#c51b7d"
            ],
            [
             0.2,
             "#de77ae"
            ],
            [
             0.3,
             "#f1b6da"
            ],
            [
             0.4,
             "#fde0ef"
            ],
            [
             0.5,
             "#f7f7f7"
            ],
            [
             0.6,
             "#e6f5d0"
            ],
            [
             0.7,
             "#b8e186"
            ],
            [
             0.8,
             "#7fbc41"
            ],
            [
             0.9,
             "#4d9221"
            ],
            [
             1,
             "#276419"
            ]
           ],
           "sequential": [
            [
             0,
             "#0d0887"
            ],
            [
             0.1111111111111111,
             "#46039f"
            ],
            [
             0.2222222222222222,
             "#7201a8"
            ],
            [
             0.3333333333333333,
             "#9c179e"
            ],
            [
             0.4444444444444444,
             "#bd3786"
            ],
            [
             0.5555555555555556,
             "#d8576b"
            ],
            [
             0.6666666666666666,
             "#ed7953"
            ],
            [
             0.7777777777777778,
             "#fb9f3a"
            ],
            [
             0.8888888888888888,
             "#fdca26"
            ],
            [
             1,
             "#f0f921"
            ]
           ],
           "sequentialminus": [
            [
             0,
             "#0d0887"
            ],
            [
             0.1111111111111111,
             "#46039f"
            ],
            [
             0.2222222222222222,
             "#7201a8"
            ],
            [
             0.3333333333333333,
             "#9c179e"
            ],
            [
             0.4444444444444444,
             "#bd3786"
            ],
            [
             0.5555555555555556,
             "#d8576b"
            ],
            [
             0.6666666666666666,
             "#ed7953"
            ],
            [
             0.7777777777777778,
             "#fb9f3a"
            ],
            [
             0.8888888888888888,
             "#fdca26"
            ],
            [
             1,
             "#f0f921"
            ]
           ]
          },
          "colorway": [
           "#636efa",
           "#EF553B",
           "#00cc96",
           "#ab63fa",
           "#FFA15A",
           "#19d3f3",
           "#FF6692",
           "#B6E880",
           "#FF97FF",
           "#FECB52"
          ],
          "font": {
           "color": "#2a3f5f"
          },
          "geo": {
           "bgcolor": "white",
           "lakecolor": "white",
           "landcolor": "#E5ECF6",
           "showlakes": true,
           "showland": true,
           "subunitcolor": "white"
          },
          "hoverlabel": {
           "align": "left"
          },
          "hovermode": "closest",
          "mapbox": {
           "style": "light"
          },
          "paper_bgcolor": "white",
          "plot_bgcolor": "#E5ECF6",
          "polar": {
           "angularaxis": {
            "gridcolor": "white",
            "linecolor": "white",
            "ticks": ""
           },
           "bgcolor": "#E5ECF6",
           "radialaxis": {
            "gridcolor": "white",
            "linecolor": "white",
            "ticks": ""
           }
          },
          "scene": {
           "xaxis": {
            "backgroundcolor": "#E5ECF6",
            "gridcolor": "white",
            "gridwidth": 2,
            "linecolor": "white",
            "showbackground": true,
            "ticks": "",
            "zerolinecolor": "white"
           },
           "yaxis": {
            "backgroundcolor": "#E5ECF6",
            "gridcolor": "white",
            "gridwidth": 2,
            "linecolor": "white",
            "showbackground": true,
            "ticks": "",
            "zerolinecolor": "white"
           },
           "zaxis": {
            "backgroundcolor": "#E5ECF6",
            "gridcolor": "white",
            "gridwidth": 2,
            "linecolor": "white",
            "showbackground": true,
            "ticks": "",
            "zerolinecolor": "white"
           }
          },
          "shapedefaults": {
           "line": {
            "color": "#2a3f5f"
           }
          },
          "ternary": {
           "aaxis": {
            "gridcolor": "white",
            "linecolor": "white",
            "ticks": ""
           },
           "baxis": {
            "gridcolor": "white",
            "linecolor": "white",
            "ticks": ""
           },
           "bgcolor": "#E5ECF6",
           "caxis": {
            "gridcolor": "white",
            "linecolor": "white",
            "ticks": ""
           }
          },
          "title": {
           "x": 0.05
          },
          "xaxis": {
           "automargin": true,
           "gridcolor": "white",
           "linecolor": "white",
           "ticks": "",
           "title": {
            "standoff": 15
           },
           "zerolinecolor": "white",
           "zerolinewidth": 2
          },
          "yaxis": {
           "automargin": true,
           "gridcolor": "white",
           "linecolor": "white",
           "ticks": "",
           "title": {
            "standoff": 15
           },
           "zerolinecolor": "white",
           "zerolinewidth": 2
          }
         }
        },
        "title": {
         "text": "조직별 분기 인원 변동 현황"
        },
        "updatemenus": [
         {
          "active": 0,
          "buttons": [
           {
            "args": [
             {
              "visible": [
               true,
               true,
               true,
               false,
               false,
               false,
               false,
               false,
               false,
               false,
               false,
               false,
               false,
               false,
               false
              ]
             },
             {
              "yaxis.range": [
               0,
               59.400000000000006
              ]
             }
            ],
            "label": "전체",
            "method": "update"
           },
           {
            "args": [
             {
              "visible": [
               false,
               false,
               false,
               true,
               true,
               true,
               false,
               false,
               false,
               false,
               false,
               false,
               false,
               false,
               false
              ]
             },
             {
              "yaxis.range": [
               0,
               22
              ]
             }
            ],
            "label": "Planning Division",
            "method": "update"
           },
           {
            "args": [
             {
              "visible": [
               false,
               false,
               false,
               false,
               false,
               false,
               true,
               true,
               true,
               false,
               false,
               false,
               false,
               false,
               false
              ]
             },
             {
              "yaxis.range": [
               0,
               24.200000000000003
              ]
             }
            ],
            "label": "Sales Division",
            "method": "update"
           },
           {
            "args": [
             {
              "visible": [
               false,
               false,
               false,
               false,
               false,
               false,
               false,
               false,
               false,
               true,
               true,
               true,
               false,
               false,
               false
              ]
             },
             {
              "yaxis.range": [
               0,
               17.6
              ]
             }
            ],
            "label": "Development Division",
            "method": "update"
           },
           {
            "args": [
             {
              "visible": [
               false,
               false,
               false,
               false,
               false,
               false,
               false,
               false,
               false,
               false,
               false,
               false,
               true,
               true,
               true
              ]
             },
             {
              "yaxis.range": [
               0,
               17.6
              ]
             }
            ],
            "label": "Operating Division",
            "method": "update"
           }
          ],
          "direction": "down",
          "pad": {
           "r": 10,
           "t": 10
          },
          "showactive": true,
          "x": 0.01,
          "xanchor": "left",
          "y": 1.1,
          "yanchor": "top"
         }
        ],
        "xaxis": {
         "anchor": "y",
         "domain": [
          0,
          0.94
         ],
         "title": {
          "text": "분기"
         }
        },
        "yaxis": {
         "anchor": "x",
         "domain": [
          0,
          1
         ],
         "range": [
          0,
          59.400000000000006
         ],
         "title": {
          "text": "입사/퇴사자 수"
         }
        },
        "yaxis2": {
         "anchor": "x",
         "overlaying": "y",
         "rangemode": "tozero",
         "side": "right",
         "title": {
          "text": "총원"
         }
        }
       }
      }
     },
     "metadata": {},
     "output_type": "display_data"
    }
   ],
   "source": [
    "import pandas as pd\n",
    "import numpy as np\n",
    "import plotly.graph_objects as go\n",
    "from plotly.subplots import make_subplots\n",
    "import plotly.io as pio\n",
    "import datetime\n",
    "\n",
    "# --- 1. 데이터 임포트 ---\n",
    "from services.tables.HR_Core.basic_info_table import emp_df\n",
    "from services.tables.HR_Core.department_info_table import department_info_df\n",
    "from services.tables.HR_Core.department_table import (\n",
    "    dept_level_map, parent_map_dept, dept_name_map,\n",
    "    division_order\n",
    ")\n",
    "from services.helpers.utils import find_parents\n",
    "\n",
    "def create_figure():\n",
    "    \"\"\"\n",
    "    제안 0-2: 조직별 분기 인원 변동 현황 그래프를 생성합니다.\n",
    "    \"\"\"\n",
    "    # --- 2. 데이터 준비 및 가공 ---\n",
    "    emp_dates_df = emp_df[['EMP_ID', 'IN_DATE', 'OUT_DATE']].copy()\n",
    "    emp_dates_df['IN_DATE'] = pd.to_datetime(emp_dates_df['IN_DATE'])\n",
    "    emp_dates_df['OUT_DATE'] = pd.to_datetime(emp_dates_df['OUT_DATE'])\n",
    "    dept_info_sorted = department_info_df.sort_values('DEP_APP_START_DATE')\n",
    "    start_month = emp_dates_df['IN_DATE'].min().to_period('M').to_timestamp()\n",
    "    end_month = pd.to_datetime(datetime.datetime.now()).to_period('M').to_timestamp()\n",
    "    monthly_periods = pd.date_range(start=start_month, end=end_month, freq='MS')\n",
    "    \n",
    "    monthly_summary_records = []\n",
    "    for period_start in monthly_periods:\n",
    "        period_end = period_start + pd.offsets.MonthEnd(0)\n",
    "        hires_df = emp_dates_df[emp_dates_df['IN_DATE'].between(period_start, period_end)]\n",
    "        leavers_df = emp_dates_df[emp_dates_df['OUT_DATE'].between(period_start, period_end)]\n",
    "        active_df = emp_dates_df[(emp_dates_df['IN_DATE'] <= period_end) & ((emp_dates_df['OUT_DATE'].isnull()) | (emp_dates_df['OUT_DATE'] > period_end))].copy()\n",
    "        active_df['DATE_SNAPSHOT'] = period_end\n",
    "        hires_with_dept = pd.merge_asof(hires_df.sort_values('IN_DATE'), dept_info_sorted, left_on='IN_DATE', right_on='DEP_APP_START_DATE', by='EMP_ID', direction='backward')\n",
    "        leavers_with_dept = pd.merge_asof(leavers_df.sort_values('OUT_DATE'), dept_info_sorted, left_on='OUT_DATE', right_on='DEP_APP_START_DATE', by='EMP_ID', direction='backward')\n",
    "        active_with_dept = pd.merge_asof(active_df.sort_values('DATE_SNAPSHOT'), dept_info_sorted, left_on='DATE_SNAPSHOT', right_on='DEP_APP_START_DATE', by='EMP_ID', direction='backward')\n",
    "        for df in [hires_with_dept, leavers_with_dept, active_with_dept]:\n",
    "            if not df.empty:\n",
    "                parent_info = df['DEP_ID'].apply(lambda x: find_parents(x, dept_level_map, parent_map_dept, dept_name_map))\n",
    "                df[['DIVISION_NAME', 'OFFICE_NAME']] = parent_info\n",
    "        hires_by_div = hires_with_dept.groupby('DIVISION_NAME').size() if not hires_with_dept.empty and 'DIVISION_NAME' in hires_with_dept.columns else pd.Series(dtype=int)\n",
    "        leavers_by_div = leavers_with_dept.groupby('DIVISION_NAME').size() if not leavers_with_dept.empty and 'DIVISION_NAME' in leavers_with_dept.columns else pd.Series(dtype=int)\n",
    "        headcount_by_div = active_with_dept.groupby('DIVISION_NAME').size() if not active_with_dept.empty and 'DIVISION_NAME' in active_with_dept.columns else pd.Series(dtype=int)\n",
    "        all_divisions = set(hires_by_div.index) | set(leavers_by_div.index) | set(headcount_by_div.index)\n",
    "        for div in all_divisions:\n",
    "            if pd.notna(div):\n",
    "                monthly_summary_records.append({\n",
    "                    'PERIOD_DT': period_start, 'DIVISION_NAME': div,\n",
    "                    'NEW_HIRES': hires_by_div.get(div, 0), 'LEAVERS': leavers_by_div.get(div, 0), 'HEADCOUNT': headcount_by_div.get(div, 0)\n",
    "                })\n",
    "    monthly_div_summary_df = pd.DataFrame(monthly_summary_records)\n",
    "    \n",
    "    monthly_div_summary_df['QUARTER'] = monthly_div_summary_df['PERIOD_DT'].dt.to_period('Q')\n",
    "    quarterly_div_summary_df = monthly_div_summary_df.groupby(['QUARTER', 'DIVISION_NAME']).agg(\n",
    "        NEW_HIRES=('NEW_HIRES', 'sum'), LEAVERS=('LEAVERS', 'sum'), HEADCOUNT=('HEADCOUNT', 'last')\n",
    "    ).reset_index()\n",
    "    quarterly_overall_summary_df = quarterly_div_summary_df.groupby('QUARTER').agg(\n",
    "        NEW_HIRES=('NEW_HIRES', 'sum'), LEAVERS=('LEAVERS', 'sum'), HEADCOUNT=('HEADCOUNT', 'sum')\n",
    "    ).reset_index()\n",
    "    for df in [quarterly_div_summary_df, quarterly_overall_summary_df]:\n",
    "        df['PERIOD'] = df['QUARTER'].apply(lambda q: f\"{q.year}년 {q.quarter}분기\")\n",
    "\n",
    "    # --- 3. Plotly 인터랙티브 그래프 생성 ---\n",
    "    fig = make_subplots(specs=[[{\"secondary_y\": True}]])\n",
    "    division_list = ['전체'] + division_order\n",
    "\n",
    "    trace_map = {'전체': quarterly_overall_summary_df}\n",
    "    for div_name in division_order:\n",
    "        trace_map[div_name] = quarterly_div_summary_df[quarterly_div_summary_df['DIVISION_NAME'] == div_name]\n",
    "\n",
    "    for name, df in trace_map.items():\n",
    "        is_visible = (name == '전체')\n",
    "        df_plot = df.tail(12).copy()\n",
    "        fig.add_trace(go.Bar(x=df_plot['PERIOD'], y=df_plot['NEW_HIRES'], name='입사자', marker_color='blue', visible=is_visible), secondary_y=False)\n",
    "        fig.add_trace(go.Bar(x=df_plot['PERIOD'], y=df_plot['LEAVERS'], name='퇴사자', marker_color='red', visible=is_visible), secondary_y=False)\n",
    "        fig.add_trace(go.Scatter(\n",
    "            x=df_plot['PERIOD'], y=df_plot['HEADCOUNT'], name='총원', \n",
    "            mode='lines+markers+text', text=df_plot['HEADCOUNT'], textposition='top center',\n",
    "            line=dict(color='black'), visible=is_visible\n",
    "        ), secondary_y=True)\n",
    "\n",
    "    # --- 4. 드롭다운 메뉴 및 레이아웃 업데이트 ---\n",
    "    buttons = []\n",
    "    num_traces_per_group = 3\n",
    "    for i, name in enumerate(division_list):\n",
    "        visibility_mask = [False] * (len(division_list) * num_traces_per_group)\n",
    "        for j in range(num_traces_per_group):\n",
    "            visibility_mask[i * num_traces_per_group + j] = True\n",
    "        \n",
    "        df_for_range = trace_map[name].tail(12)\n",
    "        max_hires_leavers = max(df_for_range['NEW_HIRES'].max(), df_for_range['LEAVERS'].max()) if not df_for_range.empty else 0\n",
    "        y1_range = [0, max_hires_leavers * 2.2]\n",
    "        \n",
    "        buttons.append(dict(label=name, method='update', args=[\n",
    "            {'visible': visibility_mask},\n",
    "            {'yaxis.range': y1_range}\n",
    "        ]))\n",
    "    \n",
    "    initial_df = trace_map['전체'].tail(12)\n",
    "    initial_max = max(initial_df['NEW_HIRES'].max(), initial_df['LEAVERS'].max()) if not initial_df.empty else 0\n",
    "    initial_y1_range = [0, initial_max * 2.2]\n",
    "    \n",
    "    fig.update_layout(\n",
    "        updatemenus=[dict(\n",
    "            active=0, buttons=buttons, direction=\"down\",\n",
    "            pad={\"r\": 10, \"t\": 10}, showactive=True,\n",
    "            x=0.01, xanchor=\"left\", y=1.1, yanchor=\"top\"\n",
    "        )],\n",
    "        title_text='조직별 분기 인원 변동 현황',\n",
    "        xaxis_title='분기',\n",
    "        font_size=14, height=700,\n",
    "        barmode='group',\n",
    "        legend=dict(orientation=\"h\", yanchor=\"bottom\", y=1.02, xanchor=\"right\", x=1),\n",
    "        annotations=[dict(text=\"조직 선택:\", showarrow=False, x=0, y=1.08, yref=\"paper\", align=\"left\")]\n",
    "    )\n",
    "    fig.update_yaxes(title_text=\"입사/퇴사자 수\", secondary_y=False, range=initial_y1_range)\n",
    "    fig.update_yaxes(title_text=\"총원\", secondary_y=True, rangemode='tozero')\n",
    "    \n",
    "    return fig\n",
    "\n",
    "# 이 파일을 직접 실행할 경우 그래프를 생성하여 보여줍니다.\n",
    "pio.renderers.default = 'vscode'\n",
    "fig = create_figure()\n",
    "fig.show()"
   ]
  },
  {
   "cell_type": "code",
   "execution_count": null,
   "id": "a1ea2352",
   "metadata": {},
   "outputs": [],
   "source": []
  }
 ],
 "metadata": {
  "kernelspec": {
   "display_name": "Python 3 (ipykernel)",
   "language": "python",
   "name": "python3"
  },
  "language_info": {
   "codemirror_mode": {
    "name": "ipython",
    "version": 3
   },
   "file_extension": ".py",
   "mimetype": "text/x-python",
   "name": "python",
   "nbconvert_exporter": "python",
   "pygments_lexer": "ipython3",
   "version": "3.12.11"
  }
 },
 "nbformat": 4,
 "nbformat_minor": 5
}
