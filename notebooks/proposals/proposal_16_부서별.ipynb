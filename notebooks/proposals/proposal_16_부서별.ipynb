{
 "cells": [
  {
   "cell_type": "code",
   "execution_count": 1,
   "id": "faa6b4c6",
   "metadata": {},
   "outputs": [
    {
     "name": "stderr",
     "output_type": "stream",
     "text": [
      "/app/src/services/tables/Time_Attendance/detailed_working_info_table.py:79: FutureWarning: Downcasting object dtype arrays on .fillna, .ffill, .bfill is deprecated and will change in a future version. Call result.infer_objects(copy=False) instead. To opt-in to the future behavior, set `pd.set_option('future.no_silent_downcasting', True)`\n",
      "  df['IS_VACATION'] = df['IS_VACATION'].fillna(False).astype(bool)\n"
     ]
    },
    {
     "data": {
      "application/vnd.plotly.v1+json": {
       "config": {
        "plotlyServerURL": "https://plot.ly"
       },
       "data": [
        {
         "marker": {
          "color": "#636EFA"
         },
         "name": "Staff",
         "text": {
          "bdata": "SOF6FK5HAUBxPQrXo3ABQFyPwvUoXAFAXI/C9ShcAUA=",
          "dtype": "f8"
         },
         "textposition": "outside",
         "type": "bar",
         "x": [
          "Planning Division",
          "Sales Division",
          "Development Division",
          "Operating Division"
         ],
         "y": {
          "bdata": "WGWHX5A/AUCeFtFME3ABQGcJK4wbVgFAFtL2DCNhAUA=",
          "dtype": "f8"
         }
        },
        {
         "marker": {
          "color": "#EF553B"
         },
         "name": "Manager",
         "text": {
          "bdata": "cT0K16NwAUAzMzMzMzMBQIXrUbgehQFA9ihcj8L1AEA=",
          "dtype": "f8"
         },
         "textposition": "outside",
         "type": "bar",
         "x": [
          "Planning Division",
          "Sales Division",
          "Development Division",
          "Operating Division"
         ],
         "y": {
          "bdata": "Z/+CrCBqAUA+YDDc7TwBQMRBHF60gQFAhmLwLYf4AEA=",
          "dtype": "f8"
         }
        },
        {
         "marker": {
          "color": "#00CC96"
         },
         "name": "Director",
         "text": {
          "bdata": "16NwPQrXAUDXo3A9CtcBQEjhehSuRwFA4XoUrkfhAEA=",
          "dtype": "f8"
         },
         "textposition": "outside",
         "type": "bar",
         "x": [
          "Planning Division",
          "Sales Division",
          "Development Division",
          "Operating Division"
         ],
         "y": {
          "bdata": "InOJgW3ZAUDu6hVh8M0BQOoXT3wkPwFA/lFvg8jjAEA=",
          "dtype": "f8"
         }
        },
        {
         "marker": {
          "color": "#AB63FA"
         },
         "name": "C-Level",
         "text": {
          "bdata": "cT0K16NwAUA=",
          "dtype": "f8"
         },
         "textposition": "outside",
         "type": "bar",
         "x": [
          "Development Division"
         ],
         "y": {
          "bdata": "d3d3d3d3AUA=",
          "dtype": "f8"
         }
        },
        {
         "marker": {
          "color": "#636EFA"
         },
         "name": "Staff",
         "text": {
          "bdata": "XI/C9ShcAUAfhetRuB4BQA==",
          "dtype": "f8"
         },
         "textposition": "outside",
         "type": "bar",
         "visible": false,
         "x": [
          "Strategy Office",
          "Finance Office"
         ],
         "y": {
          "bdata": "DwW9bHxYAUDG9bZLLhoBQA==",
          "dtype": "f8"
         }
        },
        {
         "marker": {
          "color": "#EF553B"
         },
         "name": "Manager",
         "text": {
          "bdata": "SOF6FK5HAUCuR+F6FK4BQA==",
          "dtype": "f8"
         },
         "textposition": "outside",
         "type": "bar",
         "visible": false,
         "x": [
          "Strategy Office",
          "Finance Office"
         ],
         "y": {
          "bdata": "zAzOefJHAUDu1VvAQbYBQA==",
          "dtype": "f8"
         }
        },
        {
         "marker": {
          "color": "#00CC96"
         },
         "name": "Director",
         "text": {
          "bdata": "exSuR+F6AkC4HoXrUbgAQA==",
          "dtype": "f8"
         },
         "textposition": "outside",
         "type": "bar",
         "visible": false,
         "x": [
          "Strategy Office",
          "Finance Office"
         ],
         "y": {
          "bdata": "TUAoHCmBAkAxHdZ/38EAQA==",
          "dtype": "f8"
         }
        },
        {
         "marker": {
          "color": "#AB63FA"
         },
         "name": "C-Level",
         "text": [],
         "textposition": "outside",
         "type": "bar",
         "visible": false,
         "x": [],
         "y": []
        },
        {
         "marker": {
          "color": "#636EFA"
         },
         "name": "Staff",
         "text": {
          "bdata": "XI/C9ShcAUBI4XoUrkcBQMP1KFyPwgFA",
          "dtype": "f8"
         },
         "textposition": "outside",
         "type": "bar",
         "visible": false,
         "x": [
          "Marketing Office",
          "Domestic Sales Office",
          "Global Sales Office"
         ],
         "y": {
          "bdata": "zZOem/RbAUDZdKLfKkEBQJ8Ns9FnwQFA",
          "dtype": "f8"
         }
        },
        {
         "marker": {
          "color": "#EF553B"
         },
         "name": "Manager",
         "text": {
          "bdata": "MzMzMzMzAUAK16NwPQoBQHE9CtejcAFA",
          "dtype": "f8"
         },
         "textposition": "outside",
         "type": "bar",
         "visible": false,
         "x": [
          "Marketing Office",
          "Domestic Sales Office",
          "Global Sales Office"
         ],
         "y": {
          "bdata": "X5WgT7k0AUDqKz1UFRMBQBj7FgMheAFA",
          "dtype": "f8"
         }
        },
        {
         "marker": {
          "color": "#00CC96"
         },
         "name": "Director",
         "text": {
          "bdata": "exSuR+F6AkDsUbgehesBQOF6FK5H4QBA",
          "dtype": "f8"
         },
         "textposition": "outside",
         "type": "bar",
         "visible": false,
         "x": [
          "Marketing Office",
          "Domestic Sales Office",
          "Global Sales Office"
         ],
         "y": {
          "bdata": "z4FLcg16AkBoucnOH/ABQOv7CZnZ6ABA",
          "dtype": "f8"
         }
        },
        {
         "marker": {
          "color": "#AB63FA"
         },
         "name": "C-Level",
         "text": [],
         "textposition": "outside",
         "type": "bar",
         "visible": false,
         "x": [],
         "y": []
        },
        {
         "marker": {
          "color": "#636EFA"
         },
         "name": "Staff",
         "text": {
          "bdata": "CtejcD0KAUDXo3A9CtcBQA==",
          "dtype": "f8"
         },
         "textposition": "outside",
         "type": "bar",
         "visible": false,
         "x": [
          "R&D Office",
          "QA Office"
         ],
         "y": {
          "bdata": "BbWZbxgIAUB27XoNIeABQA==",
          "dtype": "f8"
         }
        },
        {
         "marker": {
          "color": "#EF553B"
         },
         "name": "Manager",
         "text": {
          "bdata": "AAAAAAAAAkAK16NwPQoBQA==",
          "dtype": "f8"
         },
         "textposition": "outside",
         "type": "bar",
         "visible": false,
         "x": [
          "R&D Office",
          "QA Office"
         ],
         "y": {
          "bdata": "dDkojvL7AUAUShAudgcBQA==",
          "dtype": "f8"
         }
        },
        {
         "marker": {
          "color": "#00CC96"
         },
         "name": "Director",
         "text": {
          "bdata": "9ihcj8L1AECamZmZmZkBQA==",
          "dtype": "f8"
         },
         "textposition": "outside",
         "type": "bar",
         "visible": false,
         "x": [
          "R&D Office",
          "QA Office"
         ],
         "y": {
          "bdata": "enC9H3z7AEA2KQXwtpMBQA==",
          "dtype": "f8"
         }
        },
        {
         "marker": {
          "color": "#AB63FA"
         },
         "name": "C-Level",
         "text": {
          "bdata": "cT0K16NwAUA=",
          "dtype": "f8"
         },
         "textposition": "outside",
         "type": "bar",
         "visible": false,
         "x": [
          "R&D Office"
         ],
         "y": {
          "bdata": "d3d3d3d3AUA=",
          "dtype": "f8"
         }
        },
        {
         "marker": {
          "color": "#636EFA"
         },
         "name": "Staff",
         "text": {
          "bdata": "w/UoXI/CAUAzMzMzMzMBQA==",
          "dtype": "f8"
         },
         "textposition": "outside",
         "type": "bar",
         "visible": false,
         "x": [
          "Engineering Office",
          "Production Office"
         ],
         "y": {
          "bdata": "/MIkdk7GAUDAsR6tqjsBQA==",
          "dtype": "f8"
         }
        },
        {
         "marker": {
          "color": "#EF553B"
         },
         "name": "Manager",
         "text": {
          "bdata": "uB6F61G4AEAK16NwPQoBQA==",
          "dtype": "f8"
         },
         "textposition": "outside",
         "type": "bar",
         "visible": false,
         "x": [
          "Engineering Office",
          "Production Office"
         ],
         "y": {
          "bdata": "mucNBd68AECMYNhvzw8BQA==",
          "dtype": "f8"
         }
        },
        {
         "marker": {
          "color": "#00CC96"
         },
         "name": "Director",
         "text": {
          "bdata": "uB6F61G4AED2KFyPwvUAQA==",
          "dtype": "f8"
         },
         "textposition": "outside",
         "type": "bar",
         "visible": false,
         "x": [
          "Engineering Office",
          "Production Office"
         ],
         "y": {
          "bdata": "XPRKLN+xAEACeb5nlPgAQA==",
          "dtype": "f8"
         }
        },
        {
         "marker": {
          "color": "#AB63FA"
         },
         "name": "C-Level",
         "text": [],
         "textposition": "outside",
         "type": "bar",
         "visible": false,
         "x": [],
         "y": []
        }
       ],
       "layout": {
        "annotations": [
         {
          "align": "left",
          "showarrow": false,
          "text": "조직 선택:",
          "x": 0,
          "y": 1.08,
          "yref": "paper"
         }
        ],
        "barmode": "group",
        "font": {
         "size": 14
        },
        "height": 700,
        "legend": {
         "title": {
          "text": "직위"
         }
        },
        "template": {
         "data": {
          "bar": [
           {
            "error_x": {
             "color": "#2a3f5f"
            },
            "error_y": {
             "color": "#2a3f5f"
            },
            "marker": {
             "line": {
              "color": "#E5ECF6",
              "width": 0.5
             },
             "pattern": {
              "fillmode": "overlay",
              "size": 10,
              "solidity": 0.2
             }
            },
            "type": "bar"
           }
          ],
          "barpolar": [
           {
            "marker": {
             "line": {
              "color": "#E5ECF6",
              "width": 0.5
             },
             "pattern": {
              "fillmode": "overlay",
              "size": 10,
              "solidity": 0.2
             }
            },
            "type": "barpolar"
           }
          ],
          "carpet": [
           {
            "aaxis": {
             "endlinecolor": "#2a3f5f",
             "gridcolor": "white",
             "linecolor": "white",
             "minorgridcolor": "white",
             "startlinecolor": "#2a3f5f"
            },
            "baxis": {
             "endlinecolor": "#2a3f5f",
             "gridcolor": "white",
             "linecolor": "white",
             "minorgridcolor": "white",
             "startlinecolor": "#2a3f5f"
            },
            "type": "carpet"
           }
          ],
          "choropleth": [
           {
            "colorbar": {
             "outlinewidth": 0,
             "ticks": ""
            },
            "type": "choropleth"
           }
          ],
          "contour": [
           {
            "colorbar": {
             "outlinewidth": 0,
             "ticks": ""
            },
            "colorscale": [
             [
              0,
              "#0d0887"
             ],
             [
              0.1111111111111111,
              "#46039f"
             ],
             [
              0.2222222222222222,
              "#7201a8"
             ],
             [
              0.3333333333333333,
              "#9c179e"
             ],
             [
              0.4444444444444444,
              "#bd3786"
             ],
             [
              0.5555555555555556,
              "#d8576b"
             ],
             [
              0.6666666666666666,
              "#ed7953"
             ],
             [
              0.7777777777777778,
              "#fb9f3a"
             ],
             [
              0.8888888888888888,
              "#fdca26"
             ],
             [
              1,
              "#f0f921"
             ]
            ],
            "type": "contour"
           }
          ],
          "contourcarpet": [
           {
            "colorbar": {
             "outlinewidth": 0,
             "ticks": ""
            },
            "type": "contourcarpet"
           }
          ],
          "heatmap": [
           {
            "colorbar": {
             "outlinewidth": 0,
             "ticks": ""
            },
            "colorscale": [
             [
              0,
              "#0d0887"
             ],
             [
              0.1111111111111111,
              "#46039f"
             ],
             [
              0.2222222222222222,
              "#7201a8"
             ],
             [
              0.3333333333333333,
              "#9c179e"
             ],
             [
              0.4444444444444444,
              "#bd3786"
             ],
             [
              0.5555555555555556,
              "#d8576b"
             ],
             [
              0.6666666666666666,
              "#ed7953"
             ],
             [
              0.7777777777777778,
              "#fb9f3a"
             ],
             [
              0.8888888888888888,
              "#fdca26"
             ],
             [
              1,
              "#f0f921"
             ]
            ],
            "type": "heatmap"
           }
          ],
          "histogram": [
           {
            "marker": {
             "pattern": {
              "fillmode": "overlay",
              "size": 10,
              "solidity": 0.2
             }
            },
            "type": "histogram"
           }
          ],
          "histogram2d": [
           {
            "colorbar": {
             "outlinewidth": 0,
             "ticks": ""
            },
            "colorscale": [
             [
              0,
              "#0d0887"
             ],
             [
              0.1111111111111111,
              "#46039f"
             ],
             [
              0.2222222222222222,
              "#7201a8"
             ],
             [
              0.3333333333333333,
              "#9c179e"
             ],
             [
              0.4444444444444444,
              "#bd3786"
             ],
             [
              0.5555555555555556,
              "#d8576b"
             ],
             [
              0.6666666666666666,
              "#ed7953"
             ],
             [
              0.7777777777777778,
              "#fb9f3a"
             ],
             [
              0.8888888888888888,
              "#fdca26"
             ],
             [
              1,
              "#f0f921"
             ]
            ],
            "type": "histogram2d"
           }
          ],
          "histogram2dcontour": [
           {
            "colorbar": {
             "outlinewidth": 0,
             "ticks": ""
            },
            "colorscale": [
             [
              0,
              "#0d0887"
             ],
             [
              0.1111111111111111,
              "#46039f"
             ],
             [
              0.2222222222222222,
              "#7201a8"
             ],
             [
              0.3333333333333333,
              "#9c179e"
             ],
             [
              0.4444444444444444,
              "#bd3786"
             ],
             [
              0.5555555555555556,
              "#d8576b"
             ],
             [
              0.6666666666666666,
              "#ed7953"
             ],
             [
              0.7777777777777778,
              "#fb9f3a"
             ],
             [
              0.8888888888888888,
              "#fdca26"
             ],
             [
              1,
              "#f0f921"
             ]
            ],
            "type": "histogram2dcontour"
           }
          ],
          "mesh3d": [
           {
            "colorbar": {
             "outlinewidth": 0,
             "ticks": ""
            },
            "type": "mesh3d"
           }
          ],
          "parcoords": [
           {
            "line": {
             "colorbar": {
              "outlinewidth": 0,
              "ticks": ""
             }
            },
            "type": "parcoords"
           }
          ],
          "pie": [
           {
            "automargin": true,
            "type": "pie"
           }
          ],
          "scatter": [
           {
            "fillpattern": {
             "fillmode": "overlay",
             "size": 10,
             "solidity": 0.2
            },
            "type": "scatter"
           }
          ],
          "scatter3d": [
           {
            "line": {
             "colorbar": {
              "outlinewidth": 0,
              "ticks": ""
             }
            },
            "marker": {
             "colorbar": {
              "outlinewidth": 0,
              "ticks": ""
             }
            },
            "type": "scatter3d"
           }
          ],
          "scattercarpet": [
           {
            "marker": {
             "colorbar": {
              "outlinewidth": 0,
              "ticks": ""
             }
            },
            "type": "scattercarpet"
           }
          ],
          "scattergeo": [
           {
            "marker": {
             "colorbar": {
              "outlinewidth": 0,
              "ticks": ""
             }
            },
            "type": "scattergeo"
           }
          ],
          "scattergl": [
           {
            "marker": {
             "colorbar": {
              "outlinewidth": 0,
              "ticks": ""
             }
            },
            "type": "scattergl"
           }
          ],
          "scattermap": [
           {
            "marker": {
             "colorbar": {
              "outlinewidth": 0,
              "ticks": ""
             }
            },
            "type": "scattermap"
           }
          ],
          "scattermapbox": [
           {
            "marker": {
             "colorbar": {
              "outlinewidth": 0,
              "ticks": ""
             }
            },
            "type": "scattermapbox"
           }
          ],
          "scatterpolar": [
           {
            "marker": {
             "colorbar": {
              "outlinewidth": 0,
              "ticks": ""
             }
            },
            "type": "scatterpolar"
           }
          ],
          "scatterpolargl": [
           {
            "marker": {
             "colorbar": {
              "outlinewidth": 0,
              "ticks": ""
             }
            },
            "type": "scatterpolargl"
           }
          ],
          "scatterternary": [
           {
            "marker": {
             "colorbar": {
              "outlinewidth": 0,
              "ticks": ""
             }
            },
            "type": "scatterternary"
           }
          ],
          "surface": [
           {
            "colorbar": {
             "outlinewidth": 0,
             "ticks": ""
            },
            "colorscale": [
             [
              0,
              "#0d0887"
             ],
             [
              0.1111111111111111,
              "#46039f"
             ],
             [
              0.2222222222222222,
              "#7201a8"
             ],
             [
              0.3333333333333333,
              "#9c179e"
             ],
             [
              0.4444444444444444,
              "#bd3786"
             ],
             [
              0.5555555555555556,
              "#d8576b"
             ],
             [
              0.6666666666666666,
              "#ed7953"
             ],
             [
              0.7777777777777778,
              "#fb9f3a"
             ],
             [
              0.8888888888888888,
              "#fdca26"
             ],
             [
              1,
              "#f0f921"
             ]
            ],
            "type": "surface"
           }
          ],
          "table": [
           {
            "cells": {
             "fill": {
              "color": "#EBF0F8"
             },
             "line": {
              "color": "white"
             }
            },
            "header": {
             "fill": {
              "color": "#C8D4E3"
             },
             "line": {
              "color": "white"
             }
            },
            "type": "table"
           }
          ]
         },
         "layout": {
          "annotationdefaults": {
           "arrowcolor": "#2a3f5f",
           "arrowhead": 0,
           "arrowwidth": 1
          },
          "autotypenumbers": "strict",
          "coloraxis": {
           "colorbar": {
            "outlinewidth": 0,
            "ticks": ""
           }
          },
          "colorscale": {
           "diverging": [
            [
             0,
             "#8e0152"
            ],
            [
             0.1,
             "#c51b7d"
            ],
            [
             0.2,
             "#de77ae"
            ],
            [
             0.3,
             "#f1b6da"
            ],
            [
             0.4,
             "#fde0ef"
            ],
            [
             0.5,
             "#f7f7f7"
            ],
            [
             0.6,
             "#e6f5d0"
            ],
            [
             0.7,
             "#b8e186"
            ],
            [
             0.8,
             "#7fbc41"
            ],
            [
             0.9,
             "#4d9221"
            ],
            [
             1,
             "#276419"
            ]
           ],
           "sequential": [
            [
             0,
             "#0d0887"
            ],
            [
             0.1111111111111111,
             "#46039f"
            ],
            [
             0.2222222222222222,
             "#7201a8"
            ],
            [
             0.3333333333333333,
             "#9c179e"
            ],
            [
             0.4444444444444444,
             "#bd3786"
            ],
            [
             0.5555555555555556,
             "#d8576b"
            ],
            [
             0.6666666666666666,
             "#ed7953"
            ],
            [
             0.7777777777777778,
             "#fb9f3a"
            ],
            [
             0.8888888888888888,
             "#fdca26"
            ],
            [
             1,
             "#f0f921"
            ]
           ],
           "sequentialminus": [
            [
             0,
             "#0d0887"
            ],
            [
             0.1111111111111111,
             "#46039f"
            ],
            [
             0.2222222222222222,
             "#7201a8"
            ],
            [
             0.3333333333333333,
             "#9c179e"
            ],
            [
             0.4444444444444444,
             "#bd3786"
            ],
            [
             0.5555555555555556,
             "#d8576b"
            ],
            [
             0.6666666666666666,
             "#ed7953"
            ],
            [
             0.7777777777777778,
             "#fb9f3a"
            ],
            [
             0.8888888888888888,
             "#fdca26"
            ],
            [
             1,
             "#f0f921"
            ]
           ]
          },
          "colorway": [
           "#636efa",
           "#EF553B",
           "#00cc96",
           "#ab63fa",
           "#FFA15A",
           "#19d3f3",
           "#FF6692",
           "#B6E880",
           "#FF97FF",
           "#FECB52"
          ],
          "font": {
           "color": "#2a3f5f"
          },
          "geo": {
           "bgcolor": "white",
           "lakecolor": "white",
           "landcolor": "#E5ECF6",
           "showlakes": true,
           "showland": true,
           "subunitcolor": "white"
          },
          "hoverlabel": {
           "align": "left"
          },
          "hovermode": "closest",
          "mapbox": {
           "style": "light"
          },
          "paper_bgcolor": "white",
          "plot_bgcolor": "#E5ECF6",
          "polar": {
           "angularaxis": {
            "gridcolor": "white",
            "linecolor": "white",
            "ticks": ""
           },
           "bgcolor": "#E5ECF6",
           "radialaxis": {
            "gridcolor": "white",
            "linecolor": "white",
            "ticks": ""
           }
          },
          "scene": {
           "xaxis": {
            "backgroundcolor": "#E5ECF6",
            "gridcolor": "white",
            "gridwidth": 2,
            "linecolor": "white",
            "showbackground": true,
            "ticks": "",
            "zerolinecolor": "white"
           },
           "yaxis": {
            "backgroundcolor": "#E5ECF6",
            "gridcolor": "white",
            "gridwidth": 2,
            "linecolor": "white",
            "showbackground": true,
            "ticks": "",
            "zerolinecolor": "white"
           },
           "zaxis": {
            "backgroundcolor": "#E5ECF6",
            "gridcolor": "white",
            "gridwidth": 2,
            "linecolor": "white",
            "showbackground": true,
            "ticks": "",
            "zerolinecolor": "white"
           }
          },
          "shapedefaults": {
           "line": {
            "color": "#2a3f5f"
           }
          },
          "ternary": {
           "aaxis": {
            "gridcolor": "white",
            "linecolor": "white",
            "ticks": ""
           },
           "baxis": {
            "gridcolor": "white",
            "linecolor": "white",
            "ticks": ""
           },
           "bgcolor": "#E5ECF6",
           "caxis": {
            "gridcolor": "white",
            "linecolor": "white",
            "ticks": ""
           }
          },
          "title": {
           "x": 0.05
          },
          "xaxis": {
           "automargin": true,
           "gridcolor": "white",
           "linecolor": "white",
           "ticks": "",
           "title": {
            "standoff": 15
           },
           "zerolinecolor": "white",
           "zerolinewidth": 2
          },
          "yaxis": {
           "automargin": true,
           "gridcolor": "white",
           "linecolor": "white",
           "ticks": "",
           "title": {
            "standoff": 15
           },
           "zerolinecolor": "white",
           "zerolinewidth": 2
          }
         }
        },
        "title": {
         "text": "조직별/직위별 월 평균 주말 근무일수"
        },
        "updatemenus": [
         {
          "active": 0,
          "buttons": [
           {
            "args": [
             {
              "visible": [
               true,
               true,
               true,
               true,
               false,
               false,
               false,
               false,
               false,
               false,
               false,
               false,
               false,
               false,
               false,
               false,
               false,
               false,
               false,
               false
              ]
             },
             {
              "title": "전체 Division별 월 평균 주말 근무일수"
             }
            ],
            "label": "전체",
            "method": "update"
           },
           {
            "args": [
             {
              "visible": [
               false,
               false,
               false,
               false,
               true,
               true,
               true,
               true,
               false,
               false,
               false,
               false,
               false,
               false,
               false,
               false,
               false,
               false,
               false,
               false
              ]
             },
             {
              "title": "Planning Division 내 Office별 월 평균 주말 근무일수"
             }
            ],
            "label": "Planning Division",
            "method": "update"
           },
           {
            "args": [
             {
              "visible": [
               false,
               false,
               false,
               false,
               false,
               false,
               false,
               false,
               true,
               true,
               true,
               true,
               false,
               false,
               false,
               false,
               false,
               false,
               false,
               false
              ]
             },
             {
              "title": "Sales Division 내 Office별 월 평균 주말 근무일수"
             }
            ],
            "label": "Sales Division",
            "method": "update"
           },
           {
            "args": [
             {
              "visible": [
               false,
               false,
               false,
               false,
               false,
               false,
               false,
               false,
               false,
               false,
               false,
               false,
               true,
               true,
               true,
               true,
               false,
               false,
               false,
               false
              ]
             },
             {
              "title": "Development Division 내 Office별 월 평균 주말 근무일수"
             }
            ],
            "label": "Development Division",
            "method": "update"
           },
           {
            "args": [
             {
              "visible": [
               false,
               false,
               false,
               false,
               false,
               false,
               false,
               false,
               false,
               false,
               false,
               false,
               false,
               false,
               false,
               false,
               true,
               true,
               true,
               true
              ]
             },
             {
              "title": "Operating Division 내 Office별 월 평균 주말 근무일수"
             }
            ],
            "label": "Operating Division",
            "method": "update"
           }
          ],
          "direction": "down",
          "pad": {
           "r": 10,
           "t": 10
          },
          "showactive": true,
          "x": 0.01,
          "xanchor": "left",
          "y": 1.1,
          "yanchor": "top"
         }
        ],
        "yaxis": {
         "range": [
          0,
          2.7756800307979983
         ],
         "title": {
          "text": "월 평균 주말 근무일수 (일)"
         }
        }
       }
      }
     },
     "metadata": {},
     "output_type": "display_data"
    },
    {
     "name": "stdout",
     "output_type": "stream",
     "text": [
      "\n",
      "--- Aggregate DataFrame ---\n"
     ]
    },
    {
     "data": {
      "text/html": [
       "<div>\n",
       "<style scoped>\n",
       "    .dataframe tbody tr th:only-of-type {\n",
       "        vertical-align: middle;\n",
       "    }\n",
       "\n",
       "    .dataframe tbody tr th {\n",
       "        vertical-align: top;\n",
       "    }\n",
       "\n",
       "    .dataframe thead th {\n",
       "        text-align: right;\n",
       "    }\n",
       "</style>\n",
       "<table border=\"1\" class=\"dataframe\">\n",
       "  <thead>\n",
       "    <tr style=\"text-align: right;\">\n",
       "      <th>DIVISION_NAME</th>\n",
       "      <th>전체 평균</th>\n",
       "      <th>Planning Division</th>\n",
       "      <th>Sales Division</th>\n",
       "      <th>Development Division</th>\n",
       "      <th>Operating Division</th>\n",
       "    </tr>\n",
       "    <tr>\n",
       "      <th>POSITION_NAME</th>\n",
       "      <th></th>\n",
       "      <th></th>\n",
       "      <th></th>\n",
       "      <th></th>\n",
       "      <th></th>\n",
       "    </tr>\n",
       "  </thead>\n",
       "  <tbody>\n",
       "    <tr>\n",
       "      <th>Staff</th>\n",
       "      <td>2.17</td>\n",
       "      <td>2.16</td>\n",
       "      <td>2.18</td>\n",
       "      <td>2.17</td>\n",
       "      <td>2.17</td>\n",
       "    </tr>\n",
       "    <tr>\n",
       "      <th>Manager</th>\n",
       "      <td>2.16</td>\n",
       "      <td>2.18</td>\n",
       "      <td>2.15</td>\n",
       "      <td>2.19</td>\n",
       "      <td>2.12</td>\n",
       "    </tr>\n",
       "    <tr>\n",
       "      <th>Director</th>\n",
       "      <td>2.18</td>\n",
       "      <td>2.23</td>\n",
       "      <td>2.23</td>\n",
       "      <td>2.16</td>\n",
       "      <td>2.11</td>\n",
       "    </tr>\n",
       "    <tr>\n",
       "      <th>C-Level</th>\n",
       "      <td>2.18</td>\n",
       "      <td>-</td>\n",
       "      <td>-</td>\n",
       "      <td>2.18</td>\n",
       "      <td>-</td>\n",
       "    </tr>\n",
       "  </tbody>\n",
       "</table>\n",
       "</div>"
      ],
      "text/plain": [
       "DIVISION_NAME  전체 평균 Planning Division Sales Division  Development Division  \\\n",
       "POSITION_NAME                                                                 \n",
       "Staff           2.17              2.16           2.18                  2.17   \n",
       "Manager         2.16              2.18           2.15                  2.19   \n",
       "Director        2.18              2.23           2.23                  2.16   \n",
       "C-Level         2.18                 -              -                  2.18   \n",
       "\n",
       "DIVISION_NAME Operating Division  \n",
       "POSITION_NAME                     \n",
       "Staff                       2.17  \n",
       "Manager                     2.12  \n",
       "Director                    2.11  \n",
       "C-Level                        -  "
      ]
     },
     "execution_count": 1,
     "metadata": {},
     "output_type": "execute_result"
    }
   ],
   "source": [
    "import pandas as pd\n",
    "import numpy as np\n",
    "import plotly.graph_objects as go\n",
    "import plotly.io as pio\n",
    "import plotly.express as px\n",
    "import datetime\n",
    "\n",
    "# --- 1. 데이터 임포트 ---\n",
    "from services.tables.Time_Attendance.detailed_working_info_table import detailed_work_info_df\n",
    "from services.tables.HR_Core.basic_info_table import emp_df\n",
    "from services.tables.HR_Core.department_info_table import department_info_df\n",
    "from services.tables.HR_Core.position_info_table import position_info_df\n",
    "from services.tables.HR_Core.position_table import position_df, position_order\n",
    "from services.tables.HR_Core.department_table import (\n",
    "    dept_level_map, parent_map_dept, dept_name_map,\n",
    "    division_order, office_order\n",
    ")\n",
    "from services.helpers.utils import find_parents\n",
    "\n",
    "def create_figure_and_df():\n",
    "    \"\"\"\n",
    "    제안 16: 주말 근무 패턴 분석 그래프 및 피벗 테이블을 생성합니다.\n",
    "    \"\"\"\n",
    "    # --- 2. 데이터 준비 및 가공 ---\n",
    "    work_records = detailed_work_info_df.copy()\n",
    "    work_records['DATE'] = pd.to_datetime(work_records['DATE'])\n",
    "    work_records['DAY_OF_WEEK'] = work_records['DATE'].dt.weekday\n",
    "    weekend_work_df = work_records[\n",
    "        (~work_records['WORK_ETC'].isin(['휴가', '주말 휴무', '비번', '휴무'])) &\n",
    "        (work_records['DAY_OF_WEEK'] >= 5)\n",
    "    ].copy()\n",
    "    weekend_work_df['PAY_PERIOD'] = weekend_work_df['DATE'].dt.strftime('%Y-%m')\n",
    "    \n",
    "    monthly_weekend_days = weekend_work_df.groupby(['EMP_ID', 'PAY_PERIOD']).size().reset_index(name='WEEKEND_WORK_DAYS')\n",
    "    avg_weekend_days = monthly_weekend_days.groupby('EMP_ID')['WEEKEND_WORK_DAYS'].mean().reset_index()\n",
    "    \n",
    "    analysis_df = emp_df[emp_df['CURRENT_EMP_YN'] == 'Y'][['EMP_ID']].copy()\n",
    "    analysis_df = pd.merge(analysis_df, avg_weekend_days, on='EMP_ID', how='left').fillna(0)\n",
    "\n",
    "    current_depts = department_info_df[department_info_df['DEP_APP_END_DATE'].isnull()]\n",
    "    current_positions = position_info_df[position_info_df['GRADE_END_DATE'].isnull()]\n",
    "    analysis_df = pd.merge(analysis_df, current_depts[['EMP_ID', 'DEP_ID']], on='EMP_ID', how='left')\n",
    "    analysis_df = pd.merge(analysis_df, current_positions[['EMP_ID', 'POSITION_ID']], on='EMP_ID', how='left')\n",
    "    \n",
    "    parent_info = analysis_df['DEP_ID'].apply(lambda x: find_parents(x, dept_level_map, parent_map_dept, dept_name_map))\n",
    "    analysis_df = pd.concat([analysis_df, parent_info], axis=1)\n",
    "    analysis_df['OFFICE_NAME'] = analysis_df['OFFICE_NAME'].fillna('(Division 직속)')\n",
    "    analysis_df = pd.merge(analysis_df, position_df[['POSITION_ID', 'POSITION_NAME']], on='POSITION_ID', how='left')\n",
    "    analysis_df = analysis_df.dropna(subset=['DIVISION_NAME', 'OFFICE_NAME', 'POSITION_NAME'])\n",
    "\n",
    "    div_summary = analysis_df.groupby(['DIVISION_NAME', 'POSITION_NAME'], observed=False)['WEEKEND_WORK_DAYS'].mean().reset_index()\n",
    "    office_summary = analysis_df.groupby(['DIVISION_NAME', 'OFFICE_NAME', 'POSITION_NAME'], observed=False)['WEEKEND_WORK_DAYS'].mean().reset_index()\n",
    "    \n",
    "    div_summary['DIVISION_NAME'] = pd.Categorical(div_summary['DIVISION_NAME'], categories=division_order, ordered=True)\n",
    "    office_summary['OFFICE_NAME'] = pd.Categorical(office_summary['OFFICE_NAME'], categories=office_order, ordered=True)\n",
    "    div_summary = div_summary.sort_values('DIVISION_NAME')\n",
    "    office_summary = office_summary.sort_values('OFFICE_NAME')\n",
    "\n",
    "    # --- 3. Plotly 인터랙티브 그래프 생성 ---\n",
    "    # (그래프 생성 코드는 이전과 동일)\n",
    "    y_max = pd.concat([div_summary['WEEKEND_WORK_DAYS'], office_summary['WEEKEND_WORK_DAYS']]).max()\n",
    "    fixed_y_range = [0, y_max * 1.2]\n",
    "    fig = go.Figure()\n",
    "    colors = px.colors.qualitative.Plotly\n",
    "    for i, pos_name in enumerate(position_order):\n",
    "        df_filtered = div_summary[div_summary['POSITION_NAME'] == pos_name]\n",
    "        fig.add_trace(go.Bar(\n",
    "            x=df_filtered['DIVISION_NAME'], y=df_filtered['WEEKEND_WORK_DAYS'], name=pos_name, marker_color=colors[i],\n",
    "            text=df_filtered['WEEKEND_WORK_DAYS'].round(2), textposition='outside'\n",
    "        ))\n",
    "    office_traces_map = {}\n",
    "    trace_idx_counter = len(fig.data)\n",
    "    for div_name in division_order:\n",
    "        office_div_df = office_summary[office_summary['DIVISION_NAME'] == div_name]\n",
    "        office_traces_map[div_name] = []\n",
    "        for j, pos_name in enumerate(position_order):\n",
    "            df_filtered = office_div_df[office_div_df['POSITION_NAME'] == pos_name]\n",
    "            fig.add_trace(go.Bar(\n",
    "                x=df_filtered['OFFICE_NAME'], y=df_filtered['WEEKEND_WORK_DAYS'], name=pos_name, visible=False, marker_color=colors[j],\n",
    "                text=df_filtered['WEEKEND_WORK_DAYS'].round(2), textposition='outside'\n",
    "            ))\n",
    "            office_traces_map[div_name].append(trace_idx_counter)\n",
    "            trace_idx_counter += 1\n",
    "    buttons = []\n",
    "    visible_div = [True]*len(position_order) + [False]*(len(fig.data)-len(position_order))\n",
    "    buttons.append(dict(label='전체', method='update', \n",
    "                        args=[{'visible': visible_div},\n",
    "                              {'title': '전체 Division별 월 평균 주말 근무일수'}]))\n",
    "    for div_name in division_order:\n",
    "        visibility_mask = [False] * len(fig.data)\n",
    "        for trace_idx in office_traces_map.get(div_name, []):\n",
    "            visibility_mask[trace_idx] = True\n",
    "        buttons.append(dict(label=f'{div_name}', method='update',\n",
    "                            args=[{'visible': visibility_mask},\n",
    "                                  {'title': f'{div_name} 내 Office별 월 평균 주말 근무일수'}]))\n",
    "    fig.update_layout(\n",
    "        updatemenus=[dict(active=0, buttons=buttons, direction=\"down\", pad={\"r\": 10, \"t\": 10}, showactive=True, x=0.01, xanchor=\"left\", y=1.1, yanchor=\"top\")],\n",
    "        title_text='조직별/직위별 월 평균 주말 근무일수',\n",
    "        yaxis_title='월 평균 주말 근무일수 (일)',\n",
    "        font_size=14, height=700,\n",
    "        barmode='group', legend_title_text='직위',\n",
    "        annotations=[dict(text=\"조직 선택:\", showarrow=False, x=0, y=1.08, yref=\"paper\", align=\"left\")],\n",
    "        yaxis_range=fixed_y_range\n",
    "    )\n",
    "    \n",
    "    # --- 수정된 부분: aggregate_df 생성 ---\n",
    "    # 1. 피벗 테이블 생성\n",
    "    aggregate_df = div_summary.pivot_table(\n",
    "        index='POSITION_NAME',\n",
    "        columns='DIVISION_NAME',\n",
    "        values='WEEKEND_WORK_DAYS',\n",
    "        observed=False\n",
    "    )\n",
    "    \n",
    "    # 2. '전체 평균' 컬럼 추가\n",
    "    overall_summary = analysis_df.groupby('POSITION_NAME', observed=False)['WEEKEND_WORK_DAYS'].mean()\n",
    "    aggregate_df['전체 평균'] = overall_summary\n",
    "    \n",
    "    # 3. 컬럼/행 순서 재배치 및 포맷팅\n",
    "    cols = ['전체 평균'] + [col for col in division_order if col in aggregate_df.columns]\n",
    "    aggregate_df = aggregate_df[cols]\n",
    "    aggregate_df = aggregate_df.reindex(position_order).round(2).fillna('-')\n",
    "    # --- 수정 완료 ---\n",
    "    \n",
    "    return fig, aggregate_df\n",
    "\n",
    "# --- 실행 코드 ---\n",
    "pio.renderers.default = 'vscode'\n",
    "fig, aggregate_df = create_figure_and_df()\n",
    "fig.show()\n",
    "\n",
    "print(\"\\n--- Aggregate DataFrame ---\")\n",
    "aggregate_df"
   ]
  },
  {
   "cell_type": "code",
   "execution_count": null,
   "id": "4ef3e231",
   "metadata": {},
   "outputs": [],
   "source": []
  }
 ],
 "metadata": {
  "kernelspec": {
   "display_name": "Python 3 (ipykernel)",
   "language": "python",
   "name": "python3"
  }
 },
 "nbformat": 4,
 "nbformat_minor": 5
}
