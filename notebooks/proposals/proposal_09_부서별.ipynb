{
 "cells": [
  {
   "cell_type": "code",
   "execution_count": null,
   "id": "ce406758",
   "metadata": {},
   "outputs": [
    {
     "data": {
      "application/vnd.plotly.v1+json": {
       "config": {
        "plotlyServerURL": "https://plot.ly"
       },
       "data": [
        {
         "line": {
          "color": "#636EFA"
         },
         "mode": "lines+markers+text",
         "name": "Planning Division",
         "text": [
          "0.0%",
          "1.92%",
          "0.0%",
          "0.0%",
          "3.16%",
          "3.74%",
          "10.74%",
          "7.81%",
          "3.23%",
          "3.76%",
          "9.23%",
          "4.14%",
          "5.41%",
          "3.52%"
         ],
         "textposition": "top center",
         "type": "scatter",
         "x": {
          "bdata": "3AcAAN0HAADeBwAA3wcAAOAHAADhBwAA4gcAAOMHAADkBwAA5QcAAOYHAADnBwAA6AcAAOkHAAA=",
          "dtype": "i4"
         },
         "y": {
          "bdata": "AAAAAAAAAABP7MRO7MT+PwAAAAAAAAAAAAAAAAAAAAA2lNdQXkMJQCpK4yMT6A1Aw8T7kdN8JUAAAAAAAEAfQM4555xzzglANOHPhD8TDkBjJ3ZiJ3YiQN3TCMs9jRBA8lk3mCKfFUBphc2BRCsMQA==",
          "dtype": "f8"
         }
        },
        {
         "line": {
          "color": "#EF553B"
         },
         "mode": "lines+markers+text",
         "name": "Sales Division",
         "text": [
          "0.0%",
          "3.85%",
          "3.23%",
          "2.67%",
          "3.49%",
          "7.0%",
          "6.06%",
          "2.5%",
          "6.25%",
          "3.82%",
          "7.3%",
          "8.72%",
          "5.48%",
          "5.8%"
         ],
         "textposition": "top center",
         "type": "scatter",
         "x": {
          "bdata": "3AcAAN0HAADeBwAA3wcAAOAHAADhBwAA4gcAAOMHAADkBwAA5QcAAOYHAADnBwAA6AcAAOkHAAA=",
          "dtype": "i4"
         },
         "y": {
          "bdata": "AAAAAAAAAABP7MRO7MQOQM4555xzzglAVlVVVVVVBUD6gr6gL+gLQAEAAAAAABxAPvjggw8+GEAAAAAAAAAEQAAAAAAAABlA44SUPMuIDkBis6DaczIdQLgBQzUdcyFAr169evXqFUBz7cBcOzAXQA==",
          "dtype": "f8"
         }
        },
        {
         "line": {
          "color": "#00CC96"
         },
         "mode": "lines+markers+text",
         "name": "Development Division",
         "text": [
          "1.92%",
          "0.0%",
          "0.0%",
          "0.99%",
          "0.96%",
          "1.83%",
          "1.71%",
          "4.17%",
          "5.51%",
          "6.57%",
          "8.97%",
          "5.63%",
          "9.15%",
          "3.01%"
         ],
         "textposition": "top center",
         "type": "scatter",
         "x": {
          "bdata": "3AcAAN0HAADeBwAA3wcAAOAHAADhBwAA4gcAAOMHAADkBwAA5QcAAOYHAADnBwAA6AcAAOkHAAA=",
          "dtype": "i4"
         },
         "y": {
          "bdata": "T+zETuzE/j8AAAAAAAAAAAAAAAAAAAAAmHRqHuSu7z9P7MRO7MTuP7rVGamYW/0/nLVZm7VZ+z+qqqqqqqoQQIPBYDAYDBZAQG5d3gFHGkCE5Z5GWO4hQCHRCpsDiRZA68n47VJPIkD2gNkDZg8IQA==",
          "dtype": "f8"
         }
        },
        {
         "line": {
          "color": "#AB63FA"
         },
         "mode": "lines+markers+text",
         "name": "Operating Division",
         "text": [
          "0.0%",
          "4.55%",
          "1.85%",
          "2.94%",
          "2.38%",
          "3.3%",
          "4.17%",
          "10.28%",
          "4.39%",
          "5.83%",
          "9.09%",
          "6.98%",
          "5.8%",
          "4.58%"
         ],
         "textposition": "top center",
         "type": "scatter",
         "x": {
          "bdata": "3AcAAN0HAADeBwAA3wcAAOAHAADhBwAA4gcAAOMHAADkBwAA5QcAAOYHAADnBwAA6AcAAOkHAAA=",
          "dtype": "i4"
         },
         "y": {
          "bdata": "AAAAAAAAAAAvuuiiiy4SQBLaS2gvof0/h4eHh4eHB0DDMAzDMAwDQPulX/qlXwpAqqqqqqqqEED9QqwojY8kQLOYzmI6ixFAVVVVVVVVF0Avuuiiiy4iQPqCvqAv6BtAc+3AXDswF0Dugr+KE1ISQA==",
          "dtype": "f8"
         }
        },
        {
         "line": {
          "color": "#636EFA"
         },
         "mode": "lines+markers+text",
         "name": "Strategy Office",
         "text": [
          "0.0%",
          "0.0%",
          "0.0%",
          "0.0%",
          "4.62%",
          "4.23%",
          "6.49%",
          "6.49%",
          "1.37%",
          "3.8%",
          "10.67%",
          "2.33%",
          "5.68%",
          "3.61%"
         ],
         "textposition": "top center",
         "type": "scatter",
         "visible": false,
         "x": {
          "bdata": "3AcAAN0HAADeBwAA3wcAAOAHAADhBwAA4gcAAOMHAADkBwAA5QcAAOYHAADnBwAA6AcAAOkHAAA=",
          "dtype": "i4"
         },
         "y": {
          "bdata": "AAAAAAAAAAAAAAAAAAAAAAAAAAAAAAAAAAAAAAAAAABjJ3ZiJ3YSQNgcSLTC5hBAZuUnxFn5GUBm5SfEWfkZQK9evXr16vU/w/yuFjdhDkBWVVVVVVUlQKesKWvKmgJAuuiiiy66FkCKgRLeaOoMQA==",
          "dtype": "f8"
         }
        },
        {
         "line": {
          "color": "#EF553B"
         },
         "mode": "lines+markers+text",
         "name": "Finance Office",
         "text": [
          "0.0%",
          "4.76%",
          "0.0%",
          "0.0%",
          "0.0%",
          "2.78%",
          "18.18%",
          "9.8%",
          "5.88%",
          "3.7%",
          "7.27%",
          "6.78%",
          "5.0%",
          "3.39%"
         ],
         "textposition": "top center",
         "type": "scatter",
         "visible": false,
         "x": {
          "bdata": "3AcAAN0HAADeBwAA3wcAAOAHAADhBwAA4gcAAOMHAADkBwAA5QcAAOYHAADnBwAA6AcAAOkHAAA=",
          "dtype": "i4"
         },
         "y": {
          "bdata": "AAAAAAAAAADDMAzDMAwTQAAAAAAAAAAAAAAAAAAAAAAAAAAAAAAAAI7jOI7jOAZAL7rooosuMkCcm5ubm5sjQIeHh4eHhxdAEtpLaC+hDUAXXXTRRRcdQAQNJ3VfHhtAAAAAAAAAFEAEDSd1Xx4LQA==",
          "dtype": "f8"
         }
        },
        {
         "line": {
          "color": "#636EFA"
         },
         "mode": "lines+markers+text",
         "name": "Marketing Office",
         "text": [
          "0.0%",
          "7.14%",
          "0.0%",
          "0.0%",
          "4.17%",
          "6.45%",
          "3.23%",
          "2.56%",
          "6.98%",
          "2.27%",
          "2.08%",
          "12.0%",
          "7.14%",
          "11.36%"
         ],
         "textposition": "top center",
         "type": "scatter",
         "visible": false,
         "x": {
          "bdata": "3AcAAN0HAADeBwAA3wcAAOAHAADhBwAA4gcAAOMHAADkBwAA5QcAAOYHAADnBwAA6AcAAOkHAAA=",
          "dtype": "i4"
         },
         "y": {
          "bdata": "AAAAAAAAAAAkSZIkSZIcQAAAAAAAAAAAAAAAAAAAAACqqqqqqqoQQM4555xzzhlAzjnnnHPOCUA0SIM0SIMEQPqCvqAv6BtAL7rooosuAkCqqqqqqqoAQAAAAAAAAChAJEmSJEmSHEC66KKLLromQA==",
          "dtype": "f8"
         }
        },
        {
         "line": {
          "color": "#EF553B"
         },
         "mode": "lines+markers+text",
         "name": "Domestic Sales Office",
         "text": [
          "0.0%",
          "4.35%",
          "3.7%",
          "0.0%",
          "2.94%",
          "2.63%",
          "5.13%",
          "2.33%",
          "4.65%",
          "7.5%",
          "11.36%",
          "11.76%",
          "5.45%",
          "4.35%"
         ],
         "textposition": "top center",
         "type": "scatter",
         "visible": false,
         "x": {
          "bdata": "3AcAAN0HAADeBwAA3wcAAOAHAADhBwAA4gcAAOMHAADkBwAA5QcAAOYHAADnBwAA6AcAAOkHAAA=",
          "dtype": "i4"
         },
         "y": {
          "bdata": "AAAAAAAAAAAWspCFLGQRQBLaS2gvoQ1AAAAAAAAAAACHh4eHh4cHQNdQXkN5DQVANEiDNEiDFECnrClrypoCQKesKWvKmhJAAAAAAAAAHkC66KKLLromQIeHh4eHhydA0UUXXXTRFUAWspCFLGQRQA==",
          "dtype": "f8"
         }
        },
        {
         "line": {
          "color": "#00CC96"
         },
         "mode": "lines+markers+text",
         "name": "Global Sales Office",
         "text": [
          "0.0%",
          "0.0%",
          "5.56%",
          "9.09%",
          "3.57%",
          "12.9%",
          "10.34%",
          "2.63%",
          "7.14%",
          "2.13%",
          "8.89%",
          "2.08%",
          "4.08%",
          "2.08%"
         ],
         "textposition": "top center",
         "type": "scatter",
         "visible": false,
         "x": {
          "bdata": "3AcAAN0HAADeBwAA3wcAAOAHAADhBwAA4gcAAOMHAADkBwAA5QcAAOYHAADnBwAA6AcAAOkHAAA=",
          "dtype": "i4"
         },
         "y": {
          "bdata": "AAAAAAAAAAAAAAAAAAAAAI7jOI7jOBZAL7rooosuIkAkSZIkSZIMQM4555xzzilA1AjLPY2wJEDXUF5DeQ0FQCRJkiRJkhxAxOQKYnIFAUByHMdxHMchQKqqqqqqqgBAFbycgpdTEECqqqqqqqoAQA==",
          "dtype": "f8"
         }
        },
        {
         "line": {
          "color": "#636EFA"
         },
         "mode": "lines+markers+text",
         "name": "R&D Office",
         "text": [
          "3.85%",
          "0.0%",
          "0.0%",
          "0.0%",
          "1.64%",
          "0.0%",
          "1.33%",
          "3.9%",
          "7.59%",
          "6.74%",
          "7.69%",
          "3.45%",
          "9.2%",
          "1.19%"
         ],
         "textposition": "top center",
         "type": "scatter",
         "visible": false,
         "x": {
          "bdata": "3AcAAN0HAADeBwAA3wcAAOAHAADhBwAA4gcAAOMHAADkBwAA5QcAAOYHAADnBwAA6AcAAOkHAAA=",
          "dtype": "i4"
         },
         "y": {
          "bdata": "T+zETuzEDkAAAAAAAAAAAAAAAAAAAAAAAAAAAAAAAAD8FJcMwTr6PwAAAAAAAAAAVlVVVVVV9T/irPyEOCsPQMP8rhY3YR5Ar3vd6173GkBP7MRO7MQeQBphuacRlgtAvEAmxQtkIkDDMAzDMAzzPw==",
          "dtype": "f8"
         }
        },
        {
         "line": {
          "color": "#EF553B"
         },
         "mode": "lines+markers+text",
         "name": "QA Office",
         "text": [
          "0.0%",
          "0.0%",
          "0.0%",
          "2.22%",
          "0.0%",
          "5.0%",
          "2.38%",
          "4.65%",
          "2.08%",
          "6.25%",
          "11.11%",
          "9.09%",
          "9.09%",
          "6.12%"
         ],
         "textposition": "top center",
         "type": "scatter",
         "visible": false,
         "x": {
          "bdata": "3AcAAN0HAADeBwAA3wcAAOAHAADhBwAA4gcAAOMHAADkBwAA5QcAAOYHAADnBwAA6AcAAOkHAAA=",
          "dtype": "i4"
         },
         "y": {
          "bdata": "AAAAAAAAAAAAAAAAAAAAAAAAAAAAAAAAchzHcRzHAUAAAAAAAAAAAAAAAAAAABRAwzAMwzAMA0CnrClrypoSQKqqqqqqqgBAAAAAAAAAGUCO4ziO4zgmQC+66KKLLiJAL7rooosuIkAfGutDY30YQA==",
          "dtype": "f8"
         }
        },
        {
         "line": {
          "color": "#636EFA"
         },
         "mode": "lines+markers+text",
         "name": "Engineering Office",
         "text": [
          "0.0%",
          "5.56%",
          "0.0%",
          "3.45%",
          "3.03%",
          "2.63%",
          "7.32%",
          "6.67%",
          "6.38%",
          "8.16%",
          "10.0%",
          "5.66%",
          "8.62%",
          "3.77%"
         ],
         "textposition": "top center",
         "type": "scatter",
         "visible": false,
         "x": {
          "bdata": "3AcAAN0HAADeBwAA3wcAAOAHAADhBwAA4gcAAOMHAADkBwAA5QcAAOYHAADnBwAA6AcAAOkHAAA=",
          "dtype": "i4"
         },
         "y": {
          "bdata": "AAAAAAAAAACO4ziO4zgWQAAAAAAAAAAAGmG5pxGWC0A++OCDDz4IQNdQXkN5DQVARO1K1K5EHUCrqqqqqqoaQCZXEJMriBlAFbycgpdTIEAAAAAAAAAkQIPxVvY5pBZAsdzTCMs9IUCu7HNITTAOQA==",
          "dtype": "f8"
         }
        },
        {
         "line": {
          "color": "#EF553B"
         },
         "mode": "lines+markers+text",
         "name": "Production Office",
         "text": [
          "0.0%",
          "3.85%",
          "3.23%",
          "2.56%",
          "1.96%",
          "3.77%",
          "1.82%",
          "12.9%",
          "2.99%",
          "4.23%",
          "8.45%",
          "7.89%",
          "3.75%",
          "5.13%"
         ],
         "textposition": "top center",
         "type": "scatter",
         "visible": false,
         "x": {
          "bdata": "3AcAAN0HAADeBwAA3wcAAOAHAADhBwAA4gcAAOMHAADkBwAA5QcAAOYHAADnBwAA6AcAAOkHAAA=",
          "dtype": "i4"
         },
         "y": {
          "bdata": "AAAAAAAAAABP7MRO7MQOQM4555xzzglANEiDNEiDBEBfX19fX1//P67sc0hNMA5AF1100UUX/T/OOeecc84pQEgPVM5u4QdA2BxItMLmEEDYHEi0wuYgQEN5DeU1lB9AAAAAAAAADkA0SIM0SIMUQA==",
          "dtype": "f8"
         }
        }
       ],
       "layout": {
        "font": {
         "size": 14
        },
        "height": 700,
        "legend": {
         "title": {
          "text": "조직"
         }
        },
        "template": {
         "data": {
          "bar": [
           {
            "error_x": {
             "color": "#2a3f5f"
            },
            "error_y": {
             "color": "#2a3f5f"
            },
            "marker": {
             "line": {
              "color": "#E5ECF6",
              "width": 0.5
             },
             "pattern": {
              "fillmode": "overlay",
              "size": 10,
              "solidity": 0.2
             }
            },
            "type": "bar"
           }
          ],
          "barpolar": [
           {
            "marker": {
             "line": {
              "color": "#E5ECF6",
              "width": 0.5
             },
             "pattern": {
              "fillmode": "overlay",
              "size": 10,
              "solidity": 0.2
             }
            },
            "type": "barpolar"
           }
          ],
          "carpet": [
           {
            "aaxis": {
             "endlinecolor": "#2a3f5f",
             "gridcolor": "white",
             "linecolor": "white",
             "minorgridcolor": "white",
             "startlinecolor": "#2a3f5f"
            },
            "baxis": {
             "endlinecolor": "#2a3f5f",
             "gridcolor": "white",
             "linecolor": "white",
             "minorgridcolor": "white",
             "startlinecolor": "#2a3f5f"
            },
            "type": "carpet"
           }
          ],
          "choropleth": [
           {
            "colorbar": {
             "outlinewidth": 0,
             "ticks": ""
            },
            "type": "choropleth"
           }
          ],
          "contour": [
           {
            "colorbar": {
             "outlinewidth": 0,
             "ticks": ""
            },
            "colorscale": [
             [
              0,
              "#0d0887"
             ],
             [
              0.1111111111111111,
              "#46039f"
             ],
             [
              0.2222222222222222,
              "#7201a8"
             ],
             [
              0.3333333333333333,
              "#9c179e"
             ],
             [
              0.4444444444444444,
              "#bd3786"
             ],
             [
              0.5555555555555556,
              "#d8576b"
             ],
             [
              0.6666666666666666,
              "#ed7953"
             ],
             [
              0.7777777777777778,
              "#fb9f3a"
             ],
             [
              0.8888888888888888,
              "#fdca26"
             ],
             [
              1,
              "#f0f921"
             ]
            ],
            "type": "contour"
           }
          ],
          "contourcarpet": [
           {
            "colorbar": {
             "outlinewidth": 0,
             "ticks": ""
            },
            "type": "contourcarpet"
           }
          ],
          "heatmap": [
           {
            "colorbar": {
             "outlinewidth": 0,
             "ticks": ""
            },
            "colorscale": [
             [
              0,
              "#0d0887"
             ],
             [
              0.1111111111111111,
              "#46039f"
             ],
             [
              0.2222222222222222,
              "#7201a8"
             ],
             [
              0.3333333333333333,
              "#9c179e"
             ],
             [
              0.4444444444444444,
              "#bd3786"
             ],
             [
              0.5555555555555556,
              "#d8576b"
             ],
             [
              0.6666666666666666,
              "#ed7953"
             ],
             [
              0.7777777777777778,
              "#fb9f3a"
             ],
             [
              0.8888888888888888,
              "#fdca26"
             ],
             [
              1,
              "#f0f921"
             ]
            ],
            "type": "heatmap"
           }
          ],
          "histogram": [
           {
            "marker": {
             "pattern": {
              "fillmode": "overlay",
              "size": 10,
              "solidity": 0.2
             }
            },
            "type": "histogram"
           }
          ],
          "histogram2d": [
           {
            "colorbar": {
             "outlinewidth": 0,
             "ticks": ""
            },
            "colorscale": [
             [
              0,
              "#0d0887"
             ],
             [
              0.1111111111111111,
              "#46039f"
             ],
             [
              0.2222222222222222,
              "#7201a8"
             ],
             [
              0.3333333333333333,
              "#9c179e"
             ],
             [
              0.4444444444444444,
              "#bd3786"
             ],
             [
              0.5555555555555556,
              "#d8576b"
             ],
             [
              0.6666666666666666,
              "#ed7953"
             ],
             [
              0.7777777777777778,
              "#fb9f3a"
             ],
             [
              0.8888888888888888,
              "#fdca26"
             ],
             [
              1,
              "#f0f921"
             ]
            ],
            "type": "histogram2d"
           }
          ],
          "histogram2dcontour": [
           {
            "colorbar": {
             "outlinewidth": 0,
             "ticks": ""
            },
            "colorscale": [
             [
              0,
              "#0d0887"
             ],
             [
              0.1111111111111111,
              "#46039f"
             ],
             [
              0.2222222222222222,
              "#7201a8"
             ],
             [
              0.3333333333333333,
              "#9c179e"
             ],
             [
              0.4444444444444444,
              "#bd3786"
             ],
             [
              0.5555555555555556,
              "#d8576b"
             ],
             [
              0.6666666666666666,
              "#ed7953"
             ],
             [
              0.7777777777777778,
              "#fb9f3a"
             ],
             [
              0.8888888888888888,
              "#fdca26"
             ],
             [
              1,
              "#f0f921"
             ]
            ],
            "type": "histogram2dcontour"
           }
          ],
          "mesh3d": [
           {
            "colorbar": {
             "outlinewidth": 0,
             "ticks": ""
            },
            "type": "mesh3d"
           }
          ],
          "parcoords": [
           {
            "line": {
             "colorbar": {
              "outlinewidth": 0,
              "ticks": ""
             }
            },
            "type": "parcoords"
           }
          ],
          "pie": [
           {
            "automargin": true,
            "type": "pie"
           }
          ],
          "scatter": [
           {
            "fillpattern": {
             "fillmode": "overlay",
             "size": 10,
             "solidity": 0.2
            },
            "type": "scatter"
           }
          ],
          "scatter3d": [
           {
            "line": {
             "colorbar": {
              "outlinewidth": 0,
              "ticks": ""
             }
            },
            "marker": {
             "colorbar": {
              "outlinewidth": 0,
              "ticks": ""
             }
            },
            "type": "scatter3d"
           }
          ],
          "scattercarpet": [
           {
            "marker": {
             "colorbar": {
              "outlinewidth": 0,
              "ticks": ""
             }
            },
            "type": "scattercarpet"
           }
          ],
          "scattergeo": [
           {
            "marker": {
             "colorbar": {
              "outlinewidth": 0,
              "ticks": ""
             }
            },
            "type": "scattergeo"
           }
          ],
          "scattergl": [
           {
            "marker": {
             "colorbar": {
              "outlinewidth": 0,
              "ticks": ""
             }
            },
            "type": "scattergl"
           }
          ],
          "scattermap": [
           {
            "marker": {
             "colorbar": {
              "outlinewidth": 0,
              "ticks": ""
             }
            },
            "type": "scattermap"
           }
          ],
          "scattermapbox": [
           {
            "marker": {
             "colorbar": {
              "outlinewidth": 0,
              "ticks": ""
             }
            },
            "type": "scattermapbox"
           }
          ],
          "scatterpolar": [
           {
            "marker": {
             "colorbar": {
              "outlinewidth": 0,
              "ticks": ""
             }
            },
            "type": "scatterpolar"
           }
          ],
          "scatterpolargl": [
           {
            "marker": {
             "colorbar": {
              "outlinewidth": 0,
              "ticks": ""
             }
            },
            "type": "scatterpolargl"
           }
          ],
          "scatterternary": [
           {
            "marker": {
             "colorbar": {
              "outlinewidth": 0,
              "ticks": ""
             }
            },
            "type": "scatterternary"
           }
          ],
          "surface": [
           {
            "colorbar": {
             "outlinewidth": 0,
             "ticks": ""
            },
            "colorscale": [
             [
              0,
              "#0d0887"
             ],
             [
              0.1111111111111111,
              "#46039f"
             ],
             [
              0.2222222222222222,
              "#7201a8"
             ],
             [
              0.3333333333333333,
              "#9c179e"
             ],
             [
              0.4444444444444444,
              "#bd3786"
             ],
             [
              0.5555555555555556,
              "#d8576b"
             ],
             [
              0.6666666666666666,
              "#ed7953"
             ],
             [
              0.7777777777777778,
              "#fb9f3a"
             ],
             [
              0.8888888888888888,
              "#fdca26"
             ],
             [
              1,
              "#f0f921"
             ]
            ],
            "type": "surface"
           }
          ],
          "table": [
           {
            "cells": {
             "fill": {
              "color": "#EBF0F8"
             },
             "line": {
              "color": "white"
             }
            },
            "header": {
             "fill": {
              "color": "#C8D4E3"
             },
             "line": {
              "color": "white"
             }
            },
            "type": "table"
           }
          ]
         },
         "layout": {
          "annotationdefaults": {
           "arrowcolor": "#2a3f5f",
           "arrowhead": 0,
           "arrowwidth": 1
          },
          "autotypenumbers": "strict",
          "coloraxis": {
           "colorbar": {
            "outlinewidth": 0,
            "ticks": ""
           }
          },
          "colorscale": {
           "diverging": [
            [
             0,
             "#8e0152"
            ],
            [
             0.1,
             "#c51b7d"
            ],
            [
             0.2,
             "#de77ae"
            ],
            [
             0.3,
             "#f1b6da"
            ],
            [
             0.4,
             "#fde0ef"
            ],
            [
             0.5,
             "#f7f7f7"
            ],
            [
             0.6,
             "#e6f5d0"
            ],
            [
             0.7,
             "#b8e186"
            ],
            [
             0.8,
             "#7fbc41"
            ],
            [
             0.9,
             "#4d9221"
            ],
            [
             1,
             "#276419"
            ]
           ],
           "sequential": [
            [
             0,
             "#0d0887"
            ],
            [
             0.1111111111111111,
             "#46039f"
            ],
            [
             0.2222222222222222,
             "#7201a8"
            ],
            [
             0.3333333333333333,
             "#9c179e"
            ],
            [
             0.4444444444444444,
             "#bd3786"
            ],
            [
             0.5555555555555556,
             "#d8576b"
            ],
            [
             0.6666666666666666,
             "#ed7953"
            ],
            [
             0.7777777777777778,
             "#fb9f3a"
            ],
            [
             0.8888888888888888,
             "#fdca26"
            ],
            [
             1,
             "#f0f921"
            ]
           ],
           "sequentialminus": [
            [
             0,
             "#0d0887"
            ],
            [
             0.1111111111111111,
             "#46039f"
            ],
            [
             0.2222222222222222,
             "#7201a8"
            ],
            [
             0.3333333333333333,
             "#9c179e"
            ],
            [
             0.4444444444444444,
             "#bd3786"
            ],
            [
             0.5555555555555556,
             "#d8576b"
            ],
            [
             0.6666666666666666,
             "#ed7953"
            ],
            [
             0.7777777777777778,
             "#fb9f3a"
            ],
            [
             0.8888888888888888,
             "#fdca26"
            ],
            [
             1,
             "#f0f921"
            ]
           ]
          },
          "colorway": [
           "#636efa",
           "#EF553B",
           "#00cc96",
           "#ab63fa",
           "#FFA15A",
           "#19d3f3",
           "#FF6692",
           "#B6E880",
           "#FF97FF",
           "#FECB52"
          ],
          "font": {
           "color": "#2a3f5f"
          },
          "geo": {
           "bgcolor": "white",
           "lakecolor": "white",
           "landcolor": "#E5ECF6",
           "showlakes": true,
           "showland": true,
           "subunitcolor": "white"
          },
          "hoverlabel": {
           "align": "left"
          },
          "hovermode": "closest",
          "mapbox": {
           "style": "light"
          },
          "paper_bgcolor": "white",
          "plot_bgcolor": "#E5ECF6",
          "polar": {
           "angularaxis": {
            "gridcolor": "white",
            "linecolor": "white",
            "ticks": ""
           },
           "bgcolor": "#E5ECF6",
           "radialaxis": {
            "gridcolor": "white",
            "linecolor": "white",
            "ticks": ""
           }
          },
          "scene": {
           "xaxis": {
            "backgroundcolor": "#E5ECF6",
            "gridcolor": "white",
            "gridwidth": 2,
            "linecolor": "white",
            "showbackground": true,
            "ticks": "",
            "zerolinecolor": "white"
           },
           "yaxis": {
            "backgroundcolor": "#E5ECF6",
            "gridcolor": "white",
            "gridwidth": 2,
            "linecolor": "white",
            "showbackground": true,
            "ticks": "",
            "zerolinecolor": "white"
           },
           "zaxis": {
            "backgroundcolor": "#E5ECF6",
            "gridcolor": "white",
            "gridwidth": 2,
            "linecolor": "white",
            "showbackground": true,
            "ticks": "",
            "zerolinecolor": "white"
           }
          },
          "shapedefaults": {
           "line": {
            "color": "#2a3f5f"
           }
          },
          "ternary": {
           "aaxis": {
            "gridcolor": "white",
            "linecolor": "white",
            "ticks": ""
           },
           "baxis": {
            "gridcolor": "white",
            "linecolor": "white",
            "ticks": ""
           },
           "bgcolor": "#E5ECF6",
           "caxis": {
            "gridcolor": "white",
            "linecolor": "white",
            "ticks": ""
           }
          },
          "title": {
           "x": 0.05
          },
          "xaxis": {
           "automargin": true,
           "gridcolor": "white",
           "linecolor": "white",
           "ticks": "",
           "title": {
            "standoff": 15
           },
           "zerolinecolor": "white",
           "zerolinewidth": 2
          },
          "yaxis": {
           "automargin": true,
           "gridcolor": "white",
           "linecolor": "white",
           "ticks": "",
           "title": {
            "standoff": 15
           },
           "zerolinecolor": "white",
           "zerolinewidth": 2
          }
         }
        },
        "title": {
         "text": "연도별/조직별 직무 이동률(%) 변화 추이"
        },
        "updatemenus": [
         {
          "active": 0,
          "buttons": [
           {
            "args": [
             {
              "visible": [
               true,
               true,
               true,
               true,
               false,
               false,
               false,
               false,
               false,
               false,
               false,
               false,
               false
              ]
             }
            ],
            "label": "전체",
            "method": "update"
           },
           {
            "args": [
             {
              "visible": [
               false,
               false,
               false,
               false,
               true,
               true,
               false,
               false,
               false,
               false,
               false,
               false,
               false
              ]
             }
            ],
            "label": "Planning Division",
            "method": "update"
           },
           {
            "args": [
             {
              "visible": [
               false,
               false,
               false,
               false,
               false,
               false,
               true,
               true,
               true,
               false,
               false,
               false,
               false
              ]
             }
            ],
            "label": "Sales Division",
            "method": "update"
           },
           {
            "args": [
             {
              "visible": [
               false,
               false,
               false,
               false,
               false,
               false,
               false,
               false,
               false,
               true,
               true,
               false,
               false
              ]
             }
            ],
            "label": "Development Division",
            "method": "update"
           },
           {
            "args": [
             {
              "visible": [
               false,
               false,
               false,
               false,
               false,
               false,
               false,
               false,
               false,
               false,
               false,
               true,
               true
              ]
             }
            ],
            "label": "Operating Division",
            "method": "update"
           }
          ],
          "direction": "down",
          "pad": {
           "r": 10,
           "t": 10
          },
          "showactive": true,
          "x": 0.01,
          "xanchor": "left",
          "y": 1.1,
          "yanchor": "top"
         }
        ],
        "xaxis": {
         "title": {
          "text": "연도"
         },
         "type": "category"
        },
        "yaxis": {
         "range": [
          0,
          21.81818181818182
         ],
         "ticksuffix": "%",
         "title": {
          "text": "직무 이동률 (%)"
         }
        }
       }
      }
     },
     "metadata": {},
     "output_type": "display_data"
    },
    {
     "name": "stdout",
     "output_type": "stream",
     "text": [
      "\n",
      "--- Aggregate DataFrame ---\n"
     ]
    },
    {
     "data": {
      "text/html": [
       "<div>\n",
       "<style scoped>\n",
       "    .dataframe tbody tr th:only-of-type {\n",
       "        vertical-align: middle;\n",
       "    }\n",
       "\n",
       "    .dataframe tbody tr th {\n",
       "        vertical-align: top;\n",
       "    }\n",
       "\n",
       "    .dataframe thead th {\n",
       "        text-align: right;\n",
       "    }\n",
       "</style>\n",
       "<table border=\"1\" class=\"dataframe\">\n",
       "  <thead>\n",
       "    <tr style=\"text-align: right;\">\n",
       "      <th>GROUP_NAME</th>\n",
       "      <th>전체 평균</th>\n",
       "      <th>Planning Division</th>\n",
       "      <th>Sales Division</th>\n",
       "      <th>Development Division</th>\n",
       "      <th>Operating Division</th>\n",
       "    </tr>\n",
       "    <tr>\n",
       "      <th>YEAR</th>\n",
       "      <th></th>\n",
       "      <th></th>\n",
       "      <th></th>\n",
       "      <th></th>\n",
       "      <th></th>\n",
       "    </tr>\n",
       "  </thead>\n",
       "  <tbody>\n",
       "    <tr>\n",
       "      <th>2012</th>\n",
       "      <td>0.62%</td>\n",
       "      <td>0.00%</td>\n",
       "      <td>0.00%</td>\n",
       "      <td>1.92%</td>\n",
       "      <td>0.00%</td>\n",
       "    </tr>\n",
       "    <tr>\n",
       "      <th>2013</th>\n",
       "      <td>2.30%</td>\n",
       "      <td>1.92%</td>\n",
       "      <td>3.85%</td>\n",
       "      <td>0.00%</td>\n",
       "      <td>4.55%</td>\n",
       "    </tr>\n",
       "    <tr>\n",
       "      <th>2014</th>\n",
       "      <td>1.12%</td>\n",
       "      <td>0.00%</td>\n",
       "      <td>3.23%</td>\n",
       "      <td>0.00%</td>\n",
       "      <td>1.85%</td>\n",
       "    </tr>\n",
       "    <tr>\n",
       "      <th>2015</th>\n",
       "      <td>1.53%</td>\n",
       "      <td>0.00%</td>\n",
       "      <td>2.67%</td>\n",
       "      <td>0.99%</td>\n",
       "      <td>2.94%</td>\n",
       "    </tr>\n",
       "    <tr>\n",
       "      <th>2016</th>\n",
       "      <td>2.44%</td>\n",
       "      <td>3.16%</td>\n",
       "      <td>3.49%</td>\n",
       "      <td>0.96%</td>\n",
       "      <td>2.38%</td>\n",
       "    </tr>\n",
       "    <tr>\n",
       "      <th>2017</th>\n",
       "      <td>3.93%</td>\n",
       "      <td>3.74%</td>\n",
       "      <td>7.00%</td>\n",
       "      <td>1.83%</td>\n",
       "      <td>3.30%</td>\n",
       "    </tr>\n",
       "    <tr>\n",
       "      <th>2018</th>\n",
       "      <td>5.77%</td>\n",
       "      <td>10.74%</td>\n",
       "      <td>6.06%</td>\n",
       "      <td>1.71%</td>\n",
       "      <td>4.17%</td>\n",
       "    </tr>\n",
       "    <tr>\n",
       "      <th>2019</th>\n",
       "      <td>6.11%</td>\n",
       "      <td>7.81%</td>\n",
       "      <td>2.50%</td>\n",
       "      <td>4.17%</td>\n",
       "      <td>10.28%</td>\n",
       "    </tr>\n",
       "    <tr>\n",
       "      <th>2020</th>\n",
       "      <td>4.87%</td>\n",
       "      <td>3.23%</td>\n",
       "      <td>6.25%</td>\n",
       "      <td>5.51%</td>\n",
       "      <td>4.39%</td>\n",
       "    </tr>\n",
       "    <tr>\n",
       "      <th>2021</th>\n",
       "      <td>4.99%</td>\n",
       "      <td>3.76%</td>\n",
       "      <td>3.82%</td>\n",
       "      <td>6.57%</td>\n",
       "      <td>5.83%</td>\n",
       "    </tr>\n",
       "    <tr>\n",
       "      <th>2022</th>\n",
       "      <td>8.63%</td>\n",
       "      <td>9.23%</td>\n",
       "      <td>7.30%</td>\n",
       "      <td>8.97%</td>\n",
       "      <td>9.09%</td>\n",
       "    </tr>\n",
       "    <tr>\n",
       "      <th>2023</th>\n",
       "      <td>6.37%</td>\n",
       "      <td>4.14%</td>\n",
       "      <td>8.72%</td>\n",
       "      <td>5.63%</td>\n",
       "      <td>6.98%</td>\n",
       "    </tr>\n",
       "    <tr>\n",
       "      <th>2024</th>\n",
       "      <td>6.45%</td>\n",
       "      <td>5.41%</td>\n",
       "      <td>5.48%</td>\n",
       "      <td>9.15%</td>\n",
       "      <td>5.80%</td>\n",
       "    </tr>\n",
       "    <tr>\n",
       "      <th>2025</th>\n",
       "      <td>4.23%</td>\n",
       "      <td>3.52%</td>\n",
       "      <td>5.80%</td>\n",
       "      <td>3.01%</td>\n",
       "      <td>4.58%</td>\n",
       "    </tr>\n",
       "  </tbody>\n",
       "</table>\n",
       "</div>"
      ],
      "text/plain": [
       "GROUP_NAME  전체 평균 Planning Division Sales Division Development Division  \\\n",
       "YEAR                                                                      \n",
       "2012        0.62%             0.00%          0.00%                1.92%   \n",
       "2013        2.30%             1.92%          3.85%                0.00%   \n",
       "2014        1.12%             0.00%          3.23%                0.00%   \n",
       "2015        1.53%             0.00%          2.67%                0.99%   \n",
       "2016        2.44%             3.16%          3.49%                0.96%   \n",
       "2017        3.93%             3.74%          7.00%                1.83%   \n",
       "2018        5.77%            10.74%          6.06%                1.71%   \n",
       "2019        6.11%             7.81%          2.50%                4.17%   \n",
       "2020        4.87%             3.23%          6.25%                5.51%   \n",
       "2021        4.99%             3.76%          3.82%                6.57%   \n",
       "2022        8.63%             9.23%          7.30%                8.97%   \n",
       "2023        6.37%             4.14%          8.72%                5.63%   \n",
       "2024        6.45%             5.41%          5.48%                9.15%   \n",
       "2025        4.23%             3.52%          5.80%                3.01%   \n",
       "\n",
       "GROUP_NAME Operating Division  \n",
       "YEAR                           \n",
       "2012                    0.00%  \n",
       "2013                    4.55%  \n",
       "2014                    1.85%  \n",
       "2015                    2.94%  \n",
       "2016                    2.38%  \n",
       "2017                    3.30%  \n",
       "2018                    4.17%  \n",
       "2019                   10.28%  \n",
       "2020                    4.39%  \n",
       "2021                    5.83%  \n",
       "2022                    9.09%  \n",
       "2023                    6.98%  \n",
       "2024                    5.80%  \n",
       "2025                    4.58%  "
      ]
     },
     "execution_count": 3,
     "metadata": {},
     "output_type": "execute_result"
    }
   ],
   "source": [
    "import pandas as pd\n",
    "import numpy as np\n",
    "import plotly.graph_objects as go\n",
    "import plotly.io as pio\n",
    "import plotly.express as px\n",
    "import datetime\n",
    "\n",
    "# --- 1. 데이터 임포트 ---\n",
    "from services.tables.HR_Core.job_info_table import job_info_df\n",
    "from services.tables.HR_Core.basic_info_table import emp_df\n",
    "from services.tables.HR_Core.department_info_table import department_info_df\n",
    "from services.tables.HR_Core.department_table import (\n",
    "    dept_level_map, parent_map_dept, dept_name_map,\n",
    "    division_order, office_order\n",
    ")\n",
    "from services.helpers.utils import find_parents\n",
    "\n",
    "def create_figure_and_df():\n",
    "    \"\"\"\n",
    "    제안 9: 조직 활력도 진단 그래프 및 피벗 테이블을 생성합니다.\n",
    "    \"\"\"\n",
    "    # --- 2. 데이터 준비 및 가공 ---\n",
    "    job_changes = job_info_df.copy()\n",
    "    job_changes = pd.merge(job_changes, emp_df[['EMP_ID', 'IN_DATE']], on='EMP_ID', how='left')\n",
    "    job_changes = job_changes[job_changes['JOB_APP_START_DATE'] > job_changes['IN_DATE']]\n",
    "    job_changes['YEAR'] = job_changes['JOB_APP_START_DATE'].dt.year\n",
    "\n",
    "    dept_info_sorted = department_info_df.sort_values(['DEP_APP_START_DATE', 'EMP_ID'])\n",
    "    job_changes_with_dept = pd.merge_asof(\n",
    "        job_changes.sort_values('JOB_APP_START_DATE'),\n",
    "        dept_info_sorted[['EMP_ID', 'DEP_APP_START_DATE', 'DEP_ID']],\n",
    "        left_on='JOB_APP_START_DATE', right_on='DEP_APP_START_DATE', by='EMP_ID', direction='backward'\n",
    "    )\n",
    "    parent_info = job_changes_with_dept['DEP_ID'].apply(lambda x: find_parents(x, dept_level_map, parent_map_dept, dept_name_map))\n",
    "    job_changes_with_dept = pd.concat([job_changes_with_dept, parent_info], axis=1)\n",
    "    job_changes_with_dept = job_changes_with_dept.dropna(subset=['DIVISION_NAME', 'OFFICE_NAME'])\n",
    "\n",
    "    analysis_records = []\n",
    "    overall_records = []\n",
    "    all_years = sorted(job_changes_with_dept['YEAR'].unique())\n",
    "    for year in all_years:\n",
    "        year_start, year_end = pd.to_datetime(f'{year}-01-01'), pd.to_datetime(f'{year}-12-31')\n",
    "        active_in_year = emp_df[(emp_df['IN_DATE'] <= year_end) & (emp_df['OUT_DATE'].isnull() | (emp_df['OUT_DATE'] >= year_start))]\n",
    "        changes_in_year = job_changes_with_dept[job_changes_with_dept['YEAR'] == year]\n",
    "        \n",
    "        if not active_in_year.empty:\n",
    "            overall_rate = (len(changes_in_year) / len(active_in_year)) * 100\n",
    "            overall_records.append({'YEAR': year, 'MOBILITY_RATE': overall_rate})\n",
    "\n",
    "        active_dept = pd.merge_asof(active_in_year[['EMP_ID', 'IN_DATE']].sort_values('IN_DATE'), department_info_df.sort_values('DEP_APP_START_DATE'), left_on='IN_DATE', right_on='DEP_APP_START_DATE', by='EMP_ID', direction='backward')\n",
    "        parent_info_active = active_dept['DEP_ID'].apply(lambda x: find_parents(x, dept_level_map, parent_map_dept, dept_name_map))\n",
    "        active_dept = pd.concat([active_dept, parent_info_active], axis=1)\n",
    "        active_dept = active_dept.dropna(subset=['DIVISION_NAME', 'OFFICE_NAME'])\n",
    "        headcount_div = active_dept.groupby('DIVISION_NAME', observed=False).size()\n",
    "        headcount_office = active_dept.groupby(['DIVISION_NAME', 'OFFICE_NAME'], observed=False).size()\n",
    "\n",
    "        changes_div = changes_in_year.groupby('DIVISION_NAME', observed=False).size()\n",
    "        changes_office = changes_in_year.groupby(['DIVISION_NAME', 'OFFICE_NAME'], observed=False).size()\n",
    "\n",
    "        for div_name, count in headcount_div.items():\n",
    "            change_count = changes_div.get(div_name, 0)\n",
    "            rate = (change_count / count) * 100 if count > 0 else 0\n",
    "            analysis_records.append({'YEAR': year, 'GROUP_TYPE': 'DIVISION', 'GROUP_NAME': div_name, 'MOBILITY_RATE': rate})\n",
    "\n",
    "        for (div_name, office_name), count in headcount_office.items():\n",
    "            change_count = changes_office.get((div_name, office_name), 0)\n",
    "            rate = (change_count / count) * 100 if count > 0 else 0\n",
    "            analysis_records.append({'YEAR': year, 'GROUP_TYPE': 'OFFICE', 'DIVISION_NAME': div_name, 'GROUP_NAME': office_name, 'MOBILITY_RATE': rate})\n",
    "            \n",
    "    analysis_df = pd.DataFrame(analysis_records)\n",
    "    overall_df = pd.DataFrame(overall_records)\n",
    "    div_df = analysis_df[analysis_df['GROUP_TYPE'] == 'DIVISION'].copy()\n",
    "    office_df = analysis_df[analysis_df['GROUP_TYPE'] == 'OFFICE'].copy()\n",
    "\n",
    "    div_df['GROUP_NAME'] = pd.Categorical(div_df['GROUP_NAME'], categories=division_order, ordered=True)\n",
    "    office_df['DIVISION_NAME'] = pd.Categorical(office_df['DIVISION_NAME'], categories=division_order, ordered=True)\n",
    "    office_df['GROUP_NAME'] = pd.Categorical(office_df['GROUP_NAME'], categories=office_order, ordered=True)\n",
    "\n",
    "    y_max = analysis_df['MOBILITY_RATE'].max() if not analysis_df.empty else 0\n",
    "    fixed_y_range = [0, y_max * 1.2]\n",
    "\n",
    "    # --- 3. Plotly 인터랙티브 그래프 생성 ---\n",
    "    fig = go.Figure()\n",
    "    colors = px.colors.qualitative.Plotly\n",
    "    \n",
    "    for i, div_name in enumerate(division_order):\n",
    "        df_filtered = div_df[div_df['GROUP_NAME'] == div_name].sort_values('YEAR')\n",
    "        if not df_filtered.empty:\n",
    "            fig.add_trace(go.Scatter(x=df_filtered['YEAR'], y=df_filtered['MOBILITY_RATE'], mode='lines+markers+text', name=div_name,\n",
    "                                     line=dict(color=colors[i]), text=df_filtered['MOBILITY_RATE'].round(2).astype(str) + '%', textposition='top center'))\n",
    "    \n",
    "    office_traces_map = {}\n",
    "    trace_idx_counter = len(fig.data)\n",
    "    for div_name in division_order:\n",
    "        office_div_df = office_df[office_df['DIVISION_NAME'] == div_name]\n",
    "        offices_in_div_sorted = [o for o in office_order if o in office_div_df['GROUP_NAME'].unique()]\n",
    "        office_traces_map[div_name] = []\n",
    "        for j, office_name in enumerate(offices_in_div_sorted):\n",
    "            df_filtered = office_div_df[office_div_df['GROUP_NAME'] == office_name].sort_values('YEAR')\n",
    "            if not df_filtered.empty:\n",
    "                fig.add_trace(go.Scatter(x=df_filtered['YEAR'], y=df_filtered['MOBILITY_RATE'], mode='lines+markers+text', name=office_name, visible=False,\n",
    "                                         line=dict(color=colors[j % len(colors)]), text=df_filtered['MOBILITY_RATE'].round(2).astype(str) + '%', textposition='top center'))\n",
    "                office_traces_map[div_name].append(trace_idx_counter)\n",
    "                trace_idx_counter += 1\n",
    "    \n",
    "    buttons = [dict(label='전체', method='update', args=[{'visible': [True]*len(division_order) + [False]*(len(fig.data)-len(division_order))}])]\n",
    "    for div_name in division_order:\n",
    "        visibility_mask = [False] * len(fig.data)\n",
    "        for trace_idx in office_traces_map.get(div_name, []):\n",
    "            visibility_mask[trace_idx] = True\n",
    "        buttons.append(dict(label=f'{div_name}', method='update', args=[{'visible': visibility_mask}]))\n",
    "    \n",
    "    fig.update_layout(\n",
    "        updatemenus=[dict(active=0, buttons=buttons, direction=\"down\", pad={\"r\": 10, \"t\": 10}, showactive=True, x=0.01, xanchor=\"left\", y=1.1, yanchor=\"top\")],\n",
    "        title_text='연도별/조직별 직무 이동률(%) 변화 추이',\n",
    "        xaxis_title='연도', yaxis_title='직무 이동률 (%)',\n",
    "        font_size=14, height=700,\n",
    "        legend_title_text='조직',\n",
    "        xaxis=dict(type='category'), \n",
    "        yaxis=dict(ticksuffix=\"%\", range=fixed_y_range)\n",
    "    )\n",
    "    \n",
    "    # --- aggregate_df 생성 ---\n",
    "    aggregate_df = div_df.pivot_table(index='YEAR', columns='GROUP_NAME', values='MOBILITY_RATE', observed=False)\n",
    "    overall_df.set_index('YEAR', inplace=True)\n",
    "    aggregate_df['전체 평균'] = overall_df['MOBILITY_RATE']\n",
    "    aggregate_df = aggregate_df.reindex(range(2012, 2026)).sort_index()\n",
    "    cols = ['전체 평균'] + [col for col in division_order if col in aggregate_df.columns]\n",
    "    aggregate_df = aggregate_df[cols]\n",
    "    for col in aggregate_df.columns:\n",
    "        aggregate_df[col] = aggregate_df[col].apply(lambda x: f\"{x:.2f}%\" if pd.notna(x) else '-')\n",
    "        \n",
    "    return fig, aggregate_df\n",
    "\n",
    "# --- 실행 코드 ---\n",
    "pio.renderers.default = 'vscode'\n",
    "fig, aggregate_df = create_figure_and_df()\n",
    "fig.show()\n",
    "\n",
    "print(\"\\n--- Aggregate DataFrame ---\")\n",
    "aggregate_df"
   ]
  },
  {
   "cell_type": "code",
   "execution_count": null,
   "id": "e016b858",
   "metadata": {},
   "outputs": [],
   "source": []
  }
 ],
 "metadata": {
  "kernelspec": {
   "display_name": "Python 3 (ipykernel)",
   "language": "python",
   "name": "python3"
  },
  "language_info": {
   "codemirror_mode": {
    "name": "ipython",
    "version": 3
   },
   "file_extension": ".py",
   "mimetype": "text/x-python",
   "name": "python",
   "nbconvert_exporter": "python",
   "pygments_lexer": "ipython3",
   "version": "3.12.11"
  }
 },
 "nbformat": 4,
 "nbformat_minor": 5
}
