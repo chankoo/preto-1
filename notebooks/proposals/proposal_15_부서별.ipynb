{
 "cells": [
  {
   "cell_type": "code",
   "execution_count": 1,
   "id": "c28972ad",
   "metadata": {},
   "outputs": [
    {
     "name": "stderr",
     "output_type": "stream",
     "text": [
      "/app/src/services/tables/Time_Attendance/detailed_working_info_table.py:79: FutureWarning: Downcasting object dtype arrays on .fillna, .ffill, .bfill is deprecated and will change in a future version. Call result.infer_objects(copy=False) instead. To opt-in to the future behavior, set `pd.set_option('future.no_silent_downcasting', True)`\n",
      "  df['IS_VACATION'] = df['IS_VACATION'].fillna(False).astype(bool)\n"
     ]
    },
    {
     "data": {
      "application/vnd.plotly.v1+json": {
       "config": {
        "plotlyServerURL": "https://plot.ly"
       },
       "data": [
        {
         "name": "변경 전",
         "type": "bar",
         "x": [
          "Planning Division",
          "Sales Division",
          "Development Division",
          "Operating Division"
         ],
         "y": {
          "bdata": "aIVeDIkMLEB6hVM1qf4mQKEIHqS2sjFAqBMrCMUaJEA=",
          "dtype": "f8"
         }
        },
        {
         "name": "변경 후",
         "type": "bar",
         "x": [
          "Planning Division",
          "Sales Division",
          "Development Division",
          "Operating Division"
         ],
         "y": {
          "bdata": "S7//t7oGMkBY9ZzMD04cQDHHwqbxwjRA4BqfqLNiGUA=",
          "dtype": "f8"
         }
        },
        {
         "name": "부서 평균",
         "type": "bar",
         "x": [
          "Planning Division",
          "Sales Division",
          "Development Division",
          "Operating Division"
         ],
         "y": {
          "bdata": "rm1F6EQJM0AJQWADER4lQIkGa2a77TNAKuS3CXDdJUA=",
          "dtype": "f8"
         }
        },
        {
         "name": "변경 전",
         "type": "bar",
         "visible": false,
         "x": [
          "Strategy Office",
          "Finance Office",
          "Planning Division (직속)"
         ],
         "y": {
          "bdata": "4Hpa4UQHK0AIg8lDbG8sQABN++TOyzBA",
          "dtype": "f8"
         }
        },
        {
         "name": "변경 후",
         "type": "bar",
         "visible": false,
         "x": [
          "Strategy Office",
          "Finance Office",
          "Planning Division (직속)"
         ],
         "y": {
          "bdata": "GFH5XZ5nPkCauXK0sSQXQFKuWXN+biFA",
          "dtype": "f8"
         }
        },
        {
         "name": "부서 평균",
         "type": "bar",
         "visible": false,
         "x": [
          "Strategy Office",
          "Finance Office",
          "Planning Division (직속)"
         ],
         "y": {
          "bdata": "8pWtlTbIOkAE0wsK4l0kQCX8gaYEJypA",
          "dtype": "f8"
         }
        },
        {
         "name": "변경 전",
         "type": "bar",
         "visible": false,
         "x": [
          "Marketing Office",
          "Domestic Sales Office",
          "Global Sales Office",
          "Sales Division (직속)"
         ],
         "y": {
          "bdata": "KDmktSvnLkAcRKz34HcbQDblChBr2yhAfYugq0XJJkA=",
          "dtype": "f8"
         }
        },
        {
         "name": "변경 후",
         "type": "bar",
         "visible": false,
         "x": [
          "Marketing Office",
          "Domestic Sales Office",
          "Global Sales Office",
          "Sales Division (직속)"
         ],
         "y": {
          "bdata": "sRliJJ7LG0CWLbLBWKAYQGTe81KBbh9ALEriTVV7IUA=",
          "dtype": "f8"
         }
        },
        {
         "name": "부서 평균",
         "type": "bar",
         "visible": false,
         "x": [
          "Marketing Office",
          "Domestic Sales Office",
          "Global Sales Office",
          "Sales Division (직속)"
         ],
         "y": {
          "bdata": "XbTYpPlVJUCuiyZGXAUkQH5gst6kniZAidkLvAIEJEA=",
          "dtype": "f8"
         }
        },
        {
         "name": "변경 전",
         "type": "bar",
         "visible": false,
         "x": [
          "R&D Office",
          "QA Office",
          "Development Division (직속)"
         ],
         "y": {
          "bdata": "EM9hpBNKJ0CIsqG4WBQ8QMin2kzCQS1A",
          "dtype": "f8"
         }
        },
        {
         "name": "변경 후",
         "type": "bar",
         "visible": false,
         "x": [
          "R&D Office",
          "QA Office",
          "Development Division (직속)"
         ],
         "y": {
          "bdata": "wbP0uDTUNUBbhp2y3K8zQDqIwNdvuipA",
          "dtype": "f8"
         }
        },
        {
         "name": "부서 평균",
         "type": "bar",
         "visible": false,
         "x": [
          "R&D Office",
          "QA Office",
          "Development Division (직속)"
         ],
         "y": {
          "bdata": "zczMzEzHPUAo1Ar/YbclQM8Jg8JBZR9A",
          "dtype": "f8"
         }
        },
        {
         "name": "변경 전",
         "type": "bar",
         "visible": false,
         "x": [
          "Engineering Office",
          "Production Office",
          "Operating Division (직속)"
         ],
         "y": {
          "bdata": "2st6ZtRxH0CbR8GsAOUpQNv8OotqFgjA",
          "dtype": "f8"
         }
        },
        {
         "name": "변경 후",
         "type": "bar",
         "visible": false,
         "x": [
          "Engineering Office",
          "Production Office",
          "Operating Division (직속)"
         ],
         "y": {
          "bdata": "BqHtVm9GCECqzz0RkqQjQLuMwPzBTgLA",
          "dtype": "f8"
         }
        },
        {
         "name": "부서 평균",
         "type": "bar",
         "visible": false,
         "x": [
          "Engineering Office",
          "Production Office",
          "Operating Division (직속)"
         ],
         "y": {
          "bdata": "kMJLIkqSJkD0jceJgCAlQKGJnwqwQCZA",
          "dtype": "f8"
         }
        }
       ],
       "layout": {
        "annotations": [
         {
          "align": "left",
          "showarrow": false,
          "text": "조직 선택:",
          "x": 0,
          "y": 1.08,
          "yref": "paper"
         }
        ],
        "barmode": "group",
        "font": {
         "size": 14
        },
        "height": 700,
        "legend": {
         "title": {
          "text": "시점"
         }
        },
        "template": {
         "data": {
          "bar": [
           {
            "error_x": {
             "color": "#2a3f5f"
            },
            "error_y": {
             "color": "#2a3f5f"
            },
            "marker": {
             "line": {
              "color": "#E5ECF6",
              "width": 0.5
             },
             "pattern": {
              "fillmode": "overlay",
              "size": 10,
              "solidity": 0.2
             }
            },
            "type": "bar"
           }
          ],
          "barpolar": [
           {
            "marker": {
             "line": {
              "color": "#E5ECF6",
              "width": 0.5
             },
             "pattern": {
              "fillmode": "overlay",
              "size": 10,
              "solidity": 0.2
             }
            },
            "type": "barpolar"
           }
          ],
          "carpet": [
           {
            "aaxis": {
             "endlinecolor": "#2a3f5f",
             "gridcolor": "white",
             "linecolor": "white",
             "minorgridcolor": "white",
             "startlinecolor": "#2a3f5f"
            },
            "baxis": {
             "endlinecolor": "#2a3f5f",
             "gridcolor": "white",
             "linecolor": "white",
             "minorgridcolor": "white",
             "startlinecolor": "#2a3f5f"
            },
            "type": "carpet"
           }
          ],
          "choropleth": [
           {
            "colorbar": {
             "outlinewidth": 0,
             "ticks": ""
            },
            "type": "choropleth"
           }
          ],
          "contour": [
           {
            "colorbar": {
             "outlinewidth": 0,
             "ticks": ""
            },
            "colorscale": [
             [
              0,
              "#0d0887"
             ],
             [
              0.1111111111111111,
              "#46039f"
             ],
             [
              0.2222222222222222,
              "#7201a8"
             ],
             [
              0.3333333333333333,
              "#9c179e"
             ],
             [
              0.4444444444444444,
              "#bd3786"
             ],
             [
              0.5555555555555556,
              "#d8576b"
             ],
             [
              0.6666666666666666,
              "#ed7953"
             ],
             [
              0.7777777777777778,
              "#fb9f3a"
             ],
             [
              0.8888888888888888,
              "#fdca26"
             ],
             [
              1,
              "#f0f921"
             ]
            ],
            "type": "contour"
           }
          ],
          "contourcarpet": [
           {
            "colorbar": {
             "outlinewidth": 0,
             "ticks": ""
            },
            "type": "contourcarpet"
           }
          ],
          "heatmap": [
           {
            "colorbar": {
             "outlinewidth": 0,
             "ticks": ""
            },
            "colorscale": [
             [
              0,
              "#0d0887"
             ],
             [
              0.1111111111111111,
              "#46039f"
             ],
             [
              0.2222222222222222,
              "#7201a8"
             ],
             [
              0.3333333333333333,
              "#9c179e"
             ],
             [
              0.4444444444444444,
              "#bd3786"
             ],
             [
              0.5555555555555556,
              "#d8576b"
             ],
             [
              0.6666666666666666,
              "#ed7953"
             ],
             [
              0.7777777777777778,
              "#fb9f3a"
             ],
             [
              0.8888888888888888,
              "#fdca26"
             ],
             [
              1,
              "#f0f921"
             ]
            ],
            "type": "heatmap"
           }
          ],
          "histogram": [
           {
            "marker": {
             "pattern": {
              "fillmode": "overlay",
              "size": 10,
              "solidity": 0.2
             }
            },
            "type": "histogram"
           }
          ],
          "histogram2d": [
           {
            "colorbar": {
             "outlinewidth": 0,
             "ticks": ""
            },
            "colorscale": [
             [
              0,
              "#0d0887"
             ],
             [
              0.1111111111111111,
              "#46039f"
             ],
             [
              0.2222222222222222,
              "#7201a8"
             ],
             [
              0.3333333333333333,
              "#9c179e"
             ],
             [
              0.4444444444444444,
              "#bd3786"
             ],
             [
              0.5555555555555556,
              "#d8576b"
             ],
             [
              0.6666666666666666,
              "#ed7953"
             ],
             [
              0.7777777777777778,
              "#fb9f3a"
             ],
             [
              0.8888888888888888,
              "#fdca26"
             ],
             [
              1,
              "#f0f921"
             ]
            ],
            "type": "histogram2d"
           }
          ],
          "histogram2dcontour": [
           {
            "colorbar": {
             "outlinewidth": 0,
             "ticks": ""
            },
            "colorscale": [
             [
              0,
              "#0d0887"
             ],
             [
              0.1111111111111111,
              "#46039f"
             ],
             [
              0.2222222222222222,
              "#7201a8"
             ],
             [
              0.3333333333333333,
              "#9c179e"
             ],
             [
              0.4444444444444444,
              "#bd3786"
             ],
             [
              0.5555555555555556,
              "#d8576b"
             ],
             [
              0.6666666666666666,
              "#ed7953"
             ],
             [
              0.7777777777777778,
              "#fb9f3a"
             ],
             [
              0.8888888888888888,
              "#fdca26"
             ],
             [
              1,
              "#f0f921"
             ]
            ],
            "type": "histogram2dcontour"
           }
          ],
          "mesh3d": [
           {
            "colorbar": {
             "outlinewidth": 0,
             "ticks": ""
            },
            "type": "mesh3d"
           }
          ],
          "parcoords": [
           {
            "line": {
             "colorbar": {
              "outlinewidth": 0,
              "ticks": ""
             }
            },
            "type": "parcoords"
           }
          ],
          "pie": [
           {
            "automargin": true,
            "type": "pie"
           }
          ],
          "scatter": [
           {
            "fillpattern": {
             "fillmode": "overlay",
             "size": 10,
             "solidity": 0.2
            },
            "type": "scatter"
           }
          ],
          "scatter3d": [
           {
            "line": {
             "colorbar": {
              "outlinewidth": 0,
              "ticks": ""
             }
            },
            "marker": {
             "colorbar": {
              "outlinewidth": 0,
              "ticks": ""
             }
            },
            "type": "scatter3d"
           }
          ],
          "scattercarpet": [
           {
            "marker": {
             "colorbar": {
              "outlinewidth": 0,
              "ticks": ""
             }
            },
            "type": "scattercarpet"
           }
          ],
          "scattergeo": [
           {
            "marker": {
             "colorbar": {
              "outlinewidth": 0,
              "ticks": ""
             }
            },
            "type": "scattergeo"
           }
          ],
          "scattergl": [
           {
            "marker": {
             "colorbar": {
              "outlinewidth": 0,
              "ticks": ""
             }
            },
            "type": "scattergl"
           }
          ],
          "scattermap": [
           {
            "marker": {
             "colorbar": {
              "outlinewidth": 0,
              "ticks": ""
             }
            },
            "type": "scattermap"
           }
          ],
          "scattermapbox": [
           {
            "marker": {
             "colorbar": {
              "outlinewidth": 0,
              "ticks": ""
             }
            },
            "type": "scattermapbox"
           }
          ],
          "scatterpolar": [
           {
            "marker": {
             "colorbar": {
              "outlinewidth": 0,
              "ticks": ""
             }
            },
            "type": "scatterpolar"
           }
          ],
          "scatterpolargl": [
           {
            "marker": {
             "colorbar": {
              "outlinewidth": 0,
              "ticks": ""
             }
            },
            "type": "scatterpolargl"
           }
          ],
          "scatterternary": [
           {
            "marker": {
             "colorbar": {
              "outlinewidth": 0,
              "ticks": ""
             }
            },
            "type": "scatterternary"
           }
          ],
          "surface": [
           {
            "colorbar": {
             "outlinewidth": 0,
             "ticks": ""
            },
            "colorscale": [
             [
              0,
              "#0d0887"
             ],
             [
              0.1111111111111111,
              "#46039f"
             ],
             [
              0.2222222222222222,
              "#7201a8"
             ],
             [
              0.3333333333333333,
              "#9c179e"
             ],
             [
              0.4444444444444444,
              "#bd3786"
             ],
             [
              0.5555555555555556,
              "#d8576b"
             ],
             [
              0.6666666666666666,
              "#ed7953"
             ],
             [
              0.7777777777777778,
              "#fb9f3a"
             ],
             [
              0.8888888888888888,
              "#fdca26"
             ],
             [
              1,
              "#f0f921"
             ]
            ],
            "type": "surface"
           }
          ],
          "table": [
           {
            "cells": {
             "fill": {
              "color": "#EBF0F8"
             },
             "line": {
              "color": "white"
             }
            },
            "header": {
             "fill": {
              "color": "#C8D4E3"
             },
             "line": {
              "color": "white"
             }
            },
            "type": "table"
           }
          ]
         },
         "layout": {
          "annotationdefaults": {
           "arrowcolor": "#2a3f5f",
           "arrowhead": 0,
           "arrowwidth": 1
          },
          "autotypenumbers": "strict",
          "coloraxis": {
           "colorbar": {
            "outlinewidth": 0,
            "ticks": ""
           }
          },
          "colorscale": {
           "diverging": [
            [
             0,
             "#8e0152"
            ],
            [
             0.1,
             "#c51b7d"
            ],
            [
             0.2,
             "#de77ae"
            ],
            [
             0.3,
             "#f1b6da"
            ],
            [
             0.4,
             "#fde0ef"
            ],
            [
             0.5,
             "#f7f7f7"
            ],
            [
             0.6,
             "#e6f5d0"
            ],
            [
             0.7,
             "#b8e186"
            ],
            [
             0.8,
             "#7fbc41"
            ],
            [
             0.9,
             "#4d9221"
            ],
            [
             1,
             "#276419"
            ]
           ],
           "sequential": [
            [
             0,
             "#0d0887"
            ],
            [
             0.1111111111111111,
             "#46039f"
            ],
            [
             0.2222222222222222,
             "#7201a8"
            ],
            [
             0.3333333333333333,
             "#9c179e"
            ],
            [
             0.4444444444444444,
             "#bd3786"
            ],
            [
             0.5555555555555556,
             "#d8576b"
            ],
            [
             0.6666666666666666,
             "#ed7953"
            ],
            [
             0.7777777777777778,
             "#fb9f3a"
            ],
            [
             0.8888888888888888,
             "#fdca26"
            ],
            [
             1,
             "#f0f921"
            ]
           ],
           "sequentialminus": [
            [
             0,
             "#0d0887"
            ],
            [
             0.1111111111111111,
             "#46039f"
            ],
            [
             0.2222222222222222,
             "#7201a8"
            ],
            [
             0.3333333333333333,
             "#9c179e"
            ],
            [
             0.4444444444444444,
             "#bd3786"
            ],
            [
             0.5555555555555556,
             "#d8576b"
            ],
            [
             0.6666666666666666,
             "#ed7953"
            ],
            [
             0.7777777777777778,
             "#fb9f3a"
            ],
            [
             0.8888888888888888,
             "#fdca26"
            ],
            [
             1,
             "#f0f921"
            ]
           ]
          },
          "colorway": [
           "#636efa",
           "#EF553B",
           "#00cc96",
           "#ab63fa",
           "#FFA15A",
           "#19d3f3",
           "#FF6692",
           "#B6E880",
           "#FF97FF",
           "#FECB52"
          ],
          "font": {
           "color": "#2a3f5f"
          },
          "geo": {
           "bgcolor": "white",
           "lakecolor": "white",
           "landcolor": "#E5ECF6",
           "showlakes": true,
           "showland": true,
           "subunitcolor": "white"
          },
          "hoverlabel": {
           "align": "left"
          },
          "hovermode": "closest",
          "mapbox": {
           "style": "light"
          },
          "paper_bgcolor": "white",
          "plot_bgcolor": "#E5ECF6",
          "polar": {
           "angularaxis": {
            "gridcolor": "white",
            "linecolor": "white",
            "ticks": ""
           },
           "bgcolor": "#E5ECF6",
           "radialaxis": {
            "gridcolor": "white",
            "linecolor": "white",
            "ticks": ""
           }
          },
          "scene": {
           "xaxis": {
            "backgroundcolor": "#E5ECF6",
            "gridcolor": "white",
            "gridwidth": 2,
            "linecolor": "white",
            "showbackground": true,
            "ticks": "",
            "zerolinecolor": "white"
           },
           "yaxis": {
            "backgroundcolor": "#E5ECF6",
            "gridcolor": "white",
            "gridwidth": 2,
            "linecolor": "white",
            "showbackground": true,
            "ticks": "",
            "zerolinecolor": "white"
           },
           "zaxis": {
            "backgroundcolor": "#E5ECF6",
            "gridcolor": "white",
            "gridwidth": 2,
            "linecolor": "white",
            "showbackground": true,
            "ticks": "",
            "zerolinecolor": "white"
           }
          },
          "shapedefaults": {
           "line": {
            "color": "#2a3f5f"
           }
          },
          "ternary": {
           "aaxis": {
            "gridcolor": "white",
            "linecolor": "white",
            "ticks": ""
           },
           "baxis": {
            "gridcolor": "white",
            "linecolor": "white",
            "ticks": ""
           },
           "bgcolor": "#E5ECF6",
           "caxis": {
            "gridcolor": "white",
            "linecolor": "white",
            "ticks": ""
           }
          },
          "title": {
           "x": 0.05
          },
          "xaxis": {
           "automargin": true,
           "gridcolor": "white",
           "linecolor": "white",
           "ticks": "",
           "title": {
            "standoff": 15
           },
           "zerolinecolor": "white",
           "zerolinewidth": 2
          },
          "yaxis": {
           "automargin": true,
           "gridcolor": "white",
           "linecolor": "white",
           "ticks": "",
           "title": {
            "standoff": 15
           },
           "zerolinecolor": "white",
           "zerolinewidth": 2
          }
         }
        },
        "title": {
         "text": "부서변경 전후 초과근무 패턴 분석"
        },
        "updatemenus": [
         {
          "active": 0,
          "buttons": [
           {
            "args": [
             {
              "visible": [
               true,
               true,
               true,
               false,
               false,
               false,
               false,
               false,
               false,
               false,
               false,
               false,
               false,
               false,
               false
              ]
             },
             {
              "title": "부서 변경 전후 3개월간 일평균 초과근무 시간 비교",
              "xaxis": {
               "categoryarray": [
                "Planning Division",
                "Sales Division",
                "Development Division",
                "Operating Division"
               ],
               "categoryorder": "array",
               "title": "Division"
              }
             }
            ],
            "label": "전체",
            "method": "update"
           },
           {
            "args": [
             {
              "visible": [
               false,
               false,
               false,
               true,
               true,
               true,
               false,
               false,
               false,
               false,
               false,
               false,
               false,
               false,
               false
              ]
             },
             {
              "title": "Planning Division 내 Office별 초과근무 시간 비교",
              "xaxis": {
               "categoryarray": [
                "Strategy Office",
                "Finance Office",
                "Planning Division (직속)"
               ],
               "categoryorder": "array",
               "title": "Office"
              }
             }
            ],
            "label": "Planning Division",
            "method": "update"
           },
           {
            "args": [
             {
              "visible": [
               false,
               false,
               false,
               false,
               false,
               false,
               true,
               true,
               true,
               false,
               false,
               false,
               false,
               false,
               false
              ]
             },
             {
              "title": "Sales Division 내 Office별 초과근무 시간 비교",
              "xaxis": {
               "categoryarray": [
                "Marketing Office",
                "Domestic Sales Office",
                "Global Sales Office",
                "Sales Division (직속)"
               ],
               "categoryorder": "array",
               "title": "Office"
              }
             }
            ],
            "label": "Sales Division",
            "method": "update"
           },
           {
            "args": [
             {
              "visible": [
               false,
               false,
               false,
               false,
               false,
               false,
               false,
               false,
               false,
               true,
               true,
               true,
               false,
               false,
               false
              ]
             },
             {
              "title": "Development Division 내 Office별 초과근무 시간 비교",
              "xaxis": {
               "categoryarray": [
                "R&D Office",
                "QA Office",
                "Development Division (직속)"
               ],
               "categoryorder": "array",
               "title": "Office"
              }
             }
            ],
            "label": "Development Division",
            "method": "update"
           },
           {
            "args": [
             {
              "visible": [
               false,
               false,
               false,
               false,
               false,
               false,
               false,
               false,
               false,
               false,
               false,
               false,
               true,
               true,
               true
              ]
             },
             {
              "title": "Operating Division 내 Office별 초과근무 시간 비교",
              "xaxis": {
               "categoryarray": [
                "Engineering Office",
                "Production Office",
                "Operating Division (직속)"
               ],
               "categoryorder": "array",
               "title": "Office"
              }
             }
            ],
            "label": "Operating Division",
            "method": "update"
           }
          ],
          "direction": "down",
          "pad": {
           "r": 10,
           "t": 10
          },
          "showactive": true,
          "x": 0.01,
          "xanchor": "left",
          "y": 1.1,
          "yanchor": "top"
         }
        ],
        "yaxis": {
         "range": [
          -6.352515968178047,
          33.74633080432792
         ],
         "title": {
          "text": "일평균 초과근무 시간 (분)"
         }
        }
       }
      }
     },
     "metadata": {},
     "output_type": "display_data"
    }
   ],
   "source": [
    "import pandas as pd\n",
    "import numpy as np\n",
    "import plotly.graph_objects as go\n",
    "import plotly.io as pio\n",
    "import plotly.express as px\n",
    "import datetime\n",
    "\n",
    "# --- 1. 데이터 임포트 ---\n",
    "from services.tables.HR_Core.department_info_table import department_info_df\n",
    "from services.tables.Time_Attendance.daily_working_info_table import daily_work_info_df\n",
    "from services.tables.HR_Core.department_table import (\n",
    "    dept_level_map, parent_map_dept, dept_name_map,\n",
    "    division_order, office_order\n",
    ")\n",
    "from services.helpers.utils import find_parents\n",
    "\n",
    "def create_figure():\n",
    "    \"\"\"\n",
    "    제안 15: 부서 변경 전후 초과근무 패턴 분석 그래프를 생성합니다.\n",
    "    \"\"\"\n",
    "    # --- 2. 데이터 준비 및 가공 ---\n",
    "    # 2-1. '부서 변경' 이벤트 추출\n",
    "    dept_changes = department_info_df.sort_values(['EMP_ID', 'DEP_APP_START_DATE'])\n",
    "    dept_changes['PREV_DEP_ID'] = dept_changes.groupby('EMP_ID')['DEP_ID'].shift(1)\n",
    "    dept_changes = dept_changes[dept_changes['PREV_DEP_ID'].notna() & (dept_changes['DEP_ID'] != dept_changes['PREV_DEP_ID'])].copy()\n",
    "    dept_changes = dept_changes.rename(columns={'DEP_APP_START_DATE': 'CHANGE_DATE'})\n",
    "\n",
    "    # 분석 기간 제한\n",
    "    start_date_filter = pd.to_datetime('2022-01-01')\n",
    "    daily_work_filtered_df = daily_work_info_df[daily_work_info_df['DATE'] >= start_date_filter].copy()\n",
    "\n",
    "    # 2-2. 변경 전/후 3개월간의 초과근무 데이터 계산\n",
    "    pattern_records = []\n",
    "    if not dept_changes.empty:\n",
    "        for _, row in dept_changes.iterrows():\n",
    "            emp_id, change_date = row['EMP_ID'], row['CHANGE_DATE']\n",
    "            before_start, after_end = change_date - pd.DateOffset(months=3), change_date + pd.DateOffset(months=3)\n",
    "            emp_work_df = daily_work_filtered_df[daily_work_filtered_df['EMP_ID'] == emp_id]\n",
    "            ot_before = emp_work_df[emp_work_df['DATE'].between(before_start, change_date - pd.DateOffset(days=1))]['OVERTIME_MINUTES'].mean()\n",
    "            ot_after = emp_work_df[emp_work_df['DATE'].between(change_date, after_end)]['OVERTIME_MINUTES'].mean()\n",
    "            if pd.notna(ot_before) and pd.notna(ot_after):\n",
    "                pattern_records.append({'EMP_ID': emp_id, 'CHANGE_DATE': change_date, 'NEW_DEP_ID': row['DEP_ID'], 'OT_BEFORE': ot_before, 'OT_AFTER': ot_after})\n",
    "    analysis_df = pd.DataFrame(pattern_records)\n",
    "\n",
    "    # 2-3. 조직별 평소 평균 초과근무 시간 계산\n",
    "    if not analysis_df.empty:\n",
    "        daily_work_with_dept = pd.merge_asof(daily_work_filtered_df.sort_values('DATE'), department_info_df.sort_values('DEP_APP_START_DATE'), left_on='DATE', right_on='DEP_APP_START_DATE', by='EMP_ID', direction='backward')\n",
    "        parent_info_daily = daily_work_with_dept['DEP_ID'].apply(lambda x: find_parents(x, dept_level_map, parent_map_dept, dept_name_map))\n",
    "        daily_work_with_dept = pd.concat([daily_work_with_dept, parent_info_daily], axis=1)\n",
    "        daily_work_with_dept = daily_work_with_dept.dropna(subset=['DIVISION_NAME', 'OFFICE_NAME'])\n",
    "        div_overall_avg = daily_work_with_dept.groupby('DIVISION_NAME', observed=False)['OVERTIME_MINUTES'].mean().reset_index().rename(columns={'OVERTIME_MINUTES': 'DEPT_AVG'})\n",
    "        office_overall_avg = daily_work_with_dept.groupby(['DIVISION_NAME','OFFICE_NAME'], observed=False)['OVERTIME_MINUTES'].mean().reset_index().rename(columns={'OVERTIME_MINUTES': 'DEPT_AVG'})\n",
    "\n",
    "        parent_info = analysis_df['NEW_DEP_ID'].apply(lambda x: find_parents(x, dept_level_map, parent_map_dept, dept_name_map))\n",
    "        analysis_df = pd.concat([analysis_df, parent_info], axis=1)\n",
    "        analysis_df = analysis_df.dropna(subset=['DIVISION_NAME', 'OFFICE_NAME'])\n",
    "        div_summary = analysis_df.groupby('DIVISION_NAME', observed=False)[['OT_BEFORE', 'OT_AFTER']].mean()\n",
    "        div_summary = pd.merge(div_summary, div_overall_avg, on='DIVISION_NAME').reset_index()\n",
    "        office_summary = analysis_df.groupby(['DIVISION_NAME', 'OFFICE_NAME'], observed=False)[['OT_BEFORE', 'OT_AFTER']].mean()\n",
    "        office_summary = pd.merge(office_summary, office_overall_avg, on=['DIVISION_NAME','OFFICE_NAME']).reset_index()\n",
    "\n",
    "        div_summary['DIVISION_NAME'] = pd.Categorical(div_summary['DIVISION_NAME'], categories=division_order, ordered=True)\n",
    "        div_summary = div_summary.sort_values('DIVISION_NAME')\n",
    "        office_summary['OFFICE_NAME'] = pd.Categorical(office_summary['OFFICE_NAME'], categories=office_order, ordered=True)\n",
    "        office_summary = office_summary.sort_values('OFFICE_NAME')\n",
    "\n",
    "        all_values = pd.concat([\n",
    "            div_summary['OT_BEFORE'], div_summary['OT_AFTER'], div_summary['DEPT_AVG'],\n",
    "            office_summary['OT_BEFORE'], office_summary['OT_AFTER'], office_summary['DEPT_AVG']\n",
    "        ])\n",
    "        y_min, y_max = all_values.min(), all_values.max()\n",
    "        y_padding = (y_max - y_min) * 0.1\n",
    "        fixed_y_range = [y_min - y_padding, y_max + y_padding]\n",
    "\n",
    "    # --- 3. Plotly 인터랙티브 그래프 생성 ---\n",
    "    fig = go.Figure()\n",
    "    periods = {'변경 전': 'OT_BEFORE', '변경 후': 'OT_AFTER', '부서 평균': 'DEPT_AVG'}\n",
    "    if not analysis_df.empty:\n",
    "        for period_name, col_name in periods.items():\n",
    "            fig.add_trace(go.Bar(x=div_summary['DIVISION_NAME'], y=div_summary[col_name], name=period_name))\n",
    "        \n",
    "        office_traces_map = {}\n",
    "        trace_idx_counter = len(fig.data)\n",
    "        for div_name in division_order:\n",
    "            office_div_df = office_summary[office_summary['DIVISION_NAME'] == div_name]\n",
    "            office_traces_map[div_name] = []\n",
    "            for period_name, col_name in periods.items():\n",
    "                if not office_div_df.empty:\n",
    "                    fig.add_trace(go.Bar(x=office_div_df['OFFICE_NAME'], y=office_div_df[col_name], name=period_name, visible=False))\n",
    "                    office_traces_map[div_name].append(trace_idx_counter)\n",
    "                    trace_idx_counter += 1\n",
    "        \n",
    "        buttons = []\n",
    "        buttons.append(dict(label='전체', method='update', args=[{'visible': [True]*3 + [False]*(len(fig.data)-3)}, {'title': '부서 변경 전후 3개월간 일평균 초과근무 시간 비교', 'xaxis': {'title': 'Division', 'categoryorder':'array', 'categoryarray': division_order}}]))\n",
    "        for div_name in division_order:\n",
    "            visibility_mask = [False] * len(fig.data)\n",
    "            for trace_idx in office_traces_map.get(div_name, []):\n",
    "                visibility_mask[trace_idx] = True\n",
    "            offices_in_div = office_summary[office_summary['DIVISION_NAME'] == div_name]['OFFICE_NAME'].unique().tolist()\n",
    "            buttons.append(dict(label=f'{div_name}', method='update', args=[{'visible': visibility_mask}, {'title': f'{div_name} 내 Office별 초과근무 시간 비교', 'xaxis': {'title': 'Office', 'categoryorder':'array', 'categoryarray': offices_in_div}}]))\n",
    "            \n",
    "        fig.update_layout(\n",
    "            updatemenus=[dict(active=0, buttons=buttons, direction=\"down\", pad={\"r\": 10, \"t\": 10}, showactive=True, x=0.01, xanchor=\"left\", y=1.1, yanchor=\"top\")],\n",
    "            title_text='부서변경 전후 초과근무 패턴 분석',\n",
    "            yaxis_title='일평균 초과근무 시간 (분)',\n",
    "            font_size=14, height=700, barmode='group', legend_title_text='시점',\n",
    "            annotations=[dict(text=\"조직 선택:\", showarrow=False, x=0, y=1.08, yref=\"paper\", align=\"left\")],\n",
    "            yaxis_range=fixed_y_range\n",
    "        )\n",
    "    else:\n",
    "        fig.update_layout(title_text=\"분석할 부서 변경 데이터가 없습니다.\")\n",
    "        \n",
    "    return fig\n",
    "\n",
    "\n",
    "\n",
    "pio.renderers.default = 'vscode'\n",
    "fig = create_figure()\n",
    "fig.show()"
   ]
  },
  {
   "cell_type": "code",
   "execution_count": 2,
   "id": "f186caa0-d9d6-4097-bdef-5d55a7ddb0bc",
   "metadata": {},
   "outputs": [
    {
     "data": {
      "application/vnd.plotly.v1+json": {
       "config": {
        "plotlyServerURL": "https://plot.ly"
       },
       "data": [
        {
         "name": "변경 전",
         "type": "bar",
         "x": [
          "Planning Division",
          "Sales Division",
          "Development Division",
          "Operating Division"
         ],
         "y": {
          "bdata": "6Z0HEdmCLEBr5JKh1QsoQKkCF0hlDjRAEUT5GW4gJkA=",
          "dtype": "f8"
         }
        },
        {
         "name": "변경 후",
         "type": "bar",
         "x": [
          "Planning Division",
          "Sales Division",
          "Development Division",
          "Operating Division"
         ],
         "y": {
          "bdata": "lYanHR7zL0DJq6d7LNYiQGau9cP6mjhASK6wF9aLIkA=",
          "dtype": "f8"
         }
        },
        {
         "name": "부서 평균",
         "type": "bar",
         "x": [
          "Planning Division",
          "Sales Division",
          "Development Division",
          "Operating Division"
         ],
         "y": {
          "bdata": "wZEj/REsNkBbdQL9qFAlQHk4gW4lkjVAU6td22i2JEA=",
          "dtype": "f8"
         }
        },
        {
         "name": "변경 전",
         "type": "bar",
         "visible": false,
         "x": [
          "Strategy Office",
          "Finance Office"
         ],
         "y": {
          "bdata": "Q0jAt7DgLEDOZ0lH8ugrQA==",
          "dtype": "f8"
         }
        },
        {
         "name": "변경 후",
         "type": "bar",
         "visible": false,
         "x": [
          "Strategy Office",
          "Finance Office"
         ],
         "y": {
          "bdata": "LtIoHEyyNkAy85vZMM4TQA==",
          "dtype": "f8"
         }
        },
        {
         "name": "부서 평균",
         "type": "bar",
         "visible": false,
         "x": [
          "Strategy Office",
          "Finance Office"
         ],
         "y": {
          "bdata": "iFmsQn22PEA3ljqZw9skQA==",
          "dtype": "f8"
         }
        },
        {
         "name": "변경 전",
         "type": "bar",
         "visible": false,
         "x": [
          "Marketing Office",
          "Domestic Sales Office",
          "Global Sales Office"
         ],
         "y": {
          "bdata": "RSi7hJ3ZLkBRG6e/Q64mQDoqOXIkECJA",
          "dtype": "f8"
         }
        },
        {
         "name": "변경 후",
         "type": "bar",
         "visible": false,
         "x": [
          "Marketing Office",
          "Domestic Sales Office",
          "Global Sales Office"
         ],
         "y": {
          "bdata": "FUrk/JVOKkCok66WCFcmQCgIz0d6WA9A",
          "dtype": "f8"
         }
        },
        {
         "name": "부서 평균",
         "type": "bar",
         "visible": false,
         "x": [
          "Marketing Office",
          "Domestic Sales Office",
          "Global Sales Office"
         ],
         "y": {
          "bdata": "nLWjj8wGJ0BhQ/Mntn4hQLBD8A/NUCdA",
          "dtype": "f8"
         }
        },
        {
         "name": "변경 전",
         "type": "bar",
         "visible": false,
         "x": [
          "R&D Office",
          "QA Office"
         ],
         "y": {
          "bdata": "zoU9sQ7HM0CGdhTuBmw0QA==",
          "dtype": "f8"
         }
        },
        {
         "name": "변경 후",
         "type": "bar",
         "visible": false,
         "x": [
          "R&D Office",
          "QA Office"
         ],
         "y": {
          "bdata": "sTfCZXcsP0BndDJfDvgvQA==",
          "dtype": "f8"
         }
        },
        {
         "name": "부서 평균",
         "type": "bar",
         "visible": false,
         "x": [
          "R&D Office",
          "QA Office"
         ],
         "y": {
          "bdata": "H4W+sCTqPEBrrUuvTucnQA==",
          "dtype": "f8"
         }
        },
        {
         "name": "변경 전",
         "type": "bar",
         "visible": false,
         "x": [
          "Engineering Office",
          "Production Office"
         ],
         "y": {
          "bdata": "GWYaX3QqJUBXpm6Aa4YmQA==",
          "dtype": "f8"
         }
        },
        {
         "name": "변경 후",
         "type": "bar",
         "visible": false,
         "x": [
          "Engineering Office",
          "Production Office"
         ],
         "y": {
          "bdata": "791d/GdsJUBHlJTkbVohQA==",
          "dtype": "f8"
         }
        },
        {
         "name": "부서 평균",
         "type": "bar",
         "visible": false,
         "x": [
          "Engineering Office",
          "Production Office"
         ],
         "y": {
          "bdata": "8TEKNQcCI0D7TeVrPcAlQA==",
          "dtype": "f8"
         }
        }
       ],
       "layout": {
        "annotations": [
         {
          "align": "left",
          "showarrow": false,
          "text": "조직 선택:",
          "x": 0,
          "y": 1.08,
          "yref": "paper"
         }
        ],
        "barmode": "group",
        "font": {
         "size": 14
        },
        "height": 700,
        "legend": {
         "title": {
          "text": "시점"
         }
        },
        "template": {
         "data": {
          "bar": [
           {
            "error_x": {
             "color": "#2a3f5f"
            },
            "error_y": {
             "color": "#2a3f5f"
            },
            "marker": {
             "line": {
              "color": "#E5ECF6",
              "width": 0.5
             },
             "pattern": {
              "fillmode": "overlay",
              "size": 10,
              "solidity": 0.2
             }
            },
            "type": "bar"
           }
          ],
          "barpolar": [
           {
            "marker": {
             "line": {
              "color": "#E5ECF6",
              "width": 0.5
             },
             "pattern": {
              "fillmode": "overlay",
              "size": 10,
              "solidity": 0.2
             }
            },
            "type": "barpolar"
           }
          ],
          "carpet": [
           {
            "aaxis": {
             "endlinecolor": "#2a3f5f",
             "gridcolor": "white",
             "linecolor": "white",
             "minorgridcolor": "white",
             "startlinecolor": "#2a3f5f"
            },
            "baxis": {
             "endlinecolor": "#2a3f5f",
             "gridcolor": "white",
             "linecolor": "white",
             "minorgridcolor": "white",
             "startlinecolor": "#2a3f5f"
            },
            "type": "carpet"
           }
          ],
          "choropleth": [
           {
            "colorbar": {
             "outlinewidth": 0,
             "ticks": ""
            },
            "type": "choropleth"
           }
          ],
          "contour": [
           {
            "colorbar": {
             "outlinewidth": 0,
             "ticks": ""
            },
            "colorscale": [
             [
              0,
              "#0d0887"
             ],
             [
              0.1111111111111111,
              "#46039f"
             ],
             [
              0.2222222222222222,
              "#7201a8"
             ],
             [
              0.3333333333333333,
              "#9c179e"
             ],
             [
              0.4444444444444444,
              "#bd3786"
             ],
             [
              0.5555555555555556,
              "#d8576b"
             ],
             [
              0.6666666666666666,
              "#ed7953"
             ],
             [
              0.7777777777777778,
              "#fb9f3a"
             ],
             [
              0.8888888888888888,
              "#fdca26"
             ],
             [
              1,
              "#f0f921"
             ]
            ],
            "type": "contour"
           }
          ],
          "contourcarpet": [
           {
            "colorbar": {
             "outlinewidth": 0,
             "ticks": ""
            },
            "type": "contourcarpet"
           }
          ],
          "heatmap": [
           {
            "colorbar": {
             "outlinewidth": 0,
             "ticks": ""
            },
            "colorscale": [
             [
              0,
              "#0d0887"
             ],
             [
              0.1111111111111111,
              "#46039f"
             ],
             [
              0.2222222222222222,
              "#7201a8"
             ],
             [
              0.3333333333333333,
              "#9c179e"
             ],
             [
              0.4444444444444444,
              "#bd3786"
             ],
             [
              0.5555555555555556,
              "#d8576b"
             ],
             [
              0.6666666666666666,
              "#ed7953"
             ],
             [
              0.7777777777777778,
              "#fb9f3a"
             ],
             [
              0.8888888888888888,
              "#fdca26"
             ],
             [
              1,
              "#f0f921"
             ]
            ],
            "type": "heatmap"
           }
          ],
          "histogram": [
           {
            "marker": {
             "pattern": {
              "fillmode": "overlay",
              "size": 10,
              "solidity": 0.2
             }
            },
            "type": "histogram"
           }
          ],
          "histogram2d": [
           {
            "colorbar": {
             "outlinewidth": 0,
             "ticks": ""
            },
            "colorscale": [
             [
              0,
              "#0d0887"
             ],
             [
              0.1111111111111111,
              "#46039f"
             ],
             [
              0.2222222222222222,
              "#7201a8"
             ],
             [
              0.3333333333333333,
              "#9c179e"
             ],
             [
              0.4444444444444444,
              "#bd3786"
             ],
             [
              0.5555555555555556,
              "#d8576b"
             ],
             [
              0.6666666666666666,
              "#ed7953"
             ],
             [
              0.7777777777777778,
              "#fb9f3a"
             ],
             [
              0.8888888888888888,
              "#fdca26"
             ],
             [
              1,
              "#f0f921"
             ]
            ],
            "type": "histogram2d"
           }
          ],
          "histogram2dcontour": [
           {
            "colorbar": {
             "outlinewidth": 0,
             "ticks": ""
            },
            "colorscale": [
             [
              0,
              "#0d0887"
             ],
             [
              0.1111111111111111,
              "#46039f"
             ],
             [
              0.2222222222222222,
              "#7201a8"
             ],
             [
              0.3333333333333333,
              "#9c179e"
             ],
             [
              0.4444444444444444,
              "#bd3786"
             ],
             [
              0.5555555555555556,
              "#d8576b"
             ],
             [
              0.6666666666666666,
              "#ed7953"
             ],
             [
              0.7777777777777778,
              "#fb9f3a"
             ],
             [
              0.8888888888888888,
              "#fdca26"
             ],
             [
              1,
              "#f0f921"
             ]
            ],
            "type": "histogram2dcontour"
           }
          ],
          "mesh3d": [
           {
            "colorbar": {
             "outlinewidth": 0,
             "ticks": ""
            },
            "type": "mesh3d"
           }
          ],
          "parcoords": [
           {
            "line": {
             "colorbar": {
              "outlinewidth": 0,
              "ticks": ""
             }
            },
            "type": "parcoords"
           }
          ],
          "pie": [
           {
            "automargin": true,
            "type": "pie"
           }
          ],
          "scatter": [
           {
            "fillpattern": {
             "fillmode": "overlay",
             "size": 10,
             "solidity": 0.2
            },
            "type": "scatter"
           }
          ],
          "scatter3d": [
           {
            "line": {
             "colorbar": {
              "outlinewidth": 0,
              "ticks": ""
             }
            },
            "marker": {
             "colorbar": {
              "outlinewidth": 0,
              "ticks": ""
             }
            },
            "type": "scatter3d"
           }
          ],
          "scattercarpet": [
           {
            "marker": {
             "colorbar": {
              "outlinewidth": 0,
              "ticks": ""
             }
            },
            "type": "scattercarpet"
           }
          ],
          "scattergeo": [
           {
            "marker": {
             "colorbar": {
              "outlinewidth": 0,
              "ticks": ""
             }
            },
            "type": "scattergeo"
           }
          ],
          "scattergl": [
           {
            "marker": {
             "colorbar": {
              "outlinewidth": 0,
              "ticks": ""
             }
            },
            "type": "scattergl"
           }
          ],
          "scattermap": [
           {
            "marker": {
             "colorbar": {
              "outlinewidth": 0,
              "ticks": ""
             }
            },
            "type": "scattermap"
           }
          ],
          "scattermapbox": [
           {
            "marker": {
             "colorbar": {
              "outlinewidth": 0,
              "ticks": ""
             }
            },
            "type": "scattermapbox"
           }
          ],
          "scatterpolar": [
           {
            "marker": {
             "colorbar": {
              "outlinewidth": 0,
              "ticks": ""
             }
            },
            "type": "scatterpolar"
           }
          ],
          "scatterpolargl": [
           {
            "marker": {
             "colorbar": {
              "outlinewidth": 0,
              "ticks": ""
             }
            },
            "type": "scatterpolargl"
           }
          ],
          "scatterternary": [
           {
            "marker": {
             "colorbar": {
              "outlinewidth": 0,
              "ticks": ""
             }
            },
            "type": "scatterternary"
           }
          ],
          "surface": [
           {
            "colorbar": {
             "outlinewidth": 0,
             "ticks": ""
            },
            "colorscale": [
             [
              0,
              "#0d0887"
             ],
             [
              0.1111111111111111,
              "#46039f"
             ],
             [
              0.2222222222222222,
              "#7201a8"
             ],
             [
              0.3333333333333333,
              "#9c179e"
             ],
             [
              0.4444444444444444,
              "#bd3786"
             ],
             [
              0.5555555555555556,
              "#d8576b"
             ],
             [
              0.6666666666666666,
              "#ed7953"
             ],
             [
              0.7777777777777778,
              "#fb9f3a"
             ],
             [
              0.8888888888888888,
              "#fdca26"
             ],
             [
              1,
              "#f0f921"
             ]
            ],
            "type": "surface"
           }
          ],
          "table": [
           {
            "cells": {
             "fill": {
              "color": "#EBF0F8"
             },
             "line": {
              "color": "white"
             }
            },
            "header": {
             "fill": {
              "color": "#C8D4E3"
             },
             "line": {
              "color": "white"
             }
            },
            "type": "table"
           }
          ]
         },
         "layout": {
          "annotationdefaults": {
           "arrowcolor": "#2a3f5f",
           "arrowhead": 0,
           "arrowwidth": 1
          },
          "autotypenumbers": "strict",
          "coloraxis": {
           "colorbar": {
            "outlinewidth": 0,
            "ticks": ""
           }
          },
          "colorscale": {
           "diverging": [
            [
             0,
             "#8e0152"
            ],
            [
             0.1,
             "#c51b7d"
            ],
            [
             0.2,
             "#de77ae"
            ],
            [
             0.3,
             "#f1b6da"
            ],
            [
             0.4,
             "#fde0ef"
            ],
            [
             0.5,
             "#f7f7f7"
            ],
            [
             0.6,
             "#e6f5d0"
            ],
            [
             0.7,
             "#b8e186"
            ],
            [
             0.8,
             "#7fbc41"
            ],
            [
             0.9,
             "#4d9221"
            ],
            [
             1,
             "#276419"
            ]
           ],
           "sequential": [
            [
             0,
             "#0d0887"
            ],
            [
             0.1111111111111111,
             "#46039f"
            ],
            [
             0.2222222222222222,
             "#7201a8"
            ],
            [
             0.3333333333333333,
             "#9c179e"
            ],
            [
             0.4444444444444444,
             "#bd3786"
            ],
            [
             0.5555555555555556,
             "#d8576b"
            ],
            [
             0.6666666666666666,
             "#ed7953"
            ],
            [
             0.7777777777777778,
             "#fb9f3a"
            ],
            [
             0.8888888888888888,
             "#fdca26"
            ],
            [
             1,
             "#f0f921"
            ]
           ],
           "sequentialminus": [
            [
             0,
             "#0d0887"
            ],
            [
             0.1111111111111111,
             "#46039f"
            ],
            [
             0.2222222222222222,
             "#7201a8"
            ],
            [
             0.3333333333333333,
             "#9c179e"
            ],
            [
             0.4444444444444444,
             "#bd3786"
            ],
            [
             0.5555555555555556,
             "#d8576b"
            ],
            [
             0.6666666666666666,
             "#ed7953"
            ],
            [
             0.7777777777777778,
             "#fb9f3a"
            ],
            [
             0.8888888888888888,
             "#fdca26"
            ],
            [
             1,
             "#f0f921"
            ]
           ]
          },
          "colorway": [
           "#636efa",
           "#EF553B",
           "#00cc96",
           "#ab63fa",
           "#FFA15A",
           "#19d3f3",
           "#FF6692",
           "#B6E880",
           "#FF97FF",
           "#FECB52"
          ],
          "font": {
           "color": "#2a3f5f"
          },
          "geo": {
           "bgcolor": "white",
           "lakecolor": "white",
           "landcolor": "#E5ECF6",
           "showlakes": true,
           "showland": true,
           "subunitcolor": "white"
          },
          "hoverlabel": {
           "align": "left"
          },
          "hovermode": "closest",
          "mapbox": {
           "style": "light"
          },
          "paper_bgcolor": "white",
          "plot_bgcolor": "#E5ECF6",
          "polar": {
           "angularaxis": {
            "gridcolor": "white",
            "linecolor": "white",
            "ticks": ""
           },
           "bgcolor": "#E5ECF6",
           "radialaxis": {
            "gridcolor": "white",
            "linecolor": "white",
            "ticks": ""
           }
          },
          "scene": {
           "xaxis": {
            "backgroundcolor": "#E5ECF6",
            "gridcolor": "white",
            "gridwidth": 2,
            "linecolor": "white",
            "showbackground": true,
            "ticks": "",
            "zerolinecolor": "white"
           },
           "yaxis": {
            "backgroundcolor": "#E5ECF6",
            "gridcolor": "white",
            "gridwidth": 2,
            "linecolor": "white",
            "showbackground": true,
            "ticks": "",
            "zerolinecolor": "white"
           },
           "zaxis": {
            "backgroundcolor": "#E5ECF6",
            "gridcolor": "white",
            "gridwidth": 2,
            "linecolor": "white",
            "showbackground": true,
            "ticks": "",
            "zerolinecolor": "white"
           }
          },
          "shapedefaults": {
           "line": {
            "color": "#2a3f5f"
           }
          },
          "ternary": {
           "aaxis": {
            "gridcolor": "white",
            "linecolor": "white",
            "ticks": ""
           },
           "baxis": {
            "gridcolor": "white",
            "linecolor": "white",
            "ticks": ""
           },
           "bgcolor": "#E5ECF6",
           "caxis": {
            "gridcolor": "white",
            "linecolor": "white",
            "ticks": ""
           }
          },
          "title": {
           "x": 0.05
          },
          "xaxis": {
           "automargin": true,
           "gridcolor": "white",
           "linecolor": "white",
           "ticks": "",
           "title": {
            "standoff": 15
           },
           "zerolinecolor": "white",
           "zerolinewidth": 2
          },
          "yaxis": {
           "automargin": true,
           "gridcolor": "white",
           "linecolor": "white",
           "ticks": "",
           "title": {
            "standoff": 15
           },
           "zerolinecolor": "white",
           "zerolinewidth": 2
          }
         }
        },
        "title": {
         "text": "부서변경 전후 초과근무 패턴 분석"
        },
        "updatemenus": [
         {
          "active": 0,
          "buttons": [
           {
            "args": [
             {
              "visible": [
               true,
               true,
               true,
               false,
               false,
               false,
               false,
               false,
               false,
               false,
               false,
               false,
               false,
               false,
               false
              ]
             },
             {
              "title": "부서 변경 전후 3개월간 일평균 초과근무 시간 비교",
              "xaxis": {
               "categoryarray": [
                "Planning Division",
                "Sales Division",
                "Development Division",
                "Operating Division"
               ],
               "categoryorder": "array",
               "title": "Division"
              }
             }
            ],
            "label": "전체",
            "method": "update"
           },
           {
            "args": [
             {
              "visible": [
               false,
               false,
               false,
               true,
               true,
               true,
               false,
               false,
               false,
               false,
               false,
               false,
               false,
               false,
               false
              ]
             },
             {
              "title": "Planning Division 내 Office별 초과근무 시간 비교",
              "xaxis": {
               "categoryarray": [
                "Strategy Office",
                "Finance Office"
               ],
               "categoryorder": "array",
               "title": "Office"
              }
             }
            ],
            "label": "Planning Division",
            "method": "update"
           },
           {
            "args": [
             {
              "visible": [
               false,
               false,
               false,
               false,
               false,
               false,
               true,
               true,
               true,
               false,
               false,
               false,
               false,
               false,
               false
              ]
             },
             {
              "title": "Sales Division 내 Office별 초과근무 시간 비교",
              "xaxis": {
               "categoryarray": [
                "Marketing Office",
                "Domestic Sales Office",
                "Global Sales Office"
               ],
               "categoryorder": "array",
               "title": "Office"
              }
             }
            ],
            "label": "Sales Division",
            "method": "update"
           },
           {
            "args": [
             {
              "visible": [
               false,
               false,
               false,
               false,
               false,
               false,
               false,
               false,
               false,
               true,
               true,
               true,
               false,
               false,
               false
              ]
             },
             {
              "title": "Development Division 내 Office별 초과근무 시간 비교",
              "xaxis": {
               "categoryarray": [
                "R&D Office",
                "QA Office"
               ],
               "categoryorder": "array",
               "title": "Office"
              }
             }
            ],
            "label": "Development Division",
            "method": "update"
           },
           {
            "args": [
             {
              "visible": [
               false,
               false,
               false,
               false,
               false,
               false,
               false,
               false,
               false,
               false,
               false,
               false,
               true,
               true,
               true
              ]
             },
             {
              "title": "Operating Division 내 Office별 초과근무 시간 비교",
              "xaxis": {
               "categoryarray": [
                "Engineering Office",
                "Production Office"
               ],
               "categoryorder": "array",
               "title": "Office"
              }
             }
            ],
            "label": "Operating Division",
            "method": "update"
           }
          ],
          "direction": "down",
          "pad": {
           "r": 10,
           "t": 10
          },
          "showactive": true,
          "x": 0.01,
          "xanchor": "left",
          "y": 1.1,
          "yanchor": "top"
         }
        ],
        "yaxis": {
         "range": [
          1.1926524935860945,
          33.899246349151106
         ],
         "title": {
          "text": "일평균 초과근무 시간 (분)"
         }
        }
       }
      }
     },
     "metadata": {},
     "output_type": "display_data"
    },
    {
     "name": "stdout",
     "output_type": "stream",
     "text": [
      "\n",
      "--- Aggregate DataFrame ---\n"
     ]
    },
    {
     "data": {
      "text/html": [
       "<div>\n",
       "<style scoped>\n",
       "    .dataframe tbody tr th:only-of-type {\n",
       "        vertical-align: middle;\n",
       "    }\n",
       "\n",
       "    .dataframe tbody tr th {\n",
       "        vertical-align: top;\n",
       "    }\n",
       "\n",
       "    .dataframe thead th {\n",
       "        text-align: right;\n",
       "    }\n",
       "</style>\n",
       "<table border=\"1\" class=\"dataframe\">\n",
       "  <thead>\n",
       "    <tr style=\"text-align: right;\">\n",
       "      <th>DIVISION_NAME</th>\n",
       "      <th>전체 평균</th>\n",
       "      <th>Planning Division</th>\n",
       "      <th>Sales Division</th>\n",
       "      <th>Development Division</th>\n",
       "      <th>Operating Division</th>\n",
       "    </tr>\n",
       "    <tr>\n",
       "      <th>시점</th>\n",
       "      <th></th>\n",
       "      <th></th>\n",
       "      <th></th>\n",
       "      <th></th>\n",
       "      <th></th>\n",
       "    </tr>\n",
       "  </thead>\n",
       "  <tbody>\n",
       "    <tr>\n",
       "      <th>변경 전</th>\n",
       "      <td>14.30</td>\n",
       "      <td>14.26</td>\n",
       "      <td>12.02</td>\n",
       "      <td>20.06</td>\n",
       "      <td>11.06</td>\n",
       "    </tr>\n",
       "    <tr>\n",
       "      <th>변경 후</th>\n",
       "      <td>14.56</td>\n",
       "      <td>15.97</td>\n",
       "      <td>9.42</td>\n",
       "      <td>24.61</td>\n",
       "      <td>9.27</td>\n",
       "    </tr>\n",
       "    <tr>\n",
       "      <th>부서 평균</th>\n",
       "      <td>16.16</td>\n",
       "      <td>22.17</td>\n",
       "      <td>10.66</td>\n",
       "      <td>21.57</td>\n",
       "      <td>10.36</td>\n",
       "    </tr>\n",
       "  </tbody>\n",
       "</table>\n",
       "</div>"
      ],
      "text/plain": [
       "DIVISION_NAME  전체 평균  Planning Division  Sales Division  Development Division  \\\n",
       "시점                                                                              \n",
       "변경 전           14.30              14.26           12.02                 20.06   \n",
       "변경 후           14.56              15.97            9.42                 24.61   \n",
       "부서 평균          16.16              22.17           10.66                 21.57   \n",
       "\n",
       "DIVISION_NAME  Operating Division  \n",
       "시점                                 \n",
       "변경 전                        11.06  \n",
       "변경 후                         9.27  \n",
       "부서 평균                       10.36  "
      ]
     },
     "execution_count": 2,
     "metadata": {},
     "output_type": "execute_result"
    }
   ],
   "source": [
    "import pandas as pd\n",
    "import numpy as np\n",
    "import plotly.graph_objects as go\n",
    "import plotly.io as pio\n",
    "import plotly.express as px\n",
    "import datetime\n",
    "\n",
    "# --- 1. 데이터 임포트 ---\n",
    "from services.tables.HR_Core.department_info_table import department_info_df\n",
    "from services.tables.Time_Attendance.daily_working_info_table import daily_work_info_df\n",
    "from services.tables.HR_Core.department_table import (\n",
    "    dept_level_map, parent_map_dept, dept_name_map,\n",
    "    division_order, office_order\n",
    ")\n",
    "from services.helpers.utils import find_parents\n",
    "\n",
    "def create_figure_and_df():\n",
    "    \"\"\"\n",
    "    제안 15: 부서 변경 전후 초과근무 패턴 분석 그래프 및 피벗 테이블을 생성합니다.\n",
    "    \"\"\"\n",
    "    # --- 2. 데이터 준비 및 가공 ---\n",
    "    dept_changes = department_info_df.sort_values(['EMP_ID', 'DEP_APP_START_DATE'])\n",
    "    dept_changes['PREV_DEP_ID'] = dept_changes.groupby('EMP_ID')['DEP_ID'].shift(1)\n",
    "    dept_changes = dept_changes[dept_changes['PREV_DEP_ID'].notna() & (dept_changes['DEP_ID'] != dept_changes['PREV_DEP_ID'])].copy()\n",
    "    dept_changes = dept_changes.rename(columns={'DEP_APP_START_DATE': 'CHANGE_DATE'})\n",
    "\n",
    "    start_date_filter = pd.to_datetime('2022-01-01')\n",
    "    daily_work_filtered_df = daily_work_info_df[daily_work_info_df['DATE'] >= start_date_filter].copy()\n",
    "\n",
    "    pattern_records = []\n",
    "    if not dept_changes.empty:\n",
    "        for _, row in dept_changes.iterrows():\n",
    "            emp_id, change_date = row['EMP_ID'], row['CHANGE_DATE']\n",
    "            before_start, after_end = change_date - pd.DateOffset(months=3), change_date + pd.DateOffset(months=3)\n",
    "            emp_work_df = daily_work_filtered_df[daily_work_filtered_df['EMP_ID'] == emp_id]\n",
    "            ot_before = emp_work_df[emp_work_df['DATE'].between(before_start, change_date - pd.DateOffset(days=1))]['OVERTIME_MINUTES'].mean()\n",
    "            ot_after = emp_work_df[emp_work_df['DATE'].between(change_date, after_end)]['OVERTIME_MINUTES'].mean()\n",
    "            if pd.notna(ot_before) and pd.notna(ot_after):\n",
    "                pattern_records.append({'EMP_ID': emp_id, 'CHANGE_DATE': change_date, 'NEW_DEP_ID': row['DEP_ID'], 'OT_BEFORE': ot_before, 'OT_AFTER': ot_after})\n",
    "    analysis_df = pd.DataFrame(pattern_records)\n",
    "\n",
    "    if not analysis_df.empty:\n",
    "        daily_work_with_dept = pd.merge_asof(daily_work_filtered_df.sort_values('DATE'), department_info_df.sort_values('DEP_APP_START_DATE'), left_on='DATE', right_on='DEP_APP_START_DATE', by='EMP_ID', direction='backward')\n",
    "        parent_info_daily = daily_work_with_dept['DEP_ID'].apply(lambda x: find_parents(x, dept_level_map, parent_map_dept, dept_name_map))\n",
    "        daily_work_with_dept = pd.concat([daily_work_with_dept, parent_info_daily], axis=1)\n",
    "        daily_work_with_dept = daily_work_with_dept.dropna(subset=['DIVISION_NAME', 'OFFICE_NAME'])\n",
    "        div_overall_avg = daily_work_with_dept.groupby('DIVISION_NAME', observed=False)['OVERTIME_MINUTES'].mean().reset_index().rename(columns={'OVERTIME_MINUTES': 'DEPT_AVG'})\n",
    "        office_overall_avg = daily_work_with_dept.groupby(['DIVISION_NAME','OFFICE_NAME'], observed=False)['OVERTIME_MINUTES'].mean().reset_index().rename(columns={'OVERTIME_MINUTES': 'DEPT_AVG'})\n",
    "        \n",
    "        parent_info = analysis_df['NEW_DEP_ID'].apply(lambda x: find_parents(x, dept_level_map, parent_map_dept, dept_name_map))\n",
    "        analysis_df_with_org = pd.concat([analysis_df, parent_info], axis=1)\n",
    "        analysis_df_with_org = analysis_df_with_org.dropna(subset=['DIVISION_NAME', 'OFFICE_NAME'])\n",
    "        div_summary = analysis_df_with_org.groupby('DIVISION_NAME', observed=False)[['OT_BEFORE', 'OT_AFTER']].mean()\n",
    "        div_summary = pd.merge(div_summary, div_overall_avg, on='DIVISION_NAME').reset_index()\n",
    "        office_summary = analysis_df_with_org.groupby(['DIVISION_NAME', 'OFFICE_NAME'], observed=False)[['OT_BEFORE', 'OT_AFTER']].mean()\n",
    "        office_summary = pd.merge(office_summary, office_overall_avg, on=['DIVISION_NAME','OFFICE_NAME']).reset_index()\n",
    "        \n",
    "        div_summary['DIVISION_NAME'] = pd.Categorical(div_summary['DIVISION_NAME'], categories=division_order, ordered=True)\n",
    "        div_summary = div_summary.sort_values('DIVISION_NAME')\n",
    "        office_summary['OFFICE_NAME'] = pd.Categorical(office_summary['OFFICE_NAME'], categories=office_order, ordered=True)\n",
    "        office_summary = office_summary.sort_values('OFFICE_NAME')\n",
    "        \n",
    "        all_values = pd.concat([div_summary['OT_BEFORE'], div_summary['OT_AFTER'], div_summary['DEPT_AVG'], office_summary['OT_BEFORE'], office_summary['OT_AFTER'], office_summary['DEPT_AVG']])\n",
    "        y_min, y_max = (all_values.min(), all_values.max()) if not all_values.empty else (0,0)\n",
    "        y_padding = (y_max - y_min) * 0.1\n",
    "        fixed_y_range = [y_min - y_padding, y_max + y_padding]\n",
    "        \n",
    "        # --- 3. Plotly 인터랙티브 그래프 생성 ---\n",
    "        # (그래프 생성 코드는 이전과 동일)\n",
    "        fig = go.Figure()\n",
    "        periods = {'변경 전': 'OT_BEFORE', '변경 후': 'OT_AFTER', '부서 평균': 'DEPT_AVG'}\n",
    "        for period_name, col_name in periods.items():\n",
    "            fig.add_trace(go.Bar(x=div_summary['DIVISION_NAME'], y=div_summary[col_name], name=period_name))\n",
    "        office_traces_map = {}\n",
    "        trace_idx_counter = len(fig.data)\n",
    "        for div_name in division_order:\n",
    "            office_div_df = office_summary[office_summary['DIVISION_NAME'] == div_name]\n",
    "            office_traces_map[div_name] = []\n",
    "            for period_name, col_name in periods.items():\n",
    "                if not office_div_df.empty:\n",
    "                    fig.add_trace(go.Bar(x=office_div_df['OFFICE_NAME'], y=office_div_df[col_name], name=period_name, visible=False))\n",
    "                    office_traces_map[div_name].append(trace_idx_counter)\n",
    "                    trace_idx_counter += 1\n",
    "        buttons = []\n",
    "        buttons.append(dict(label='전체', method='update', args=[{'visible': [True]*3 + [False]*(len(fig.data)-3)}, {'title': '부서 변경 전후 3개월간 일평균 초과근무 시간 비교', 'xaxis': {'title': 'Division', 'categoryorder':'array', 'categoryarray': division_order}}]))\n",
    "        for div_name in division_order:\n",
    "            visibility_mask = [False] * len(fig.data)\n",
    "            for trace_idx in office_traces_map.get(div_name, []):\n",
    "                visibility_mask[trace_idx] = True\n",
    "            offices_in_div = office_summary[office_summary['DIVISION_NAME'] == div_name]['OFFICE_NAME'].unique().tolist()\n",
    "            buttons.append(dict(label=f'{div_name}', method='update', args=[{'visible': visibility_mask}, {'title': f'{div_name} 내 Office별 초과근무 시간 비교', 'xaxis': {'title': 'Office', 'categoryorder':'array', 'categoryarray': offices_in_div}}]))\n",
    "        fig.update_layout(\n",
    "            updatemenus=[dict(active=0, buttons=buttons, direction=\"down\", pad={\"r\": 10, \"t\": 10}, showactive=True, x=0.01, xanchor=\"left\", y=1.1, yanchor=\"top\")],\n",
    "            title_text='부서변경 전후 초과근무 패턴 분석', yaxis_title='일평균 초과근무 시간 (분)',\n",
    "            font_size=14, height=700, barmode='group', legend_title_text='시점',\n",
    "            annotations=[dict(text=\"조직 선택:\", showarrow=False, x=0, y=1.08, yref=\"paper\", align=\"left\")],\n",
    "            yaxis_range=fixed_y_range\n",
    "        )\n",
    "    else:\n",
    "        fig = go.Figure()\n",
    "        fig.update_layout(title_text=\"분석할 부서 변경 데이터가 없습니다.\")\n",
    "        div_summary = pd.DataFrame() # 빈 데이터프레임 생성\n",
    "        \n",
    "    # --- 수정된 부분: aggregate_df 생성 ---\n",
    "    # 1. 피벗 테이블 생성을 위해 데이터프레임 변환\n",
    "    aggregate_df = div_summary.melt(\n",
    "        id_vars=['DIVISION_NAME'],\n",
    "        value_vars=['OT_BEFORE', 'OT_AFTER', 'DEPT_AVG'],\n",
    "        var_name='TIMING',\n",
    "        value_name='AVG_OVERTIME'\n",
    "    ).rename(columns={'TIMING': '시점'})\n",
    "    \n",
    "    # 2. '시점' 이름 변경\n",
    "    aggregate_df['시점'] = aggregate_df['시점'].map({\n",
    "        'OT_BEFORE': '변경 전',\n",
    "        'OT_AFTER': '변경 후',\n",
    "        'DEPT_AVG': '부서 평균'\n",
    "    })\n",
    "\n",
    "    # 3. 피벗 테이블 생성\n",
    "    aggregate_df = aggregate_df.pivot_table(\n",
    "        index='시점',\n",
    "        columns='DIVISION_NAME',\n",
    "        values='AVG_OVERTIME',\n",
    "        observed=False\n",
    "    )\n",
    "    \n",
    "    # 4. '전체 평균' 컬럼 추가\n",
    "    overall_avg = analysis_df[['OT_BEFORE', 'OT_AFTER']].mean()\n",
    "    overall_dept_avg = daily_work_with_dept['OVERTIME_MINUTES'].mean()\n",
    "    aggregate_df['전체 평균'] = [overall_avg['OT_BEFORE'], overall_avg['OT_AFTER'], overall_dept_avg]\n",
    "    \n",
    "    # 5. 컬럼/행 순서 재배치 및 포맷팅\n",
    "    cols = ['전체 평균'] + [col for col in division_order if col in aggregate_df.columns]\n",
    "    aggregate_df = aggregate_df[cols]\n",
    "    row_order = ['변경 전', '변경 후', '부서 평균']\n",
    "    aggregate_df = aggregate_df.reindex(row_order).round(2)\n",
    "    # --- 수정 완료 ---\n",
    "    \n",
    "    return fig, aggregate_df\n",
    "\n",
    "# --- 실행 코드 ---\n",
    "pio.renderers.default = 'vscode'\n",
    "fig, aggregate_df = create_figure_and_df()\n",
    "fig.show()\n",
    "\n",
    "print(\"\\n--- Aggregate DataFrame ---\")\n",
    "aggregate_df"
   ]
  },
  {
   "cell_type": "code",
   "execution_count": null,
   "id": "0dd49b3b",
   "metadata": {},
   "outputs": [],
   "source": []
  }
 ],
 "metadata": {
  "kernelspec": {
   "display_name": "Python 3 (ipykernel)",
   "language": "python",
   "name": "python3"
  },
  "language_info": {
   "codemirror_mode": {
    "name": "ipython",
    "version": 3
   },
   "file_extension": ".py",
   "mimetype": "text/x-python",
   "name": "python",
   "nbconvert_exporter": "python",
   "pygments_lexer": "ipython3",
   "version": "3.12.11"
  }
 },
 "nbformat": 4,
 "nbformat_minor": 5
}
