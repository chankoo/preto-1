{
 "cells": [
  {
   "cell_type": "code",
   "execution_count": 1,
   "id": "33e3ec07",
   "metadata": {},
   "outputs": [
    {
     "name": "stderr",
     "output_type": "stream",
     "text": [
      "/app/src/services/tables/Time_Attendance/detailed_working_info_table.py:79: FutureWarning: Downcasting object dtype arrays on .fillna, .ffill, .bfill is deprecated and will change in a future version. Call result.infer_objects(copy=False) instead. To opt-in to the future behavior, set `pd.set_option('future.no_silent_downcasting', True)`\n",
      "  df['IS_VACATION'] = df['IS_VACATION'].fillna(False).astype(bool)\n"
     ]
    },
    {
     "data": {
      "application/vnd.plotly.v1+json": {
       "config": {
        "plotlyServerURL": "https://plot.ly"
       },
       "data": [
        {
         "line": {
          "color": "red"
         },
         "mode": "lines+markers+text",
         "name": "퇴사자",
         "text": [
          "4.78",
          "3.39",
          "2.87",
          "2.72",
          "2.39",
          "2.08",
          "2.01",
          "2.12",
          "1.92",
          "1.91",
          "1.91",
          "1.45"
         ],
         "textposition": "top center",
         "type": "scatter",
         "visible": true,
         "x": {
          "bdata": "9PX29/j5+vv8/f7/",
          "dtype": "i1"
         },
         "y": {
          "bdata": "IyMjIyMjE0ApWBQsChYLQFeg0FNE/QZACar0M6fBBUAq8lk3mCIDQKJ2JWpXogBA0iAN0iANAEBVsPpUsPoAQHOrM1Ixt/4/SuMjE+id/j//fDgNoZL+P7SahCj+Ivc/",
          "dtype": "f8"
         }
        },
        {
         "line": {
          "color": "grey",
          "dash": "dash"
         },
         "mode": "lines",
         "name": "재직자(기준선)",
         "type": "scatter",
         "visible": true,
         "x": {
          "bdata": "9PX29/j5+vv8/f7/",
          "dtype": "i1"
         },
         "y": [
          1.4351562500000001,
          1.4351562500000001,
          1.4351562500000001,
          1.4351562500000001,
          1.4351562500000001,
          1.4351562500000001,
          1.4351562500000001,
          1.4351562500000001,
          1.4351562500000001,
          1.4351562500000001,
          1.4351562500000001,
          1.4351562500000001
         ]
        },
        {
         "line": {
          "color": "red"
         },
         "mode": "lines+markers+text",
         "name": "퇴사자",
         "text": [
          "4.63",
          "3.4",
          "2.95",
          "2.66",
          "2.43",
          "2.12",
          "1.95",
          "2.11",
          "1.93",
          "1.94",
          "1.89",
          "1.45"
         ],
         "textposition": "top center",
         "type": "scatter",
         "visible": false,
         "x": {
          "bdata": "9PX29/j5+vv8/f7/",
          "dtype": "i1"
         },
         "y": {
          "bdata": "vJV9DqmJEkDmBDyfHjcLQKJuBi07ngdAw3azPIlMBUCptlwljWoDQJB+9KMf/QBAfqJ60Mg7/z8EkdYL2OYAQJ9J9J5J9P4/V6wBV6wB/z/yN/mb/E3+P11BTK4gJvc/",
          "dtype": "f8"
         }
        },
        {
         "line": {
          "color": "grey",
          "dash": "dash"
         },
         "mode": "lines",
         "name": "재직자(기준선)",
         "type": "scatter",
         "visible": false,
         "x": {
          "bdata": "9PX29/j5+vv8/f7/",
          "dtype": "i1"
         },
         "y": [
          1.5277777777777777,
          1.5277777777777777,
          1.5277777777777777,
          1.5277777777777777,
          1.5277777777777777,
          1.5277777777777777,
          1.5277777777777777,
          1.5277777777777777,
          1.5277777777777777,
          1.5277777777777777,
          1.5277777777777777,
          1.5277777777777777
         ]
        },
        {
         "line": {
          "color": "red"
         },
         "mode": "lines+markers+text",
         "name": "퇴사자",
         "text": [
          "5.01",
          "3.41",
          "2.73",
          "2.91",
          "2.31",
          "1.97",
          "2.16",
          "2.16",
          "1.87",
          "1.86",
          "1.93",
          "1.43"
         ],
         "textposition": "top center",
         "type": "scatter",
         "visible": false,
         "x": {
          "bdata": "9PX29/j5+vv8/f7/",
          "dtype": "i1"
         },
         "y": {
          "bdata": "kYUsZCELFEALtEALtEALQJqZmZmZ2QVAQacNdNpAB0Acx3Ecx3ECQIQPPvjgg/8/rdRKrdRKAUDhV2MiPVABQHZd13Vd1/0/HlsRNJzU/T9cMgTraPP+P+miiy666PY/",
          "dtype": "f8"
         }
        },
        {
         "line": {
          "color": "grey",
          "dash": "dash"
         },
         "mode": "lines",
         "name": "재직자(기준선)",
         "type": "scatter",
         "visible": false,
         "x": {
          "bdata": "9PX29/j5+vv8/f7/",
          "dtype": "i1"
         },
         "y": [
          1.5471014492753623,
          1.5471014492753623,
          1.5471014492753623,
          1.5471014492753623,
          1.5471014492753623,
          1.5471014492753623,
          1.5471014492753623,
          1.5471014492753623,
          1.5471014492753623,
          1.5471014492753623,
          1.5471014492753623,
          1.5471014492753623
         ]
        },
        {
         "line": {
          "color": "red"
         },
         "mode": "lines+markers+text",
         "name": "퇴사자",
         "text": [
          "10.25",
          "0.75",
          "0.75",
          "1.25",
          "2.25",
          "1.75",
          "1.5",
          "1.0",
          "2.5",
          "1.5",
          "3.0",
          "2.0"
         ],
         "textposition": "top center",
         "type": "scatter",
         "visible": false,
         "x": {
          "bdata": "9PX29/j5+vv8/f7/",
          "dtype": "i1"
         },
         "y": {
          "bdata": "AAAAAACAJEAAAAAAAADoPwAAAAAAAOg/AAAAAAAA9D8AAAAAAAACQAAAAAAAAPw/AAAAAAAA+D8AAAAAAADwPwAAAAAAAARAAAAAAAAA+D8AAAAAAAAIQAAAAAAAAABA",
          "dtype": "f8"
         }
        },
        {
         "line": {
          "color": "grey",
          "dash": "dash"
         },
         "mode": "lines",
         "name": "재직자(기준선)",
         "type": "scatter",
         "visible": false,
         "x": {
          "bdata": "9PX29/j5+vv8/f7/",
          "dtype": "i1"
         },
         "y": [
          1.3541666666666667,
          1.3541666666666667,
          1.3541666666666667,
          1.3541666666666667,
          1.3541666666666667,
          1.3541666666666667,
          1.3541666666666667,
          1.3541666666666667,
          1.3541666666666667,
          1.3541666666666667,
          1.3541666666666667,
          1.3541666666666667
         ]
        }
       ],
       "layout": {
        "annotations": [
         {
          "align": "left",
          "showarrow": false,
          "text": "직위 선택:",
          "x": 0,
          "y": 1.08,
          "yref": "paper"
         }
        ],
        "font": {
         "size": 14
        },
        "height": 700,
        "template": {
         "data": {
          "bar": [
           {
            "error_x": {
             "color": "#2a3f5f"
            },
            "error_y": {
             "color": "#2a3f5f"
            },
            "marker": {
             "line": {
              "color": "#E5ECF6",
              "width": 0.5
             },
             "pattern": {
              "fillmode": "overlay",
              "size": 10,
              "solidity": 0.2
             }
            },
            "type": "bar"
           }
          ],
          "barpolar": [
           {
            "marker": {
             "line": {
              "color": "#E5ECF6",
              "width": 0.5
             },
             "pattern": {
              "fillmode": "overlay",
              "size": 10,
              "solidity": 0.2
             }
            },
            "type": "barpolar"
           }
          ],
          "carpet": [
           {
            "aaxis": {
             "endlinecolor": "#2a3f5f",
             "gridcolor": "white",
             "linecolor": "white",
             "minorgridcolor": "white",
             "startlinecolor": "#2a3f5f"
            },
            "baxis": {
             "endlinecolor": "#2a3f5f",
             "gridcolor": "white",
             "linecolor": "white",
             "minorgridcolor": "white",
             "startlinecolor": "#2a3f5f"
            },
            "type": "carpet"
           }
          ],
          "choropleth": [
           {
            "colorbar": {
             "outlinewidth": 0,
             "ticks": ""
            },
            "type": "choropleth"
           }
          ],
          "contour": [
           {
            "colorbar": {
             "outlinewidth": 0,
             "ticks": ""
            },
            "colorscale": [
             [
              0,
              "#0d0887"
             ],
             [
              0.1111111111111111,
              "#46039f"
             ],
             [
              0.2222222222222222,
              "#7201a8"
             ],
             [
              0.3333333333333333,
              "#9c179e"
             ],
             [
              0.4444444444444444,
              "#bd3786"
             ],
             [
              0.5555555555555556,
              "#d8576b"
             ],
             [
              0.6666666666666666,
              "#ed7953"
             ],
             [
              0.7777777777777778,
              "#fb9f3a"
             ],
             [
              0.8888888888888888,
              "#fdca26"
             ],
             [
              1,
              "#f0f921"
             ]
            ],
            "type": "contour"
           }
          ],
          "contourcarpet": [
           {
            "colorbar": {
             "outlinewidth": 0,
             "ticks": ""
            },
            "type": "contourcarpet"
           }
          ],
          "heatmap": [
           {
            "colorbar": {
             "outlinewidth": 0,
             "ticks": ""
            },
            "colorscale": [
             [
              0,
              "#0d0887"
             ],
             [
              0.1111111111111111,
              "#46039f"
             ],
             [
              0.2222222222222222,
              "#7201a8"
             ],
             [
              0.3333333333333333,
              "#9c179e"
             ],
             [
              0.4444444444444444,
              "#bd3786"
             ],
             [
              0.5555555555555556,
              "#d8576b"
             ],
             [
              0.6666666666666666,
              "#ed7953"
             ],
             [
              0.7777777777777778,
              "#fb9f3a"
             ],
             [
              0.8888888888888888,
              "#fdca26"
             ],
             [
              1,
              "#f0f921"
             ]
            ],
            "type": "heatmap"
           }
          ],
          "histogram": [
           {
            "marker": {
             "pattern": {
              "fillmode": "overlay",
              "size": 10,
              "solidity": 0.2
             }
            },
            "type": "histogram"
           }
          ],
          "histogram2d": [
           {
            "colorbar": {
             "outlinewidth": 0,
             "ticks": ""
            },
            "colorscale": [
             [
              0,
              "#0d0887"
             ],
             [
              0.1111111111111111,
              "#46039f"
             ],
             [
              0.2222222222222222,
              "#7201a8"
             ],
             [
              0.3333333333333333,
              "#9c179e"
             ],
             [
              0.4444444444444444,
              "#bd3786"
             ],
             [
              0.5555555555555556,
              "#d8576b"
             ],
             [
              0.6666666666666666,
              "#ed7953"
             ],
             [
              0.7777777777777778,
              "#fb9f3a"
             ],
             [
              0.8888888888888888,
              "#fdca26"
             ],
             [
              1,
              "#f0f921"
             ]
            ],
            "type": "histogram2d"
           }
          ],
          "histogram2dcontour": [
           {
            "colorbar": {
             "outlinewidth": 0,
             "ticks": ""
            },
            "colorscale": [
             [
              0,
              "#0d0887"
             ],
             [
              0.1111111111111111,
              "#46039f"
             ],
             [
              0.2222222222222222,
              "#7201a8"
             ],
             [
              0.3333333333333333,
              "#9c179e"
             ],
             [
              0.4444444444444444,
              "#bd3786"
             ],
             [
              0.5555555555555556,
              "#d8576b"
             ],
             [
              0.6666666666666666,
              "#ed7953"
             ],
             [
              0.7777777777777778,
              "#fb9f3a"
             ],
             [
              0.8888888888888888,
              "#fdca26"
             ],
             [
              1,
              "#f0f921"
             ]
            ],
            "type": "histogram2dcontour"
           }
          ],
          "mesh3d": [
           {
            "colorbar": {
             "outlinewidth": 0,
             "ticks": ""
            },
            "type": "mesh3d"
           }
          ],
          "parcoords": [
           {
            "line": {
             "colorbar": {
              "outlinewidth": 0,
              "ticks": ""
             }
            },
            "type": "parcoords"
           }
          ],
          "pie": [
           {
            "automargin": true,
            "type": "pie"
           }
          ],
          "scatter": [
           {
            "fillpattern": {
             "fillmode": "overlay",
             "size": 10,
             "solidity": 0.2
            },
            "type": "scatter"
           }
          ],
          "scatter3d": [
           {
            "line": {
             "colorbar": {
              "outlinewidth": 0,
              "ticks": ""
             }
            },
            "marker": {
             "colorbar": {
              "outlinewidth": 0,
              "ticks": ""
             }
            },
            "type": "scatter3d"
           }
          ],
          "scattercarpet": [
           {
            "marker": {
             "colorbar": {
              "outlinewidth": 0,
              "ticks": ""
             }
            },
            "type": "scattercarpet"
           }
          ],
          "scattergeo": [
           {
            "marker": {
             "colorbar": {
              "outlinewidth": 0,
              "ticks": ""
             }
            },
            "type": "scattergeo"
           }
          ],
          "scattergl": [
           {
            "marker": {
             "colorbar": {
              "outlinewidth": 0,
              "ticks": ""
             }
            },
            "type": "scattergl"
           }
          ],
          "scattermap": [
           {
            "marker": {
             "colorbar": {
              "outlinewidth": 0,
              "ticks": ""
             }
            },
            "type": "scattermap"
           }
          ],
          "scattermapbox": [
           {
            "marker": {
             "colorbar": {
              "outlinewidth": 0,
              "ticks": ""
             }
            },
            "type": "scattermapbox"
           }
          ],
          "scatterpolar": [
           {
            "marker": {
             "colorbar": {
              "outlinewidth": 0,
              "ticks": ""
             }
            },
            "type": "scatterpolar"
           }
          ],
          "scatterpolargl": [
           {
            "marker": {
             "colorbar": {
              "outlinewidth": 0,
              "ticks": ""
             }
            },
            "type": "scatterpolargl"
           }
          ],
          "scatterternary": [
           {
            "marker": {
             "colorbar": {
              "outlinewidth": 0,
              "ticks": ""
             }
            },
            "type": "scatterternary"
           }
          ],
          "surface": [
           {
            "colorbar": {
             "outlinewidth": 0,
             "ticks": ""
            },
            "colorscale": [
             [
              0,
              "#0d0887"
             ],
             [
              0.1111111111111111,
              "#46039f"
             ],
             [
              0.2222222222222222,
              "#7201a8"
             ],
             [
              0.3333333333333333,
              "#9c179e"
             ],
             [
              0.4444444444444444,
              "#bd3786"
             ],
             [
              0.5555555555555556,
              "#d8576b"
             ],
             [
              0.6666666666666666,
              "#ed7953"
             ],
             [
              0.7777777777777778,
              "#fb9f3a"
             ],
             [
              0.8888888888888888,
              "#fdca26"
             ],
             [
              1,
              "#f0f921"
             ]
            ],
            "type": "surface"
           }
          ],
          "table": [
           {
            "cells": {
             "fill": {
              "color": "#EBF0F8"
             },
             "line": {
              "color": "white"
             }
            },
            "header": {
             "fill": {
              "color": "#C8D4E3"
             },
             "line": {
              "color": "white"
             }
            },
            "type": "table"
           }
          ]
         },
         "layout": {
          "annotationdefaults": {
           "arrowcolor": "#2a3f5f",
           "arrowhead": 0,
           "arrowwidth": 1
          },
          "autotypenumbers": "strict",
          "coloraxis": {
           "colorbar": {
            "outlinewidth": 0,
            "ticks": ""
           }
          },
          "colorscale": {
           "diverging": [
            [
             0,
             "#8e0152"
            ],
            [
             0.1,
             "#c51b7d"
            ],
            [
             0.2,
             "#de77ae"
            ],
            [
             0.3,
             "#f1b6da"
            ],
            [
             0.4,
             "#fde0ef"
            ],
            [
             0.5,
             "#f7f7f7"
            ],
            [
             0.6,
             "#e6f5d0"
            ],
            [
             0.7,
             "#b8e186"
            ],
            [
             0.8,
             "#7fbc41"
            ],
            [
             0.9,
             "#4d9221"
            ],
            [
             1,
             "#276419"
            ]
           ],
           "sequential": [
            [
             0,
             "#0d0887"
            ],
            [
             0.1111111111111111,
             "#46039f"
            ],
            [
             0.2222222222222222,
             "#7201a8"
            ],
            [
             0.3333333333333333,
             "#9c179e"
            ],
            [
             0.4444444444444444,
             "#bd3786"
            ],
            [
             0.5555555555555556,
             "#d8576b"
            ],
            [
             0.6666666666666666,
             "#ed7953"
            ],
            [
             0.7777777777777778,
             "#fb9f3a"
            ],
            [
             0.8888888888888888,
             "#fdca26"
            ],
            [
             1,
             "#f0f921"
            ]
           ],
           "sequentialminus": [
            [
             0,
             "#0d0887"
            ],
            [
             0.1111111111111111,
             "#46039f"
            ],
            [
             0.2222222222222222,
             "#7201a8"
            ],
            [
             0.3333333333333333,
             "#9c179e"
            ],
            [
             0.4444444444444444,
             "#bd3786"
            ],
            [
             0.5555555555555556,
             "#d8576b"
            ],
            [
             0.6666666666666666,
             "#ed7953"
            ],
            [
             0.7777777777777778,
             "#fb9f3a"
            ],
            [
             0.8888888888888888,
             "#fdca26"
            ],
            [
             1,
             "#f0f921"
            ]
           ]
          },
          "colorway": [
           "#636efa",
           "#EF553B",
           "#00cc96",
           "#ab63fa",
           "#FFA15A",
           "#19d3f3",
           "#FF6692",
           "#B6E880",
           "#FF97FF",
           "#FECB52"
          ],
          "font": {
           "color": "#2a3f5f"
          },
          "geo": {
           "bgcolor": "white",
           "lakecolor": "white",
           "landcolor": "#E5ECF6",
           "showlakes": true,
           "showland": true,
           "subunitcolor": "white"
          },
          "hoverlabel": {
           "align": "left"
          },
          "hovermode": "closest",
          "mapbox": {
           "style": "light"
          },
          "paper_bgcolor": "white",
          "plot_bgcolor": "#E5ECF6",
          "polar": {
           "angularaxis": {
            "gridcolor": "white",
            "linecolor": "white",
            "ticks": ""
           },
           "bgcolor": "#E5ECF6",
           "radialaxis": {
            "gridcolor": "white",
            "linecolor": "white",
            "ticks": ""
           }
          },
          "scene": {
           "xaxis": {
            "backgroundcolor": "#E5ECF6",
            "gridcolor": "white",
            "gridwidth": 2,
            "linecolor": "white",
            "showbackground": true,
            "ticks": "",
            "zerolinecolor": "white"
           },
           "yaxis": {
            "backgroundcolor": "#E5ECF6",
            "gridcolor": "white",
            "gridwidth": 2,
            "linecolor": "white",
            "showbackground": true,
            "ticks": "",
            "zerolinecolor": "white"
           },
           "zaxis": {
            "backgroundcolor": "#E5ECF6",
            "gridcolor": "white",
            "gridwidth": 2,
            "linecolor": "white",
            "showbackground": true,
            "ticks": "",
            "zerolinecolor": "white"
           }
          },
          "shapedefaults": {
           "line": {
            "color": "#2a3f5f"
           }
          },
          "ternary": {
           "aaxis": {
            "gridcolor": "white",
            "linecolor": "white",
            "ticks": ""
           },
           "baxis": {
            "gridcolor": "white",
            "linecolor": "white",
            "ticks": ""
           },
           "bgcolor": "#E5ECF6",
           "caxis": {
            "gridcolor": "white",
            "linecolor": "white",
            "ticks": ""
           }
          },
          "title": {
           "x": 0.05
          },
          "xaxis": {
           "automargin": true,
           "gridcolor": "white",
           "linecolor": "white",
           "ticks": "",
           "title": {
            "standoff": 15
           },
           "zerolinecolor": "white",
           "zerolinewidth": 2
          },
          "yaxis": {
           "automargin": true,
           "gridcolor": "white",
           "linecolor": "white",
           "ticks": "",
           "title": {
            "standoff": 15
           },
           "zerolinecolor": "white",
           "zerolinewidth": 2
          }
         }
        },
        "title": {
         "text": "퇴사 직전 12개월간 월 평균 총 휴가 사용일수 비교"
        },
        "updatemenus": [
         {
          "active": 0,
          "buttons": [
           {
            "args": [
             {
              "visible": [
               true,
               true,
               false,
               false,
               false,
               false,
               false,
               false
              ]
             }
            ],
            "label": "전체",
            "method": "update"
           },
           {
            "args": [
             {
              "visible": [
               false,
               false,
               true,
               true,
               false,
               false,
               false,
               false
              ]
             }
            ],
            "label": "Staff",
            "method": "update"
           },
           {
            "args": [
             {
              "visible": [
               false,
               false,
               false,
               false,
               true,
               true,
               false,
               false
              ]
             }
            ],
            "label": "Manager",
            "method": "update"
           },
           {
            "args": [
             {
              "visible": [
               false,
               false,
               false,
               false,
               false,
               false,
               true,
               true
              ]
             }
            ],
            "label": "Director",
            "method": "update"
           }
          ],
          "direction": "down",
          "pad": {
           "r": 10,
           "t": 10
          },
          "showactive": true,
          "x": 0.01,
          "xanchor": "left",
          "y": 1.1,
          "yanchor": "top"
         }
        ],
        "xaxis": {
         "title": {
          "text": "퇴사 N개월 전"
         }
        },
        "yaxis": {
         "range": [
          0,
          12.299999999999999
         ],
         "title": {
          "text": "월 평균 총 휴가 사용일수"
         }
        }
       }
      }
     },
     "metadata": {},
     "output_type": "display_data"
    },
    {
     "name": "stdout",
     "output_type": "stream",
     "text": [
      "\n",
      "--- Aggregate DataFrame ---\n"
     ]
    },
    {
     "data": {
      "text/html": [
       "<div>\n",
       "<style scoped>\n",
       "    .dataframe tbody tr th:only-of-type {\n",
       "        vertical-align: middle;\n",
       "    }\n",
       "\n",
       "    .dataframe tbody tr th {\n",
       "        vertical-align: top;\n",
       "    }\n",
       "\n",
       "    .dataframe thead th {\n",
       "        text-align: right;\n",
       "    }\n",
       "</style>\n",
       "<table border=\"1\" class=\"dataframe\">\n",
       "  <thead>\n",
       "    <tr style=\"text-align: right;\">\n",
       "      <th>POSITION_NAME</th>\n",
       "      <th>전체 평균</th>\n",
       "      <th>Staff</th>\n",
       "      <th>Manager</th>\n",
       "      <th>Director</th>\n",
       "    </tr>\n",
       "  </thead>\n",
       "  <tbody>\n",
       "    <tr>\n",
       "      <th>1개월 전</th>\n",
       "      <td>1.45</td>\n",
       "      <td>1.45</td>\n",
       "      <td>1.43</td>\n",
       "      <td>2.00</td>\n",
       "    </tr>\n",
       "    <tr>\n",
       "      <th>2개월 전</th>\n",
       "      <td>1.91</td>\n",
       "      <td>1.89</td>\n",
       "      <td>1.93</td>\n",
       "      <td>3.00</td>\n",
       "    </tr>\n",
       "    <tr>\n",
       "      <th>3개월 전</th>\n",
       "      <td>1.91</td>\n",
       "      <td>1.94</td>\n",
       "      <td>1.86</td>\n",
       "      <td>1.50</td>\n",
       "    </tr>\n",
       "    <tr>\n",
       "      <th>4개월 전</th>\n",
       "      <td>1.92</td>\n",
       "      <td>1.93</td>\n",
       "      <td>1.87</td>\n",
       "      <td>2.50</td>\n",
       "    </tr>\n",
       "    <tr>\n",
       "      <th>5개월 전</th>\n",
       "      <td>2.12</td>\n",
       "      <td>2.11</td>\n",
       "      <td>2.16</td>\n",
       "      <td>1.00</td>\n",
       "    </tr>\n",
       "    <tr>\n",
       "      <th>6개월 전</th>\n",
       "      <td>2.01</td>\n",
       "      <td>1.95</td>\n",
       "      <td>2.16</td>\n",
       "      <td>1.50</td>\n",
       "    </tr>\n",
       "    <tr>\n",
       "      <th>7개월 전</th>\n",
       "      <td>2.08</td>\n",
       "      <td>2.12</td>\n",
       "      <td>1.97</td>\n",
       "      <td>1.75</td>\n",
       "    </tr>\n",
       "    <tr>\n",
       "      <th>8개월 전</th>\n",
       "      <td>2.39</td>\n",
       "      <td>2.43</td>\n",
       "      <td>2.31</td>\n",
       "      <td>2.25</td>\n",
       "    </tr>\n",
       "    <tr>\n",
       "      <th>9개월 전</th>\n",
       "      <td>2.72</td>\n",
       "      <td>2.66</td>\n",
       "      <td>2.91</td>\n",
       "      <td>1.25</td>\n",
       "    </tr>\n",
       "    <tr>\n",
       "      <th>10개월 전</th>\n",
       "      <td>2.87</td>\n",
       "      <td>2.95</td>\n",
       "      <td>2.73</td>\n",
       "      <td>0.75</td>\n",
       "    </tr>\n",
       "    <tr>\n",
       "      <th>11개월 전</th>\n",
       "      <td>3.39</td>\n",
       "      <td>3.40</td>\n",
       "      <td>3.41</td>\n",
       "      <td>0.75</td>\n",
       "    </tr>\n",
       "    <tr>\n",
       "      <th>12개월 전</th>\n",
       "      <td>4.78</td>\n",
       "      <td>4.63</td>\n",
       "      <td>5.01</td>\n",
       "      <td>10.25</td>\n",
       "    </tr>\n",
       "  </tbody>\n",
       "</table>\n",
       "</div>"
      ],
      "text/plain": [
       "POSITION_NAME  전체 평균  Staff  Manager  Director\n",
       "1개월 전           1.45   1.45     1.43      2.00\n",
       "2개월 전           1.91   1.89     1.93      3.00\n",
       "3개월 전           1.91   1.94     1.86      1.50\n",
       "4개월 전           1.92   1.93     1.87      2.50\n",
       "5개월 전           2.12   2.11     2.16      1.00\n",
       "6개월 전           2.01   1.95     2.16      1.50\n",
       "7개월 전           2.08   2.12     1.97      1.75\n",
       "8개월 전           2.39   2.43     2.31      2.25\n",
       "9개월 전           2.72   2.66     2.91      1.25\n",
       "10개월 전          2.87   2.95     2.73      0.75\n",
       "11개월 전          3.39   3.40     3.41      0.75\n",
       "12개월 전          4.78   4.63     5.01     10.25"
      ]
     },
     "execution_count": 1,
     "metadata": {},
     "output_type": "execute_result"
    }
   ],
   "source": [
    "import pandas as pd\n",
    "import numpy as np\n",
    "import plotly.graph_objects as go\n",
    "import plotly.io as pio\n",
    "import datetime\n",
    "\n",
    "# --- 1. 데이터 임포트 ---\n",
    "from services.tables.Time_Attendance.detailed_leave_info_table import detailed_leave_info_df\n",
    "from services.tables.Time_Attendance.leave_type_table import leave_type_df\n",
    "from services.tables.HR_Core.basic_info_table import emp_df\n",
    "from services.tables.HR_Core.position_info_table import position_info_df\n",
    "from services.tables.HR_Core.position_table import position_df, position_order\n",
    "\n",
    "def create_figure_and_df():\n",
    "    \"\"\"\n",
    "    제안 19-3: 직위별 퇴사 예측 선행 지표 분석 그래프 및 피벗 테이블을 생성합니다.\n",
    "    \"\"\"\n",
    "    # --- 2. 데이터 준비 및 가공 ---\n",
    "    leave_df = detailed_leave_info_df.copy()\n",
    "    leave_df = pd.merge(leave_df, leave_type_df, on='LEAVE_TYPE_ID')\n",
    "    leave_df['DATE'] = pd.to_datetime(leave_df['DATE'])\n",
    "    leave_df['LEAVE_LENGTH'] = pd.to_numeric(leave_df['LEAVE_LENGTH'])\n",
    "\n",
    "    leavers = emp_df[emp_df['CURRENT_EMP_YN'] == 'N'][['EMP_ID', 'OUT_DATE']].copy()\n",
    "    leaver_leave_data = pd.merge(leavers, leave_df, on='EMP_ID', how='left')\n",
    "    leaver_leave_data = leaver_leave_data[\n",
    "        (leaver_leave_data['DATE'] < leaver_leave_data['OUT_DATE']) &\n",
    "        (leaver_leave_data['DATE'] >= (leaver_leave_data['OUT_DATE'] - pd.DateOffset(months=12)))\n",
    "    ].copy()\n",
    "    \n",
    "    if not leaver_leave_data.empty:\n",
    "        leaver_leave_data['MONTHS_BEFORE_LEAVING'] = (leaver_leave_data['OUT_DATE'].dt.year - leaver_leave_data['DATE'].dt.year) * 12 + (leaver_leave_data['OUT_DATE'].dt.month - leaver_leave_data['DATE'].dt.month)\n",
    "        leaver_pattern_df = leaver_leave_data.groupby(['EMP_ID', 'MONTHS_BEFORE_LEAVING'])['LEAVE_LENGTH'].sum().reset_index()\n",
    "    else:\n",
    "        leaver_pattern_df = pd.DataFrame(columns=['EMP_ID', 'MONTHS_BEFORE_LEAVING', 'LEAVE_LENGTH'])\n",
    "\n",
    "    stayers = emp_df[emp_df['CURRENT_EMP_YN'] == 'Y'].copy()\n",
    "    stayer_leaves = leave_df[(leave_df['EMP_ID'].isin(stayers['EMP_ID'])) & (leave_df['DATE'].dt.year == 2024)]\n",
    "    stayer_monthly_avg = (stayer_leaves['LEAVE_LENGTH'].sum() / stayers['EMP_ID'].nunique()) / 12 if not stayers.empty and stayers['EMP_ID'].nunique() > 0 else 0\n",
    "\n",
    "    first_pos = position_info_df.sort_values('GRADE_START_DATE').groupby('EMP_ID').first().reset_index()\n",
    "    first_pos = pd.merge(first_pos, position_df[['POSITION_ID', 'POSITION_NAME']].drop_duplicates(), on='POSITION_ID')\n",
    "    \n",
    "    leaver_pattern_df = pd.merge(leaver_pattern_df, first_pos[['EMP_ID', 'POSITION_NAME']], on='EMP_ID', how='left')\n",
    "    leaver_pattern_df = leaver_pattern_df.dropna(subset=['POSITION_NAME'])\n",
    "    \n",
    "    stayers_with_pos = pd.merge(stayers, first_pos[['EMP_ID', 'POSITION_NAME']], on='EMP_ID', how='left')\n",
    "    stayers_with_pos = stayers_with_pos.dropna(subset=['POSITION_NAME'])\n",
    "    \n",
    "    leaver_avg_by_month = leaver_pattern_df.groupby('MONTHS_BEFORE_LEAVING')['LEAVE_LENGTH'].mean().reset_index()\n",
    "    leaver_avg_by_month_pos = leaver_pattern_df.groupby(['POSITION_NAME', 'MONTHS_BEFORE_LEAVING'], observed=False)['LEAVE_LENGTH'].mean().reset_index()\n",
    "    \n",
    "    stayer_avg_by_pos = stayer_leaves.groupby('EMP_ID')['LEAVE_LENGTH'].sum().reset_index()\n",
    "    stayer_avg_by_pos = pd.merge(stayer_avg_by_pos, stayers_with_pos[['EMP_ID', 'POSITION_NAME']], on='EMP_ID').groupby('POSITION_NAME', observed=False)['LEAVE_LENGTH'].mean().reset_index()\n",
    "\n",
    "    # --- 3. Plotly 인터랙티브 그래프 생성 ---\n",
    "    # (그래프 생성 코드는 이전과 동일)\n",
    "    fig = go.Figure()\n",
    "    if not leaver_pattern_df.empty:\n",
    "        y_max = pd.concat([leaver_avg_by_month['LEAVE_LENGTH'], leaver_avg_by_month_pos['LEAVE_LENGTH']]).max()\n",
    "        fixed_y_range = [0, y_max * 1.2]\n",
    "        position_filter_list = ['전체'] + [p for p in position_order if p != 'C-Level']\n",
    "        for i, pos_name in enumerate(position_filter_list):\n",
    "            is_visible = (i == 0)\n",
    "            if pos_name == '전체':\n",
    "                leaver_data, stayer_data_y = leaver_avg_by_month, [stayer_monthly_avg] * 12\n",
    "            else:\n",
    "                leaver_data = leaver_avg_by_month_pos[leaver_avg_by_month_pos['POSITION_NAME'] == pos_name]\n",
    "                stayer_pos_avg = stayer_avg_by_pos[stayer_avg_by_pos['POSITION_NAME'] == pos_name]['LEAVE_LENGTH'].iloc[0] if not stayer_avg_by_pos[stayer_avg_by_pos['POSITION_NAME'] == pos_name].empty else 0\n",
    "                stayer_data_y = [stayer_pos_avg / 12] * 12\n",
    "            x_axis_months = -np.arange(12, 0, -1)\n",
    "            leaver_data_aligned = pd.DataFrame({'MONTHS_BEFORE_LEAVING': np.arange(1, 13)})\n",
    "            leaver_data_aligned = pd.merge(leaver_data_aligned, leaver_data, on='MONTHS_BEFORE_LEAVING', how='left').fillna(0)\n",
    "            fig.add_trace(go.Scatter(x=x_axis_months, y=leaver_data_aligned['LEAVE_LENGTH'], mode='lines+markers+text', name='퇴사자', line=dict(color='red'), visible=is_visible, text=leaver_data_aligned['LEAVE_LENGTH'].round(2).astype(str), textposition='top center'))\n",
    "            fig.add_trace(go.Scatter(x=x_axis_months, y=stayer_data_y, mode='lines', name='재직자(기준선)', line=dict(color='grey', dash='dash'), visible=is_visible))\n",
    "        buttons = []\n",
    "        for i, pos_name in enumerate(position_filter_list):\n",
    "            visibility_mask = [False] * (len(position_filter_list) * 2)\n",
    "            visibility_mask[i*2], visibility_mask[i*2 + 1] = True, True\n",
    "            buttons.append(dict(label=pos_name, method='update', args=[{'visible': visibility_mask}]))\n",
    "        fig.update_layout(\n",
    "            updatemenus=[dict(active=0, buttons=buttons, direction=\"down\", pad={\"r\": 10, \"t\": 10}, showactive=True, x=0.01, xanchor=\"left\", y=1.1, yanchor=\"top\")],\n",
    "            title_text='퇴사 직전 12개월간 월 평균 총 휴가 사용일수 비교',\n",
    "            xaxis_title='퇴사 N개월 전', yaxis_title='월 평균 총 휴가 사용일수',\n",
    "            font_size=14, height=700,\n",
    "            annotations=[dict(text=\"직위 선택:\", showarrow=False, x=0, y=1.08, yref=\"paper\", align=\"left\")],\n",
    "            yaxis_range=fixed_y_range\n",
    "        )\n",
    "    else:\n",
    "        fig.update_layout(title_text=\"분석할 퇴사자 휴가 데이터가 없습니다.\")\n",
    "        leaver_avg_by_month_pos = pd.DataFrame() # 빈 데이터프레임 생성\n",
    "        leaver_avg_by_month = pd.DataFrame() # 빈 데이터프레임 생성\n",
    "        \n",
    "    # --- 수정된 부분: aggregate_df 생성 ---\n",
    "    # 1. Position별 데이터 피벗\n",
    "    aggregate_df = leaver_avg_by_month_pos.pivot_table(\n",
    "        index='MONTHS_BEFORE_LEAVING',\n",
    "        columns='POSITION_NAME',\n",
    "        values='LEAVE_LENGTH',\n",
    "        observed=False\n",
    "    )\n",
    "    \n",
    "    # 2. '전체 평균' 데이터 추가\n",
    "    overall_pivot_df = leaver_avg_by_month.set_index('MONTHS_BEFORE_LEAVING')\n",
    "    aggregate_df['전체 평균'] = overall_pivot_df['LEAVE_LENGTH']\n",
    "    \n",
    "    # 3. 행 순서 및 인덱스 이름 변경\n",
    "    aggregate_df = aggregate_df.reindex(range(12, 0, -1)) # 12개월 전 ~ 1개월 전\n",
    "    aggregate_df.index = [f'{13-i}개월 전' for i in aggregate_df.index]\n",
    "    \n",
    "    # 4. 컬럼 순서 재배치 및 포맷팅\n",
    "    cols = ['전체 평균'] + [col for col in position_order if col in aggregate_df.columns]\n",
    "    aggregate_df = aggregate_df[cols].round(2)\n",
    "    # --- 수정 완료 ---\n",
    "\n",
    "    return fig, aggregate_df\n",
    "\n",
    "# --- 실행 코드 ---\n",
    "pio.renderers.default = 'vscode'\n",
    "fig, aggregate_df = create_figure_and_df()\n",
    "fig.show()\n",
    "\n",
    "print(\"\\n--- Aggregate DataFrame ---\")\n",
    "aggregate_df"
   ]
  },
  {
   "cell_type": "code",
   "execution_count": null,
   "id": "a63c8100",
   "metadata": {},
   "outputs": [],
   "source": []
  }
 ],
 "metadata": {
  "kernelspec": {
   "display_name": "Python 3 (ipykernel)",
   "language": "python",
   "name": "python3"
  },
  "language_info": {
   "codemirror_mode": {
    "name": "ipython",
    "version": 3
   },
   "file_extension": ".py",
   "mimetype": "text/x-python",
   "name": "python",
   "nbconvert_exporter": "python",
   "pygments_lexer": "ipython3",
   "version": "3.12.11"
  }
 },
 "nbformat": 4,
 "nbformat_minor": 5
}
