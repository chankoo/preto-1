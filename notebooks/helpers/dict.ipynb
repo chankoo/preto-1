{
 "cells": [
  {
   "cell_type": "code",
   "execution_count": 5,
   "id": "c1030fdd",
   "metadata": {},
   "outputs": [
    {
     "data": {
      "text/plain": [
       "{'basic_proposal': '기본 현황판: 인원 변동 현황',\n",
       " 'proposal_01': '승진 소요 기간',\n",
       " 'proposal_02': '승진 경로',\n",
       " 'proposal_03': '연령 분포 현황',\n",
       " 'proposal_04': '근속연수 분포 현황',\n",
       " 'proposal_05': '퇴사율 변화 추이',\n",
       " 'proposal_06': '연도별 잔존율',\n",
       " 'proposal_07': '첫 직무별 재직기간',\n",
       " 'proposal_08': '인력 유지 현황',\n",
       " 'proposal_09': '직무 이동률 추이',\n",
       " 'proposal_10': '초봉 관계 분석',\n",
       " 'proposal_11': '초과근무 분포 현황',\n",
       " 'proposal_12': '출근 문화 분석',\n",
       " 'proposal_13': '초과근무 시간 분포',\n",
       " 'proposal_14': '지각률 분포',\n",
       " 'proposal_15': '부서 변경 전후 초과근무 패턴',\n",
       " 'proposal_16': '평균 주말근무 일수',\n",
       " 'proposal_17': '요일별 업무 강도',\n",
       " 'proposal_18': '연차-병가 사용 패턴',\n",
       " 'proposal_19': '퇴사 전 휴가 패턴',\n",
       " 'proposal_20': '부서별 휴가 유형'}"
      ]
     },
     "execution_count": 5,
     "metadata": {},
     "output_type": "execute_result"
    }
   ],
   "source": [
    "proposal_list = ['basic_proposal'] + [f'proposal_0{i}' for i in range(1, 10)] + [f'proposal_{i}' for i in range(10, 21)]\n",
    "title_list = ['기본 현황판: 인원 변동 현황', '승진 소요 기간', '승진 경로', '연령 분포 현황', '근속연수 분포 현황', '퇴사율 변화 추이', '연도별 잔존율',\n",
    "              '첫 직무별 재직기간', '인력 유지 현황', '직무 이동률 추이', '초봉 관계 분석', '초과근무 분포 현황', '출근 문화 분석', '초과근무 시간 분포',\n",
    "              '지각률 분포', '부서 변경 전후 초과근무 패턴', '평균 주말근무 일수', '요일별 업무 강도', '연차-병가 사용 패턴', '퇴사 전 휴가 패턴', '부서별 휴가 유형']\n",
    "name_dictionary = {proposal:title for proposal, title in zip(proposal_list, title_list)}\n",
    "name_dictionary"
   ]
  },
  {
   "cell_type": "code",
   "execution_count": null,
   "id": "289e14f1",
   "metadata": {},
   "outputs": [],
   "source": []
  }
 ],
 "metadata": {
  "kernelspec": {
   "display_name": "Python 3 (ipykernel)",
   "language": "python",
   "name": "python3"
  },
  "language_info": {
   "codemirror_mode": {
    "name": "ipython",
    "version": 3
   },
   "file_extension": ".py",
   "mimetype": "text/x-python",
   "name": "python",
   "nbconvert_exporter": "python",
   "pygments_lexer": "ipython3",
   "version": "3.12.11"
  }
 },
 "nbformat": 4,
 "nbformat_minor": 5
}
