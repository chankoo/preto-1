{
 "cells": [
  {
   "cell_type": "code",
   "execution_count": 1,
   "id": "fbb54372",
   "metadata": {},
   "outputs": [],
   "source": [
    "import pandas as pd\n",
    "import random\n",
    "\n",
    "# ==============================================================================\n",
    "# --- 1. 평가 시스템 관리 (Evaluation System Table) ---\n",
    "# ==============================================================================\n",
    "\n",
    "# 재현성을 위한 시드 설정\n",
    "random.seed(42)\n",
    "\n",
    "# --- 1. 평가 시스템의 기본 데이터 정의 ---\n",
    "evaluation_systems_base_data = [\n",
    "    {'EVAL_SYS_NAME': 'MBO기반 성과평가', 'EVAL_DIRECTION': '하향평가', 'EVAL_KIND': '상대평가', 'EVAL_SCALE': '7점'},\n",
    "    {'EVAL_SYS_NAME': '역량평가', 'EVAL_DIRECTION': '하향평가', 'EVAL_KIND': '절대평가', 'EVAL_SCALE': '5점'},\n",
    "    {'EVAL_SYS_NAME': '리더십 상향평가', 'EVAL_DIRECTION': '상향평가', 'EVAL_KIND': '절대평가', 'EVAL_SCALE': '5점'},\n",
    "    {'EVAL_SYS_NAME': '동료 피드백', 'EVAL_DIRECTION': '동료평가', 'EVAL_KIND': '절대평가', 'EVAL_SCALE': '4점'},\n",
    "    {'EVAL_SYS_NAME': 'OKR 기반 성과평가', 'EVAL_DIRECTION': '하향평가', 'EVAL_KIND': '절대평가', 'EVAL_SCALE': '5점'},\n",
    "    {'EVAL_SYS_NAME': '직무역량 심층평가', 'EVAL_DIRECTION': '하향평가', 'EVAL_KIND': '절대평가', 'EVAL_SCALE': '7점'},\n",
    "    {'EVAL_SYS_NAME': '리더 360도 다면평가', 'EVAL_DIRECTION': '동료평가', 'EVAL_KIND': '절대평가', 'EVAL_SCALE': '5점'},\n",
    "    {'EVAL_SYS_NAME': '연말 성과등급 조정', 'EVAL_DIRECTION': '하향평가', 'EVAL_KIND': '상대평가', 'EVAL_SCALE': '10점'},\n",
    "    {'EVAL_SYS_NAME': '상시 성과 리뷰', 'EVAL_DIRECTION': '하향평가', 'EVAL_KIND': '절대평가', 'EVAL_SCALE': '10점'},\n",
    "    {'EVAL_SYS_NAME': '협업 역량 동료평가', 'EVAL_DIRECTION': '동료평가', 'EVAL_KIND': '절대평가', 'EVAL_SCALE': '5점'}\n",
    "]\n",
    "\n",
    "# --- 2. 초기 DataFrame 생성 ---\n",
    "eval_system_records = []\n",
    "for i, system_data in enumerate(evaluation_systems_base_data, start=1):\n",
    "    record = {\n",
    "        'EVAL_SYS_ID': f'ES{i:03d}',\n",
    "        'EVAL_SYS_NAME': system_data['EVAL_SYS_NAME'],\n",
    "        'EVAL_DIRECTION': system_data['EVAL_DIRECTION'],\n",
    "        'EVAL_KIND': system_data['EVAL_KIND'],\n",
    "        'EVAL_SCALE': system_data['EVAL_SCALE'],\n",
    "        'NUM_QUESTION': random.randint(3, 7)\n",
    "    }\n",
    "    eval_system_records.append(record)\n",
    "\n",
    "# --- 3. 원본 DataFrame (분석용) ---\n",
    "evaluation_system_df = pd.DataFrame(eval_system_records)\n",
    "evaluation_system_df['NUM_QUESTION'] = evaluation_system_df['NUM_QUESTION'].astype(int)\n",
    "\n",
    "# --- 4. Google Sheets용 복사본 생성 및 가공 ---\n",
    "evaluation_system_df_for_gsheet = evaluation_system_df.copy()\n",
    "for col in evaluation_system_df_for_gsheet.columns:\n",
    "    evaluation_system_df_for_gsheet[col] = evaluation_system_df_for_gsheet[col].astype(str)\n",
    "evaluation_system_df_for_gsheet = evaluation_system_df_for_gsheet.replace({'None': '', 'nan': '', 'NaT': ''})"
   ]
  },
  {
   "cell_type": "code",
   "execution_count": null,
   "id": "7652f1a7",
   "metadata": {},
   "outputs": [],
   "source": []
  }
 ],
 "metadata": {
  "kernelspec": {
   "display_name": "Python 3 (ipykernel)",
   "language": "python",
   "name": "python3"
  },
  "language_info": {
   "codemirror_mode": {
    "name": "ipython",
    "version": 3
   },
   "file_extension": ".py",
   "mimetype": "text/x-python",
   "name": "python",
   "nbconvert_exporter": "python",
   "pygments_lexer": "ipython3",
   "version": "3.12.11"
  }
 },
 "nbformat": 4,
 "nbformat_minor": 5
}
