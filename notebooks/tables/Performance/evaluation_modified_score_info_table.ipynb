{
 "cells": [
  {
   "cell_type": "code",
   "execution_count": 1,
   "id": "575b62a5",
   "metadata": {},
   "outputs": [],
   "source": [
    "import pandas as pd\n",
    "import numpy as np\n",
    "import random\n",
    "\n",
    "# --- 1. 사전 준비 ---\n",
    "# 다른 모듈에서 생성된 데이터프레임을 임포트\n",
    "from services.tables.Performance.evaluation_original_score_info_table import evaluation_original_score_df\n",
    "\n",
    "random.seed(42)\n",
    "\n",
    "# --- 2. 초기 DataFrame 생성 ---\n",
    "df = evaluation_original_score_df.copy()\n",
    "grade_to_score_map = {'S': 100, 'A': 85, 'B': 70, 'C': 55, 'D': 40}\n",
    "\n",
    "def convert_to_numeric(score):\n",
    "    numeric_score = grade_to_score_map.get(score)\n",
    "    if numeric_score is not None: return numeric_score\n",
    "    try: return float(score)\n",
    "    except (ValueError, TypeError): return np.nan\n",
    "\n",
    "df['NUMERIC_SCORE'] = df['ORIGINAL_SCORE'].apply(convert_to_numeric)\n",
    "df = df.dropna(subset=['NUMERIC_SCORE'])\n",
    "\n",
    "weights_for_2_evals = [[0.6, 0.4], [0.5, 0.5], [0.4, 0.6]]\n",
    "weights_for_3_evals = [[0.4, 0.3, 0.3], [0.3, 0.4, 0.3], [0.3, 0.3, 0.4]]\n",
    "\n",
    "def calculate_weighted_average(group):\n",
    "    scores = group['NUMERIC_SCORE'].to_numpy()\n",
    "    num_evals = len(scores)\n",
    "    if num_evals == 1: return scores[0]\n",
    "    elif num_evals == 2: return np.dot(scores, random.choice(weights_for_2_evals))\n",
    "    elif num_evals == 3: return np.dot(scores, random.choice(weights_for_3_evals))\n",
    "    else: return group['NUMERIC_SCORE'].mean()\n",
    "\n",
    "modified_scores = df.groupby(['EMP_ID', 'EVAL_TIME']).apply(calculate_weighted_average, include_groups=False)\n",
    "evaluation_modified_score_df = modified_scores.reset_index(name='MODIFIED_SCORE')\n",
    "\n",
    "# --- 3. 원본/Google Sheets용 DataFrame 분리 ---\n",
    "evaluation_modified_score_df['MODIFIED_SCORE'] = pd.to_numeric(evaluation_modified_score_df['MODIFIED_SCORE']).round(2)\n",
    "evaluation_modified_score_df['EVAL_YEAR'] = evaluation_modified_score_df['EVAL_TIME'].str.split('-').str[0] + '년'\n",
    "evaluation_modified_score_df['YEAR_AVERAGE_SCORE'] = evaluation_modified_score_df.groupby(['EMP_ID', 'EVAL_YEAR'])['MODIFIED_SCORE'].transform('mean')\n",
    "evaluation_modified_score_df['YEAR_AVERAGE_SCORE'] = evaluation_modified_score_df['YEAR_AVERAGE_SCORE'].round(2)\n",
    "\n",
    "final_cols = ['EMP_ID', 'EVAL_TIME', 'EVAL_YEAR', 'MODIFIED_SCORE', 'YEAR_AVERAGE_SCORE']\n",
    "evaluation_modified_score_df = evaluation_modified_score_df[final_cols]\n",
    "\n",
    "evaluation_modified_score_df_for_gsheet = evaluation_modified_score_df.copy()\n",
    "for col in evaluation_modified_score_df_for_gsheet.columns:\n",
    "    evaluation_modified_score_df_for_gsheet[col] = evaluation_modified_score_df_for_gsheet[col].astype(str)\n",
    "evaluation_modified_score_df_for_gsheet = evaluation_modified_score_df_for_gsheet.replace({'None': '', 'nan': '', 'NaT': ''})"
   ]
  },
  {
   "cell_type": "code",
   "execution_count": null,
   "id": "0c8b92cc",
   "metadata": {},
   "outputs": [],
   "source": []
  }
 ],
 "metadata": {
  "kernelspec": {
   "display_name": "Python 3 (ipykernel)",
   "language": "python",
   "name": "python3"
  },
  "language_info": {
   "codemirror_mode": {
    "name": "ipython",
    "version": 3
   },
   "file_extension": ".py",
   "mimetype": "text/x-python",
   "name": "python",
   "nbconvert_exporter": "python",
   "pygments_lexer": "ipython3",
   "version": "3.12.11"
  }
 },
 "nbformat": 4,
 "nbformat_minor": 5
}
