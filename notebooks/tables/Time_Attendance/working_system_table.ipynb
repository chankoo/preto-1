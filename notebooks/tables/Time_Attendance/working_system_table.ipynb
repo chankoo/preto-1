{
 "cells": [
  {
   "cell_type": "code",
   "execution_count": 1,
   "id": "df9ee05c",
   "metadata": {},
   "outputs": [],
   "source": [
    "import pandas as pd\n",
    "\n",
    "# ==============================================================================\n",
    "# --- 1. 근무 시스템 관리 (Working System Table) ---\n",
    "# ==============================================================================\n",
    "\n",
    "# --- 1. 기본 데이터 정의 ---\n",
    "working_system_names = [\n",
    "    '일반 근무',\n",
    "    '4조 3교대',\n",
    "    '4조 2교대',\n",
    "    '3조 2교대',\n",
    "    '2조 2교대'\n",
    "]\n",
    "\n",
    "# --- 2. 초기 DataFrame 생성 ---\n",
    "work_sys_records = []\n",
    "for i, name in enumerate(working_system_names, start=1):\n",
    "    record = {\n",
    "        'WORK_SYS_ID': f'WS{i:03d}',\n",
    "        'WORK_SYS_NAME': name\n",
    "    }\n",
    "    work_sys_records.append(record)\n",
    "\n",
    "# --- 3. 원본 DataFrame (분석용) ---\n",
    "work_sys_df = pd.DataFrame(work_sys_records)\n",
    "\n",
    "# --- 4. Google Sheets용 복사본 생성 및 가공 ---\n",
    "work_sys_df_for_gsheet = work_sys_df.copy()\n",
    "for col in work_sys_df_for_gsheet.columns:\n",
    "    work_sys_df_for_gsheet[col] = work_sys_df_for_gsheet[col].astype(str)\n",
    "work_sys_df_for_gsheet = work_sys_df_for_gsheet.replace({'None': '', 'nan': '', 'NaT': ''})"
   ]
  },
  {
   "cell_type": "code",
   "execution_count": null,
   "id": "b45d96cc",
   "metadata": {},
   "outputs": [],
   "source": []
  }
 ],
 "metadata": {
  "kernelspec": {
   "display_name": "Python 3 (ipykernel)",
   "language": "python",
   "name": "python3"
  },
  "language_info": {
   "codemirror_mode": {
    "name": "ipython",
    "version": 3
   },
   "file_extension": ".py",
   "mimetype": "text/x-python",
   "name": "python",
   "nbconvert_exporter": "python",
   "pygments_lexer": "ipython3",
   "version": "3.12.11"
  }
 },
 "nbformat": 4,
 "nbformat_minor": 5
}
