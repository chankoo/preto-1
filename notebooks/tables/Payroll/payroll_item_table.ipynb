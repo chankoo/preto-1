{
 "cells": [
  {
   "cell_type": "code",
   "execution_count": 1,
   "id": "5632587b",
   "metadata": {},
   "outputs": [],
   "source": [
    "import pandas as pd\n",
    "\n",
    "# ==============================================================================\n",
    "# --- 1. 급여 항목 관리(Payroll Item Table) ---\n",
    "# ==============================================================================\n",
    "\n",
    "# --- 1. 각 급여 항목의 속성 정의 ---\n",
    "payroll_items_base_data = [\n",
    "    {'PAYROLL_ITEM_NAME': '기본급', 'PAYMENT_TYPE': '1개월', 'PAYROLL_ITEM_CATEGORY': '기본급여', 'TAX_YN': 'Y'},\n",
    "    {'PAYROLL_ITEM_NAME': '식대', 'PAYMENT_TYPE': '1개월', 'PAYROLL_ITEM_CATEGORY': '정기수당', 'TAX_YN': 'N'},\n",
    "    {'PAYROLL_ITEM_NAME': '시간외근로수당', 'PAYMENT_TYPE': '1개월', 'PAYROLL_ITEM_CATEGORY': '정기수당', 'TAX_YN': 'Y'},\n",
    "    {'PAYROLL_ITEM_NAME': '직책수당', 'PAYMENT_TYPE': '1개월', 'PAYROLL_ITEM_CATEGORY': '정기수당', 'TAX_YN': 'Y'},\n",
    "    {'PAYROLL_ITEM_NAME': '연구수당', 'PAYMENT_TYPE': '1개월', 'PAYROLL_ITEM_CATEGORY': '정기수당', 'TAX_YN': 'N'},\n",
    "    {'PAYROLL_ITEM_NAME': '육아수당', 'PAYMENT_TYPE': '1개월', 'PAYROLL_ITEM_CATEGORY': '정기수당', 'TAX_YN': 'N'},\n",
    "    {'PAYROLL_ITEM_NAME': '기타수당', 'PAYMENT_TYPE': '1개월', 'PAYROLL_ITEM_CATEGORY': '정기수당', 'TAX_YN': 'Y'},\n",
    "    {'PAYROLL_ITEM_NAME': '고정상여', 'PAYMENT_TYPE': '2개월', 'PAYROLL_ITEM_CATEGORY': '기본급여', 'TAX_YN': 'Y'},\n",
    "    {'PAYROLL_ITEM_NAME': '인센티브', 'PAYMENT_TYPE': '변동', 'PAYROLL_ITEM_CATEGORY': '변동급여', 'TAX_YN': 'Y'},\n",
    "    {'PAYROLL_ITEM_NAME': '기타성과급', 'PAYMENT_TYPE': '변동', 'PAYROLL_ITEM_CATEGORY': '변동급여', 'TAX_YN': 'Y'}\n",
    "]\n",
    "\n",
    "# --- 2. 초기 DataFrame 생성 ---\n",
    "payroll_item_records = []\n",
    "for i, item_data in enumerate(payroll_items_base_data, start=1):\n",
    "    record = {\n",
    "        'PAYROLL_ITEM_ID': f'PI{i:03d}',\n",
    "        'PAYROLL_ITEM_NAME': item_data['PAYROLL_ITEM_NAME'],\n",
    "        'PAYMENT_TYPE': item_data['PAYMENT_TYPE'],\n",
    "        'PAYROLL_ITEM_CATEGORY': item_data['PAYROLL_ITEM_CATEGORY'],\n",
    "        'TAX_YN': item_data['TAX_YN']\n",
    "    }\n",
    "    payroll_item_records.append(record)\n",
    "\n",
    "# --- 3. 원본/Google Sheets용 DataFrame 분리 ---\n",
    "payroll_item_df = pd.DataFrame(payroll_item_records)\n",
    "final_column_order = [\n",
    "    'PAYROLL_ITEM_ID', 'PAYROLL_ITEM_NAME', 'PAYMENT_TYPE', \n",
    "    'PAYROLL_ITEM_CATEGORY', 'TAX_YN'\n",
    "]\n",
    "payroll_item_df = payroll_item_df[final_column_order]\n",
    "\n",
    "payroll_item_df_for_gsheet = payroll_item_df.copy()\n",
    "for col in payroll_item_df_for_gsheet.columns:\n",
    "    payroll_item_df_for_gsheet[col] = payroll_item_df_for_gsheet[col].astype(str)\n",
    "payroll_item_df_for_gsheet = payroll_item_df_for_gsheet.replace({'None': '', 'nan': '', 'NaT': ''})"
   ]
  },
  {
   "cell_type": "code",
   "execution_count": null,
   "id": "51e7e98c",
   "metadata": {},
   "outputs": [],
   "source": []
  }
 ],
 "metadata": {
  "kernelspec": {
   "display_name": "Python 3 (ipykernel)",
   "language": "python",
   "name": "python3"
  }
 },
 "nbformat": 4,
 "nbformat_minor": 5
}
