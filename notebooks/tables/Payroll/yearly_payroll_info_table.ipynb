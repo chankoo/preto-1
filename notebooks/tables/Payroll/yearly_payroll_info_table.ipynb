{
 "cells": [
  {
   "cell_type": "code",
   "execution_count": 1,
   "id": "05299727",
   "metadata": {},
   "outputs": [
    {
     "name": "stderr",
     "output_type": "stream",
     "text": [
      "/app/src/services/tables/Time_Attendance/detailed_working_info_table.py:79: FutureWarning: Downcasting object dtype arrays on .fillna, .ffill, .bfill is deprecated and will change in a future version. Call result.infer_objects(copy=False) instead. To opt-in to the future behavior, set `pd.set_option('future.no_silent_downcasting', True)`\n",
      "  df['IS_VACATION'] = df['IS_VACATION'].fillna(False).astype(bool)\n"
     ]
    }
   ],
   "source": [
    "import pandas as pd\n",
    "import numpy as np\n",
    "import datetime\n",
    "from datetime import date\n",
    "\n",
    "# --- 1. 사전 준비 ---\n",
    "# 다른 모듈에서 생성된 데이터프레임을 임포트\n",
    "from services.tables.HR_Core.basic_info_table import emp_df\n",
    "from services.tables.Payroll.detailed_monthly_payroll_info_table import detailed_monthly_payroll_df\n",
    "\n",
    "# --- 2. 데이터 준비 및 가공 ---\n",
    "df = detailed_monthly_payroll_df.copy()\n",
    "df['PAY_YEAR'] = df['PAY_PERIOD'].str[:4]\n",
    "\n",
    "# 데이터 집계\n",
    "yearly_summary_pivot = df.pivot_table(\n",
    "    index=['EMP_ID', 'PAY_YEAR'], columns='PAYROLL_ITEM_CATEGORY',\n",
    "    values='PAY_AMOUNT', aggfunc='sum', fill_value=0\n",
    ").reset_index()\n",
    "yearly_summary_pivot.rename(columns={\n",
    "    '기본급여': 'BASIC_PAY', '정기수당': 'REGULAR_ALLOWANCE', '변동급여': 'VARIABLE_PAY'\n",
    "}, inplace=True)\n",
    "expected_cols = ['BASIC_PAY', 'REGULAR_ALLOWANCE', 'VARIABLE_PAY']\n",
    "for col in expected_cols:\n",
    "    if col not in yearly_summary_pivot.columns:\n",
    "        yearly_summary_pivot[col] = 0\n",
    "\n",
    "# 추가 분석 컬럼 생성\n",
    "yearly_payroll_df = yearly_summary_pivot.copy()\n",
    "yearly_payroll_df['TOTAL_PAY'] = yearly_payroll_df['BASIC_PAY'] + yearly_payroll_df['REGULAR_ALLOWANCE'] + yearly_payroll_df['VARIABLE_PAY']\n",
    "yearly_payroll_df['VARIABLE_PAY_RATIO'] = np.where(\n",
    "    yearly_payroll_df['TOTAL_PAY'] > 0,\n",
    "    (yearly_payroll_df['VARIABLE_PAY'] / yearly_payroll_df['TOTAL_PAY']) * 100, 0\n",
    ")\n",
    "\n",
    "# --- 3. 연간 근무일수 및 정규화된 연봉/성장률 계산 ---\n",
    "yearly_payroll_df['PAY_YEAR_INT'] = yearly_payroll_df['PAY_YEAR'].astype(int)\n",
    "merged_for_days = pd.merge(yearly_payroll_df, emp_df[['EMP_ID', 'IN_DATE', 'OUT_DATE']], on='EMP_ID')\n",
    "today = datetime.datetime.now().date()\n",
    "\n",
    "def calculate_days_worked_in_year(row):\n",
    "    year = row['PAY_YEAR_INT']\n",
    "    year_start = pd.Timestamp(date(year, 1, 1))\n",
    "    year_end = min(pd.Timestamp(date(year, 12, 31)), pd.to_datetime(today))\n",
    "\n",
    "    start_date = max(row['IN_DATE'], year_start)\n",
    "    end_date = min(row['OUT_DATE'] if pd.notna(row['OUT_DATE']) else pd.Timestamp.max, year_end)\n",
    "\n",
    "    if start_date > end_date: return 0\n",
    "    return (end_date - start_date).days + 1\n",
    "\n",
    "merged_for_days['DAYS_WORKED_IN_YEAR'] = merged_for_days.apply(calculate_days_worked_in_year, axis=1)\n",
    "\n",
    "merged_for_days['NORMALIZED_TOTAL_PAY'] = np.where(\n",
    "    merged_for_days['DAYS_WORKED_IN_YEAR'] > 0,\n",
    "    merged_for_days['TOTAL_PAY'] * (365 / merged_for_days['DAYS_WORKED_IN_YEAR']),\n",
    "    0\n",
    ")\n",
    "yearly_payroll_df = merged_for_days.copy()\n",
    "\n",
    "yearly_payroll_df = yearly_payroll_df.sort_values(by=['EMP_ID', 'PAY_YEAR'])\n",
    "yearly_payroll_df['YOY_GROWTH'] = yearly_payroll_df.groupby('EMP_ID')['NORMALIZED_TOTAL_PAY'].pct_change() * 100\n",
    "\n",
    "# --- 4. 원본/Google Sheets용 DataFrame 분리 ---\n",
    "final_cols = [\n",
    "    'EMP_ID', 'PAY_YEAR', 'BASIC_PAY', 'REGULAR_ALLOWANCE', 'VARIABLE_PAY',\n",
    "    'TOTAL_PAY', 'VARIABLE_PAY_RATIO', 'YOY_GROWTH'\n",
    "]\n",
    "yearly_payroll_df = yearly_payroll_df[final_cols]\n",
    "yearly_payroll_df = yearly_payroll_df.fillna(0).round(2)\n",
    "\n",
    "yearly_payroll_df_for_gsheet = yearly_payroll_df.copy()\n",
    "for col in yearly_payroll_df_for_gsheet.columns:\n",
    "    yearly_payroll_df_for_gsheet[col] = yearly_payroll_df_for_gsheet[col].astype(str)\n",
    "yearly_payroll_df_for_gsheet = yearly_payroll_df_for_gsheet.replace({'None': '', 'nan': '', 'NaT': ''})"
   ]
  },
  {
   "cell_type": "code",
   "execution_count": null,
   "id": "9f186ef4",
   "metadata": {},
   "outputs": [],
   "source": []
  }
 ],
 "metadata": {
  "kernelspec": {
   "display_name": "Python 3 (ipykernel)",
   "language": "python",
   "name": "python3"
  },
  "language_info": {
   "codemirror_mode": {
    "name": "ipython",
    "version": 3
   },
   "file_extension": ".py",
   "mimetype": "text/x-python",
   "name": "python",
   "nbconvert_exporter": "python",
   "pygments_lexer": "ipython3",
   "version": "3.12.11"
  }
 },
 "nbformat": 4,
 "nbformat_minor": 5
}
