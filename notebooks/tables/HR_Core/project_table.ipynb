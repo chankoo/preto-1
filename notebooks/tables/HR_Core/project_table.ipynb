{
 "cells": [
  {
   "cell_type": "code",
   "execution_count": 1,
   "id": "19b9fbaa",
   "metadata": {},
   "outputs": [],
   "source": [
    "import pandas as pd\n",
    "import numpy as np\n",
    "import datetime\n",
    "from datetime import timedelta\n",
    "import random\n",
    "\n",
    "# ==============================================================================\n",
    "# --- 4. PROJECT TABLE (프로젝트관리) ---\n",
    "# ==============================================================================\n",
    "\n",
    "# --- 1. 기본 정보 및 헬퍼 함수 정의 ---\n",
    "def random_date_for_pjt(start_year=2020, end_year=2024):\n",
    "    start = datetime.datetime(start_year, 1, 1)\n",
    "    end = datetime.datetime(end_year, 12, 31)\n",
    "    return (start + timedelta(days=random.randint(0, (end - start).days))).date()\n",
    "\n",
    "# 프로젝트 구성\n",
    "projects = [\n",
    "    # Major Categories\n",
    "    {\"PJT_ID\": \"PJT001\", \"PJT_NAME\": \"Global Expansion\", \"PJT_LEVEL\": \"Major-Category\", \"UP_PJT_ID\": None},\n",
    "    {\"PJT_ID\": \"PJT002\", \"PJT_NAME\": \"Product Development\", \"PJT_LEVEL\": \"Major-Category\", \"UP_PJT_ID\": None},\n",
    "    {\"PJT_ID\": \"PJT003\", \"PJT_NAME\": \"Digital Marketing\", \"PJT_LEVEL\": \"Major-Category\", \"UP_PJT_ID\": None},\n",
    "    {\"PJT_ID\": \"PJT004\", \"PJT_NAME\": \"Customer Experience\", \"PJT_LEVEL\": \"Major-Category\", \"UP_PJT_ID\": None},\n",
    "    {\"PJT_ID\": \"PJT005\", \"PJT_NAME\": \"Sustainability Initiative\", \"PJT_LEVEL\": \"Major-Category\", \"UP_PJT_ID\": None},\n",
    "    # Few Sub-Categories\n",
    "    {\"PJT_ID\": \"PJT006\", \"PJT_NAME\": \"Global Expansion / Korea Entry\", \"PJT_LEVEL\": \"Sub-Category\", \"UP_PJT_ID\": \"PJT001\"},\n",
    "    {\"PJT_ID\": \"PJT007\", \"PJT_NAME\": \"Product Development / Backend Overhaul\", \"PJT_LEVEL\": \"Sub-Category\", \"UP_PJT_ID\": \"PJT002\"},\n",
    "]\n",
    "\n",
    "# --- 2. 초기 DataFrame 생성 ---\n",
    "for pjt in projects:\n",
    "    pjt[\"PJT_START_DATE\"] = random_date_for_pjt()\n",
    "    if random.random() < 0.5:\n",
    "        pjt[\"PJT_END_DATE\"] = pjt[\"PJT_START_DATE\"] + timedelta(days=random.randint(30, 365))\n",
    "        pjt[\"PJT_USE_YN\"] = \"N\"\n",
    "    else:\n",
    "        pjt[\"PJT_END_DATE\"] = None\n",
    "        pjt[\"PJT_USE_YN\"] = \"Y\"\n",
    "        \n",
    "pjt_df = pd.DataFrame(projects)\n",
    "pjt_df['UP_PJT_ID'] = pjt_df['UP_PJT_ID'].replace({None: np.nan})\n",
    "\n",
    "# --- 3. 원본 DataFrame (분석용) ---\n",
    "pjt_df['PJT_START_DATE'] = pd.to_datetime(pjt_df['PJT_START_DATE'])\n",
    "pjt_df['PJT_END_DATE'] = pd.to_datetime(pjt_df['PJT_END_DATE'], errors='coerce')\n",
    "\n",
    "# --- 4. Google Sheets용 복사본 생성 및 가공 ---\n",
    "pjt_df_for_gsheet = pjt_df.copy()\n",
    "pjt_df_for_gsheet['PJT_START_DATE'] = pjt_df_for_gsheet['PJT_START_DATE'].dt.strftime('%Y-%m-%d')\n",
    "pjt_df_for_gsheet['PJT_END_DATE'] = pjt_df_for_gsheet['PJT_END_DATE'].dt.strftime('%Y-%m-%d')\n",
    "for col in pjt_df_for_gsheet.columns:\n",
    "    pjt_df_for_gsheet[col] = pjt_df_for_gsheet[col].astype(str)\n",
    "pjt_df_for_gsheet = pjt_df_for_gsheet.replace({'None': '', 'nan': '', 'NaT': ''})"
   ]
  },
  {
   "cell_type": "code",
   "execution_count": null,
   "id": "0035a552",
   "metadata": {},
   "outputs": [],
   "source": []
  }
 ],
 "metadata": {
  "kernelspec": {
   "display_name": "Python 3 (ipykernel)",
   "language": "python",
   "name": "python3"
  },
  "language_info": {
   "codemirror_mode": {
    "name": "ipython",
    "version": 3
   },
   "file_extension": ".py",
   "mimetype": "text/x-python",
   "name": "python",
   "nbconvert_exporter": "python",
   "pygments_lexer": "ipython3",
   "version": "3.12.11"
  }
 },
 "nbformat": 4,
 "nbformat_minor": 5
}
