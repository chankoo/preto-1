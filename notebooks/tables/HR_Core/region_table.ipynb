{
 "cells": [
  {
   "cell_type": "code",
   "execution_count": 1,
   "id": "4ff308b7",
   "metadata": {},
   "outputs": [],
   "source": [
    "import pandas as pd\n",
    "\n",
    "# ==============================================================================\n",
    "# --- 9. REGION TABLE (지역관리) ---\n",
    "# ==============================================================================\n",
    "\n",
    "# --- 1. 기본 데이터 정의 ---\n",
    "# 국내 지역 (광역시 및 도 기준)\n",
    "domestic_regions = [\n",
    "    \"서울특별시\", \"부산광역시\", \"대구광역시\", \"인천광역시\", \"광주광역시\",\n",
    "    \"대전광역시\", \"울산광역시\", \"세종특별자치시\", \"경기도\", \"강원도\",\n",
    "    \"충청북도\", \"충청남도\", \"전라북도\", \"전라남도\", \"경상북도\",\n",
    "    \"경상남도\", \"제주특별자치도\"\n",
    "]\n",
    "\n",
    "# 해외 국가 예시\n",
    "foreign_regions = [\n",
    "    \"United States\", \"Mexico\", \"Germany\", \"France\",\n",
    "    \"Hungary\", \"China\", \"Vietnam\", \"Philippines\"\n",
    "]\n",
    "\n",
    "# --- 2. 초기 DataFrame 생성 ---\n",
    "regions = []\n",
    "reg_counter = 1\n",
    "\n",
    "for region in domestic_regions:\n",
    "    regions.append({\n",
    "        \"REG_ID\": f\"R{reg_counter:03d}\",\n",
    "        \"REG_NAME\": region,\n",
    "        \"DOMESTIC_YN\": \"Y\"\n",
    "    })\n",
    "    reg_counter += 1\n",
    "\n",
    "for region in foreign_regions:\n",
    "    regions.append({\n",
    "        \"REG_ID\": f\"R{reg_counter:03d}\",\n",
    "        \"REG_NAME\": region,\n",
    "        \"DOMESTIC_YN\": \"N\"\n",
    "    })\n",
    "    reg_counter += 1\n",
    "\n",
    "# --- 3. 원본 DataFrame (분석용) ---\n",
    "region_df = pd.DataFrame(regions)\n",
    "\n",
    "# --- 4. Google Sheets용 복사본 생성 및 가공 ---\n",
    "region_df_for_gsheet = region_df.copy()\n",
    "for col in region_df_for_gsheet.columns:\n",
    "    region_df_for_gsheet[col] = region_df_for_gsheet[col].astype(str)\n",
    "region_df_for_gsheet = region_df_for_gsheet.replace({'None': '', 'nan': '', 'NaT': ''})"
   ]
  },
  {
   "cell_type": "code",
   "execution_count": null,
   "id": "7e0c5982",
   "metadata": {},
   "outputs": [],
   "source": []
  }
 ],
 "metadata": {
  "kernelspec": {
   "display_name": "Python 3 (ipykernel)",
   "language": "python",
   "name": "python3"
  },
  "language_info": {
   "codemirror_mode": {
    "name": "ipython",
    "version": 3
   },
   "file_extension": ".py",
   "mimetype": "text/x-python",
   "name": "python",
   "nbconvert_exporter": "python",
   "pygments_lexer": "ipython3",
   "version": "3.12.11"
  }
 },
 "nbformat": 4,
 "nbformat_minor": 5
}
