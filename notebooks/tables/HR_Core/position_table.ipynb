{
 "cells": [
  {
   "cell_type": "code",
   "execution_count": 1,
   "id": "f588c050",
   "metadata": {},
   "outputs": [],
   "source": [
    "import pandas as pd\n",
    "\n",
    "# ==============================================================================\n",
    "# --- 2. POSITION TABLE (직위/직급관리) ---\n",
    "# ==============================================================================\n",
    "\n",
    "# --- 1. 기본 데이터 정의 ---\n",
    "position_data = [\n",
    "    {\"POSITION_ID\": \"POS001\", \"POSITION_NAME\": \"Staff\", \"GRADES\": [(\"G1\", \"Staff Grade 1\"), (\"G2\", \"Staff Grade 2\")]},\n",
    "    {\"POSITION_ID\": \"POS002\", \"POSITION_NAME\": \"Manager\", \"GRADES\": [(\"G3\", \"Manager Grade 1\"), (\"G4\", \"Manager Grade 2\")]},\n",
    "    {\"POSITION_ID\": \"POS003\", \"POSITION_NAME\": \"Director\", \"GRADES\": [(\"G5\", \"Director Grade 1\"), (\"G6\", \"Director Grade 2\")]},\n",
    "    {\"POSITION_ID\": \"POS004\", \"POSITION_NAME\": \"C-Level\", \"GRADES\": [(\"G7\", \"Executive Grade\")]}\n",
    "]\n",
    "\n",
    "# --- 2. 초기 DataFrame 생성 ---\n",
    "position_rows = []\n",
    "for pos in position_data:\n",
    "    for grade_id, grade_name in pos[\"GRADES\"]:\n",
    "        row = {\n",
    "            \"POSITION_ID\": pos[\"POSITION_ID\"],\n",
    "            \"GRADE_ID\": grade_id,\n",
    "            \"POSITION_NAME\": pos[\"POSITION_NAME\"],\n",
    "            \"GRADE_NAME\": grade_name,\n",
    "            \"POSITION_CONN\": f\"{pos['POSITION_NAME']} - {grade_id}\"\n",
    "        }\n",
    "        position_rows.append(row)\n",
    "\n",
    "# --- 3. 원본 DataFrame (분석용) ---\n",
    "position_df = pd.DataFrame(position_rows)\n",
    "\n",
    "# --- 4. Google Sheets용 복사본 생성 및 가공 ---\n",
    "position_df_for_gsheet = position_df.copy()\n",
    "for col in position_df_for_gsheet.columns:\n",
    "    position_df_for_gsheet[col] = position_df_for_gsheet[col].astype(str)\n",
    "position_df_for_gsheet = position_df_for_gsheet.replace({'None': '', 'nan': '', 'NaT': ''})\n",
    "\n",
    "# --- 5. 헬퍼 데이터 생성 (다른 테이블/분석에서 사용) ---\n",
    "position_order = ['Staff', 'Manager', 'Director', 'C-Level']\n",
    "grade_order = ['G1', 'G2', 'G3', 'G4', 'G5', 'G6', 'G7']"
   ]
  },
  {
   "cell_type": "code",
   "execution_count": null,
   "id": "9c75ef2d",
   "metadata": {},
   "outputs": [],
   "source": []
  }
 ],
 "metadata": {
  "kernelspec": {
   "display_name": "Python 3 (ipykernel)",
   "language": "python",
   "name": "python3"
  }
 },
 "nbformat": 4,
 "nbformat_minor": 5
}
