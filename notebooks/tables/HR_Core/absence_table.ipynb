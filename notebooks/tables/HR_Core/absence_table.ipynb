{
 "cells": [
  {
   "cell_type": "code",
   "execution_count": 2,
   "id": "73b7f32e",
   "metadata": {},
   "outputs": [],
   "source": [
    "import pandas as pd\n",
    "\n",
    "# ==============================================================================\n",
    "# --- 5. ABSENCE TABLE (휴직관리) ---\n",
    "# ==============================================================================\n",
    "\n",
    "# --- 1. 기본 데이터 정의 ---\n",
    "absence_data = [\n",
    "    {\"ABSENCE_ID\": \"ABS001\", \"ABSENCE_NAME\": \"Parental Leave\", \"ABSENCE_PAY_MIN\": 0.0},\n",
    "    {\"ABSENCE_ID\": \"ABS002\", \"ABSENCE_NAME\": \"Hospital Leave\", \"ABSENCE_PAY_MIN\": 0.0},\n",
    "    {\"ABSENCE_ID\": \"ABS003\", \"ABSENCE_NAME\": \"Educational Leave\", \"ABSENCE_PAY_MIN\": 0.3},\n",
    "    {\"ABSENCE_ID\": \"ABS004\", \"ABSENCE_NAME\": \"General Leave\", \"ABSENCE_PAY_MIN\": 0.0},\n",
    "]\n",
    "\n",
    "# --- 2. 원본 DataFrame (분석용) ---\n",
    "absence_df = pd.DataFrame(absence_data)\n",
    "\n",
    "# --- 3. Google Sheets용 복사본 생성 및 가공 ---\n",
    "absence_df_for_gsheet = absence_df.copy()\n",
    "for col in absence_df_for_gsheet.columns:\n",
    "    absence_df_for_gsheet[col] = absence_df_for_gsheet[col].astype(str)\n",
    "absence_df_for_gsheet = absence_df_for_gsheet.replace({'None': '', 'nan': '', 'NaT': ''})"
   ]
  },
  {
   "cell_type": "code",
   "execution_count": null,
   "id": "2e0c3ed1",
   "metadata": {},
   "outputs": [],
   "source": []
  }
 ],
 "metadata": {
  "kernelspec": {
   "display_name": "Python 3 (ipykernel)",
   "language": "python",
   "name": "python3"
  },
  "language_info": {
   "codemirror_mode": {
    "name": "ipython",
    "version": 3
   },
   "file_extension": ".py",
   "mimetype": "text/x-python",
   "name": "python",
   "nbconvert_exporter": "python",
   "pygments_lexer": "ipython3",
   "version": "3.12.11"
  }
 },
 "nbformat": 4,
 "nbformat_minor": 5
}
